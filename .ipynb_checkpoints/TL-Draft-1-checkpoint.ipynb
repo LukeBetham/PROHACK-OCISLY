{
 "cells": [
  {
   "cell_type": "markdown",
   "metadata": {},
   "source": [
    "# Time Series modelling - y only - calculating rmse"
   ]
  },
  {
   "cell_type": "code",
   "execution_count": 110,
   "metadata": {
    "ExecuteTime": {
     "end_time": "2020-06-19T12:04:45.336210Z",
     "start_time": "2020-06-19T12:04:45.320980Z"
    }
   },
   "outputs": [],
   "source": [
    "import pandas as pd\n",
    "import numpy as np\n",
    "\n",
    "# ^^^ pyforest auto-imports - don't write above this line\n",
    "\n",
    "\n",
    "from sklearn.model_selection import TimeSeriesSplit\n",
    "from scipy import stats\n",
    "import statsmodels.api as sm\n",
    "from sklearn.metrics import mean_squared_error\n"
   ]
  },
  {
   "cell_type": "code",
   "execution_count": 111,
   "metadata": {
    "ExecuteTime": {
     "end_time": "2020-06-19T12:04:45.862067Z",
     "start_time": "2020-06-19T12:04:45.720292Z"
    }
   },
   "outputs": [
    {
     "name": "stderr",
     "output_type": "stream",
     "text": [
      "/Users/Tiffany/opt/anaconda3/lib/python3.7/site-packages/ipykernel_launcher.py:9: FutureWarning: Sorting because non-concatenation axis is not aligned. A future version\n",
      "of pandas will change to not sort by default.\n",
      "\n",
      "To accept the future behavior, pass 'sort=False'.\n",
      "\n",
      "To retain the current behavior and silence the warning, pass 'sort=True'.\n",
      "\n",
      "  if __name__ == '__main__':\n"
     ]
    }
   ],
   "source": [
    "#Loading in combined train and test set\n",
    "\n",
    "df = pd.read_csv('train.csv')\n",
    "df_test = pd.read_csv('test.csv')\n",
    "\n",
    "df[\"train_test\"] = 'train'\n",
    "df_test[\"train_test\"] = \"test\"\n",
    "\n",
    "df_combined = pd.concat([df,df_test])"
   ]
  },
  {
   "cell_type": "code",
   "execution_count": 112,
   "metadata": {
    "ExecuteTime": {
     "end_time": "2020-06-19T12:05:00.738024Z",
     "start_time": "2020-06-19T12:04:48.303589Z"
    }
   },
   "outputs": [],
   "source": [
    "#Linear interpolation on all features\n",
    "\n",
    "def interpolator(df):\n",
    "    for g in df.galaxy.unique():\n",
    "        #splitting out the individual galaxies\n",
    "        df_temp = df[df['galaxy']==g].copy()\n",
    "        df = df[~(df['galaxy']==g)]\n",
    "        #filling the Nans (first with interpolation and then backfilling if missing for start)\n",
    "        df_temp.sort_values(\"galactic year\",inplace=True)\n",
    "        df_temp.interpolate(method='linear',inplace=True)\n",
    "        df_temp.fillna(method ='bfill',inplace=True)\n",
    "        df_temp.fillna(method ='ffill',inplace=True)\n",
    "        #adding back to dataframe\n",
    "        df = pd.concat([df,df_temp])\n",
    "    #filling the Nans for any which didnt have anything to fill at all\n",
    "    df.fillna(df.mean(),inplace=True)\n",
    "    return df\n",
    "\n",
    "df_combined = interpolator(df_combined)\n",
    "#df_combined = pd.get_dummies(df_combined, columns=['galaxy'])\n",
    "df = df_combined[df_combined[\"train_test\"]=='train'].copy()\n",
    "df_test = df_combined[df_combined[\"train_test\"]=='test'].copy()\n",
    "df.drop('train_test',axis=1,inplace=True)\n",
    "df_test.drop('train_test',axis=1,inplace=True)\n"
   ]
  },
  {
   "cell_type": "code",
   "execution_count": 113,
   "metadata": {
    "ExecuteTime": {
     "end_time": "2020-06-19T12:05:00.850033Z",
     "start_time": "2020-06-19T12:05:00.740224Z"
    }
   },
   "outputs": [
    {
     "data": {
      "text/html": [
       "<div>\n",
       "<style scoped>\n",
       "    .dataframe tbody tr th:only-of-type {\n",
       "        vertical-align: middle;\n",
       "    }\n",
       "\n",
       "    .dataframe tbody tr th {\n",
       "        vertical-align: top;\n",
       "    }\n",
       "\n",
       "    .dataframe thead th {\n",
       "        text-align: right;\n",
       "    }\n",
       "</style>\n",
       "<table border=\"1\" class=\"dataframe\">\n",
       "  <thead>\n",
       "    <tr style=\"text-align: right;\">\n",
       "      <th></th>\n",
       "      <th>Adjusted net savings</th>\n",
       "      <th>Adolescent birth rate (births per 1,000 female creatures ages 15-19)</th>\n",
       "      <th>Creature Immunodeficiency Disease prevalence, adult (% ages 15-49), total</th>\n",
       "      <th>Current health expenditure (% of GGP)</th>\n",
       "      <th>Domestic credit provided by financial sector (% of GGP)</th>\n",
       "      <th>Education Index</th>\n",
       "      <th>Employment in agriculture (% of total employment)</th>\n",
       "      <th>Employment in services (% of total employment)</th>\n",
       "      <th>Employment to population ratio (% ages 15 and older)</th>\n",
       "      <th>Estimated gross galactic income per capita, female</th>\n",
       "      <th>...</th>\n",
       "      <th>Vulnerable employment (% of total employment)</th>\n",
       "      <th>Young age (0-14) dependency ratio (per 100 creatures ages 15-64)</th>\n",
       "      <th>Youth unemployment rate (female to male ratio)</th>\n",
       "      <th>existence expectancy at birth</th>\n",
       "      <th>existence expectancy index</th>\n",
       "      <th>galactic year</th>\n",
       "      <th>galaxy</th>\n",
       "      <th>y</th>\n",
       "      <th>galactic year 1</th>\n",
       "      <th>date</th>\n",
       "    </tr>\n",
       "  </thead>\n",
       "  <tbody>\n",
       "    <tr>\n",
       "      <td>0</td>\n",
       "      <td>43.391708</td>\n",
       "      <td>174.617899</td>\n",
       "      <td>6.313144</td>\n",
       "      <td>6.248891</td>\n",
       "      <td>75.604799</td>\n",
       "      <td>0.526375</td>\n",
       "      <td>96.827657</td>\n",
       "      <td>53.392606</td>\n",
       "      <td>76.506783</td>\n",
       "      <td>16498.415777</td>\n",
       "      <td>...</td>\n",
       "      <td>91.911151</td>\n",
       "      <td>98.216072</td>\n",
       "      <td>2.184798</td>\n",
       "      <td>63.125200</td>\n",
       "      <td>0.628657</td>\n",
       "      <td>990025</td>\n",
       "      <td>Large Magellanic Cloud (LMC)</td>\n",
       "      <td>0.052590</td>\n",
       "      <td>19800101</td>\n",
       "      <td>1980-01-01</td>\n",
       "    </tr>\n",
       "    <tr>\n",
       "      <td>194</td>\n",
       "      <td>43.391708</td>\n",
       "      <td>165.945907</td>\n",
       "      <td>6.313144</td>\n",
       "      <td>6.248891</td>\n",
       "      <td>73.837393</td>\n",
       "      <td>0.526375</td>\n",
       "      <td>96.827657</td>\n",
       "      <td>53.392606</td>\n",
       "      <td>76.506783</td>\n",
       "      <td>16498.415777</td>\n",
       "      <td>...</td>\n",
       "      <td>91.911151</td>\n",
       "      <td>95.964868</td>\n",
       "      <td>2.184798</td>\n",
       "      <td>62.389059</td>\n",
       "      <td>0.627245</td>\n",
       "      <td>991020</td>\n",
       "      <td>Large Magellanic Cloud (LMC)</td>\n",
       "      <td>0.052115</td>\n",
       "      <td>19820101</td>\n",
       "      <td>1982-01-01</td>\n",
       "    </tr>\n",
       "    <tr>\n",
       "      <td>410</td>\n",
       "      <td>43.391708</td>\n",
       "      <td>157.273915</td>\n",
       "      <td>6.313144</td>\n",
       "      <td>6.248891</td>\n",
       "      <td>72.069987</td>\n",
       "      <td>0.526375</td>\n",
       "      <td>95.022335</td>\n",
       "      <td>50.937661</td>\n",
       "      <td>76.302787</td>\n",
       "      <td>16498.415777</td>\n",
       "      <td>...</td>\n",
       "      <td>93.217778</td>\n",
       "      <td>93.713664</td>\n",
       "      <td>2.114685</td>\n",
       "      <td>68.794245</td>\n",
       "      <td>0.662135</td>\n",
       "      <td>992016</td>\n",
       "      <td>Large Magellanic Cloud (LMC)</td>\n",
       "      <td>0.052006</td>\n",
       "      <td>19840101</td>\n",
       "      <td>1984-01-01</td>\n",
       "    </tr>\n",
       "    <tr>\n",
       "      <td>543</td>\n",
       "      <td>43.391708</td>\n",
       "      <td>148.601923</td>\n",
       "      <td>6.313144</td>\n",
       "      <td>6.248891</td>\n",
       "      <td>70.302580</td>\n",
       "      <td>0.526375</td>\n",
       "      <td>93.217014</td>\n",
       "      <td>48.482717</td>\n",
       "      <td>76.098791</td>\n",
       "      <td>16498.415777</td>\n",
       "      <td>...</td>\n",
       "      <td>94.524405</td>\n",
       "      <td>91.462460</td>\n",
       "      <td>2.044571</td>\n",
       "      <td>62.848660</td>\n",
       "      <td>0.687776</td>\n",
       "      <td>993012</td>\n",
       "      <td>Large Magellanic Cloud (LMC)</td>\n",
       "      <td>0.051675</td>\n",
       "      <td>19860101</td>\n",
       "      <td>1986-01-01</td>\n",
       "    </tr>\n",
       "    <tr>\n",
       "      <td>765</td>\n",
       "      <td>43.391708</td>\n",
       "      <td>139.929931</td>\n",
       "      <td>6.313144</td>\n",
       "      <td>6.248891</td>\n",
       "      <td>68.535174</td>\n",
       "      <td>0.526375</td>\n",
       "      <td>91.411692</td>\n",
       "      <td>46.027772</td>\n",
       "      <td>75.894795</td>\n",
       "      <td>16498.415777</td>\n",
       "      <td>...</td>\n",
       "      <td>95.831032</td>\n",
       "      <td>89.211257</td>\n",
       "      <td>1.974458</td>\n",
       "      <td>67.482431</td>\n",
       "      <td>0.727717</td>\n",
       "      <td>994009</td>\n",
       "      <td>Large Magellanic Cloud (LMC)</td>\n",
       "      <td>0.051334</td>\n",
       "      <td>19880101</td>\n",
       "      <td>1988-01-01</td>\n",
       "    </tr>\n",
       "  </tbody>\n",
       "</table>\n",
       "<p>5 rows × 82 columns</p>\n",
       "</div>"
      ],
      "text/plain": [
       "     Adjusted net savings   \\\n",
       "0                43.391708   \n",
       "194              43.391708   \n",
       "410              43.391708   \n",
       "543              43.391708   \n",
       "765              43.391708   \n",
       "\n",
       "     Adolescent birth rate (births per 1,000 female creatures ages 15-19)  \\\n",
       "0                                           174.617899                      \n",
       "194                                         165.945907                      \n",
       "410                                         157.273915                      \n",
       "543                                         148.601923                      \n",
       "765                                         139.929931                      \n",
       "\n",
       "     Creature Immunodeficiency Disease prevalence, adult (% ages 15-49), total  \\\n",
       "0                                             6.313144                           \n",
       "194                                           6.313144                           \n",
       "410                                           6.313144                           \n",
       "543                                           6.313144                           \n",
       "765                                           6.313144                           \n",
       "\n",
       "     Current health expenditure (% of GGP)  \\\n",
       "0                                 6.248891   \n",
       "194                               6.248891   \n",
       "410                               6.248891   \n",
       "543                               6.248891   \n",
       "765                               6.248891   \n",
       "\n",
       "     Domestic credit provided by financial sector (% of GGP)  Education Index  \\\n",
       "0                                            75.604799               0.526375   \n",
       "194                                          73.837393               0.526375   \n",
       "410                                          72.069987               0.526375   \n",
       "543                                          70.302580               0.526375   \n",
       "765                                          68.535174               0.526375   \n",
       "\n",
       "     Employment in agriculture (% of total employment)  \\\n",
       "0                                            96.827657   \n",
       "194                                          96.827657   \n",
       "410                                          95.022335   \n",
       "543                                          93.217014   \n",
       "765                                          91.411692   \n",
       "\n",
       "     Employment in services (% of total employment)  \\\n",
       "0                                         53.392606   \n",
       "194                                       53.392606   \n",
       "410                                       50.937661   \n",
       "543                                       48.482717   \n",
       "765                                       46.027772   \n",
       "\n",
       "     Employment to population ratio (% ages 15 and older)  \\\n",
       "0                                            76.506783      \n",
       "194                                          76.506783      \n",
       "410                                          76.302787      \n",
       "543                                          76.098791      \n",
       "765                                          75.894795      \n",
       "\n",
       "     Estimated gross galactic income per capita, female  ...  \\\n",
       "0                                         16498.415777   ...   \n",
       "194                                       16498.415777   ...   \n",
       "410                                       16498.415777   ...   \n",
       "543                                       16498.415777   ...   \n",
       "765                                       16498.415777   ...   \n",
       "\n",
       "     Vulnerable employment (% of total employment)  \\\n",
       "0                                        91.911151   \n",
       "194                                      91.911151   \n",
       "410                                      93.217778   \n",
       "543                                      94.524405   \n",
       "765                                      95.831032   \n",
       "\n",
       "     Young age (0-14) dependency ratio (per 100 creatures ages 15-64)  \\\n",
       "0                                            98.216072                  \n",
       "194                                          95.964868                  \n",
       "410                                          93.713664                  \n",
       "543                                          91.462460                  \n",
       "765                                          89.211257                  \n",
       "\n",
       "     Youth unemployment rate (female to male ratio)  \\\n",
       "0                                          2.184798   \n",
       "194                                        2.184798   \n",
       "410                                        2.114685   \n",
       "543                                        2.044571   \n",
       "765                                        1.974458   \n",
       "\n",
       "     existence expectancy at birth  existence expectancy index  galactic year  \\\n",
       "0                        63.125200                    0.628657         990025   \n",
       "194                      62.389059                    0.627245         991020   \n",
       "410                      68.794245                    0.662135         992016   \n",
       "543                      62.848660                    0.687776         993012   \n",
       "765                      67.482431                    0.727717         994009   \n",
       "\n",
       "                           galaxy         y  galactic year 1       date  \n",
       "0    Large Magellanic Cloud (LMC)  0.052590         19800101 1980-01-01  \n",
       "194  Large Magellanic Cloud (LMC)  0.052115         19820101 1982-01-01  \n",
       "410  Large Magellanic Cloud (LMC)  0.052006         19840101 1984-01-01  \n",
       "543  Large Magellanic Cloud (LMC)  0.051675         19860101 1986-01-01  \n",
       "765  Large Magellanic Cloud (LMC)  0.051334         19880101 1988-01-01  \n",
       "\n",
       "[5 rows x 82 columns]"
      ]
     },
     "execution_count": 113,
     "metadata": {},
     "output_type": "execute_result"
    }
   ],
   "source": [
    "#Fitting galactic year to date time format\n",
    "\n",
    "df['galactic year 1'] = df['galactic year'].apply(lambda x:(np.round((x/1000),0))*2)\n",
    "df['galactic year 1'] = df['galactic year 1'].astype('int64')\n",
    "df['galactic year 1'] = df['galactic year 1'].astype('str')\n",
    "df['galactic year 1'] = df['galactic year 1'] + \"0101\"\n",
    "df['date'] = pd.to_datetime(df['galactic year 1'], yearfirst=True\n",
    "                                 , format='%Y/%m/%d'\n",
    "                                )\n",
    "df.head()"
   ]
  },
  {
   "cell_type": "code",
   "execution_count": 54,
   "metadata": {
    "ExecuteTime": {
     "end_time": "2020-06-19T10:33:48.332944Z",
     "start_time": "2020-06-19T10:33:48.147217Z"
    }
   },
   "outputs": [
    {
     "name": "stdout",
     "output_type": "stream",
     "text": [
      "Large Magellanic Cloud (LMC)\n",
      "2.250789737638028e-09\n"
     ]
    },
    {
     "name": "stderr",
     "output_type": "stream",
     "text": [
      "/Users/Tiffany/opt/anaconda3/lib/python3.7/site-packages/statsmodels/tsa/base/tsa_model.py:219: ValueWarning: A date index has been provided, but it has no associated frequency information and so will be ignored when e.g. forecasting.\n",
      "  ' ignored when e.g. forecasting.', ValueWarning)\n",
      "/Users/Tiffany/opt/anaconda3/lib/python3.7/site-packages/statsmodels/tsa/base/tsa_model.py:165: ValueWarning: No frequency information was provided, so inferred frequency 2AS-JAN will be used.\n",
      "  % freq, ValueWarning)\n",
      "/Users/Tiffany/opt/anaconda3/lib/python3.7/site-packages/statsmodels/base/model.py:512: ConvergenceWarning: Maximum Likelihood optimization failed to converge. Check mle_retvals\n",
      "  \"Check mle_retvals\", ConvergenceWarning)\n",
      "/Users/Tiffany/opt/anaconda3/lib/python3.7/site-packages/statsmodels/tsa/base/tsa_model.py:165: ValueWarning: No frequency information was provided, so inferred frequency 2AS-JAN will be used.\n",
      "  % freq, ValueWarning)\n",
      "/Users/Tiffany/opt/anaconda3/lib/python3.7/site-packages/statsmodels/tsa/base/tsa_model.py:165: ValueWarning: No frequency information was provided, so inferred frequency 2AS-JAN will be used.\n",
      "  % freq, ValueWarning)\n",
      "/Users/Tiffany/opt/anaconda3/lib/python3.7/site-packages/statsmodels/base/model.py:512: ConvergenceWarning: Maximum Likelihood optimization failed to converge. Check mle_retvals\n",
      "  \"Check mle_retvals\", ConvergenceWarning)\n"
     ]
    }
   ],
   "source": [
    "#Testing on one galaxy\n",
    "\n",
    "split_1_y = []\n",
    "split_2_y = []\n",
    "split_0_y = []\n",
    "split_1_preds = []\n",
    "split_2_preds = []\n",
    "split_0_preds = []\n",
    "\n",
    "\n",
    "for g in df.galaxy.unique()[:1]:\n",
    "    \n",
    "    print(g)\n",
    "    df_temp = df[df['galaxy']==g].copy()\n",
    "    \n",
    "    df_temp.sort_values(\"galactic year 1\",inplace=True)\n",
    "#             df_temp['galactic year'] = df_temp['galactic year'].apply(lambda x:(np.round((x/1000),0))*2)\n",
    "#             df_temp['galactic year'] = df_temp['galactic year'].astype('int64')\n",
    "#             df_temp['galactic year'] = df_temp['galactic year'].astype('str')\n",
    "#             df_temp['galactic year'] = df_temp['galactic year'] + \"0101\"\n",
    "#             df_temp['date'] = pd.to_datetime(df_temp['galactic year'], yearfirst=True\n",
    "#                                              , format='%Y/%m/%d'\n",
    "#                                             )\n",
    "\n",
    "    df_temp_temp = df_temp[['date','y','galaxy','galactic year 1']]\n",
    "    df_temp_temp_1 = df_temp_temp[['date','y']].copy()\n",
    "    df_temp_temp_1.set_index('date', inplace=True, drop=True)\n",
    "    data = df_temp_temp_1\n",
    "    \n",
    "\n",
    "    ts = TimeSeriesSplit(n_splits=3)\n",
    "    splits = [split for split in ts.split(data)]\n",
    "    test_size = splits[0][1].shape[0]\n",
    "\n",
    "    model = sm.tsa.statespace.SARIMAX(data, order=(1, 0, 0))\n",
    "\n",
    "    y_train = data.iloc[splits[0][0]]\n",
    "    y_test = data.iloc[splits[0][1]]\n",
    "    model_cv = sm.tsa.statespace.SARIMAX(y_train, order=(1, 0, 0))\n",
    "    results_cv = model_cv.fit(maxiter=5000)\n",
    "    pred_test = results_cv.predict(start=0, end=len(y_train)+test_size-1, dynamic=False)[-test_size:]\n",
    "    print(mean_squared_error(y_test, pred_test))\n",
    "    split_0_y.append(y_test.y)\n",
    "    split_0_preds.append(pred_test)\n",
    "\n",
    "\n",
    "    y_train = data.iloc[splits[1][0]]\n",
    "    y_test = data.iloc[splits[1][1]]\n",
    "    model_cv = sm.tsa.statespace.SARIMAX(y_train, order=(1, 0, 0))\n",
    "    results_cv = model_cv.fit(maxiter=5000)\n",
    "    pred_test = results_cv.predict(start=0, end=len(y_train)+test_size-1, dynamic=False)[-test_size:]\n",
    "    split_1_y.append(y_test.y)\n",
    "    split_1_preds.append(pred_test)\n",
    "\n",
    "\n",
    "\n",
    "    y_train = data.iloc[splits[2][0]]\n",
    "    y_test = data.iloc[splits[2][1]]\n",
    "    model_cv = sm.tsa.statespace.SARIMAX(y_train, order=(1, 0, 0))\n",
    "    results_cv = model_cv.fit(maxiter=5000)\n",
    "    pred_test = results_cv.predict(start=0, end=len(y_train)+test_size-1, dynamic=False)[-test_size:]\n",
    "    split_2_y.append(y_test.y)\n",
    "    split_2_preds.append(pred_test)"
   ]
  },
  {
   "cell_type": "code",
   "execution_count": 55,
   "metadata": {
    "ExecuteTime": {
     "end_time": "2020-06-19T10:33:50.175943Z",
     "start_time": "2020-06-19T10:33:50.170388Z"
    }
   },
   "outputs": [
    {
     "data": {
      "text/plain": [
       "1"
      ]
     },
     "execution_count": 55,
     "metadata": {},
     "output_type": "execute_result"
    }
   ],
   "source": [
    "len(split_0_y)"
   ]
  },
  {
   "cell_type": "code",
   "execution_count": 56,
   "metadata": {
    "ExecuteTime": {
     "end_time": "2020-06-19T10:33:52.785467Z",
     "start_time": "2020-06-19T10:33:52.779025Z"
    }
   },
   "outputs": [
    {
     "data": {
      "text/plain": [
       "[1994-01-01    0.050130\n",
       " 1996-01-01    0.049789\n",
       " 1998-01-01    0.049450\n",
       " 2000-01-01    0.049113\n",
       " Freq: 2AS-JAN, dtype: float64]"
      ]
     },
     "execution_count": 56,
     "metadata": {},
     "output_type": "execute_result"
    }
   ],
   "source": [
    "split_0_preds"
   ]
  },
  {
   "cell_type": "code",
   "execution_count": 61,
   "metadata": {
    "ExecuteTime": {
     "end_time": "2020-06-19T10:34:32.508783Z",
     "start_time": "2020-06-19T10:34:32.499870Z"
    }
   },
   "outputs": [
    {
     "name": "stdout",
     "output_type": "stream",
     "text": [
      "3.604368608365351e-05\n"
     ]
    }
   ],
   "source": [
    "mses = []\n",
    "\n",
    "mses.append(mean_squared_error(split_0_y, split_0_preds))\n",
    "mses.append(mean_squared_error(split_1_y, split_1_preds))\n",
    "mses.append(mean_squared_error(split_2_y, split_2_preds))\n",
    "\n",
    "mses\n",
    "print(np.mean(mses))"
   ]
  },
  {
   "cell_type": "code",
   "execution_count": 125,
   "metadata": {
    "ExecuteTime": {
     "end_time": "2020-06-19T12:11:19.046123Z",
     "start_time": "2020-06-19T12:10:13.316425Z"
    }
   },
   "outputs": [
    {
     "name": "stdout",
     "output_type": "stream",
     "text": [
      "Large Magellanic Cloud (LMC)\n",
      "4.562832383176583e-08\n"
     ]
    },
    {
     "name": "stderr",
     "output_type": "stream",
     "text": [
      "/Users/Tiffany/opt/anaconda3/lib/python3.7/site-packages/statsmodels/tsa/base/tsa_model.py:219: ValueWarning: A date index has been provided, but it has no associated frequency information and so will be ignored when e.g. forecasting.\n",
      "  ' ignored when e.g. forecasting.', ValueWarning)\n",
      "/Users/Tiffany/opt/anaconda3/lib/python3.7/site-packages/statsmodels/tsa/base/tsa_model.py:165: ValueWarning: No frequency information was provided, so inferred frequency 2AS-JAN will be used.\n",
      "  % freq, ValueWarning)\n",
      "/Users/Tiffany/opt/anaconda3/lib/python3.7/site-packages/statsmodels/tsa/base/tsa_model.py:165: ValueWarning: No frequency information was provided, so inferred frequency 2AS-JAN will be used.\n",
      "  % freq, ValueWarning)\n",
      "/Users/Tiffany/opt/anaconda3/lib/python3.7/site-packages/statsmodels/base/model.py:512: ConvergenceWarning: Maximum Likelihood optimization failed to converge. Check mle_retvals\n",
      "  \"Check mle_retvals\", ConvergenceWarning)\n",
      "/Users/Tiffany/opt/anaconda3/lib/python3.7/site-packages/statsmodels/tsa/base/tsa_model.py:165: ValueWarning: No frequency information was provided, so inferred frequency 2AS-JAN will be used.\n",
      "  % freq, ValueWarning)\n",
      "/Users/Tiffany/opt/anaconda3/lib/python3.7/site-packages/statsmodels/tsa/base/tsa_model.py:219: ValueWarning: A date index has been provided, but it has no associated frequency information and so will be ignored when e.g. forecasting.\n",
      "  ' ignored when e.g. forecasting.', ValueWarning)\n",
      "/Users/Tiffany/opt/anaconda3/lib/python3.7/site-packages/statsmodels/tsa/base/tsa_model.py:165: ValueWarning: No frequency information was provided, so inferred frequency 2AS-JAN will be used.\n",
      "  % freq, ValueWarning)\n",
      "/Users/Tiffany/opt/anaconda3/lib/python3.7/site-packages/statsmodels/tsa/base/tsa_model.py:165: ValueWarning: No frequency information was provided, so inferred frequency 2AS-JAN will be used.\n",
      "  % freq, ValueWarning)\n"
     ]
    },
    {
     "name": "stdout",
     "output_type": "stream",
     "text": [
      "Camelopardalis B\n",
      "1.621687352223565e-07\n"
     ]
    },
    {
     "name": "stderr",
     "output_type": "stream",
     "text": [
      "/Users/Tiffany/opt/anaconda3/lib/python3.7/site-packages/statsmodels/base/model.py:512: ConvergenceWarning: Maximum Likelihood optimization failed to converge. Check mle_retvals\n",
      "  \"Check mle_retvals\", ConvergenceWarning)\n",
      "/Users/Tiffany/opt/anaconda3/lib/python3.7/site-packages/statsmodels/tsa/base/tsa_model.py:165: ValueWarning: No frequency information was provided, so inferred frequency 2AS-JAN will be used.\n",
      "  % freq, ValueWarning)\n",
      "/Users/Tiffany/opt/anaconda3/lib/python3.7/site-packages/statsmodels/tsa/base/tsa_model.py:219: ValueWarning: A date index has been provided, but it has no associated frequency information and so will be ignored when e.g. forecasting.\n",
      "  ' ignored when e.g. forecasting.', ValueWarning)\n",
      "/Users/Tiffany/opt/anaconda3/lib/python3.7/site-packages/statsmodels/tsa/base/tsa_model.py:165: ValueWarning: No frequency information was provided, so inferred frequency 2AS-JAN will be used.\n",
      "  % freq, ValueWarning)\n",
      "/Users/Tiffany/opt/anaconda3/lib/python3.7/site-packages/statsmodels/tsa/statespace/sarimax.py:961: UserWarning: Non-invertible starting MA parameters found. Using zeros as starting parameters.\n",
      "  warn('Non-invertible starting MA parameters found.'\n"
     ]
    },
    {
     "name": "stdout",
     "output_type": "stream",
     "text": [
      "Virgo I\n",
      "5.975739328696619e-06\n"
     ]
    },
    {
     "name": "stderr",
     "output_type": "stream",
     "text": [
      "/Users/Tiffany/opt/anaconda3/lib/python3.7/site-packages/statsmodels/tsa/base/tsa_model.py:165: ValueWarning: No frequency information was provided, so inferred frequency 2AS-JAN will be used.\n",
      "  % freq, ValueWarning)\n",
      "/Users/Tiffany/opt/anaconda3/lib/python3.7/site-packages/statsmodels/tsa/base/tsa_model.py:165: ValueWarning: No frequency information was provided, so inferred frequency 2AS-JAN will be used.\n",
      "  % freq, ValueWarning)\n",
      "/Users/Tiffany/opt/anaconda3/lib/python3.7/site-packages/statsmodels/tsa/base/tsa_model.py:219: ValueWarning: A date index has been provided, but it has no associated frequency information and so will be ignored when e.g. forecasting.\n",
      "  ' ignored when e.g. forecasting.', ValueWarning)\n",
      "/Users/Tiffany/opt/anaconda3/lib/python3.7/site-packages/statsmodels/tsa/base/tsa_model.py:165: ValueWarning: No frequency information was provided, so inferred frequency 2AS-JAN will be used.\n",
      "  % freq, ValueWarning)\n"
     ]
    },
    {
     "name": "stdout",
     "output_type": "stream",
     "text": [
      "UGC 8651 (DDO 181)\n",
      "5.0073553992151e-06\n"
     ]
    },
    {
     "name": "stderr",
     "output_type": "stream",
     "text": [
      "/Users/Tiffany/opt/anaconda3/lib/python3.7/site-packages/statsmodels/tsa/base/tsa_model.py:165: ValueWarning: No frequency information was provided, so inferred frequency 2AS-JAN will be used.\n",
      "  % freq, ValueWarning)\n",
      "/Users/Tiffany/opt/anaconda3/lib/python3.7/site-packages/statsmodels/tsa/base/tsa_model.py:165: ValueWarning: No frequency information was provided, so inferred frequency 2AS-JAN will be used.\n",
      "  % freq, ValueWarning)\n",
      "/Users/Tiffany/opt/anaconda3/lib/python3.7/site-packages/statsmodels/tsa/base/tsa_model.py:165: ValueWarning: No frequency information was provided, so inferred frequency 2AS-JAN will be used.\n",
      "  % freq, ValueWarning)\n",
      "/Users/Tiffany/opt/anaconda3/lib/python3.7/site-packages/statsmodels/tsa/base/tsa_model.py:165: ValueWarning: No frequency information was provided, so inferred frequency 2AS-JAN will be used.\n",
      "  % freq, ValueWarning)\n",
      "/Users/Tiffany/opt/anaconda3/lib/python3.7/site-packages/statsmodels/tsa/statespace/sarimax.py:949: UserWarning: Non-stationary starting autoregressive parameters found. Using zeros as starting parameters.\n",
      "  warn('Non-stationary starting autoregressive parameters'\n"
     ]
    },
    {
     "name": "stdout",
     "output_type": "stream",
     "text": [
      "Tucana Dwarf\n",
      "0.00012011628024568507\n"
     ]
    },
    {
     "name": "stderr",
     "output_type": "stream",
     "text": [
      "/Users/Tiffany/opt/anaconda3/lib/python3.7/site-packages/statsmodels/tsa/base/tsa_model.py:165: ValueWarning: No frequency information was provided, so inferred frequency 2AS-JAN will be used.\n",
      "  % freq, ValueWarning)\n",
      "/Users/Tiffany/opt/anaconda3/lib/python3.7/site-packages/statsmodels/tsa/statespace/sarimax.py:949: UserWarning: Non-stationary starting autoregressive parameters found. Using zeros as starting parameters.\n",
      "  warn('Non-stationary starting autoregressive parameters'\n",
      "/Users/Tiffany/opt/anaconda3/lib/python3.7/site-packages/statsmodels/tsa/base/tsa_model.py:165: ValueWarning: No frequency information was provided, so inferred frequency 2AS-JAN will be used.\n",
      "  % freq, ValueWarning)\n"
     ]
    },
    {
     "name": "stdout",
     "output_type": "stream",
     "text": [
      "KKh 060\n"
     ]
    },
    {
     "name": "stderr",
     "output_type": "stream",
     "text": [
      "/Users/Tiffany/opt/anaconda3/lib/python3.7/site-packages/statsmodels/tsa/base/tsa_model.py:219: ValueWarning: A date index has been provided, but it has no associated frequency information and so will be ignored when e.g. forecasting.\n",
      "  ' ignored when e.g. forecasting.', ValueWarning)\n",
      "/Users/Tiffany/opt/anaconda3/lib/python3.7/site-packages/statsmodels/tsa/base/tsa_model.py:165: ValueWarning: No frequency information was provided, so inferred frequency 2AS-JAN will be used.\n",
      "  % freq, ValueWarning)\n",
      "/Users/Tiffany/opt/anaconda3/lib/python3.7/site-packages/statsmodels/base/model.py:512: ConvergenceWarning: Maximum Likelihood optimization failed to converge. Check mle_retvals\n",
      "  \"Check mle_retvals\", ConvergenceWarning)\n",
      "/Users/Tiffany/opt/anaconda3/lib/python3.7/site-packages/statsmodels/tsa/base/tsa_model.py:165: ValueWarning: No frequency information was provided, so inferred frequency 2AS-JAN will be used.\n",
      "  % freq, ValueWarning)\n",
      "/Users/Tiffany/opt/anaconda3/lib/python3.7/site-packages/statsmodels/tsa/base/tsa_model.py:165: ValueWarning: No frequency information was provided, so inferred frequency 2AS-JAN will be used.\n",
      "  % freq, ValueWarning)\n"
     ]
    },
    {
     "name": "stdout",
     "output_type": "stream",
     "text": [
      "4.271512793077641e-06\n",
      "Grus II\n",
      "1.433199991513686e-06\n"
     ]
    },
    {
     "name": "stderr",
     "output_type": "stream",
     "text": [
      "/Users/Tiffany/opt/anaconda3/lib/python3.7/site-packages/statsmodels/tsa/base/tsa_model.py:219: ValueWarning: A date index has been provided, but it has no associated frequency information and so will be ignored when e.g. forecasting.\n",
      "  ' ignored when e.g. forecasting.', ValueWarning)\n",
      "/Users/Tiffany/opt/anaconda3/lib/python3.7/site-packages/statsmodels/tsa/base/tsa_model.py:165: ValueWarning: No frequency information was provided, so inferred frequency 2AS-JAN will be used.\n",
      "  % freq, ValueWarning)\n",
      "/Users/Tiffany/opt/anaconda3/lib/python3.7/site-packages/statsmodels/tsa/base/tsa_model.py:165: ValueWarning: No frequency information was provided, so inferred frequency 2AS-JAN will be used.\n",
      "  % freq, ValueWarning)\n",
      "/Users/Tiffany/opt/anaconda3/lib/python3.7/site-packages/statsmodels/tsa/base/tsa_model.py:165: ValueWarning: No frequency information was provided, so inferred frequency 2AS-JAN will be used.\n",
      "  % freq, ValueWarning)\n",
      "/Users/Tiffany/opt/anaconda3/lib/python3.7/site-packages/statsmodels/tsa/base/tsa_model.py:219: ValueWarning: A date index has been provided, but it has no associated frequency information and so will be ignored when e.g. forecasting.\n",
      "  ' ignored when e.g. forecasting.', ValueWarning)\n",
      "/Users/Tiffany/opt/anaconda3/lib/python3.7/site-packages/statsmodels/tsa/base/tsa_model.py:165: ValueWarning: No frequency information was provided, so inferred frequency 2AS-JAN will be used.\n",
      "  % freq, ValueWarning)\n"
     ]
    },
    {
     "name": "stdout",
     "output_type": "stream",
     "text": [
      "UGCA 292\n",
      "4.4666206212599805e-06\n"
     ]
    },
    {
     "name": "stderr",
     "output_type": "stream",
     "text": [
      "/Users/Tiffany/opt/anaconda3/lib/python3.7/site-packages/statsmodels/tsa/base/tsa_model.py:165: ValueWarning: No frequency information was provided, so inferred frequency 2AS-JAN will be used.\n",
      "  % freq, ValueWarning)\n",
      "/Users/Tiffany/opt/anaconda3/lib/python3.7/site-packages/statsmodels/tsa/base/tsa_model.py:165: ValueWarning: No frequency information was provided, so inferred frequency 2AS-JAN will be used.\n",
      "  % freq, ValueWarning)\n"
     ]
    },
    {
     "name": "stdout",
     "output_type": "stream",
     "text": [
      "Aquarius II\n"
     ]
    },
    {
     "name": "stderr",
     "output_type": "stream",
     "text": [
      "/Users/Tiffany/opt/anaconda3/lib/python3.7/site-packages/statsmodels/tsa/base/tsa_model.py:219: ValueWarning: A date index has been provided, but it has no associated frequency information and so will be ignored when e.g. forecasting.\n",
      "  ' ignored when e.g. forecasting.', ValueWarning)\n",
      "/Users/Tiffany/opt/anaconda3/lib/python3.7/site-packages/statsmodels/tsa/base/tsa_model.py:165: ValueWarning: No frequency information was provided, so inferred frequency 2AS-JAN will be used.\n",
      "  % freq, ValueWarning)\n"
     ]
    },
    {
     "name": "stdout",
     "output_type": "stream",
     "text": [
      "6.498922572734925e-06\n"
     ]
    },
    {
     "name": "stderr",
     "output_type": "stream",
     "text": [
      "/Users/Tiffany/opt/anaconda3/lib/python3.7/site-packages/statsmodels/tsa/base/tsa_model.py:165: ValueWarning: No frequency information was provided, so inferred frequency 2AS-JAN will be used.\n",
      "  % freq, ValueWarning)\n",
      "/Users/Tiffany/opt/anaconda3/lib/python3.7/site-packages/statsmodels/base/model.py:512: ConvergenceWarning: Maximum Likelihood optimization failed to converge. Check mle_retvals\n",
      "  \"Check mle_retvals\", ConvergenceWarning)\n",
      "/Users/Tiffany/opt/anaconda3/lib/python3.7/site-packages/statsmodels/tsa/base/tsa_model.py:165: ValueWarning: No frequency information was provided, so inferred frequency 2AS-JAN will be used.\n",
      "  % freq, ValueWarning)\n",
      "/Users/Tiffany/opt/anaconda3/lib/python3.7/site-packages/statsmodels/tsa/base/tsa_model.py:219: ValueWarning: A date index has been provided, but it has no associated frequency information and so will be ignored when e.g. forecasting.\n",
      "  ' ignored when e.g. forecasting.', ValueWarning)\n",
      "/Users/Tiffany/opt/anaconda3/lib/python3.7/site-packages/statsmodels/tsa/base/tsa_model.py:165: ValueWarning: No frequency information was provided, so inferred frequency 2AS-JAN will be used.\n",
      "  % freq, ValueWarning)\n",
      "/Users/Tiffany/opt/anaconda3/lib/python3.7/site-packages/statsmodels/tsa/base/tsa_model.py:165: ValueWarning: No frequency information was provided, so inferred frequency 2AS-JAN will be used.\n",
      "  % freq, ValueWarning)\n"
     ]
    },
    {
     "name": "stdout",
     "output_type": "stream",
     "text": [
      "Andromeda XI\n",
      "1.632693408092027e-06\n"
     ]
    },
    {
     "name": "stderr",
     "output_type": "stream",
     "text": [
      "/Users/Tiffany/opt/anaconda3/lib/python3.7/site-packages/statsmodels/tsa/base/tsa_model.py:165: ValueWarning: No frequency information was provided, so inferred frequency 2AS-JAN will be used.\n",
      "  % freq, ValueWarning)\n",
      "/Users/Tiffany/opt/anaconda3/lib/python3.7/site-packages/statsmodels/tsa/base/tsa_model.py:165: ValueWarning: No frequency information was provided, so inferred frequency 2AS-JAN will be used.\n",
      "  % freq, ValueWarning)\n",
      "/Users/Tiffany/opt/anaconda3/lib/python3.7/site-packages/statsmodels/tsa/base/tsa_model.py:165: ValueWarning: No frequency information was provided, so inferred frequency 2AS-JAN will be used.\n",
      "  % freq, ValueWarning)\n",
      "/Users/Tiffany/opt/anaconda3/lib/python3.7/site-packages/statsmodels/tsa/base/tsa_model.py:165: ValueWarning: No frequency information was provided, so inferred frequency 2AS-JAN will be used.\n",
      "  % freq, ValueWarning)\n"
     ]
    },
    {
     "name": "stdout",
     "output_type": "stream",
     "text": [
      "Antlia Dwarf\n",
      "2.519891128609858e-07\n",
      "IC 1613 (UGC 668)\n"
     ]
    },
    {
     "name": "stderr",
     "output_type": "stream",
     "text": [
      "/Users/Tiffany/opt/anaconda3/lib/python3.7/site-packages/statsmodels/base/model.py:512: ConvergenceWarning: Maximum Likelihood optimization failed to converge. Check mle_retvals\n",
      "  \"Check mle_retvals\", ConvergenceWarning)\n",
      "/Users/Tiffany/opt/anaconda3/lib/python3.7/site-packages/statsmodels/tsa/base/tsa_model.py:165: ValueWarning: No frequency information was provided, so inferred frequency 2AS-JAN will be used.\n",
      "  % freq, ValueWarning)\n",
      "/Users/Tiffany/opt/anaconda3/lib/python3.7/site-packages/statsmodels/tsa/base/tsa_model.py:165: ValueWarning: No frequency information was provided, so inferred frequency 2AS-JAN will be used.\n",
      "  % freq, ValueWarning)\n",
      "/Users/Tiffany/opt/anaconda3/lib/python3.7/site-packages/statsmodels/tsa/base/tsa_model.py:165: ValueWarning: No frequency information was provided, so inferred frequency 2AS-JAN will be used.\n",
      "  % freq, ValueWarning)\n",
      "/Users/Tiffany/opt/anaconda3/lib/python3.7/site-packages/statsmodels/tsa/base/tsa_model.py:165: ValueWarning: No frequency information was provided, so inferred frequency 2AS-JAN will be used.\n",
      "  % freq, ValueWarning)\n"
     ]
    },
    {
     "name": "stdout",
     "output_type": "stream",
     "text": [
      "2.8084346764349972e-06\n",
      "Leo P\n"
     ]
    },
    {
     "name": "stderr",
     "output_type": "stream",
     "text": [
      "/Users/Tiffany/opt/anaconda3/lib/python3.7/site-packages/statsmodels/tsa/base/tsa_model.py:165: ValueWarning: No frequency information was provided, so inferred frequency 2AS-JAN will be used.\n",
      "  % freq, ValueWarning)\n",
      "/Users/Tiffany/opt/anaconda3/lib/python3.7/site-packages/statsmodels/tsa/base/tsa_model.py:219: ValueWarning: A date index has been provided, but it has no associated frequency information and so will be ignored when e.g. forecasting.\n",
      "  ' ignored when e.g. forecasting.', ValueWarning)\n",
      "/Users/Tiffany/opt/anaconda3/lib/python3.7/site-packages/statsmodels/tsa/base/tsa_model.py:165: ValueWarning: No frequency information was provided, so inferred frequency 2AS-JAN will be used.\n",
      "  % freq, ValueWarning)\n",
      "/Users/Tiffany/opt/anaconda3/lib/python3.7/site-packages/statsmodels/tsa/statespace/sarimax.py:949: UserWarning: Non-stationary starting autoregressive parameters found. Using zeros as starting parameters.\n",
      "  warn('Non-stationary starting autoregressive parameters'\n",
      "/Users/Tiffany/opt/anaconda3/lib/python3.7/site-packages/statsmodels/base/model.py:512: ConvergenceWarning: Maximum Likelihood optimization failed to converge. Check mle_retvals\n",
      "  \"Check mle_retvals\", ConvergenceWarning)\n",
      "/Users/Tiffany/opt/anaconda3/lib/python3.7/site-packages/statsmodels/tsa/base/tsa_model.py:165: ValueWarning: No frequency information was provided, so inferred frequency 2AS-JAN will be used.\n",
      "  % freq, ValueWarning)\n",
      "/Users/Tiffany/opt/anaconda3/lib/python3.7/site-packages/statsmodels/tsa/statespace/sarimax.py:949: UserWarning: Non-stationary starting autoregressive parameters found. Using zeros as starting parameters.\n",
      "  warn('Non-stationary starting autoregressive parameters'\n",
      "/Users/Tiffany/opt/anaconda3/lib/python3.7/site-packages/statsmodels/tsa/base/tsa_model.py:165: ValueWarning: No frequency information was provided, so inferred frequency 2AS-JAN will be used.\n",
      "  % freq, ValueWarning)\n",
      "/Users/Tiffany/opt/anaconda3/lib/python3.7/site-packages/statsmodels/tsa/base/tsa_model.py:219: ValueWarning: A date index has been provided, but it has no associated frequency information and so will be ignored when e.g. forecasting.\n",
      "  ' ignored when e.g. forecasting.', ValueWarning)\n",
      "/Users/Tiffany/opt/anaconda3/lib/python3.7/site-packages/statsmodels/tsa/base/tsa_model.py:165: ValueWarning: No frequency information was provided, so inferred frequency 2AS-JAN will be used.\n",
      "  % freq, ValueWarning)\n"
     ]
    },
    {
     "name": "stdout",
     "output_type": "stream",
     "text": [
      "1.6552582081931856e-05\n",
      "Cassiopeia Dwarf (Cas dSph, Andromeda VII)\n",
      "0.00010115592410213846\n",
      "Draco II\n"
     ]
    },
    {
     "name": "stderr",
     "output_type": "stream",
     "text": [
      "/Users/Tiffany/opt/anaconda3/lib/python3.7/site-packages/statsmodels/tsa/base/tsa_model.py:165: ValueWarning: No frequency information was provided, so inferred frequency 2AS-JAN will be used.\n",
      "  % freq, ValueWarning)\n",
      "/Users/Tiffany/opt/anaconda3/lib/python3.7/site-packages/statsmodels/tsa/statespace/sarimax.py:949: UserWarning: Non-stationary starting autoregressive parameters found. Using zeros as starting parameters.\n",
      "  warn('Non-stationary starting autoregressive parameters'\n",
      "/Users/Tiffany/opt/anaconda3/lib/python3.7/site-packages/statsmodels/tsa/base/tsa_model.py:165: ValueWarning: No frequency information was provided, so inferred frequency 2AS-JAN will be used.\n",
      "  % freq, ValueWarning)\n",
      "/Users/Tiffany/opt/anaconda3/lib/python3.7/site-packages/statsmodels/tsa/base/tsa_model.py:219: ValueWarning: A date index has been provided, but it has no associated frequency information and so will be ignored when e.g. forecasting.\n",
      "  ' ignored when e.g. forecasting.', ValueWarning)\n",
      "/Users/Tiffany/opt/anaconda3/lib/python3.7/site-packages/statsmodels/tsa/base/tsa_model.py:165: ValueWarning: No frequency information was provided, so inferred frequency 2AS-JAN will be used.\n",
      "  % freq, ValueWarning)\n"
     ]
    },
    {
     "name": "stdout",
     "output_type": "stream",
     "text": [
      "3.3907348600883212e-06\n",
      "Sagittarius II\n"
     ]
    },
    {
     "name": "stderr",
     "output_type": "stream",
     "text": [
      "/Users/Tiffany/opt/anaconda3/lib/python3.7/site-packages/statsmodels/tsa/base/tsa_model.py:165: ValueWarning: No frequency information was provided, so inferred frequency 2AS-JAN will be used.\n",
      "  % freq, ValueWarning)\n",
      "/Users/Tiffany/opt/anaconda3/lib/python3.7/site-packages/statsmodels/tsa/base/tsa_model.py:165: ValueWarning: No frequency information was provided, so inferred frequency 2AS-JAN will be used.\n",
      "  % freq, ValueWarning)\n",
      "/Users/Tiffany/opt/anaconda3/lib/python3.7/site-packages/statsmodels/tsa/base/tsa_model.py:219: ValueWarning: A date index has been provided, but it has no associated frequency information and so will be ignored when e.g. forecasting.\n",
      "  ' ignored when e.g. forecasting.', ValueWarning)\n",
      "/Users/Tiffany/opt/anaconda3/lib/python3.7/site-packages/statsmodels/tsa/base/tsa_model.py:165: ValueWarning: No frequency information was provided, so inferred frequency 2AS-JAN will be used.\n",
      "  % freq, ValueWarning)\n"
     ]
    },
    {
     "name": "stdout",
     "output_type": "stream",
     "text": [
      "8.158777392816296e-07\n"
     ]
    },
    {
     "name": "stderr",
     "output_type": "stream",
     "text": [
      "/Users/Tiffany/opt/anaconda3/lib/python3.7/site-packages/statsmodels/tsa/base/tsa_model.py:165: ValueWarning: No frequency information was provided, so inferred frequency 2AS-JAN will be used.\n",
      "  % freq, ValueWarning)\n",
      "/Users/Tiffany/opt/anaconda3/lib/python3.7/site-packages/statsmodels/base/model.py:512: ConvergenceWarning: Maximum Likelihood optimization failed to converge. Check mle_retvals\n",
      "  \"Check mle_retvals\", ConvergenceWarning)\n",
      "/Users/Tiffany/opt/anaconda3/lib/python3.7/site-packages/statsmodels/tsa/base/tsa_model.py:165: ValueWarning: No frequency information was provided, so inferred frequency 2AS-JAN will be used.\n",
      "  % freq, ValueWarning)\n"
     ]
    },
    {
     "name": "stdout",
     "output_type": "stream",
     "text": [
      "Carina III\n",
      "1.9172960040620644e-06\n"
     ]
    },
    {
     "name": "stderr",
     "output_type": "stream",
     "text": [
      "/Users/Tiffany/opt/anaconda3/lib/python3.7/site-packages/statsmodels/tsa/base/tsa_model.py:219: ValueWarning: A date index has been provided, but it has no associated frequency information and so will be ignored when e.g. forecasting.\n",
      "  ' ignored when e.g. forecasting.', ValueWarning)\n",
      "/Users/Tiffany/opt/anaconda3/lib/python3.7/site-packages/statsmodels/tsa/base/tsa_model.py:165: ValueWarning: No frequency information was provided, so inferred frequency 2AS-JAN will be used.\n",
      "  % freq, ValueWarning)\n",
      "/Users/Tiffany/opt/anaconda3/lib/python3.7/site-packages/statsmodels/tsa/base/tsa_model.py:165: ValueWarning: No frequency information was provided, so inferred frequency 2AS-JAN will be used.\n",
      "  % freq, ValueWarning)\n",
      "/Users/Tiffany/opt/anaconda3/lib/python3.7/site-packages/statsmodels/tsa/base/tsa_model.py:165: ValueWarning: No frequency information was provided, so inferred frequency 2AS-JAN will be used.\n",
      "  % freq, ValueWarning)\n"
     ]
    },
    {
     "name": "stdout",
     "output_type": "stream",
     "text": [
      "UGCA 133 (DDO 44)\n",
      "2.0390356706142766e-07\n"
     ]
    },
    {
     "name": "stderr",
     "output_type": "stream",
     "text": [
      "/Users/Tiffany/opt/anaconda3/lib/python3.7/site-packages/statsmodels/tsa/base/tsa_model.py:219: ValueWarning: A date index has been provided, but it has no associated frequency information and so will be ignored when e.g. forecasting.\n",
      "  ' ignored when e.g. forecasting.', ValueWarning)\n",
      "/Users/Tiffany/opt/anaconda3/lib/python3.7/site-packages/statsmodels/tsa/base/tsa_model.py:165: ValueWarning: No frequency information was provided, so inferred frequency 2AS-JAN will be used.\n",
      "  % freq, ValueWarning)\n",
      "/Users/Tiffany/opt/anaconda3/lib/python3.7/site-packages/statsmodels/base/model.py:512: ConvergenceWarning: Maximum Likelihood optimization failed to converge. Check mle_retvals\n",
      "  \"Check mle_retvals\", ConvergenceWarning)\n",
      "/Users/Tiffany/opt/anaconda3/lib/python3.7/site-packages/statsmodels/tsa/base/tsa_model.py:165: ValueWarning: No frequency information was provided, so inferred frequency 2AS-JAN will be used.\n",
      "  % freq, ValueWarning)\n",
      "/Users/Tiffany/opt/anaconda3/lib/python3.7/site-packages/statsmodels/tsa/base/tsa_model.py:165: ValueWarning: No frequency information was provided, so inferred frequency 2AS-JAN will be used.\n",
      "  % freq, ValueWarning)\n",
      "/Users/Tiffany/opt/anaconda3/lib/python3.7/site-packages/statsmodels/tsa/base/tsa_model.py:219: ValueWarning: A date index has been provided, but it has no associated frequency information and so will be ignored when e.g. forecasting.\n",
      "  ' ignored when e.g. forecasting.', ValueWarning)\n",
      "/Users/Tiffany/opt/anaconda3/lib/python3.7/site-packages/statsmodels/tsa/base/tsa_model.py:165: ValueWarning: No frequency information was provided, so inferred frequency 2AS-JAN will be used.\n",
      "  % freq, ValueWarning)\n",
      "/Users/Tiffany/opt/anaconda3/lib/python3.7/site-packages/statsmodels/tsa/statespace/sarimax.py:961: UserWarning: Non-invertible starting MA parameters found. Using zeros as starting parameters.\n",
      "  warn('Non-invertible starting MA parameters found.'\n"
     ]
    },
    {
     "name": "stdout",
     "output_type": "stream",
     "text": [
      "Lacerta I (Andromeda XXXI)\n",
      "6.038070051960857e-07\n"
     ]
    },
    {
     "name": "stderr",
     "output_type": "stream",
     "text": [
      "/Users/Tiffany/opt/anaconda3/lib/python3.7/site-packages/statsmodels/tsa/base/tsa_model.py:165: ValueWarning: No frequency information was provided, so inferred frequency 2AS-JAN will be used.\n",
      "  % freq, ValueWarning)\n",
      "/Users/Tiffany/opt/anaconda3/lib/python3.7/site-packages/statsmodels/tsa/base/tsa_model.py:165: ValueWarning: No frequency information was provided, so inferred frequency 2AS-JAN will be used.\n",
      "  % freq, ValueWarning)\n",
      "/Users/Tiffany/opt/anaconda3/lib/python3.7/site-packages/statsmodels/tsa/base/tsa_model.py:165: ValueWarning: No frequency information was provided, so inferred frequency 2AS-JAN will be used.\n",
      "  % freq, ValueWarning)\n",
      "/Users/Tiffany/opt/anaconda3/lib/python3.7/site-packages/statsmodels/tsa/base/tsa_model.py:165: ValueWarning: No frequency information was provided, so inferred frequency 2AS-JAN will be used.\n",
      "  % freq, ValueWarning)\n"
     ]
    },
    {
     "name": "stdout",
     "output_type": "stream",
     "text": [
      "Boötes IV\n",
      "2.879595534783288e-06\n"
     ]
    },
    {
     "name": "stderr",
     "output_type": "stream",
     "text": [
      "/Users/Tiffany/opt/anaconda3/lib/python3.7/site-packages/statsmodels/tsa/base/tsa_model.py:165: ValueWarning: No frequency information was provided, so inferred frequency 2AS-JAN will be used.\n",
      "  % freq, ValueWarning)\n",
      "/Users/Tiffany/opt/anaconda3/lib/python3.7/site-packages/statsmodels/tsa/base/tsa_model.py:165: ValueWarning: No frequency information was provided, so inferred frequency 2AS-JAN will be used.\n",
      "  % freq, ValueWarning)\n",
      "/Users/Tiffany/opt/anaconda3/lib/python3.7/site-packages/statsmodels/tsa/base/tsa_model.py:219: ValueWarning: A date index has been provided, but it has no associated frequency information and so will be ignored when e.g. forecasting.\n",
      "  ' ignored when e.g. forecasting.', ValueWarning)\n",
      "/Users/Tiffany/opt/anaconda3/lib/python3.7/site-packages/statsmodels/tsa/base/tsa_model.py:165: ValueWarning: No frequency information was provided, so inferred frequency 2AS-JAN will be used.\n",
      "  % freq, ValueWarning)\n"
     ]
    },
    {
     "name": "stdout",
     "output_type": "stream",
     "text": [
      "Maffei 2\n",
      "4.845807761309298e-06\n"
     ]
    },
    {
     "name": "stderr",
     "output_type": "stream",
     "text": [
      "/Users/Tiffany/opt/anaconda3/lib/python3.7/site-packages/statsmodels/base/model.py:512: ConvergenceWarning: Maximum Likelihood optimization failed to converge. Check mle_retvals\n",
      "  \"Check mle_retvals\", ConvergenceWarning)\n",
      "/Users/Tiffany/opt/anaconda3/lib/python3.7/site-packages/statsmodels/tsa/base/tsa_model.py:165: ValueWarning: No frequency information was provided, so inferred frequency 2AS-JAN will be used.\n",
      "  % freq, ValueWarning)\n",
      "/Users/Tiffany/opt/anaconda3/lib/python3.7/site-packages/statsmodels/tsa/base/tsa_model.py:165: ValueWarning: No frequency information was provided, so inferred frequency 2AS-JAN will be used.\n",
      "  % freq, ValueWarning)\n"
     ]
    },
    {
     "name": "stdout",
     "output_type": "stream",
     "text": [
      "KUG 1210+301B (KK98 127)\n",
      "1.098536112855897e-06\n"
     ]
    },
    {
     "name": "stderr",
     "output_type": "stream",
     "text": [
      "/Users/Tiffany/opt/anaconda3/lib/python3.7/site-packages/statsmodels/tsa/base/tsa_model.py:165: ValueWarning: No frequency information was provided, so inferred frequency 2AS-JAN will be used.\n",
      "  % freq, ValueWarning)\n",
      "/Users/Tiffany/opt/anaconda3/lib/python3.7/site-packages/statsmodels/tsa/base/tsa_model.py:165: ValueWarning: No frequency information was provided, so inferred frequency 2AS-JAN will be used.\n",
      "  % freq, ValueWarning)\n",
      "/Users/Tiffany/opt/anaconda3/lib/python3.7/site-packages/statsmodels/tsa/base/tsa_model.py:165: ValueWarning: No frequency information was provided, so inferred frequency 2AS-JAN will be used.\n",
      "  % freq, ValueWarning)\n",
      "/Users/Tiffany/opt/anaconda3/lib/python3.7/site-packages/statsmodels/tsa/base/tsa_model.py:165: ValueWarning: No frequency information was provided, so inferred frequency 2AS-JAN will be used.\n",
      "  % freq, ValueWarning)\n"
     ]
    },
    {
     "name": "stdout",
     "output_type": "stream",
     "text": [
      "Andromeda V\n",
      "8.500782009305371e-07\n"
     ]
    },
    {
     "name": "stderr",
     "output_type": "stream",
     "text": [
      "/Users/Tiffany/opt/anaconda3/lib/python3.7/site-packages/statsmodels/tsa/base/tsa_model.py:219: ValueWarning: A date index has been provided, but it has no associated frequency information and so will be ignored when e.g. forecasting.\n",
      "  ' ignored when e.g. forecasting.', ValueWarning)\n",
      "/Users/Tiffany/opt/anaconda3/lib/python3.7/site-packages/statsmodels/tsa/base/tsa_model.py:165: ValueWarning: No frequency information was provided, so inferred frequency 2AS-JAN will be used.\n",
      "  % freq, ValueWarning)\n",
      "/Users/Tiffany/opt/anaconda3/lib/python3.7/site-packages/statsmodels/tsa/statespace/sarimax.py:949: UserWarning: Non-stationary starting autoregressive parameters found. Using zeros as starting parameters.\n",
      "  warn('Non-stationary starting autoregressive parameters'\n",
      "/Users/Tiffany/opt/anaconda3/lib/python3.7/site-packages/statsmodels/base/model.py:512: ConvergenceWarning: Maximum Likelihood optimization failed to converge. Check mle_retvals\n",
      "  \"Check mle_retvals\", ConvergenceWarning)\n",
      "/Users/Tiffany/opt/anaconda3/lib/python3.7/site-packages/statsmodels/tsa/base/tsa_model.py:165: ValueWarning: No frequency information was provided, so inferred frequency 2AS-JAN will be used.\n",
      "  % freq, ValueWarning)\n",
      "/Users/Tiffany/opt/anaconda3/lib/python3.7/site-packages/statsmodels/tsa/statespace/sarimax.py:949: UserWarning: Non-stationary starting autoregressive parameters found. Using zeros as starting parameters.\n",
      "  warn('Non-stationary starting autoregressive parameters'\n",
      "/Users/Tiffany/opt/anaconda3/lib/python3.7/site-packages/statsmodels/tsa/base/tsa_model.py:165: ValueWarning: No frequency information was provided, so inferred frequency 2AS-JAN will be used.\n",
      "  % freq, ValueWarning)\n",
      "/Users/Tiffany/opt/anaconda3/lib/python3.7/site-packages/statsmodels/tsa/base/tsa_model.py:219: ValueWarning: A date index has been provided, but it has no associated frequency information and so will be ignored when e.g. forecasting.\n",
      "  ' ignored when e.g. forecasting.', ValueWarning)\n",
      "/Users/Tiffany/opt/anaconda3/lib/python3.7/site-packages/statsmodels/tsa/base/tsa_model.py:165: ValueWarning: No frequency information was provided, so inferred frequency 2AS-JAN will be used.\n",
      "  % freq, ValueWarning)\n",
      "/Users/Tiffany/opt/anaconda3/lib/python3.7/site-packages/statsmodels/base/model.py:512: ConvergenceWarning: Maximum Likelihood optimization failed to converge. Check mle_retvals\n",
      "  \"Check mle_retvals\", ConvergenceWarning)\n",
      "/Users/Tiffany/opt/anaconda3/lib/python3.7/site-packages/statsmodels/tsa/base/tsa_model.py:165: ValueWarning: No frequency information was provided, so inferred frequency 2AS-JAN will be used.\n",
      "  % freq, ValueWarning)\n"
     ]
    },
    {
     "name": "stdout",
     "output_type": "stream",
     "text": [
      "Sagittarius Dwarf Sphr SagDEG\n",
      "5.981537171561858e-07\n"
     ]
    },
    {
     "name": "stderr",
     "output_type": "stream",
     "text": [
      "/Users/Tiffany/opt/anaconda3/lib/python3.7/site-packages/statsmodels/tsa/base/tsa_model.py:165: ValueWarning: No frequency information was provided, so inferred frequency 2AS-JAN will be used.\n",
      "  % freq, ValueWarning)\n",
      "/Users/Tiffany/opt/anaconda3/lib/python3.7/site-packages/statsmodels/tsa/base/tsa_model.py:219: ValueWarning: A date index has been provided, but it has no associated frequency information and so will be ignored when e.g. forecasting.\n",
      "  ' ignored when e.g. forecasting.', ValueWarning)\n",
      "/Users/Tiffany/opt/anaconda3/lib/python3.7/site-packages/statsmodels/tsa/base/tsa_model.py:165: ValueWarning: No frequency information was provided, so inferred frequency 2AS-JAN will be used.\n",
      "  % freq, ValueWarning)\n",
      "/Users/Tiffany/opt/anaconda3/lib/python3.7/site-packages/statsmodels/tsa/base/tsa_model.py:165: ValueWarning: No frequency information was provided, so inferred frequency 2AS-JAN will be used.\n",
      "  % freq, ValueWarning)\n"
     ]
    },
    {
     "name": "stdout",
     "output_type": "stream",
     "text": [
      "UGCA 276 (DDO 113)\n",
      "4.489391201716239e-06\n"
     ]
    },
    {
     "name": "stderr",
     "output_type": "stream",
     "text": [
      "/Users/Tiffany/opt/anaconda3/lib/python3.7/site-packages/statsmodels/tsa/base/tsa_model.py:165: ValueWarning: No frequency information was provided, so inferred frequency 2AS-JAN will be used.\n",
      "  % freq, ValueWarning)\n",
      "/Users/Tiffany/opt/anaconda3/lib/python3.7/site-packages/statsmodels/tsa/base/tsa_model.py:219: ValueWarning: A date index has been provided, but it has no associated frequency information and so will be ignored when e.g. forecasting.\n",
      "  ' ignored when e.g. forecasting.', ValueWarning)\n",
      "/Users/Tiffany/opt/anaconda3/lib/python3.7/site-packages/statsmodels/tsa/base/tsa_model.py:165: ValueWarning: No frequency information was provided, so inferred frequency 2AS-JAN will be used.\n",
      "  % freq, ValueWarning)\n"
     ]
    },
    {
     "name": "stdout",
     "output_type": "stream",
     "text": [
      "Ursa Minor Dwarf\n",
      "3.99054664010099e-06\n"
     ]
    },
    {
     "name": "stderr",
     "output_type": "stream",
     "text": [
      "/Users/Tiffany/opt/anaconda3/lib/python3.7/site-packages/statsmodels/tsa/base/tsa_model.py:165: ValueWarning: No frequency information was provided, so inferred frequency 2AS-JAN will be used.\n",
      "  % freq, ValueWarning)\n",
      "/Users/Tiffany/opt/anaconda3/lib/python3.7/site-packages/statsmodels/tsa/base/tsa_model.py:165: ValueWarning: No frequency information was provided, so inferred frequency 2AS-JAN will be used.\n",
      "  % freq, ValueWarning)\n",
      "/Users/Tiffany/opt/anaconda3/lib/python3.7/site-packages/statsmodels/tsa/base/tsa_model.py:165: ValueWarning: No frequency information was provided, so inferred frequency 2AS-JAN will be used.\n",
      "  % freq, ValueWarning)\n",
      "/Users/Tiffany/opt/anaconda3/lib/python3.7/site-packages/statsmodels/tsa/base/tsa_model.py:165: ValueWarning: No frequency information was provided, so inferred frequency 2AS-JAN will be used.\n",
      "  % freq, ValueWarning)\n"
     ]
    },
    {
     "name": "stdout",
     "output_type": "stream",
     "text": [
      "UGC 9128 (DDO 187)\n",
      "1.9927733553755224e-07\n"
     ]
    },
    {
     "name": "stderr",
     "output_type": "stream",
     "text": [
      "/Users/Tiffany/opt/anaconda3/lib/python3.7/site-packages/statsmodels/tsa/base/tsa_model.py:165: ValueWarning: No frequency information was provided, so inferred frequency 2AS-JAN will be used.\n",
      "  % freq, ValueWarning)\n",
      "/Users/Tiffany/opt/anaconda3/lib/python3.7/site-packages/statsmodels/base/model.py:512: ConvergenceWarning: Maximum Likelihood optimization failed to converge. Check mle_retvals\n",
      "  \"Check mle_retvals\", ConvergenceWarning)\n",
      "/Users/Tiffany/opt/anaconda3/lib/python3.7/site-packages/statsmodels/tsa/base/tsa_model.py:165: ValueWarning: No frequency information was provided, so inferred frequency 2AS-JAN will be used.\n",
      "  % freq, ValueWarning)\n"
     ]
    },
    {
     "name": "stdout",
     "output_type": "stream",
     "text": [
      "Andromeda XX\n",
      "4.086319592753708e-07\n"
     ]
    },
    {
     "name": "stderr",
     "output_type": "stream",
     "text": [
      "/Users/Tiffany/opt/anaconda3/lib/python3.7/site-packages/statsmodels/tsa/base/tsa_model.py:165: ValueWarning: No frequency information was provided, so inferred frequency 2AS-JAN will be used.\n",
      "  % freq, ValueWarning)\n",
      "/Users/Tiffany/opt/anaconda3/lib/python3.7/site-packages/statsmodels/tsa/base/tsa_model.py:165: ValueWarning: No frequency information was provided, so inferred frequency 2AS-JAN will be used.\n",
      "  % freq, ValueWarning)\n",
      "/Users/Tiffany/opt/anaconda3/lib/python3.7/site-packages/statsmodels/tsa/base/tsa_model.py:165: ValueWarning: No frequency information was provided, so inferred frequency 2AS-JAN will be used.\n",
      "  % freq, ValueWarning)\n",
      "/Users/Tiffany/opt/anaconda3/lib/python3.7/site-packages/statsmodels/tsa/base/tsa_model.py:165: ValueWarning: No frequency information was provided, so inferred frequency 2AS-JAN will be used.\n",
      "  % freq, ValueWarning)\n"
     ]
    },
    {
     "name": "stdout",
     "output_type": "stream",
     "text": [
      "Segue 2\n",
      "3.809585345427158e-07\n"
     ]
    },
    {
     "name": "stderr",
     "output_type": "stream",
     "text": [
      "/Users/Tiffany/opt/anaconda3/lib/python3.7/site-packages/statsmodels/tsa/base/tsa_model.py:219: ValueWarning: A date index has been provided, but it has no associated frequency information and so will be ignored when e.g. forecasting.\n",
      "  ' ignored when e.g. forecasting.', ValueWarning)\n",
      "/Users/Tiffany/opt/anaconda3/lib/python3.7/site-packages/statsmodels/tsa/base/tsa_model.py:165: ValueWarning: No frequency information was provided, so inferred frequency 2AS-JAN will be used.\n",
      "  % freq, ValueWarning)\n",
      "/Users/Tiffany/opt/anaconda3/lib/python3.7/site-packages/statsmodels/tsa/base/tsa_model.py:165: ValueWarning: No frequency information was provided, so inferred frequency 2AS-JAN will be used.\n",
      "  % freq, ValueWarning)\n",
      "/Users/Tiffany/opt/anaconda3/lib/python3.7/site-packages/statsmodels/tsa/base/tsa_model.py:165: ValueWarning: No frequency information was provided, so inferred frequency 2AS-JAN will be used.\n",
      "  % freq, ValueWarning)\n",
      "/Users/Tiffany/opt/anaconda3/lib/python3.7/site-packages/statsmodels/tsa/base/tsa_model.py:219: ValueWarning: A date index has been provided, but it has no associated frequency information and so will be ignored when e.g. forecasting.\n",
      "  ' ignored when e.g. forecasting.', ValueWarning)\n",
      "/Users/Tiffany/opt/anaconda3/lib/python3.7/site-packages/statsmodels/tsa/base/tsa_model.py:165: ValueWarning: No frequency information was provided, so inferred frequency 2AS-JAN will be used.\n",
      "  % freq, ValueWarning)\n",
      "/Users/Tiffany/opt/anaconda3/lib/python3.7/site-packages/statsmodels/tsa/statespace/sarimax.py:949: UserWarning: Non-stationary starting autoregressive parameters found. Using zeros as starting parameters.\n",
      "  warn('Non-stationary starting autoregressive parameters'\n",
      "/Users/Tiffany/opt/anaconda3/lib/python3.7/site-packages/statsmodels/tsa/base/tsa_model.py:165: ValueWarning: No frequency information was provided, so inferred frequency 2AS-JAN will be used.\n",
      "  % freq, ValueWarning)\n",
      "/Users/Tiffany/opt/anaconda3/lib/python3.7/site-packages/statsmodels/tsa/statespace/sarimax.py:949: UserWarning: Non-stationary starting autoregressive parameters found. Using zeros as starting parameters.\n",
      "  warn('Non-stationary starting autoregressive parameters'\n"
     ]
    },
    {
     "name": "stdout",
     "output_type": "stream",
     "text": [
      "Fornax Dwarf (E356-G04)\n",
      "1.0414513418054364e-05\n"
     ]
    },
    {
     "name": "stderr",
     "output_type": "stream",
     "text": [
      "/Users/Tiffany/opt/anaconda3/lib/python3.7/site-packages/statsmodels/tsa/base/tsa_model.py:165: ValueWarning: No frequency information was provided, so inferred frequency 2AS-JAN will be used.\n",
      "  % freq, ValueWarning)\n",
      "/Users/Tiffany/opt/anaconda3/lib/python3.7/site-packages/statsmodels/base/model.py:512: ConvergenceWarning: Maximum Likelihood optimization failed to converge. Check mle_retvals\n",
      "  \"Check mle_retvals\", ConvergenceWarning)\n",
      "/Users/Tiffany/opt/anaconda3/lib/python3.7/site-packages/statsmodels/tsa/base/tsa_model.py:219: ValueWarning: A date index has been provided, but it has no associated frequency information and so will be ignored when e.g. forecasting.\n",
      "  ' ignored when e.g. forecasting.', ValueWarning)\n",
      "/Users/Tiffany/opt/anaconda3/lib/python3.7/site-packages/statsmodels/tsa/base/tsa_model.py:165: ValueWarning: No frequency information was provided, so inferred frequency 2AS-JAN will be used.\n",
      "  % freq, ValueWarning)\n"
     ]
    },
    {
     "name": "stdout",
     "output_type": "stream",
     "text": [
      "Columba I\n",
      "2.4026477437430197e-07\n"
     ]
    },
    {
     "name": "stderr",
     "output_type": "stream",
     "text": [
      "/Users/Tiffany/opt/anaconda3/lib/python3.7/site-packages/statsmodels/base/model.py:512: ConvergenceWarning: Maximum Likelihood optimization failed to converge. Check mle_retvals\n",
      "  \"Check mle_retvals\", ConvergenceWarning)\n",
      "/Users/Tiffany/opt/anaconda3/lib/python3.7/site-packages/statsmodels/tsa/base/tsa_model.py:165: ValueWarning: No frequency information was provided, so inferred frequency 2AS-JAN will be used.\n",
      "  % freq, ValueWarning)\n",
      "/Users/Tiffany/opt/anaconda3/lib/python3.7/site-packages/statsmodels/tsa/base/tsa_model.py:165: ValueWarning: No frequency information was provided, so inferred frequency 2AS-JAN will be used.\n",
      "  % freq, ValueWarning)\n",
      "/Users/Tiffany/opt/anaconda3/lib/python3.7/site-packages/statsmodels/base/model.py:512: ConvergenceWarning: Maximum Likelihood optimization failed to converge. Check mle_retvals\n",
      "  \"Check mle_retvals\", ConvergenceWarning)\n",
      "/Users/Tiffany/opt/anaconda3/lib/python3.7/site-packages/statsmodels/tsa/base/tsa_model.py:219: ValueWarning: A date index has been provided, but it has no associated frequency information and so will be ignored when e.g. forecasting.\n",
      "  ' ignored when e.g. forecasting.', ValueWarning)\n",
      "/Users/Tiffany/opt/anaconda3/lib/python3.7/site-packages/statsmodels/tsa/base/tsa_model.py:165: ValueWarning: No frequency information was provided, so inferred frequency 2AS-JAN will be used.\n",
      "  % freq, ValueWarning)\n",
      "/Users/Tiffany/opt/anaconda3/lib/python3.7/site-packages/statsmodels/tsa/statespace/sarimax.py:961: UserWarning: Non-invertible starting MA parameters found. Using zeros as starting parameters.\n",
      "  warn('Non-invertible starting MA parameters found.'\n"
     ]
    },
    {
     "name": "stdout",
     "output_type": "stream",
     "text": [
      "KK98 77\n",
      "1.5381638804608734e-07\n"
     ]
    },
    {
     "name": "stderr",
     "output_type": "stream",
     "text": [
      "/Users/Tiffany/opt/anaconda3/lib/python3.7/site-packages/statsmodels/tsa/base/tsa_model.py:165: ValueWarning: No frequency information was provided, so inferred frequency 2AS-JAN will be used.\n",
      "  % freq, ValueWarning)\n",
      "/Users/Tiffany/opt/anaconda3/lib/python3.7/site-packages/statsmodels/tsa/base/tsa_model.py:165: ValueWarning: No frequency information was provided, so inferred frequency 2AS-JAN will be used.\n",
      "  % freq, ValueWarning)\n"
     ]
    },
    {
     "name": "stdout",
     "output_type": "stream",
     "text": [
      "Holmberg II (DDO 50, UGC 4305)\n",
      "2.5552798128565125e-06\n"
     ]
    },
    {
     "name": "stderr",
     "output_type": "stream",
     "text": [
      "/Users/Tiffany/opt/anaconda3/lib/python3.7/site-packages/statsmodels/tsa/base/tsa_model.py:219: ValueWarning: A date index has been provided, but it has no associated frequency information and so will be ignored when e.g. forecasting.\n",
      "  ' ignored when e.g. forecasting.', ValueWarning)\n",
      "/Users/Tiffany/opt/anaconda3/lib/python3.7/site-packages/statsmodels/tsa/base/tsa_model.py:165: ValueWarning: No frequency information was provided, so inferred frequency 2AS-JAN will be used.\n",
      "  % freq, ValueWarning)\n",
      "/Users/Tiffany/opt/anaconda3/lib/python3.7/site-packages/statsmodels/tsa/base/tsa_model.py:165: ValueWarning: No frequency information was provided, so inferred frequency 2AS-JAN will be used.\n",
      "  % freq, ValueWarning)\n",
      "/Users/Tiffany/opt/anaconda3/lib/python3.7/site-packages/statsmodels/tsa/base/tsa_model.py:165: ValueWarning: No frequency information was provided, so inferred frequency 2AS-JAN will be used.\n",
      "  % freq, ValueWarning)\n",
      "/Users/Tiffany/opt/anaconda3/lib/python3.7/site-packages/statsmodels/tsa/base/tsa_model.py:219: ValueWarning: A date index has been provided, but it has no associated frequency information and so will be ignored when e.g. forecasting.\n",
      "  ' ignored when e.g. forecasting.', ValueWarning)\n",
      "/Users/Tiffany/opt/anaconda3/lib/python3.7/site-packages/statsmodels/tsa/base/tsa_model.py:165: ValueWarning: No frequency information was provided, so inferred frequency 2AS-JAN will be used.\n",
      "  % freq, ValueWarning)\n",
      "/Users/Tiffany/opt/anaconda3/lib/python3.7/site-packages/statsmodels/tsa/statespace/sarimax.py:961: UserWarning: Non-invertible starting MA parameters found. Using zeros as starting parameters.\n",
      "  warn('Non-invertible starting MA parameters found.'\n"
     ]
    },
    {
     "name": "stdout",
     "output_type": "stream",
     "text": [
      "ESO 540-030 (KDG 2)\n",
      "3.4228797868523866e-06\n"
     ]
    },
    {
     "name": "stderr",
     "output_type": "stream",
     "text": [
      "/Users/Tiffany/opt/anaconda3/lib/python3.7/site-packages/statsmodels/tsa/base/tsa_model.py:165: ValueWarning: No frequency information was provided, so inferred frequency 2AS-JAN will be used.\n",
      "  % freq, ValueWarning)\n",
      "/Users/Tiffany/opt/anaconda3/lib/python3.7/site-packages/statsmodels/tsa/base/tsa_model.py:165: ValueWarning: No frequency information was provided, so inferred frequency 2AS-JAN will be used.\n",
      "  % freq, ValueWarning)\n"
     ]
    },
    {
     "name": "stdout",
     "output_type": "stream",
     "text": [
      "NGC 404\n",
      "4.326294269752464e-07\n"
     ]
    },
    {
     "name": "stderr",
     "output_type": "stream",
     "text": [
      "/Users/Tiffany/opt/anaconda3/lib/python3.7/site-packages/statsmodels/tsa/base/tsa_model.py:219: ValueWarning: A date index has been provided, but it has no associated frequency information and so will be ignored when e.g. forecasting.\n",
      "  ' ignored when e.g. forecasting.', ValueWarning)\n",
      "/Users/Tiffany/opt/anaconda3/lib/python3.7/site-packages/statsmodels/tsa/base/tsa_model.py:165: ValueWarning: No frequency information was provided, so inferred frequency 2AS-JAN will be used.\n",
      "  % freq, ValueWarning)\n",
      "/Users/Tiffany/opt/anaconda3/lib/python3.7/site-packages/statsmodels/tsa/base/tsa_model.py:165: ValueWarning: No frequency information was provided, so inferred frequency 2AS-JAN will be used.\n",
      "  % freq, ValueWarning)\n",
      "/Users/Tiffany/opt/anaconda3/lib/python3.7/site-packages/statsmodels/tsa/statespace/sarimax.py:961: UserWarning: Non-invertible starting MA parameters found. Using zeros as starting parameters.\n",
      "  warn('Non-invertible starting MA parameters found.'\n",
      "/Users/Tiffany/opt/anaconda3/lib/python3.7/site-packages/statsmodels/base/model.py:512: ConvergenceWarning: Maximum Likelihood optimization failed to converge. Check mle_retvals\n",
      "  \"Check mle_retvals\", ConvergenceWarning)\n",
      "/Users/Tiffany/opt/anaconda3/lib/python3.7/site-packages/statsmodels/tsa/base/tsa_model.py:165: ValueWarning: No frequency information was provided, so inferred frequency 2AS-JAN will be used.\n",
      "  % freq, ValueWarning)\n",
      "/Users/Tiffany/opt/anaconda3/lib/python3.7/site-packages/statsmodels/base/model.py:512: ConvergenceWarning: Maximum Likelihood optimization failed to converge. Check mle_retvals\n",
      "  \"Check mle_retvals\", ConvergenceWarning)\n",
      "/Users/Tiffany/opt/anaconda3/lib/python3.7/site-packages/statsmodels/tsa/base/tsa_model.py:219: ValueWarning: A date index has been provided, but it has no associated frequency information and so will be ignored when e.g. forecasting.\n",
      "  ' ignored when e.g. forecasting.', ValueWarning)\n",
      "/Users/Tiffany/opt/anaconda3/lib/python3.7/site-packages/statsmodels/tsa/base/tsa_model.py:165: ValueWarning: No frequency information was provided, so inferred frequency 2AS-JAN will be used.\n",
      "  % freq, ValueWarning)\n",
      "/Users/Tiffany/opt/anaconda3/lib/python3.7/site-packages/statsmodels/tsa/base/tsa_model.py:165: ValueWarning: No frequency information was provided, so inferred frequency 2AS-JAN will be used.\n",
      "  % freq, ValueWarning)\n",
      "/Users/Tiffany/opt/anaconda3/lib/python3.7/site-packages/statsmodels/tsa/base/tsa_model.py:165: ValueWarning: No frequency information was provided, so inferred frequency 2AS-JAN will be used.\n",
      "  % freq, ValueWarning)\n"
     ]
    },
    {
     "name": "stdout",
     "output_type": "stream",
     "text": [
      "UGC 8833\n",
      "2.7195231995311963e-07\n",
      "Perseus I (Andromeda XXXIII)\n",
      "5.424465764329078e-07\n"
     ]
    },
    {
     "name": "stderr",
     "output_type": "stream",
     "text": [
      "/Users/Tiffany/opt/anaconda3/lib/python3.7/site-packages/statsmodels/tsa/base/tsa_model.py:219: ValueWarning: A date index has been provided, but it has no associated frequency information and so will be ignored when e.g. forecasting.\n",
      "  ' ignored when e.g. forecasting.', ValueWarning)\n",
      "/Users/Tiffany/opt/anaconda3/lib/python3.7/site-packages/statsmodels/tsa/base/tsa_model.py:165: ValueWarning: No frequency information was provided, so inferred frequency 2AS-JAN will be used.\n",
      "  % freq, ValueWarning)\n",
      "/Users/Tiffany/opt/anaconda3/lib/python3.7/site-packages/statsmodels/tsa/statespace/sarimax.py:949: UserWarning: Non-stationary starting autoregressive parameters found. Using zeros as starting parameters.\n",
      "  warn('Non-stationary starting autoregressive parameters'\n",
      "/Users/Tiffany/opt/anaconda3/lib/python3.7/site-packages/statsmodels/tsa/statespace/sarimax.py:961: UserWarning: Non-invertible starting MA parameters found. Using zeros as starting parameters.\n",
      "  warn('Non-invertible starting MA parameters found.'\n",
      "/Users/Tiffany/opt/anaconda3/lib/python3.7/site-packages/statsmodels/tsa/base/tsa_model.py:165: ValueWarning: No frequency information was provided, so inferred frequency 2AS-JAN will be used.\n",
      "  % freq, ValueWarning)\n",
      "/Users/Tiffany/opt/anaconda3/lib/python3.7/site-packages/statsmodels/tsa/base/tsa_model.py:165: ValueWarning: No frequency information was provided, so inferred frequency 2AS-JAN will be used.\n",
      "  % freq, ValueWarning)\n"
     ]
    },
    {
     "name": "stdout",
     "output_type": "stream",
     "text": [
      "Horologium II\n",
      "6.18085007889621e-06\n"
     ]
    },
    {
     "name": "stderr",
     "output_type": "stream",
     "text": [
      "/Users/Tiffany/opt/anaconda3/lib/python3.7/site-packages/statsmodels/tsa/base/tsa_model.py:219: ValueWarning: A date index has been provided, but it has no associated frequency information and so will be ignored when e.g. forecasting.\n",
      "  ' ignored when e.g. forecasting.', ValueWarning)\n",
      "/Users/Tiffany/opt/anaconda3/lib/python3.7/site-packages/statsmodels/tsa/base/tsa_model.py:165: ValueWarning: No frequency information was provided, so inferred frequency 2AS-JAN will be used.\n",
      "  % freq, ValueWarning)\n",
      "/Users/Tiffany/opt/anaconda3/lib/python3.7/site-packages/statsmodels/tsa/base/tsa_model.py:165: ValueWarning: No frequency information was provided, so inferred frequency 2AS-JAN will be used.\n",
      "  % freq, ValueWarning)\n",
      "/Users/Tiffany/opt/anaconda3/lib/python3.7/site-packages/statsmodels/tsa/base/tsa_model.py:165: ValueWarning: No frequency information was provided, so inferred frequency 2AS-JAN will be used.\n",
      "  % freq, ValueWarning)\n"
     ]
    },
    {
     "name": "stdout",
     "output_type": "stream",
     "text": [
      "Andromeda XXVI\n",
      "1.6568147093401613e-07\n"
     ]
    },
    {
     "name": "stderr",
     "output_type": "stream",
     "text": [
      "/Users/Tiffany/opt/anaconda3/lib/python3.7/site-packages/statsmodels/tsa/base/tsa_model.py:219: ValueWarning: A date index has been provided, but it has no associated frequency information and so will be ignored when e.g. forecasting.\n",
      "  ' ignored when e.g. forecasting.', ValueWarning)\n",
      "/Users/Tiffany/opt/anaconda3/lib/python3.7/site-packages/statsmodels/tsa/base/tsa_model.py:165: ValueWarning: No frequency information was provided, so inferred frequency 2AS-JAN will be used.\n",
      "  % freq, ValueWarning)\n",
      "/Users/Tiffany/opt/anaconda3/lib/python3.7/site-packages/statsmodels/tsa/base/tsa_model.py:165: ValueWarning: No frequency information was provided, so inferred frequency 2AS-JAN will be used.\n",
      "  % freq, ValueWarning)\n",
      "/Users/Tiffany/opt/anaconda3/lib/python3.7/site-packages/statsmodels/tsa/base/tsa_model.py:165: ValueWarning: No frequency information was provided, so inferred frequency 2AS-JAN will be used.\n",
      "  % freq, ValueWarning)\n"
     ]
    },
    {
     "name": "stdout",
     "output_type": "stream",
     "text": [
      "Grus I\n",
      "2.7421335687892545e-07\n"
     ]
    },
    {
     "name": "stderr",
     "output_type": "stream",
     "text": [
      "/Users/Tiffany/opt/anaconda3/lib/python3.7/site-packages/statsmodels/tsa/base/tsa_model.py:219: ValueWarning: A date index has been provided, but it has no associated frequency information and so will be ignored when e.g. forecasting.\n",
      "  ' ignored when e.g. forecasting.', ValueWarning)\n",
      "/Users/Tiffany/opt/anaconda3/lib/python3.7/site-packages/statsmodels/tsa/base/tsa_model.py:165: ValueWarning: No frequency information was provided, so inferred frequency 2AS-JAN will be used.\n",
      "  % freq, ValueWarning)\n",
      "/Users/Tiffany/opt/anaconda3/lib/python3.7/site-packages/statsmodels/tsa/base/tsa_model.py:165: ValueWarning: No frequency information was provided, so inferred frequency 2AS-JAN will be used.\n",
      "  % freq, ValueWarning)\n",
      "/Users/Tiffany/opt/anaconda3/lib/python3.7/site-packages/statsmodels/base/model.py:512: ConvergenceWarning: Maximum Likelihood optimization failed to converge. Check mle_retvals\n",
      "  \"Check mle_retvals\", ConvergenceWarning)\n",
      "/Users/Tiffany/opt/anaconda3/lib/python3.7/site-packages/statsmodels/tsa/base/tsa_model.py:165: ValueWarning: No frequency information was provided, so inferred frequency 2AS-JAN will be used.\n",
      "  % freq, ValueWarning)\n",
      "/Users/Tiffany/opt/anaconda3/lib/python3.7/site-packages/statsmodels/base/model.py:512: ConvergenceWarning: Maximum Likelihood optimization failed to converge. Check mle_retvals\n",
      "  \"Check mle_retvals\", ConvergenceWarning)\n",
      "/Users/Tiffany/opt/anaconda3/lib/python3.7/site-packages/statsmodels/tsa/base/tsa_model.py:219: ValueWarning: A date index has been provided, but it has no associated frequency information and so will be ignored when e.g. forecasting.\n",
      "  ' ignored when e.g. forecasting.', ValueWarning)\n",
      "/Users/Tiffany/opt/anaconda3/lib/python3.7/site-packages/statsmodels/tsa/base/tsa_model.py:165: ValueWarning: No frequency information was provided, so inferred frequency 2AS-JAN will be used.\n",
      "  % freq, ValueWarning)\n",
      "/Users/Tiffany/opt/anaconda3/lib/python3.7/site-packages/statsmodels/tsa/statespace/sarimax.py:949: UserWarning: Non-stationary starting autoregressive parameters found. Using zeros as starting parameters.\n",
      "  warn('Non-stationary starting autoregressive parameters'\n",
      "/Users/Tiffany/opt/anaconda3/lib/python3.7/site-packages/statsmodels/tsa/base/tsa_model.py:165: ValueWarning: No frequency information was provided, so inferred frequency 2AS-JAN will be used.\n",
      "  % freq, ValueWarning)\n",
      "/Users/Tiffany/opt/anaconda3/lib/python3.7/site-packages/statsmodels/tsa/statespace/sarimax.py:949: UserWarning: Non-stationary starting autoregressive parameters found. Using zeros as starting parameters.\n",
      "  warn('Non-stationary starting autoregressive parameters'\n",
      "/Users/Tiffany/opt/anaconda3/lib/python3.7/site-packages/statsmodels/tsa/base/tsa_model.py:165: ValueWarning: No frequency information was provided, so inferred frequency 2AS-JAN will be used.\n",
      "  % freq, ValueWarning)\n"
     ]
    },
    {
     "name": "stdout",
     "output_type": "stream",
     "text": [
      "Andromeda IX\n",
      "9.814363076138698e-06\n",
      "Andromeda XXII[57]\n",
      "8.465460088172748e-07\n"
     ]
    },
    {
     "name": "stderr",
     "output_type": "stream",
     "text": [
      "/Users/Tiffany/opt/anaconda3/lib/python3.7/site-packages/statsmodels/tsa/base/tsa_model.py:165: ValueWarning: No frequency information was provided, so inferred frequency 2AS-JAN will be used.\n",
      "  % freq, ValueWarning)\n",
      "/Users/Tiffany/opt/anaconda3/lib/python3.7/site-packages/statsmodels/tsa/base/tsa_model.py:165: ValueWarning: No frequency information was provided, so inferred frequency 2AS-JAN will be used.\n",
      "  % freq, ValueWarning)\n",
      "/Users/Tiffany/opt/anaconda3/lib/python3.7/site-packages/statsmodels/tsa/base/tsa_model.py:165: ValueWarning: No frequency information was provided, so inferred frequency 2AS-JAN will be used.\n",
      "  % freq, ValueWarning)\n",
      "/Users/Tiffany/opt/anaconda3/lib/python3.7/site-packages/statsmodels/tsa/base/tsa_model.py:165: ValueWarning: No frequency information was provided, so inferred frequency 2AS-JAN will be used.\n",
      "  % freq, ValueWarning)\n"
     ]
    },
    {
     "name": "stdout",
     "output_type": "stream",
     "text": [
      "ESO 274-01[70]\n",
      "1.1602672169079927e-07\n"
     ]
    },
    {
     "name": "stderr",
     "output_type": "stream",
     "text": [
      "/Users/Tiffany/opt/anaconda3/lib/python3.7/site-packages/statsmodels/tsa/base/tsa_model.py:219: ValueWarning: A date index has been provided, but it has no associated frequency information and so will be ignored when e.g. forecasting.\n",
      "  ' ignored when e.g. forecasting.', ValueWarning)\n",
      "/Users/Tiffany/opt/anaconda3/lib/python3.7/site-packages/statsmodels/tsa/base/tsa_model.py:165: ValueWarning: No frequency information was provided, so inferred frequency 2AS-JAN will be used.\n",
      "  % freq, ValueWarning)\n",
      "/Users/Tiffany/opt/anaconda3/lib/python3.7/site-packages/statsmodels/tsa/base/tsa_model.py:165: ValueWarning: No frequency information was provided, so inferred frequency 2AS-JAN will be used.\n",
      "  % freq, ValueWarning)\n",
      "/Users/Tiffany/opt/anaconda3/lib/python3.7/site-packages/statsmodels/tsa/base/tsa_model.py:165: ValueWarning: No frequency information was provided, so inferred frequency 2AS-JAN will be used.\n",
      "  % freq, ValueWarning)\n"
     ]
    },
    {
     "name": "stdout",
     "output_type": "stream",
     "text": [
      "Leo II Dwarf (Leo B, DDO 93)\n",
      "3.987656978621287e-07\n"
     ]
    },
    {
     "name": "stderr",
     "output_type": "stream",
     "text": [
      "/Users/Tiffany/opt/anaconda3/lib/python3.7/site-packages/statsmodels/tsa/base/tsa_model.py:219: ValueWarning: A date index has been provided, but it has no associated frequency information and so will be ignored when e.g. forecasting.\n",
      "  ' ignored when e.g. forecasting.', ValueWarning)\n",
      "/Users/Tiffany/opt/anaconda3/lib/python3.7/site-packages/statsmodels/tsa/base/tsa_model.py:165: ValueWarning: No frequency information was provided, so inferred frequency 2AS-JAN will be used.\n",
      "  % freq, ValueWarning)\n",
      "/Users/Tiffany/opt/anaconda3/lib/python3.7/site-packages/statsmodels/base/model.py:512: ConvergenceWarning: Maximum Likelihood optimization failed to converge. Check mle_retvals\n",
      "  \"Check mle_retvals\", ConvergenceWarning)\n",
      "/Users/Tiffany/opt/anaconda3/lib/python3.7/site-packages/statsmodels/tsa/base/tsa_model.py:165: ValueWarning: No frequency information was provided, so inferred frequency 2AS-JAN will be used.\n",
      "  % freq, ValueWarning)\n",
      "/Users/Tiffany/opt/anaconda3/lib/python3.7/site-packages/statsmodels/tsa/base/tsa_model.py:165: ValueWarning: No frequency information was provided, so inferred frequency 2AS-JAN will be used.\n",
      "  % freq, ValueWarning)\n",
      "/Users/Tiffany/opt/anaconda3/lib/python3.7/site-packages/statsmodels/base/model.py:512: ConvergenceWarning: Maximum Likelihood optimization failed to converge. Check mle_retvals\n",
      "  \"Check mle_retvals\", ConvergenceWarning)\n",
      "/Users/Tiffany/opt/anaconda3/lib/python3.7/site-packages/statsmodels/tsa/base/tsa_model.py:219: ValueWarning: A date index has been provided, but it has no associated frequency information and so will be ignored when e.g. forecasting.\n",
      "  ' ignored when e.g. forecasting.', ValueWarning)\n",
      "/Users/Tiffany/opt/anaconda3/lib/python3.7/site-packages/statsmodels/tsa/base/tsa_model.py:165: ValueWarning: No frequency information was provided, so inferred frequency 2AS-JAN will be used.\n",
      "  % freq, ValueWarning)\n",
      "/Users/Tiffany/opt/anaconda3/lib/python3.7/site-packages/statsmodels/tsa/statespace/sarimax.py:961: UserWarning: Non-invertible starting MA parameters found. Using zeros as starting parameters.\n",
      "  warn('Non-invertible starting MA parameters found.'\n",
      "/Users/Tiffany/opt/anaconda3/lib/python3.7/site-packages/statsmodels/tsa/base/tsa_model.py:165: ValueWarning: No frequency information was provided, so inferred frequency 2AS-JAN will be used.\n",
      "  % freq, ValueWarning)\n",
      "/Users/Tiffany/opt/anaconda3/lib/python3.7/site-packages/statsmodels/tsa/statespace/sarimax.py:949: UserWarning: Non-stationary starting autoregressive parameters found. Using zeros as starting parameters.\n",
      "  warn('Non-stationary starting autoregressive parameters'\n",
      "/Users/Tiffany/opt/anaconda3/lib/python3.7/site-packages/statsmodels/tsa/statespace/sarimax.py:961: UserWarning: Non-invertible starting MA parameters found. Using zeros as starting parameters.\n",
      "  warn('Non-invertible starting MA parameters found.'\n"
     ]
    },
    {
     "name": "stdout",
     "output_type": "stream",
     "text": [
      "Reticulum II\n",
      "2.3737309242032326e-06\n"
     ]
    },
    {
     "name": "stderr",
     "output_type": "stream",
     "text": [
      "/Users/Tiffany/opt/anaconda3/lib/python3.7/site-packages/statsmodels/tsa/base/tsa_model.py:165: ValueWarning: No frequency information was provided, so inferred frequency 2AS-JAN will be used.\n",
      "  % freq, ValueWarning)\n",
      "/Users/Tiffany/opt/anaconda3/lib/python3.7/site-packages/statsmodels/tsa/base/tsa_model.py:165: ValueWarning: No frequency information was provided, so inferred frequency 2AS-JAN will be used.\n",
      "  % freq, ValueWarning)\n",
      "/Users/Tiffany/opt/anaconda3/lib/python3.7/site-packages/statsmodels/tsa/base/tsa_model.py:165: ValueWarning: No frequency information was provided, so inferred frequency 2AS-JAN will be used.\n",
      "  % freq, ValueWarning)\n"
     ]
    },
    {
     "name": "stdout",
     "output_type": "stream",
     "text": [
      "Andromeda II\n",
      "2.5747536662868468e-05\n"
     ]
    },
    {
     "name": "stderr",
     "output_type": "stream",
     "text": [
      "/Users/Tiffany/opt/anaconda3/lib/python3.7/site-packages/statsmodels/base/model.py:512: ConvergenceWarning: Maximum Likelihood optimization failed to converge. Check mle_retvals\n",
      "  \"Check mle_retvals\", ConvergenceWarning)\n",
      "/Users/Tiffany/opt/anaconda3/lib/python3.7/site-packages/statsmodels/tsa/base/tsa_model.py:165: ValueWarning: No frequency information was provided, so inferred frequency 2AS-JAN will be used.\n",
      "  % freq, ValueWarning)\n",
      "/Users/Tiffany/opt/anaconda3/lib/python3.7/site-packages/statsmodels/tsa/statespace/sarimax.py:949: UserWarning: Non-stationary starting autoregressive parameters found. Using zeros as starting parameters.\n",
      "  warn('Non-stationary starting autoregressive parameters'\n",
      "/Users/Tiffany/opt/anaconda3/lib/python3.7/site-packages/statsmodels/tsa/base/tsa_model.py:165: ValueWarning: No frequency information was provided, so inferred frequency 2AS-JAN will be used.\n",
      "  % freq, ValueWarning)\n",
      "/Users/Tiffany/opt/anaconda3/lib/python3.7/site-packages/statsmodels/base/model.py:512: ConvergenceWarning: Maximum Likelihood optimization failed to converge. Check mle_retvals\n",
      "  \"Check mle_retvals\", ConvergenceWarning)\n",
      "/Users/Tiffany/opt/anaconda3/lib/python3.7/site-packages/statsmodels/tsa/base/tsa_model.py:219: ValueWarning: A date index has been provided, but it has no associated frequency information and so will be ignored when e.g. forecasting.\n",
      "  ' ignored when e.g. forecasting.', ValueWarning)\n",
      "/Users/Tiffany/opt/anaconda3/lib/python3.7/site-packages/statsmodels/tsa/base/tsa_model.py:165: ValueWarning: No frequency information was provided, so inferred frequency 2AS-JAN will be used.\n",
      "  % freq, ValueWarning)\n",
      "/Users/Tiffany/opt/anaconda3/lib/python3.7/site-packages/statsmodels/tsa/base/tsa_model.py:165: ValueWarning: No frequency information was provided, so inferred frequency 2AS-JAN will be used.\n",
      "  % freq, ValueWarning)\n",
      "/Users/Tiffany/opt/anaconda3/lib/python3.7/site-packages/statsmodels/tsa/statespace/sarimax.py:949: UserWarning: Non-stationary starting autoregressive parameters found. Using zeros as starting parameters.\n",
      "  warn('Non-stationary starting autoregressive parameters'\n"
     ]
    },
    {
     "name": "stdout",
     "output_type": "stream",
     "text": [
      "Indus II\n",
      "1.2291750135906845e-06\n"
     ]
    },
    {
     "name": "stderr",
     "output_type": "stream",
     "text": [
      "/Users/Tiffany/opt/anaconda3/lib/python3.7/site-packages/statsmodels/base/model.py:512: ConvergenceWarning: Maximum Likelihood optimization failed to converge. Check mle_retvals\n",
      "  \"Check mle_retvals\", ConvergenceWarning)\n",
      "/Users/Tiffany/opt/anaconda3/lib/python3.7/site-packages/statsmodels/tsa/base/tsa_model.py:165: ValueWarning: No frequency information was provided, so inferred frequency 2AS-JAN will be used.\n",
      "  % freq, ValueWarning)\n",
      "/Users/Tiffany/opt/anaconda3/lib/python3.7/site-packages/statsmodels/tsa/base/tsa_model.py:219: ValueWarning: A date index has been provided, but it has no associated frequency information and so will be ignored when e.g. forecasting.\n",
      "  ' ignored when e.g. forecasting.', ValueWarning)\n",
      "/Users/Tiffany/opt/anaconda3/lib/python3.7/site-packages/statsmodels/tsa/base/tsa_model.py:165: ValueWarning: No frequency information was provided, so inferred frequency 2AS-JAN will be used.\n",
      "  % freq, ValueWarning)\n"
     ]
    },
    {
     "name": "stdout",
     "output_type": "stream",
     "text": [
      "MB 1 (KK98 21)\n",
      "4.469871855101252e-06\n"
     ]
    },
    {
     "name": "stderr",
     "output_type": "stream",
     "text": [
      "/Users/Tiffany/opt/anaconda3/lib/python3.7/site-packages/statsmodels/tsa/base/tsa_model.py:165: ValueWarning: No frequency information was provided, so inferred frequency 2AS-JAN will be used.\n",
      "  % freq, ValueWarning)\n",
      "/Users/Tiffany/opt/anaconda3/lib/python3.7/site-packages/statsmodels/tsa/statespace/sarimax.py:949: UserWarning: Non-stationary starting autoregressive parameters found. Using zeros as starting parameters.\n",
      "  warn('Non-stationary starting autoregressive parameters'\n",
      "/Users/Tiffany/opt/anaconda3/lib/python3.7/site-packages/statsmodels/tsa/base/tsa_model.py:165: ValueWarning: No frequency information was provided, so inferred frequency 2AS-JAN will be used.\n",
      "  % freq, ValueWarning)\n",
      "/Users/Tiffany/opt/anaconda3/lib/python3.7/site-packages/statsmodels/tsa/base/tsa_model.py:219: ValueWarning: A date index has been provided, but it has no associated frequency information and so will be ignored when e.g. forecasting.\n",
      "  ' ignored when e.g. forecasting.', ValueWarning)\n",
      "/Users/Tiffany/opt/anaconda3/lib/python3.7/site-packages/statsmodels/tsa/base/tsa_model.py:165: ValueWarning: No frequency information was provided, so inferred frequency 2AS-JAN will be used.\n",
      "  % freq, ValueWarning)\n",
      "/Users/Tiffany/opt/anaconda3/lib/python3.7/site-packages/statsmodels/tsa/statespace/sarimax.py:961: UserWarning: Non-invertible starting MA parameters found. Using zeros as starting parameters.\n",
      "  warn('Non-invertible starting MA parameters found.'\n"
     ]
    },
    {
     "name": "stdout",
     "output_type": "stream",
     "text": [
      "UGCA 105\n",
      "2.87255811702465e-07\n"
     ]
    },
    {
     "name": "stderr",
     "output_type": "stream",
     "text": [
      "/Users/Tiffany/opt/anaconda3/lib/python3.7/site-packages/statsmodels/tsa/base/tsa_model.py:165: ValueWarning: No frequency information was provided, so inferred frequency 2AS-JAN will be used.\n",
      "  % freq, ValueWarning)\n",
      "/Users/Tiffany/opt/anaconda3/lib/python3.7/site-packages/statsmodels/tsa/base/tsa_model.py:165: ValueWarning: No frequency information was provided, so inferred frequency 2AS-JAN will be used.\n",
      "  % freq, ValueWarning)\n"
     ]
    },
    {
     "name": "stdout",
     "output_type": "stream",
     "text": [
      "Crater II\n",
      "1.61856837057052e-07\n"
     ]
    },
    {
     "name": "stderr",
     "output_type": "stream",
     "text": [
      "/Users/Tiffany/opt/anaconda3/lib/python3.7/site-packages/statsmodels/tsa/base/tsa_model.py:219: ValueWarning: A date index has been provided, but it has no associated frequency information and so will be ignored when e.g. forecasting.\n",
      "  ' ignored when e.g. forecasting.', ValueWarning)\n",
      "/Users/Tiffany/opt/anaconda3/lib/python3.7/site-packages/statsmodels/tsa/base/tsa_model.py:165: ValueWarning: No frequency information was provided, so inferred frequency 2AS-JAN will be used.\n",
      "  % freq, ValueWarning)\n",
      "/Users/Tiffany/opt/anaconda3/lib/python3.7/site-packages/statsmodels/tsa/base/tsa_model.py:165: ValueWarning: No frequency information was provided, so inferred frequency 2AS-JAN will be used.\n",
      "  % freq, ValueWarning)\n",
      "/Users/Tiffany/opt/anaconda3/lib/python3.7/site-packages/statsmodels/base/model.py:512: ConvergenceWarning: Maximum Likelihood optimization failed to converge. Check mle_retvals\n",
      "  \"Check mle_retvals\", ConvergenceWarning)\n",
      "/Users/Tiffany/opt/anaconda3/lib/python3.7/site-packages/statsmodels/tsa/base/tsa_model.py:165: ValueWarning: No frequency information was provided, so inferred frequency 2AS-JAN will be used.\n",
      "  % freq, ValueWarning)\n",
      "/Users/Tiffany/opt/anaconda3/lib/python3.7/site-packages/statsmodels/base/model.py:512: ConvergenceWarning: Maximum Likelihood optimization failed to converge. Check mle_retvals\n",
      "  \"Check mle_retvals\", ConvergenceWarning)\n",
      "/Users/Tiffany/opt/anaconda3/lib/python3.7/site-packages/statsmodels/tsa/base/tsa_model.py:165: ValueWarning: No frequency information was provided, so inferred frequency 2AS-JAN will be used.\n",
      "  % freq, ValueWarning)\n",
      "/Users/Tiffany/opt/anaconda3/lib/python3.7/site-packages/statsmodels/tsa/base/tsa_model.py:165: ValueWarning: No frequency information was provided, so inferred frequency 2AS-JAN will be used.\n",
      "  % freq, ValueWarning)\n"
     ]
    },
    {
     "name": "stdout",
     "output_type": "stream",
     "text": [
      "Andromeda XVIII[60]\n",
      "1.4813122579716959e-06\n"
     ]
    },
    {
     "name": "stderr",
     "output_type": "stream",
     "text": [
      "/Users/Tiffany/opt/anaconda3/lib/python3.7/site-packages/statsmodels/tsa/base/tsa_model.py:165: ValueWarning: No frequency information was provided, so inferred frequency 2AS-JAN will be used.\n",
      "  % freq, ValueWarning)\n",
      "/Users/Tiffany/opt/anaconda3/lib/python3.7/site-packages/statsmodels/tsa/base/tsa_model.py:165: ValueWarning: No frequency information was provided, so inferred frequency 2AS-JAN will be used.\n",
      "  % freq, ValueWarning)\n"
     ]
    },
    {
     "name": "stdout",
     "output_type": "stream",
     "text": [
      "KKH 11 (ZOAG G135.74-04.53)\n",
      "5.727360070015313e-07\n"
     ]
    },
    {
     "name": "stderr",
     "output_type": "stream",
     "text": [
      "/Users/Tiffany/opt/anaconda3/lib/python3.7/site-packages/statsmodels/tsa/base/tsa_model.py:219: ValueWarning: A date index has been provided, but it has no associated frequency information and so will be ignored when e.g. forecasting.\n",
      "  ' ignored when e.g. forecasting.', ValueWarning)\n",
      "/Users/Tiffany/opt/anaconda3/lib/python3.7/site-packages/statsmodels/tsa/base/tsa_model.py:165: ValueWarning: No frequency information was provided, so inferred frequency 2AS-JAN will be used.\n",
      "  % freq, ValueWarning)\n",
      "/Users/Tiffany/opt/anaconda3/lib/python3.7/site-packages/statsmodels/tsa/statespace/sarimax.py:949: UserWarning: Non-stationary starting autoregressive parameters found. Using zeros as starting parameters.\n",
      "  warn('Non-stationary starting autoregressive parameters'\n",
      "/Users/Tiffany/opt/anaconda3/lib/python3.7/site-packages/statsmodels/tsa/statespace/sarimax.py:961: UserWarning: Non-invertible starting MA parameters found. Using zeros as starting parameters.\n",
      "  warn('Non-invertible starting MA parameters found.'\n",
      "/Users/Tiffany/opt/anaconda3/lib/python3.7/site-packages/statsmodels/tsa/base/tsa_model.py:165: ValueWarning: No frequency information was provided, so inferred frequency 2AS-JAN will be used.\n",
      "  % freq, ValueWarning)\n",
      "/Users/Tiffany/opt/anaconda3/lib/python3.7/site-packages/statsmodels/tsa/statespace/sarimax.py:949: UserWarning: Non-stationary starting autoregressive parameters found. Using zeros as starting parameters.\n",
      "  warn('Non-stationary starting autoregressive parameters'\n",
      "/Users/Tiffany/opt/anaconda3/lib/python3.7/site-packages/statsmodels/tsa/base/tsa_model.py:165: ValueWarning: No frequency information was provided, so inferred frequency 2AS-JAN will be used.\n",
      "  % freq, ValueWarning)\n",
      "/Users/Tiffany/opt/anaconda3/lib/python3.7/site-packages/statsmodels/tsa/base/tsa_model.py:165: ValueWarning: No frequency information was provided, so inferred frequency 2AS-JAN will be used.\n",
      "  % freq, ValueWarning)\n",
      "/Users/Tiffany/opt/anaconda3/lib/python3.7/site-packages/statsmodels/tsa/base/tsa_model.py:165: ValueWarning: No frequency information was provided, so inferred frequency 2AS-JAN will be used.\n",
      "  % freq, ValueWarning)\n"
     ]
    },
    {
     "name": "stdout",
     "output_type": "stream",
     "text": [
      "Phoenix Dwarf Galaxy (P 6830)\n",
      "4.735769683405847e-06\n"
     ]
    },
    {
     "name": "stderr",
     "output_type": "stream",
     "text": [
      "/Users/Tiffany/opt/anaconda3/lib/python3.7/site-packages/statsmodels/tsa/base/tsa_model.py:165: ValueWarning: No frequency information was provided, so inferred frequency 2AS-JAN will be used.\n",
      "  % freq, ValueWarning)\n",
      "/Users/Tiffany/opt/anaconda3/lib/python3.7/site-packages/statsmodels/tsa/statespace/sarimax.py:949: UserWarning: Non-stationary starting autoregressive parameters found. Using zeros as starting parameters.\n",
      "  warn('Non-stationary starting autoregressive parameters'\n",
      "/Users/Tiffany/opt/anaconda3/lib/python3.7/site-packages/statsmodels/tsa/base/tsa_model.py:165: ValueWarning: No frequency information was provided, so inferred frequency 2AS-JAN will be used.\n",
      "  % freq, ValueWarning)\n"
     ]
    },
    {
     "name": "stdout",
     "output_type": "stream",
     "text": [
      "ESO 321-014[70]\n",
      "2.487060352899197e-08\n"
     ]
    },
    {
     "name": "stderr",
     "output_type": "stream",
     "text": [
      "/Users/Tiffany/opt/anaconda3/lib/python3.7/site-packages/statsmodels/tsa/base/tsa_model.py:219: ValueWarning: A date index has been provided, but it has no associated frequency information and so will be ignored when e.g. forecasting.\n",
      "  ' ignored when e.g. forecasting.', ValueWarning)\n",
      "/Users/Tiffany/opt/anaconda3/lib/python3.7/site-packages/statsmodels/tsa/base/tsa_model.py:165: ValueWarning: No frequency information was provided, so inferred frequency 2AS-JAN will be used.\n",
      "  % freq, ValueWarning)\n",
      "/Users/Tiffany/opt/anaconda3/lib/python3.7/site-packages/statsmodels/tsa/base/tsa_model.py:165: ValueWarning: No frequency information was provided, so inferred frequency 2AS-JAN will be used.\n",
      "  % freq, ValueWarning)\n",
      "/Users/Tiffany/opt/anaconda3/lib/python3.7/site-packages/statsmodels/base/model.py:512: ConvergenceWarning: Maximum Likelihood optimization failed to converge. Check mle_retvals\n",
      "  \"Check mle_retvals\", ConvergenceWarning)\n",
      "/Users/Tiffany/opt/anaconda3/lib/python3.7/site-packages/statsmodels/tsa/base/tsa_model.py:165: ValueWarning: No frequency information was provided, so inferred frequency 2AS-JAN will be used.\n",
      "  % freq, ValueWarning)\n",
      "/Users/Tiffany/opt/anaconda3/lib/python3.7/site-packages/statsmodels/tsa/statespace/sarimax.py:949: UserWarning: Non-stationary starting autoregressive parameters found. Using zeros as starting parameters.\n",
      "  warn('Non-stationary starting autoregressive parameters'\n",
      "/Users/Tiffany/opt/anaconda3/lib/python3.7/site-packages/statsmodels/tsa/base/tsa_model.py:219: ValueWarning: A date index has been provided, but it has no associated frequency information and so will be ignored when e.g. forecasting.\n",
      "  ' ignored when e.g. forecasting.', ValueWarning)\n",
      "/Users/Tiffany/opt/anaconda3/lib/python3.7/site-packages/statsmodels/tsa/base/tsa_model.py:165: ValueWarning: No frequency information was provided, so inferred frequency 2AS-JAN will be used.\n",
      "  % freq, ValueWarning)\n"
     ]
    },
    {
     "name": "stdout",
     "output_type": "stream",
     "text": [
      "ESO 325-11\n",
      "6.643173223672791e-09\n"
     ]
    },
    {
     "name": "stderr",
     "output_type": "stream",
     "text": [
      "/Users/Tiffany/opt/anaconda3/lib/python3.7/site-packages/statsmodels/tsa/base/tsa_model.py:165: ValueWarning: No frequency information was provided, so inferred frequency 2AS-JAN will be used.\n",
      "  % freq, ValueWarning)\n",
      "/Users/Tiffany/opt/anaconda3/lib/python3.7/site-packages/statsmodels/tsa/base/tsa_model.py:165: ValueWarning: No frequency information was provided, so inferred frequency 2AS-JAN will be used.\n",
      "  % freq, ValueWarning)\n",
      "/Users/Tiffany/opt/anaconda3/lib/python3.7/site-packages/statsmodels/tsa/base/tsa_model.py:219: ValueWarning: A date index has been provided, but it has no associated frequency information and so will be ignored when e.g. forecasting.\n",
      "  ' ignored when e.g. forecasting.', ValueWarning)\n",
      "/Users/Tiffany/opt/anaconda3/lib/python3.7/site-packages/statsmodels/tsa/base/tsa_model.py:165: ValueWarning: No frequency information was provided, so inferred frequency 2AS-JAN will be used.\n",
      "  % freq, ValueWarning)\n",
      "/Users/Tiffany/opt/anaconda3/lib/python3.7/site-packages/statsmodels/tsa/statespace/sarimax.py:961: UserWarning: Non-invertible starting MA parameters found. Using zeros as starting parameters.\n",
      "  warn('Non-invertible starting MA parameters found.'\n"
     ]
    },
    {
     "name": "stdout",
     "output_type": "stream",
     "text": [
      "Andromeda XVII\n",
      "1.6862707417786421e-06\n"
     ]
    },
    {
     "name": "stderr",
     "output_type": "stream",
     "text": [
      "/Users/Tiffany/opt/anaconda3/lib/python3.7/site-packages/statsmodels/tsa/base/tsa_model.py:165: ValueWarning: No frequency information was provided, so inferred frequency 2AS-JAN will be used.\n",
      "  % freq, ValueWarning)\n",
      "/Users/Tiffany/opt/anaconda3/lib/python3.7/site-packages/statsmodels/tsa/base/tsa_model.py:165: ValueWarning: No frequency information was provided, so inferred frequency 2AS-JAN will be used.\n",
      "  % freq, ValueWarning)\n",
      "/Users/Tiffany/opt/anaconda3/lib/python3.7/site-packages/statsmodels/tsa/base/tsa_model.py:219: ValueWarning: A date index has been provided, but it has no associated frequency information and so will be ignored when e.g. forecasting.\n",
      "  ' ignored when e.g. forecasting.', ValueWarning)\n",
      "/Users/Tiffany/opt/anaconda3/lib/python3.7/site-packages/statsmodels/tsa/base/tsa_model.py:165: ValueWarning: No frequency information was provided, so inferred frequency 2AS-JAN will be used.\n",
      "  % freq, ValueWarning)\n"
     ]
    },
    {
     "name": "stdout",
     "output_type": "stream",
     "text": [
      "Phoenix II\n",
      "9.82641122716127e-08\n"
     ]
    },
    {
     "name": "stderr",
     "output_type": "stream",
     "text": [
      "/Users/Tiffany/opt/anaconda3/lib/python3.7/site-packages/statsmodels/tsa/base/tsa_model.py:165: ValueWarning: No frequency information was provided, so inferred frequency 2AS-JAN will be used.\n",
      "  % freq, ValueWarning)\n",
      "/Users/Tiffany/opt/anaconda3/lib/python3.7/site-packages/statsmodels/tsa/base/tsa_model.py:165: ValueWarning: No frequency information was provided, so inferred frequency 2AS-JAN will be used.\n",
      "  % freq, ValueWarning)\n",
      "/Users/Tiffany/opt/anaconda3/lib/python3.7/site-packages/statsmodels/tsa/base/tsa_model.py:165: ValueWarning: No frequency information was provided, so inferred frequency 2AS-JAN will be used.\n",
      "  % freq, ValueWarning)\n",
      "/Users/Tiffany/opt/anaconda3/lib/python3.7/site-packages/statsmodels/tsa/base/tsa_model.py:165: ValueWarning: No frequency information was provided, so inferred frequency 2AS-JAN will be used.\n",
      "  % freq, ValueWarning)\n"
     ]
    },
    {
     "name": "stdout",
     "output_type": "stream",
     "text": [
      "Pisces IV (Andromeda XIV)\n",
      "4.4922592108103525e-07\n"
     ]
    },
    {
     "name": "stderr",
     "output_type": "stream",
     "text": [
      "/Users/Tiffany/opt/anaconda3/lib/python3.7/site-packages/statsmodels/base/model.py:512: ConvergenceWarning: Maximum Likelihood optimization failed to converge. Check mle_retvals\n",
      "  \"Check mle_retvals\", ConvergenceWarning)\n",
      "/Users/Tiffany/opt/anaconda3/lib/python3.7/site-packages/statsmodels/tsa/base/tsa_model.py:165: ValueWarning: No frequency information was provided, so inferred frequency 2AS-JAN will be used.\n",
      "  % freq, ValueWarning)\n",
      "/Users/Tiffany/opt/anaconda3/lib/python3.7/site-packages/statsmodels/tsa/base/tsa_model.py:165: ValueWarning: No frequency information was provided, so inferred frequency 2AS-JAN will be used.\n",
      "  % freq, ValueWarning)\n",
      "/Users/Tiffany/opt/anaconda3/lib/python3.7/site-packages/statsmodels/tsa/base/tsa_model.py:219: ValueWarning: A date index has been provided, but it has no associated frequency information and so will be ignored when e.g. forecasting.\n",
      "  ' ignored when e.g. forecasting.', ValueWarning)\n",
      "/Users/Tiffany/opt/anaconda3/lib/python3.7/site-packages/statsmodels/tsa/base/tsa_model.py:165: ValueWarning: No frequency information was provided, so inferred frequency 2AS-JAN will be used.\n",
      "  % freq, ValueWarning)\n"
     ]
    },
    {
     "name": "stdout",
     "output_type": "stream",
     "text": [
      "FM2000 1\n",
      "2.5521429201463007e-06\n"
     ]
    },
    {
     "name": "stderr",
     "output_type": "stream",
     "text": [
      "/Users/Tiffany/opt/anaconda3/lib/python3.7/site-packages/statsmodels/tsa/base/tsa_model.py:165: ValueWarning: No frequency information was provided, so inferred frequency 2AS-JAN will be used.\n",
      "  % freq, ValueWarning)\n",
      "/Users/Tiffany/opt/anaconda3/lib/python3.7/site-packages/statsmodels/tsa/base/tsa_model.py:165: ValueWarning: No frequency information was provided, so inferred frequency 2AS-JAN will be used.\n",
      "  % freq, ValueWarning)\n"
     ]
    },
    {
     "name": "stdout",
     "output_type": "stream",
     "text": [
      "UGCA 438 (ESO 407-018)\n",
      "8.251036560847058e-07\n"
     ]
    },
    {
     "name": "stderr",
     "output_type": "stream",
     "text": [
      "/Users/Tiffany/opt/anaconda3/lib/python3.7/site-packages/statsmodels/tsa/base/tsa_model.py:219: ValueWarning: A date index has been provided, but it has no associated frequency information and so will be ignored when e.g. forecasting.\n",
      "  ' ignored when e.g. forecasting.', ValueWarning)\n",
      "/Users/Tiffany/opt/anaconda3/lib/python3.7/site-packages/statsmodels/tsa/base/tsa_model.py:165: ValueWarning: No frequency information was provided, so inferred frequency 2AS-JAN will be used.\n",
      "  % freq, ValueWarning)\n",
      "/Users/Tiffany/opt/anaconda3/lib/python3.7/site-packages/statsmodels/tsa/base/tsa_model.py:165: ValueWarning: No frequency information was provided, so inferred frequency 2AS-JAN will be used.\n",
      "  % freq, ValueWarning)\n",
      "/Users/Tiffany/opt/anaconda3/lib/python3.7/site-packages/statsmodels/base/model.py:512: ConvergenceWarning: Maximum Likelihood optimization failed to converge. Check mle_retvals\n",
      "  \"Check mle_retvals\", ConvergenceWarning)\n",
      "/Users/Tiffany/opt/anaconda3/lib/python3.7/site-packages/statsmodels/tsa/base/tsa_model.py:165: ValueWarning: No frequency information was provided, so inferred frequency 2AS-JAN will be used.\n",
      "  % freq, ValueWarning)\n",
      "/Users/Tiffany/opt/anaconda3/lib/python3.7/site-packages/statsmodels/tsa/base/tsa_model.py:219: ValueWarning: A date index has been provided, but it has no associated frequency information and so will be ignored when e.g. forecasting.\n",
      "  ' ignored when e.g. forecasting.', ValueWarning)\n",
      "/Users/Tiffany/opt/anaconda3/lib/python3.7/site-packages/statsmodels/tsa/base/tsa_model.py:165: ValueWarning: No frequency information was provided, so inferred frequency 2AS-JAN will be used.\n",
      "  % freq, ValueWarning)\n",
      "/Users/Tiffany/opt/anaconda3/lib/python3.7/site-packages/statsmodels/tsa/statespace/sarimax.py:949: UserWarning: Non-stationary starting autoregressive parameters found. Using zeros as starting parameters.\n",
      "  warn('Non-stationary starting autoregressive parameters'\n"
     ]
    },
    {
     "name": "stdout",
     "output_type": "stream",
     "text": [
      "Triangulum II\n",
      "2.225787374602725e-06\n"
     ]
    },
    {
     "name": "stderr",
     "output_type": "stream",
     "text": [
      "/Users/Tiffany/opt/anaconda3/lib/python3.7/site-packages/statsmodels/tsa/base/tsa_model.py:165: ValueWarning: No frequency information was provided, so inferred frequency 2AS-JAN will be used.\n",
      "  % freq, ValueWarning)\n",
      "/Users/Tiffany/opt/anaconda3/lib/python3.7/site-packages/statsmodels/tsa/statespace/sarimax.py:949: UserWarning: Non-stationary starting autoregressive parameters found. Using zeros as starting parameters.\n",
      "  warn('Non-stationary starting autoregressive parameters'\n",
      "/Users/Tiffany/opt/anaconda3/lib/python3.7/site-packages/statsmodels/tsa/base/tsa_model.py:165: ValueWarning: No frequency information was provided, so inferred frequency 2AS-JAN will be used.\n",
      "  % freq, ValueWarning)\n"
     ]
    },
    {
     "name": "stdout",
     "output_type": "stream",
     "text": [
      "Sculptor Dwarf (E351-G30)\n",
      "6.752749743479115e-06\n"
     ]
    },
    {
     "name": "stderr",
     "output_type": "stream",
     "text": [
      "/Users/Tiffany/opt/anaconda3/lib/python3.7/site-packages/statsmodels/tsa/base/tsa_model.py:219: ValueWarning: A date index has been provided, but it has no associated frequency information and so will be ignored when e.g. forecasting.\n",
      "  ' ignored when e.g. forecasting.', ValueWarning)\n",
      "/Users/Tiffany/opt/anaconda3/lib/python3.7/site-packages/statsmodels/tsa/base/tsa_model.py:165: ValueWarning: No frequency information was provided, so inferred frequency 2AS-JAN will be used.\n",
      "  % freq, ValueWarning)\n",
      "/Users/Tiffany/opt/anaconda3/lib/python3.7/site-packages/statsmodels/base/model.py:512: ConvergenceWarning: Maximum Likelihood optimization failed to converge. Check mle_retvals\n",
      "  \"Check mle_retvals\", ConvergenceWarning)\n",
      "/Users/Tiffany/opt/anaconda3/lib/python3.7/site-packages/statsmodels/tsa/base/tsa_model.py:165: ValueWarning: No frequency information was provided, so inferred frequency 2AS-JAN will be used.\n",
      "  % freq, ValueWarning)\n",
      "/Users/Tiffany/opt/anaconda3/lib/python3.7/site-packages/statsmodels/tsa/base/tsa_model.py:165: ValueWarning: No frequency information was provided, so inferred frequency 2AS-JAN will be used.\n",
      "  % freq, ValueWarning)\n",
      "/Users/Tiffany/opt/anaconda3/lib/python3.7/site-packages/statsmodels/tsa/statespace/sarimax.py:949: UserWarning: Non-stationary starting autoregressive parameters found. Using zeros as starting parameters.\n",
      "  warn('Non-stationary starting autoregressive parameters'\n",
      "/Users/Tiffany/opt/anaconda3/lib/python3.7/site-packages/statsmodels/tsa/base/tsa_model.py:219: ValueWarning: A date index has been provided, but it has no associated frequency information and so will be ignored when e.g. forecasting.\n",
      "  ' ignored when e.g. forecasting.', ValueWarning)\n",
      "/Users/Tiffany/opt/anaconda3/lib/python3.7/site-packages/statsmodels/tsa/base/tsa_model.py:165: ValueWarning: No frequency information was provided, so inferred frequency 2AS-JAN will be used.\n",
      "  % freq, ValueWarning)\n"
     ]
    },
    {
     "name": "stdout",
     "output_type": "stream",
     "text": [
      "Cas 1 (KK98 19)\n",
      "8.972479492726115e-07\n"
     ]
    },
    {
     "name": "stderr",
     "output_type": "stream",
     "text": [
      "/Users/Tiffany/opt/anaconda3/lib/python3.7/site-packages/statsmodels/tsa/base/tsa_model.py:165: ValueWarning: No frequency information was provided, so inferred frequency 2AS-JAN will be used.\n",
      "  % freq, ValueWarning)\n",
      "/Users/Tiffany/opt/anaconda3/lib/python3.7/site-packages/statsmodels/tsa/statespace/sarimax.py:949: UserWarning: Non-stationary starting autoregressive parameters found. Using zeros as starting parameters.\n",
      "  warn('Non-stationary starting autoregressive parameters'\n",
      "/Users/Tiffany/opt/anaconda3/lib/python3.7/site-packages/statsmodels/tsa/base/tsa_model.py:165: ValueWarning: No frequency information was provided, so inferred frequency 2AS-JAN will be used.\n",
      "  % freq, ValueWarning)\n",
      "/Users/Tiffany/opt/anaconda3/lib/python3.7/site-packages/statsmodels/tsa/base/tsa_model.py:219: ValueWarning: A date index has been provided, but it has no associated frequency information and so will be ignored when e.g. forecasting.\n",
      "  ' ignored when e.g. forecasting.', ValueWarning)\n",
      "/Users/Tiffany/opt/anaconda3/lib/python3.7/site-packages/statsmodels/tsa/base/tsa_model.py:165: ValueWarning: No frequency information was provided, so inferred frequency 2AS-JAN will be used.\n",
      "  % freq, ValueWarning)\n"
     ]
    },
    {
     "name": "stdout",
     "output_type": "stream",
     "text": [
      "NGC 3741\n",
      "0.00015251043003391924\n"
     ]
    },
    {
     "name": "stderr",
     "output_type": "stream",
     "text": [
      "/Users/Tiffany/opt/anaconda3/lib/python3.7/site-packages/statsmodels/tsa/base/tsa_model.py:165: ValueWarning: No frequency information was provided, so inferred frequency 2AS-JAN will be used.\n",
      "  % freq, ValueWarning)\n",
      "/Users/Tiffany/opt/anaconda3/lib/python3.7/site-packages/statsmodels/tsa/statespace/sarimax.py:949: UserWarning: Non-stationary starting autoregressive parameters found. Using zeros as starting parameters.\n",
      "  warn('Non-stationary starting autoregressive parameters'\n",
      "/Users/Tiffany/opt/anaconda3/lib/python3.7/site-packages/statsmodels/tsa/base/tsa_model.py:165: ValueWarning: No frequency information was provided, so inferred frequency 2AS-JAN will be used.\n",
      "  % freq, ValueWarning)\n",
      "/Users/Tiffany/opt/anaconda3/lib/python3.7/site-packages/statsmodels/tsa/base/tsa_model.py:219: ValueWarning: A date index has been provided, but it has no associated frequency information and so will be ignored when e.g. forecasting.\n",
      "  ' ignored when e.g. forecasting.', ValueWarning)\n",
      "/Users/Tiffany/opt/anaconda3/lib/python3.7/site-packages/statsmodels/tsa/base/tsa_model.py:165: ValueWarning: No frequency information was provided, so inferred frequency 2AS-JAN will be used.\n",
      "  % freq, ValueWarning)\n"
     ]
    },
    {
     "name": "stdout",
     "output_type": "stream",
     "text": [
      "Andromeda III\n",
      "1.1010390516065502e-07\n"
     ]
    },
    {
     "name": "stderr",
     "output_type": "stream",
     "text": [
      "/Users/Tiffany/opt/anaconda3/lib/python3.7/site-packages/statsmodels/tsa/base/tsa_model.py:165: ValueWarning: No frequency information was provided, so inferred frequency 2AS-JAN will be used.\n",
      "  % freq, ValueWarning)\n",
      "/Users/Tiffany/opt/anaconda3/lib/python3.7/site-packages/statsmodels/tsa/statespace/sarimax.py:949: UserWarning: Non-stationary starting autoregressive parameters found. Using zeros as starting parameters.\n",
      "  warn('Non-stationary starting autoregressive parameters'\n",
      "/Users/Tiffany/opt/anaconda3/lib/python3.7/site-packages/statsmodels/tsa/base/tsa_model.py:165: ValueWarning: No frequency information was provided, so inferred frequency 2AS-JAN will be used.\n",
      "  % freq, ValueWarning)\n"
     ]
    },
    {
     "name": "stdout",
     "output_type": "stream",
     "text": [
      "Ursa Major I Dwarf (UMa I dSph)\n",
      "6.320494553556572e-07\n"
     ]
    },
    {
     "name": "stderr",
     "output_type": "stream",
     "text": [
      "/Users/Tiffany/opt/anaconda3/lib/python3.7/site-packages/statsmodels/tsa/base/tsa_model.py:219: ValueWarning: A date index has been provided, but it has no associated frequency information and so will be ignored when e.g. forecasting.\n",
      "  ' ignored when e.g. forecasting.', ValueWarning)\n",
      "/Users/Tiffany/opt/anaconda3/lib/python3.7/site-packages/statsmodels/tsa/base/tsa_model.py:165: ValueWarning: No frequency information was provided, so inferred frequency 2AS-JAN will be used.\n",
      "  % freq, ValueWarning)\n",
      "/Users/Tiffany/opt/anaconda3/lib/python3.7/site-packages/statsmodels/tsa/base/tsa_model.py:165: ValueWarning: No frequency information was provided, so inferred frequency 2AS-JAN will be used.\n",
      "  % freq, ValueWarning)\n",
      "/Users/Tiffany/opt/anaconda3/lib/python3.7/site-packages/statsmodels/tsa/base/tsa_model.py:165: ValueWarning: No frequency information was provided, so inferred frequency 2AS-JAN will be used.\n",
      "  % freq, ValueWarning)\n"
     ]
    },
    {
     "name": "stdout",
     "output_type": "stream",
     "text": [
      "NGC 185\n",
      "1.469820754891859e-06\n"
     ]
    },
    {
     "name": "stderr",
     "output_type": "stream",
     "text": [
      "/Users/Tiffany/opt/anaconda3/lib/python3.7/site-packages/statsmodels/tsa/base/tsa_model.py:219: ValueWarning: A date index has been provided, but it has no associated frequency information and so will be ignored when e.g. forecasting.\n",
      "  ' ignored when e.g. forecasting.', ValueWarning)\n",
      "/Users/Tiffany/opt/anaconda3/lib/python3.7/site-packages/statsmodels/tsa/base/tsa_model.py:165: ValueWarning: No frequency information was provided, so inferred frequency 2AS-JAN will be used.\n",
      "  % freq, ValueWarning)\n",
      "/Users/Tiffany/opt/anaconda3/lib/python3.7/site-packages/statsmodels/tsa/statespace/sarimax.py:961: UserWarning: Non-invertible starting MA parameters found. Using zeros as starting parameters.\n",
      "  warn('Non-invertible starting MA parameters found.'\n",
      "/Users/Tiffany/opt/anaconda3/lib/python3.7/site-packages/statsmodels/tsa/base/tsa_model.py:165: ValueWarning: No frequency information was provided, so inferred frequency 2AS-JAN will be used.\n",
      "  % freq, ValueWarning)\n"
     ]
    },
    {
     "name": "stdout",
     "output_type": "stream",
     "text": [
      "UGCA 15 (DDO 6)\n",
      "3.3784471691239235e-06\n"
     ]
    },
    {
     "name": "stderr",
     "output_type": "stream",
     "text": [
      "/Users/Tiffany/opt/anaconda3/lib/python3.7/site-packages/statsmodels/tsa/base/tsa_model.py:165: ValueWarning: No frequency information was provided, so inferred frequency 2AS-JAN will be used.\n",
      "  % freq, ValueWarning)\n",
      "/Users/Tiffany/opt/anaconda3/lib/python3.7/site-packages/statsmodels/tsa/base/tsa_model.py:219: ValueWarning: A date index has been provided, but it has no associated frequency information and so will be ignored when e.g. forecasting.\n",
      "  ' ignored when e.g. forecasting.', ValueWarning)\n",
      "/Users/Tiffany/opt/anaconda3/lib/python3.7/site-packages/statsmodels/tsa/base/tsa_model.py:165: ValueWarning: No frequency information was provided, so inferred frequency 2AS-JAN will be used.\n",
      "  % freq, ValueWarning)\n",
      "/Users/Tiffany/opt/anaconda3/lib/python3.7/site-packages/statsmodels/tsa/base/tsa_model.py:165: ValueWarning: No frequency information was provided, so inferred frequency 2AS-JAN will be used.\n",
      "  % freq, ValueWarning)\n",
      "/Users/Tiffany/opt/anaconda3/lib/python3.7/site-packages/statsmodels/tsa/base/tsa_model.py:165: ValueWarning: No frequency information was provided, so inferred frequency 2AS-JAN will be used.\n",
      "  % freq, ValueWarning)\n",
      "/Users/Tiffany/opt/anaconda3/lib/python3.7/site-packages/statsmodels/tsa/base/tsa_model.py:219: ValueWarning: A date index has been provided, but it has no associated frequency information and so will be ignored when e.g. forecasting.\n",
      "  ' ignored when e.g. forecasting.', ValueWarning)\n",
      "/Users/Tiffany/opt/anaconda3/lib/python3.7/site-packages/statsmodels/tsa/base/tsa_model.py:165: ValueWarning: No frequency information was provided, so inferred frequency 2AS-JAN will be used.\n",
      "  % freq, ValueWarning)\n",
      "/Users/Tiffany/opt/anaconda3/lib/python3.7/site-packages/statsmodels/tsa/base/tsa_model.py:165: ValueWarning: No frequency information was provided, so inferred frequency 2AS-JAN will be used.\n",
      "  % freq, ValueWarning)\n"
     ]
    },
    {
     "name": "stdout",
     "output_type": "stream",
     "text": [
      "Andromeda I\n",
      "2.9133613719170293e-08\n"
     ]
    },
    {
     "name": "stderr",
     "output_type": "stream",
     "text": [
      "/Users/Tiffany/opt/anaconda3/lib/python3.7/site-packages/statsmodels/tsa/base/tsa_model.py:165: ValueWarning: No frequency information was provided, so inferred frequency 2AS-JAN will be used.\n",
      "  % freq, ValueWarning)\n",
      "/Users/Tiffany/opt/anaconda3/lib/python3.7/site-packages/statsmodels/tsa/base/tsa_model.py:219: ValueWarning: A date index has been provided, but it has no associated frequency information and so will be ignored when e.g. forecasting.\n",
      "  ' ignored when e.g. forecasting.', ValueWarning)\n",
      "/Users/Tiffany/opt/anaconda3/lib/python3.7/site-packages/statsmodels/tsa/base/tsa_model.py:165: ValueWarning: No frequency information was provided, so inferred frequency 2AS-JAN will be used.\n",
      "  % freq, ValueWarning)\n"
     ]
    },
    {
     "name": "stdout",
     "output_type": "stream",
     "text": [
      "M110 (NGC 205)\n",
      "4.0239741368402176e-07\n"
     ]
    },
    {
     "name": "stderr",
     "output_type": "stream",
     "text": [
      "/Users/Tiffany/opt/anaconda3/lib/python3.7/site-packages/statsmodels/base/model.py:512: ConvergenceWarning: Maximum Likelihood optimization failed to converge. Check mle_retvals\n",
      "  \"Check mle_retvals\", ConvergenceWarning)\n",
      "/Users/Tiffany/opt/anaconda3/lib/python3.7/site-packages/statsmodels/tsa/base/tsa_model.py:165: ValueWarning: No frequency information was provided, so inferred frequency 2AS-JAN will be used.\n",
      "  % freq, ValueWarning)\n",
      "/Users/Tiffany/opt/anaconda3/lib/python3.7/site-packages/statsmodels/tsa/base/tsa_model.py:165: ValueWarning: No frequency information was provided, so inferred frequency 2AS-JAN will be used.\n",
      "  % freq, ValueWarning)\n"
     ]
    },
    {
     "name": "stdout",
     "output_type": "stream",
     "text": [
      "Dwingeloo 1\n",
      "4.011490211832279e-07\n"
     ]
    },
    {
     "name": "stderr",
     "output_type": "stream",
     "text": [
      "/Users/Tiffany/opt/anaconda3/lib/python3.7/site-packages/statsmodels/tsa/base/tsa_model.py:219: ValueWarning: A date index has been provided, but it has no associated frequency information and so will be ignored when e.g. forecasting.\n",
      "  ' ignored when e.g. forecasting.', ValueWarning)\n",
      "/Users/Tiffany/opt/anaconda3/lib/python3.7/site-packages/statsmodels/tsa/base/tsa_model.py:165: ValueWarning: No frequency information was provided, so inferred frequency 2AS-JAN will be used.\n",
      "  % freq, ValueWarning)\n",
      "/Users/Tiffany/opt/anaconda3/lib/python3.7/site-packages/statsmodels/tsa/base/tsa_model.py:165: ValueWarning: No frequency information was provided, so inferred frequency 2AS-JAN will be used.\n",
      "  % freq, ValueWarning)\n",
      "/Users/Tiffany/opt/anaconda3/lib/python3.7/site-packages/statsmodels/tsa/base/tsa_model.py:165: ValueWarning: No frequency information was provided, so inferred frequency 2AS-JAN will be used.\n",
      "  % freq, ValueWarning)\n"
     ]
    },
    {
     "name": "stdout",
     "output_type": "stream",
     "text": [
      "Carina II\n",
      "7.1620123796719e-07\n"
     ]
    },
    {
     "name": "stderr",
     "output_type": "stream",
     "text": [
      "/Users/Tiffany/opt/anaconda3/lib/python3.7/site-packages/statsmodels/tsa/base/tsa_model.py:219: ValueWarning: A date index has been provided, but it has no associated frequency information and so will be ignored when e.g. forecasting.\n",
      "  ' ignored when e.g. forecasting.', ValueWarning)\n",
      "/Users/Tiffany/opt/anaconda3/lib/python3.7/site-packages/statsmodels/tsa/base/tsa_model.py:165: ValueWarning: No frequency information was provided, so inferred frequency 2AS-JAN will be used.\n",
      "  % freq, ValueWarning)\n",
      "/Users/Tiffany/opt/anaconda3/lib/python3.7/site-packages/statsmodels/tsa/base/tsa_model.py:165: ValueWarning: No frequency information was provided, so inferred frequency 2AS-JAN will be used.\n",
      "  % freq, ValueWarning)\n",
      "/Users/Tiffany/opt/anaconda3/lib/python3.7/site-packages/statsmodels/tsa/base/tsa_model.py:165: ValueWarning: No frequency information was provided, so inferred frequency 2AS-JAN will be used.\n",
      "  % freq, ValueWarning)\n"
     ]
    },
    {
     "name": "stdout",
     "output_type": "stream",
     "text": [
      "IC 4662 (ESO 102-14)\n",
      "8.186400175167316e-08\n"
     ]
    },
    {
     "name": "stderr",
     "output_type": "stream",
     "text": [
      "/Users/Tiffany/opt/anaconda3/lib/python3.7/site-packages/statsmodels/tsa/base/tsa_model.py:219: ValueWarning: A date index has been provided, but it has no associated frequency information and so will be ignored when e.g. forecasting.\n",
      "  ' ignored when e.g. forecasting.', ValueWarning)\n",
      "/Users/Tiffany/opt/anaconda3/lib/python3.7/site-packages/statsmodels/tsa/base/tsa_model.py:165: ValueWarning: No frequency information was provided, so inferred frequency 2AS-JAN will be used.\n",
      "  % freq, ValueWarning)\n",
      "/Users/Tiffany/opt/anaconda3/lib/python3.7/site-packages/statsmodels/tsa/base/tsa_model.py:165: ValueWarning: No frequency information was provided, so inferred frequency 2AS-JAN will be used.\n",
      "  % freq, ValueWarning)\n",
      "/Users/Tiffany/opt/anaconda3/lib/python3.7/site-packages/statsmodels/tsa/base/tsa_model.py:165: ValueWarning: No frequency information was provided, so inferred frequency 2AS-JAN will be used.\n",
      "  % freq, ValueWarning)\n",
      "/Users/Tiffany/opt/anaconda3/lib/python3.7/site-packages/statsmodels/tsa/base/tsa_model.py:165: ValueWarning: No frequency information was provided, so inferred frequency 2AS-JAN will be used.\n",
      "  % freq, ValueWarning)\n",
      "/Users/Tiffany/opt/anaconda3/lib/python3.7/site-packages/statsmodels/tsa/base/tsa_model.py:165: ValueWarning: No frequency information was provided, so inferred frequency 2AS-JAN will be used.\n",
      "  % freq, ValueWarning)\n",
      "/Users/Tiffany/opt/anaconda3/lib/python3.7/site-packages/statsmodels/tsa/statespace/sarimax.py:949: UserWarning: Non-stationary starting autoregressive parameters found. Using zeros as starting parameters.\n",
      "  warn('Non-stationary starting autoregressive parameters'\n",
      "/Users/Tiffany/opt/anaconda3/lib/python3.7/site-packages/statsmodels/tsa/base/tsa_model.py:165: ValueWarning: No frequency information was provided, so inferred frequency 2AS-JAN will be used.\n",
      "  % freq, ValueWarning)\n",
      "/Users/Tiffany/opt/anaconda3/lib/python3.7/site-packages/statsmodels/tsa/statespace/sarimax.py:949: UserWarning: Non-stationary starting autoregressive parameters found. Using zeros as starting parameters.\n",
      "  warn('Non-stationary starting autoregressive parameters'\n"
     ]
    },
    {
     "name": "stdout",
     "output_type": "stream",
     "text": [
      "Andromeda XV\n",
      "9.416629021191099e-06\n"
     ]
    },
    {
     "name": "stderr",
     "output_type": "stream",
     "text": [
      "/Users/Tiffany/opt/anaconda3/lib/python3.7/site-packages/statsmodels/tsa/base/tsa_model.py:165: ValueWarning: No frequency information was provided, so inferred frequency 2AS-JAN will be used.\n",
      "  % freq, ValueWarning)\n",
      "/Users/Tiffany/opt/anaconda3/lib/python3.7/site-packages/statsmodels/tsa/base/tsa_model.py:219: ValueWarning: A date index has been provided, but it has no associated frequency information and so will be ignored when e.g. forecasting.\n",
      "  ' ignored when e.g. forecasting.', ValueWarning)\n",
      "/Users/Tiffany/opt/anaconda3/lib/python3.7/site-packages/statsmodels/tsa/base/tsa_model.py:165: ValueWarning: No frequency information was provided, so inferred frequency 2AS-JAN will be used.\n",
      "  % freq, ValueWarning)\n",
      "/Users/Tiffany/opt/anaconda3/lib/python3.7/site-packages/statsmodels/tsa/statespace/sarimax.py:961: UserWarning: Non-invertible starting MA parameters found. Using zeros as starting parameters.\n",
      "  warn('Non-invertible starting MA parameters found.'\n"
     ]
    },
    {
     "name": "stdout",
     "output_type": "stream",
     "text": [
      "KKh 086\n",
      "1.7779517044899342e-07\n"
     ]
    },
    {
     "name": "stderr",
     "output_type": "stream",
     "text": [
      "/Users/Tiffany/opt/anaconda3/lib/python3.7/site-packages/statsmodels/tsa/base/tsa_model.py:165: ValueWarning: No frequency information was provided, so inferred frequency 2AS-JAN will be used.\n",
      "  % freq, ValueWarning)\n",
      "/Users/Tiffany/opt/anaconda3/lib/python3.7/site-packages/statsmodels/tsa/base/tsa_model.py:165: ValueWarning: No frequency information was provided, so inferred frequency 2AS-JAN will be used.\n",
      "  % freq, ValueWarning)\n",
      "/Users/Tiffany/opt/anaconda3/lib/python3.7/site-packages/statsmodels/tsa/base/tsa_model.py:165: ValueWarning: No frequency information was provided, so inferred frequency 2AS-JAN will be used.\n",
      "  % freq, ValueWarning)\n",
      "/Users/Tiffany/opt/anaconda3/lib/python3.7/site-packages/statsmodels/tsa/base/tsa_model.py:165: ValueWarning: No frequency information was provided, so inferred frequency 2AS-JAN will be used.\n",
      "  % freq, ValueWarning)\n",
      "/Users/Tiffany/opt/anaconda3/lib/python3.7/site-packages/statsmodels/tsa/statespace/sarimax.py:961: UserWarning: Non-invertible starting MA parameters found. Using zeros as starting parameters.\n",
      "  warn('Non-invertible starting MA parameters found.'\n"
     ]
    },
    {
     "name": "stdout",
     "output_type": "stream",
     "text": [
      "Andromeda X\n",
      "1.333574573197518e-06\n"
     ]
    },
    {
     "name": "stderr",
     "output_type": "stream",
     "text": [
      "/Users/Tiffany/opt/anaconda3/lib/python3.7/site-packages/statsmodels/tsa/base/tsa_model.py:165: ValueWarning: No frequency information was provided, so inferred frequency 2AS-JAN will be used.\n",
      "  % freq, ValueWarning)\n",
      "/Users/Tiffany/opt/anaconda3/lib/python3.7/site-packages/statsmodels/tsa/base/tsa_model.py:165: ValueWarning: No frequency information was provided, so inferred frequency 2AS-JAN will be used.\n",
      "  % freq, ValueWarning)\n"
     ]
    },
    {
     "name": "stdout",
     "output_type": "stream",
     "text": [
      "NGC 4163 (NGC 4167)\n",
      "1.6562924863129917e-07\n"
     ]
    },
    {
     "name": "stderr",
     "output_type": "stream",
     "text": [
      "/Users/Tiffany/opt/anaconda3/lib/python3.7/site-packages/statsmodels/tsa/base/tsa_model.py:219: ValueWarning: A date index has been provided, but it has no associated frequency information and so will be ignored when e.g. forecasting.\n",
      "  ' ignored when e.g. forecasting.', ValueWarning)\n",
      "/Users/Tiffany/opt/anaconda3/lib/python3.7/site-packages/statsmodels/tsa/base/tsa_model.py:165: ValueWarning: No frequency information was provided, so inferred frequency 2AS-JAN will be used.\n",
      "  % freq, ValueWarning)\n",
      "/Users/Tiffany/opt/anaconda3/lib/python3.7/site-packages/statsmodels/tsa/base/tsa_model.py:165: ValueWarning: No frequency information was provided, so inferred frequency 2AS-JAN will be used.\n",
      "  % freq, ValueWarning)\n",
      "/Users/Tiffany/opt/anaconda3/lib/python3.7/site-packages/statsmodels/tsa/base/tsa_model.py:165: ValueWarning: No frequency information was provided, so inferred frequency 2AS-JAN will be used.\n",
      "  % freq, ValueWarning)\n"
     ]
    },
    {
     "name": "stdout",
     "output_type": "stream",
     "text": [
      "Tucana II\n",
      "8.214647255515656e-08\n"
     ]
    },
    {
     "name": "stderr",
     "output_type": "stream",
     "text": [
      "/Users/Tiffany/opt/anaconda3/lib/python3.7/site-packages/statsmodels/tsa/base/tsa_model.py:219: ValueWarning: A date index has been provided, but it has no associated frequency information and so will be ignored when e.g. forecasting.\n",
      "  ' ignored when e.g. forecasting.', ValueWarning)\n",
      "/Users/Tiffany/opt/anaconda3/lib/python3.7/site-packages/statsmodels/tsa/base/tsa_model.py:165: ValueWarning: No frequency information was provided, so inferred frequency 2AS-JAN will be used.\n",
      "  % freq, ValueWarning)\n",
      "/Users/Tiffany/opt/anaconda3/lib/python3.7/site-packages/statsmodels/base/model.py:512: ConvergenceWarning: Maximum Likelihood optimization failed to converge. Check mle_retvals\n",
      "  \"Check mle_retvals\", ConvergenceWarning)\n",
      "/Users/Tiffany/opt/anaconda3/lib/python3.7/site-packages/statsmodels/tsa/base/tsa_model.py:165: ValueWarning: No frequency information was provided, so inferred frequency 2AS-JAN will be used.\n",
      "  % freq, ValueWarning)\n",
      "/Users/Tiffany/opt/anaconda3/lib/python3.7/site-packages/statsmodels/tsa/base/tsa_model.py:165: ValueWarning: No frequency information was provided, so inferred frequency 2AS-JAN will be used.\n",
      "  % freq, ValueWarning)\n",
      "/Users/Tiffany/opt/anaconda3/lib/python3.7/site-packages/statsmodels/tsa/base/tsa_model.py:219: ValueWarning: A date index has been provided, but it has no associated frequency information and so will be ignored when e.g. forecasting.\n",
      "  ' ignored when e.g. forecasting.', ValueWarning)\n",
      "/Users/Tiffany/opt/anaconda3/lib/python3.7/site-packages/statsmodels/tsa/base/tsa_model.py:165: ValueWarning: No frequency information was provided, so inferred frequency 2AS-JAN will be used.\n",
      "  % freq, ValueWarning)\n",
      "/Users/Tiffany/opt/anaconda3/lib/python3.7/site-packages/statsmodels/tsa/statespace/sarimax.py:961: UserWarning: Non-invertible starting MA parameters found. Using zeros as starting parameters.\n",
      "  warn('Non-invertible starting MA parameters found.'\n"
     ]
    },
    {
     "name": "stdout",
     "output_type": "stream",
     "text": [
      "Pisces I\n",
      "2.385669128742555e-07\n"
     ]
    },
    {
     "name": "stderr",
     "output_type": "stream",
     "text": [
      "/Users/Tiffany/opt/anaconda3/lib/python3.7/site-packages/statsmodels/tsa/base/tsa_model.py:165: ValueWarning: No frequency information was provided, so inferred frequency 2AS-JAN will be used.\n",
      "  % freq, ValueWarning)\n",
      "/Users/Tiffany/opt/anaconda3/lib/python3.7/site-packages/statsmodels/tsa/base/tsa_model.py:165: ValueWarning: No frequency information was provided, so inferred frequency 2AS-JAN will be used.\n",
      "  % freq, ValueWarning)\n"
     ]
    },
    {
     "name": "stdout",
     "output_type": "stream",
     "text": [
      "Cetus III\n",
      "3.611593138454298e-06\n"
     ]
    },
    {
     "name": "stderr",
     "output_type": "stream",
     "text": [
      "/Users/Tiffany/opt/anaconda3/lib/python3.7/site-packages/statsmodels/tsa/base/tsa_model.py:165: ValueWarning: No frequency information was provided, so inferred frequency 2AS-JAN will be used.\n",
      "  % freq, ValueWarning)\n",
      "/Users/Tiffany/opt/anaconda3/lib/python3.7/site-packages/statsmodels/tsa/base/tsa_model.py:165: ValueWarning: No frequency information was provided, so inferred frequency 2AS-JAN will be used.\n",
      "  % freq, ValueWarning)\n",
      "/Users/Tiffany/opt/anaconda3/lib/python3.7/site-packages/statsmodels/tsa/base/tsa_model.py:165: ValueWarning: No frequency information was provided, so inferred frequency 2AS-JAN will be used.\n",
      "  % freq, ValueWarning)\n",
      "/Users/Tiffany/opt/anaconda3/lib/python3.7/site-packages/statsmodels/tsa/base/tsa_model.py:165: ValueWarning: No frequency information was provided, so inferred frequency 2AS-JAN will be used.\n",
      "  % freq, ValueWarning)\n",
      "/Users/Tiffany/opt/anaconda3/lib/python3.7/site-packages/statsmodels/tsa/base/tsa_model.py:219: ValueWarning: A date index has been provided, but it has no associated frequency information and so will be ignored when e.g. forecasting.\n",
      "  ' ignored when e.g. forecasting.', ValueWarning)\n",
      "/Users/Tiffany/opt/anaconda3/lib/python3.7/site-packages/statsmodels/tsa/base/tsa_model.py:165: ValueWarning: No frequency information was provided, so inferred frequency 2AS-JAN will be used.\n",
      "  % freq, ValueWarning)\n"
     ]
    },
    {
     "name": "stdout",
     "output_type": "stream",
     "text": [
      "UGC 7577 (DDO 125)\n",
      "1.8360078314836291e-07\n"
     ]
    },
    {
     "name": "stderr",
     "output_type": "stream",
     "text": [
      "/Users/Tiffany/opt/anaconda3/lib/python3.7/site-packages/statsmodels/tsa/base/tsa_model.py:165: ValueWarning: No frequency information was provided, so inferred frequency 2AS-JAN will be used.\n",
      "  % freq, ValueWarning)\n",
      "/Users/Tiffany/opt/anaconda3/lib/python3.7/site-packages/statsmodels/tsa/base/tsa_model.py:165: ValueWarning: No frequency information was provided, so inferred frequency 2AS-JAN will be used.\n",
      "  % freq, ValueWarning)\n",
      "/Users/Tiffany/opt/anaconda3/lib/python3.7/site-packages/statsmodels/base/model.py:512: ConvergenceWarning: Maximum Likelihood optimization failed to converge. Check mle_retvals\n",
      "  \"Check mle_retvals\", ConvergenceWarning)\n",
      "/Users/Tiffany/opt/anaconda3/lib/python3.7/site-packages/statsmodels/tsa/base/tsa_model.py:219: ValueWarning: A date index has been provided, but it has no associated frequency information and so will be ignored when e.g. forecasting.\n",
      "  ' ignored when e.g. forecasting.', ValueWarning)\n",
      "/Users/Tiffany/opt/anaconda3/lib/python3.7/site-packages/statsmodels/tsa/base/tsa_model.py:165: ValueWarning: No frequency information was provided, so inferred frequency 2AS-JAN will be used.\n",
      "  % freq, ValueWarning)\n",
      "/Users/Tiffany/opt/anaconda3/lib/python3.7/site-packages/statsmodels/tsa/base/tsa_model.py:165: ValueWarning: No frequency information was provided, so inferred frequency 2AS-JAN will be used.\n",
      "  % freq, ValueWarning)\n"
     ]
    },
    {
     "name": "stdout",
     "output_type": "stream",
     "text": [
      "HIPASS J1247-77\n",
      "2.4568694201693616e-07\n"
     ]
    },
    {
     "name": "stderr",
     "output_type": "stream",
     "text": [
      "/Users/Tiffany/opt/anaconda3/lib/python3.7/site-packages/statsmodels/base/model.py:512: ConvergenceWarning: Maximum Likelihood optimization failed to converge. Check mle_retvals\n",
      "  \"Check mle_retvals\", ConvergenceWarning)\n",
      "/Users/Tiffany/opt/anaconda3/lib/python3.7/site-packages/statsmodels/tsa/base/tsa_model.py:165: ValueWarning: No frequency information was provided, so inferred frequency 2AS-JAN will be used.\n",
      "  % freq, ValueWarning)\n",
      "/Users/Tiffany/opt/anaconda3/lib/python3.7/site-packages/statsmodels/base/model.py:512: ConvergenceWarning: Maximum Likelihood optimization failed to converge. Check mle_retvals\n",
      "  \"Check mle_retvals\", ConvergenceWarning)\n"
     ]
    },
    {
     "name": "stdout",
     "output_type": "stream",
     "text": [
      "Triangulum Galaxy (M33)\n",
      "6.525424509717926e-07\n"
     ]
    },
    {
     "name": "stderr",
     "output_type": "stream",
     "text": [
      "/Users/Tiffany/opt/anaconda3/lib/python3.7/site-packages/statsmodels/tsa/base/tsa_model.py:165: ValueWarning: No frequency information was provided, so inferred frequency 2AS-JAN will be used.\n",
      "  % freq, ValueWarning)\n",
      "/Users/Tiffany/opt/anaconda3/lib/python3.7/site-packages/statsmodels/tsa/base/tsa_model.py:165: ValueWarning: No frequency information was provided, so inferred frequency 2AS-JAN will be used.\n",
      "  % freq, ValueWarning)\n",
      "/Users/Tiffany/opt/anaconda3/lib/python3.7/site-packages/statsmodels/tsa/base/tsa_model.py:165: ValueWarning: No frequency information was provided, so inferred frequency 2AS-JAN will be used.\n",
      "  % freq, ValueWarning)\n",
      "/Users/Tiffany/opt/anaconda3/lib/python3.7/site-packages/statsmodels/tsa/base/tsa_model.py:165: ValueWarning: No frequency information was provided, so inferred frequency 2AS-JAN will be used.\n",
      "  % freq, ValueWarning)\n"
     ]
    },
    {
     "name": "stdout",
     "output_type": "stream",
     "text": [
      "Small Magellanic Cloud (SMC, NGC 292)\n",
      "1.0396770643247886e-07\n"
     ]
    },
    {
     "name": "stderr",
     "output_type": "stream",
     "text": [
      "/Users/Tiffany/opt/anaconda3/lib/python3.7/site-packages/statsmodels/tsa/base/tsa_model.py:219: ValueWarning: A date index has been provided, but it has no associated frequency information and so will be ignored when e.g. forecasting.\n",
      "  ' ignored when e.g. forecasting.', ValueWarning)\n",
      "/Users/Tiffany/opt/anaconda3/lib/python3.7/site-packages/statsmodels/tsa/base/tsa_model.py:165: ValueWarning: No frequency information was provided, so inferred frequency 2AS-JAN will be used.\n",
      "  % freq, ValueWarning)\n",
      "/Users/Tiffany/opt/anaconda3/lib/python3.7/site-packages/statsmodels/base/model.py:512: ConvergenceWarning: Maximum Likelihood optimization failed to converge. Check mle_retvals\n",
      "  \"Check mle_retvals\", ConvergenceWarning)\n",
      "/Users/Tiffany/opt/anaconda3/lib/python3.7/site-packages/statsmodels/tsa/base/tsa_model.py:165: ValueWarning: No frequency information was provided, so inferred frequency 2AS-JAN will be used.\n",
      "  % freq, ValueWarning)\n",
      "/Users/Tiffany/opt/anaconda3/lib/python3.7/site-packages/statsmodels/base/model.py:512: ConvergenceWarning: Maximum Likelihood optimization failed to converge. Check mle_retvals\n",
      "  \"Check mle_retvals\", ConvergenceWarning)\n",
      "/Users/Tiffany/opt/anaconda3/lib/python3.7/site-packages/statsmodels/tsa/base/tsa_model.py:165: ValueWarning: No frequency information was provided, so inferred frequency 2AS-JAN will be used.\n",
      "  % freq, ValueWarning)\n"
     ]
    },
    {
     "name": "stdout",
     "output_type": "stream",
     "text": [
      "Canes Venatici I Dwarf\n",
      "4.874445835604057e-06\n"
     ]
    },
    {
     "name": "stderr",
     "output_type": "stream",
     "text": [
      "/Users/Tiffany/opt/anaconda3/lib/python3.7/site-packages/statsmodels/tsa/base/tsa_model.py:219: ValueWarning: A date index has been provided, but it has no associated frequency information and so will be ignored when e.g. forecasting.\n",
      "  ' ignored when e.g. forecasting.', ValueWarning)\n",
      "/Users/Tiffany/opt/anaconda3/lib/python3.7/site-packages/statsmodels/tsa/base/tsa_model.py:165: ValueWarning: No frequency information was provided, so inferred frequency 2AS-JAN will be used.\n",
      "  % freq, ValueWarning)\n",
      "/Users/Tiffany/opt/anaconda3/lib/python3.7/site-packages/statsmodels/tsa/statespace/sarimax.py:949: UserWarning: Non-stationary starting autoregressive parameters found. Using zeros as starting parameters.\n",
      "  warn('Non-stationary starting autoregressive parameters'\n",
      "/Users/Tiffany/opt/anaconda3/lib/python3.7/site-packages/statsmodels/tsa/base/tsa_model.py:165: ValueWarning: No frequency information was provided, so inferred frequency 2AS-JAN will be used.\n",
      "  % freq, ValueWarning)\n",
      "/Users/Tiffany/opt/anaconda3/lib/python3.7/site-packages/statsmodels/tsa/statespace/sarimax.py:949: UserWarning: Non-stationary starting autoregressive parameters found. Using zeros as starting parameters.\n",
      "  warn('Non-stationary starting autoregressive parameters'\n",
      "/Users/Tiffany/opt/anaconda3/lib/python3.7/site-packages/statsmodels/tsa/base/tsa_model.py:165: ValueWarning: No frequency information was provided, so inferred frequency 2AS-JAN will be used.\n",
      "  % freq, ValueWarning)\n",
      "/Users/Tiffany/opt/anaconda3/lib/python3.7/site-packages/statsmodels/tsa/base/tsa_model.py:219: ValueWarning: A date index has been provided, but it has no associated frequency information and so will be ignored when e.g. forecasting.\n",
      "  ' ignored when e.g. forecasting.', ValueWarning)\n",
      "/Users/Tiffany/opt/anaconda3/lib/python3.7/site-packages/statsmodels/tsa/base/tsa_model.py:165: ValueWarning: No frequency information was provided, so inferred frequency 2AS-JAN will be used.\n",
      "  % freq, ValueWarning)\n",
      "/Users/Tiffany/opt/anaconda3/lib/python3.7/site-packages/statsmodels/tsa/base/tsa_model.py:165: ValueWarning: No frequency information was provided, so inferred frequency 2AS-JAN will be used.\n",
      "  % freq, ValueWarning)\n"
     ]
    },
    {
     "name": "stdout",
     "output_type": "stream",
     "text": [
      "UGCA 92\n",
      "3.433904447617475e-06\n"
     ]
    },
    {
     "name": "stderr",
     "output_type": "stream",
     "text": [
      "/Users/Tiffany/opt/anaconda3/lib/python3.7/site-packages/statsmodels/tsa/base/tsa_model.py:165: ValueWarning: No frequency information was provided, so inferred frequency 2AS-JAN will be used.\n",
      "  % freq, ValueWarning)\n",
      "/Users/Tiffany/opt/anaconda3/lib/python3.7/site-packages/statsmodels/tsa/base/tsa_model.py:219: ValueWarning: A date index has been provided, but it has no associated frequency information and so will be ignored when e.g. forecasting.\n",
      "  ' ignored when e.g. forecasting.', ValueWarning)\n",
      "/Users/Tiffany/opt/anaconda3/lib/python3.7/site-packages/statsmodels/tsa/base/tsa_model.py:165: ValueWarning: No frequency information was provided, so inferred frequency 2AS-JAN will be used.\n",
      "  % freq, ValueWarning)\n"
     ]
    },
    {
     "name": "stdout",
     "output_type": "stream",
     "text": [
      "IC 342\n",
      "7.532273243000202e-07\n"
     ]
    },
    {
     "name": "stderr",
     "output_type": "stream",
     "text": [
      "/Users/Tiffany/opt/anaconda3/lib/python3.7/site-packages/statsmodels/tsa/base/tsa_model.py:165: ValueWarning: No frequency information was provided, so inferred frequency 2AS-JAN will be used.\n",
      "  % freq, ValueWarning)\n",
      "/Users/Tiffany/opt/anaconda3/lib/python3.7/site-packages/statsmodels/tsa/base/tsa_model.py:165: ValueWarning: No frequency information was provided, so inferred frequency 2AS-JAN will be used.\n",
      "  % freq, ValueWarning)\n",
      "/Users/Tiffany/opt/anaconda3/lib/python3.7/site-packages/statsmodels/base/model.py:512: ConvergenceWarning: Maximum Likelihood optimization failed to converge. Check mle_retvals\n",
      "  \"Check mle_retvals\", ConvergenceWarning)\n"
     ]
    },
    {
     "name": "stdout",
     "output_type": "stream",
     "text": [
      "UGC 4879 (VV124)[61]\n",
      "7.289614208502358e-07\n"
     ]
    },
    {
     "name": "stderr",
     "output_type": "stream",
     "text": [
      "/Users/Tiffany/opt/anaconda3/lib/python3.7/site-packages/statsmodels/tsa/base/tsa_model.py:219: ValueWarning: A date index has been provided, but it has no associated frequency information and so will be ignored when e.g. forecasting.\n",
      "  ' ignored when e.g. forecasting.', ValueWarning)\n",
      "/Users/Tiffany/opt/anaconda3/lib/python3.7/site-packages/statsmodels/tsa/base/tsa_model.py:165: ValueWarning: No frequency information was provided, so inferred frequency 2AS-JAN will be used.\n",
      "  % freq, ValueWarning)\n",
      "/Users/Tiffany/opt/anaconda3/lib/python3.7/site-packages/statsmodels/tsa/statespace/sarimax.py:961: UserWarning: Non-invertible starting MA parameters found. Using zeros as starting parameters.\n",
      "  warn('Non-invertible starting MA parameters found.'\n",
      "/Users/Tiffany/opt/anaconda3/lib/python3.7/site-packages/statsmodels/tsa/base/tsa_model.py:165: ValueWarning: No frequency information was provided, so inferred frequency 2AS-JAN will be used.\n",
      "  % freq, ValueWarning)\n",
      "/Users/Tiffany/opt/anaconda3/lib/python3.7/site-packages/statsmodels/tsa/base/tsa_model.py:165: ValueWarning: No frequency information was provided, so inferred frequency 2AS-JAN will be used.\n",
      "  % freq, ValueWarning)\n"
     ]
    },
    {
     "name": "stdout",
     "output_type": "stream",
     "text": [
      "Pegasus III\n",
      "3.514826469798284e-06\n"
     ]
    },
    {
     "name": "stderr",
     "output_type": "stream",
     "text": [
      "/Users/Tiffany/opt/anaconda3/lib/python3.7/site-packages/statsmodels/tsa/base/tsa_model.py:165: ValueWarning: No frequency information was provided, so inferred frequency 2AS-JAN will be used.\n",
      "  % freq, ValueWarning)\n",
      "/Users/Tiffany/opt/anaconda3/lib/python3.7/site-packages/statsmodels/tsa/base/tsa_model.py:165: ValueWarning: No frequency information was provided, so inferred frequency 2AS-JAN will be used.\n",
      "  % freq, ValueWarning)\n",
      "/Users/Tiffany/opt/anaconda3/lib/python3.7/site-packages/statsmodels/tsa/base/tsa_model.py:165: ValueWarning: No frequency information was provided, so inferred frequency 2AS-JAN will be used.\n",
      "  % freq, ValueWarning)\n",
      "/Users/Tiffany/opt/anaconda3/lib/python3.7/site-packages/statsmodels/tsa/base/tsa_model.py:165: ValueWarning: No frequency information was provided, so inferred frequency 2AS-JAN will be used.\n",
      "  % freq, ValueWarning)\n",
      "/Users/Tiffany/opt/anaconda3/lib/python3.7/site-packages/statsmodels/base/model.py:512: ConvergenceWarning: Maximum Likelihood optimization failed to converge. Check mle_retvals\n",
      "  \"Check mle_retvals\", ConvergenceWarning)\n",
      "/Users/Tiffany/opt/anaconda3/lib/python3.7/site-packages/statsmodels/tsa/base/tsa_model.py:219: ValueWarning: A date index has been provided, but it has no associated frequency information and so will be ignored when e.g. forecasting.\n",
      "  ' ignored when e.g. forecasting.', ValueWarning)\n",
      "/Users/Tiffany/opt/anaconda3/lib/python3.7/site-packages/statsmodels/tsa/base/tsa_model.py:165: ValueWarning: No frequency information was provided, so inferred frequency 2AS-JAN will be used.\n",
      "  % freq, ValueWarning)\n",
      "/Users/Tiffany/opt/anaconda3/lib/python3.7/site-packages/statsmodels/tsa/base/tsa_model.py:165: ValueWarning: No frequency information was provided, so inferred frequency 2AS-JAN will be used.\n",
      "  % freq, ValueWarning)\n"
     ]
    },
    {
     "name": "stdout",
     "output_type": "stream",
     "text": [
      "Leo A (Leo III, DDO 69)\n",
      "9.708727517902e-08\n"
     ]
    },
    {
     "name": "stderr",
     "output_type": "stream",
     "text": [
      "/Users/Tiffany/opt/anaconda3/lib/python3.7/site-packages/statsmodels/tsa/base/tsa_model.py:165: ValueWarning: No frequency information was provided, so inferred frequency 2AS-JAN will be used.\n",
      "  % freq, ValueWarning)\n",
      "/Users/Tiffany/opt/anaconda3/lib/python3.7/site-packages/statsmodels/tsa/base/tsa_model.py:219: ValueWarning: A date index has been provided, but it has no associated frequency information and so will be ignored when e.g. forecasting.\n",
      "  ' ignored when e.g. forecasting.', ValueWarning)\n",
      "/Users/Tiffany/opt/anaconda3/lib/python3.7/site-packages/statsmodels/tsa/base/tsa_model.py:165: ValueWarning: No frequency information was provided, so inferred frequency 2AS-JAN will be used.\n",
      "  % freq, ValueWarning)\n",
      "/Users/Tiffany/opt/anaconda3/lib/python3.7/site-packages/statsmodels/tsa/statespace/sarimax.py:961: UserWarning: Non-invertible starting MA parameters found. Using zeros as starting parameters.\n",
      "  warn('Non-invertible starting MA parameters found.'\n",
      "/Users/Tiffany/opt/anaconda3/lib/python3.7/site-packages/statsmodels/tsa/base/tsa_model.py:165: ValueWarning: No frequency information was provided, so inferred frequency 2AS-JAN will be used.\n",
      "  % freq, ValueWarning)\n"
     ]
    },
    {
     "name": "stdout",
     "output_type": "stream",
     "text": [
      "Tucana III\n",
      "1.3329185039503363e-07\n"
     ]
    },
    {
     "name": "stderr",
     "output_type": "stream",
     "text": [
      "/Users/Tiffany/opt/anaconda3/lib/python3.7/site-packages/statsmodels/tsa/base/tsa_model.py:165: ValueWarning: No frequency information was provided, so inferred frequency 2AS-JAN will be used.\n",
      "  % freq, ValueWarning)\n",
      "/Users/Tiffany/opt/anaconda3/lib/python3.7/site-packages/statsmodels/base/model.py:512: ConvergenceWarning: Maximum Likelihood optimization failed to converge. Check mle_retvals\n",
      "  \"Check mle_retvals\", ConvergenceWarning)\n",
      "/Users/Tiffany/opt/anaconda3/lib/python3.7/site-packages/statsmodels/tsa/base/tsa_model.py:219: ValueWarning: A date index has been provided, but it has no associated frequency information and so will be ignored when e.g. forecasting.\n",
      "  ' ignored when e.g. forecasting.', ValueWarning)\n",
      "/Users/Tiffany/opt/anaconda3/lib/python3.7/site-packages/statsmodels/tsa/base/tsa_model.py:165: ValueWarning: No frequency information was provided, so inferred frequency 2AS-JAN will be used.\n",
      "  % freq, ValueWarning)\n",
      "/Users/Tiffany/opt/anaconda3/lib/python3.7/site-packages/statsmodels/tsa/statespace/sarimax.py:961: UserWarning: Non-invertible starting MA parameters found. Using zeros as starting parameters.\n",
      "  warn('Non-invertible starting MA parameters found.'\n"
     ]
    },
    {
     "name": "stdout",
     "output_type": "stream",
     "text": [
      "KKH 37 (Mai 16)\n",
      "2.356255391887202e-06\n"
     ]
    },
    {
     "name": "stderr",
     "output_type": "stream",
     "text": [
      "/Users/Tiffany/opt/anaconda3/lib/python3.7/site-packages/statsmodels/tsa/base/tsa_model.py:165: ValueWarning: No frequency information was provided, so inferred frequency 2AS-JAN will be used.\n",
      "  % freq, ValueWarning)\n",
      "/Users/Tiffany/opt/anaconda3/lib/python3.7/site-packages/statsmodels/tsa/base/tsa_model.py:165: ValueWarning: No frequency information was provided, so inferred frequency 2AS-JAN will be used.\n",
      "  % freq, ValueWarning)\n",
      "/Users/Tiffany/opt/anaconda3/lib/python3.7/site-packages/statsmodels/tsa/base/tsa_model.py:219: ValueWarning: A date index has been provided, but it has no associated frequency information and so will be ignored when e.g. forecasting.\n",
      "  ' ignored when e.g. forecasting.', ValueWarning)\n",
      "/Users/Tiffany/opt/anaconda3/lib/python3.7/site-packages/statsmodels/tsa/base/tsa_model.py:165: ValueWarning: No frequency information was provided, so inferred frequency 2AS-JAN will be used.\n",
      "  % freq, ValueWarning)\n"
     ]
    },
    {
     "name": "stdout",
     "output_type": "stream",
     "text": [
      "NGC 4214 (UGC 7278)\n",
      "1.3383941109243397e-07\n"
     ]
    },
    {
     "name": "stderr",
     "output_type": "stream",
     "text": [
      "/Users/Tiffany/opt/anaconda3/lib/python3.7/site-packages/statsmodels/tsa/base/tsa_model.py:165: ValueWarning: No frequency information was provided, so inferred frequency 2AS-JAN will be used.\n",
      "  % freq, ValueWarning)\n",
      "/Users/Tiffany/opt/anaconda3/lib/python3.7/site-packages/statsmodels/tsa/base/tsa_model.py:165: ValueWarning: No frequency information was provided, so inferred frequency 2AS-JAN will be used.\n",
      "  % freq, ValueWarning)\n"
     ]
    },
    {
     "name": "stdout",
     "output_type": "stream",
     "text": [
      "Pisces Dwarf\n",
      "1.839932019939237e-06\n"
     ]
    },
    {
     "name": "stderr",
     "output_type": "stream",
     "text": [
      "/Users/Tiffany/opt/anaconda3/lib/python3.7/site-packages/statsmodels/tsa/base/tsa_model.py:165: ValueWarning: No frequency information was provided, so inferred frequency 2AS-JAN will be used.\n",
      "  % freq, ValueWarning)\n",
      "/Users/Tiffany/opt/anaconda3/lib/python3.7/site-packages/statsmodels/tsa/base/tsa_model.py:165: ValueWarning: No frequency information was provided, so inferred frequency 2AS-JAN will be used.\n",
      "  % freq, ValueWarning)\n",
      "/Users/Tiffany/opt/anaconda3/lib/python3.7/site-packages/statsmodels/tsa/base/tsa_model.py:165: ValueWarning: No frequency information was provided, so inferred frequency 2AS-JAN will be used.\n",
      "  % freq, ValueWarning)\n",
      "/Users/Tiffany/opt/anaconda3/lib/python3.7/site-packages/statsmodels/tsa/base/tsa_model.py:165: ValueWarning: No frequency information was provided, so inferred frequency 2AS-JAN will be used.\n",
      "  % freq, ValueWarning)\n",
      "/Users/Tiffany/opt/anaconda3/lib/python3.7/site-packages/statsmodels/tsa/base/tsa_model.py:165: ValueWarning: No frequency information was provided, so inferred frequency 2AS-JAN will be used.\n",
      "  % freq, ValueWarning)\n",
      "/Users/Tiffany/opt/anaconda3/lib/python3.7/site-packages/statsmodels/tsa/base/tsa_model.py:165: ValueWarning: No frequency information was provided, so inferred frequency 2AS-JAN will be used.\n",
      "  % freq, ValueWarning)\n",
      "/Users/Tiffany/opt/anaconda3/lib/python3.7/site-packages/statsmodels/tsa/statespace/sarimax.py:949: UserWarning: Non-stationary starting autoregressive parameters found. Using zeros as starting parameters.\n",
      "  warn('Non-stationary starting autoregressive parameters'\n",
      "/Users/Tiffany/opt/anaconda3/lib/python3.7/site-packages/statsmodels/tsa/base/tsa_model.py:165: ValueWarning: No frequency information was provided, so inferred frequency 2AS-JAN will be used.\n",
      "  % freq, ValueWarning)\n",
      "/Users/Tiffany/opt/anaconda3/lib/python3.7/site-packages/statsmodels/tsa/statespace/sarimax.py:949: UserWarning: Non-stationary starting autoregressive parameters found. Using zeros as starting parameters.\n",
      "  warn('Non-stationary starting autoregressive parameters'\n"
     ]
    },
    {
     "name": "stdout",
     "output_type": "stream",
     "text": [
      "Leo IV Dwarf\n",
      "0.0001926125466384901\n"
     ]
    },
    {
     "name": "stderr",
     "output_type": "stream",
     "text": [
      "/Users/Tiffany/opt/anaconda3/lib/python3.7/site-packages/statsmodels/tsa/base/tsa_model.py:165: ValueWarning: No frequency information was provided, so inferred frequency 2AS-JAN will be used.\n",
      "  % freq, ValueWarning)\n",
      "/Users/Tiffany/opt/anaconda3/lib/python3.7/site-packages/statsmodels/tsa/base/tsa_model.py:165: ValueWarning: No frequency information was provided, so inferred frequency 2AS-JAN will be used.\n",
      "  % freq, ValueWarning)\n",
      "/Users/Tiffany/opt/anaconda3/lib/python3.7/site-packages/statsmodels/tsa/base/tsa_model.py:165: ValueWarning: No frequency information was provided, so inferred frequency 2AS-JAN will be used.\n",
      "  % freq, ValueWarning)\n"
     ]
    },
    {
     "name": "stdout",
     "output_type": "stream",
     "text": [
      "Eridanus II\n",
      "3.6665478968852224e-07\n"
     ]
    },
    {
     "name": "stderr",
     "output_type": "stream",
     "text": [
      "/Users/Tiffany/opt/anaconda3/lib/python3.7/site-packages/statsmodels/tsa/base/tsa_model.py:165: ValueWarning: No frequency information was provided, so inferred frequency 2AS-JAN will be used.\n",
      "  % freq, ValueWarning)\n",
      "/Users/Tiffany/opt/anaconda3/lib/python3.7/site-packages/statsmodels/tsa/base/tsa_model.py:165: ValueWarning: No frequency information was provided, so inferred frequency 2AS-JAN will be used.\n",
      "  % freq, ValueWarning)\n"
     ]
    },
    {
     "name": "stdout",
     "output_type": "stream",
     "text": [
      "Canes Venatici II Dwarf\n",
      "9.435685344795143e-05\n"
     ]
    },
    {
     "name": "stderr",
     "output_type": "stream",
     "text": [
      "/Users/Tiffany/opt/anaconda3/lib/python3.7/site-packages/statsmodels/tsa/base/tsa_model.py:165: ValueWarning: No frequency information was provided, so inferred frequency 2AS-JAN will be used.\n",
      "  % freq, ValueWarning)\n",
      "/Users/Tiffany/opt/anaconda3/lib/python3.7/site-packages/statsmodels/tsa/base/tsa_model.py:165: ValueWarning: No frequency information was provided, so inferred frequency 2AS-JAN will be used.\n",
      "  % freq, ValueWarning)\n",
      "/Users/Tiffany/opt/anaconda3/lib/python3.7/site-packages/statsmodels/tsa/statespace/sarimax.py:949: UserWarning: Non-stationary starting autoregressive parameters found. Using zeros as starting parameters.\n",
      "  warn('Non-stationary starting autoregressive parameters'\n",
      "/Users/Tiffany/opt/anaconda3/lib/python3.7/site-packages/statsmodels/tsa/base/tsa_model.py:165: ValueWarning: No frequency information was provided, so inferred frequency 2AS-JAN will be used.\n",
      "  % freq, ValueWarning)\n",
      "/Users/Tiffany/opt/anaconda3/lib/python3.7/site-packages/statsmodels/tsa/statespace/sarimax.py:949: UserWarning: Non-stationary starting autoregressive parameters found. Using zeros as starting parameters.\n",
      "  warn('Non-stationary starting autoregressive parameters'\n",
      "/Users/Tiffany/opt/anaconda3/lib/python3.7/site-packages/statsmodels/tsa/base/tsa_model.py:165: ValueWarning: No frequency information was provided, so inferred frequency 2AS-JAN will be used.\n",
      "  % freq, ValueWarning)\n"
     ]
    },
    {
     "name": "stdout",
     "output_type": "stream",
     "text": [
      "IC 10 (UGC 192)\n",
      "0.00011191736863662991\n"
     ]
    },
    {
     "name": "stderr",
     "output_type": "stream",
     "text": [
      "/Users/Tiffany/opt/anaconda3/lib/python3.7/site-packages/statsmodels/tsa/base/tsa_model.py:165: ValueWarning: No frequency information was provided, so inferred frequency 2AS-JAN will be used.\n",
      "  % freq, ValueWarning)\n",
      "/Users/Tiffany/opt/anaconda3/lib/python3.7/site-packages/statsmodels/tsa/base/tsa_model.py:165: ValueWarning: No frequency information was provided, so inferred frequency 2AS-JAN will be used.\n",
      "  % freq, ValueWarning)\n",
      "/Users/Tiffany/opt/anaconda3/lib/python3.7/site-packages/statsmodels/tsa/base/tsa_model.py:165: ValueWarning: No frequency information was provided, so inferred frequency 2AS-JAN will be used.\n",
      "  % freq, ValueWarning)\n",
      "/Users/Tiffany/opt/anaconda3/lib/python3.7/site-packages/statsmodels/tsa/statespace/sarimax.py:949: UserWarning: Non-stationary starting autoregressive parameters found. Using zeros as starting parameters.\n",
      "  warn('Non-stationary starting autoregressive parameters'\n",
      "/Users/Tiffany/opt/anaconda3/lib/python3.7/site-packages/statsmodels/tsa/base/tsa_model.py:165: ValueWarning: No frequency information was provided, so inferred frequency 2AS-JAN will be used.\n",
      "  % freq, ValueWarning)\n",
      "/Users/Tiffany/opt/anaconda3/lib/python3.7/site-packages/statsmodels/base/model.py:512: ConvergenceWarning: Maximum Likelihood optimization failed to converge. Check mle_retvals\n",
      "  \"Check mle_retvals\", ConvergenceWarning)\n"
     ]
    },
    {
     "name": "stdout",
     "output_type": "stream",
     "text": [
      "Willman 1\n"
     ]
    },
    {
     "name": "stderr",
     "output_type": "stream",
     "text": [
      "/Users/Tiffany/opt/anaconda3/lib/python3.7/site-packages/statsmodels/tsa/base/tsa_model.py:219: ValueWarning: A date index has been provided, but it has no associated frequency information and so will be ignored when e.g. forecasting.\n",
      "  ' ignored when e.g. forecasting.', ValueWarning)\n",
      "/Users/Tiffany/opt/anaconda3/lib/python3.7/site-packages/statsmodels/tsa/base/tsa_model.py:165: ValueWarning: No frequency information was provided, so inferred frequency 2AS-JAN will be used.\n",
      "  % freq, ValueWarning)\n"
     ]
    },
    {
     "name": "stdout",
     "output_type": "stream",
     "text": [
      "4.6188562777367945e-07\n"
     ]
    },
    {
     "name": "stderr",
     "output_type": "stream",
     "text": [
      "/Users/Tiffany/opt/anaconda3/lib/python3.7/site-packages/statsmodels/tsa/base/tsa_model.py:165: ValueWarning: No frequency information was provided, so inferred frequency 2AS-JAN will be used.\n",
      "  % freq, ValueWarning)\n",
      "/Users/Tiffany/opt/anaconda3/lib/python3.7/site-packages/statsmodels/tsa/base/tsa_model.py:165: ValueWarning: No frequency information was provided, so inferred frequency 2AS-JAN will be used.\n",
      "  % freq, ValueWarning)\n"
     ]
    },
    {
     "name": "stdout",
     "output_type": "stream",
     "text": [
      "ESO 410-G005\n",
      "9.283539091689826e-07\n"
     ]
    },
    {
     "name": "stderr",
     "output_type": "stream",
     "text": [
      "/Users/Tiffany/opt/anaconda3/lib/python3.7/site-packages/statsmodels/tsa/base/tsa_model.py:165: ValueWarning: No frequency information was provided, so inferred frequency 2AS-JAN will be used.\n",
      "  % freq, ValueWarning)\n",
      "/Users/Tiffany/opt/anaconda3/lib/python3.7/site-packages/statsmodels/tsa/base/tsa_model.py:165: ValueWarning: No frequency information was provided, so inferred frequency 2AS-JAN will be used.\n",
      "  % freq, ValueWarning)\n",
      "/Users/Tiffany/opt/anaconda3/lib/python3.7/site-packages/statsmodels/tsa/base/tsa_model.py:165: ValueWarning: No frequency information was provided, so inferred frequency 2AS-JAN will be used.\n",
      "  % freq, ValueWarning)\n",
      "/Users/Tiffany/opt/anaconda3/lib/python3.7/site-packages/statsmodels/tsa/base/tsa_model.py:165: ValueWarning: No frequency information was provided, so inferred frequency 2AS-JAN will be used.\n",
      "  % freq, ValueWarning)\n",
      "/Users/Tiffany/opt/anaconda3/lib/python3.7/site-packages/statsmodels/base/model.py:512: ConvergenceWarning: Maximum Likelihood optimization failed to converge. Check mle_retvals\n",
      "  \"Check mle_retvals\", ConvergenceWarning)\n",
      "/Users/Tiffany/opt/anaconda3/lib/python3.7/site-packages/statsmodels/tsa/base/tsa_model.py:165: ValueWarning: No frequency information was provided, so inferred frequency 2AS-JAN will be used.\n",
      "  % freq, ValueWarning)\n",
      "/Users/Tiffany/opt/anaconda3/lib/python3.7/site-packages/statsmodels/tsa/base/tsa_model.py:165: ValueWarning: No frequency information was provided, so inferred frequency 2AS-JAN will be used.\n",
      "  % freq, ValueWarning)\n"
     ]
    },
    {
     "name": "stdout",
     "output_type": "stream",
     "text": [
      "Wolf-Lundmark-Melotte (WLM, DDO 221)\n"
     ]
    },
    {
     "name": "stderr",
     "output_type": "stream",
     "text": [
      "/Users/Tiffany/opt/anaconda3/lib/python3.7/site-packages/statsmodels/base/model.py:512: ConvergenceWarning: Maximum Likelihood optimization failed to converge. Check mle_retvals\n",
      "  \"Check mle_retvals\", ConvergenceWarning)\n",
      "/Users/Tiffany/opt/anaconda3/lib/python3.7/site-packages/statsmodels/tsa/base/tsa_model.py:165: ValueWarning: No frequency information was provided, so inferred frequency 2AS-JAN will be used.\n",
      "  % freq, ValueWarning)\n",
      "/Users/Tiffany/opt/anaconda3/lib/python3.7/site-packages/statsmodels/tsa/base/tsa_model.py:165: ValueWarning: No frequency information was provided, so inferred frequency 2AS-JAN will be used.\n",
      "  % freq, ValueWarning)\n"
     ]
    },
    {
     "name": "stdout",
     "output_type": "stream",
     "text": [
      "2.147973644809729e-06\n",
      "Sagittarius Dwarf Irregular Galaxy (SagDIG)\n",
      "5.141462506643016e-07\n"
     ]
    },
    {
     "name": "stderr",
     "output_type": "stream",
     "text": [
      "/Users/Tiffany/opt/anaconda3/lib/python3.7/site-packages/statsmodels/tsa/base/tsa_model.py:165: ValueWarning: No frequency information was provided, so inferred frequency 2AS-JAN will be used.\n",
      "  % freq, ValueWarning)\n",
      "/Users/Tiffany/opt/anaconda3/lib/python3.7/site-packages/statsmodels/tsa/base/tsa_model.py:165: ValueWarning: No frequency information was provided, so inferred frequency 2AS-JAN will be used.\n",
      "  % freq, ValueWarning)\n",
      "/Users/Tiffany/opt/anaconda3/lib/python3.7/site-packages/statsmodels/tsa/base/tsa_model.py:165: ValueWarning: No frequency information was provided, so inferred frequency 2AS-JAN will be used.\n",
      "  % freq, ValueWarning)\n",
      "/Users/Tiffany/opt/anaconda3/lib/python3.7/site-packages/statsmodels/tsa/statespace/sarimax.py:949: UserWarning: Non-stationary starting autoregressive parameters found. Using zeros as starting parameters.\n",
      "  warn('Non-stationary starting autoregressive parameters'\n",
      "/Users/Tiffany/opt/anaconda3/lib/python3.7/site-packages/statsmodels/tsa/base/tsa_model.py:165: ValueWarning: No frequency information was provided, so inferred frequency 2AS-JAN will be used.\n",
      "  % freq, ValueWarning)\n",
      "/Users/Tiffany/opt/anaconda3/lib/python3.7/site-packages/statsmodels/base/model.py:512: ConvergenceWarning: Maximum Likelihood optimization failed to converge. Check mle_retvals\n",
      "  \"Check mle_retvals\", ConvergenceWarning)\n",
      "/Users/Tiffany/opt/anaconda3/lib/python3.7/site-packages/statsmodels/tsa/base/tsa_model.py:165: ValueWarning: No frequency information was provided, so inferred frequency 2AS-JAN will be used.\n",
      "  % freq, ValueWarning)\n",
      "/Users/Tiffany/opt/anaconda3/lib/python3.7/site-packages/statsmodels/tsa/base/tsa_model.py:165: ValueWarning: No frequency information was provided, so inferred frequency 2AS-JAN will be used.\n",
      "  % freq, ValueWarning)\n"
     ]
    },
    {
     "name": "stdout",
     "output_type": "stream",
     "text": [
      "KKh 98\n",
      "2.1634857374380113e-06\n"
     ]
    },
    {
     "name": "stderr",
     "output_type": "stream",
     "text": [
      "/Users/Tiffany/opt/anaconda3/lib/python3.7/site-packages/statsmodels/tsa/base/tsa_model.py:165: ValueWarning: No frequency information was provided, so inferred frequency 2AS-JAN will be used.\n",
      "  % freq, ValueWarning)\n",
      "/Users/Tiffany/opt/anaconda3/lib/python3.7/site-packages/statsmodels/tsa/base/tsa_model.py:165: ValueWarning: No frequency information was provided, so inferred frequency 2AS-JAN will be used.\n",
      "  % freq, ValueWarning)\n",
      "/Users/Tiffany/opt/anaconda3/lib/python3.7/site-packages/statsmodels/tsa/base/tsa_model.py:219: ValueWarning: A date index has been provided, but it has no associated frequency information and so will be ignored when e.g. forecasting.\n",
      "  ' ignored when e.g. forecasting.', ValueWarning)\n",
      "/Users/Tiffany/opt/anaconda3/lib/python3.7/site-packages/statsmodels/tsa/base/tsa_model.py:165: ValueWarning: No frequency information was provided, so inferred frequency 2AS-JAN will be used.\n",
      "  % freq, ValueWarning)\n",
      "/Users/Tiffany/opt/anaconda3/lib/python3.7/site-packages/statsmodels/tsa/statespace/sarimax.py:961: UserWarning: Non-invertible starting MA parameters found. Using zeros as starting parameters.\n",
      "  warn('Non-invertible starting MA parameters found.'\n"
     ]
    },
    {
     "name": "stdout",
     "output_type": "stream",
     "text": [
      "NGC 1560\n",
      "1.5854491005187286e-06\n"
     ]
    },
    {
     "name": "stderr",
     "output_type": "stream",
     "text": [
      "/Users/Tiffany/opt/anaconda3/lib/python3.7/site-packages/statsmodels/tsa/base/tsa_model.py:165: ValueWarning: No frequency information was provided, so inferred frequency 2AS-JAN will be used.\n",
      "  % freq, ValueWarning)\n",
      "/Users/Tiffany/opt/anaconda3/lib/python3.7/site-packages/statsmodels/tsa/base/tsa_model.py:165: ValueWarning: No frequency information was provided, so inferred frequency 2AS-JAN will be used.\n",
      "  % freq, ValueWarning)\n"
     ]
    },
    {
     "name": "stdout",
     "output_type": "stream",
     "text": [
      "NGC 3109\n",
      "9.381047241674801e-07\n"
     ]
    },
    {
     "name": "stderr",
     "output_type": "stream",
     "text": [
      "/Users/Tiffany/opt/anaconda3/lib/python3.7/site-packages/statsmodels/tsa/base/tsa_model.py:165: ValueWarning: No frequency information was provided, so inferred frequency 2AS-JAN will be used.\n",
      "  % freq, ValueWarning)\n",
      "/Users/Tiffany/opt/anaconda3/lib/python3.7/site-packages/statsmodels/tsa/base/tsa_model.py:165: ValueWarning: No frequency information was provided, so inferred frequency 2AS-JAN will be used.\n",
      "  % freq, ValueWarning)\n",
      "/Users/Tiffany/opt/anaconda3/lib/python3.7/site-packages/statsmodels/tsa/base/tsa_model.py:165: ValueWarning: No frequency information was provided, so inferred frequency 2AS-JAN will be used.\n",
      "  % freq, ValueWarning)\n",
      "/Users/Tiffany/opt/anaconda3/lib/python3.7/site-packages/statsmodels/tsa/base/tsa_model.py:165: ValueWarning: No frequency information was provided, so inferred frequency 2AS-JAN will be used.\n",
      "  % freq, ValueWarning)\n",
      "/Users/Tiffany/opt/anaconda3/lib/python3.7/site-packages/statsmodels/tsa/base/tsa_model.py:219: ValueWarning: A date index has been provided, but it has no associated frequency information and so will be ignored when e.g. forecasting.\n",
      "  ' ignored when e.g. forecasting.', ValueWarning)\n",
      "/Users/Tiffany/opt/anaconda3/lib/python3.7/site-packages/statsmodels/tsa/base/tsa_model.py:165: ValueWarning: No frequency information was provided, so inferred frequency 2AS-JAN will be used.\n",
      "  % freq, ValueWarning)\n"
     ]
    },
    {
     "name": "stdout",
     "output_type": "stream",
     "text": [
      "NGC 247\n",
      "2.0131711978208064e-07\n"
     ]
    },
    {
     "name": "stderr",
     "output_type": "stream",
     "text": [
      "/Users/Tiffany/opt/anaconda3/lib/python3.7/site-packages/statsmodels/tsa/base/tsa_model.py:165: ValueWarning: No frequency information was provided, so inferred frequency 2AS-JAN will be used.\n",
      "  % freq, ValueWarning)\n",
      "/Users/Tiffany/opt/anaconda3/lib/python3.7/site-packages/statsmodels/tsa/base/tsa_model.py:165: ValueWarning: No frequency information was provided, so inferred frequency 2AS-JAN will be used.\n",
      "  % freq, ValueWarning)\n"
     ]
    },
    {
     "name": "stdout",
     "output_type": "stream",
     "text": [
      "NGC 2403\n",
      "3.8428775810499436e-06\n"
     ]
    },
    {
     "name": "stderr",
     "output_type": "stream",
     "text": [
      "/Users/Tiffany/opt/anaconda3/lib/python3.7/site-packages/statsmodels/tsa/base/tsa_model.py:219: ValueWarning: A date index has been provided, but it has no associated frequency information and so will be ignored when e.g. forecasting.\n",
      "  ' ignored when e.g. forecasting.', ValueWarning)\n",
      "/Users/Tiffany/opt/anaconda3/lib/python3.7/site-packages/statsmodels/tsa/base/tsa_model.py:165: ValueWarning: No frequency information was provided, so inferred frequency 2AS-JAN will be used.\n",
      "  % freq, ValueWarning)\n",
      "/Users/Tiffany/opt/anaconda3/lib/python3.7/site-packages/statsmodels/tsa/statespace/sarimax.py:949: UserWarning: Non-stationary starting autoregressive parameters found. Using zeros as starting parameters.\n",
      "  warn('Non-stationary starting autoregressive parameters'\n",
      "/Users/Tiffany/opt/anaconda3/lib/python3.7/site-packages/statsmodels/tsa/base/tsa_model.py:165: ValueWarning: No frequency information was provided, so inferred frequency 2AS-JAN will be used.\n",
      "  % freq, ValueWarning)\n",
      "/Users/Tiffany/opt/anaconda3/lib/python3.7/site-packages/statsmodels/tsa/statespace/sarimax.py:949: UserWarning: Non-stationary starting autoregressive parameters found. Using zeros as starting parameters.\n",
      "  warn('Non-stationary starting autoregressive parameters'\n",
      "/Users/Tiffany/opt/anaconda3/lib/python3.7/site-packages/statsmodels/tsa/base/tsa_model.py:165: ValueWarning: No frequency information was provided, so inferred frequency 2AS-JAN will be used.\n",
      "  % freq, ValueWarning)\n",
      "/Users/Tiffany/opt/anaconda3/lib/python3.7/site-packages/statsmodels/tsa/base/tsa_model.py:165: ValueWarning: No frequency information was provided, so inferred frequency 2AS-JAN will be used.\n",
      "  % freq, ValueWarning)\n",
      "/Users/Tiffany/opt/anaconda3/lib/python3.7/site-packages/statsmodels/tsa/base/tsa_model.py:165: ValueWarning: No frequency information was provided, so inferred frequency 2AS-JAN will be used.\n",
      "  % freq, ValueWarning)\n"
     ]
    },
    {
     "name": "stdout",
     "output_type": "stream",
     "text": [
      "Andromeda XXI[57]\n",
      "2.8713707463933898e-06\n"
     ]
    },
    {
     "name": "stderr",
     "output_type": "stream",
     "text": [
      "/Users/Tiffany/opt/anaconda3/lib/python3.7/site-packages/statsmodels/tsa/base/tsa_model.py:165: ValueWarning: No frequency information was provided, so inferred frequency 2AS-JAN will be used.\n",
      "  % freq, ValueWarning)\n",
      "/Users/Tiffany/opt/anaconda3/lib/python3.7/site-packages/statsmodels/tsa/statespace/sarimax.py:949: UserWarning: Non-stationary starting autoregressive parameters found. Using zeros as starting parameters.\n",
      "  warn('Non-stationary starting autoregressive parameters'\n",
      "/Users/Tiffany/opt/anaconda3/lib/python3.7/site-packages/statsmodels/tsa/base/tsa_model.py:165: ValueWarning: No frequency information was provided, so inferred frequency 2AS-JAN will be used.\n",
      "  % freq, ValueWarning)\n"
     ]
    },
    {
     "name": "stdout",
     "output_type": "stream",
     "text": [
      "Donatiello I\n",
      "2.339808300077544e-06\n"
     ]
    },
    {
     "name": "stderr",
     "output_type": "stream",
     "text": [
      "/Users/Tiffany/opt/anaconda3/lib/python3.7/site-packages/statsmodels/tsa/base/tsa_model.py:219: ValueWarning: A date index has been provided, but it has no associated frequency information and so will be ignored when e.g. forecasting.\n",
      "  ' ignored when e.g. forecasting.', ValueWarning)\n",
      "/Users/Tiffany/opt/anaconda3/lib/python3.7/site-packages/statsmodels/tsa/base/tsa_model.py:165: ValueWarning: No frequency information was provided, so inferred frequency 2AS-JAN will be used.\n",
      "  % freq, ValueWarning)\n",
      "/Users/Tiffany/opt/anaconda3/lib/python3.7/site-packages/statsmodels/tsa/base/tsa_model.py:165: ValueWarning: No frequency information was provided, so inferred frequency 2AS-JAN will be used.\n",
      "  % freq, ValueWarning)\n",
      "/Users/Tiffany/opt/anaconda3/lib/python3.7/site-packages/statsmodels/tsa/statespace/sarimax.py:949: UserWarning: Non-stationary starting autoregressive parameters found. Using zeros as starting parameters.\n",
      "  warn('Non-stationary starting autoregressive parameters'\n",
      "/Users/Tiffany/opt/anaconda3/lib/python3.7/site-packages/statsmodels/tsa/base/tsa_model.py:165: ValueWarning: No frequency information was provided, so inferred frequency 2AS-JAN will be used.\n",
      "  % freq, ValueWarning)\n",
      "/Users/Tiffany/opt/anaconda3/lib/python3.7/site-packages/statsmodels/tsa/base/tsa_model.py:219: ValueWarning: A date index has been provided, but it has no associated frequency information and so will be ignored when e.g. forecasting.\n",
      "  ' ignored when e.g. forecasting.', ValueWarning)\n",
      "/Users/Tiffany/opt/anaconda3/lib/python3.7/site-packages/statsmodels/tsa/base/tsa_model.py:165: ValueWarning: No frequency information was provided, so inferred frequency 2AS-JAN will be used.\n",
      "  % freq, ValueWarning)\n"
     ]
    },
    {
     "name": "stdout",
     "output_type": "stream",
     "text": [
      "ESO 540-032\n",
      "1.9618624839085804e-07\n"
     ]
    },
    {
     "name": "stderr",
     "output_type": "stream",
     "text": [
      "/Users/Tiffany/opt/anaconda3/lib/python3.7/site-packages/statsmodels/tsa/base/tsa_model.py:165: ValueWarning: No frequency information was provided, so inferred frequency 2AS-JAN will be used.\n",
      "  % freq, ValueWarning)\n",
      "/Users/Tiffany/opt/anaconda3/lib/python3.7/site-packages/statsmodels/tsa/base/tsa_model.py:165: ValueWarning: No frequency information was provided, so inferred frequency 2AS-JAN will be used.\n",
      "  % freq, ValueWarning)\n"
     ]
    },
    {
     "name": "stdout",
     "output_type": "stream",
     "text": [
      "Draco Dwarf (DDO 208)\n",
      "1.4328442642425655e-07\n"
     ]
    },
    {
     "name": "stderr",
     "output_type": "stream",
     "text": [
      "/Users/Tiffany/opt/anaconda3/lib/python3.7/site-packages/statsmodels/tsa/base/tsa_model.py:219: ValueWarning: A date index has been provided, but it has no associated frequency information and so will be ignored when e.g. forecasting.\n",
      "  ' ignored when e.g. forecasting.', ValueWarning)\n",
      "/Users/Tiffany/opt/anaconda3/lib/python3.7/site-packages/statsmodels/tsa/base/tsa_model.py:165: ValueWarning: No frequency information was provided, so inferred frequency 2AS-JAN will be used.\n",
      "  % freq, ValueWarning)\n",
      "/Users/Tiffany/opt/anaconda3/lib/python3.7/site-packages/statsmodels/tsa/base/tsa_model.py:165: ValueWarning: No frequency information was provided, so inferred frequency 2AS-JAN will be used.\n",
      "  % freq, ValueWarning)\n",
      "/Users/Tiffany/opt/anaconda3/lib/python3.7/site-packages/statsmodels/tsa/base/tsa_model.py:165: ValueWarning: No frequency information was provided, so inferred frequency 2AS-JAN will be used.\n",
      "  % freq, ValueWarning)\n",
      "/Users/Tiffany/opt/anaconda3/lib/python3.7/site-packages/statsmodels/tsa/base/tsa_model.py:219: ValueWarning: A date index has been provided, but it has no associated frequency information and so will be ignored when e.g. forecasting.\n",
      "  ' ignored when e.g. forecasting.', ValueWarning)\n",
      "/Users/Tiffany/opt/anaconda3/lib/python3.7/site-packages/statsmodels/tsa/base/tsa_model.py:165: ValueWarning: No frequency information was provided, so inferred frequency 2AS-JAN will be used.\n",
      "  % freq, ValueWarning)\n"
     ]
    },
    {
     "name": "stdout",
     "output_type": "stream",
     "text": [
      "Cassiopeia II (Andromeda XXX)\n",
      "1.3156302395168788e-06\n"
     ]
    },
    {
     "name": "stderr",
     "output_type": "stream",
     "text": [
      "/Users/Tiffany/opt/anaconda3/lib/python3.7/site-packages/statsmodels/tsa/base/tsa_model.py:165: ValueWarning: No frequency information was provided, so inferred frequency 2AS-JAN will be used.\n",
      "  % freq, ValueWarning)\n",
      "/Users/Tiffany/opt/anaconda3/lib/python3.7/site-packages/statsmodels/tsa/base/tsa_model.py:165: ValueWarning: No frequency information was provided, so inferred frequency 2AS-JAN will be used.\n",
      "  % freq, ValueWarning)\n"
     ]
    },
    {
     "name": "stdout",
     "output_type": "stream",
     "text": [
      "Boötes I\n",
      "6.060090281244889e-06\n"
     ]
    },
    {
     "name": "stderr",
     "output_type": "stream",
     "text": [
      "/Users/Tiffany/opt/anaconda3/lib/python3.7/site-packages/statsmodels/tsa/base/tsa_model.py:219: ValueWarning: A date index has been provided, but it has no associated frequency information and so will be ignored when e.g. forecasting.\n",
      "  ' ignored when e.g. forecasting.', ValueWarning)\n",
      "/Users/Tiffany/opt/anaconda3/lib/python3.7/site-packages/statsmodels/tsa/base/tsa_model.py:165: ValueWarning: No frequency information was provided, so inferred frequency 2AS-JAN will be used.\n",
      "  % freq, ValueWarning)\n",
      "/Users/Tiffany/opt/anaconda3/lib/python3.7/site-packages/statsmodels/tsa/statespace/sarimax.py:961: UserWarning: Non-invertible starting MA parameters found. Using zeros as starting parameters.\n",
      "  warn('Non-invertible starting MA parameters found.'\n",
      "/Users/Tiffany/opt/anaconda3/lib/python3.7/site-packages/statsmodels/tsa/base/tsa_model.py:165: ValueWarning: No frequency information was provided, so inferred frequency 2AS-JAN will be used.\n",
      "  % freq, ValueWarning)\n",
      "/Users/Tiffany/opt/anaconda3/lib/python3.7/site-packages/statsmodels/tsa/base/tsa_model.py:165: ValueWarning: No frequency information was provided, so inferred frequency 2AS-JAN will be used.\n",
      "  % freq, ValueWarning)\n",
      "/Users/Tiffany/opt/anaconda3/lib/python3.7/site-packages/statsmodels/tsa/base/tsa_model.py:219: ValueWarning: A date index has been provided, but it has no associated frequency information and so will be ignored when e.g. forecasting.\n",
      "  ' ignored when e.g. forecasting.', ValueWarning)\n",
      "/Users/Tiffany/opt/anaconda3/lib/python3.7/site-packages/statsmodels/tsa/base/tsa_model.py:165: ValueWarning: No frequency information was provided, so inferred frequency 2AS-JAN will be used.\n",
      "  % freq, ValueWarning)\n",
      "/Users/Tiffany/opt/anaconda3/lib/python3.7/site-packages/statsmodels/tsa/statespace/sarimax.py:949: UserWarning: Non-stationary starting autoregressive parameters found. Using zeros as starting parameters.\n",
      "  warn('Non-stationary starting autoregressive parameters'\n"
     ]
    },
    {
     "name": "stdout",
     "output_type": "stream",
     "text": [
      "Maffei 1\n",
      "2.7276822252116656e-05\n"
     ]
    },
    {
     "name": "stderr",
     "output_type": "stream",
     "text": [
      "/Users/Tiffany/opt/anaconda3/lib/python3.7/site-packages/statsmodels/tsa/base/tsa_model.py:165: ValueWarning: No frequency information was provided, so inferred frequency 2AS-JAN will be used.\n",
      "  % freq, ValueWarning)\n",
      "/Users/Tiffany/opt/anaconda3/lib/python3.7/site-packages/statsmodels/tsa/statespace/sarimax.py:949: UserWarning: Non-stationary starting autoregressive parameters found. Using zeros as starting parameters.\n",
      "  warn('Non-stationary starting autoregressive parameters'\n",
      "/Users/Tiffany/opt/anaconda3/lib/python3.7/site-packages/statsmodels/tsa/base/tsa_model.py:165: ValueWarning: No frequency information was provided, so inferred frequency 2AS-JAN will be used.\n",
      "  % freq, ValueWarning)\n"
     ]
    },
    {
     "name": "stdout",
     "output_type": "stream",
     "text": [
      "Barnard's Galaxy (NGC 6822)\n",
      "1.7733921611703634e-06\n"
     ]
    },
    {
     "name": "stderr",
     "output_type": "stream",
     "text": [
      "/Users/Tiffany/opt/anaconda3/lib/python3.7/site-packages/statsmodels/tsa/base/tsa_model.py:219: ValueWarning: A date index has been provided, but it has no associated frequency information and so will be ignored when e.g. forecasting.\n",
      "  ' ignored when e.g. forecasting.', ValueWarning)\n",
      "/Users/Tiffany/opt/anaconda3/lib/python3.7/site-packages/statsmodels/tsa/base/tsa_model.py:165: ValueWarning: No frequency information was provided, so inferred frequency 2AS-JAN will be used.\n",
      "  % freq, ValueWarning)\n",
      "/Users/Tiffany/opt/anaconda3/lib/python3.7/site-packages/statsmodels/tsa/base/tsa_model.py:165: ValueWarning: No frequency information was provided, so inferred frequency 2AS-JAN will be used.\n",
      "  % freq, ValueWarning)\n",
      "/Users/Tiffany/opt/anaconda3/lib/python3.7/site-packages/statsmodels/tsa/base/tsa_model.py:165: ValueWarning: No frequency information was provided, so inferred frequency 2AS-JAN will be used.\n",
      "  % freq, ValueWarning)\n",
      "/Users/Tiffany/opt/anaconda3/lib/python3.7/site-packages/statsmodels/base/model.py:512: ConvergenceWarning: Maximum Likelihood optimization failed to converge. Check mle_retvals\n",
      "  \"Check mle_retvals\", ConvergenceWarning)\n",
      "/Users/Tiffany/opt/anaconda3/lib/python3.7/site-packages/statsmodels/tsa/base/tsa_model.py:165: ValueWarning: No frequency information was provided, so inferred frequency 2AS-JAN will be used.\n",
      "  % freq, ValueWarning)\n",
      "/Users/Tiffany/opt/anaconda3/lib/python3.7/site-packages/statsmodels/tsa/base/tsa_model.py:165: ValueWarning: No frequency information was provided, so inferred frequency 2AS-JAN will be used.\n",
      "  % freq, ValueWarning)\n"
     ]
    },
    {
     "name": "stdout",
     "output_type": "stream",
     "text": [
      "KKR 03 (KK98 230)\n",
      "1.8653217979316345e-06\n"
     ]
    },
    {
     "name": "stderr",
     "output_type": "stream",
     "text": [
      "/Users/Tiffany/opt/anaconda3/lib/python3.7/site-packages/statsmodels/tsa/base/tsa_model.py:165: ValueWarning: No frequency information was provided, so inferred frequency 2AS-JAN will be used.\n",
      "  % freq, ValueWarning)\n",
      "/Users/Tiffany/opt/anaconda3/lib/python3.7/site-packages/statsmodels/tsa/base/tsa_model.py:165: ValueWarning: No frequency information was provided, so inferred frequency 2AS-JAN will be used.\n",
      "  % freq, ValueWarning)\n",
      "/Users/Tiffany/opt/anaconda3/lib/python3.7/site-packages/statsmodels/base/model.py:512: ConvergenceWarning: Maximum Likelihood optimization failed to converge. Check mle_retvals\n",
      "  \"Check mle_retvals\", ConvergenceWarning)\n",
      "/Users/Tiffany/opt/anaconda3/lib/python3.7/site-packages/statsmodels/tsa/base/tsa_model.py:165: ValueWarning: No frequency information was provided, so inferred frequency 2AS-JAN will be used.\n",
      "  % freq, ValueWarning)\n",
      "/Users/Tiffany/opt/anaconda3/lib/python3.7/site-packages/statsmodels/tsa/base/tsa_model.py:165: ValueWarning: No frequency information was provided, so inferred frequency 2AS-JAN will be used.\n",
      "  % freq, ValueWarning)\n",
      "/Users/Tiffany/opt/anaconda3/lib/python3.7/site-packages/statsmodels/base/model.py:512: ConvergenceWarning: Maximum Likelihood optimization failed to converge. Check mle_retvals\n",
      "  \"Check mle_retvals\", ConvergenceWarning)\n",
      "/Users/Tiffany/opt/anaconda3/lib/python3.7/site-packages/statsmodels/tsa/base/tsa_model.py:165: ValueWarning: No frequency information was provided, so inferred frequency 2AS-JAN will be used.\n",
      "  % freq, ValueWarning)\n",
      "/Users/Tiffany/opt/anaconda3/lib/python3.7/site-packages/statsmodels/tsa/base/tsa_model.py:165: ValueWarning: No frequency information was provided, so inferred frequency 2AS-JAN will be used.\n",
      "  % freq, ValueWarning)\n"
     ]
    },
    {
     "name": "stdout",
     "output_type": "stream",
     "text": [
      "M32 (NGC 221)\n",
      "5.022182849882439e-07\n"
     ]
    },
    {
     "name": "stderr",
     "output_type": "stream",
     "text": [
      "/Users/Tiffany/opt/anaconda3/lib/python3.7/site-packages/statsmodels/base/model.py:512: ConvergenceWarning: Maximum Likelihood optimization failed to converge. Check mle_retvals\n",
      "  \"Check mle_retvals\", ConvergenceWarning)\n",
      "/Users/Tiffany/opt/anaconda3/lib/python3.7/site-packages/statsmodels/tsa/base/tsa_model.py:219: ValueWarning: A date index has been provided, but it has no associated frequency information and so will be ignored when e.g. forecasting.\n",
      "  ' ignored when e.g. forecasting.', ValueWarning)\n",
      "/Users/Tiffany/opt/anaconda3/lib/python3.7/site-packages/statsmodels/tsa/base/tsa_model.py:165: ValueWarning: No frequency information was provided, so inferred frequency 2AS-JAN will be used.\n",
      "  % freq, ValueWarning)\n",
      "/Users/Tiffany/opt/anaconda3/lib/python3.7/site-packages/statsmodels/tsa/base/tsa_model.py:165: ValueWarning: No frequency information was provided, so inferred frequency 2AS-JAN will be used.\n",
      "  % freq, ValueWarning)\n"
     ]
    },
    {
     "name": "stdout",
     "output_type": "stream",
     "text": [
      "Boötes III\n",
      "8.169272643338331e-07\n"
     ]
    },
    {
     "name": "stderr",
     "output_type": "stream",
     "text": [
      "/Users/Tiffany/opt/anaconda3/lib/python3.7/site-packages/statsmodels/tsa/base/tsa_model.py:165: ValueWarning: No frequency information was provided, so inferred frequency 2AS-JAN will be used.\n",
      "  % freq, ValueWarning)\n",
      "/Users/Tiffany/opt/anaconda3/lib/python3.7/site-packages/statsmodels/tsa/base/tsa_model.py:165: ValueWarning: No frequency information was provided, so inferred frequency 2AS-JAN will be used.\n",
      "  % freq, ValueWarning)\n",
      "/Users/Tiffany/opt/anaconda3/lib/python3.7/site-packages/statsmodels/tsa/base/tsa_model.py:165: ValueWarning: No frequency information was provided, so inferred frequency 2AS-JAN will be used.\n",
      "  % freq, ValueWarning)\n",
      "/Users/Tiffany/opt/anaconda3/lib/python3.7/site-packages/statsmodels/tsa/statespace/sarimax.py:949: UserWarning: Non-stationary starting autoregressive parameters found. Using zeros as starting parameters.\n",
      "  warn('Non-stationary starting autoregressive parameters'\n"
     ]
    },
    {
     "name": "stdout",
     "output_type": "stream",
     "text": [
      "Pegasus Dwarf Sph (And VI)\n",
      "1.80119974182795e-05\n"
     ]
    },
    {
     "name": "stderr",
     "output_type": "stream",
     "text": [
      "/Users/Tiffany/opt/anaconda3/lib/python3.7/site-packages/statsmodels/tsa/base/tsa_model.py:165: ValueWarning: No frequency information was provided, so inferred frequency 2AS-JAN will be used.\n",
      "  % freq, ValueWarning)\n",
      "/Users/Tiffany/opt/anaconda3/lib/python3.7/site-packages/statsmodels/tsa/statespace/sarimax.py:949: UserWarning: Non-stationary starting autoregressive parameters found. Using zeros as starting parameters.\n",
      "  warn('Non-stationary starting autoregressive parameters'\n",
      "/Users/Tiffany/opt/anaconda3/lib/python3.7/site-packages/statsmodels/tsa/base/tsa_model.py:165: ValueWarning: No frequency information was provided, so inferred frequency 2AS-JAN will be used.\n",
      "  % freq, ValueWarning)\n"
     ]
    },
    {
     "name": "stdout",
     "output_type": "stream",
     "text": [
      "Sextans Dwarf Sph\n",
      "4.883865354646583e-06\n"
     ]
    },
    {
     "name": "stderr",
     "output_type": "stream",
     "text": [
      "/Users/Tiffany/opt/anaconda3/lib/python3.7/site-packages/statsmodels/tsa/base/tsa_model.py:219: ValueWarning: A date index has been provided, but it has no associated frequency information and so will be ignored when e.g. forecasting.\n",
      "  ' ignored when e.g. forecasting.', ValueWarning)\n",
      "/Users/Tiffany/opt/anaconda3/lib/python3.7/site-packages/statsmodels/tsa/base/tsa_model.py:165: ValueWarning: No frequency information was provided, so inferred frequency 2AS-JAN will be used.\n",
      "  % freq, ValueWarning)\n",
      "/Users/Tiffany/opt/anaconda3/lib/python3.7/site-packages/statsmodels/tsa/statespace/sarimax.py:961: UserWarning: Non-invertible starting MA parameters found. Using zeros as starting parameters.\n",
      "  warn('Non-invertible starting MA parameters found.'\n",
      "/Users/Tiffany/opt/anaconda3/lib/python3.7/site-packages/statsmodels/tsa/base/tsa_model.py:165: ValueWarning: No frequency information was provided, so inferred frequency 2AS-JAN will be used.\n",
      "  % freq, ValueWarning)\n",
      "/Users/Tiffany/opt/anaconda3/lib/python3.7/site-packages/statsmodels/tsa/base/tsa_model.py:165: ValueWarning: No frequency information was provided, so inferred frequency 2AS-JAN will be used.\n",
      "  % freq, ValueWarning)\n",
      "/Users/Tiffany/opt/anaconda3/lib/python3.7/site-packages/statsmodels/tsa/base/tsa_model.py:165: ValueWarning: No frequency information was provided, so inferred frequency 2AS-JAN will be used.\n",
      "  % freq, ValueWarning)\n",
      "/Users/Tiffany/opt/anaconda3/lib/python3.7/site-packages/statsmodels/tsa/base/tsa_model.py:165: ValueWarning: No frequency information was provided, so inferred frequency 2AS-JAN will be used.\n",
      "  % freq, ValueWarning)\n",
      "/Users/Tiffany/opt/anaconda3/lib/python3.7/site-packages/statsmodels/tsa/statespace/sarimax.py:949: UserWarning: Non-stationary starting autoregressive parameters found. Using zeros as starting parameters.\n",
      "  warn('Non-stationary starting autoregressive parameters'\n"
     ]
    },
    {
     "name": "stdout",
     "output_type": "stream",
     "text": [
      "Cassiopeia III (Andromeda XXXII)\n",
      "2.939033559153789e-06\n"
     ]
    },
    {
     "name": "stderr",
     "output_type": "stream",
     "text": [
      "/Users/Tiffany/opt/anaconda3/lib/python3.7/site-packages/statsmodels/tsa/base/tsa_model.py:165: ValueWarning: No frequency information was provided, so inferred frequency 2AS-JAN will be used.\n",
      "  % freq, ValueWarning)\n",
      "/Users/Tiffany/opt/anaconda3/lib/python3.7/site-packages/statsmodels/base/model.py:512: ConvergenceWarning: Maximum Likelihood optimization failed to converge. Check mle_retvals\n",
      "  \"Check mle_retvals\", ConvergenceWarning)\n",
      "/Users/Tiffany/opt/anaconda3/lib/python3.7/site-packages/statsmodels/tsa/base/tsa_model.py:165: ValueWarning: No frequency information was provided, so inferred frequency 2AS-JAN will be used.\n",
      "  % freq, ValueWarning)\n",
      "/Users/Tiffany/opt/anaconda3/lib/python3.7/site-packages/statsmodels/tsa/base/tsa_model.py:219: ValueWarning: A date index has been provided, but it has no associated frequency information and so will be ignored when e.g. forecasting.\n",
      "  ' ignored when e.g. forecasting.', ValueWarning)\n",
      "/Users/Tiffany/opt/anaconda3/lib/python3.7/site-packages/statsmodels/tsa/base/tsa_model.py:165: ValueWarning: No frequency information was provided, so inferred frequency 2AS-JAN will be used.\n",
      "  % freq, ValueWarning)\n"
     ]
    },
    {
     "name": "stdout",
     "output_type": "stream",
     "text": [
      "Sextans A (92205, DDO 75)\n",
      "3.88946837120513e-06\n"
     ]
    },
    {
     "name": "stderr",
     "output_type": "stream",
     "text": [
      "/Users/Tiffany/opt/anaconda3/lib/python3.7/site-packages/statsmodels/tsa/base/tsa_model.py:165: ValueWarning: No frequency information was provided, so inferred frequency 2AS-JAN will be used.\n",
      "  % freq, ValueWarning)\n",
      "/Users/Tiffany/opt/anaconda3/lib/python3.7/site-packages/statsmodels/tsa/base/tsa_model.py:165: ValueWarning: No frequency information was provided, so inferred frequency 2AS-JAN will be used.\n",
      "  % freq, ValueWarning)\n",
      "/Users/Tiffany/opt/anaconda3/lib/python3.7/site-packages/statsmodels/base/model.py:512: ConvergenceWarning: Maximum Likelihood optimization failed to converge. Check mle_retvals\n",
      "  \"Check mle_retvals\", ConvergenceWarning)\n",
      "/Users/Tiffany/opt/anaconda3/lib/python3.7/site-packages/statsmodels/tsa/base/tsa_model.py:165: ValueWarning: No frequency information was provided, so inferred frequency 2AS-JAN will be used.\n",
      "  % freq, ValueWarning)\n",
      "/Users/Tiffany/opt/anaconda3/lib/python3.7/site-packages/statsmodels/tsa/base/tsa_model.py:165: ValueWarning: No frequency information was provided, so inferred frequency 2AS-JAN will be used.\n",
      "  % freq, ValueWarning)\n",
      "/Users/Tiffany/opt/anaconda3/lib/python3.7/site-packages/statsmodels/tsa/statespace/sarimax.py:961: UserWarning: Non-invertible starting MA parameters found. Using zeros as starting parameters.\n",
      "  warn('Non-invertible starting MA parameters found.'\n",
      "/Users/Tiffany/opt/anaconda3/lib/python3.7/site-packages/statsmodels/base/model.py:512: ConvergenceWarning: Maximum Likelihood optimization failed to converge. Check mle_retvals\n",
      "  \"Check mle_retvals\", ConvergenceWarning)\n",
      "/Users/Tiffany/opt/anaconda3/lib/python3.7/site-packages/statsmodels/tsa/base/tsa_model.py:165: ValueWarning: No frequency information was provided, so inferred frequency 2AS-JAN will be used.\n",
      "  % freq, ValueWarning)\n"
     ]
    },
    {
     "name": "stdout",
     "output_type": "stream",
     "text": [
      "NGC 147 (DDO 3)\n",
      "3.164123768003857e-06\n"
     ]
    },
    {
     "name": "stderr",
     "output_type": "stream",
     "text": [
      "/Users/Tiffany/opt/anaconda3/lib/python3.7/site-packages/statsmodels/tsa/base/tsa_model.py:165: ValueWarning: No frequency information was provided, so inferred frequency 2AS-JAN will be used.\n",
      "  % freq, ValueWarning)\n",
      "/Users/Tiffany/opt/anaconda3/lib/python3.7/site-packages/statsmodels/tsa/base/tsa_model.py:165: ValueWarning: No frequency information was provided, so inferred frequency 2AS-JAN will be used.\n",
      "  % freq, ValueWarning)\n",
      "/Users/Tiffany/opt/anaconda3/lib/python3.7/site-packages/statsmodels/tsa/base/tsa_model.py:165: ValueWarning: No frequency information was provided, so inferred frequency 2AS-JAN will be used.\n",
      "  % freq, ValueWarning)\n",
      "/Users/Tiffany/opt/anaconda3/lib/python3.7/site-packages/statsmodels/tsa/base/tsa_model.py:165: ValueWarning: No frequency information was provided, so inferred frequency 2AS-JAN will be used.\n",
      "  % freq, ValueWarning)\n"
     ]
    },
    {
     "name": "stdout",
     "output_type": "stream",
     "text": [
      "Andromeda XXIV\n",
      "8.686569634544896e-06\n"
     ]
    },
    {
     "name": "stderr",
     "output_type": "stream",
     "text": [
      "/Users/Tiffany/opt/anaconda3/lib/python3.7/site-packages/statsmodels/tsa/base/tsa_model.py:165: ValueWarning: No frequency information was provided, so inferred frequency 2AS-JAN will be used.\n",
      "  % freq, ValueWarning)\n",
      "/Users/Tiffany/opt/anaconda3/lib/python3.7/site-packages/statsmodels/base/model.py:512: ConvergenceWarning: Maximum Likelihood optimization failed to converge. Check mle_retvals\n",
      "  \"Check mle_retvals\", ConvergenceWarning)\n",
      "/Users/Tiffany/opt/anaconda3/lib/python3.7/site-packages/statsmodels/tsa/base/tsa_model.py:165: ValueWarning: No frequency information was provided, so inferred frequency 2AS-JAN will be used.\n",
      "  % freq, ValueWarning)\n",
      "/Users/Tiffany/opt/anaconda3/lib/python3.7/site-packages/statsmodels/tsa/base/tsa_model.py:165: ValueWarning: No frequency information was provided, so inferred frequency 2AS-JAN will be used.\n",
      "  % freq, ValueWarning)\n",
      "/Users/Tiffany/opt/anaconda3/lib/python3.7/site-packages/statsmodels/tsa/base/tsa_model.py:165: ValueWarning: No frequency information was provided, so inferred frequency 2AS-JAN will be used.\n",
      "  % freq, ValueWarning)\n"
     ]
    },
    {
     "name": "stdout",
     "output_type": "stream",
     "text": [
      "Aquarius Dwarf Galaxy (DDO 210)\n",
      "5.363035581999621e-07\n"
     ]
    },
    {
     "name": "stderr",
     "output_type": "stream",
     "text": [
      "/Users/Tiffany/opt/anaconda3/lib/python3.7/site-packages/statsmodels/tsa/base/tsa_model.py:165: ValueWarning: No frequency information was provided, so inferred frequency 2AS-JAN will be used.\n",
      "  % freq, ValueWarning)\n",
      "/Users/Tiffany/opt/anaconda3/lib/python3.7/site-packages/statsmodels/tsa/base/tsa_model.py:219: ValueWarning: A date index has been provided, but it has no associated frequency information and so will be ignored when e.g. forecasting.\n",
      "  ' ignored when e.g. forecasting.', ValueWarning)\n",
      "/Users/Tiffany/opt/anaconda3/lib/python3.7/site-packages/statsmodels/tsa/base/tsa_model.py:165: ValueWarning: No frequency information was provided, so inferred frequency 2AS-JAN will be used.\n",
      "  % freq, ValueWarning)\n"
     ]
    },
    {
     "name": "stdout",
     "output_type": "stream",
     "text": [
      "Andromeda Galaxy (M31)\n",
      "1.6174927301587588e-06\n"
     ]
    },
    {
     "name": "stderr",
     "output_type": "stream",
     "text": [
      "/Users/Tiffany/opt/anaconda3/lib/python3.7/site-packages/statsmodels/tsa/base/tsa_model.py:165: ValueWarning: No frequency information was provided, so inferred frequency 2AS-JAN will be used.\n",
      "  % freq, ValueWarning)\n",
      "/Users/Tiffany/opt/anaconda3/lib/python3.7/site-packages/statsmodels/tsa/base/tsa_model.py:165: ValueWarning: No frequency information was provided, so inferred frequency 2AS-JAN will be used.\n",
      "  % freq, ValueWarning)\n"
     ]
    },
    {
     "name": "stdout",
     "output_type": "stream",
     "text": [
      "NGC 300\n",
      "1.9260649502274938e-06\n"
     ]
    },
    {
     "name": "stderr",
     "output_type": "stream",
     "text": [
      "/Users/Tiffany/opt/anaconda3/lib/python3.7/site-packages/statsmodels/tsa/base/tsa_model.py:165: ValueWarning: No frequency information was provided, so inferred frequency 2AS-JAN will be used.\n",
      "  % freq, ValueWarning)\n",
      "/Users/Tiffany/opt/anaconda3/lib/python3.7/site-packages/statsmodels/tsa/base/tsa_model.py:165: ValueWarning: No frequency information was provided, so inferred frequency 2AS-JAN will be used.\n",
      "  % freq, ValueWarning)\n",
      "/Users/Tiffany/opt/anaconda3/lib/python3.7/site-packages/statsmodels/base/model.py:512: ConvergenceWarning: Maximum Likelihood optimization failed to converge. Check mle_retvals\n",
      "  \"Check mle_retvals\", ConvergenceWarning)\n",
      "/Users/Tiffany/opt/anaconda3/lib/python3.7/site-packages/statsmodels/tsa/base/tsa_model.py:165: ValueWarning: No frequency information was provided, so inferred frequency 2AS-JAN will be used.\n",
      "  % freq, ValueWarning)\n",
      "/Users/Tiffany/opt/anaconda3/lib/python3.7/site-packages/statsmodels/tsa/base/tsa_model.py:165: ValueWarning: No frequency information was provided, so inferred frequency 2AS-JAN will be used.\n",
      "  % freq, ValueWarning)\n",
      "/Users/Tiffany/opt/anaconda3/lib/python3.7/site-packages/statsmodels/tsa/base/tsa_model.py:219: ValueWarning: A date index has been provided, but it has no associated frequency information and so will be ignored when e.g. forecasting.\n",
      "  ' ignored when e.g. forecasting.', ValueWarning)\n",
      "/Users/Tiffany/opt/anaconda3/lib/python3.7/site-packages/statsmodels/tsa/base/tsa_model.py:165: ValueWarning: No frequency information was provided, so inferred frequency 2AS-JAN will be used.\n",
      "  % freq, ValueWarning)\n"
     ]
    },
    {
     "name": "stdout",
     "output_type": "stream",
     "text": [
      "KKs 3\n",
      "1.4314860649686656e-06\n"
     ]
    },
    {
     "name": "stderr",
     "output_type": "stream",
     "text": [
      "/Users/Tiffany/opt/anaconda3/lib/python3.7/site-packages/statsmodels/base/model.py:512: ConvergenceWarning: Maximum Likelihood optimization failed to converge. Check mle_retvals\n",
      "  \"Check mle_retvals\", ConvergenceWarning)\n",
      "/Users/Tiffany/opt/anaconda3/lib/python3.7/site-packages/statsmodels/tsa/base/tsa_model.py:165: ValueWarning: No frequency information was provided, so inferred frequency 2AS-JAN will be used.\n",
      "  % freq, ValueWarning)\n",
      "/Users/Tiffany/opt/anaconda3/lib/python3.7/site-packages/statsmodels/tsa/base/tsa_model.py:165: ValueWarning: No frequency information was provided, so inferred frequency 2AS-JAN will be used.\n",
      "  % freq, ValueWarning)\n"
     ]
    },
    {
     "name": "stdout",
     "output_type": "stream",
     "text": [
      "Antlia B\n",
      "1.086448411460821e-06\n"
     ]
    },
    {
     "name": "stderr",
     "output_type": "stream",
     "text": [
      "/Users/Tiffany/opt/anaconda3/lib/python3.7/site-packages/statsmodels/tsa/base/tsa_model.py:219: ValueWarning: A date index has been provided, but it has no associated frequency information and so will be ignored when e.g. forecasting.\n",
      "  ' ignored when e.g. forecasting.', ValueWarning)\n",
      "/Users/Tiffany/opt/anaconda3/lib/python3.7/site-packages/statsmodels/tsa/base/tsa_model.py:165: ValueWarning: No frequency information was provided, so inferred frequency 2AS-JAN will be used.\n",
      "  % freq, ValueWarning)\n",
      "/Users/Tiffany/opt/anaconda3/lib/python3.7/site-packages/statsmodels/tsa/base/tsa_model.py:165: ValueWarning: No frequency information was provided, so inferred frequency 2AS-JAN will be used.\n",
      "  % freq, ValueWarning)\n",
      "/Users/Tiffany/opt/anaconda3/lib/python3.7/site-packages/statsmodels/tsa/base/tsa_model.py:165: ValueWarning: No frequency information was provided, so inferred frequency 2AS-JAN will be used.\n",
      "  % freq, ValueWarning)\n",
      "/Users/Tiffany/opt/anaconda3/lib/python3.7/site-packages/statsmodels/tsa/base/tsa_model.py:165: ValueWarning: No frequency information was provided, so inferred frequency 2AS-JAN will be used.\n",
      "  % freq, ValueWarning)\n",
      "/Users/Tiffany/opt/anaconda3/lib/python3.7/site-packages/statsmodels/tsa/base/tsa_model.py:165: ValueWarning: No frequency information was provided, so inferred frequency 2AS-JAN will be used.\n",
      "  % freq, ValueWarning)\n"
     ]
    },
    {
     "name": "stdout",
     "output_type": "stream",
     "text": [
      "Pisces II\n",
      "3.544570343397162e-06\n"
     ]
    },
    {
     "name": "stderr",
     "output_type": "stream",
     "text": [
      "/Users/Tiffany/opt/anaconda3/lib/python3.7/site-packages/statsmodels/tsa/base/tsa_model.py:165: ValueWarning: No frequency information was provided, so inferred frequency 2AS-JAN will be used.\n",
      "  % freq, ValueWarning)\n",
      "/Users/Tiffany/opt/anaconda3/lib/python3.7/site-packages/statsmodels/tsa/base/tsa_model.py:165: ValueWarning: No frequency information was provided, so inferred frequency 2AS-JAN will be used.\n",
      "  % freq, ValueWarning)\n",
      "/Users/Tiffany/opt/anaconda3/lib/python3.7/site-packages/statsmodels/tsa/base/tsa_model.py:165: ValueWarning: No frequency information was provided, so inferred frequency 2AS-JAN will be used.\n",
      "  % freq, ValueWarning)\n",
      "/Users/Tiffany/opt/anaconda3/lib/python3.7/site-packages/statsmodels/tsa/base/tsa_model.py:165: ValueWarning: No frequency information was provided, so inferred frequency 2AS-JAN will be used.\n",
      "  % freq, ValueWarning)\n"
     ]
    },
    {
     "name": "stdout",
     "output_type": "stream",
     "text": [
      "GR 8 (DDO 155)\n",
      "1.4653485444380364e-06\n"
     ]
    },
    {
     "name": "stderr",
     "output_type": "stream",
     "text": [
      "/Users/Tiffany/opt/anaconda3/lib/python3.7/site-packages/statsmodels/base/model.py:512: ConvergenceWarning: Maximum Likelihood optimization failed to converge. Check mle_retvals\n",
      "  \"Check mle_retvals\", ConvergenceWarning)\n",
      "/Users/Tiffany/opt/anaconda3/lib/python3.7/site-packages/statsmodels/tsa/base/tsa_model.py:165: ValueWarning: No frequency information was provided, so inferred frequency 2AS-JAN will be used.\n",
      "  % freq, ValueWarning)\n",
      "/Users/Tiffany/opt/anaconda3/lib/python3.7/site-packages/statsmodels/base/model.py:512: ConvergenceWarning: Maximum Likelihood optimization failed to converge. Check mle_retvals\n",
      "  \"Check mle_retvals\", ConvergenceWarning)\n",
      "/Users/Tiffany/opt/anaconda3/lib/python3.7/site-packages/statsmodels/tsa/base/tsa_model.py:165: ValueWarning: No frequency information was provided, so inferred frequency 2AS-JAN will be used.\n",
      "  % freq, ValueWarning)\n",
      "/Users/Tiffany/opt/anaconda3/lib/python3.7/site-packages/statsmodels/tsa/base/tsa_model.py:219: ValueWarning: A date index has been provided, but it has no associated frequency information and so will be ignored when e.g. forecasting.\n",
      "  ' ignored when e.g. forecasting.', ValueWarning)\n",
      "/Users/Tiffany/opt/anaconda3/lib/python3.7/site-packages/statsmodels/tsa/base/tsa_model.py:165: ValueWarning: No frequency information was provided, so inferred frequency 2AS-JAN will be used.\n",
      "  % freq, ValueWarning)\n"
     ]
    },
    {
     "name": "stdout",
     "output_type": "stream",
     "text": [
      "NGC 1569 (UGC 3056)\n",
      "3.6606616804851376e-06\n"
     ]
    },
    {
     "name": "stderr",
     "output_type": "stream",
     "text": [
      "/Users/Tiffany/opt/anaconda3/lib/python3.7/site-packages/statsmodels/base/model.py:512: ConvergenceWarning: Maximum Likelihood optimization failed to converge. Check mle_retvals\n",
      "  \"Check mle_retvals\", ConvergenceWarning)\n",
      "/Users/Tiffany/opt/anaconda3/lib/python3.7/site-packages/statsmodels/tsa/base/tsa_model.py:165: ValueWarning: No frequency information was provided, so inferred frequency 2AS-JAN will be used.\n",
      "  % freq, ValueWarning)\n",
      "/Users/Tiffany/opt/anaconda3/lib/python3.7/site-packages/statsmodels/tsa/base/tsa_model.py:165: ValueWarning: No frequency information was provided, so inferred frequency 2AS-JAN will be used.\n",
      "  % freq, ValueWarning)\n"
     ]
    },
    {
     "name": "stdout",
     "output_type": "stream",
     "text": [
      "KKR 25\n",
      "2.378015651946277e-06\n"
     ]
    },
    {
     "name": "stderr",
     "output_type": "stream",
     "text": [
      "/Users/Tiffany/opt/anaconda3/lib/python3.7/site-packages/statsmodels/tsa/base/tsa_model.py:219: ValueWarning: A date index has been provided, but it has no associated frequency information and so will be ignored when e.g. forecasting.\n",
      "  ' ignored when e.g. forecasting.', ValueWarning)\n",
      "/Users/Tiffany/opt/anaconda3/lib/python3.7/site-packages/statsmodels/tsa/base/tsa_model.py:165: ValueWarning: No frequency information was provided, so inferred frequency 2AS-JAN will be used.\n",
      "  % freq, ValueWarning)\n",
      "/Users/Tiffany/opt/anaconda3/lib/python3.7/site-packages/statsmodels/tsa/base/tsa_model.py:165: ValueWarning: No frequency information was provided, so inferred frequency 2AS-JAN will be used.\n",
      "  % freq, ValueWarning)\n",
      "/Users/Tiffany/opt/anaconda3/lib/python3.7/site-packages/statsmodels/tsa/base/tsa_model.py:165: ValueWarning: No frequency information was provided, so inferred frequency 2AS-JAN will be used.\n",
      "  % freq, ValueWarning)\n"
     ]
    },
    {
     "name": "stdout",
     "output_type": "stream",
     "text": [
      "UGCA 86\n",
      "2.6471819642978596e-06\n"
     ]
    },
    {
     "name": "stderr",
     "output_type": "stream",
     "text": [
      "/Users/Tiffany/opt/anaconda3/lib/python3.7/site-packages/statsmodels/tsa/base/tsa_model.py:219: ValueWarning: A date index has been provided, but it has no associated frequency information and so will be ignored when e.g. forecasting.\n",
      "  ' ignored when e.g. forecasting.', ValueWarning)\n",
      "/Users/Tiffany/opt/anaconda3/lib/python3.7/site-packages/statsmodels/tsa/base/tsa_model.py:165: ValueWarning: No frequency information was provided, so inferred frequency 2AS-JAN will be used.\n",
      "  % freq, ValueWarning)\n",
      "/Users/Tiffany/opt/anaconda3/lib/python3.7/site-packages/statsmodels/tsa/base/tsa_model.py:165: ValueWarning: No frequency information was provided, so inferred frequency 2AS-JAN will be used.\n",
      "  % freq, ValueWarning)\n",
      "/Users/Tiffany/opt/anaconda3/lib/python3.7/site-packages/statsmodels/tsa/statespace/sarimax.py:961: UserWarning: Non-invertible starting MA parameters found. Using zeros as starting parameters.\n",
      "  warn('Non-invertible starting MA parameters found.'\n",
      "/Users/Tiffany/opt/anaconda3/lib/python3.7/site-packages/statsmodels/tsa/base/tsa_model.py:165: ValueWarning: No frequency information was provided, so inferred frequency 2AS-JAN will be used.\n",
      "  % freq, ValueWarning)\n",
      "/Users/Tiffany/opt/anaconda3/lib/python3.7/site-packages/statsmodels/tsa/base/tsa_model.py:165: ValueWarning: No frequency information was provided, so inferred frequency 2AS-JAN will be used.\n",
      "  % freq, ValueWarning)\n",
      "/Users/Tiffany/opt/anaconda3/lib/python3.7/site-packages/statsmodels/tsa/base/tsa_model.py:165: ValueWarning: No frequency information was provided, so inferred frequency 2AS-JAN will be used.\n",
      "  % freq, ValueWarning)\n"
     ]
    },
    {
     "name": "stdout",
     "output_type": "stream",
     "text": [
      "Andromeda XXVIII\n",
      "1.2303529000092883e-05\n"
     ]
    },
    {
     "name": "stderr",
     "output_type": "stream",
     "text": [
      "/Users/Tiffany/opt/anaconda3/lib/python3.7/site-packages/statsmodels/base/model.py:512: ConvergenceWarning: Maximum Likelihood optimization failed to converge. Check mle_retvals\n",
      "  \"Check mle_retvals\", ConvergenceWarning)\n",
      "/Users/Tiffany/opt/anaconda3/lib/python3.7/site-packages/statsmodels/tsa/base/tsa_model.py:165: ValueWarning: No frequency information was provided, so inferred frequency 2AS-JAN will be used.\n",
      "  % freq, ValueWarning)\n",
      "/Users/Tiffany/opt/anaconda3/lib/python3.7/site-packages/statsmodels/tsa/statespace/sarimax.py:949: UserWarning: Non-stationary starting autoregressive parameters found. Using zeros as starting parameters.\n",
      "  warn('Non-stationary starting autoregressive parameters'\n",
      "/Users/Tiffany/opt/anaconda3/lib/python3.7/site-packages/statsmodels/tsa/base/tsa_model.py:165: ValueWarning: No frequency information was provided, so inferred frequency 2AS-JAN will be used.\n",
      "  % freq, ValueWarning)\n"
     ]
    },
    {
     "name": "stdout",
     "output_type": "stream",
     "text": [
      "Leo V Dwarf\n",
      "1.7784932952445233e-06\n"
     ]
    },
    {
     "name": "stderr",
     "output_type": "stream",
     "text": [
      "/Users/Tiffany/opt/anaconda3/lib/python3.7/site-packages/statsmodels/tsa/base/tsa_model.py:219: ValueWarning: A date index has been provided, but it has no associated frequency information and so will be ignored when e.g. forecasting.\n",
      "  ' ignored when e.g. forecasting.', ValueWarning)\n",
      "/Users/Tiffany/opt/anaconda3/lib/python3.7/site-packages/statsmodels/tsa/base/tsa_model.py:165: ValueWarning: No frequency information was provided, so inferred frequency 2AS-JAN will be used.\n",
      "  % freq, ValueWarning)\n",
      "/Users/Tiffany/opt/anaconda3/lib/python3.7/site-packages/statsmodels/tsa/base/tsa_model.py:165: ValueWarning: No frequency information was provided, so inferred frequency 2AS-JAN will be used.\n",
      "  % freq, ValueWarning)\n",
      "/Users/Tiffany/opt/anaconda3/lib/python3.7/site-packages/statsmodels/tsa/base/tsa_model.py:165: ValueWarning: No frequency information was provided, so inferred frequency 2AS-JAN will be used.\n",
      "  % freq, ValueWarning)\n",
      "/Users/Tiffany/opt/anaconda3/lib/python3.7/site-packages/statsmodels/tsa/base/tsa_model.py:165: ValueWarning: No frequency information was provided, so inferred frequency 2AS-JAN will be used.\n",
      "  % freq, ValueWarning)\n",
      "/Users/Tiffany/opt/anaconda3/lib/python3.7/site-packages/statsmodels/tsa/base/tsa_model.py:165: ValueWarning: No frequency information was provided, so inferred frequency 2AS-JAN will be used.\n",
      "  % freq, ValueWarning)\n"
     ]
    },
    {
     "name": "stdout",
     "output_type": "stream",
     "text": [
      "Andromeda XXV\n",
      "2.2954641560809474e-06\n"
     ]
    },
    {
     "name": "stderr",
     "output_type": "stream",
     "text": [
      "/Users/Tiffany/opt/anaconda3/lib/python3.7/site-packages/statsmodels/tsa/base/tsa_model.py:165: ValueWarning: No frequency information was provided, so inferred frequency 2AS-JAN will be used.\n",
      "  % freq, ValueWarning)\n",
      "/Users/Tiffany/opt/anaconda3/lib/python3.7/site-packages/statsmodels/tsa/base/tsa_model.py:165: ValueWarning: No frequency information was provided, so inferred frequency 2AS-JAN will be used.\n",
      "  % freq, ValueWarning)\n"
     ]
    },
    {
     "name": "stdout",
     "output_type": "stream",
     "text": [
      "Segue 1\n",
      "1.5461015508555047e-07\n"
     ]
    },
    {
     "name": "stderr",
     "output_type": "stream",
     "text": [
      "/Users/Tiffany/opt/anaconda3/lib/python3.7/site-packages/statsmodels/tsa/base/tsa_model.py:219: ValueWarning: A date index has been provided, but it has no associated frequency information and so will be ignored when e.g. forecasting.\n",
      "  ' ignored when e.g. forecasting.', ValueWarning)\n",
      "/Users/Tiffany/opt/anaconda3/lib/python3.7/site-packages/statsmodels/tsa/base/tsa_model.py:165: ValueWarning: No frequency information was provided, so inferred frequency 2AS-JAN will be used.\n",
      "  % freq, ValueWarning)\n",
      "/Users/Tiffany/opt/anaconda3/lib/python3.7/site-packages/statsmodels/tsa/base/tsa_model.py:165: ValueWarning: No frequency information was provided, so inferred frequency 2AS-JAN will be used.\n",
      "  % freq, ValueWarning)\n",
      "/Users/Tiffany/opt/anaconda3/lib/python3.7/site-packages/statsmodels/tsa/base/tsa_model.py:165: ValueWarning: No frequency information was provided, so inferred frequency 2AS-JAN will be used.\n",
      "  % freq, ValueWarning)\n"
     ]
    },
    {
     "name": "stdout",
     "output_type": "stream",
     "text": [
      "Pisces III (Andromeda XIII)\n",
      "1.295959091275504e-07\n"
     ]
    },
    {
     "name": "stderr",
     "output_type": "stream",
     "text": [
      "/Users/Tiffany/opt/anaconda3/lib/python3.7/site-packages/statsmodels/tsa/base/tsa_model.py:219: ValueWarning: A date index has been provided, but it has no associated frequency information and so will be ignored when e.g. forecasting.\n",
      "  ' ignored when e.g. forecasting.', ValueWarning)\n",
      "/Users/Tiffany/opt/anaconda3/lib/python3.7/site-packages/statsmodels/tsa/base/tsa_model.py:165: ValueWarning: No frequency information was provided, so inferred frequency 2AS-JAN will be used.\n",
      "  % freq, ValueWarning)\n",
      "/Users/Tiffany/opt/anaconda3/lib/python3.7/site-packages/statsmodels/tsa/base/tsa_model.py:165: ValueWarning: No frequency information was provided, so inferred frequency 2AS-JAN will be used.\n",
      "  % freq, ValueWarning)\n",
      "/Users/Tiffany/opt/anaconda3/lib/python3.7/site-packages/statsmodels/tsa/base/tsa_model.py:165: ValueWarning: No frequency information was provided, so inferred frequency 2AS-JAN will be used.\n",
      "  % freq, ValueWarning)\n",
      "/Users/Tiffany/opt/anaconda3/lib/python3.7/site-packages/statsmodels/tsa/base/tsa_model.py:219: ValueWarning: A date index has been provided, but it has no associated frequency information and so will be ignored when e.g. forecasting.\n",
      "  ' ignored when e.g. forecasting.', ValueWarning)\n",
      "/Users/Tiffany/opt/anaconda3/lib/python3.7/site-packages/statsmodels/tsa/base/tsa_model.py:165: ValueWarning: No frequency information was provided, so inferred frequency 2AS-JAN will be used.\n",
      "  % freq, ValueWarning)\n",
      "/Users/Tiffany/opt/anaconda3/lib/python3.7/site-packages/statsmodels/tsa/statespace/sarimax.py:949: UserWarning: Non-stationary starting autoregressive parameters found. Using zeros as starting parameters.\n",
      "  warn('Non-stationary starting autoregressive parameters'\n",
      "/Users/Tiffany/opt/anaconda3/lib/python3.7/site-packages/statsmodels/tsa/base/tsa_model.py:165: ValueWarning: No frequency information was provided, so inferred frequency 2AS-JAN will be used.\n",
      "  % freq, ValueWarning)\n",
      "/Users/Tiffany/opt/anaconda3/lib/python3.7/site-packages/statsmodels/tsa/statespace/sarimax.py:949: UserWarning: Non-stationary starting autoregressive parameters found. Using zeros as starting parameters.\n",
      "  warn('Non-stationary starting autoregressive parameters'\n"
     ]
    },
    {
     "name": "stdout",
     "output_type": "stream",
     "text": [
      "Antlia 2\n",
      "1.0064244833086476e-06\n"
     ]
    },
    {
     "name": "stderr",
     "output_type": "stream",
     "text": [
      "/Users/Tiffany/opt/anaconda3/lib/python3.7/site-packages/statsmodels/tsa/base/tsa_model.py:165: ValueWarning: No frequency information was provided, so inferred frequency 2AS-JAN will be used.\n",
      "  % freq, ValueWarning)\n",
      "/Users/Tiffany/opt/anaconda3/lib/python3.7/site-packages/statsmodels/tsa/base/tsa_model.py:219: ValueWarning: A date index has been provided, but it has no associated frequency information and so will be ignored when e.g. forecasting.\n",
      "  ' ignored when e.g. forecasting.', ValueWarning)\n",
      "/Users/Tiffany/opt/anaconda3/lib/python3.7/site-packages/statsmodels/tsa/base/tsa_model.py:165: ValueWarning: No frequency information was provided, so inferred frequency 2AS-JAN will be used.\n",
      "  % freq, ValueWarning)\n"
     ]
    },
    {
     "name": "stdout",
     "output_type": "stream",
     "text": [
      "IC 3104\n",
      "2.2515746633797624e-06\n"
     ]
    },
    {
     "name": "stderr",
     "output_type": "stream",
     "text": [
      "/Users/Tiffany/opt/anaconda3/lib/python3.7/site-packages/statsmodels/tsa/base/tsa_model.py:165: ValueWarning: No frequency information was provided, so inferred frequency 2AS-JAN will be used.\n",
      "  % freq, ValueWarning)\n",
      "/Users/Tiffany/opt/anaconda3/lib/python3.7/site-packages/statsmodels/tsa/base/tsa_model.py:165: ValueWarning: No frequency information was provided, so inferred frequency 2AS-JAN will be used.\n",
      "  % freq, ValueWarning)\n"
     ]
    },
    {
     "name": "stdout",
     "output_type": "stream",
     "text": [
      "Pictor II\n",
      "3.60327474117952e-05\n"
     ]
    },
    {
     "name": "stderr",
     "output_type": "stream",
     "text": [
      "/Users/Tiffany/opt/anaconda3/lib/python3.7/site-packages/statsmodels/tsa/base/tsa_model.py:219: ValueWarning: A date index has been provided, but it has no associated frequency information and so will be ignored when e.g. forecasting.\n",
      "  ' ignored when e.g. forecasting.', ValueWarning)\n",
      "/Users/Tiffany/opt/anaconda3/lib/python3.7/site-packages/statsmodels/tsa/base/tsa_model.py:165: ValueWarning: No frequency information was provided, so inferred frequency 2AS-JAN will be used.\n",
      "  % freq, ValueWarning)\n",
      "/Users/Tiffany/opt/anaconda3/lib/python3.7/site-packages/statsmodels/tsa/statespace/sarimax.py:949: UserWarning: Non-stationary starting autoregressive parameters found. Using zeros as starting parameters.\n",
      "  warn('Non-stationary starting autoregressive parameters'\n",
      "/Users/Tiffany/opt/anaconda3/lib/python3.7/site-packages/statsmodels/tsa/base/tsa_model.py:165: ValueWarning: No frequency information was provided, so inferred frequency 2AS-JAN will be used.\n",
      "  % freq, ValueWarning)\n",
      "/Users/Tiffany/opt/anaconda3/lib/python3.7/site-packages/statsmodels/tsa/statespace/sarimax.py:949: UserWarning: Non-stationary starting autoregressive parameters found. Using zeros as starting parameters.\n",
      "  warn('Non-stationary starting autoregressive parameters'\n",
      "/Users/Tiffany/opt/anaconda3/lib/python3.7/site-packages/statsmodels/tsa/base/tsa_model.py:165: ValueWarning: No frequency information was provided, so inferred frequency 2AS-JAN will be used.\n",
      "  % freq, ValueWarning)\n"
     ]
    },
    {
     "name": "stdout",
     "output_type": "stream",
     "text": [
      "UGC 9240 (DDO 190)\n",
      "2.16574883984023e-06\n"
     ]
    },
    {
     "name": "stderr",
     "output_type": "stream",
     "text": [
      "/Users/Tiffany/opt/anaconda3/lib/python3.7/site-packages/statsmodels/tsa/base/tsa_model.py:219: ValueWarning: A date index has been provided, but it has no associated frequency information and so will be ignored when e.g. forecasting.\n",
      "  ' ignored when e.g. forecasting.', ValueWarning)\n",
      "/Users/Tiffany/opt/anaconda3/lib/python3.7/site-packages/statsmodels/tsa/base/tsa_model.py:165: ValueWarning: No frequency information was provided, so inferred frequency 2AS-JAN will be used.\n",
      "  % freq, ValueWarning)\n",
      "/Users/Tiffany/opt/anaconda3/lib/python3.7/site-packages/statsmodels/tsa/statespace/sarimax.py:961: UserWarning: Non-invertible starting MA parameters found. Using zeros as starting parameters.\n",
      "  warn('Non-invertible starting MA parameters found.'\n",
      "/Users/Tiffany/opt/anaconda3/lib/python3.7/site-packages/statsmodels/tsa/base/tsa_model.py:165: ValueWarning: No frequency information was provided, so inferred frequency 2AS-JAN will be used.\n",
      "  % freq, ValueWarning)\n",
      "/Users/Tiffany/opt/anaconda3/lib/python3.7/site-packages/statsmodels/tsa/statespace/sarimax.py:961: UserWarning: Non-invertible starting MA parameters found. Using zeros as starting parameters.\n",
      "  warn('Non-invertible starting MA parameters found.'\n"
     ]
    },
    {
     "name": "stdout",
     "output_type": "stream",
     "text": [
      "Andromeda XII\n",
      "2.161701934814259e-06\n"
     ]
    },
    {
     "name": "stderr",
     "output_type": "stream",
     "text": [
      "/Users/Tiffany/opt/anaconda3/lib/python3.7/site-packages/statsmodels/tsa/base/tsa_model.py:165: ValueWarning: No frequency information was provided, so inferred frequency 2AS-JAN will be used.\n",
      "  % freq, ValueWarning)\n",
      "/Users/Tiffany/opt/anaconda3/lib/python3.7/site-packages/statsmodels/tsa/base/tsa_model.py:165: ValueWarning: No frequency information was provided, so inferred frequency 2AS-JAN will be used.\n",
      "  % freq, ValueWarning)\n",
      "/Users/Tiffany/opt/anaconda3/lib/python3.7/site-packages/statsmodels/tsa/base/tsa_model.py:165: ValueWarning: No frequency information was provided, so inferred frequency 2AS-JAN will be used.\n",
      "  % freq, ValueWarning)\n",
      "/Users/Tiffany/opt/anaconda3/lib/python3.7/site-packages/statsmodels/tsa/statespace/sarimax.py:949: UserWarning: Non-stationary starting autoregressive parameters found. Using zeros as starting parameters.\n",
      "  warn('Non-stationary starting autoregressive parameters'\n",
      "/Users/Tiffany/opt/anaconda3/lib/python3.7/site-packages/statsmodels/tsa/base/tsa_model.py:165: ValueWarning: No frequency information was provided, so inferred frequency 2AS-JAN will be used.\n",
      "  % freq, ValueWarning)\n",
      "/Users/Tiffany/opt/anaconda3/lib/python3.7/site-packages/statsmodels/tsa/statespace/sarimax.py:949: UserWarning: Non-stationary starting autoregressive parameters found. Using zeros as starting parameters.\n",
      "  warn('Non-stationary starting autoregressive parameters'\n",
      "/Users/Tiffany/opt/anaconda3/lib/python3.7/site-packages/statsmodels/tsa/base/tsa_model.py:165: ValueWarning: No frequency information was provided, so inferred frequency 2AS-JAN will be used.\n",
      "  % freq, ValueWarning)\n",
      "/Users/Tiffany/opt/anaconda3/lib/python3.7/site-packages/statsmodels/tsa/base/tsa_model.py:219: ValueWarning: A date index has been provided, but it has no associated frequency information and so will be ignored when e.g. forecasting.\n",
      "  ' ignored when e.g. forecasting.', ValueWarning)\n",
      "/Users/Tiffany/opt/anaconda3/lib/python3.7/site-packages/statsmodels/tsa/base/tsa_model.py:165: ValueWarning: No frequency information was provided, so inferred frequency 2AS-JAN will be used.\n",
      "  % freq, ValueWarning)\n"
     ]
    },
    {
     "name": "stdout",
     "output_type": "stream",
     "text": [
      "NGC 5253\n",
      "ERROR: NGC 5253\n",
      "Horologium I\n",
      "9.790023094503952e-07\n"
     ]
    },
    {
     "name": "stderr",
     "output_type": "stream",
     "text": [
      "/Users/Tiffany/opt/anaconda3/lib/python3.7/site-packages/statsmodels/tsa/base/tsa_model.py:165: ValueWarning: No frequency information was provided, so inferred frequency 2AS-JAN will be used.\n",
      "  % freq, ValueWarning)\n",
      "/Users/Tiffany/opt/anaconda3/lib/python3.7/site-packages/statsmodels/tsa/base/tsa_model.py:165: ValueWarning: No frequency information was provided, so inferred frequency 2AS-JAN will be used.\n",
      "  % freq, ValueWarning)\n",
      "/Users/Tiffany/opt/anaconda3/lib/python3.7/site-packages/statsmodels/base/model.py:512: ConvergenceWarning: Maximum Likelihood optimization failed to converge. Check mle_retvals\n",
      "  \"Check mle_retvals\", ConvergenceWarning)\n",
      "/Users/Tiffany/opt/anaconda3/lib/python3.7/site-packages/statsmodels/tsa/base/tsa_model.py:219: ValueWarning: A date index has been provided, but it has no associated frequency information and so will be ignored when e.g. forecasting.\n",
      "  ' ignored when e.g. forecasting.', ValueWarning)\n",
      "/Users/Tiffany/opt/anaconda3/lib/python3.7/site-packages/statsmodels/tsa/base/tsa_model.py:165: ValueWarning: No frequency information was provided, so inferred frequency 2AS-JAN will be used.\n",
      "  % freq, ValueWarning)\n",
      "/Users/Tiffany/opt/anaconda3/lib/python3.7/site-packages/statsmodels/tsa/base/tsa_model.py:165: ValueWarning: No frequency information was provided, so inferred frequency 2AS-JAN will be used.\n",
      "  % freq, ValueWarning)\n"
     ]
    },
    {
     "name": "stdout",
     "output_type": "stream",
     "text": [
      "DDO 99 (UGC 6817)\n",
      "3.93693124581657e-07\n"
     ]
    },
    {
     "name": "stderr",
     "output_type": "stream",
     "text": [
      "/Users/Tiffany/opt/anaconda3/lib/python3.7/site-packages/statsmodels/tsa/base/tsa_model.py:165: ValueWarning: No frequency information was provided, so inferred frequency 2AS-JAN will be used.\n",
      "  % freq, ValueWarning)\n",
      "/Users/Tiffany/opt/anaconda3/lib/python3.7/site-packages/statsmodels/tsa/statespace/sarimax.py:949: UserWarning: Non-stationary starting autoregressive parameters found. Using zeros as starting parameters.\n",
      "  warn('Non-stationary starting autoregressive parameters'\n",
      "/Users/Tiffany/opt/anaconda3/lib/python3.7/site-packages/statsmodels/tsa/base/tsa_model.py:219: ValueWarning: A date index has been provided, but it has no associated frequency information and so will be ignored when e.g. forecasting.\n",
      "  ' ignored when e.g. forecasting.', ValueWarning)\n",
      "/Users/Tiffany/opt/anaconda3/lib/python3.7/site-packages/statsmodels/tsa/base/tsa_model.py:165: ValueWarning: No frequency information was provided, so inferred frequency 2AS-JAN will be used.\n",
      "  % freq, ValueWarning)\n"
     ]
    },
    {
     "name": "stdout",
     "output_type": "stream",
     "text": [
      "Carina Dwarf (E206-G220)\n",
      "1.0350068423638823e-06\n"
     ]
    },
    {
     "name": "stderr",
     "output_type": "stream",
     "text": [
      "/Users/Tiffany/opt/anaconda3/lib/python3.7/site-packages/statsmodels/tsa/base/tsa_model.py:165: ValueWarning: No frequency information was provided, so inferred frequency 2AS-JAN will be used.\n",
      "  % freq, ValueWarning)\n",
      "/Users/Tiffany/opt/anaconda3/lib/python3.7/site-packages/statsmodels/tsa/base/tsa_model.py:165: ValueWarning: No frequency information was provided, so inferred frequency 2AS-JAN will be used.\n",
      "  % freq, ValueWarning)\n"
     ]
    },
    {
     "name": "stdout",
     "output_type": "stream",
     "text": [
      "Leo T Dwarf\n",
      "3.112778332983061e-05\n"
     ]
    },
    {
     "name": "stderr",
     "output_type": "stream",
     "text": [
      "/Users/Tiffany/opt/anaconda3/lib/python3.7/site-packages/statsmodels/tsa/base/tsa_model.py:219: ValueWarning: A date index has been provided, but it has no associated frequency information and so will be ignored when e.g. forecasting.\n",
      "  ' ignored when e.g. forecasting.', ValueWarning)\n",
      "/Users/Tiffany/opt/anaconda3/lib/python3.7/site-packages/statsmodels/tsa/base/tsa_model.py:165: ValueWarning: No frequency information was provided, so inferred frequency 2AS-JAN will be used.\n",
      "  % freq, ValueWarning)\n",
      "/Users/Tiffany/opt/anaconda3/lib/python3.7/site-packages/statsmodels/tsa/statespace/sarimax.py:949: UserWarning: Non-stationary starting autoregressive parameters found. Using zeros as starting parameters.\n",
      "  warn('Non-stationary starting autoregressive parameters'\n",
      "/Users/Tiffany/opt/anaconda3/lib/python3.7/site-packages/statsmodels/tsa/base/tsa_model.py:165: ValueWarning: No frequency information was provided, so inferred frequency 2AS-JAN will be used.\n",
      "  % freq, ValueWarning)\n",
      "/Users/Tiffany/opt/anaconda3/lib/python3.7/site-packages/statsmodels/tsa/statespace/sarimax.py:949: UserWarning: Non-stationary starting autoregressive parameters found. Using zeros as starting parameters.\n",
      "  warn('Non-stationary starting autoregressive parameters'\n",
      "/Users/Tiffany/opt/anaconda3/lib/python3.7/site-packages/statsmodels/tsa/base/tsa_model.py:165: ValueWarning: No frequency information was provided, so inferred frequency 2AS-JAN will be used.\n",
      "  % freq, ValueWarning)\n",
      "/Users/Tiffany/opt/anaconda3/lib/python3.7/site-packages/statsmodels/tsa/base/tsa_model.py:219: ValueWarning: A date index has been provided, but it has no associated frequency information and so will be ignored when e.g. forecasting.\n",
      "  ' ignored when e.g. forecasting.', ValueWarning)\n",
      "/Users/Tiffany/opt/anaconda3/lib/python3.7/site-packages/statsmodels/tsa/base/tsa_model.py:165: ValueWarning: No frequency information was provided, so inferred frequency 2AS-JAN will be used.\n",
      "  % freq, ValueWarning)\n"
     ]
    },
    {
     "name": "stdout",
     "output_type": "stream",
     "text": [
      "Tucana IV\n",
      "4.024566621199493e-06\n"
     ]
    },
    {
     "name": "stderr",
     "output_type": "stream",
     "text": [
      "/Users/Tiffany/opt/anaconda3/lib/python3.7/site-packages/statsmodels/tsa/base/tsa_model.py:165: ValueWarning: No frequency information was provided, so inferred frequency 2AS-JAN will be used.\n",
      "  % freq, ValueWarning)\n",
      "/Users/Tiffany/opt/anaconda3/lib/python3.7/site-packages/statsmodels/tsa/base/tsa_model.py:165: ValueWarning: No frequency information was provided, so inferred frequency 2AS-JAN will be used.\n",
      "  % freq, ValueWarning)\n"
     ]
    },
    {
     "name": "stdout",
     "output_type": "stream",
     "text": [
      "Andromeda XIX[60]\n",
      "7.515859254093886e-05\n"
     ]
    },
    {
     "name": "stderr",
     "output_type": "stream",
     "text": [
      "/Users/Tiffany/opt/anaconda3/lib/python3.7/site-packages/statsmodels/tsa/base/tsa_model.py:165: ValueWarning: No frequency information was provided, so inferred frequency 2AS-JAN will be used.\n",
      "  % freq, ValueWarning)\n",
      "/Users/Tiffany/opt/anaconda3/lib/python3.7/site-packages/statsmodels/tsa/base/tsa_model.py:165: ValueWarning: No frequency information was provided, so inferred frequency 2AS-JAN will be used.\n",
      "  % freq, ValueWarning)\n",
      "/Users/Tiffany/opt/anaconda3/lib/python3.7/site-packages/statsmodels/tsa/statespace/sarimax.py:949: UserWarning: Non-stationary starting autoregressive parameters found. Using zeros as starting parameters.\n",
      "  warn('Non-stationary starting autoregressive parameters'\n",
      "/Users/Tiffany/opt/anaconda3/lib/python3.7/site-packages/statsmodels/tsa/base/tsa_model.py:165: ValueWarning: No frequency information was provided, so inferred frequency 2AS-JAN will be used.\n",
      "  % freq, ValueWarning)\n",
      "/Users/Tiffany/opt/anaconda3/lib/python3.7/site-packages/statsmodels/tsa/statespace/sarimax.py:949: UserWarning: Non-stationary starting autoregressive parameters found. Using zeros as starting parameters.\n",
      "  warn('Non-stationary starting autoregressive parameters'\n",
      "/Users/Tiffany/opt/anaconda3/lib/python3.7/site-packages/statsmodels/tsa/base/tsa_model.py:165: ValueWarning: No frequency information was provided, so inferred frequency 2AS-JAN will be used.\n",
      "  % freq, ValueWarning)\n",
      "/Users/Tiffany/opt/anaconda3/lib/python3.7/site-packages/statsmodels/tsa/base/tsa_model.py:219: ValueWarning: A date index has been provided, but it has no associated frequency information and so will be ignored when e.g. forecasting.\n",
      "  ' ignored when e.g. forecasting.', ValueWarning)\n",
      "/Users/Tiffany/opt/anaconda3/lib/python3.7/site-packages/statsmodels/tsa/base/tsa_model.py:165: ValueWarning: No frequency information was provided, so inferred frequency 2AS-JAN will be used.\n",
      "  % freq, ValueWarning)\n"
     ]
    },
    {
     "name": "stdout",
     "output_type": "stream",
     "text": [
      "KK98 35\n",
      "9.519309097899929e-05\n"
     ]
    },
    {
     "name": "stderr",
     "output_type": "stream",
     "text": [
      "/Users/Tiffany/opt/anaconda3/lib/python3.7/site-packages/statsmodels/tsa/base/tsa_model.py:165: ValueWarning: No frequency information was provided, so inferred frequency 2AS-JAN will be used.\n",
      "  % freq, ValueWarning)\n",
      "/Users/Tiffany/opt/anaconda3/lib/python3.7/site-packages/statsmodels/tsa/statespace/sarimax.py:949: UserWarning: Non-stationary starting autoregressive parameters found. Using zeros as starting parameters.\n",
      "  warn('Non-stationary starting autoregressive parameters'\n",
      "/Users/Tiffany/opt/anaconda3/lib/python3.7/site-packages/statsmodels/tsa/base/tsa_model.py:165: ValueWarning: No frequency information was provided, so inferred frequency 2AS-JAN will be used.\n",
      "  % freq, ValueWarning)\n"
     ]
    },
    {
     "name": "stdout",
     "output_type": "stream",
     "text": [
      "UGC 4483\n",
      "4.010185139932339e-06\n"
     ]
    },
    {
     "name": "stderr",
     "output_type": "stream",
     "text": [
      "/Users/Tiffany/opt/anaconda3/lib/python3.7/site-packages/statsmodels/tsa/base/tsa_model.py:219: ValueWarning: A date index has been provided, but it has no associated frequency information and so will be ignored when e.g. forecasting.\n",
      "  ' ignored when e.g. forecasting.', ValueWarning)\n",
      "/Users/Tiffany/opt/anaconda3/lib/python3.7/site-packages/statsmodels/tsa/base/tsa_model.py:165: ValueWarning: No frequency information was provided, so inferred frequency 2AS-JAN will be used.\n",
      "  % freq, ValueWarning)\n",
      "/Users/Tiffany/opt/anaconda3/lib/python3.7/site-packages/statsmodels/tsa/statespace/sarimax.py:961: UserWarning: Non-invertible starting MA parameters found. Using zeros as starting parameters.\n",
      "  warn('Non-invertible starting MA parameters found.'\n",
      "/Users/Tiffany/opt/anaconda3/lib/python3.7/site-packages/statsmodels/tsa/base/tsa_model.py:165: ValueWarning: No frequency information was provided, so inferred frequency 2AS-JAN will be used.\n",
      "  % freq, ValueWarning)\n",
      "/Users/Tiffany/opt/anaconda3/lib/python3.7/site-packages/statsmodels/tsa/statespace/sarimax.py:961: UserWarning: Non-invertible starting MA parameters found. Using zeros as starting parameters.\n",
      "  warn('Non-invertible starting MA parameters found.'\n",
      "/Users/Tiffany/opt/anaconda3/lib/python3.7/site-packages/statsmodels/tsa/base/tsa_model.py:165: ValueWarning: No frequency information was provided, so inferred frequency 2AS-JAN will be used.\n",
      "  % freq, ValueWarning)\n",
      "/Users/Tiffany/opt/anaconda3/lib/python3.7/site-packages/statsmodels/tsa/base/tsa_model.py:219: ValueWarning: A date index has been provided, but it has no associated frequency information and so will be ignored when e.g. forecasting.\n",
      "  ' ignored when e.g. forecasting.', ValueWarning)\n",
      "/Users/Tiffany/opt/anaconda3/lib/python3.7/site-packages/statsmodels/tsa/base/tsa_model.py:165: ValueWarning: No frequency information was provided, so inferred frequency 2AS-JAN will be used.\n",
      "  % freq, ValueWarning)\n"
     ]
    },
    {
     "name": "stdout",
     "output_type": "stream",
     "text": [
      "KKH 12\n",
      "4.907422747837009e-06\n"
     ]
    },
    {
     "name": "stderr",
     "output_type": "stream",
     "text": [
      "/Users/Tiffany/opt/anaconda3/lib/python3.7/site-packages/statsmodels/tsa/base/tsa_model.py:165: ValueWarning: No frequency information was provided, so inferred frequency 2AS-JAN will be used.\n",
      "  % freq, ValueWarning)\n",
      "/Users/Tiffany/opt/anaconda3/lib/python3.7/site-packages/statsmodels/tsa/base/tsa_model.py:165: ValueWarning: No frequency information was provided, so inferred frequency 2AS-JAN will be used.\n",
      "  % freq, ValueWarning)\n"
     ]
    },
    {
     "name": "stdout",
     "output_type": "stream",
     "text": [
      "Andromeda XXIX\n",
      "4.6869788715420544e-07\n"
     ]
    },
    {
     "name": "stderr",
     "output_type": "stream",
     "text": [
      "/Users/Tiffany/opt/anaconda3/lib/python3.7/site-packages/statsmodels/tsa/base/tsa_model.py:219: ValueWarning: A date index has been provided, but it has no associated frequency information and so will be ignored when e.g. forecasting.\n",
      "  ' ignored when e.g. forecasting.', ValueWarning)\n",
      "/Users/Tiffany/opt/anaconda3/lib/python3.7/site-packages/statsmodels/tsa/base/tsa_model.py:165: ValueWarning: No frequency information was provided, so inferred frequency 2AS-JAN will be used.\n",
      "  % freq, ValueWarning)\n",
      "/Users/Tiffany/opt/anaconda3/lib/python3.7/site-packages/statsmodels/tsa/base/tsa_model.py:165: ValueWarning: No frequency information was provided, so inferred frequency 2AS-JAN will be used.\n",
      "  % freq, ValueWarning)\n",
      "/Users/Tiffany/opt/anaconda3/lib/python3.7/site-packages/statsmodels/tsa/base/tsa_model.py:165: ValueWarning: No frequency information was provided, so inferred frequency 2AS-JAN will be used.\n",
      "  % freq, ValueWarning)\n",
      "/Users/Tiffany/opt/anaconda3/lib/python3.7/site-packages/statsmodels/tsa/base/tsa_model.py:165: ValueWarning: No frequency information was provided, so inferred frequency 2AS-JAN will be used.\n",
      "  % freq, ValueWarning)\n",
      "/Users/Tiffany/opt/anaconda3/lib/python3.7/site-packages/statsmodels/tsa/base/tsa_model.py:165: ValueWarning: No frequency information was provided, so inferred frequency 2AS-JAN will be used.\n",
      "  % freq, ValueWarning)\n",
      "/Users/Tiffany/opt/anaconda3/lib/python3.7/site-packages/statsmodels/tsa/statespace/sarimax.py:961: UserWarning: Non-invertible starting MA parameters found. Using zeros as starting parameters.\n",
      "  warn('Non-invertible starting MA parameters found.'\n"
     ]
    },
    {
     "name": "stdout",
     "output_type": "stream",
     "text": [
      "Andromeda VIII\n",
      "3.39818545584312e-06\n"
     ]
    },
    {
     "name": "stderr",
     "output_type": "stream",
     "text": [
      "/Users/Tiffany/opt/anaconda3/lib/python3.7/site-packages/statsmodels/tsa/base/tsa_model.py:165: ValueWarning: No frequency information was provided, so inferred frequency 2AS-JAN will be used.\n",
      "  % freq, ValueWarning)\n",
      "/Users/Tiffany/opt/anaconda3/lib/python3.7/site-packages/statsmodels/tsa/base/tsa_model.py:165: ValueWarning: No frequency information was provided, so inferred frequency 2AS-JAN will be used.\n",
      "  % freq, ValueWarning)\n"
     ]
    },
    {
     "name": "stdout",
     "output_type": "stream",
     "text": [
      "Ursa Major II Dwarf\n",
      "6.275514739632819e-06\n"
     ]
    },
    {
     "name": "stderr",
     "output_type": "stream",
     "text": [
      "/Users/Tiffany/opt/anaconda3/lib/python3.7/site-packages/statsmodels/tsa/base/tsa_model.py:219: ValueWarning: A date index has been provided, but it has no associated frequency information and so will be ignored when e.g. forecasting.\n",
      "  ' ignored when e.g. forecasting.', ValueWarning)\n",
      "/Users/Tiffany/opt/anaconda3/lib/python3.7/site-packages/statsmodels/tsa/base/tsa_model.py:165: ValueWarning: No frequency information was provided, so inferred frequency 2AS-JAN will be used.\n",
      "  % freq, ValueWarning)\n",
      "/Users/Tiffany/opt/anaconda3/lib/python3.7/site-packages/statsmodels/tsa/statespace/sarimax.py:949: UserWarning: Non-stationary starting autoregressive parameters found. Using zeros as starting parameters.\n",
      "  warn('Non-stationary starting autoregressive parameters'\n",
      "/Users/Tiffany/opt/anaconda3/lib/python3.7/site-packages/statsmodels/tsa/statespace/sarimax.py:961: UserWarning: Non-invertible starting MA parameters found. Using zeros as starting parameters.\n",
      "  warn('Non-invertible starting MA parameters found.'\n",
      "/Users/Tiffany/opt/anaconda3/lib/python3.7/site-packages/statsmodels/tsa/base/tsa_model.py:165: ValueWarning: No frequency information was provided, so inferred frequency 2AS-JAN will be used.\n",
      "  % freq, ValueWarning)\n",
      "/Users/Tiffany/opt/anaconda3/lib/python3.7/site-packages/statsmodels/tsa/statespace/sarimax.py:949: UserWarning: Non-stationary starting autoregressive parameters found. Using zeros as starting parameters.\n",
      "  warn('Non-stationary starting autoregressive parameters'\n",
      "/Users/Tiffany/opt/anaconda3/lib/python3.7/site-packages/statsmodels/tsa/base/tsa_model.py:165: ValueWarning: No frequency information was provided, so inferred frequency 2AS-JAN will be used.\n",
      "  % freq, ValueWarning)\n",
      "/Users/Tiffany/opt/anaconda3/lib/python3.7/site-packages/statsmodels/tsa/base/tsa_model.py:219: ValueWarning: A date index has been provided, but it has no associated frequency information and so will be ignored when e.g. forecasting.\n",
      "  ' ignored when e.g. forecasting.', ValueWarning)\n",
      "/Users/Tiffany/opt/anaconda3/lib/python3.7/site-packages/statsmodels/tsa/base/tsa_model.py:165: ValueWarning: No frequency information was provided, so inferred frequency 2AS-JAN will be used.\n",
      "  % freq, ValueWarning)\n",
      "/Users/Tiffany/opt/anaconda3/lib/python3.7/site-packages/statsmodels/tsa/base/tsa_model.py:165: ValueWarning: No frequency information was provided, so inferred frequency 2AS-JAN will be used.\n",
      "  % freq, ValueWarning)\n"
     ]
    },
    {
     "name": "stdout",
     "output_type": "stream",
     "text": [
      "Hydrus I\n",
      "3.351045027514721e-09\n",
      "MB 3\n"
     ]
    },
    {
     "name": "stderr",
     "output_type": "stream",
     "text": [
      "/Users/Tiffany/opt/anaconda3/lib/python3.7/site-packages/statsmodels/tsa/base/tsa_model.py:165: ValueWarning: No frequency information was provided, so inferred frequency 2AS-JAN will be used.\n",
      "  % freq, ValueWarning)\n",
      "/Users/Tiffany/opt/anaconda3/lib/python3.7/site-packages/statsmodels/tsa/base/tsa_model.py:219: ValueWarning: A date index has been provided, but it has no associated frequency information and so will be ignored when e.g. forecasting.\n",
      "  ' ignored when e.g. forecasting.', ValueWarning)\n",
      "/Users/Tiffany/opt/anaconda3/lib/python3.7/site-packages/statsmodels/tsa/base/tsa_model.py:165: ValueWarning: No frequency information was provided, so inferred frequency 2AS-JAN will be used.\n",
      "  % freq, ValueWarning)\n",
      "/Users/Tiffany/opt/anaconda3/lib/python3.7/site-packages/statsmodels/tsa/statespace/sarimax.py:949: UserWarning: Non-stationary starting autoregressive parameters found. Using zeros as starting parameters.\n",
      "  warn('Non-stationary starting autoregressive parameters'\n",
      "/Users/Tiffany/opt/anaconda3/lib/python3.7/site-packages/statsmodels/tsa/base/tsa_model.py:165: ValueWarning: No frequency information was provided, so inferred frequency 2AS-JAN will be used.\n",
      "  % freq, ValueWarning)\n",
      "/Users/Tiffany/opt/anaconda3/lib/python3.7/site-packages/statsmodels/tsa/statespace/sarimax.py:949: UserWarning: Non-stationary starting autoregressive parameters found. Using zeros as starting parameters.\n",
      "  warn('Non-stationary starting autoregressive parameters'\n"
     ]
    },
    {
     "name": "stdout",
     "output_type": "stream",
     "text": [
      "1.649514715297053e-05\n"
     ]
    },
    {
     "name": "stderr",
     "output_type": "stream",
     "text": [
      "/Users/Tiffany/opt/anaconda3/lib/python3.7/site-packages/statsmodels/tsa/base/tsa_model.py:165: ValueWarning: No frequency information was provided, so inferred frequency 2AS-JAN will be used.\n",
      "  % freq, ValueWarning)\n",
      "/Users/Tiffany/opt/anaconda3/lib/python3.7/site-packages/statsmodels/base/model.py:512: ConvergenceWarning: Maximum Likelihood optimization failed to converge. Check mle_retvals\n",
      "  \"Check mle_retvals\", ConvergenceWarning)\n",
      "/Users/Tiffany/opt/anaconda3/lib/python3.7/site-packages/statsmodels/tsa/base/tsa_model.py:165: ValueWarning: No frequency information was provided, so inferred frequency 2AS-JAN will be used.\n",
      "  % freq, ValueWarning)\n",
      "/Users/Tiffany/opt/anaconda3/lib/python3.7/site-packages/statsmodels/tsa/base/tsa_model.py:165: ValueWarning: No frequency information was provided, so inferred frequency 2AS-JAN will be used.\n",
      "  % freq, ValueWarning)\n"
     ]
    },
    {
     "name": "stdout",
     "output_type": "stream",
     "text": [
      "HIZSS 003\n",
      "6.4790118094256045e-06\n"
     ]
    },
    {
     "name": "stderr",
     "output_type": "stream",
     "text": [
      "/Users/Tiffany/opt/anaconda3/lib/python3.7/site-packages/statsmodels/base/model.py:512: ConvergenceWarning: Maximum Likelihood optimization failed to converge. Check mle_retvals\n",
      "  \"Check mle_retvals\", ConvergenceWarning)\n",
      "/Users/Tiffany/opt/anaconda3/lib/python3.7/site-packages/statsmodels/tsa/base/tsa_model.py:165: ValueWarning: No frequency information was provided, so inferred frequency 2AS-JAN will be used.\n",
      "  % freq, ValueWarning)\n",
      "/Users/Tiffany/opt/anaconda3/lib/python3.7/site-packages/statsmodels/tsa/statespace/sarimax.py:949: UserWarning: Non-stationary starting autoregressive parameters found. Using zeros as starting parameters.\n",
      "  warn('Non-stationary starting autoregressive parameters'\n",
      "/Users/Tiffany/opt/anaconda3/lib/python3.7/site-packages/statsmodels/tsa/base/tsa_model.py:165: ValueWarning: No frequency information was provided, so inferred frequency 2AS-JAN will be used.\n",
      "  % freq, ValueWarning)\n"
     ]
    },
    {
     "name": "stdout",
     "output_type": "stream",
     "text": [
      "Andromeda XXIII\n",
      "6.372611591035567e-06\n"
     ]
    },
    {
     "name": "stderr",
     "output_type": "stream",
     "text": [
      "/Users/Tiffany/opt/anaconda3/lib/python3.7/site-packages/statsmodels/tsa/base/tsa_model.py:165: ValueWarning: No frequency information was provided, so inferred frequency 2AS-JAN will be used.\n",
      "  % freq, ValueWarning)\n",
      "/Users/Tiffany/opt/anaconda3/lib/python3.7/site-packages/statsmodels/tsa/base/tsa_model.py:165: ValueWarning: No frequency information was provided, so inferred frequency 2AS-JAN will be used.\n",
      "  % freq, ValueWarning)\n",
      "/Users/Tiffany/opt/anaconda3/lib/python3.7/site-packages/statsmodels/tsa/statespace/sarimax.py:961: UserWarning: Non-invertible starting MA parameters found. Using zeros as starting parameters.\n",
      "  warn('Non-invertible starting MA parameters found.'\n",
      "/Users/Tiffany/opt/anaconda3/lib/python3.7/site-packages/statsmodels/tsa/base/tsa_model.py:165: ValueWarning: No frequency information was provided, so inferred frequency 2AS-JAN will be used.\n",
      "  % freq, ValueWarning)\n",
      "/Users/Tiffany/opt/anaconda3/lib/python3.7/site-packages/statsmodels/tsa/base/tsa_model.py:165: ValueWarning: No frequency information was provided, so inferred frequency 2AS-JAN will be used.\n",
      "  % freq, ValueWarning)\n",
      "/Users/Tiffany/opt/anaconda3/lib/python3.7/site-packages/statsmodels/base/model.py:512: ConvergenceWarning: Maximum Likelihood optimization failed to converge. Check mle_retvals\n",
      "  \"Check mle_retvals\", ConvergenceWarning)\n",
      "/Users/Tiffany/opt/anaconda3/lib/python3.7/site-packages/statsmodels/tsa/base/tsa_model.py:165: ValueWarning: No frequency information was provided, so inferred frequency 2AS-JAN will be used.\n",
      "  % freq, ValueWarning)\n",
      "/Users/Tiffany/opt/anaconda3/lib/python3.7/site-packages/statsmodels/tsa/base/tsa_model.py:165: ValueWarning: No frequency information was provided, so inferred frequency 2AS-JAN will be used.\n",
      "  % freq, ValueWarning)\n",
      "/Users/Tiffany/opt/anaconda3/lib/python3.7/site-packages/statsmodels/tsa/statespace/sarimax.py:949: UserWarning: Non-stationary starting autoregressive parameters found. Using zeros as starting parameters.\n",
      "  warn('Non-stationary starting autoregressive parameters'\n",
      "/Users/Tiffany/opt/anaconda3/lib/python3.7/site-packages/statsmodels/tsa/base/tsa_model.py:165: ValueWarning: No frequency information was provided, so inferred frequency 2AS-JAN will be used.\n",
      "  % freq, ValueWarning)\n",
      "/Users/Tiffany/opt/anaconda3/lib/python3.7/site-packages/statsmodels/tsa/statespace/sarimax.py:949: UserWarning: Non-stationary starting autoregressive parameters found. Using zeros as starting parameters.\n",
      "  warn('Non-stationary starting autoregressive parameters'\n"
     ]
    },
    {
     "name": "stdout",
     "output_type": "stream",
     "text": [
      "Cetus Dwarf\n",
      "0.00023201551892395962\n"
     ]
    },
    {
     "name": "stderr",
     "output_type": "stream",
     "text": [
      "/Users/Tiffany/opt/anaconda3/lib/python3.7/site-packages/statsmodels/tsa/base/tsa_model.py:165: ValueWarning: No frequency information was provided, so inferred frequency 2AS-JAN will be used.\n",
      "  % freq, ValueWarning)\n",
      "/Users/Tiffany/opt/anaconda3/lib/python3.7/site-packages/statsmodels/tsa/base/tsa_model.py:219: ValueWarning: A date index has been provided, but it has no associated frequency information and so will be ignored when e.g. forecasting.\n",
      "  ' ignored when e.g. forecasting.', ValueWarning)\n",
      "/Users/Tiffany/opt/anaconda3/lib/python3.7/site-packages/statsmodels/tsa/base/tsa_model.py:165: ValueWarning: No frequency information was provided, so inferred frequency 2AS-JAN will be used.\n",
      "  % freq, ValueWarning)\n"
     ]
    },
    {
     "name": "stdout",
     "output_type": "stream",
     "text": [
      "Dwingeloo 2\n",
      "3.625341122477448e-06\n"
     ]
    },
    {
     "name": "stderr",
     "output_type": "stream",
     "text": [
      "/Users/Tiffany/opt/anaconda3/lib/python3.7/site-packages/statsmodels/tsa/base/tsa_model.py:165: ValueWarning: No frequency information was provided, so inferred frequency 2AS-JAN will be used.\n",
      "  % freq, ValueWarning)\n",
      "/Users/Tiffany/opt/anaconda3/lib/python3.7/site-packages/statsmodels/tsa/base/tsa_model.py:165: ValueWarning: No frequency information was provided, so inferred frequency 2AS-JAN will be used.\n",
      "  % freq, ValueWarning)\n"
     ]
    },
    {
     "name": "stdout",
     "output_type": "stream",
     "text": [
      "ESO 294-010\n",
      "0.00022708437743375296\n"
     ]
    },
    {
     "name": "stderr",
     "output_type": "stream",
     "text": [
      "/Users/Tiffany/opt/anaconda3/lib/python3.7/site-packages/statsmodels/tsa/base/tsa_model.py:219: ValueWarning: A date index has been provided, but it has no associated frequency information and so will be ignored when e.g. forecasting.\n",
      "  ' ignored when e.g. forecasting.', ValueWarning)\n",
      "/Users/Tiffany/opt/anaconda3/lib/python3.7/site-packages/statsmodels/tsa/base/tsa_model.py:165: ValueWarning: No frequency information was provided, so inferred frequency 2AS-JAN will be used.\n",
      "  % freq, ValueWarning)\n",
      "/Users/Tiffany/opt/anaconda3/lib/python3.7/site-packages/statsmodels/tsa/statespace/sarimax.py:949: UserWarning: Non-stationary starting autoregressive parameters found. Using zeros as starting parameters.\n",
      "  warn('Non-stationary starting autoregressive parameters'\n",
      "/Users/Tiffany/opt/anaconda3/lib/python3.7/site-packages/statsmodels/tsa/statespace/sarimax.py:961: UserWarning: Non-invertible starting MA parameters found. Using zeros as starting parameters.\n",
      "  warn('Non-invertible starting MA parameters found.'\n",
      "/Users/Tiffany/opt/anaconda3/lib/python3.7/site-packages/statsmodels/tsa/base/tsa_model.py:165: ValueWarning: No frequency information was provided, so inferred frequency 2AS-JAN will be used.\n",
      "  % freq, ValueWarning)\n",
      "/Users/Tiffany/opt/anaconda3/lib/python3.7/site-packages/statsmodels/tsa/statespace/sarimax.py:949: UserWarning: Non-stationary starting autoregressive parameters found. Using zeros as starting parameters.\n",
      "  warn('Non-stationary starting autoregressive parameters'\n",
      "/Users/Tiffany/opt/anaconda3/lib/python3.7/site-packages/statsmodels/tsa/statespace/sarimax.py:961: UserWarning: Non-invertible starting MA parameters found. Using zeros as starting parameters.\n",
      "  warn('Non-invertible starting MA parameters found.'\n"
     ]
    },
    {
     "name": "stdout",
     "output_type": "stream",
     "text": [
      "Boötes II\n",
      "1.5950439058245539e-06\n"
     ]
    },
    {
     "name": "stderr",
     "output_type": "stream",
     "text": [
      "/Users/Tiffany/opt/anaconda3/lib/python3.7/site-packages/statsmodels/tsa/base/tsa_model.py:165: ValueWarning: No frequency information was provided, so inferred frequency 2AS-JAN will be used.\n",
      "  % freq, ValueWarning)\n",
      "/Users/Tiffany/opt/anaconda3/lib/python3.7/site-packages/statsmodels/tsa/base/tsa_model.py:219: ValueWarning: A date index has been provided, but it has no associated frequency information and so will be ignored when e.g. forecasting.\n",
      "  ' ignored when e.g. forecasting.', ValueWarning)\n",
      "/Users/Tiffany/opt/anaconda3/lib/python3.7/site-packages/statsmodels/tsa/base/tsa_model.py:165: ValueWarning: No frequency information was provided, so inferred frequency 2AS-JAN will be used.\n",
      "  % freq, ValueWarning)\n",
      "/Users/Tiffany/opt/anaconda3/lib/python3.7/site-packages/statsmodels/base/model.py:512: ConvergenceWarning: Maximum Likelihood optimization failed to converge. Check mle_retvals\n",
      "  \"Check mle_retvals\", ConvergenceWarning)\n",
      "/Users/Tiffany/opt/anaconda3/lib/python3.7/site-packages/statsmodels/tsa/base/tsa_model.py:165: ValueWarning: No frequency information was provided, so inferred frequency 2AS-JAN will be used.\n",
      "  % freq, ValueWarning)\n",
      "/Users/Tiffany/opt/anaconda3/lib/python3.7/site-packages/statsmodels/tsa/statespace/sarimax.py:949: UserWarning: Non-stationary starting autoregressive parameters found. Using zeros as starting parameters.\n",
      "  warn('Non-stationary starting autoregressive parameters'\n",
      "/Users/Tiffany/opt/anaconda3/lib/python3.7/site-packages/statsmodels/tsa/base/tsa_model.py:165: ValueWarning: No frequency information was provided, so inferred frequency 2AS-JAN will be used.\n",
      "  % freq, ValueWarning)\n",
      "/Users/Tiffany/opt/anaconda3/lib/python3.7/site-packages/statsmodels/tsa/base/tsa_model.py:219: ValueWarning: A date index has been provided, but it has no associated frequency information and so will be ignored when e.g. forecasting.\n",
      "  ' ignored when e.g. forecasting.', ValueWarning)\n",
      "/Users/Tiffany/opt/anaconda3/lib/python3.7/site-packages/statsmodels/tsa/base/tsa_model.py:165: ValueWarning: No frequency information was provided, so inferred frequency 2AS-JAN will be used.\n",
      "  % freq, ValueWarning)\n",
      "/Users/Tiffany/opt/anaconda3/lib/python3.7/site-packages/statsmodels/tsa/base/tsa_model.py:165: ValueWarning: No frequency information was provided, so inferred frequency 2AS-JAN will be used.\n",
      "  % freq, ValueWarning)\n"
     ]
    },
    {
     "name": "stdout",
     "output_type": "stream",
     "text": [
      "ESO 383-087 (ISG 39)\n",
      "8.718042660499342e-08\n"
     ]
    },
    {
     "name": "stderr",
     "output_type": "stream",
     "text": [
      "/Users/Tiffany/opt/anaconda3/lib/python3.7/site-packages/statsmodels/tsa/base/tsa_model.py:165: ValueWarning: No frequency information was provided, so inferred frequency 2AS-JAN will be used.\n",
      "  % freq, ValueWarning)\n",
      "/Users/Tiffany/opt/anaconda3/lib/python3.7/site-packages/statsmodels/base/model.py:512: ConvergenceWarning: Maximum Likelihood optimization failed to converge. Check mle_retvals\n",
      "  \"Check mle_retvals\", ConvergenceWarning)\n",
      "/Users/Tiffany/opt/anaconda3/lib/python3.7/site-packages/statsmodels/tsa/base/tsa_model.py:165: ValueWarning: No frequency information was provided, so inferred frequency 2AS-JAN will be used.\n",
      "  % freq, ValueWarning)\n",
      "/Users/Tiffany/opt/anaconda3/lib/python3.7/site-packages/statsmodels/tsa/base/tsa_model.py:165: ValueWarning: No frequency information was provided, so inferred frequency 2AS-JAN will be used.\n",
      "  % freq, ValueWarning)\n"
     ]
    },
    {
     "name": "stdout",
     "output_type": "stream",
     "text": [
      "Pisces V (Andromeda XVI)\n",
      "3.993241554750236e-06\n"
     ]
    },
    {
     "name": "stderr",
     "output_type": "stream",
     "text": [
      "/Users/Tiffany/opt/anaconda3/lib/python3.7/site-packages/statsmodels/base/model.py:512: ConvergenceWarning: Maximum Likelihood optimization failed to converge. Check mle_retvals\n",
      "  \"Check mle_retvals\", ConvergenceWarning)\n",
      "/Users/Tiffany/opt/anaconda3/lib/python3.7/site-packages/statsmodels/tsa/base/tsa_model.py:165: ValueWarning: No frequency information was provided, so inferred frequency 2AS-JAN will be used.\n",
      "  % freq, ValueWarning)\n",
      "/Users/Tiffany/opt/anaconda3/lib/python3.7/site-packages/statsmodels/tsa/base/tsa_model.py:165: ValueWarning: No frequency information was provided, so inferred frequency 2AS-JAN will be used.\n",
      "  % freq, ValueWarning)\n"
     ]
    },
    {
     "name": "stdout",
     "output_type": "stream",
     "text": [
      "Hercules Dwarf\n",
      "3.6469109534293534e-06\n"
     ]
    },
    {
     "name": "stderr",
     "output_type": "stream",
     "text": [
      "/Users/Tiffany/opt/anaconda3/lib/python3.7/site-packages/statsmodels/tsa/base/tsa_model.py:165: ValueWarning: No frequency information was provided, so inferred frequency 2AS-JAN will be used.\n",
      "  % freq, ValueWarning)\n",
      "/Users/Tiffany/opt/anaconda3/lib/python3.7/site-packages/statsmodels/tsa/base/tsa_model.py:165: ValueWarning: No frequency information was provided, so inferred frequency 2AS-JAN will be used.\n",
      "  % freq, ValueWarning)\n",
      "/Users/Tiffany/opt/anaconda3/lib/python3.7/site-packages/statsmodels/tsa/base/tsa_model.py:165: ValueWarning: No frequency information was provided, so inferred frequency 2AS-JAN will be used.\n",
      "  % freq, ValueWarning)\n",
      "/Users/Tiffany/opt/anaconda3/lib/python3.7/site-packages/statsmodels/tsa/base/tsa_model.py:165: ValueWarning: No frequency information was provided, so inferred frequency 2AS-JAN will be used.\n",
      "  % freq, ValueWarning)\n",
      "/Users/Tiffany/opt/anaconda3/lib/python3.7/site-packages/statsmodels/tsa/base/tsa_model.py:219: ValueWarning: A date index has been provided, but it has no associated frequency information and so will be ignored when e.g. forecasting.\n",
      "  ' ignored when e.g. forecasting.', ValueWarning)\n",
      "/Users/Tiffany/opt/anaconda3/lib/python3.7/site-packages/statsmodels/tsa/base/tsa_model.py:165: ValueWarning: No frequency information was provided, so inferred frequency 2AS-JAN will be used.\n",
      "  % freq, ValueWarning)\n"
     ]
    },
    {
     "name": "stdout",
     "output_type": "stream",
     "text": [
      "Hydra II\n",
      "1.496670463933561e-06\n"
     ]
    },
    {
     "name": "stderr",
     "output_type": "stream",
     "text": [
      "/Users/Tiffany/opt/anaconda3/lib/python3.7/site-packages/statsmodels/tsa/base/tsa_model.py:165: ValueWarning: No frequency information was provided, so inferred frequency 2AS-JAN will be used.\n",
      "  % freq, ValueWarning)\n",
      "/Users/Tiffany/opt/anaconda3/lib/python3.7/site-packages/statsmodels/tsa/base/tsa_model.py:165: ValueWarning: No frequency information was provided, so inferred frequency 2AS-JAN will be used.\n",
      "  % freq, ValueWarning)\n"
     ]
    },
    {
     "name": "stdout",
     "output_type": "stream",
     "text": [
      "IC 5152\n",
      "5.494385591371954e-08\n"
     ]
    },
    {
     "name": "stderr",
     "output_type": "stream",
     "text": [
      "/Users/Tiffany/opt/anaconda3/lib/python3.7/site-packages/statsmodels/tsa/base/tsa_model.py:219: ValueWarning: A date index has been provided, but it has no associated frequency information and so will be ignored when e.g. forecasting.\n",
      "  ' ignored when e.g. forecasting.', ValueWarning)\n",
      "/Users/Tiffany/opt/anaconda3/lib/python3.7/site-packages/statsmodels/tsa/base/tsa_model.py:165: ValueWarning: No frequency information was provided, so inferred frequency 2AS-JAN will be used.\n",
      "  % freq, ValueWarning)\n",
      "/Users/Tiffany/opt/anaconda3/lib/python3.7/site-packages/statsmodels/tsa/base/tsa_model.py:165: ValueWarning: No frequency information was provided, so inferred frequency 2AS-JAN will be used.\n",
      "  % freq, ValueWarning)\n",
      "/Users/Tiffany/opt/anaconda3/lib/python3.7/site-packages/statsmodels/base/model.py:512: ConvergenceWarning: Maximum Likelihood optimization failed to converge. Check mle_retvals\n",
      "  \"Check mle_retvals\", ConvergenceWarning)\n",
      "/Users/Tiffany/opt/anaconda3/lib/python3.7/site-packages/statsmodels/tsa/base/tsa_model.py:165: ValueWarning: No frequency information was provided, so inferred frequency 2AS-JAN will be used.\n",
      "  % freq, ValueWarning)\n",
      "/Users/Tiffany/opt/anaconda3/lib/python3.7/site-packages/statsmodels/tsa/base/tsa_model.py:219: ValueWarning: A date index has been provided, but it has no associated frequency information and so will be ignored when e.g. forecasting.\n",
      "  ' ignored when e.g. forecasting.', ValueWarning)\n",
      "/Users/Tiffany/opt/anaconda3/lib/python3.7/site-packages/statsmodels/tsa/base/tsa_model.py:165: ValueWarning: No frequency information was provided, so inferred frequency 2AS-JAN will be used.\n",
      "  % freq, ValueWarning)\n",
      "/Users/Tiffany/opt/anaconda3/lib/python3.7/site-packages/statsmodels/tsa/statespace/sarimax.py:961: UserWarning: Non-invertible starting MA parameters found. Using zeros as starting parameters.\n",
      "  warn('Non-invertible starting MA parameters found.'\n"
     ]
    },
    {
     "name": "stdout",
     "output_type": "stream",
     "text": [
      "NGC 2366\n",
      "2.1259545554000613e-06\n"
     ]
    },
    {
     "name": "stderr",
     "output_type": "stream",
     "text": [
      "/Users/Tiffany/opt/anaconda3/lib/python3.7/site-packages/statsmodels/base/model.py:512: ConvergenceWarning: Maximum Likelihood optimization failed to converge. Check mle_retvals\n",
      "  \"Check mle_retvals\", ConvergenceWarning)\n",
      "/Users/Tiffany/opt/anaconda3/lib/python3.7/site-packages/statsmodels/tsa/base/tsa_model.py:165: ValueWarning: No frequency information was provided, so inferred frequency 2AS-JAN will be used.\n",
      "  % freq, ValueWarning)\n",
      "/Users/Tiffany/opt/anaconda3/lib/python3.7/site-packages/statsmodels/tsa/base/tsa_model.py:165: ValueWarning: No frequency information was provided, so inferred frequency 2AS-JAN will be used.\n",
      "  % freq, ValueWarning)\n"
     ]
    },
    {
     "name": "stdout",
     "output_type": "stream",
     "text": [
      "Pegasus Dwarf Irregular (DDO 216)\n",
      "4.887321680889834e-07\n"
     ]
    },
    {
     "name": "stderr",
     "output_type": "stream",
     "text": [
      "/Users/Tiffany/opt/anaconda3/lib/python3.7/site-packages/statsmodels/tsa/base/tsa_model.py:165: ValueWarning: No frequency information was provided, so inferred frequency 2AS-JAN will be used.\n",
      "  % freq, ValueWarning)\n",
      "/Users/Tiffany/opt/anaconda3/lib/python3.7/site-packages/statsmodels/tsa/base/tsa_model.py:165: ValueWarning: No frequency information was provided, so inferred frequency 2AS-JAN will be used.\n",
      "  % freq, ValueWarning)\n",
      "/Users/Tiffany/opt/anaconda3/lib/python3.7/site-packages/statsmodels/tsa/statespace/sarimax.py:961: UserWarning: Non-invertible starting MA parameters found. Using zeros as starting parameters.\n",
      "  warn('Non-invertible starting MA parameters found.'\n",
      "/Users/Tiffany/opt/anaconda3/lib/python3.7/site-packages/statsmodels/tsa/base/tsa_model.py:165: ValueWarning: No frequency information was provided, so inferred frequency 2AS-JAN will be used.\n",
      "  % freq, ValueWarning)\n",
      "/Users/Tiffany/opt/anaconda3/lib/python3.7/site-packages/statsmodels/tsa/base/tsa_model.py:165: ValueWarning: No frequency information was provided, so inferred frequency 2AS-JAN will be used.\n",
      "  % freq, ValueWarning)\n",
      "/Users/Tiffany/opt/anaconda3/lib/python3.7/site-packages/statsmodels/tsa/base/tsa_model.py:219: ValueWarning: A date index has been provided, but it has no associated frequency information and so will be ignored when e.g. forecasting.\n",
      "  ' ignored when e.g. forecasting.', ValueWarning)\n",
      "/Users/Tiffany/opt/anaconda3/lib/python3.7/site-packages/statsmodels/tsa/base/tsa_model.py:165: ValueWarning: No frequency information was provided, so inferred frequency 2AS-JAN will be used.\n",
      "  % freq, ValueWarning)\n",
      "/Users/Tiffany/opt/anaconda3/lib/python3.7/site-packages/statsmodels/tsa/base/tsa_model.py:165: ValueWarning: No frequency information was provided, so inferred frequency 2AS-JAN will be used.\n",
      "  % freq, ValueWarning)\n"
     ]
    },
    {
     "name": "stdout",
     "output_type": "stream",
     "text": [
      "Reticulum III\n",
      "1.9168400478612845e-07\n"
     ]
    },
    {
     "name": "stderr",
     "output_type": "stream",
     "text": [
      "/Users/Tiffany/opt/anaconda3/lib/python3.7/site-packages/statsmodels/tsa/base/tsa_model.py:165: ValueWarning: No frequency information was provided, so inferred frequency 2AS-JAN will be used.\n",
      "  % freq, ValueWarning)\n",
      "/Users/Tiffany/opt/anaconda3/lib/python3.7/site-packages/statsmodels/tsa/base/tsa_model.py:219: ValueWarning: A date index has been provided, but it has no associated frequency information and so will be ignored when e.g. forecasting.\n",
      "  ' ignored when e.g. forecasting.', ValueWarning)\n",
      "/Users/Tiffany/opt/anaconda3/lib/python3.7/site-packages/statsmodels/tsa/base/tsa_model.py:165: ValueWarning: No frequency information was provided, so inferred frequency 2AS-JAN will be used.\n",
      "  % freq, ValueWarning)\n"
     ]
    },
    {
     "name": "stdout",
     "output_type": "stream",
     "text": [
      "Coma Berenices Dwarf\n",
      "7.263466935146049e-07\n"
     ]
    },
    {
     "name": "stderr",
     "output_type": "stream",
     "text": [
      "/Users/Tiffany/opt/anaconda3/lib/python3.7/site-packages/statsmodels/tsa/base/tsa_model.py:165: ValueWarning: No frequency information was provided, so inferred frequency 2AS-JAN will be used.\n",
      "  % freq, ValueWarning)\n",
      "/Users/Tiffany/opt/anaconda3/lib/python3.7/site-packages/statsmodels/tsa/base/tsa_model.py:165: ValueWarning: No frequency information was provided, so inferred frequency 2AS-JAN will be used.\n",
      "  % freq, ValueWarning)\n",
      "/Users/Tiffany/opt/anaconda3/lib/python3.7/site-packages/statsmodels/tsa/statespace/sarimax.py:949: UserWarning: Non-stationary starting autoregressive parameters found. Using zeros as starting parameters.\n",
      "  warn('Non-stationary starting autoregressive parameters'\n"
     ]
    },
    {
     "name": "stdout",
     "output_type": "stream",
     "text": [
      "Sextans B (UGC 5373)\n",
      "2.5786441410325605e-06\n"
     ]
    },
    {
     "name": "stderr",
     "output_type": "stream",
     "text": [
      "/Users/Tiffany/opt/anaconda3/lib/python3.7/site-packages/statsmodels/tsa/base/tsa_model.py:165: ValueWarning: No frequency information was provided, so inferred frequency 2AS-JAN will be used.\n",
      "  % freq, ValueWarning)\n",
      "/Users/Tiffany/opt/anaconda3/lib/python3.7/site-packages/statsmodels/tsa/base/tsa_model.py:165: ValueWarning: No frequency information was provided, so inferred frequency 2AS-JAN will be used.\n",
      "  % freq, ValueWarning)\n",
      "/Users/Tiffany/opt/anaconda3/lib/python3.7/site-packages/statsmodels/base/model.py:512: ConvergenceWarning: Maximum Likelihood optimization failed to converge. Check mle_retvals\n",
      "  \"Check mle_retvals\", ConvergenceWarning)\n",
      "/Users/Tiffany/opt/anaconda3/lib/python3.7/site-packages/statsmodels/tsa/base/tsa_model.py:165: ValueWarning: No frequency information was provided, so inferred frequency 2AS-JAN will be used.\n",
      "  % freq, ValueWarning)\n",
      "/Users/Tiffany/opt/anaconda3/lib/python3.7/site-packages/statsmodels/tsa/base/tsa_model.py:165: ValueWarning: No frequency information was provided, so inferred frequency 2AS-JAN will be used.\n",
      "  % freq, ValueWarning)\n",
      "/Users/Tiffany/opt/anaconda3/lib/python3.7/site-packages/statsmodels/tsa/base/tsa_model.py:165: ValueWarning: No frequency information was provided, so inferred frequency 2AS-JAN will be used.\n",
      "  % freq, ValueWarning)\n",
      "/Users/Tiffany/opt/anaconda3/lib/python3.7/site-packages/statsmodels/tsa/base/tsa_model.py:165: ValueWarning: No frequency information was provided, so inferred frequency 2AS-JAN will be used.\n",
      "  % freq, ValueWarning)\n"
     ]
    },
    {
     "name": "stdout",
     "output_type": "stream",
     "text": [
      "NGC 55\n",
      "2.467868513769791e-07\n"
     ]
    },
    {
     "name": "stderr",
     "output_type": "stream",
     "text": [
      "/Users/Tiffany/opt/anaconda3/lib/python3.7/site-packages/statsmodels/tsa/base/tsa_model.py:165: ValueWarning: No frequency information was provided, so inferred frequency 2AS-JAN will be used.\n",
      "  % freq, ValueWarning)\n",
      "/Users/Tiffany/opt/anaconda3/lib/python3.7/site-packages/statsmodels/base/model.py:512: ConvergenceWarning: Maximum Likelihood optimization failed to converge. Check mle_retvals\n",
      "  \"Check mle_retvals\", ConvergenceWarning)\n",
      "/Users/Tiffany/opt/anaconda3/lib/python3.7/site-packages/statsmodels/tsa/base/tsa_model.py:165: ValueWarning: No frequency information was provided, so inferred frequency 2AS-JAN will be used.\n",
      "  % freq, ValueWarning)\n",
      "/Users/Tiffany/opt/anaconda3/lib/python3.7/site-packages/statsmodels/tsa/statespace/sarimax.py:949: UserWarning: Non-stationary starting autoregressive parameters found. Using zeros as starting parameters.\n",
      "  warn('Non-stationary starting autoregressive parameters'\n",
      "/Users/Tiffany/opt/anaconda3/lib/python3.7/site-packages/statsmodels/tsa/statespace/sarimax.py:961: UserWarning: Non-invertible starting MA parameters found. Using zeros as starting parameters.\n",
      "  warn('Non-invertible starting MA parameters found.'\n"
     ]
    },
    {
     "name": "stdout",
     "output_type": "stream",
     "text": [
      "Leo I Dwarf (DDO 74, UGC 5470)\n",
      "1.4503509993740022e-06\n"
     ]
    },
    {
     "name": "stderr",
     "output_type": "stream",
     "text": [
      "/Users/Tiffany/opt/anaconda3/lib/python3.7/site-packages/statsmodels/tsa/base/tsa_model.py:219: ValueWarning: A date index has been provided, but it has no associated frequency information and so will be ignored when e.g. forecasting.\n",
      "  ' ignored when e.g. forecasting.', ValueWarning)\n",
      "/Users/Tiffany/opt/anaconda3/lib/python3.7/site-packages/statsmodels/tsa/base/tsa_model.py:165: ValueWarning: No frequency information was provided, so inferred frequency 2AS-JAN will be used.\n",
      "  % freq, ValueWarning)\n",
      "/Users/Tiffany/opt/anaconda3/lib/python3.7/site-packages/statsmodels/tsa/base/tsa_model.py:165: ValueWarning: No frequency information was provided, so inferred frequency 2AS-JAN will be used.\n",
      "  % freq, ValueWarning)\n",
      "/Users/Tiffany/opt/anaconda3/lib/python3.7/site-packages/statsmodels/tsa/base/tsa_model.py:165: ValueWarning: No frequency information was provided, so inferred frequency 2AS-JAN will be used.\n",
      "  % freq, ValueWarning)\n",
      "/Users/Tiffany/opt/anaconda3/lib/python3.7/site-packages/statsmodels/tsa/base/tsa_model.py:165: ValueWarning: No frequency information was provided, so inferred frequency 2AS-JAN will be used.\n",
      "  % freq, ValueWarning)\n",
      "/Users/Tiffany/opt/anaconda3/lib/python3.7/site-packages/statsmodels/tsa/base/tsa_model.py:165: ValueWarning: No frequency information was provided, so inferred frequency 2AS-JAN will be used.\n",
      "  % freq, ValueWarning)\n",
      "/Users/Tiffany/opt/anaconda3/lib/python3.7/site-packages/statsmodels/tsa/statespace/sarimax.py:949: UserWarning: Non-stationary starting autoregressive parameters found. Using zeros as starting parameters.\n",
      "  warn('Non-stationary starting autoregressive parameters'\n",
      "/Users/Tiffany/opt/anaconda3/lib/python3.7/site-packages/statsmodels/tsa/statespace/sarimax.py:961: UserWarning: Non-invertible starting MA parameters found. Using zeros as starting parameters.\n",
      "  warn('Non-invertible starting MA parameters found.'\n"
     ]
    },
    {
     "name": "stdout",
     "output_type": "stream",
     "text": [
      "UGC 8508 (I Zw 060)\n",
      "1.8121460932288361e-06\n"
     ]
    },
    {
     "name": "stderr",
     "output_type": "stream",
     "text": [
      "/Users/Tiffany/opt/anaconda3/lib/python3.7/site-packages/statsmodels/tsa/base/tsa_model.py:165: ValueWarning: No frequency information was provided, so inferred frequency 2AS-JAN will be used.\n",
      "  % freq, ValueWarning)\n",
      "/Users/Tiffany/opt/anaconda3/lib/python3.7/site-packages/statsmodels/tsa/statespace/sarimax.py:949: UserWarning: Non-stationary starting autoregressive parameters found. Using zeros as starting parameters.\n",
      "  warn('Non-stationary starting autoregressive parameters'\n",
      "/Users/Tiffany/opt/anaconda3/lib/python3.7/site-packages/statsmodels/tsa/base/tsa_model.py:165: ValueWarning: No frequency information was provided, so inferred frequency 2AS-JAN will be used.\n",
      "  % freq, ValueWarning)\n"
     ]
    },
    {
     "name": "stdout",
     "output_type": "stream",
     "text": [
      "NGC 5237\n",
      "1.7114235043951264e-06\n"
     ]
    },
    {
     "name": "stderr",
     "output_type": "stream",
     "text": [
      "/Users/Tiffany/opt/anaconda3/lib/python3.7/site-packages/statsmodels/tsa/base/tsa_model.py:219: ValueWarning: A date index has been provided, but it has no associated frequency information and so will be ignored when e.g. forecasting.\n",
      "  ' ignored when e.g. forecasting.', ValueWarning)\n",
      "/Users/Tiffany/opt/anaconda3/lib/python3.7/site-packages/statsmodels/tsa/base/tsa_model.py:165: ValueWarning: No frequency information was provided, so inferred frequency 2AS-JAN will be used.\n",
      "  % freq, ValueWarning)\n",
      "/Users/Tiffany/opt/anaconda3/lib/python3.7/site-packages/statsmodels/tsa/base/tsa_model.py:165: ValueWarning: No frequency information was provided, so inferred frequency 2AS-JAN will be used.\n",
      "  % freq, ValueWarning)\n",
      "/Users/Tiffany/opt/anaconda3/lib/python3.7/site-packages/statsmodels/tsa/base/tsa_model.py:165: ValueWarning: No frequency information was provided, so inferred frequency 2AS-JAN will be used.\n",
      "  % freq, ValueWarning)\n"
     ]
    },
    {
     "name": "stdout",
     "output_type": "stream",
     "text": [
      "NGC 5206\n",
      "4.1036840464318455e-06\n"
     ]
    },
    {
     "name": "stderr",
     "output_type": "stream",
     "text": [
      "/Users/Tiffany/opt/anaconda3/lib/python3.7/site-packages/statsmodels/tsa/base/tsa_model.py:219: ValueWarning: A date index has been provided, but it has no associated frequency information and so will be ignored when e.g. forecasting.\n",
      "  ' ignored when e.g. forecasting.', ValueWarning)\n",
      "/Users/Tiffany/opt/anaconda3/lib/python3.7/site-packages/statsmodels/tsa/base/tsa_model.py:165: ValueWarning: No frequency information was provided, so inferred frequency 2AS-JAN will be used.\n",
      "  % freq, ValueWarning)\n",
      "/Users/Tiffany/opt/anaconda3/lib/python3.7/site-packages/statsmodels/tsa/base/tsa_model.py:165: ValueWarning: No frequency information was provided, so inferred frequency 2AS-JAN will be used.\n",
      "  % freq, ValueWarning)\n",
      "/Users/Tiffany/opt/anaconda3/lib/python3.7/site-packages/statsmodels/tsa/base/tsa_model.py:165: ValueWarning: No frequency information was provided, so inferred frequency 2AS-JAN will be used.\n",
      "  % freq, ValueWarning)\n",
      "/Users/Tiffany/opt/anaconda3/lib/python3.7/site-packages/statsmodels/tsa/base/tsa_model.py:219: ValueWarning: A date index has been provided, but it has no associated frequency information and so will be ignored when e.g. forecasting.\n",
      "  ' ignored when e.g. forecasting.', ValueWarning)\n",
      "/Users/Tiffany/opt/anaconda3/lib/python3.7/site-packages/statsmodels/tsa/base/tsa_model.py:165: ValueWarning: No frequency information was provided, so inferred frequency 2AS-JAN will be used.\n",
      "  % freq, ValueWarning)\n",
      "/Users/Tiffany/opt/anaconda3/lib/python3.7/site-packages/statsmodels/tsa/statespace/sarimax.py:949: UserWarning: Non-stationary starting autoregressive parameters found. Using zeros as starting parameters.\n",
      "  warn('Non-stationary starting autoregressive parameters'\n",
      "/Users/Tiffany/opt/anaconda3/lib/python3.7/site-packages/statsmodels/tsa/statespace/sarimax.py:961: UserWarning: Non-invertible starting MA parameters found. Using zeros as starting parameters.\n",
      "  warn('Non-invertible starting MA parameters found.'\n"
     ]
    },
    {
     "name": "stdout",
     "output_type": "stream",
     "text": [
      "NGC 5102\n",
      "3.432554131997273e-06\n"
     ]
    },
    {
     "name": "stderr",
     "output_type": "stream",
     "text": [
      "/Users/Tiffany/opt/anaconda3/lib/python3.7/site-packages/statsmodels/tsa/base/tsa_model.py:165: ValueWarning: No frequency information was provided, so inferred frequency 2AS-JAN will be used.\n",
      "  % freq, ValueWarning)\n",
      "/Users/Tiffany/opt/anaconda3/lib/python3.7/site-packages/statsmodels/tsa/statespace/sarimax.py:949: UserWarning: Non-stationary starting autoregressive parameters found. Using zeros as starting parameters.\n",
      "  warn('Non-stationary starting autoregressive parameters'\n",
      "/Users/Tiffany/opt/anaconda3/lib/python3.7/site-packages/statsmodels/tsa/base/tsa_model.py:165: ValueWarning: No frequency information was provided, so inferred frequency 2AS-JAN will be used.\n",
      "  % freq, ValueWarning)\n"
     ]
    },
    {
     "name": "stdout",
     "output_type": "stream",
     "text": [
      "['NGC 5253']\n"
     ]
    }
   ],
   "source": [
    "#Fitting time series on each galaxy\n",
    "\n",
    "\n",
    "#Train and test set\n",
    "\n",
    "#df_combined['preds'] = df_combined['y'].apply(lambda x:0)\n",
    "\n",
    "pd.reset_option('display.max_rows')\n",
    "\n",
    "\n",
    "order_updated = (1, 0, 1)\n",
    "\n",
    "results_df = pd.DataFrame(columns=['date','y','preds','galaxy','galactic year 1'])\n",
    "error_list = []\n",
    "split_1_y = []\n",
    "split_2_y = []\n",
    "split_0_y = []\n",
    "split_1_preds = []\n",
    "split_2_preds = []\n",
    "split_0_preds = []\n",
    "\n",
    "for g in df.galaxy.unique():\n",
    "    try:\n",
    "        print(g)\n",
    "        df_temp = df[df['galaxy']==g].copy()\n",
    "        df_temp.sort_values(\"galactic year 1\",inplace=True)\n",
    "#             df_temp['galactic year'] = df_temp['galactic year'].apply(lambda x:(np.round((x/1000),0))*2)\n",
    "#             df_temp['galactic year'] = df_temp['galactic year'].astype('int64')\n",
    "#             df_temp['galactic year'] = df_temp['galactic year'].astype('str')\n",
    "#             df_temp['galactic year'] = df_temp['galactic year'] + \"0101\"\n",
    "#             df_temp['date'] = pd.to_datetime(df_temp['galactic year'], yearfirst=True\n",
    "#                                              , format='%Y/%m/%d'\n",
    "#                                             )\n",
    "\n",
    "        df_temp_temp = df_temp[['date','y','galaxy','galactic year 1']]\n",
    "        df_temp_temp_1 = df_temp_temp[['date','y']].copy()\n",
    "        df_temp_temp_1.set_index('date', inplace=True, drop=True)\n",
    "        data = df_temp_temp_1\n",
    "\n",
    "        ts = TimeSeriesSplit(n_splits=3)\n",
    "        splits = [split for split in ts.split(data)]\n",
    "        test_size = splits[0][1].shape[0]\n",
    "\n",
    "        model = sm.tsa.statespace.SARIMAX(data, order=order_updated)\n",
    "\n",
    "        y_train = data.iloc[splits[0][0]]\n",
    "        y_test = data.iloc[splits[0][1]]\n",
    "        model_cv = sm.tsa.statespace.SARIMAX(y_train, order=order_updated)\n",
    "        results_cv = model_cv.fit(maxiter=5000)\n",
    "        pred_test = results_cv.predict(start=0, end=len(y_train)+test_size-1, dynamic=False)[-test_size:]\n",
    "        print(mean_squared_error(y_test, pred_test))\n",
    "        for x in y_test.y:\n",
    "            split_0_y.append(x)\n",
    "        for x in pred_test:\n",
    "            split_0_preds.append(x)\n",
    "\n",
    "\n",
    "        y_train = data.iloc[splits[1][0]]\n",
    "        y_test = data.iloc[splits[1][1]]\n",
    "        model_cv = sm.tsa.statespace.SARIMAX(y_train, order=order_updated)\n",
    "        results_cv = model_cv.fit(maxiter=5000)\n",
    "        pred_test = results_cv.predict(start=0, end=len(y_train)+test_size-1, dynamic=False)[-test_size:]\n",
    "        for z in y_test.y:\n",
    "            split_1_y.append(z)\n",
    "        for z in pred_test:\n",
    "            split_1_preds.append(z)\n",
    "\n",
    "\n",
    "\n",
    "        y_train = data.iloc[splits[2][0]]\n",
    "        y_test = data.iloc[splits[2][1]]\n",
    "        model_cv = sm.tsa.statespace.SARIMAX(y_train, order=order_updated)\n",
    "        results_cv = model_cv.fit(maxiter=5000)\n",
    "        pred_test = results_cv.predict(start=0, end=len(y_train)+test_size-1, dynamic=False)[-test_size:]\n",
    "        for a in y_test.y:\n",
    "            split_2_y.append(a)\n",
    "        for a in pred_test:\n",
    "            split_2_preds.append(a)\n",
    "\n",
    "\n",
    "    except:\n",
    "        None\n",
    "        print('ERROR:',g)\n",
    "        error_list.append(g)\n",
    "#             df_temp = df[df['galaxy']==g].copy()\n",
    "#             df = df[~(df['galaxy']==g)]\n",
    "#             df_temp.sort_values(\"galactic year\",inplace=True)\n",
    "#             df_temp['preds'] = df_temp['y']\n",
    "#             df = pd.concat([df,df_temp])\n",
    "print(error_list)\n",
    "\n",
    "    \n",
    "    \n"
   ]
  },
  {
   "cell_type": "code",
   "execution_count": 118,
   "metadata": {
    "ExecuteTime": {
     "end_time": "2020-06-19T12:06:58.661227Z",
     "start_time": "2020-06-19T12:06:58.643826Z"
    }
   },
   "outputs": [
    {
     "data": {
      "text/plain": [
       "[0.04831394667096667,\n",
       " 0.047988210823426636,\n",
       " 0.047607099434787366,\n",
       " 0.04739223757115285,\n",
       " 0.057700450904955125,\n",
       " 0.05790786805376402,\n",
       " 0.05766313168671821,\n",
       " 0.056803310730746966,\n",
       " 0.05665627727628144,\n",
       " 0.042872955794906235,\n",
       " 0.04246116050721782,\n",
       " 0.04223587128183148,\n",
       " 0.04187490287694684,\n",
       " 0.04042700639692631,\n",
       " 0.04006004667116092,\n",
       " 0.042353110763136304,\n",
       " 0.04191958282654129,\n",
       " 0.041654622451142265,\n",
       " 0.04125751742670525,\n",
       " 0.03906729442321455,\n",
       " 0.038659426169705864,\n",
       " 0.17643830511053638,\n",
       " 0.17713772304222794,\n",
       " 0.18660570069432814,\n",
       " 0.18755680357709315,\n",
       " 0.1878053117445764,\n",
       " 0.1881255199668651,\n",
       " 0.04524263631203906,\n",
       " 0.04480688650501663,\n",
       " 0.04438051495034945,\n",
       " 0.04410695239921747,\n",
       " 0.04371324286565581,\n",
       " 0.0489554368291304,\n",
       " 0.04859092551907662,\n",
       " 0.04824809563634491,\n",
       " 0.04783515900820856,\n",
       " 0.047617765443418884,\n",
       " 0.04713391520343047,\n",
       " 0.056578128682776674,\n",
       " 0.0561662959948267,\n",
       " 0.055934338441882565,\n",
       " 0.05562964746686927,\n",
       " 0.05379468842254676,\n",
       " 0.053510800541836434,\n",
       " 0.046040653659819575,\n",
       " 0.04560741560635617,\n",
       " 0.04542724209772675,\n",
       " 0.04509650767545237,\n",
       " 0.04511527132644821,\n",
       " 0.044887961114126296,\n",
       " 0.04670670522874032,\n",
       " 0.04417739129171516,\n",
       " 0.04383881703118042,\n",
       " 0.043450760050311565,\n",
       " 0.05812574270809279,\n",
       " 0.05811239579459537,\n",
       " 0.05824477136416284,\n",
       " 0.058349070951654536,\n",
       " 0.056665713373640784,\n",
       " 0.04199719767392085,\n",
       " 0.04195608747826751,\n",
       " 0.041649894080847405,\n",
       " 0.039642875866118144,\n",
       " 0.03930134754600378,\n",
       " 0.03896582198247522,\n",
       " 0.1992944050724744,\n",
       " 0.19889140158735866,\n",
       " 0.19991920180821954,\n",
       " 0.19989794371838346,\n",
       " 0.2011529345830184,\n",
       " 0.17502971764426645,\n",
       " 0.18215823134138875,\n",
       " 0.1838492562842019,\n",
       " 0.1854202967224544,\n",
       " 0.0450111440182408,\n",
       " 0.04467507348467814,\n",
       " 0.04461628035778509,\n",
       " 0.04431963243028458,\n",
       " 0.04312157887506873,\n",
       " 0.04284456247615953,\n",
       " 0.08750975315508269,\n",
       " 0.08738930082827101,\n",
       " 0.08756468424332098,\n",
       " 0.0873572586308764,\n",
       " 0.08071627858433372,\n",
       " 0.08056901990560505,\n",
       " 0.0804140871721204,\n",
       " 0.0804425220512508,\n",
       " 0.04628892954615826,\n",
       " 0.04600803545622678,\n",
       " 0.04569511682217975,\n",
       " 0.04555294641924623,\n",
       " 0.06822646183444392,\n",
       " 0.06794476872730992,\n",
       " 0.06815781099293118,\n",
       " 0.06831771146439447,\n",
       " 0.05590962070209127,\n",
       " 0.055815685525710916,\n",
       " 0.05559648536845496,\n",
       " 0.05447176844076018,\n",
       " 0.05428118624386169,\n",
       " 0.054100477060412884,\n",
       " 0.04630607235045425,\n",
       " 0.045954707044966285,\n",
       " 0.04576911984244758,\n",
       " 0.04545027147557201,\n",
       " 0.044021483405951016,\n",
       " 0.043692308062504126,\n",
       " 0.04888949914672469,\n",
       " 0.048552369242051086,\n",
       " 0.04840381316280285,\n",
       " 0.048112464861249316,\n",
       " 0.047569119952013184,\n",
       " 0.2182870043216836,\n",
       " 0.2252404406188806,\n",
       " 0.2260580757001407,\n",
       " 0.2267210531365837,\n",
       " 0.07359554401835433,\n",
       " 0.07329796412713363,\n",
       " 0.0730467932236758,\n",
       " 0.07250865762846438,\n",
       " 0.07426732174341011,\n",
       " 0.07402616923200911,\n",
       " 0.04370900703297942,\n",
       " 0.043373478969970784,\n",
       " 0.04314698669700301,\n",
       " 0.042816744683746966,\n",
       " 0.041045204040142995,\n",
       " 0.04065934002590421,\n",
       " 0.0522065777550722,\n",
       " 0.05193702258872978,\n",
       " 0.051810720068459326,\n",
       " 0.05153919953376618,\n",
       " 0.050482835724767534,\n",
       " 0.05008363860117193,\n",
       " 0.05974586614601896,\n",
       " 0.059441365241519876,\n",
       " 0.05931840801967748,\n",
       " 0.059040013516405636,\n",
       " 0.05945557524588953,\n",
       " 0.05078995706276089,\n",
       " 0.05065113293011658,\n",
       " 0.050387409989564265,\n",
       " 0.04969999211754028,\n",
       " 0.04945229788390526,\n",
       " 0.0489612951466416,\n",
       " 0.07099870017508081,\n",
       " 0.070675296942454,\n",
       " 0.07026494386060445,\n",
       " 0.07003673431752999,\n",
       " 0.1633601476615396,\n",
       " 0.16773791380523795,\n",
       " 0.1691493057294713,\n",
       " 0.17042658267869482,\n",
       " 0.06551088108735181,\n",
       " 0.06485629574648287,\n",
       " 0.06464698951571468,\n",
       " 0.06436802776540718,\n",
       " 0.04518016930654811,\n",
       " 0.04471072165734435,\n",
       " 0.044150584428291666,\n",
       " 0.04397848389488868,\n",
       " 0.052602469712459736,\n",
       " 0.052501604877367325,\n",
       " 0.05233210810609335,\n",
       " 0.05171713878473838,\n",
       " 0.05149038220530555,\n",
       " 0.059734157852936565,\n",
       " 0.059482657631542375,\n",
       " 0.059690512996895324,\n",
       " 0.05948749246337881,\n",
       " 0.058864266915145125,\n",
       " 0.0587351382772684,\n",
       " 0.06862746305059719,\n",
       " 0.06859826023523052,\n",
       " 0.06867656987592408,\n",
       " 0.06857735093578521,\n",
       " 0.0677231239756213,\n",
       " 0.06754551847115386,\n",
       " 0.04725676769580345,\n",
       " 0.04699825735968688,\n",
       " 0.046707553451826415,\n",
       " 0.048050895777570164,\n",
       " 0.05397292661616626,\n",
       " 0.05191592210274743,\n",
       " 0.05160789753222162,\n",
       " 0.05124809003015174,\n",
       " 0.04358055883752865,\n",
       " 0.043187939063637486,\n",
       " 0.042994404748612935,\n",
       " 0.04267447431329319,\n",
       " 0.039812098549491186,\n",
       " 0.03949468883320662,\n",
       " 0.05298856315425937,\n",
       " 0.051570455501306345,\n",
       " 0.051308865862286224,\n",
       " 0.051114916641079484,\n",
       " 0.07714851943295997,\n",
       " 0.07687828761386817,\n",
       " 0.07677940204592347,\n",
       " 0.07654385705019695,\n",
       " 0.07522992782380866,\n",
       " 0.07520564389834472,\n",
       " 0.1600269143327422,\n",
       " 0.16494712451492155,\n",
       " 0.16586597076159038,\n",
       " 0.16677396242935086,\n",
       " 0.07373012618998709,\n",
       " 0.07386442759937417,\n",
       " 0.07325224851529523,\n",
       " 0.0732202294168024,\n",
       " 0.07319143506412706,\n",
       " 0.07337362878167253,\n",
       " 0.043022931047161365,\n",
       " 0.042689781302638334,\n",
       " 0.04231095628131032,\n",
       " 0.04163744868226504,\n",
       " 0.05653189019354055,\n",
       " 0.055098684140582936,\n",
       " 0.05492136803437664,\n",
       " 0.054709875589458834,\n",
       " 0.1099316589471957,\n",
       " 0.11011334486277413,\n",
       " 0.11044182890468113,\n",
       " 0.10994883121420462,\n",
       " 0.11786014603700802,\n",
       " 0.11693149589799975,\n",
       " 0.18598952968801474,\n",
       " 0.18659303768710644,\n",
       " 0.18929318812614604,\n",
       " 0.1899637870658627,\n",
       " 0.18887569431579765,\n",
       " 0.19103590306128748,\n",
       " 0.0852464479585463,\n",
       " 0.08540687069367281,\n",
       " 0.08587531990457531,\n",
       " 0.08586338578230879,\n",
       " 0.08732498460638838,\n",
       " 0.08816692742873866,\n",
       " 0.13367203886678505,\n",
       " 0.13416423843879732,\n",
       " 0.13494223499583768,\n",
       " 0.13576649986653822,\n",
       " 0.13979259519125453,\n",
       " 0.14087648160712296,\n",
       " 0.04936013243794202,\n",
       " 0.04906689514475726,\n",
       " 0.0489074457582398,\n",
       " 0.048316558126021085,\n",
       " 0.04445704315111021,\n",
       " 0.04415940677260144,\n",
       " 0.04381420569250416,\n",
       " 0.04363807256090102,\n",
       " 0.04215710839763887,\n",
       " 0.04182829976536029,\n",
       " 0.041666282924382125,\n",
       " 0.04137911827462215,\n",
       " 0.039424889230026405,\n",
       " 0.09686459553761463,\n",
       " 0.09666488918111572,\n",
       " 0.09673953689167047,\n",
       " 0.09660100001293892,\n",
       " 0.18884839816132493,\n",
       " 0.18951336246766648,\n",
       " 0.19151930112875848,\n",
       " 0.197479633350264,\n",
       " 0.19771599442576449,\n",
       " 0.19800083223286524,\n",
       " 0.06800450250363332,\n",
       " 0.06791811111723911,\n",
       " 0.06805986216401172,\n",
       " 0.06813806144666601,\n",
       " 0.06820503883008887,\n",
       " 0.06874115608691056,\n",
       " 0.07582069554802295,\n",
       " 0.0757369415116449,\n",
       " 0.07565342528778041,\n",
       " 0.07557169509334828,\n",
       " 0.06273286029704728,\n",
       " 0.06082598169981567,\n",
       " 0.06045599132980261,\n",
       " 0.06002858497359233,\n",
       " 0.05956950477871159,\n",
       " 0.059463689750715365,\n",
       " 0.05934477755096679,\n",
       " 0.05931498572451033,\n",
       " 0.06623470770096362,\n",
       " 0.06610252716413445,\n",
       " 0.06580663438802747,\n",
       " 0.06565858714969675,\n",
       " 0.06540320686252665,\n",
       " 0.06504019416215956,\n",
       " 0.06302494961154126,\n",
       " 0.06272368205404655,\n",
       " 0.06280241374100093,\n",
       " 0.06288892865544092,\n",
       " 0.06266804141198623,\n",
       " 0.06301524080449182,\n",
       " 0.06815420760330526,\n",
       " 0.06780992777160177,\n",
       " 0.06741108294089193,\n",
       " 0.06651131155959777,\n",
       " 0.06631591276844773,\n",
       " 0.19544004825615305,\n",
       " 0.19236237626491448,\n",
       " 0.19315499468887365,\n",
       " 0.1947514731486647,\n",
       " 0.16762421023877705,\n",
       " 0.16852185127511576,\n",
       " 0.16934980799142052,\n",
       " 0.17040043053611853,\n",
       " 0.061411241040588586,\n",
       " 0.0614650428159913,\n",
       " 0.06130785948237316,\n",
       " 0.061099545318138326,\n",
       " 0.06117250815521835,\n",
       " 0.3171032619692604,\n",
       " 0.3180328328298786,\n",
       " 0.3202719101885486,\n",
       " 0.3108054748074261,\n",
       " 0.11582390040753288,\n",
       " 0.11943850711877367,\n",
       " 0.11984003428828928,\n",
       " 0.1205739057111862,\n",
       " 0.05833828414750175,\n",
       " 0.057861374782358525,\n",
       " 0.0580128296325344,\n",
       " 0.05805626230848038,\n",
       " 0.0570615273978341,\n",
       " 0.05719619410442101,\n",
       " 0.06496513721911967,\n",
       " 0.06364132949871737,\n",
       " 0.06339207920799705,\n",
       " 0.06318947704801647,\n",
       " 0.0495404959814566,\n",
       " 0.047516985298680085,\n",
       " 0.047142995195676114,\n",
       " 0.046717301096974695,\n",
       " 0.046515458635348006,\n",
       " 0.05045081554971631,\n",
       " 0.04892921946650597,\n",
       " 0.0486722732046555,\n",
       " 0.048375299939661054,\n",
       " 0.06513934460349191,\n",
       " 0.0634326573131776,\n",
       " 0.06315350855913282,\n",
       " 0.06283136294591041,\n",
       " 0.07151199248027218,\n",
       " 0.07118258663574928,\n",
       " 0.0708132849314348,\n",
       " 0.07043008065765721,\n",
       " 0.049436463468551566,\n",
       " 0.04916541222360127,\n",
       " 0.04884222437887109,\n",
       " 0.04868900424674105,\n",
       " 0.05552350150838936,\n",
       " 0.0551110366567732,\n",
       " 0.054623471877069285,\n",
       " 0.054428389411156575,\n",
       " 0.054198789863031616,\n",
       " 0.1473047125947039,\n",
       " 0.14659531061058007,\n",
       " 0.1467052720405665,\n",
       " 0.15189062359823013,\n",
       " 0.15361248803656713,\n",
       " 0.15316769980212508,\n",
       " 0.05511366479124125,\n",
       " 0.05489895576213832,\n",
       " 0.05474032309600242,\n",
       " 0.05534497516525627,\n",
       " 0.04947346923310837,\n",
       " 0.04915554229703334,\n",
       " 0.04744094276853717,\n",
       " 0.04711238502952952,\n",
       " 0.0490193159408342,\n",
       " 0.04873490762593813,\n",
       " 0.048431210736280095,\n",
       " 0.048365806283320316,\n",
       " 0.07144801512011567,\n",
       " 0.07132755548006331,\n",
       " 0.07114200458850617,\n",
       " 0.0711361730279948,\n",
       " 0.0474838395448417,\n",
       " 0.04741375710318807,\n",
       " 0.04717113208968693,\n",
       " 0.04707658450372098,\n",
       " 0.04151585389266721,\n",
       " 0.04143785794656718,\n",
       " 0.04119433272789663,\n",
       " 0.039845506156975685,\n",
       " 0.03953878944134681,\n",
       " 0.03923899451386082,\n",
       " 0.08667472863800474,\n",
       " 0.08668867241576905,\n",
       " 0.08672969593968127,\n",
       " 0.08673102800957089,\n",
       " 0.06365786922128548,\n",
       " 0.06333115863662264,\n",
       " 0.06336008735529741,\n",
       " 0.06072315063564384,\n",
       " 0.04680606294996848,\n",
       " 0.04655769193818682,\n",
       " 0.04619743481112026,\n",
       " 0.044445208176251534,\n",
       " 0.044041671646298686,\n",
       " 0.04365900629048758,\n",
       " 0.0587266794633734,\n",
       " 0.0586384457663357,\n",
       " 0.058090064851247465,\n",
       " 0.0576734165826801,\n",
       " 0.10323902369099036,\n",
       " 0.10885117416690117,\n",
       " 0.10927422621610383,\n",
       " 0.10950777309868176,\n",
       " 0.04762816854871621,\n",
       " 0.04757395404802445,\n",
       " 0.04718224862854215,\n",
       " 0.04695817426045745,\n",
       " 0.06399875352780993,\n",
       " 0.06405920817350398,\n",
       " 0.06352819999078753,\n",
       " 0.06420482254453319,\n",
       " 0.06435768041981682,\n",
       " 0.06912449099351581,\n",
       " 0.06917471645722517,\n",
       " 0.06920109589114143,\n",
       " 0.06936056082613473,\n",
       " 0.06930779238089302,\n",
       " 0.03808730798466686,\n",
       " 0.03785550534448502,\n",
       " 0.037541614591086285,\n",
       " 0.035228762047167635,\n",
       " 0.0348310619308001,\n",
       " 0.03442863823658726,\n",
       " 0.05190296302913098,\n",
       " 0.050472820914204464,\n",
       " 0.05023623428125068,\n",
       " 0.04986564298049023,\n",
       " 0.061292522370320235,\n",
       " 0.061216832723936736,\n",
       " 0.061235124287029374,\n",
       " 0.061178991575313264,\n",
       " 0.06051421386833011,\n",
       " 0.06045066749217243,\n",
       " 0.09420754236446403,\n",
       " 0.09437344989720596,\n",
       " 0.0946057302051091,\n",
       " 0.0947531870739986,\n",
       " 0.09482468286374146,\n",
       " 0.04360694744780347,\n",
       " 0.04331270718844426,\n",
       " 0.04295375143569369,\n",
       " 0.04281819142547205,\n",
       " 0.06250980511684534,\n",
       " 0.06298631788913156,\n",
       " 0.06272360297665447,\n",
       " 0.06202501509914804,\n",
       " 0.062012571782719024,\n",
       " 0.06264643145911343,\n",
       " 0.24324112731476397,\n",
       " 0.2422231401207636,\n",
       " 0.2434090545953869,\n",
       " 0.2460082841893633,\n",
       " 0.2451056200028197,\n",
       " 0.24772569749078865,\n",
       " 0.06363698997663936,\n",
       " 0.06360182124153302,\n",
       " 0.0632439731602148,\n",
       " 0.05437621864214082,\n",
       " 0.0541393612907225,\n",
       " 0.05375227854095799,\n",
       " 0.21598261818142106,\n",
       " 0.2162456577334444,\n",
       " 0.21854405775378427,\n",
       " 0.22861048215276114,\n",
       " 0.2301307648030145,\n",
       " 0.2312570946583007,\n",
       " 0.20278208073201576,\n",
       " 0.20639730262059766,\n",
       " 0.20624335600165444,\n",
       " 0.2165097720515765,\n",
       " 0.21723244979225093,\n",
       " 0.21782645150418767,\n",
       " 0.05698990776233115,\n",
       " 0.05659827378288474,\n",
       " 0.05618696300550996,\n",
       " 0.05575316564841526,\n",
       " 0.05538584982293882,\n",
       " 0.05506279474072662,\n",
       " 0.06898669494055731,\n",
       " 0.06890157103589978,\n",
       " 0.06844505905687548,\n",
       " 0.06847247144993751,\n",
       " 0.06864374146304564,\n",
       " 0.0449868183750568,\n",
       " 0.044694721441322915,\n",
       " 0.04235229978486888,\n",
       " 0.042042423903126735,\n",
       " 0.06585037493196177,\n",
       " 0.0657923922591731,\n",
       " 0.0650310709320191,\n",
       " 0.06496134883790916,\n",
       " 0.059420714399015424,\n",
       " 0.059101613625654574,\n",
       " 0.05926652655236575,\n",
       " 0.05891465904436587,\n",
       " 0.05782002196589898,\n",
       " 0.05272815769517647,\n",
       " 0.052577298342911694,\n",
       " 0.052570646142123915,\n",
       " 0.05250737879122491,\n",
       " 0.050515405017564914,\n",
       " 0.05049320473731711,\n",
       " 0.050380265265065234,\n",
       " 0.05016556008777962,\n",
       " 0.05016204670328138,\n",
       " 0.049941112105226886,\n",
       " 0.05023366509680205,\n",
       " 0.05360482562478952,\n",
       " 0.0532417498606389,\n",
       " 0.05282393429594756,\n",
       " 0.05171516834784362,\n",
       " 0.11308129085566665,\n",
       " 0.11397747810674864,\n",
       " 0.114204771209922,\n",
       " 0.11325228863651815,\n",
       " 0.11355788941199607,\n",
       " 0.09020395421323456,\n",
       " 0.0907073171684194,\n",
       " 0.09299018396343528,\n",
       " 0.09359008809340663,\n",
       " 0.17095662047710447,\n",
       " 0.17103817567979862,\n",
       " 0.17129562872371284,\n",
       " 0.17156682018931224,\n",
       " 0.06728449609658027,\n",
       " 0.06721448789150575,\n",
       " 0.06709989192418497,\n",
       " 0.06716853083273744,\n",
       " 0.04240087793768976,\n",
       " 0.042106471249024335,\n",
       " 0.04175711052096287,\n",
       " 0.04170929252534239,\n",
       " 0.049527347134349135,\n",
       " 0.04778705237792436,\n",
       " 0.04749159763500044,\n",
       " 0.047052976036546346,\n",
       " 0.045921428139844456,\n",
       " 0.04557675268936612,\n",
       " 0.04530263127268275,\n",
       " 0.045029085407026666,\n",
       " 0.04344529652456408,\n",
       " 0.04322055106855327,\n",
       " 0.23722402241778984,\n",
       " 0.2393673912570977,\n",
       " 0.2414813564399355,\n",
       " 0.2425780650363184,\n",
       " 0.050661714271521004,\n",
       " 0.04887678410368247,\n",
       " 0.04854229135819589,\n",
       " 0.04816035566274601,\n",
       " 0.048283010593180735,\n",
       " 0.04790973658835085,\n",
       " 0.04772743651227418,\n",
       " 0.047416588344124766,\n",
       " 0.04538953242891053,\n",
       " 0.05395012217277106,\n",
       " 0.053981036078912026,\n",
       " 0.05365946683656042,\n",
       " 0.051821245032682935,\n",
       " 0.051471296774672326,\n",
       " 0.051176039674694085,\n",
       " 0.058586221965381324,\n",
       " 0.05845433574356251,\n",
       " 0.05828506517164489,\n",
       " 0.05817705142287721,\n",
       " 0.14097368595394566,\n",
       " 0.14353692430145934,\n",
       " 0.14460013404538685,\n",
       " 0.14926144228243954,\n",
       " 0.15025119883825144,\n",
       " 0.1508714509965463,\n",
       " 0.04433739832039242,\n",
       " 0.04394806784746464,\n",
       " 0.04365971559137349,\n",
       " 0.04326521773221281,\n",
       " 0.040992239643647836,\n",
       " 0.04073986080838954,\n",
       " 0.06561270740111924,\n",
       " 0.06555665391512022,\n",
       " 0.06569911254056815,\n",
       " 0.06451288407534539,\n",
       " 0.06417022849958443,\n",
       " 0.06380592766410997,\n",
       " 0.10583051873118464,\n",
       " 0.10546900188331787,\n",
       " 0.10507151498840904,\n",
       " 0.1049847742504436,\n",
       " 0.1052734599119154,\n",
       " 0.044237599221739865,\n",
       " 0.044144592441610286,\n",
       " 0.0438525784635303,\n",
       " 0.042232257936388067,\n",
       " 0.04191388590892442,\n",
       " 0.04166515467903886,\n",
       " 0.04369813369562337,\n",
       " 0.043330226478510925,\n",
       " 0.04152898715826503,\n",
       " 0.04121841890812217,\n",
       " 0.04104921304894271,\n",
       " 0.04094518225265742,\n",
       " 0.04698815868747197,\n",
       " 0.046679772538729236,\n",
       " 0.04431081270094295,\n",
       " 0.04396492667445151,\n",
       " 0.0451298320698541,\n",
       " 0.04259302196535497,\n",
       " 0.04221615537918666,\n",
       " 0.04194390111684898,\n",
       " 0.04194680418137087,\n",
       " 0.04153560766292408,\n",
       " 0.04132914223098838,\n",
       " 0.04097771206125922,\n",
       " 0.03835896223086432,\n",
       " 0.04820031619201903,\n",
       " 0.0479330393896632,\n",
       " 0.04761493903024838,\n",
       " 0.047549795798431334,\n",
       " 0.04734543911840172,\n",
       " 0.04171147889926885,\n",
       " 0.04140393848720747,\n",
       " 0.04105840352549917,\n",
       " 0.04087669378897485,\n",
       " 0.04058630330296453,\n",
       " 0.05467440660670031,\n",
       " 0.05483592562951267,\n",
       " 0.054613232695296055,\n",
       " 0.0537596125406129,\n",
       " 0.05349483782705533,\n",
       " 0.05318403747633471,\n",
       " 0.056978788963011014,\n",
       " 0.05663554173618712,\n",
       " 0.05657187615713044,\n",
       " 0.056273555964029616,\n",
       " 0.055074759082436316,\n",
       " 0.04417621886399215,\n",
       " 0.04382914699995222,\n",
       " 0.04349504525081493,\n",
       " 0.04118300994925938,\n",
       " 0.04090010670457811,\n",
       " 0.04483931205222536,\n",
       " 0.04445687771197149,\n",
       " 0.044021265848918856,\n",
       " 0.04385205494656763,\n",
       " 0.04348179817174791,\n",
       " 0.04515487749099168,\n",
       " 0.044816864845834026,\n",
       " 0.04465514238780621,\n",
       " 0.044361662949569995,\n",
       " 0.042725771024695436,\n",
       " 0.042398066954278835,\n",
       " 0.09338333023759147,\n",
       " 0.09460199129105352,\n",
       " 0.0953467936161252,\n",
       " 0.0964685437834404,\n",
       " 0.09661292568814928,\n",
       " 0.0966857862521916,\n",
       " 0.04403814675083306,\n",
       " 0.04141559148766405,\n",
       " 0.04107555396164742,\n",
       " 0.04070497659064254,\n",
       " 0.054925789166310864,\n",
       " 0.054804022890783344,\n",
       " 0.054554752612206665,\n",
       " 0.052521993712846826,\n",
       " 0.05212708930706656,\n",
       " 0.05181488903145204,\n",
       " 0.04276469189623777,\n",
       " 0.04247857673513433,\n",
       " 0.04212359541236699,\n",
       " 0.04150377464213029,\n",
       " 0.05482912711659183,\n",
       " 0.05376330929109463,\n",
       " 0.05349447989539191,\n",
       " 0.05321036212923237,\n",
       " 0.10735874292744074,\n",
       " 0.1074489561283648,\n",
       " 0.10749752363713304,\n",
       " 0.10634445293970583,\n",
       " 0.03886556648083017,\n",
       " 0.038525580475480936,\n",
       " 0.038129358669943714,\n",
       " 0.03792324805561709,\n",
       " 0.03757755084505854,\n",
       " 0.1903122942706229,\n",
       " 0.19072758168484985,\n",
       " 0.19139772525197274,\n",
       " 0.19225458592108047,\n",
       " 0.1990605437559937,\n",
       " 0.19939549548048607,\n",
       " 0.04249396588213095,\n",
       " 0.04220751497195863,\n",
       " 0.04211309805950725,\n",
       " 0.041882257289027065,\n",
       " 0.040793591221553134,\n",
       " 0.040598949795350385,\n",
       " 0.06154864677950811,\n",
       " 0.06122826521688629,\n",
       " 0.06360714818672908,\n",
       " 0.0633751467242697,\n",
       " 0.06339979706833042,\n",
       " 0.06335816495807145,\n",
       " 0.05373438465185798,\n",
       " 0.05342210751420329,\n",
       " 0.053259516991141176,\n",
       " 0.0530082145943328,\n",
       " 0.0528595958054876,\n",
       " 0.052575521667080787,\n",
       " 0.08442962823464373,\n",
       " 0.0846620622110047,\n",
       " 0.08555230385274892,\n",
       " 0.0858483170872989,\n",
       " 0.08892239438498739,\n",
       " 0.08972788859885282,\n",
       " 0.04565759536275072,\n",
       " 0.045347445766083405,\n",
       " 0.04500428499804121,\n",
       " 0.04475706207637131,\n",
       " 0.2382920668497375,\n",
       " 0.2524557253974422,\n",
       " 0.25327931256031466,\n",
       " 0.2540020168130278,\n",
       " 0.04372904784026177,\n",
       " 0.04337102301642681,\n",
       " 0.04318173703298811,\n",
       " 0.0428588775149199,\n",
       " 0.040749811423772216,\n",
       " 0.04042177741882103,\n",
       " 0.15767654014558485,\n",
       " 0.1611259219287715,\n",
       " 0.15312560484509108,\n",
       " 0.1534501556369653,\n",
       " 0.15337577044701545,\n",
       " 0.1541300417350533,\n",
       " 0.22572891116750005,\n",
       " 0.2270415912122854,\n",
       " 0.2259656158990461,\n",
       " 0.2268815489402499,\n",
       " 0.2390065215747665,\n",
       " 0.2407406521974137,\n",
       " 0.04540602017783535,\n",
       " 0.04501967046594912,\n",
       " 0.044688078930859465,\n",
       " 0.04432418009400518,\n",
       " 0.04206155098500708,\n",
       " 0.04157353534439312,\n",
       " 0.042940836279402934,\n",
       " 0.042572575183381985,\n",
       " 0.04236869802597487,\n",
       " 0.0420335836329736,\n",
       " 0.03952463973114295,\n",
       " 0.039192992856295183,\n",
       " 0.04658664806234769,\n",
       " 0.04472700336136315,\n",
       " 0.04435943854690017,\n",
       " 0.04385802653053983,\n",
       " 0.04275773977197839,\n",
       " 0.042469106844853936,\n",
       " 0.0420611323643747,\n",
       " 0.0400811853573565,\n",
       " 0.03974336121704836,\n",
       " 0.03934969132724042,\n",
       " 0.19327714503076354,\n",
       " 0.19318484389502733,\n",
       " 0.19235276334346907,\n",
       " 0.18989466440876604,\n",
       " 0.19387545023229447,\n",
       " 0.19426320150281728,\n",
       " 0.07986755647460453,\n",
       " 0.07990673353348042,\n",
       " 0.07982803472981148,\n",
       " 0.07964961094024403,\n",
       " 0.17850735067550316,\n",
       " 0.18027158026980328,\n",
       " 0.18187913584565496,\n",
       " 0.18404454183236674,\n",
       " 0.17643785083122032,\n",
       " 0.17654386839318534,\n",
       " 0.1767674762148722,\n",
       " 0.1768325477974516,\n",
       " 0.1798588012203688,\n",
       " 0.0629638997560591,\n",
       " 0.06230475154379134,\n",
       " 0.062033819725115236,\n",
       " 0.06236767046500302,\n",
       " 0.06179498891553248,\n",
       " 0.06151823507722221,\n",
       " 0.3793983959729649,\n",
       " 0.3775972993425145,\n",
       " 0.379856945125693,\n",
       " 0.3664833267635539,\n",
       " 0.3681720055002857,\n",
       " 0.3679956659920088,\n",
       " 0.04269068031075096,\n",
       " 0.042319601517299736,\n",
       " 0.04212003499847428,\n",
       " 0.04179011246384602,\n",
       " 0.04029520100157692,\n",
       " 0.039984866607606806,\n",
       " 0.2907961548546484,\n",
       " 0.2915716726126272,\n",
       " 0.29416155285121404,\n",
       " 0.29672833342004834,\n",
       " 0.29465355748568256,\n",
       " 0.1005181826234236,\n",
       " 0.10048936063111236,\n",
       " 0.1006347416940514,\n",
       " 0.10063562145777373,\n",
       " 0.10259491793611353,\n",
       " 0.10260925455173844,\n",
       " 0.04447484143803293,\n",
       " 0.04418577322975637,\n",
       " 0.04384879200903824,\n",
       " 0.04572230935743948,\n",
       " 0.04219258496127931,\n",
       " 0.041997043791811565,\n",
       " 0.04165286878489738,\n",
       " 0.03989752424055637,\n",
       " 0.03955758436671242,\n",
       " 0.03921850250569437,\n",
       " 0.05040486918214093,\n",
       " 0.05052606277398819,\n",
       " 0.050385243588909064,\n",
       " 0.049278881125936036,\n",
       " 0.049436784714789295,\n",
       " 0.047314876702660436,\n",
       " 0.04522010062048032,\n",
       " 0.04487925846941322,\n",
       " 0.04448590977077749,\n",
       " 0.0555598995600699,\n",
       " 0.05537380162488181,\n",
       " 0.05503669927975519,\n",
       " 0.054873615668005186,\n",
       " 0.05457119924130893,\n",
       " 0.055802586121868385,\n",
       " 0.055647275756125165,\n",
       " 0.05578023177334035,\n",
       " 0.055550136503296536,\n",
       " 0.05388738406329874,\n",
       " 0.05355366099592851,\n",
       " 0.05799066642915617,\n",
       " 0.057932769394106076,\n",
       " 0.05641827746847172,\n",
       " 0.05602987571463458,\n",
       " 0.042948473905582096,\n",
       " 0.042603753638703945,\n",
       " 0.04217559585835495,\n",
       " 0.04195969449078485,\n",
       " 0.10001906164617592,\n",
       " 0.10017366537437633,\n",
       " 0.10033288866881927,\n",
       " 0.10087278768432564,\n",
       " 0.06301266363816073,\n",
       " 0.06274467567538011,\n",
       " 0.06264374371649882,\n",
       " 0.062413694489571576,\n",
       " 0.060723516202009886,\n",
       " 0.0937315159325618,\n",
       " 0.0942913545490629,\n",
       " 0.09471355763802393,\n",
       " 0.0949451489648202,\n",
       " 0.09913869635988216,\n",
       " 0.04473175965934662,\n",
       " 0.04275544034891987,\n",
       " 0.04245580250762794,\n",
       " 0.04207866993661913,\n",
       " 0.1373656966926997,\n",
       " 0.13785080638868108,\n",
       " 0.13820535133732748,\n",
       " 0.13846844374139367,\n",
       " 0.1399555151899924,\n",
       " 0.12578318571152092,\n",
       " 0.12581571031375005,\n",
       " 0.12585772239868853,\n",
       " 0.12592228194533195,\n",
       " 0.12588662749303725,\n",
       " 0.1259606003712248,\n",
       " 0.044967009422584026,\n",
       " 0.04464482936523717,\n",
       " 0.04447062135009383,\n",
       " 0.04419651966316873,\n",
       " 0.04225239147228599,\n",
       " 0.04184939658191178,\n",
       " 0.16316242344425014,\n",
       " 0.16350069534595413,\n",
       " 0.16376439742817062,\n",
       " 0.1654475632235537]"
      ]
     },
     "execution_count": 118,
     "metadata": {},
     "output_type": "execute_result"
    }
   ],
   "source": [
    "split_1_y"
   ]
  },
  {
   "cell_type": "code",
   "execution_count": 121,
   "metadata": {
    "ExecuteTime": {
     "end_time": "2020-06-19T12:08:02.037307Z",
     "start_time": "2020-06-19T12:08:02.028156Z"
    }
   },
   "outputs": [
    {
     "name": "stdout",
     "output_type": "stream",
     "text": [
      "[0.099220578970572, 0.10247648281240321, 0.11944302609203085]\n",
      "0.10704669595833534\n"
     ]
    }
   ],
   "source": [
    "# (p,d,q)=(0,0,0)\n",
    "\n",
    "rmses = []\n",
    "\n",
    "rmses.append(mean_squared_error(split_0_y, split_0_preds, squared=False))\n",
    "rmses.append(mean_squared_error(split_1_y, split_1_preds, squared=False))\n",
    "rmses.append(mean_squared_error(split_2_y, split_2_preds, squared=False))\n",
    "\n",
    "print(rmses)\n",
    "print(np.mean(rmses))"
   ]
  },
  {
   "cell_type": "code",
   "execution_count": 116,
   "metadata": {
    "ExecuteTime": {
     "end_time": "2020-06-19T12:05:41.782980Z",
     "start_time": "2020-06-19T12:05:41.772883Z"
    }
   },
   "outputs": [
    {
     "name": "stdout",
     "output_type": "stream",
     "text": [
      "[0.0032529323196517743, 0.003949890099708338, 0.033219630858886344]\n",
      "0.01347415109274882\n"
     ]
    }
   ],
   "source": [
    "#(1,1,0)\n",
    "\n",
    "rmses = []\n",
    "\n",
    "rmses.append(mean_squared_error(split_0_y, split_0_preds, squared=False))\n",
    "rmses.append(mean_squared_error(split_1_y, split_1_preds, squared=False))\n",
    "rmses.append(mean_squared_error(split_2_y, split_2_preds, squared=False))\n",
    "\n",
    "print(rmses)\n",
    "print(np.mean(rmses))"
   ]
  },
  {
   "cell_type": "code",
   "execution_count": 123,
   "metadata": {
    "ExecuteTime": {
     "end_time": "2020-06-19T12:09:39.058699Z",
     "start_time": "2020-06-19T12:09:39.049719Z"
    }
   },
   "outputs": [
    {
     "name": "stdout",
     "output_type": "stream",
     "text": [
      "[0.0033956833146390327, 0.004662256149841478, 0.03231765974247019]\n",
      "0.013458533068983565\n"
     ]
    }
   ],
   "source": [
    "#(1,0,1)\n",
    "\n",
    "rmses = []\n",
    "\n",
    "rmses.append(mean_squared_error(split_0_y, split_0_preds, squared=False))\n",
    "rmses.append(mean_squared_error(split_1_y, split_1_preds, squared=False))\n",
    "rmses.append(mean_squared_error(split_2_y, split_2_preds, squared=False))\n",
    "\n",
    "print(rmses)\n",
    "print(np.mean(rmses))"
   ]
  },
  {
   "cell_type": "code",
   "execution_count": 119,
   "metadata": {
    "ExecuteTime": {
     "end_time": "2020-06-19T12:06:58.674817Z",
     "start_time": "2020-06-19T12:06:58.665883Z"
    }
   },
   "outputs": [
    {
     "name": "stdout",
     "output_type": "stream",
     "text": [
      "[0.0036084696918581077, 0.00392070600476079, 0.03185094788864337]\n",
      "0.013126707861754091\n"
     ]
    }
   ],
   "source": [
    "# (p,d,q)=(1,0,0)\n",
    "\n",
    "rmses = []\n",
    "\n",
    "rmses.append(mean_squared_error(split_0_y, split_0_preds, squared=False))\n",
    "rmses.append(mean_squared_error(split_1_y, split_1_preds, squared=False))\n",
    "rmses.append(mean_squared_error(split_2_y, split_2_preds, squared=False))\n",
    "\n",
    "print(rmses)\n",
    "print(np.mean(rmses))"
   ]
  },
  {
   "cell_type": "code",
   "execution_count": 76,
   "metadata": {
    "ExecuteTime": {
     "end_time": "2020-06-19T10:50:20.866298Z",
     "start_time": "2020-06-19T10:50:20.860242Z"
    }
   },
   "outputs": [
    {
     "data": {
      "text/plain": [
       "897"
      ]
     },
     "execution_count": 76,
     "metadata": {},
     "output_type": "execute_result"
    }
   ],
   "source": [
    "len(split_2_y)\n",
    "len(split_2_preds)"
   ]
  },
  {
   "cell_type": "code",
   "execution_count": 78,
   "metadata": {
    "ExecuteTime": {
     "end_time": "2020-06-19T10:50:45.888370Z",
     "start_time": "2020-06-19T10:50:45.857208Z"
    }
   },
   "outputs": [
    {
     "data": {
      "text/html": [
       "<div>\n",
       "<style scoped>\n",
       "    .dataframe tbody tr th:only-of-type {\n",
       "        vertical-align: middle;\n",
       "    }\n",
       "\n",
       "    .dataframe tbody tr th {\n",
       "        vertical-align: top;\n",
       "    }\n",
       "\n",
       "    .dataframe thead th {\n",
       "        text-align: right;\n",
       "    }\n",
       "</style>\n",
       "<table border=\"1\" class=\"dataframe\">\n",
       "  <thead>\n",
       "    <tr style=\"text-align: right;\">\n",
       "      <th></th>\n",
       "      <th>Adjusted net savings</th>\n",
       "      <th>Adolescent birth rate (births per 1,000 female creatures ages 15-19)</th>\n",
       "      <th>Creature Immunodeficiency Disease prevalence, adult (% ages 15-49), total</th>\n",
       "      <th>Current health expenditure (% of GGP)</th>\n",
       "      <th>Domestic credit provided by financial sector (% of GGP)</th>\n",
       "      <th>Education Index</th>\n",
       "      <th>Employment in agriculture (% of total employment)</th>\n",
       "      <th>Employment in services (% of total employment)</th>\n",
       "      <th>Employment to population ratio (% ages 15 and older)</th>\n",
       "      <th>Estimated gross galactic income per capita, female</th>\n",
       "      <th>...</th>\n",
       "      <th>Vulnerable employment (% of total employment)</th>\n",
       "      <th>Young age (0-14) dependency ratio (per 100 creatures ages 15-64)</th>\n",
       "      <th>Youth unemployment rate (female to male ratio)</th>\n",
       "      <th>existence expectancy at birth</th>\n",
       "      <th>existence expectancy index</th>\n",
       "      <th>galactic year</th>\n",
       "      <th>galaxy</th>\n",
       "      <th>y</th>\n",
       "      <th>galactic year 1</th>\n",
       "      <th>date</th>\n",
       "    </tr>\n",
       "  </thead>\n",
       "  <tbody>\n",
       "    <tr>\n",
       "      <td>144</td>\n",
       "      <td>20.751377</td>\n",
       "      <td>114.074664</td>\n",
       "      <td>6.313144</td>\n",
       "      <td>8.536079</td>\n",
       "      <td>119.963809</td>\n",
       "      <td>0.750846</td>\n",
       "      <td>55.203046</td>\n",
       "      <td>67.082939</td>\n",
       "      <td>69.150998</td>\n",
       "      <td>22013.091432</td>\n",
       "      <td>...</td>\n",
       "      <td>69.460892</td>\n",
       "      <td>79.295416</td>\n",
       "      <td>2.257781</td>\n",
       "      <td>77.382893</td>\n",
       "      <td>0.882087</td>\n",
       "      <td>990025</td>\n",
       "      <td>NGC 5253</td>\n",
       "      <td>0.045115</td>\n",
       "      <td>19800101</td>\n",
       "      <td>1980-01-01</td>\n",
       "    </tr>\n",
       "  </tbody>\n",
       "</table>\n",
       "<p>1 rows × 82 columns</p>\n",
       "</div>"
      ],
      "text/plain": [
       "     Adjusted net savings   \\\n",
       "144              20.751377   \n",
       "\n",
       "     Adolescent birth rate (births per 1,000 female creatures ages 15-19)  \\\n",
       "144                                         114.074664                      \n",
       "\n",
       "     Creature Immunodeficiency Disease prevalence, adult (% ages 15-49), total  \\\n",
       "144                                           6.313144                           \n",
       "\n",
       "     Current health expenditure (% of GGP)  \\\n",
       "144                               8.536079   \n",
       "\n",
       "     Domestic credit provided by financial sector (% of GGP)  Education Index  \\\n",
       "144                                         119.963809               0.750846   \n",
       "\n",
       "     Employment in agriculture (% of total employment)  \\\n",
       "144                                          55.203046   \n",
       "\n",
       "     Employment in services (% of total employment)  \\\n",
       "144                                       67.082939   \n",
       "\n",
       "     Employment to population ratio (% ages 15 and older)  \\\n",
       "144                                          69.150998      \n",
       "\n",
       "     Estimated gross galactic income per capita, female  ...  \\\n",
       "144                                       22013.091432   ...   \n",
       "\n",
       "     Vulnerable employment (% of total employment)  \\\n",
       "144                                      69.460892   \n",
       "\n",
       "     Young age (0-14) dependency ratio (per 100 creatures ages 15-64)  \\\n",
       "144                                          79.295416                  \n",
       "\n",
       "     Youth unemployment rate (female to male ratio)  \\\n",
       "144                                        2.257781   \n",
       "\n",
       "     existence expectancy at birth  existence expectancy index  galactic year  \\\n",
       "144                      77.382893                    0.882087         990025   \n",
       "\n",
       "       galaxy         y  galactic year 1       date  \n",
       "144  NGC 5253  0.045115         19800101 1980-01-01  \n",
       "\n",
       "[1 rows x 82 columns]"
      ]
     },
     "execution_count": 78,
     "metadata": {},
     "output_type": "execute_result"
    }
   ],
   "source": [
    "df[df['galaxy']=='NGC 5253']"
   ]
  },
  {
   "cell_type": "markdown",
   "metadata": {},
   "source": [
    "# Time Series - just for y - modelling\n"
   ]
  },
  {
   "cell_type": "code",
   "execution_count": 126,
   "metadata": {
    "ExecuteTime": {
     "end_time": "2020-06-19T12:16:31.322307Z",
     "start_time": "2020-06-19T12:16:31.196425Z"
    }
   },
   "outputs": [
    {
     "name": "stderr",
     "output_type": "stream",
     "text": [
      "/Users/Tiffany/opt/anaconda3/lib/python3.7/site-packages/ipykernel_launcher.py:9: FutureWarning: Sorting because non-concatenation axis is not aligned. A future version\n",
      "of pandas will change to not sort by default.\n",
      "\n",
      "To accept the future behavior, pass 'sort=False'.\n",
      "\n",
      "To retain the current behavior and silence the warning, pass 'sort=True'.\n",
      "\n",
      "  if __name__ == '__main__':\n"
     ]
    }
   ],
   "source": [
    "#Loading in combined train and test set\n",
    "\n",
    "df = pd.read_csv('train.csv')\n",
    "df_test = pd.read_csv('test.csv')\n",
    "\n",
    "df[\"train_test\"] = 'train'\n",
    "df_test[\"train_test\"] = \"test\"\n",
    "\n",
    "df_combined = pd.concat([df,df_test])\n"
   ]
  },
  {
   "cell_type": "code",
   "execution_count": 127,
   "metadata": {
    "ExecuteTime": {
     "end_time": "2020-06-19T12:16:43.274190Z",
     "start_time": "2020-06-19T12:16:31.998532Z"
    }
   },
   "outputs": [],
   "source": [
    "#Linear interpolation on all features\n",
    "\n",
    "def interpolator(df):\n",
    "    for g in df.galaxy.unique():\n",
    "        #splitting out the individual galaxies\n",
    "        df_temp = df[df['galaxy']==g].copy()\n",
    "        df = df[~(df['galaxy']==g)]\n",
    "        #filling the Nans (first with interpolation and then backfilling if missing for start)\n",
    "        df_temp.sort_values(\"galactic year\",inplace=True)\n",
    "        df_temp.interpolate(method='linear',inplace=True)\n",
    "        df_temp.fillna(method ='bfill',inplace=True)\n",
    "        df_temp.fillna(method ='ffill',inplace=True)\n",
    "        #adding back to dataframe\n",
    "        df = pd.concat([df,df_temp])\n",
    "    #filling the Nans for any which didnt have anything to fill at all\n",
    "    df.fillna(df.mean(),inplace=True)\n",
    "    return df\n",
    "\n",
    "df_combined = interpolator(df_combined)\n",
    "#df_combined = pd.get_dummies(df_combined, columns=['galaxy'])\n",
    "df = df_combined[df_combined[\"train_test\"]=='train'].copy()\n",
    "df_test = df_combined[df_combined[\"train_test\"]=='test'].copy()\n",
    "df.drop('train_test',axis=1,inplace=True)\n",
    "df_test.drop('train_test',axis=1,inplace=True)\n"
   ]
  },
  {
   "cell_type": "code",
   "execution_count": 128,
   "metadata": {
    "ExecuteTime": {
     "end_time": "2020-06-19T12:16:43.319228Z",
     "start_time": "2020-06-19T12:16:43.276097Z"
    }
   },
   "outputs": [
    {
     "data": {
      "text/html": [
       "<div>\n",
       "<style scoped>\n",
       "    .dataframe tbody tr th:only-of-type {\n",
       "        vertical-align: middle;\n",
       "    }\n",
       "\n",
       "    .dataframe tbody tr th {\n",
       "        vertical-align: top;\n",
       "    }\n",
       "\n",
       "    .dataframe thead th {\n",
       "        text-align: right;\n",
       "    }\n",
       "</style>\n",
       "<table border=\"1\" class=\"dataframe\">\n",
       "  <thead>\n",
       "    <tr style=\"text-align: right;\">\n",
       "      <th></th>\n",
       "      <th>Adjusted net savings</th>\n",
       "      <th>Adolescent birth rate (births per 1,000 female creatures ages 15-19)</th>\n",
       "      <th>Creature Immunodeficiency Disease prevalence, adult (% ages 15-49), total</th>\n",
       "      <th>Current health expenditure (% of GGP)</th>\n",
       "      <th>Domestic credit provided by financial sector (% of GGP)</th>\n",
       "      <th>Education Index</th>\n",
       "      <th>Employment in agriculture (% of total employment)</th>\n",
       "      <th>Employment in services (% of total employment)</th>\n",
       "      <th>Employment to population ratio (% ages 15 and older)</th>\n",
       "      <th>Estimated gross galactic income per capita, female</th>\n",
       "      <th>...</th>\n",
       "      <th>Unemployment, total (% of labour force)</th>\n",
       "      <th>Unemployment, youth (% ages 15–24)</th>\n",
       "      <th>Vulnerable employment (% of total employment)</th>\n",
       "      <th>Young age (0-14) dependency ratio (per 100 creatures ages 15-64)</th>\n",
       "      <th>Youth unemployment rate (female to male ratio)</th>\n",
       "      <th>existence expectancy at birth</th>\n",
       "      <th>existence expectancy index</th>\n",
       "      <th>galactic year</th>\n",
       "      <th>galaxy</th>\n",
       "      <th>y</th>\n",
       "    </tr>\n",
       "  </thead>\n",
       "  <tbody>\n",
       "    <tr>\n",
       "      <td>0</td>\n",
       "      <td>43.391708</td>\n",
       "      <td>174.617899</td>\n",
       "      <td>6.313144</td>\n",
       "      <td>6.248891</td>\n",
       "      <td>75.604799</td>\n",
       "      <td>0.526375</td>\n",
       "      <td>96.827657</td>\n",
       "      <td>53.392606</td>\n",
       "      <td>76.506783</td>\n",
       "      <td>16498.415777</td>\n",
       "      <td>...</td>\n",
       "      <td>6.682524</td>\n",
       "      <td>21.261283</td>\n",
       "      <td>91.911151</td>\n",
       "      <td>98.216072</td>\n",
       "      <td>2.184798</td>\n",
       "      <td>63.125200</td>\n",
       "      <td>0.628657</td>\n",
       "      <td>990025</td>\n",
       "      <td>Large Magellanic Cloud (LMC)</td>\n",
       "      <td>0.052590</td>\n",
       "    </tr>\n",
       "    <tr>\n",
       "      <td>194</td>\n",
       "      <td>43.391708</td>\n",
       "      <td>165.945907</td>\n",
       "      <td>6.313144</td>\n",
       "      <td>6.248891</td>\n",
       "      <td>73.837393</td>\n",
       "      <td>0.526375</td>\n",
       "      <td>96.827657</td>\n",
       "      <td>53.392606</td>\n",
       "      <td>76.506783</td>\n",
       "      <td>16498.415777</td>\n",
       "      <td>...</td>\n",
       "      <td>6.682524</td>\n",
       "      <td>21.261283</td>\n",
       "      <td>91.911151</td>\n",
       "      <td>95.964868</td>\n",
       "      <td>2.184798</td>\n",
       "      <td>62.389059</td>\n",
       "      <td>0.627245</td>\n",
       "      <td>991020</td>\n",
       "      <td>Large Magellanic Cloud (LMC)</td>\n",
       "      <td>0.052115</td>\n",
       "    </tr>\n",
       "    <tr>\n",
       "      <td>410</td>\n",
       "      <td>43.391708</td>\n",
       "      <td>157.273915</td>\n",
       "      <td>6.313144</td>\n",
       "      <td>6.248891</td>\n",
       "      <td>72.069987</td>\n",
       "      <td>0.526375</td>\n",
       "      <td>95.022335</td>\n",
       "      <td>50.937661</td>\n",
       "      <td>76.302787</td>\n",
       "      <td>16498.415777</td>\n",
       "      <td>...</td>\n",
       "      <td>6.879042</td>\n",
       "      <td>21.365068</td>\n",
       "      <td>93.217778</td>\n",
       "      <td>93.713664</td>\n",
       "      <td>2.114685</td>\n",
       "      <td>68.794245</td>\n",
       "      <td>0.662135</td>\n",
       "      <td>992016</td>\n",
       "      <td>Large Magellanic Cloud (LMC)</td>\n",
       "      <td>0.052006</td>\n",
       "    </tr>\n",
       "    <tr>\n",
       "      <td>543</td>\n",
       "      <td>43.391708</td>\n",
       "      <td>148.601923</td>\n",
       "      <td>6.313144</td>\n",
       "      <td>6.248891</td>\n",
       "      <td>70.302580</td>\n",
       "      <td>0.526375</td>\n",
       "      <td>93.217014</td>\n",
       "      <td>48.482717</td>\n",
       "      <td>76.098791</td>\n",
       "      <td>16498.415777</td>\n",
       "      <td>...</td>\n",
       "      <td>7.075560</td>\n",
       "      <td>21.468853</td>\n",
       "      <td>94.524405</td>\n",
       "      <td>91.462460</td>\n",
       "      <td>2.044571</td>\n",
       "      <td>62.848660</td>\n",
       "      <td>0.687776</td>\n",
       "      <td>993012</td>\n",
       "      <td>Large Magellanic Cloud (LMC)</td>\n",
       "      <td>0.051675</td>\n",
       "    </tr>\n",
       "    <tr>\n",
       "      <td>765</td>\n",
       "      <td>43.391708</td>\n",
       "      <td>139.929931</td>\n",
       "      <td>6.313144</td>\n",
       "      <td>6.248891</td>\n",
       "      <td>68.535174</td>\n",
       "      <td>0.526375</td>\n",
       "      <td>91.411692</td>\n",
       "      <td>46.027772</td>\n",
       "      <td>75.894795</td>\n",
       "      <td>16498.415777</td>\n",
       "      <td>...</td>\n",
       "      <td>7.272077</td>\n",
       "      <td>21.572638</td>\n",
       "      <td>95.831032</td>\n",
       "      <td>89.211257</td>\n",
       "      <td>1.974458</td>\n",
       "      <td>67.482431</td>\n",
       "      <td>0.727717</td>\n",
       "      <td>994009</td>\n",
       "      <td>Large Magellanic Cloud (LMC)</td>\n",
       "      <td>0.051334</td>\n",
       "    </tr>\n",
       "  </tbody>\n",
       "</table>\n",
       "<p>5 rows × 80 columns</p>\n",
       "</div>"
      ],
      "text/plain": [
       "     Adjusted net savings   \\\n",
       "0                43.391708   \n",
       "194              43.391708   \n",
       "410              43.391708   \n",
       "543              43.391708   \n",
       "765              43.391708   \n",
       "\n",
       "     Adolescent birth rate (births per 1,000 female creatures ages 15-19)  \\\n",
       "0                                           174.617899                      \n",
       "194                                         165.945907                      \n",
       "410                                         157.273915                      \n",
       "543                                         148.601923                      \n",
       "765                                         139.929931                      \n",
       "\n",
       "     Creature Immunodeficiency Disease prevalence, adult (% ages 15-49), total  \\\n",
       "0                                             6.313144                           \n",
       "194                                           6.313144                           \n",
       "410                                           6.313144                           \n",
       "543                                           6.313144                           \n",
       "765                                           6.313144                           \n",
       "\n",
       "     Current health expenditure (% of GGP)  \\\n",
       "0                                 6.248891   \n",
       "194                               6.248891   \n",
       "410                               6.248891   \n",
       "543                               6.248891   \n",
       "765                               6.248891   \n",
       "\n",
       "     Domestic credit provided by financial sector (% of GGP)  Education Index  \\\n",
       "0                                            75.604799               0.526375   \n",
       "194                                          73.837393               0.526375   \n",
       "410                                          72.069987               0.526375   \n",
       "543                                          70.302580               0.526375   \n",
       "765                                          68.535174               0.526375   \n",
       "\n",
       "     Employment in agriculture (% of total employment)  \\\n",
       "0                                            96.827657   \n",
       "194                                          96.827657   \n",
       "410                                          95.022335   \n",
       "543                                          93.217014   \n",
       "765                                          91.411692   \n",
       "\n",
       "     Employment in services (% of total employment)  \\\n",
       "0                                         53.392606   \n",
       "194                                       53.392606   \n",
       "410                                       50.937661   \n",
       "543                                       48.482717   \n",
       "765                                       46.027772   \n",
       "\n",
       "     Employment to population ratio (% ages 15 and older)  \\\n",
       "0                                            76.506783      \n",
       "194                                          76.506783      \n",
       "410                                          76.302787      \n",
       "543                                          76.098791      \n",
       "765                                          75.894795      \n",
       "\n",
       "     Estimated gross galactic income per capita, female  ...  \\\n",
       "0                                         16498.415777   ...   \n",
       "194                                       16498.415777   ...   \n",
       "410                                       16498.415777   ...   \n",
       "543                                       16498.415777   ...   \n",
       "765                                       16498.415777   ...   \n",
       "\n",
       "     Unemployment, total (% of labour force)  \\\n",
       "0                                   6.682524   \n",
       "194                                 6.682524   \n",
       "410                                 6.879042   \n",
       "543                                 7.075560   \n",
       "765                                 7.272077   \n",
       "\n",
       "     Unemployment, youth (% ages 15–24)  \\\n",
       "0                             21.261283   \n",
       "194                           21.261283   \n",
       "410                           21.365068   \n",
       "543                           21.468853   \n",
       "765                           21.572638   \n",
       "\n",
       "     Vulnerable employment (% of total employment)  \\\n",
       "0                                        91.911151   \n",
       "194                                      91.911151   \n",
       "410                                      93.217778   \n",
       "543                                      94.524405   \n",
       "765                                      95.831032   \n",
       "\n",
       "     Young age (0-14) dependency ratio (per 100 creatures ages 15-64)  \\\n",
       "0                                            98.216072                  \n",
       "194                                          95.964868                  \n",
       "410                                          93.713664                  \n",
       "543                                          91.462460                  \n",
       "765                                          89.211257                  \n",
       "\n",
       "     Youth unemployment rate (female to male ratio)  \\\n",
       "0                                          2.184798   \n",
       "194                                        2.184798   \n",
       "410                                        2.114685   \n",
       "543                                        2.044571   \n",
       "765                                        1.974458   \n",
       "\n",
       "     existence expectancy at birth  existence expectancy index  galactic year  \\\n",
       "0                        63.125200                    0.628657         990025   \n",
       "194                      62.389059                    0.627245         991020   \n",
       "410                      68.794245                    0.662135         992016   \n",
       "543                      62.848660                    0.687776         993012   \n",
       "765                      67.482431                    0.727717         994009   \n",
       "\n",
       "                           galaxy         y  \n",
       "0    Large Magellanic Cloud (LMC)  0.052590  \n",
       "194  Large Magellanic Cloud (LMC)  0.052115  \n",
       "410  Large Magellanic Cloud (LMC)  0.052006  \n",
       "543  Large Magellanic Cloud (LMC)  0.051675  \n",
       "765  Large Magellanic Cloud (LMC)  0.051334  \n",
       "\n",
       "[5 rows x 80 columns]"
      ]
     },
     "execution_count": 128,
     "metadata": {},
     "output_type": "execute_result"
    }
   ],
   "source": [
    "df.head()"
   ]
  },
  {
   "cell_type": "code",
   "execution_count": 129,
   "metadata": {
    "ExecuteTime": {
     "end_time": "2020-06-19T12:16:47.029952Z",
     "start_time": "2020-06-19T12:16:46.981021Z"
    }
   },
   "outputs": [
    {
     "data": {
      "text/html": [
       "<div>\n",
       "<style scoped>\n",
       "    .dataframe tbody tr th:only-of-type {\n",
       "        vertical-align: middle;\n",
       "    }\n",
       "\n",
       "    .dataframe tbody tr th {\n",
       "        vertical-align: top;\n",
       "    }\n",
       "\n",
       "    .dataframe thead th {\n",
       "        text-align: right;\n",
       "    }\n",
       "</style>\n",
       "<table border=\"1\" class=\"dataframe\">\n",
       "  <thead>\n",
       "    <tr style=\"text-align: right;\">\n",
       "      <th></th>\n",
       "      <th>Adjusted net savings</th>\n",
       "      <th>Adolescent birth rate (births per 1,000 female creatures ages 15-19)</th>\n",
       "      <th>Creature Immunodeficiency Disease prevalence, adult (% ages 15-49), total</th>\n",
       "      <th>Current health expenditure (% of GGP)</th>\n",
       "      <th>Domestic credit provided by financial sector (% of GGP)</th>\n",
       "      <th>Education Index</th>\n",
       "      <th>Employment in agriculture (% of total employment)</th>\n",
       "      <th>Employment in services (% of total employment)</th>\n",
       "      <th>Employment to population ratio (% ages 15 and older)</th>\n",
       "      <th>Estimated gross galactic income per capita, female</th>\n",
       "      <th>...</th>\n",
       "      <th>Unemployment, youth (% ages 15–24)</th>\n",
       "      <th>Vulnerable employment (% of total employment)</th>\n",
       "      <th>Young age (0-14) dependency ratio (per 100 creatures ages 15-64)</th>\n",
       "      <th>Youth unemployment rate (female to male ratio)</th>\n",
       "      <th>existence expectancy at birth</th>\n",
       "      <th>existence expectancy index</th>\n",
       "      <th>galactic year</th>\n",
       "      <th>galaxy</th>\n",
       "      <th>train_test</th>\n",
       "      <th>y</th>\n",
       "    </tr>\n",
       "  </thead>\n",
       "  <tbody>\n",
       "    <tr>\n",
       "      <td>0</td>\n",
       "      <td>43.391708</td>\n",
       "      <td>174.617899</td>\n",
       "      <td>6.313144</td>\n",
       "      <td>6.248891</td>\n",
       "      <td>75.604799</td>\n",
       "      <td>0.526375</td>\n",
       "      <td>96.827657</td>\n",
       "      <td>53.392606</td>\n",
       "      <td>76.506783</td>\n",
       "      <td>16498.415777</td>\n",
       "      <td>...</td>\n",
       "      <td>21.261283</td>\n",
       "      <td>91.911151</td>\n",
       "      <td>98.216072</td>\n",
       "      <td>2.184798</td>\n",
       "      <td>63.125200</td>\n",
       "      <td>0.628657</td>\n",
       "      <td>990025</td>\n",
       "      <td>Large Magellanic Cloud (LMC)</td>\n",
       "      <td>train</td>\n",
       "      <td>0.052590</td>\n",
       "    </tr>\n",
       "    <tr>\n",
       "      <td>1</td>\n",
       "      <td>43.391708</td>\n",
       "      <td>165.945907</td>\n",
       "      <td>6.313144</td>\n",
       "      <td>6.248891</td>\n",
       "      <td>73.837393</td>\n",
       "      <td>0.526375</td>\n",
       "      <td>96.827657</td>\n",
       "      <td>53.392606</td>\n",
       "      <td>76.506783</td>\n",
       "      <td>16498.415777</td>\n",
       "      <td>...</td>\n",
       "      <td>21.261283</td>\n",
       "      <td>91.911151</td>\n",
       "      <td>95.964868</td>\n",
       "      <td>2.184798</td>\n",
       "      <td>62.389059</td>\n",
       "      <td>0.627245</td>\n",
       "      <td>991020</td>\n",
       "      <td>Large Magellanic Cloud (LMC)</td>\n",
       "      <td>train</td>\n",
       "      <td>0.052115</td>\n",
       "    </tr>\n",
       "    <tr>\n",
       "      <td>2</td>\n",
       "      <td>43.391708</td>\n",
       "      <td>157.273915</td>\n",
       "      <td>6.313144</td>\n",
       "      <td>6.248891</td>\n",
       "      <td>72.069987</td>\n",
       "      <td>0.526375</td>\n",
       "      <td>95.022335</td>\n",
       "      <td>50.937661</td>\n",
       "      <td>76.302787</td>\n",
       "      <td>16498.415777</td>\n",
       "      <td>...</td>\n",
       "      <td>21.365068</td>\n",
       "      <td>93.217778</td>\n",
       "      <td>93.713664</td>\n",
       "      <td>2.114685</td>\n",
       "      <td>68.794245</td>\n",
       "      <td>0.662135</td>\n",
       "      <td>992016</td>\n",
       "      <td>Large Magellanic Cloud (LMC)</td>\n",
       "      <td>train</td>\n",
       "      <td>0.052006</td>\n",
       "    </tr>\n",
       "    <tr>\n",
       "      <td>3</td>\n",
       "      <td>43.391708</td>\n",
       "      <td>148.601923</td>\n",
       "      <td>6.313144</td>\n",
       "      <td>6.248891</td>\n",
       "      <td>70.302580</td>\n",
       "      <td>0.526375</td>\n",
       "      <td>93.217014</td>\n",
       "      <td>48.482717</td>\n",
       "      <td>76.098791</td>\n",
       "      <td>16498.415777</td>\n",
       "      <td>...</td>\n",
       "      <td>21.468853</td>\n",
       "      <td>94.524405</td>\n",
       "      <td>91.462460</td>\n",
       "      <td>2.044571</td>\n",
       "      <td>62.848660</td>\n",
       "      <td>0.687776</td>\n",
       "      <td>993012</td>\n",
       "      <td>Large Magellanic Cloud (LMC)</td>\n",
       "      <td>train</td>\n",
       "      <td>0.051675</td>\n",
       "    </tr>\n",
       "    <tr>\n",
       "      <td>4</td>\n",
       "      <td>43.391708</td>\n",
       "      <td>139.929931</td>\n",
       "      <td>6.313144</td>\n",
       "      <td>6.248891</td>\n",
       "      <td>68.535174</td>\n",
       "      <td>0.526375</td>\n",
       "      <td>91.411692</td>\n",
       "      <td>46.027772</td>\n",
       "      <td>75.894795</td>\n",
       "      <td>16498.415777</td>\n",
       "      <td>...</td>\n",
       "      <td>21.572638</td>\n",
       "      <td>95.831032</td>\n",
       "      <td>89.211257</td>\n",
       "      <td>1.974458</td>\n",
       "      <td>67.482431</td>\n",
       "      <td>0.727717</td>\n",
       "      <td>994009</td>\n",
       "      <td>Large Magellanic Cloud (LMC)</td>\n",
       "      <td>train</td>\n",
       "      <td>0.051334</td>\n",
       "    </tr>\n",
       "    <tr>\n",
       "      <td>...</td>\n",
       "      <td>...</td>\n",
       "      <td>...</td>\n",
       "      <td>...</td>\n",
       "      <td>...</td>\n",
       "      <td>...</td>\n",
       "      <td>...</td>\n",
       "      <td>...</td>\n",
       "      <td>...</td>\n",
       "      <td>...</td>\n",
       "      <td>...</td>\n",
       "      <td>...</td>\n",
       "      <td>...</td>\n",
       "      <td>...</td>\n",
       "      <td>...</td>\n",
       "      <td>...</td>\n",
       "      <td>...</td>\n",
       "      <td>...</td>\n",
       "      <td>...</td>\n",
       "      <td>...</td>\n",
       "      <td>...</td>\n",
       "      <td>...</td>\n",
       "    </tr>\n",
       "    <tr>\n",
       "      <td>4750</td>\n",
       "      <td>15.240960</td>\n",
       "      <td>82.856607</td>\n",
       "      <td>6.313144</td>\n",
       "      <td>10.437331</td>\n",
       "      <td>235.956289</td>\n",
       "      <td>1.223794</td>\n",
       "      <td>21.451371</td>\n",
       "      <td>96.643166</td>\n",
       "      <td>74.249498</td>\n",
       "      <td>47354.374247</td>\n",
       "      <td>...</td>\n",
       "      <td>32.839232</td>\n",
       "      <td>42.078857</td>\n",
       "      <td>55.662587</td>\n",
       "      <td>1.829825</td>\n",
       "      <td>87.420338</td>\n",
       "      <td>1.083807</td>\n",
       "      <td>1012036</td>\n",
       "      <td>NGC 5102</td>\n",
       "      <td>train</td>\n",
       "      <td>0.176675</td>\n",
       "    </tr>\n",
       "    <tr>\n",
       "      <td>4751</td>\n",
       "      <td>17.145098</td>\n",
       "      <td>72.740861</td>\n",
       "      <td>6.313144</td>\n",
       "      <td>11.107914</td>\n",
       "      <td>269.195714</td>\n",
       "      <td>1.040462</td>\n",
       "      <td>14.434110</td>\n",
       "      <td>100.891269</td>\n",
       "      <td>70.478137</td>\n",
       "      <td>42047.060853</td>\n",
       "      <td>...</td>\n",
       "      <td>27.759737</td>\n",
       "      <td>46.065719</td>\n",
       "      <td>50.960183</td>\n",
       "      <td>1.881622</td>\n",
       "      <td>91.615981</td>\n",
       "      <td>1.074489</td>\n",
       "      <td>1013042</td>\n",
       "      <td>NGC 5102</td>\n",
       "      <td>train</td>\n",
       "      <td>0.182978</td>\n",
       "    </tr>\n",
       "    <tr>\n",
       "      <td>4752</td>\n",
       "      <td>19.753047</td>\n",
       "      <td>70.451838</td>\n",
       "      <td>6.313144</td>\n",
       "      <td>13.665476</td>\n",
       "      <td>281.704506</td>\n",
       "      <td>1.122439</td>\n",
       "      <td>32.939040</td>\n",
       "      <td>88.668060</td>\n",
       "      <td>71.902406</td>\n",
       "      <td>33651.065275</td>\n",
       "      <td>...</td>\n",
       "      <td>32.805548</td>\n",
       "      <td>17.607694</td>\n",
       "      <td>57.119959</td>\n",
       "      <td>1.776740</td>\n",
       "      <td>91.008395</td>\n",
       "      <td>1.072294</td>\n",
       "      <td>1014049</td>\n",
       "      <td>NGC 5102</td>\n",
       "      <td>test</td>\n",
       "      <td>0.182978</td>\n",
       "    </tr>\n",
       "    <tr>\n",
       "      <td>4753</td>\n",
       "      <td>9.882289</td>\n",
       "      <td>77.275835</td>\n",
       "      <td>6.313144</td>\n",
       "      <td>12.899332</td>\n",
       "      <td>223.423437</td>\n",
       "      <td>1.002551</td>\n",
       "      <td>22.475600</td>\n",
       "      <td>99.335586</td>\n",
       "      <td>74.874727</td>\n",
       "      <td>43332.418433</td>\n",
       "      <td>...</td>\n",
       "      <td>28.179990</td>\n",
       "      <td>48.523187</td>\n",
       "      <td>41.027495</td>\n",
       "      <td>1.841142</td>\n",
       "      <td>90.356852</td>\n",
       "      <td>1.093103</td>\n",
       "      <td>1015056</td>\n",
       "      <td>NGC 5102</td>\n",
       "      <td>test</td>\n",
       "      <td>0.182978</td>\n",
       "    </tr>\n",
       "    <tr>\n",
       "      <td>4754</td>\n",
       "      <td>22.494515</td>\n",
       "      <td>77.336714</td>\n",
       "      <td>6.313144</td>\n",
       "      <td>13.761286</td>\n",
       "      <td>212.539861</td>\n",
       "      <td>1.118854</td>\n",
       "      <td>26.010872</td>\n",
       "      <td>86.621608</td>\n",
       "      <td>71.032425</td>\n",
       "      <td>31963.247791</td>\n",
       "      <td>...</td>\n",
       "      <td>22.848374</td>\n",
       "      <td>46.687964</td>\n",
       "      <td>66.468153</td>\n",
       "      <td>1.504757</td>\n",
       "      <td>93.908599</td>\n",
       "      <td>1.005083</td>\n",
       "      <td>1016064</td>\n",
       "      <td>NGC 5102</td>\n",
       "      <td>test</td>\n",
       "      <td>0.182978</td>\n",
       "    </tr>\n",
       "  </tbody>\n",
       "</table>\n",
       "<p>4755 rows × 81 columns</p>\n",
       "</div>"
      ],
      "text/plain": [
       "      Adjusted net savings   \\\n",
       "0                 43.391708   \n",
       "1                 43.391708   \n",
       "2                 43.391708   \n",
       "3                 43.391708   \n",
       "4                 43.391708   \n",
       "...                     ...   \n",
       "4750              15.240960   \n",
       "4751              17.145098   \n",
       "4752              19.753047   \n",
       "4753               9.882289   \n",
       "4754              22.494515   \n",
       "\n",
       "      Adolescent birth rate (births per 1,000 female creatures ages 15-19)  \\\n",
       "0                                            174.617899                      \n",
       "1                                            165.945907                      \n",
       "2                                            157.273915                      \n",
       "3                                            148.601923                      \n",
       "4                                            139.929931                      \n",
       "...                                                 ...                      \n",
       "4750                                          82.856607                      \n",
       "4751                                          72.740861                      \n",
       "4752                                          70.451838                      \n",
       "4753                                          77.275835                      \n",
       "4754                                          77.336714                      \n",
       "\n",
       "      Creature Immunodeficiency Disease prevalence, adult (% ages 15-49), total  \\\n",
       "0                                              6.313144                           \n",
       "1                                              6.313144                           \n",
       "2                                              6.313144                           \n",
       "3                                              6.313144                           \n",
       "4                                              6.313144                           \n",
       "...                                                 ...                           \n",
       "4750                                           6.313144                           \n",
       "4751                                           6.313144                           \n",
       "4752                                           6.313144                           \n",
       "4753                                           6.313144                           \n",
       "4754                                           6.313144                           \n",
       "\n",
       "      Current health expenditure (% of GGP)  \\\n",
       "0                                  6.248891   \n",
       "1                                  6.248891   \n",
       "2                                  6.248891   \n",
       "3                                  6.248891   \n",
       "4                                  6.248891   \n",
       "...                                     ...   \n",
       "4750                              10.437331   \n",
       "4751                              11.107914   \n",
       "4752                              13.665476   \n",
       "4753                              12.899332   \n",
       "4754                              13.761286   \n",
       "\n",
       "      Domestic credit provided by financial sector (% of GGP)  \\\n",
       "0                                             75.604799         \n",
       "1                                             73.837393         \n",
       "2                                             72.069987         \n",
       "3                                             70.302580         \n",
       "4                                             68.535174         \n",
       "...                                                 ...         \n",
       "4750                                         235.956289         \n",
       "4751                                         269.195714         \n",
       "4752                                         281.704506         \n",
       "4753                                         223.423437         \n",
       "4754                                         212.539861         \n",
       "\n",
       "      Education Index  Employment in agriculture (% of total employment)  \\\n",
       "0            0.526375                                          96.827657   \n",
       "1            0.526375                                          96.827657   \n",
       "2            0.526375                                          95.022335   \n",
       "3            0.526375                                          93.217014   \n",
       "4            0.526375                                          91.411692   \n",
       "...               ...                                                ...   \n",
       "4750         1.223794                                          21.451371   \n",
       "4751         1.040462                                          14.434110   \n",
       "4752         1.122439                                          32.939040   \n",
       "4753         1.002551                                          22.475600   \n",
       "4754         1.118854                                          26.010872   \n",
       "\n",
       "      Employment in services (% of total employment)  \\\n",
       "0                                          53.392606   \n",
       "1                                          53.392606   \n",
       "2                                          50.937661   \n",
       "3                                          48.482717   \n",
       "4                                          46.027772   \n",
       "...                                              ...   \n",
       "4750                                       96.643166   \n",
       "4751                                      100.891269   \n",
       "4752                                       88.668060   \n",
       "4753                                       99.335586   \n",
       "4754                                       86.621608   \n",
       "\n",
       "      Employment to population ratio (% ages 15 and older)  \\\n",
       "0                                             76.506783      \n",
       "1                                             76.506783      \n",
       "2                                             76.302787      \n",
       "3                                             76.098791      \n",
       "4                                             75.894795      \n",
       "...                                                 ...      \n",
       "4750                                          74.249498      \n",
       "4751                                          70.478137      \n",
       "4752                                          71.902406      \n",
       "4753                                          74.874727      \n",
       "4754                                          71.032425      \n",
       "\n",
       "      Estimated gross galactic income per capita, female  ...  \\\n",
       "0                                          16498.415777   ...   \n",
       "1                                          16498.415777   ...   \n",
       "2                                          16498.415777   ...   \n",
       "3                                          16498.415777   ...   \n",
       "4                                          16498.415777   ...   \n",
       "...                                                 ...   ...   \n",
       "4750                                       47354.374247   ...   \n",
       "4751                                       42047.060853   ...   \n",
       "4752                                       33651.065275   ...   \n",
       "4753                                       43332.418433   ...   \n",
       "4754                                       31963.247791   ...   \n",
       "\n",
       "      Unemployment, youth (% ages 15–24)  \\\n",
       "0                              21.261283   \n",
       "1                              21.261283   \n",
       "2                              21.365068   \n",
       "3                              21.468853   \n",
       "4                              21.572638   \n",
       "...                                  ...   \n",
       "4750                           32.839232   \n",
       "4751                           27.759737   \n",
       "4752                           32.805548   \n",
       "4753                           28.179990   \n",
       "4754                           22.848374   \n",
       "\n",
       "      Vulnerable employment (% of total employment)  \\\n",
       "0                                         91.911151   \n",
       "1                                         91.911151   \n",
       "2                                         93.217778   \n",
       "3                                         94.524405   \n",
       "4                                         95.831032   \n",
       "...                                             ...   \n",
       "4750                                      42.078857   \n",
       "4751                                      46.065719   \n",
       "4752                                      17.607694   \n",
       "4753                                      48.523187   \n",
       "4754                                      46.687964   \n",
       "\n",
       "      Young age (0-14) dependency ratio (per 100 creatures ages 15-64)  \\\n",
       "0                                             98.216072                  \n",
       "1                                             95.964868                  \n",
       "2                                             93.713664                  \n",
       "3                                             91.462460                  \n",
       "4                                             89.211257                  \n",
       "...                                                 ...                  \n",
       "4750                                          55.662587                  \n",
       "4751                                          50.960183                  \n",
       "4752                                          57.119959                  \n",
       "4753                                          41.027495                  \n",
       "4754                                          66.468153                  \n",
       "\n",
       "      Youth unemployment rate (female to male ratio)  \\\n",
       "0                                           2.184798   \n",
       "1                                           2.184798   \n",
       "2                                           2.114685   \n",
       "3                                           2.044571   \n",
       "4                                           1.974458   \n",
       "...                                              ...   \n",
       "4750                                        1.829825   \n",
       "4751                                        1.881622   \n",
       "4752                                        1.776740   \n",
       "4753                                        1.841142   \n",
       "4754                                        1.504757   \n",
       "\n",
       "      existence expectancy at birth  existence expectancy index  \\\n",
       "0                         63.125200                    0.628657   \n",
       "1                         62.389059                    0.627245   \n",
       "2                         68.794245                    0.662135   \n",
       "3                         62.848660                    0.687776   \n",
       "4                         67.482431                    0.727717   \n",
       "...                             ...                         ...   \n",
       "4750                      87.420338                    1.083807   \n",
       "4751                      91.615981                    1.074489   \n",
       "4752                      91.008395                    1.072294   \n",
       "4753                      90.356852                    1.093103   \n",
       "4754                      93.908599                    1.005083   \n",
       "\n",
       "      galactic year                        galaxy  train_test         y  \n",
       "0            990025  Large Magellanic Cloud (LMC)       train  0.052590  \n",
       "1            991020  Large Magellanic Cloud (LMC)       train  0.052115  \n",
       "2            992016  Large Magellanic Cloud (LMC)       train  0.052006  \n",
       "3            993012  Large Magellanic Cloud (LMC)       train  0.051675  \n",
       "4            994009  Large Magellanic Cloud (LMC)       train  0.051334  \n",
       "...             ...                           ...         ...       ...  \n",
       "4750        1012036                      NGC 5102       train  0.176675  \n",
       "4751        1013042                      NGC 5102       train  0.182978  \n",
       "4752        1014049                      NGC 5102        test  0.182978  \n",
       "4753        1015056                      NGC 5102        test  0.182978  \n",
       "4754        1016064                      NGC 5102        test  0.182978  \n",
       "\n",
       "[4755 rows x 81 columns]"
      ]
     },
     "execution_count": 129,
     "metadata": {},
     "output_type": "execute_result"
    }
   ],
   "source": [
    "#Creating copy of combined dataset with reset index\n",
    "\n",
    "df_combined_1 = df_combined.copy()\n",
    "df_combined_1.reset_index(inplace=True,drop=False)\n",
    "df_combined_1.drop(\"index\", axis=1, inplace=True)\n",
    "df_combined_1"
   ]
  },
  {
   "cell_type": "code",
   "execution_count": 130,
   "metadata": {
    "ExecuteTime": {
     "end_time": "2020-06-19T12:16:53.682402Z",
     "start_time": "2020-06-19T12:16:52.438004Z"
    }
   },
   "outputs": [
    {
     "name": "stderr",
     "output_type": "stream",
     "text": [
      "/Users/Tiffany/opt/anaconda3/lib/python3.7/site-packages/pandas/core/indexing.py:205: SettingWithCopyWarning: \n",
      "A value is trying to be set on a copy of a slice from a DataFrame\n",
      "\n",
      "See the caveats in the documentation: http://pandas.pydata.org/pandas-docs/stable/user_guide/indexing.html#returning-a-view-versus-a-copy\n",
      "  self._setitem_with_indexer(indexer, value)\n"
     ]
    }
   ],
   "source": [
    "for n in df_combined_1.index:\n",
    "    \n",
    "    if df_combined_1[\"train_test\"].loc[n]=='test':\n",
    "        df_combined_1['y'].loc[n] = np.nan\n",
    "        \n",
    "    else:\n",
    "        df_combined_1['y'].loc[n] = df_combined_1['y'].loc[n]\n",
    "        \n",
    "df_combined_1['y']\n",
    "\n",
    "df_combined['y'] = list(df_combined_1['y'])"
   ]
  },
  {
   "cell_type": "code",
   "execution_count": 131,
   "metadata": {
    "ExecuteTime": {
     "end_time": "2020-06-19T12:16:53.808739Z",
     "start_time": "2020-06-19T12:16:53.685414Z"
    }
   },
   "outputs": [
    {
     "data": {
      "text/html": [
       "<div>\n",
       "<style scoped>\n",
       "    .dataframe tbody tr th:only-of-type {\n",
       "        vertical-align: middle;\n",
       "    }\n",
       "\n",
       "    .dataframe tbody tr th {\n",
       "        vertical-align: top;\n",
       "    }\n",
       "\n",
       "    .dataframe thead th {\n",
       "        text-align: right;\n",
       "    }\n",
       "</style>\n",
       "<table border=\"1\" class=\"dataframe\">\n",
       "  <thead>\n",
       "    <tr style=\"text-align: right;\">\n",
       "      <th></th>\n",
       "      <th>Adjusted net savings</th>\n",
       "      <th>Adolescent birth rate (births per 1,000 female creatures ages 15-19)</th>\n",
       "      <th>Creature Immunodeficiency Disease prevalence, adult (% ages 15-49), total</th>\n",
       "      <th>Current health expenditure (% of GGP)</th>\n",
       "      <th>Domestic credit provided by financial sector (% of GGP)</th>\n",
       "      <th>Education Index</th>\n",
       "      <th>Employment in agriculture (% of total employment)</th>\n",
       "      <th>Employment in services (% of total employment)</th>\n",
       "      <th>Employment to population ratio (% ages 15 and older)</th>\n",
       "      <th>Estimated gross galactic income per capita, female</th>\n",
       "      <th>...</th>\n",
       "      <th>Young age (0-14) dependency ratio (per 100 creatures ages 15-64)</th>\n",
       "      <th>Youth unemployment rate (female to male ratio)</th>\n",
       "      <th>existence expectancy at birth</th>\n",
       "      <th>existence expectancy index</th>\n",
       "      <th>galactic year</th>\n",
       "      <th>galaxy</th>\n",
       "      <th>train_test</th>\n",
       "      <th>y</th>\n",
       "      <th>galactic year 1</th>\n",
       "      <th>date</th>\n",
       "    </tr>\n",
       "  </thead>\n",
       "  <tbody>\n",
       "    <tr>\n",
       "      <td>0</td>\n",
       "      <td>43.391708</td>\n",
       "      <td>174.617899</td>\n",
       "      <td>6.313144</td>\n",
       "      <td>6.248891</td>\n",
       "      <td>75.604799</td>\n",
       "      <td>0.526375</td>\n",
       "      <td>96.827657</td>\n",
       "      <td>53.392606</td>\n",
       "      <td>76.506783</td>\n",
       "      <td>16498.415777</td>\n",
       "      <td>...</td>\n",
       "      <td>98.216072</td>\n",
       "      <td>2.184798</td>\n",
       "      <td>63.125200</td>\n",
       "      <td>0.628657</td>\n",
       "      <td>990025</td>\n",
       "      <td>Large Magellanic Cloud (LMC)</td>\n",
       "      <td>train</td>\n",
       "      <td>0.052590</td>\n",
       "      <td>19800101</td>\n",
       "      <td>1980-01-01</td>\n",
       "    </tr>\n",
       "    <tr>\n",
       "      <td>194</td>\n",
       "      <td>43.391708</td>\n",
       "      <td>165.945907</td>\n",
       "      <td>6.313144</td>\n",
       "      <td>6.248891</td>\n",
       "      <td>73.837393</td>\n",
       "      <td>0.526375</td>\n",
       "      <td>96.827657</td>\n",
       "      <td>53.392606</td>\n",
       "      <td>76.506783</td>\n",
       "      <td>16498.415777</td>\n",
       "      <td>...</td>\n",
       "      <td>95.964868</td>\n",
       "      <td>2.184798</td>\n",
       "      <td>62.389059</td>\n",
       "      <td>0.627245</td>\n",
       "      <td>991020</td>\n",
       "      <td>Large Magellanic Cloud (LMC)</td>\n",
       "      <td>train</td>\n",
       "      <td>0.052115</td>\n",
       "      <td>19820101</td>\n",
       "      <td>1982-01-01</td>\n",
       "    </tr>\n",
       "    <tr>\n",
       "      <td>410</td>\n",
       "      <td>43.391708</td>\n",
       "      <td>157.273915</td>\n",
       "      <td>6.313144</td>\n",
       "      <td>6.248891</td>\n",
       "      <td>72.069987</td>\n",
       "      <td>0.526375</td>\n",
       "      <td>95.022335</td>\n",
       "      <td>50.937661</td>\n",
       "      <td>76.302787</td>\n",
       "      <td>16498.415777</td>\n",
       "      <td>...</td>\n",
       "      <td>93.713664</td>\n",
       "      <td>2.114685</td>\n",
       "      <td>68.794245</td>\n",
       "      <td>0.662135</td>\n",
       "      <td>992016</td>\n",
       "      <td>Large Magellanic Cloud (LMC)</td>\n",
       "      <td>train</td>\n",
       "      <td>0.052006</td>\n",
       "      <td>19840101</td>\n",
       "      <td>1984-01-01</td>\n",
       "    </tr>\n",
       "    <tr>\n",
       "      <td>543</td>\n",
       "      <td>43.391708</td>\n",
       "      <td>148.601923</td>\n",
       "      <td>6.313144</td>\n",
       "      <td>6.248891</td>\n",
       "      <td>70.302580</td>\n",
       "      <td>0.526375</td>\n",
       "      <td>93.217014</td>\n",
       "      <td>48.482717</td>\n",
       "      <td>76.098791</td>\n",
       "      <td>16498.415777</td>\n",
       "      <td>...</td>\n",
       "      <td>91.462460</td>\n",
       "      <td>2.044571</td>\n",
       "      <td>62.848660</td>\n",
       "      <td>0.687776</td>\n",
       "      <td>993012</td>\n",
       "      <td>Large Magellanic Cloud (LMC)</td>\n",
       "      <td>train</td>\n",
       "      <td>0.051675</td>\n",
       "      <td>19860101</td>\n",
       "      <td>1986-01-01</td>\n",
       "    </tr>\n",
       "    <tr>\n",
       "      <td>765</td>\n",
       "      <td>43.391708</td>\n",
       "      <td>139.929931</td>\n",
       "      <td>6.313144</td>\n",
       "      <td>6.248891</td>\n",
       "      <td>68.535174</td>\n",
       "      <td>0.526375</td>\n",
       "      <td>91.411692</td>\n",
       "      <td>46.027772</td>\n",
       "      <td>75.894795</td>\n",
       "      <td>16498.415777</td>\n",
       "      <td>...</td>\n",
       "      <td>89.211257</td>\n",
       "      <td>1.974458</td>\n",
       "      <td>67.482431</td>\n",
       "      <td>0.727717</td>\n",
       "      <td>994009</td>\n",
       "      <td>Large Magellanic Cloud (LMC)</td>\n",
       "      <td>train</td>\n",
       "      <td>0.051334</td>\n",
       "      <td>19880101</td>\n",
       "      <td>1988-01-01</td>\n",
       "    </tr>\n",
       "  </tbody>\n",
       "</table>\n",
       "<p>5 rows × 83 columns</p>\n",
       "</div>"
      ],
      "text/plain": [
       "     Adjusted net savings   \\\n",
       "0                43.391708   \n",
       "194              43.391708   \n",
       "410              43.391708   \n",
       "543              43.391708   \n",
       "765              43.391708   \n",
       "\n",
       "     Adolescent birth rate (births per 1,000 female creatures ages 15-19)  \\\n",
       "0                                           174.617899                      \n",
       "194                                         165.945907                      \n",
       "410                                         157.273915                      \n",
       "543                                         148.601923                      \n",
       "765                                         139.929931                      \n",
       "\n",
       "     Creature Immunodeficiency Disease prevalence, adult (% ages 15-49), total  \\\n",
       "0                                             6.313144                           \n",
       "194                                           6.313144                           \n",
       "410                                           6.313144                           \n",
       "543                                           6.313144                           \n",
       "765                                           6.313144                           \n",
       "\n",
       "     Current health expenditure (% of GGP)  \\\n",
       "0                                 6.248891   \n",
       "194                               6.248891   \n",
       "410                               6.248891   \n",
       "543                               6.248891   \n",
       "765                               6.248891   \n",
       "\n",
       "     Domestic credit provided by financial sector (% of GGP)  Education Index  \\\n",
       "0                                            75.604799               0.526375   \n",
       "194                                          73.837393               0.526375   \n",
       "410                                          72.069987               0.526375   \n",
       "543                                          70.302580               0.526375   \n",
       "765                                          68.535174               0.526375   \n",
       "\n",
       "     Employment in agriculture (% of total employment)  \\\n",
       "0                                            96.827657   \n",
       "194                                          96.827657   \n",
       "410                                          95.022335   \n",
       "543                                          93.217014   \n",
       "765                                          91.411692   \n",
       "\n",
       "     Employment in services (% of total employment)  \\\n",
       "0                                         53.392606   \n",
       "194                                       53.392606   \n",
       "410                                       50.937661   \n",
       "543                                       48.482717   \n",
       "765                                       46.027772   \n",
       "\n",
       "     Employment to population ratio (% ages 15 and older)  \\\n",
       "0                                            76.506783      \n",
       "194                                          76.506783      \n",
       "410                                          76.302787      \n",
       "543                                          76.098791      \n",
       "765                                          75.894795      \n",
       "\n",
       "     Estimated gross galactic income per capita, female  ...  \\\n",
       "0                                         16498.415777   ...   \n",
       "194                                       16498.415777   ...   \n",
       "410                                       16498.415777   ...   \n",
       "543                                       16498.415777   ...   \n",
       "765                                       16498.415777   ...   \n",
       "\n",
       "     Young age (0-14) dependency ratio (per 100 creatures ages 15-64)  \\\n",
       "0                                            98.216072                  \n",
       "194                                          95.964868                  \n",
       "410                                          93.713664                  \n",
       "543                                          91.462460                  \n",
       "765                                          89.211257                  \n",
       "\n",
       "     Youth unemployment rate (female to male ratio)  \\\n",
       "0                                          2.184798   \n",
       "194                                        2.184798   \n",
       "410                                        2.114685   \n",
       "543                                        2.044571   \n",
       "765                                        1.974458   \n",
       "\n",
       "     existence expectancy at birth  existence expectancy index  galactic year  \\\n",
       "0                        63.125200                    0.628657         990025   \n",
       "194                      62.389059                    0.627245         991020   \n",
       "410                      68.794245                    0.662135         992016   \n",
       "543                      62.848660                    0.687776         993012   \n",
       "765                      67.482431                    0.727717         994009   \n",
       "\n",
       "                           galaxy  train_test         y  galactic year 1  \\\n",
       "0    Large Magellanic Cloud (LMC)       train  0.052590         19800101   \n",
       "194  Large Magellanic Cloud (LMC)       train  0.052115         19820101   \n",
       "410  Large Magellanic Cloud (LMC)       train  0.052006         19840101   \n",
       "543  Large Magellanic Cloud (LMC)       train  0.051675         19860101   \n",
       "765  Large Magellanic Cloud (LMC)       train  0.051334         19880101   \n",
       "\n",
       "          date  \n",
       "0   1980-01-01  \n",
       "194 1982-01-01  \n",
       "410 1984-01-01  \n",
       "543 1986-01-01  \n",
       "765 1988-01-01  \n",
       "\n",
       "[5 rows x 83 columns]"
      ]
     },
     "execution_count": 131,
     "metadata": {},
     "output_type": "execute_result"
    }
   ],
   "source": [
    "#Fitting galactic year to date time format\n",
    "\n",
    "df_combined['galactic year 1'] = df_combined['galactic year'].apply(lambda x:(np.round((x/1000),0))*2)\n",
    "df_combined['galactic year 1'] = df_combined['galactic year 1'].astype('int64')\n",
    "df_combined['galactic year 1'] = df_combined['galactic year 1'].astype('str')\n",
    "df_combined['galactic year 1'] = df_combined['galactic year 1'] + \"0101\"\n",
    "df_combined['date'] = pd.to_datetime(df_combined['galactic year 1'], yearfirst=True\n",
    "                                 , format='%Y/%m/%d'\n",
    "                                )\n",
    "df_combined.head()"
   ]
  },
  {
   "cell_type": "code",
   "execution_count": null,
   "metadata": {},
   "outputs": [],
   "source": [
    "#Fitting time series on each galaxy\n",
    "\n",
    "\n",
    "#Train and test set\n",
    "\n",
    "#df_combined['preds'] = df_combined['y'].apply(lambda x:0)\n",
    "\n",
    "pd.reset_option('display.max_rows')\n",
    "\n",
    "\n",
    "order_updated = (1, 1, 0)\n",
    "\n",
    "results_df = pd.DataFrame(columns=['date','y','preds','galaxy','galactic year 1','train_test'])\n",
    "error_list = []\n",
    "\n",
    "\n",
    "for g in df.galaxy.unique():\n",
    "    try:\n",
    "        print(g)\n",
    "        df_temp = df_combined[df_combined['galaxy']==g].copy()\n",
    "        df_temp.sort_values(\"galactic year 1\",inplace=True)\n",
    "\n",
    "        df_temp_temp = df_temp[['date','y','galaxy','galactic year 1','train_test']]\n",
    "        df_temp_temp_1 = df_temp_temp[['date','y']].copy()\n",
    "        df_temp_temp_1.set_index('date', inplace=True, drop=True)\n",
    "        data = df_temp_temp_1\n",
    "\n",
    "        ts = TimeSeriesSplit(n_splits=3)\n",
    "        splits = [split for split in ts.split(data)]\n",
    "        test_size = splits[0][1].shape[0]\n",
    "\n",
    "        model = sm.tsa.statespace.SARIMAX(data, order=order_updated)\n",
    "\n",
    "        \n",
    "\n",
    "    except:\n",
    "        None\n",
    "        print('ERROR:',g)\n",
    "        error_list.append(g)\n",
    "#             df_temp = df[df['galaxy']==g].copy()\n",
    "#             df = df[~(df['galaxy']==g)]\n",
    "#             df_temp.sort_values(\"galactic year\",inplace=True)\n",
    "#             df_temp['preds'] = df_temp['y']\n",
    "#             df = pd.concat([df,df_temp])\n",
    "print(error_list)\n",
    "\n",
    "    \n",
    "    \n"
   ]
  },
  {
   "cell_type": "code",
   "execution_count": 138,
   "metadata": {
    "ExecuteTime": {
     "end_time": "2020-06-19T12:19:39.871764Z",
     "start_time": "2020-06-19T12:19:27.033421Z"
    }
   },
   "outputs": [
    {
     "name": "stdout",
     "output_type": "stream",
     "text": [
      "Large Magellanic Cloud (LMC)\n",
      "Camelopardalis B\n",
      "Virgo I\n",
      "UGC 8651 (DDO 181)\n",
      "Tucana Dwarf\n"
     ]
    },
    {
     "name": "stderr",
     "output_type": "stream",
     "text": [
      "/Users/Tiffany/opt/anaconda3/lib/python3.7/site-packages/statsmodels/tsa/base/tsa_model.py:165: ValueWarning: No frequency information was provided, so inferred frequency 2AS-JAN will be used.\n",
      "  % freq, ValueWarning)\n",
      "/Users/Tiffany/opt/anaconda3/lib/python3.7/site-packages/ipykernel_launcher.py:34: SettingWithCopyWarning: \n",
      "A value is trying to be set on a copy of a slice from a DataFrame.\n",
      "Try using .loc[row_indexer,col_indexer] = value instead\n",
      "\n",
      "See the caveats in the documentation: http://pandas.pydata.org/pandas-docs/stable/user_guide/indexing.html#returning-a-view-versus-a-copy\n",
      "/Users/Tiffany/opt/anaconda3/lib/python3.7/site-packages/ipykernel_launcher.py:37: FutureWarning: Sorting because non-concatenation axis is not aligned. A future version\n",
      "of pandas will change to not sort by default.\n",
      "\n",
      "To accept the future behavior, pass 'sort=False'.\n",
      "\n",
      "To retain the current behavior and silence the warning, pass 'sort=True'.\n",
      "\n",
      "/Users/Tiffany/opt/anaconda3/lib/python3.7/site-packages/statsmodels/tsa/base/tsa_model.py:165: ValueWarning: No frequency information was provided, so inferred frequency 2AS-JAN will be used.\n",
      "  % freq, ValueWarning)\n",
      "/Users/Tiffany/opt/anaconda3/lib/python3.7/site-packages/statsmodels/tsa/base/tsa_model.py:165: ValueWarning: No frequency information was provided, so inferred frequency 2AS-JAN will be used.\n",
      "  % freq, ValueWarning)\n",
      "/Users/Tiffany/opt/anaconda3/lib/python3.7/site-packages/statsmodels/tsa/base/tsa_model.py:165: ValueWarning: No frequency information was provided, so inferred frequency 2AS-JAN will be used.\n",
      "  % freq, ValueWarning)\n",
      "/Users/Tiffany/opt/anaconda3/lib/python3.7/site-packages/statsmodels/tsa/base/tsa_model.py:165: ValueWarning: No frequency information was provided, so inferred frequency 2AS-JAN will be used.\n",
      "  % freq, ValueWarning)\n"
     ]
    },
    {
     "name": "stdout",
     "output_type": "stream",
     "text": [
      "KKh 060\n",
      "Grus II\n",
      "UGCA 292\n"
     ]
    },
    {
     "name": "stderr",
     "output_type": "stream",
     "text": [
      "/Users/Tiffany/opt/anaconda3/lib/python3.7/site-packages/statsmodels/tsa/base/tsa_model.py:165: ValueWarning: No frequency information was provided, so inferred frequency 2AS-JAN will be used.\n",
      "  % freq, ValueWarning)\n",
      "/Users/Tiffany/opt/anaconda3/lib/python3.7/site-packages/statsmodels/base/model.py:512: ConvergenceWarning: Maximum Likelihood optimization failed to converge. Check mle_retvals\n",
      "  \"Check mle_retvals\", ConvergenceWarning)\n",
      "/Users/Tiffany/opt/anaconda3/lib/python3.7/site-packages/statsmodels/tsa/base/tsa_model.py:165: ValueWarning: No frequency information was provided, so inferred frequency 2AS-JAN will be used.\n",
      "  % freq, ValueWarning)\n",
      "/Users/Tiffany/opt/anaconda3/lib/python3.7/site-packages/statsmodels/tsa/base/tsa_model.py:165: ValueWarning: No frequency information was provided, so inferred frequency 2AS-JAN will be used.\n",
      "  % freq, ValueWarning)\n"
     ]
    },
    {
     "name": "stdout",
     "output_type": "stream",
     "text": [
      "Aquarius II\n",
      "Andromeda XI\n",
      "Antlia Dwarf\n",
      "IC 1613 (UGC 668)\n"
     ]
    },
    {
     "name": "stderr",
     "output_type": "stream",
     "text": [
      "/Users/Tiffany/opt/anaconda3/lib/python3.7/site-packages/statsmodels/tsa/base/tsa_model.py:165: ValueWarning: No frequency information was provided, so inferred frequency 2AS-JAN will be used.\n",
      "  % freq, ValueWarning)\n",
      "/Users/Tiffany/opt/anaconda3/lib/python3.7/site-packages/statsmodels/tsa/base/tsa_model.py:165: ValueWarning: No frequency information was provided, so inferred frequency 2AS-JAN will be used.\n",
      "  % freq, ValueWarning)\n",
      "/Users/Tiffany/opt/anaconda3/lib/python3.7/site-packages/statsmodels/tsa/base/tsa_model.py:165: ValueWarning: No frequency information was provided, so inferred frequency 2AS-JAN will be used.\n",
      "  % freq, ValueWarning)\n",
      "/Users/Tiffany/opt/anaconda3/lib/python3.7/site-packages/statsmodels/tsa/base/tsa_model.py:165: ValueWarning: No frequency information was provided, so inferred frequency 2AS-JAN will be used.\n",
      "  % freq, ValueWarning)\n"
     ]
    },
    {
     "name": "stdout",
     "output_type": "stream",
     "text": [
      "Leo P\n",
      "Cassiopeia Dwarf (Cas dSph, Andromeda VII)\n",
      "Draco II\n",
      "Sagittarius II\n"
     ]
    },
    {
     "name": "stderr",
     "output_type": "stream",
     "text": [
      "/Users/Tiffany/opt/anaconda3/lib/python3.7/site-packages/statsmodels/tsa/base/tsa_model.py:165: ValueWarning: No frequency information was provided, so inferred frequency 2AS-JAN will be used.\n",
      "  % freq, ValueWarning)\n",
      "/Users/Tiffany/opt/anaconda3/lib/python3.7/site-packages/statsmodels/tsa/base/tsa_model.py:165: ValueWarning: No frequency information was provided, so inferred frequency 2AS-JAN will be used.\n",
      "  % freq, ValueWarning)\n",
      "/Users/Tiffany/opt/anaconda3/lib/python3.7/site-packages/statsmodels/tsa/base/tsa_model.py:165: ValueWarning: No frequency information was provided, so inferred frequency 2AS-JAN will be used.\n",
      "  % freq, ValueWarning)\n",
      "/Users/Tiffany/opt/anaconda3/lib/python3.7/site-packages/statsmodels/tsa/base/tsa_model.py:165: ValueWarning: No frequency information was provided, so inferred frequency 2AS-JAN will be used.\n",
      "  % freq, ValueWarning)\n"
     ]
    },
    {
     "name": "stdout",
     "output_type": "stream",
     "text": [
      "Carina III\n",
      "UGCA 133 (DDO 44)\n",
      "Lacerta I (Andromeda XXXI)\n"
     ]
    },
    {
     "name": "stderr",
     "output_type": "stream",
     "text": [
      "/Users/Tiffany/opt/anaconda3/lib/python3.7/site-packages/statsmodels/tsa/base/tsa_model.py:165: ValueWarning: No frequency information was provided, so inferred frequency 2AS-JAN will be used.\n",
      "  % freq, ValueWarning)\n",
      "/Users/Tiffany/opt/anaconda3/lib/python3.7/site-packages/statsmodels/tsa/base/tsa_model.py:165: ValueWarning: No frequency information was provided, so inferred frequency 2AS-JAN will be used.\n",
      "  % freq, ValueWarning)\n",
      "/Users/Tiffany/opt/anaconda3/lib/python3.7/site-packages/statsmodels/tsa/base/tsa_model.py:165: ValueWarning: No frequency information was provided, so inferred frequency 2AS-JAN will be used.\n",
      "  % freq, ValueWarning)\n"
     ]
    },
    {
     "name": "stdout",
     "output_type": "stream",
     "text": [
      "Boötes IV\n",
      "Maffei 2\n",
      "KUG 1210+301B (KK98 127)\n",
      "Andromeda V\n"
     ]
    },
    {
     "name": "stderr",
     "output_type": "stream",
     "text": [
      "/Users/Tiffany/opt/anaconda3/lib/python3.7/site-packages/statsmodels/tsa/base/tsa_model.py:165: ValueWarning: No frequency information was provided, so inferred frequency 2AS-JAN will be used.\n",
      "  % freq, ValueWarning)\n",
      "/Users/Tiffany/opt/anaconda3/lib/python3.7/site-packages/statsmodels/tsa/base/tsa_model.py:165: ValueWarning: No frequency information was provided, so inferred frequency 2AS-JAN will be used.\n",
      "  % freq, ValueWarning)\n",
      "/Users/Tiffany/opt/anaconda3/lib/python3.7/site-packages/statsmodels/base/model.py:512: ConvergenceWarning: Maximum Likelihood optimization failed to converge. Check mle_retvals\n",
      "  \"Check mle_retvals\", ConvergenceWarning)\n",
      "/Users/Tiffany/opt/anaconda3/lib/python3.7/site-packages/statsmodels/tsa/base/tsa_model.py:165: ValueWarning: No frequency information was provided, so inferred frequency 2AS-JAN will be used.\n",
      "  % freq, ValueWarning)\n",
      "/Users/Tiffany/opt/anaconda3/lib/python3.7/site-packages/statsmodels/tsa/base/tsa_model.py:165: ValueWarning: No frequency information was provided, so inferred frequency 2AS-JAN will be used.\n",
      "  % freq, ValueWarning)\n"
     ]
    },
    {
     "name": "stdout",
     "output_type": "stream",
     "text": [
      "Sagittarius Dwarf Sphr SagDEG\n",
      "UGCA 276 (DDO 113)\n",
      "Ursa Minor Dwarf\n",
      "UGC 9128 (DDO 187)\n"
     ]
    },
    {
     "name": "stderr",
     "output_type": "stream",
     "text": [
      "/Users/Tiffany/opt/anaconda3/lib/python3.7/site-packages/statsmodels/tsa/base/tsa_model.py:165: ValueWarning: No frequency information was provided, so inferred frequency 2AS-JAN will be used.\n",
      "  % freq, ValueWarning)\n",
      "/Users/Tiffany/opt/anaconda3/lib/python3.7/site-packages/statsmodels/tsa/base/tsa_model.py:165: ValueWarning: No frequency information was provided, so inferred frequency 2AS-JAN will be used.\n",
      "  % freq, ValueWarning)\n",
      "/Users/Tiffany/opt/anaconda3/lib/python3.7/site-packages/statsmodels/tsa/base/tsa_model.py:165: ValueWarning: No frequency information was provided, so inferred frequency 2AS-JAN will be used.\n",
      "  % freq, ValueWarning)\n",
      "/Users/Tiffany/opt/anaconda3/lib/python3.7/site-packages/statsmodels/tsa/base/tsa_model.py:165: ValueWarning: No frequency information was provided, so inferred frequency 2AS-JAN will be used.\n",
      "  % freq, ValueWarning)\n"
     ]
    },
    {
     "name": "stdout",
     "output_type": "stream",
     "text": [
      "Andromeda XX\n",
      "Segue 2\n",
      "Fornax Dwarf (E356-G04)\n"
     ]
    },
    {
     "name": "stderr",
     "output_type": "stream",
     "text": [
      "/Users/Tiffany/opt/anaconda3/lib/python3.7/site-packages/statsmodels/tsa/base/tsa_model.py:165: ValueWarning: No frequency information was provided, so inferred frequency 2AS-JAN will be used.\n",
      "  % freq, ValueWarning)\n",
      "/Users/Tiffany/opt/anaconda3/lib/python3.7/site-packages/statsmodels/tsa/base/tsa_model.py:165: ValueWarning: No frequency information was provided, so inferred frequency 2AS-JAN will be used.\n",
      "  % freq, ValueWarning)\n",
      "/Users/Tiffany/opt/anaconda3/lib/python3.7/site-packages/statsmodels/tsa/base/tsa_model.py:165: ValueWarning: No frequency information was provided, so inferred frequency 2AS-JAN will be used.\n",
      "  % freq, ValueWarning)\n"
     ]
    },
    {
     "name": "stdout",
     "output_type": "stream",
     "text": [
      "Columba I\n",
      "KK98 77\n",
      "Holmberg II (DDO 50, UGC 4305)\n"
     ]
    },
    {
     "name": "stderr",
     "output_type": "stream",
     "text": [
      "/Users/Tiffany/opt/anaconda3/lib/python3.7/site-packages/statsmodels/tsa/base/tsa_model.py:165: ValueWarning: No frequency information was provided, so inferred frequency 2AS-JAN will be used.\n",
      "  % freq, ValueWarning)\n",
      "/Users/Tiffany/opt/anaconda3/lib/python3.7/site-packages/statsmodels/tsa/base/tsa_model.py:165: ValueWarning: No frequency information was provided, so inferred frequency 2AS-JAN will be used.\n",
      "  % freq, ValueWarning)\n",
      "/Users/Tiffany/opt/anaconda3/lib/python3.7/site-packages/statsmodels/tsa/base/tsa_model.py:165: ValueWarning: No frequency information was provided, so inferred frequency 2AS-JAN will be used.\n",
      "  % freq, ValueWarning)\n"
     ]
    },
    {
     "name": "stdout",
     "output_type": "stream",
     "text": [
      "ESO 540-030 (KDG 2)\n",
      "NGC 404\n"
     ]
    },
    {
     "name": "stderr",
     "output_type": "stream",
     "text": [
      "/Users/Tiffany/opt/anaconda3/lib/python3.7/site-packages/statsmodels/tsa/base/tsa_model.py:165: ValueWarning: No frequency information was provided, so inferred frequency 2AS-JAN will be used.\n",
      "  % freq, ValueWarning)\n",
      "/Users/Tiffany/opt/anaconda3/lib/python3.7/site-packages/statsmodels/tsa/base/tsa_model.py:165: ValueWarning: No frequency information was provided, so inferred frequency 2AS-JAN will be used.\n",
      "  % freq, ValueWarning)\n",
      "/Users/Tiffany/opt/anaconda3/lib/python3.7/site-packages/statsmodels/tsa/base/tsa_model.py:165: ValueWarning: No frequency information was provided, so inferred frequency 2AS-JAN will be used.\n",
      "  % freq, ValueWarning)\n"
     ]
    },
    {
     "name": "stdout",
     "output_type": "stream",
     "text": [
      "UGC 8833\n",
      "Perseus I (Andromeda XXXIII)\n",
      "Horologium II\n",
      "Andromeda XXVI\n",
      "Grus I\n"
     ]
    },
    {
     "name": "stderr",
     "output_type": "stream",
     "text": [
      "/Users/Tiffany/opt/anaconda3/lib/python3.7/site-packages/statsmodels/tsa/base/tsa_model.py:165: ValueWarning: No frequency information was provided, so inferred frequency 2AS-JAN will be used.\n",
      "  % freq, ValueWarning)\n",
      "/Users/Tiffany/opt/anaconda3/lib/python3.7/site-packages/statsmodels/tsa/base/tsa_model.py:165: ValueWarning: No frequency information was provided, so inferred frequency 2AS-JAN will be used.\n",
      "  % freq, ValueWarning)\n",
      "/Users/Tiffany/opt/anaconda3/lib/python3.7/site-packages/statsmodels/tsa/base/tsa_model.py:165: ValueWarning: No frequency information was provided, so inferred frequency 2AS-JAN will be used.\n",
      "  % freq, ValueWarning)\n",
      "/Users/Tiffany/opt/anaconda3/lib/python3.7/site-packages/statsmodels/tsa/base/tsa_model.py:165: ValueWarning: No frequency information was provided, so inferred frequency 2AS-JAN will be used.\n",
      "  % freq, ValueWarning)\n"
     ]
    },
    {
     "name": "stdout",
     "output_type": "stream",
     "text": [
      "Andromeda IX\n",
      "Andromeda XXII[57]\n",
      "ESO 274-01[70]\n",
      "Leo II Dwarf (Leo B, DDO 93)\n"
     ]
    },
    {
     "name": "stderr",
     "output_type": "stream",
     "text": [
      "/Users/Tiffany/opt/anaconda3/lib/python3.7/site-packages/statsmodels/tsa/base/tsa_model.py:165: ValueWarning: No frequency information was provided, so inferred frequency 2AS-JAN will be used.\n",
      "  % freq, ValueWarning)\n",
      "/Users/Tiffany/opt/anaconda3/lib/python3.7/site-packages/statsmodels/tsa/base/tsa_model.py:165: ValueWarning: No frequency information was provided, so inferred frequency 2AS-JAN will be used.\n",
      "  % freq, ValueWarning)\n",
      "/Users/Tiffany/opt/anaconda3/lib/python3.7/site-packages/statsmodels/tsa/base/tsa_model.py:165: ValueWarning: No frequency information was provided, so inferred frequency 2AS-JAN will be used.\n",
      "  % freq, ValueWarning)\n",
      "/Users/Tiffany/opt/anaconda3/lib/python3.7/site-packages/statsmodels/tsa/base/tsa_model.py:165: ValueWarning: No frequency information was provided, so inferred frequency 2AS-JAN will be used.\n",
      "  % freq, ValueWarning)\n"
     ]
    },
    {
     "name": "stdout",
     "output_type": "stream",
     "text": [
      "Reticulum II\n",
      "Andromeda II\n",
      "Indus II\n",
      "MB 1 (KK98 21)\n"
     ]
    },
    {
     "name": "stderr",
     "output_type": "stream",
     "text": [
      "/Users/Tiffany/opt/anaconda3/lib/python3.7/site-packages/statsmodels/tsa/base/tsa_model.py:165: ValueWarning: No frequency information was provided, so inferred frequency 2AS-JAN will be used.\n",
      "  % freq, ValueWarning)\n",
      "/Users/Tiffany/opt/anaconda3/lib/python3.7/site-packages/statsmodels/tsa/base/tsa_model.py:165: ValueWarning: No frequency information was provided, so inferred frequency 2AS-JAN will be used.\n",
      "  % freq, ValueWarning)\n",
      "/Users/Tiffany/opt/anaconda3/lib/python3.7/site-packages/statsmodels/tsa/base/tsa_model.py:165: ValueWarning: No frequency information was provided, so inferred frequency 2AS-JAN will be used.\n",
      "  % freq, ValueWarning)\n",
      "/Users/Tiffany/opt/anaconda3/lib/python3.7/site-packages/statsmodels/base/model.py:512: ConvergenceWarning: Maximum Likelihood optimization failed to converge. Check mle_retvals\n",
      "  \"Check mle_retvals\", ConvergenceWarning)\n",
      "/Users/Tiffany/opt/anaconda3/lib/python3.7/site-packages/statsmodels/tsa/base/tsa_model.py:165: ValueWarning: No frequency information was provided, so inferred frequency 2AS-JAN will be used.\n",
      "  % freq, ValueWarning)\n"
     ]
    },
    {
     "name": "stdout",
     "output_type": "stream",
     "text": [
      "UGCA 105\n",
      "Crater II\n",
      "Andromeda XVIII[60]\n",
      "KKH 11 (ZOAG G135.74-04.53)\n"
     ]
    },
    {
     "name": "stderr",
     "output_type": "stream",
     "text": [
      "/Users/Tiffany/opt/anaconda3/lib/python3.7/site-packages/statsmodels/tsa/base/tsa_model.py:165: ValueWarning: No frequency information was provided, so inferred frequency 2AS-JAN will be used.\n",
      "  % freq, ValueWarning)\n",
      "/Users/Tiffany/opt/anaconda3/lib/python3.7/site-packages/statsmodels/tsa/base/tsa_model.py:165: ValueWarning: No frequency information was provided, so inferred frequency 2AS-JAN will be used.\n",
      "  % freq, ValueWarning)\n",
      "/Users/Tiffany/opt/anaconda3/lib/python3.7/site-packages/statsmodels/tsa/base/tsa_model.py:165: ValueWarning: No frequency information was provided, so inferred frequency 2AS-JAN will be used.\n",
      "  % freq, ValueWarning)\n",
      "/Users/Tiffany/opt/anaconda3/lib/python3.7/site-packages/statsmodels/tsa/base/tsa_model.py:165: ValueWarning: No frequency information was provided, so inferred frequency 2AS-JAN will be used.\n",
      "  % freq, ValueWarning)\n"
     ]
    },
    {
     "name": "stdout",
     "output_type": "stream",
     "text": [
      "Phoenix Dwarf Galaxy (P 6830)\n",
      "ESO 321-014[70]\n"
     ]
    },
    {
     "name": "stderr",
     "output_type": "stream",
     "text": [
      "/Users/Tiffany/opt/anaconda3/lib/python3.7/site-packages/statsmodels/tsa/base/tsa_model.py:165: ValueWarning: No frequency information was provided, so inferred frequency 2AS-JAN will be used.\n",
      "  % freq, ValueWarning)\n",
      "/Users/Tiffany/opt/anaconda3/lib/python3.7/site-packages/statsmodels/base/model.py:512: ConvergenceWarning: Maximum Likelihood optimization failed to converge. Check mle_retvals\n",
      "  \"Check mle_retvals\", ConvergenceWarning)\n",
      "/Users/Tiffany/opt/anaconda3/lib/python3.7/site-packages/statsmodels/tsa/base/tsa_model.py:165: ValueWarning: No frequency information was provided, so inferred frequency 2AS-JAN will be used.\n",
      "  % freq, ValueWarning)\n"
     ]
    },
    {
     "name": "stdout",
     "output_type": "stream",
     "text": [
      "ESO 325-11\n",
      "Andromeda XVII\n",
      "Phoenix II\n"
     ]
    },
    {
     "name": "stderr",
     "output_type": "stream",
     "text": [
      "/Users/Tiffany/opt/anaconda3/lib/python3.7/site-packages/statsmodels/tsa/base/tsa_model.py:165: ValueWarning: No frequency information was provided, so inferred frequency 2AS-JAN will be used.\n",
      "  % freq, ValueWarning)\n",
      "/Users/Tiffany/opt/anaconda3/lib/python3.7/site-packages/statsmodels/tsa/base/tsa_model.py:165: ValueWarning: No frequency information was provided, so inferred frequency 2AS-JAN will be used.\n",
      "  % freq, ValueWarning)\n",
      "/Users/Tiffany/opt/anaconda3/lib/python3.7/site-packages/statsmodels/base/model.py:512: ConvergenceWarning: Maximum Likelihood optimization failed to converge. Check mle_retvals\n",
      "  \"Check mle_retvals\", ConvergenceWarning)\n",
      "/Users/Tiffany/opt/anaconda3/lib/python3.7/site-packages/statsmodels/tsa/base/tsa_model.py:165: ValueWarning: No frequency information was provided, so inferred frequency 2AS-JAN will be used.\n",
      "  % freq, ValueWarning)\n"
     ]
    },
    {
     "name": "stdout",
     "output_type": "stream",
     "text": [
      "Pisces IV (Andromeda XIV)\n",
      "FM2000 1\n",
      "UGCA 438 (ESO 407-018)\n"
     ]
    },
    {
     "name": "stderr",
     "output_type": "stream",
     "text": [
      "/Users/Tiffany/opt/anaconda3/lib/python3.7/site-packages/statsmodels/tsa/base/tsa_model.py:165: ValueWarning: No frequency information was provided, so inferred frequency 2AS-JAN will be used.\n",
      "  % freq, ValueWarning)\n",
      "/Users/Tiffany/opt/anaconda3/lib/python3.7/site-packages/statsmodels/base/model.py:512: ConvergenceWarning: Maximum Likelihood optimization failed to converge. Check mle_retvals\n",
      "  \"Check mle_retvals\", ConvergenceWarning)\n",
      "/Users/Tiffany/opt/anaconda3/lib/python3.7/site-packages/statsmodels/tsa/base/tsa_model.py:165: ValueWarning: No frequency information was provided, so inferred frequency 2AS-JAN will be used.\n",
      "  % freq, ValueWarning)\n",
      "/Users/Tiffany/opt/anaconda3/lib/python3.7/site-packages/statsmodels/tsa/base/tsa_model.py:165: ValueWarning: No frequency information was provided, so inferred frequency 2AS-JAN will be used.\n",
      "  % freq, ValueWarning)\n"
     ]
    },
    {
     "name": "stdout",
     "output_type": "stream",
     "text": [
      "Triangulum II\n",
      "Sculptor Dwarf (E351-G30)\n",
      "Cas 1 (KK98 19)\n",
      "NGC 3741\n"
     ]
    },
    {
     "name": "stderr",
     "output_type": "stream",
     "text": [
      "/Users/Tiffany/opt/anaconda3/lib/python3.7/site-packages/statsmodels/tsa/base/tsa_model.py:165: ValueWarning: No frequency information was provided, so inferred frequency 2AS-JAN will be used.\n",
      "  % freq, ValueWarning)\n",
      "/Users/Tiffany/opt/anaconda3/lib/python3.7/site-packages/statsmodels/tsa/base/tsa_model.py:165: ValueWarning: No frequency information was provided, so inferred frequency 2AS-JAN will be used.\n",
      "  % freq, ValueWarning)\n",
      "/Users/Tiffany/opt/anaconda3/lib/python3.7/site-packages/statsmodels/tsa/base/tsa_model.py:165: ValueWarning: No frequency information was provided, so inferred frequency 2AS-JAN will be used.\n",
      "  % freq, ValueWarning)\n",
      "/Users/Tiffany/opt/anaconda3/lib/python3.7/site-packages/statsmodels/base/model.py:512: ConvergenceWarning: Maximum Likelihood optimization failed to converge. Check mle_retvals\n",
      "  \"Check mle_retvals\", ConvergenceWarning)\n",
      "/Users/Tiffany/opt/anaconda3/lib/python3.7/site-packages/statsmodels/tsa/base/tsa_model.py:165: ValueWarning: No frequency information was provided, so inferred frequency 2AS-JAN will be used.\n",
      "  % freq, ValueWarning)\n"
     ]
    },
    {
     "name": "stdout",
     "output_type": "stream",
     "text": [
      "Andromeda III\n",
      "Ursa Major I Dwarf (UMa I dSph)\n",
      "NGC 185\n",
      "UGCA 15 (DDO 6)\n"
     ]
    },
    {
     "name": "stderr",
     "output_type": "stream",
     "text": [
      "/Users/Tiffany/opt/anaconda3/lib/python3.7/site-packages/statsmodels/tsa/base/tsa_model.py:165: ValueWarning: No frequency information was provided, so inferred frequency 2AS-JAN will be used.\n",
      "  % freq, ValueWarning)\n",
      "/Users/Tiffany/opt/anaconda3/lib/python3.7/site-packages/statsmodels/tsa/base/tsa_model.py:165: ValueWarning: No frequency information was provided, so inferred frequency 2AS-JAN will be used.\n",
      "  % freq, ValueWarning)\n",
      "/Users/Tiffany/opt/anaconda3/lib/python3.7/site-packages/statsmodels/tsa/base/tsa_model.py:165: ValueWarning: No frequency information was provided, so inferred frequency 2AS-JAN will be used.\n",
      "  % freq, ValueWarning)\n",
      "/Users/Tiffany/opt/anaconda3/lib/python3.7/site-packages/statsmodels/base/model.py:512: ConvergenceWarning: Maximum Likelihood optimization failed to converge. Check mle_retvals\n",
      "  \"Check mle_retvals\", ConvergenceWarning)\n",
      "/Users/Tiffany/opt/anaconda3/lib/python3.7/site-packages/statsmodels/tsa/base/tsa_model.py:165: ValueWarning: No frequency information was provided, so inferred frequency 2AS-JAN will be used.\n",
      "  % freq, ValueWarning)\n",
      "/Users/Tiffany/opt/anaconda3/lib/python3.7/site-packages/statsmodels/base/model.py:512: ConvergenceWarning: Maximum Likelihood optimization failed to converge. Check mle_retvals\n",
      "  \"Check mle_retvals\", ConvergenceWarning)\n",
      "/Users/Tiffany/opt/anaconda3/lib/python3.7/site-packages/statsmodels/tsa/base/tsa_model.py:165: ValueWarning: No frequency information was provided, so inferred frequency 2AS-JAN will be used.\n",
      "  % freq, ValueWarning)\n",
      "/Users/Tiffany/opt/anaconda3/lib/python3.7/site-packages/statsmodels/tsa/base/tsa_model.py:165: ValueWarning: No frequency information was provided, so inferred frequency 2AS-JAN will be used.\n",
      "  % freq, ValueWarning)\n",
      "/Users/Tiffany/opt/anaconda3/lib/python3.7/site-packages/statsmodels/tsa/base/tsa_model.py:165: ValueWarning: No frequency information was provided, so inferred frequency 2AS-JAN will be used.\n",
      "  % freq, ValueWarning)\n",
      "/Users/Tiffany/opt/anaconda3/lib/python3.7/site-packages/statsmodels/tsa/base/tsa_model.py:165: ValueWarning: No frequency information was provided, so inferred frequency 2AS-JAN will be used.\n",
      "  % freq, ValueWarning)\n"
     ]
    },
    {
     "name": "stdout",
     "output_type": "stream",
     "text": [
      "Andromeda I\n",
      "M110 (NGC 205)\n",
      "Dwingeloo 1\n",
      "Carina II\n"
     ]
    },
    {
     "name": "stderr",
     "output_type": "stream",
     "text": [
      "/Users/Tiffany/opt/anaconda3/lib/python3.7/site-packages/statsmodels/base/model.py:512: ConvergenceWarning: Maximum Likelihood optimization failed to converge. Check mle_retvals\n",
      "  \"Check mle_retvals\", ConvergenceWarning)\n",
      "/Users/Tiffany/opt/anaconda3/lib/python3.7/site-packages/statsmodels/tsa/base/tsa_model.py:165: ValueWarning: No frequency information was provided, so inferred frequency 2AS-JAN will be used.\n",
      "  % freq, ValueWarning)\n",
      "/Users/Tiffany/opt/anaconda3/lib/python3.7/site-packages/statsmodels/tsa/base/tsa_model.py:165: ValueWarning: No frequency information was provided, so inferred frequency 2AS-JAN will be used.\n",
      "  % freq, ValueWarning)\n"
     ]
    },
    {
     "name": "stdout",
     "output_type": "stream",
     "text": [
      "IC 4662 (ESO 102-14)\n",
      "Andromeda XV\n",
      "KKh 086\n",
      "Andromeda X\n",
      "NGC 4163 (NGC 4167)\n"
     ]
    },
    {
     "name": "stderr",
     "output_type": "stream",
     "text": [
      "/Users/Tiffany/opt/anaconda3/lib/python3.7/site-packages/statsmodels/tsa/base/tsa_model.py:165: ValueWarning: No frequency information was provided, so inferred frequency 2AS-JAN will be used.\n",
      "  % freq, ValueWarning)\n",
      "/Users/Tiffany/opt/anaconda3/lib/python3.7/site-packages/statsmodels/tsa/base/tsa_model.py:165: ValueWarning: No frequency information was provided, so inferred frequency 2AS-JAN will be used.\n",
      "  % freq, ValueWarning)\n",
      "/Users/Tiffany/opt/anaconda3/lib/python3.7/site-packages/statsmodels/tsa/base/tsa_model.py:165: ValueWarning: No frequency information was provided, so inferred frequency 2AS-JAN will be used.\n",
      "  % freq, ValueWarning)\n"
     ]
    },
    {
     "name": "stdout",
     "output_type": "stream",
     "text": [
      "Tucana II\n",
      "Pisces I\n",
      "Cetus III\n"
     ]
    },
    {
     "name": "stderr",
     "output_type": "stream",
     "text": [
      "/Users/Tiffany/opt/anaconda3/lib/python3.7/site-packages/statsmodels/tsa/base/tsa_model.py:165: ValueWarning: No frequency information was provided, so inferred frequency 2AS-JAN will be used.\n",
      "  % freq, ValueWarning)\n",
      "/Users/Tiffany/opt/anaconda3/lib/python3.7/site-packages/statsmodels/base/model.py:512: ConvergenceWarning: Maximum Likelihood optimization failed to converge. Check mle_retvals\n",
      "  \"Check mle_retvals\", ConvergenceWarning)\n",
      "/Users/Tiffany/opt/anaconda3/lib/python3.7/site-packages/statsmodels/tsa/base/tsa_model.py:165: ValueWarning: No frequency information was provided, so inferred frequency 2AS-JAN will be used.\n",
      "  % freq, ValueWarning)\n",
      "/Users/Tiffany/opt/anaconda3/lib/python3.7/site-packages/statsmodels/tsa/base/tsa_model.py:165: ValueWarning: No frequency information was provided, so inferred frequency 2AS-JAN will be used.\n",
      "  % freq, ValueWarning)\n"
     ]
    },
    {
     "name": "stdout",
     "output_type": "stream",
     "text": [
      "UGC 7577 (DDO 125)\n",
      "HIPASS J1247-77\n",
      "Triangulum Galaxy (M33)\n"
     ]
    },
    {
     "name": "stderr",
     "output_type": "stream",
     "text": [
      "/Users/Tiffany/opt/anaconda3/lib/python3.7/site-packages/statsmodels/tsa/base/tsa_model.py:165: ValueWarning: No frequency information was provided, so inferred frequency 2AS-JAN will be used.\n",
      "  % freq, ValueWarning)\n",
      "/Users/Tiffany/opt/anaconda3/lib/python3.7/site-packages/statsmodels/tsa/base/tsa_model.py:165: ValueWarning: No frequency information was provided, so inferred frequency 2AS-JAN will be used.\n",
      "  % freq, ValueWarning)\n",
      "/Users/Tiffany/opt/anaconda3/lib/python3.7/site-packages/statsmodels/tsa/base/tsa_model.py:165: ValueWarning: No frequency information was provided, so inferred frequency 2AS-JAN will be used.\n",
      "  % freq, ValueWarning)\n",
      "/Users/Tiffany/opt/anaconda3/lib/python3.7/site-packages/statsmodels/base/model.py:512: ConvergenceWarning: Maximum Likelihood optimization failed to converge. Check mle_retvals\n",
      "  \"Check mle_retvals\", ConvergenceWarning)\n",
      "/Users/Tiffany/opt/anaconda3/lib/python3.7/site-packages/statsmodels/tsa/base/tsa_model.py:165: ValueWarning: No frequency information was provided, so inferred frequency 2AS-JAN will be used.\n",
      "  % freq, ValueWarning)\n",
      "/Users/Tiffany/opt/anaconda3/lib/python3.7/site-packages/statsmodels/tsa/base/tsa_model.py:165: ValueWarning: No frequency information was provided, so inferred frequency 2AS-JAN will be used.\n",
      "  % freq, ValueWarning)\n",
      "/Users/Tiffany/opt/anaconda3/lib/python3.7/site-packages/statsmodels/tsa/base/tsa_model.py:165: ValueWarning: No frequency information was provided, so inferred frequency 2AS-JAN will be used.\n",
      "  % freq, ValueWarning)\n"
     ]
    },
    {
     "name": "stdout",
     "output_type": "stream",
     "text": [
      "Small Magellanic Cloud (SMC, NGC 292)\n",
      "Canes Venatici I Dwarf\n",
      "UGCA 92\n",
      "IC 342\n",
      "UGC 4879 (VV124)[61]\n",
      "Pegasus III\n"
     ]
    },
    {
     "name": "stderr",
     "output_type": "stream",
     "text": [
      "/Users/Tiffany/opt/anaconda3/lib/python3.7/site-packages/statsmodels/tsa/base/tsa_model.py:165: ValueWarning: No frequency information was provided, so inferred frequency 2AS-JAN will be used.\n",
      "  % freq, ValueWarning)\n",
      "/Users/Tiffany/opt/anaconda3/lib/python3.7/site-packages/statsmodels/tsa/base/tsa_model.py:165: ValueWarning: No frequency information was provided, so inferred frequency 2AS-JAN will be used.\n",
      "  % freq, ValueWarning)\n",
      "/Users/Tiffany/opt/anaconda3/lib/python3.7/site-packages/statsmodels/tsa/base/tsa_model.py:165: ValueWarning: No frequency information was provided, so inferred frequency 2AS-JAN will be used.\n",
      "  % freq, ValueWarning)\n"
     ]
    },
    {
     "name": "stdout",
     "output_type": "stream",
     "text": [
      "Leo A (Leo III, DDO 69)\n",
      "Tucana III\n",
      "KKH 37 (Mai 16)\n",
      "NGC 4214 (UGC 7278)\n"
     ]
    },
    {
     "name": "stderr",
     "output_type": "stream",
     "text": [
      "/Users/Tiffany/opt/anaconda3/lib/python3.7/site-packages/statsmodels/tsa/base/tsa_model.py:165: ValueWarning: No frequency information was provided, so inferred frequency 2AS-JAN will be used.\n",
      "  % freq, ValueWarning)\n",
      "/Users/Tiffany/opt/anaconda3/lib/python3.7/site-packages/statsmodels/tsa/base/tsa_model.py:165: ValueWarning: No frequency information was provided, so inferred frequency 2AS-JAN will be used.\n",
      "  % freq, ValueWarning)\n",
      "/Users/Tiffany/opt/anaconda3/lib/python3.7/site-packages/statsmodels/tsa/base/tsa_model.py:165: ValueWarning: No frequency information was provided, so inferred frequency 2AS-JAN will be used.\n",
      "  % freq, ValueWarning)\n",
      "/Users/Tiffany/opt/anaconda3/lib/python3.7/site-packages/statsmodels/tsa/base/tsa_model.py:165: ValueWarning: No frequency information was provided, so inferred frequency 2AS-JAN will be used.\n",
      "  % freq, ValueWarning)\n"
     ]
    },
    {
     "name": "stdout",
     "output_type": "stream",
     "text": [
      "Pisces Dwarf\n",
      "Leo IV Dwarf\n",
      "Eridanus II\n",
      "Canes Venatici II Dwarf\n"
     ]
    },
    {
     "name": "stderr",
     "output_type": "stream",
     "text": [
      "/Users/Tiffany/opt/anaconda3/lib/python3.7/site-packages/statsmodels/tsa/base/tsa_model.py:165: ValueWarning: No frequency information was provided, so inferred frequency 2AS-JAN will be used.\n",
      "  % freq, ValueWarning)\n",
      "/Users/Tiffany/opt/anaconda3/lib/python3.7/site-packages/statsmodels/tsa/base/tsa_model.py:165: ValueWarning: No frequency information was provided, so inferred frequency 2AS-JAN will be used.\n",
      "  % freq, ValueWarning)\n",
      "/Users/Tiffany/opt/anaconda3/lib/python3.7/site-packages/statsmodels/tsa/base/tsa_model.py:165: ValueWarning: No frequency information was provided, so inferred frequency 2AS-JAN will be used.\n",
      "  % freq, ValueWarning)\n",
      "/Users/Tiffany/opt/anaconda3/lib/python3.7/site-packages/statsmodels/tsa/base/tsa_model.py:165: ValueWarning: No frequency information was provided, so inferred frequency 2AS-JAN will be used.\n",
      "  % freq, ValueWarning)\n"
     ]
    },
    {
     "name": "stdout",
     "output_type": "stream",
     "text": [
      "IC 10 (UGC 192)\n",
      "Willman 1\n",
      "ESO 410-G005\n",
      "Wolf-Lundmark-Melotte (WLM, DDO 221)\n"
     ]
    },
    {
     "name": "stderr",
     "output_type": "stream",
     "text": [
      "/Users/Tiffany/opt/anaconda3/lib/python3.7/site-packages/statsmodels/tsa/base/tsa_model.py:165: ValueWarning: No frequency information was provided, so inferred frequency 2AS-JAN will be used.\n",
      "  % freq, ValueWarning)\n",
      "/Users/Tiffany/opt/anaconda3/lib/python3.7/site-packages/statsmodels/tsa/base/tsa_model.py:165: ValueWarning: No frequency information was provided, so inferred frequency 2AS-JAN will be used.\n",
      "  % freq, ValueWarning)\n",
      "/Users/Tiffany/opt/anaconda3/lib/python3.7/site-packages/statsmodels/tsa/base/tsa_model.py:165: ValueWarning: No frequency information was provided, so inferred frequency 2AS-JAN will be used.\n",
      "  % freq, ValueWarning)\n",
      "/Users/Tiffany/opt/anaconda3/lib/python3.7/site-packages/statsmodels/tsa/base/tsa_model.py:165: ValueWarning: No frequency information was provided, so inferred frequency 2AS-JAN will be used.\n",
      "  % freq, ValueWarning)\n",
      "/Users/Tiffany/opt/anaconda3/lib/python3.7/site-packages/statsmodels/base/model.py:512: ConvergenceWarning: Maximum Likelihood optimization failed to converge. Check mle_retvals\n",
      "  \"Check mle_retvals\", ConvergenceWarning)\n",
      "/Users/Tiffany/opt/anaconda3/lib/python3.7/site-packages/statsmodels/tsa/base/tsa_model.py:165: ValueWarning: No frequency information was provided, so inferred frequency 2AS-JAN will be used.\n",
      "  % freq, ValueWarning)\n",
      "/Users/Tiffany/opt/anaconda3/lib/python3.7/site-packages/statsmodels/tsa/base/tsa_model.py:165: ValueWarning: No frequency information was provided, so inferred frequency 2AS-JAN will be used.\n",
      "  % freq, ValueWarning)\n"
     ]
    },
    {
     "name": "stdout",
     "output_type": "stream",
     "text": [
      "Sagittarius Dwarf Irregular Galaxy (SagDIG)\n",
      "KKh 98\n",
      "NGC 1560\n"
     ]
    },
    {
     "name": "stderr",
     "output_type": "stream",
     "text": [
      "/Users/Tiffany/opt/anaconda3/lib/python3.7/site-packages/statsmodels/tsa/base/tsa_model.py:165: ValueWarning: No frequency information was provided, so inferred frequency 2AS-JAN will be used.\n",
      "  % freq, ValueWarning)\n",
      "/Users/Tiffany/opt/anaconda3/lib/python3.7/site-packages/statsmodels/tsa/base/tsa_model.py:165: ValueWarning: No frequency information was provided, so inferred frequency 2AS-JAN will be used.\n",
      "  % freq, ValueWarning)\n",
      "/Users/Tiffany/opt/anaconda3/lib/python3.7/site-packages/statsmodels/base/model.py:512: ConvergenceWarning: Maximum Likelihood optimization failed to converge. Check mle_retvals\n",
      "  \"Check mle_retvals\", ConvergenceWarning)\n",
      "/Users/Tiffany/opt/anaconda3/lib/python3.7/site-packages/statsmodels/tsa/base/tsa_model.py:165: ValueWarning: No frequency information was provided, so inferred frequency 2AS-JAN will be used.\n",
      "  % freq, ValueWarning)\n"
     ]
    },
    {
     "name": "stdout",
     "output_type": "stream",
     "text": [
      "NGC 3109\n",
      "NGC 247\n"
     ]
    },
    {
     "name": "stderr",
     "output_type": "stream",
     "text": [
      "/Users/Tiffany/opt/anaconda3/lib/python3.7/site-packages/statsmodels/base/model.py:512: ConvergenceWarning: Maximum Likelihood optimization failed to converge. Check mle_retvals\n",
      "  \"Check mle_retvals\", ConvergenceWarning)\n",
      "/Users/Tiffany/opt/anaconda3/lib/python3.7/site-packages/statsmodels/tsa/base/tsa_model.py:165: ValueWarning: No frequency information was provided, so inferred frequency 2AS-JAN will be used.\n",
      "  % freq, ValueWarning)\n",
      "/Users/Tiffany/opt/anaconda3/lib/python3.7/site-packages/statsmodels/tsa/base/tsa_model.py:165: ValueWarning: No frequency information was provided, so inferred frequency 2AS-JAN will be used.\n",
      "  % freq, ValueWarning)\n"
     ]
    },
    {
     "name": "stdout",
     "output_type": "stream",
     "text": [
      "NGC 2403\n",
      "Andromeda XXI[57]\n",
      "Donatiello I\n",
      "ESO 540-032\n",
      "Draco Dwarf (DDO 208)\n",
      "Cassiopeia II (Andromeda XXX)\n"
     ]
    },
    {
     "name": "stderr",
     "output_type": "stream",
     "text": [
      "/Users/Tiffany/opt/anaconda3/lib/python3.7/site-packages/statsmodels/tsa/base/tsa_model.py:165: ValueWarning: No frequency information was provided, so inferred frequency 2AS-JAN will be used.\n",
      "  % freq, ValueWarning)\n",
      "/Users/Tiffany/opt/anaconda3/lib/python3.7/site-packages/statsmodels/tsa/base/tsa_model.py:165: ValueWarning: No frequency information was provided, so inferred frequency 2AS-JAN will be used.\n",
      "  % freq, ValueWarning)\n",
      "/Users/Tiffany/opt/anaconda3/lib/python3.7/site-packages/statsmodels/tsa/base/tsa_model.py:165: ValueWarning: No frequency information was provided, so inferred frequency 2AS-JAN will be used.\n",
      "  % freq, ValueWarning)\n",
      "/Users/Tiffany/opt/anaconda3/lib/python3.7/site-packages/statsmodels/tsa/base/tsa_model.py:165: ValueWarning: No frequency information was provided, so inferred frequency 2AS-JAN will be used.\n",
      "  % freq, ValueWarning)\n"
     ]
    },
    {
     "name": "stdout",
     "output_type": "stream",
     "text": [
      "Boötes I\n",
      "Maffei 1\n",
      "Barnard's Galaxy (NGC 6822)\n",
      "KKR 03 (KK98 230)\n"
     ]
    },
    {
     "name": "stderr",
     "output_type": "stream",
     "text": [
      "/Users/Tiffany/opt/anaconda3/lib/python3.7/site-packages/statsmodels/tsa/base/tsa_model.py:165: ValueWarning: No frequency information was provided, so inferred frequency 2AS-JAN will be used.\n",
      "  % freq, ValueWarning)\n",
      "/Users/Tiffany/opt/anaconda3/lib/python3.7/site-packages/statsmodels/tsa/base/tsa_model.py:165: ValueWarning: No frequency information was provided, so inferred frequency 2AS-JAN will be used.\n",
      "  % freq, ValueWarning)\n",
      "/Users/Tiffany/opt/anaconda3/lib/python3.7/site-packages/statsmodels/tsa/base/tsa_model.py:165: ValueWarning: No frequency information was provided, so inferred frequency 2AS-JAN will be used.\n",
      "  % freq, ValueWarning)\n",
      "/Users/Tiffany/opt/anaconda3/lib/python3.7/site-packages/statsmodels/tsa/base/tsa_model.py:165: ValueWarning: No frequency information was provided, so inferred frequency 2AS-JAN will be used.\n",
      "  % freq, ValueWarning)\n"
     ]
    },
    {
     "name": "stdout",
     "output_type": "stream",
     "text": [
      "M32 (NGC 221)\n",
      "Boötes III\n",
      "Pegasus Dwarf Sph (And VI)\n"
     ]
    },
    {
     "name": "stderr",
     "output_type": "stream",
     "text": [
      "/Users/Tiffany/opt/anaconda3/lib/python3.7/site-packages/statsmodels/tsa/base/tsa_model.py:165: ValueWarning: No frequency information was provided, so inferred frequency 2AS-JAN will be used.\n",
      "  % freq, ValueWarning)\n",
      "/Users/Tiffany/opt/anaconda3/lib/python3.7/site-packages/statsmodels/tsa/base/tsa_model.py:165: ValueWarning: No frequency information was provided, so inferred frequency 2AS-JAN will be used.\n",
      "  % freq, ValueWarning)\n",
      "/Users/Tiffany/opt/anaconda3/lib/python3.7/site-packages/statsmodels/tsa/base/tsa_model.py:165: ValueWarning: No frequency information was provided, so inferred frequency 2AS-JAN will be used.\n",
      "  % freq, ValueWarning)\n"
     ]
    },
    {
     "name": "stdout",
     "output_type": "stream",
     "text": [
      "Sextans Dwarf Sph\n",
      "Cassiopeia III (Andromeda XXXII)\n",
      "Sextans A (92205, DDO 75)\n"
     ]
    },
    {
     "name": "stderr",
     "output_type": "stream",
     "text": [
      "/Users/Tiffany/opt/anaconda3/lib/python3.7/site-packages/statsmodels/tsa/base/tsa_model.py:165: ValueWarning: No frequency information was provided, so inferred frequency 2AS-JAN will be used.\n",
      "  % freq, ValueWarning)\n",
      "/Users/Tiffany/opt/anaconda3/lib/python3.7/site-packages/statsmodels/tsa/base/tsa_model.py:165: ValueWarning: No frequency information was provided, so inferred frequency 2AS-JAN will be used.\n",
      "  % freq, ValueWarning)\n",
      "/Users/Tiffany/opt/anaconda3/lib/python3.7/site-packages/statsmodels/tsa/base/tsa_model.py:165: ValueWarning: No frequency information was provided, so inferred frequency 2AS-JAN will be used.\n",
      "  % freq, ValueWarning)\n"
     ]
    },
    {
     "name": "stdout",
     "output_type": "stream",
     "text": [
      "NGC 147 (DDO 3)\n",
      "Andromeda XXIV\n",
      "Aquarius Dwarf Galaxy (DDO 210)\n",
      "Andromeda Galaxy (M31)\n"
     ]
    },
    {
     "name": "stderr",
     "output_type": "stream",
     "text": [
      "/Users/Tiffany/opt/anaconda3/lib/python3.7/site-packages/statsmodels/tsa/base/tsa_model.py:165: ValueWarning: No frequency information was provided, so inferred frequency 2AS-JAN will be used.\n",
      "  % freq, ValueWarning)\n",
      "/Users/Tiffany/opt/anaconda3/lib/python3.7/site-packages/statsmodels/tsa/base/tsa_model.py:165: ValueWarning: No frequency information was provided, so inferred frequency 2AS-JAN will be used.\n",
      "  % freq, ValueWarning)\n",
      "/Users/Tiffany/opt/anaconda3/lib/python3.7/site-packages/statsmodels/tsa/base/tsa_model.py:165: ValueWarning: No frequency information was provided, so inferred frequency 2AS-JAN will be used.\n",
      "  % freq, ValueWarning)\n",
      "/Users/Tiffany/opt/anaconda3/lib/python3.7/site-packages/statsmodels/tsa/base/tsa_model.py:165: ValueWarning: No frequency information was provided, so inferred frequency 2AS-JAN will be used.\n",
      "  % freq, ValueWarning)\n"
     ]
    },
    {
     "name": "stdout",
     "output_type": "stream",
     "text": [
      "NGC 300\n",
      "KKs 3\n",
      "Antlia B\n",
      "Pisces II\n"
     ]
    },
    {
     "name": "stderr",
     "output_type": "stream",
     "text": [
      "/Users/Tiffany/opt/anaconda3/lib/python3.7/site-packages/statsmodels/tsa/base/tsa_model.py:165: ValueWarning: No frequency information was provided, so inferred frequency 2AS-JAN will be used.\n",
      "  % freq, ValueWarning)\n",
      "/Users/Tiffany/opt/anaconda3/lib/python3.7/site-packages/statsmodels/tsa/base/tsa_model.py:165: ValueWarning: No frequency information was provided, so inferred frequency 2AS-JAN will be used.\n",
      "  % freq, ValueWarning)\n",
      "/Users/Tiffany/opt/anaconda3/lib/python3.7/site-packages/statsmodels/tsa/base/tsa_model.py:165: ValueWarning: No frequency information was provided, so inferred frequency 2AS-JAN will be used.\n",
      "  % freq, ValueWarning)\n",
      "/Users/Tiffany/opt/anaconda3/lib/python3.7/site-packages/statsmodels/tsa/base/tsa_model.py:165: ValueWarning: No frequency information was provided, so inferred frequency 2AS-JAN will be used.\n",
      "  % freq, ValueWarning)\n"
     ]
    },
    {
     "name": "stdout",
     "output_type": "stream",
     "text": [
      "GR 8 (DDO 155)\n",
      "NGC 1569 (UGC 3056)\n",
      "KKR 25\n",
      "UGCA 86\n",
      "Andromeda XXVIII\n"
     ]
    },
    {
     "name": "stderr",
     "output_type": "stream",
     "text": [
      "/Users/Tiffany/opt/anaconda3/lib/python3.7/site-packages/statsmodels/tsa/base/tsa_model.py:165: ValueWarning: No frequency information was provided, so inferred frequency 2AS-JAN will be used.\n",
      "  % freq, ValueWarning)\n",
      "/Users/Tiffany/opt/anaconda3/lib/python3.7/site-packages/statsmodels/tsa/base/tsa_model.py:165: ValueWarning: No frequency information was provided, so inferred frequency 2AS-JAN will be used.\n",
      "  % freq, ValueWarning)\n",
      "/Users/Tiffany/opt/anaconda3/lib/python3.7/site-packages/statsmodels/tsa/base/tsa_model.py:165: ValueWarning: No frequency information was provided, so inferred frequency 2AS-JAN will be used.\n",
      "  % freq, ValueWarning)\n",
      "/Users/Tiffany/opt/anaconda3/lib/python3.7/site-packages/statsmodels/tsa/base/tsa_model.py:165: ValueWarning: No frequency information was provided, so inferred frequency 2AS-JAN will be used.\n",
      "  % freq, ValueWarning)\n",
      "/Users/Tiffany/opt/anaconda3/lib/python3.7/site-packages/statsmodels/tsa/base/tsa_model.py:165: ValueWarning: No frequency information was provided, so inferred frequency 2AS-JAN will be used.\n",
      "  % freq, ValueWarning)\n"
     ]
    },
    {
     "name": "stdout",
     "output_type": "stream",
     "text": [
      "Leo V Dwarf\n",
      "Andromeda XXV\n",
      "Segue 1\n",
      "Pisces III (Andromeda XIII)\n"
     ]
    },
    {
     "name": "stderr",
     "output_type": "stream",
     "text": [
      "/Users/Tiffany/opt/anaconda3/lib/python3.7/site-packages/statsmodels/tsa/base/tsa_model.py:165: ValueWarning: No frequency information was provided, so inferred frequency 2AS-JAN will be used.\n",
      "  % freq, ValueWarning)\n",
      "/Users/Tiffany/opt/anaconda3/lib/python3.7/site-packages/statsmodels/tsa/base/tsa_model.py:165: ValueWarning: No frequency information was provided, so inferred frequency 2AS-JAN will be used.\n",
      "  % freq, ValueWarning)\n",
      "/Users/Tiffany/opt/anaconda3/lib/python3.7/site-packages/statsmodels/base/model.py:512: ConvergenceWarning: Maximum Likelihood optimization failed to converge. Check mle_retvals\n",
      "  \"Check mle_retvals\", ConvergenceWarning)\n",
      "/Users/Tiffany/opt/anaconda3/lib/python3.7/site-packages/statsmodels/tsa/base/tsa_model.py:165: ValueWarning: No frequency information was provided, so inferred frequency 2AS-JAN will be used.\n",
      "  % freq, ValueWarning)\n",
      "/Users/Tiffany/opt/anaconda3/lib/python3.7/site-packages/statsmodels/tsa/base/tsa_model.py:165: ValueWarning: No frequency information was provided, so inferred frequency 2AS-JAN will be used.\n",
      "  % freq, ValueWarning)\n"
     ]
    },
    {
     "name": "stdout",
     "output_type": "stream",
     "text": [
      "Antlia 2\n",
      "IC 3104\n",
      "Pictor II\n",
      "UGC 9240 (DDO 190)\n"
     ]
    },
    {
     "name": "stderr",
     "output_type": "stream",
     "text": [
      "/Users/Tiffany/opt/anaconda3/lib/python3.7/site-packages/statsmodels/tsa/base/tsa_model.py:165: ValueWarning: No frequency information was provided, so inferred frequency 2AS-JAN will be used.\n",
      "  % freq, ValueWarning)\n",
      "/Users/Tiffany/opt/anaconda3/lib/python3.7/site-packages/statsmodels/tsa/base/tsa_model.py:165: ValueWarning: No frequency information was provided, so inferred frequency 2AS-JAN will be used.\n",
      "  % freq, ValueWarning)\n",
      "/Users/Tiffany/opt/anaconda3/lib/python3.7/site-packages/statsmodels/tsa/base/tsa_model.py:165: ValueWarning: No frequency information was provided, so inferred frequency 2AS-JAN will be used.\n",
      "  % freq, ValueWarning)\n",
      "/Users/Tiffany/opt/anaconda3/lib/python3.7/site-packages/statsmodels/tsa/base/tsa_model.py:165: ValueWarning: No frequency information was provided, so inferred frequency 2AS-JAN will be used.\n",
      "  % freq, ValueWarning)\n",
      "/Users/Tiffany/opt/anaconda3/lib/python3.7/site-packages/statsmodels/base/model.py:512: ConvergenceWarning: Maximum Likelihood optimization failed to converge. Check mle_retvals\n",
      "  \"Check mle_retvals\", ConvergenceWarning)\n",
      "/Users/Tiffany/opt/anaconda3/lib/python3.7/site-packages/statsmodels/tsa/base/tsa_model.py:165: ValueWarning: No frequency information was provided, so inferred frequency 2AS-JAN will be used.\n",
      "  % freq, ValueWarning)\n",
      "/Users/Tiffany/opt/anaconda3/lib/python3.7/site-packages/statsmodels/tsa/base/tsa_model.py:219: ValueWarning: A date index has been provided, but it has no associated frequency information and so will be ignored when e.g. forecasting.\n",
      "  ' ignored when e.g. forecasting.', ValueWarning)\n",
      "/Users/Tiffany/opt/anaconda3/lib/python3.7/site-packages/statsmodels/tsa/base/tsa_model.py:165: ValueWarning: No frequency information was provided, so inferred frequency 2AS-JAN will be used.\n",
      "  % freq, ValueWarning)\n",
      "/Users/Tiffany/opt/anaconda3/lib/python3.7/site-packages/statsmodels/base/model.py:512: ConvergenceWarning: Maximum Likelihood optimization failed to converge. Check mle_retvals\n",
      "  \"Check mle_retvals\", ConvergenceWarning)\n",
      "/Users/Tiffany/opt/anaconda3/lib/python3.7/site-packages/statsmodels/tsa/base/tsa_model.py:165: ValueWarning: No frequency information was provided, so inferred frequency 2AS-JAN will be used.\n",
      "  % freq, ValueWarning)\n",
      "/Users/Tiffany/opt/anaconda3/lib/python3.7/site-packages/statsmodels/base/model.py:512: ConvergenceWarning: Maximum Likelihood optimization failed to converge. Check mle_retvals\n",
      "  \"Check mle_retvals\", ConvergenceWarning)\n"
     ]
    },
    {
     "name": "stdout",
     "output_type": "stream",
     "text": [
      "Andromeda XII\n",
      "NGC 5253\n",
      "ERROR: NGC 5253\n",
      "Horologium I\n",
      "DDO 99 (UGC 6817)\n",
      "Carina Dwarf (E206-G220)\n"
     ]
    },
    {
     "name": "stderr",
     "output_type": "stream",
     "text": [
      "/Users/Tiffany/opt/anaconda3/lib/python3.7/site-packages/statsmodels/tsa/base/tsa_model.py:165: ValueWarning: No frequency information was provided, so inferred frequency 2AS-JAN will be used.\n",
      "  % freq, ValueWarning)\n",
      "/Users/Tiffany/opt/anaconda3/lib/python3.7/site-packages/statsmodels/tsa/base/tsa_model.py:165: ValueWarning: No frequency information was provided, so inferred frequency 2AS-JAN will be used.\n",
      "  % freq, ValueWarning)\n",
      "/Users/Tiffany/opt/anaconda3/lib/python3.7/site-packages/statsmodels/tsa/base/tsa_model.py:165: ValueWarning: No frequency information was provided, so inferred frequency 2AS-JAN will be used.\n",
      "  % freq, ValueWarning)\n"
     ]
    },
    {
     "name": "stdout",
     "output_type": "stream",
     "text": [
      "Leo T Dwarf\n",
      "Tucana IV\n",
      "Andromeda XIX[60]\n"
     ]
    },
    {
     "name": "stderr",
     "output_type": "stream",
     "text": [
      "/Users/Tiffany/opt/anaconda3/lib/python3.7/site-packages/statsmodels/tsa/base/tsa_model.py:165: ValueWarning: No frequency information was provided, so inferred frequency 2AS-JAN will be used.\n",
      "  % freq, ValueWarning)\n",
      "/Users/Tiffany/opt/anaconda3/lib/python3.7/site-packages/statsmodels/tsa/base/tsa_model.py:165: ValueWarning: No frequency information was provided, so inferred frequency 2AS-JAN will be used.\n",
      "  % freq, ValueWarning)\n",
      "/Users/Tiffany/opt/anaconda3/lib/python3.7/site-packages/statsmodels/tsa/base/tsa_model.py:165: ValueWarning: No frequency information was provided, so inferred frequency 2AS-JAN will be used.\n",
      "  % freq, ValueWarning)\n"
     ]
    },
    {
     "name": "stdout",
     "output_type": "stream",
     "text": [
      "KK98 35\n",
      "UGC 4483\n"
     ]
    },
    {
     "name": "stderr",
     "output_type": "stream",
     "text": [
      "/Users/Tiffany/opt/anaconda3/lib/python3.7/site-packages/statsmodels/base/model.py:512: ConvergenceWarning: Maximum Likelihood optimization failed to converge. Check mle_retvals\n",
      "  \"Check mle_retvals\", ConvergenceWarning)\n",
      "/Users/Tiffany/opt/anaconda3/lib/python3.7/site-packages/statsmodels/tsa/base/tsa_model.py:165: ValueWarning: No frequency information was provided, so inferred frequency 2AS-JAN will be used.\n",
      "  % freq, ValueWarning)\n",
      "/Users/Tiffany/opt/anaconda3/lib/python3.7/site-packages/statsmodels/tsa/base/tsa_model.py:165: ValueWarning: No frequency information was provided, so inferred frequency 2AS-JAN will be used.\n",
      "  % freq, ValueWarning)\n",
      "/Users/Tiffany/opt/anaconda3/lib/python3.7/site-packages/statsmodels/tsa/base/tsa_model.py:165: ValueWarning: No frequency information was provided, so inferred frequency 2AS-JAN will be used.\n",
      "  % freq, ValueWarning)\n",
      "/Users/Tiffany/opt/anaconda3/lib/python3.7/site-packages/statsmodels/tsa/base/tsa_model.py:165: ValueWarning: No frequency information was provided, so inferred frequency 2AS-JAN will be used.\n",
      "  % freq, ValueWarning)\n"
     ]
    },
    {
     "name": "stdout",
     "output_type": "stream",
     "text": [
      "KKH 12\n",
      "Andromeda XXIX\n",
      "Andromeda VIII\n",
      "Ursa Major II Dwarf\n"
     ]
    },
    {
     "name": "stderr",
     "output_type": "stream",
     "text": [
      "/Users/Tiffany/opt/anaconda3/lib/python3.7/site-packages/statsmodels/base/model.py:512: ConvergenceWarning: Maximum Likelihood optimization failed to converge. Check mle_retvals\n",
      "  \"Check mle_retvals\", ConvergenceWarning)\n",
      "/Users/Tiffany/opt/anaconda3/lib/python3.7/site-packages/statsmodels/tsa/base/tsa_model.py:165: ValueWarning: No frequency information was provided, so inferred frequency 2AS-JAN will be used.\n",
      "  % freq, ValueWarning)\n",
      "/Users/Tiffany/opt/anaconda3/lib/python3.7/site-packages/statsmodels/tsa/base/tsa_model.py:165: ValueWarning: No frequency information was provided, so inferred frequency 2AS-JAN will be used.\n",
      "  % freq, ValueWarning)\n",
      "/Users/Tiffany/opt/anaconda3/lib/python3.7/site-packages/statsmodels/base/model.py:512: ConvergenceWarning: Maximum Likelihood optimization failed to converge. Check mle_retvals\n",
      "  \"Check mle_retvals\", ConvergenceWarning)\n",
      "/Users/Tiffany/opt/anaconda3/lib/python3.7/site-packages/statsmodels/tsa/base/tsa_model.py:165: ValueWarning: No frequency information was provided, so inferred frequency 2AS-JAN will be used.\n",
      "  % freq, ValueWarning)\n",
      "/Users/Tiffany/opt/anaconda3/lib/python3.7/site-packages/statsmodels/tsa/base/tsa_model.py:165: ValueWarning: No frequency information was provided, so inferred frequency 2AS-JAN will be used.\n",
      "  % freq, ValueWarning)\n"
     ]
    },
    {
     "name": "stdout",
     "output_type": "stream",
     "text": [
      "Hydrus I\n",
      "MB 3\n",
      "HIZSS 003\n",
      "Andromeda XXIII\n",
      "Cetus Dwarf\n",
      "Dwingeloo 2\n",
      "ESO 294-010\n",
      "Boötes II\n",
      "ESO 383-087 (ISG 39)\n"
     ]
    },
    {
     "name": "stderr",
     "output_type": "stream",
     "text": [
      "/Users/Tiffany/opt/anaconda3/lib/python3.7/site-packages/statsmodels/tsa/base/tsa_model.py:165: ValueWarning: No frequency information was provided, so inferred frequency 2AS-JAN will be used.\n",
      "  % freq, ValueWarning)\n",
      "/Users/Tiffany/opt/anaconda3/lib/python3.7/site-packages/statsmodels/tsa/base/tsa_model.py:165: ValueWarning: No frequency information was provided, so inferred frequency 2AS-JAN will be used.\n",
      "  % freq, ValueWarning)\n",
      "/Users/Tiffany/opt/anaconda3/lib/python3.7/site-packages/statsmodels/tsa/base/tsa_model.py:165: ValueWarning: No frequency information was provided, so inferred frequency 2AS-JAN will be used.\n",
      "  % freq, ValueWarning)\n",
      "/Users/Tiffany/opt/anaconda3/lib/python3.7/site-packages/statsmodels/tsa/base/tsa_model.py:165: ValueWarning: No frequency information was provided, so inferred frequency 2AS-JAN will be used.\n",
      "  % freq, ValueWarning)\n",
      "/Users/Tiffany/opt/anaconda3/lib/python3.7/site-packages/statsmodels/tsa/base/tsa_model.py:165: ValueWarning: No frequency information was provided, so inferred frequency 2AS-JAN will be used.\n",
      "  % freq, ValueWarning)\n"
     ]
    },
    {
     "name": "stdout",
     "output_type": "stream",
     "text": [
      "Pisces V (Andromeda XVI)\n",
      "Hercules Dwarf\n",
      "Hydra II\n",
      "IC 5152\n",
      "NGC 2366\n"
     ]
    },
    {
     "name": "stderr",
     "output_type": "stream",
     "text": [
      "/Users/Tiffany/opt/anaconda3/lib/python3.7/site-packages/statsmodels/tsa/base/tsa_model.py:165: ValueWarning: No frequency information was provided, so inferred frequency 2AS-JAN will be used.\n",
      "  % freq, ValueWarning)\n",
      "/Users/Tiffany/opt/anaconda3/lib/python3.7/site-packages/statsmodels/tsa/base/tsa_model.py:165: ValueWarning: No frequency information was provided, so inferred frequency 2AS-JAN will be used.\n",
      "  % freq, ValueWarning)\n",
      "/Users/Tiffany/opt/anaconda3/lib/python3.7/site-packages/statsmodels/tsa/base/tsa_model.py:165: ValueWarning: No frequency information was provided, so inferred frequency 2AS-JAN will be used.\n",
      "  % freq, ValueWarning)\n",
      "/Users/Tiffany/opt/anaconda3/lib/python3.7/site-packages/statsmodels/tsa/base/tsa_model.py:165: ValueWarning: No frequency information was provided, so inferred frequency 2AS-JAN will be used.\n",
      "  % freq, ValueWarning)\n",
      "/Users/Tiffany/opt/anaconda3/lib/python3.7/site-packages/statsmodels/tsa/base/tsa_model.py:165: ValueWarning: No frequency information was provided, so inferred frequency 2AS-JAN will be used.\n",
      "  % freq, ValueWarning)\n"
     ]
    },
    {
     "name": "stdout",
     "output_type": "stream",
     "text": [
      "Pegasus Dwarf Irregular (DDO 216)\n",
      "Reticulum III\n",
      "Coma Berenices Dwarf\n",
      "Sextans B (UGC 5373)\n",
      "NGC 55\n"
     ]
    },
    {
     "name": "stderr",
     "output_type": "stream",
     "text": [
      "/Users/Tiffany/opt/anaconda3/lib/python3.7/site-packages/statsmodels/tsa/base/tsa_model.py:165: ValueWarning: No frequency information was provided, so inferred frequency 2AS-JAN will be used.\n",
      "  % freq, ValueWarning)\n",
      "/Users/Tiffany/opt/anaconda3/lib/python3.7/site-packages/statsmodels/tsa/base/tsa_model.py:165: ValueWarning: No frequency information was provided, so inferred frequency 2AS-JAN will be used.\n",
      "  % freq, ValueWarning)\n",
      "/Users/Tiffany/opt/anaconda3/lib/python3.7/site-packages/statsmodels/tsa/base/tsa_model.py:165: ValueWarning: No frequency information was provided, so inferred frequency 2AS-JAN will be used.\n",
      "  % freq, ValueWarning)\n",
      "/Users/Tiffany/opt/anaconda3/lib/python3.7/site-packages/statsmodels/tsa/base/tsa_model.py:165: ValueWarning: No frequency information was provided, so inferred frequency 2AS-JAN will be used.\n",
      "  % freq, ValueWarning)\n",
      "/Users/Tiffany/opt/anaconda3/lib/python3.7/site-packages/statsmodels/tsa/base/tsa_model.py:165: ValueWarning: No frequency information was provided, so inferred frequency 2AS-JAN will be used.\n",
      "  % freq, ValueWarning)\n"
     ]
    },
    {
     "name": "stdout",
     "output_type": "stream",
     "text": [
      "Leo I Dwarf (DDO 74, UGC 5470)\n",
      "UGC 8508 (I Zw 060)\n"
     ]
    },
    {
     "name": "stderr",
     "output_type": "stream",
     "text": [
      "/Users/Tiffany/opt/anaconda3/lib/python3.7/site-packages/statsmodels/tsa/base/tsa_model.py:165: ValueWarning: No frequency information was provided, so inferred frequency 2AS-JAN will be used.\n",
      "  % freq, ValueWarning)\n",
      "/Users/Tiffany/opt/anaconda3/lib/python3.7/site-packages/statsmodels/tsa/base/tsa_model.py:165: ValueWarning: No frequency information was provided, so inferred frequency 2AS-JAN will be used.\n",
      "  % freq, ValueWarning)\n"
     ]
    },
    {
     "name": "stdout",
     "output_type": "stream",
     "text": [
      "NGC 5237\n",
      "NGC 5206\n",
      "NGC 5102\n",
      "['NGC 5253']\n"
     ]
    },
    {
     "name": "stderr",
     "output_type": "stream",
     "text": [
      "/Users/Tiffany/opt/anaconda3/lib/python3.7/site-packages/statsmodels/tsa/base/tsa_model.py:165: ValueWarning: No frequency information was provided, so inferred frequency 2AS-JAN will be used.\n",
      "  % freq, ValueWarning)\n",
      "/Users/Tiffany/opt/anaconda3/lib/python3.7/site-packages/statsmodels/tsa/base/tsa_model.py:165: ValueWarning: No frequency information was provided, so inferred frequency 2AS-JAN will be used.\n",
      "  % freq, ValueWarning)\n",
      "/Users/Tiffany/opt/anaconda3/lib/python3.7/site-packages/statsmodels/tsa/base/tsa_model.py:165: ValueWarning: No frequency information was provided, so inferred frequency 2AS-JAN will be used.\n",
      "  % freq, ValueWarning)\n",
      "/Users/Tiffany/opt/anaconda3/lib/python3.7/site-packages/statsmodels/base/model.py:512: ConvergenceWarning: Maximum Likelihood optimization failed to converge. Check mle_retvals\n",
      "  \"Check mle_retvals\", ConvergenceWarning)\n"
     ]
    }
   ],
   "source": [
    "#Fitting time series on each galaxy\n",
    "\n",
    "\n",
    "#Train and test set\n",
    "\n",
    "\n",
    "\n",
    "\n",
    "results_df = pd.DataFrame(columns=['date','y','preds','galaxy','train_test','galactic year 1'])\n",
    "error_list = []\n",
    "\n",
    "for g in df_combined.galaxy.unique():\n",
    "    try:\n",
    "        print(g)\n",
    "        df_temp = df_combined[df_combined['galaxy']==g].copy()\n",
    "        df = df_combined[~(df_combined['galaxy']==g)]\n",
    "        df_temp.sort_values(\"galactic year 1\",inplace=True)\n",
    "#             df_temp['galactic year'] = df_temp['galactic year'].apply(lambda x:(np.round((x/1000),0))*2)\n",
    "#             df_temp['galactic year'] = df_temp['galactic year'].astype('int64')\n",
    "#             df_temp['galactic year'] = df_temp['galactic year'].astype('str')\n",
    "#             df_temp['galactic year'] = df_temp['galactic year'] + \"0101\"\n",
    "#             df_temp['date'] = pd.to_datetime(df_temp['galactic year'], yearfirst=True\n",
    "#                                              , format='%Y/%m/%d'\n",
    "#                                             )\n",
    "\n",
    "        df_temp_temp = df_temp[['date','y','galaxy','train_test','galactic year 1']]\n",
    "        df_temp_temp_1 = df_temp_temp[['date','y']].copy()\n",
    "        df_temp_temp_1.set_index('date', inplace=True, drop=True)\n",
    "        data = df_temp_temp_1\n",
    "        model = sm.tsa.statespace.SARIMAX(data, order=(1, 0, 0))\n",
    "        results = model.fit(maxiter=5000)\n",
    "\n",
    "        #option 1\n",
    "        df_temp_temp['preds'] = list(results.fittedvalues)\n",
    "\n",
    "\n",
    "        results_df = pd.concat([results_df,df_temp_temp])\n",
    "\n",
    "\n",
    "\n",
    "#             print(results_df)\n",
    "#         df = pd.concat([df,df_temp])\n",
    "    except:\n",
    "        None\n",
    "        print('ERROR:',g)\n",
    "        error_list.append(g)\n",
    "#             df_temp = df[df['galaxy']==g].copy()\n",
    "#             df = df[~(df['galaxy']==g)]\n",
    "#             df_temp.sort_values(\"galactic year\",inplace=True)\n",
    "#             df_temp['preds'] = df_temp['y']\n",
    "#             df = pd.concat([df,df_temp])\n",
    "print(error_list)\n",
    "\n",
    "\n",
    "\n",
    "\n"
   ]
  },
  {
   "cell_type": "code",
   "execution_count": 139,
   "metadata": {
    "ExecuteTime": {
     "end_time": "2020-06-19T12:19:45.505068Z",
     "start_time": "2020-06-19T12:19:45.484068Z"
    }
   },
   "outputs": [
    {
     "data": {
      "text/html": [
       "<div>\n",
       "<style scoped>\n",
       "    .dataframe tbody tr th:only-of-type {\n",
       "        vertical-align: middle;\n",
       "    }\n",
       "\n",
       "    .dataframe tbody tr th {\n",
       "        vertical-align: top;\n",
       "    }\n",
       "\n",
       "    .dataframe thead th {\n",
       "        text-align: right;\n",
       "    }\n",
       "</style>\n",
       "<table border=\"1\" class=\"dataframe\">\n",
       "  <thead>\n",
       "    <tr style=\"text-align: right;\">\n",
       "      <th></th>\n",
       "      <th>date</th>\n",
       "      <th>galactic year 1</th>\n",
       "      <th>galaxy</th>\n",
       "      <th>preds</th>\n",
       "      <th>train_test</th>\n",
       "      <th>y</th>\n",
       "    </tr>\n",
       "  </thead>\n",
       "  <tbody>\n",
       "    <tr>\n",
       "      <td>0</td>\n",
       "      <td>1980-01-01</td>\n",
       "      <td>19800101</td>\n",
       "      <td>Large Magellanic Cloud (LMC)</td>\n",
       "      <td>0.000000</td>\n",
       "      <td>train</td>\n",
       "      <td>0.052590</td>\n",
       "    </tr>\n",
       "    <tr>\n",
       "      <td>194</td>\n",
       "      <td>1982-01-01</td>\n",
       "      <td>19820101</td>\n",
       "      <td>Large Magellanic Cloud (LMC)</td>\n",
       "      <td>0.051369</td>\n",
       "      <td>train</td>\n",
       "      <td>0.052115</td>\n",
       "    </tr>\n",
       "    <tr>\n",
       "      <td>410</td>\n",
       "      <td>1984-01-01</td>\n",
       "      <td>19840101</td>\n",
       "      <td>Large Magellanic Cloud (LMC)</td>\n",
       "      <td>0.050905</td>\n",
       "      <td>train</td>\n",
       "      <td>0.052006</td>\n",
       "    </tr>\n",
       "    <tr>\n",
       "      <td>543</td>\n",
       "      <td>1986-01-01</td>\n",
       "      <td>19860101</td>\n",
       "      <td>Large Magellanic Cloud (LMC)</td>\n",
       "      <td>0.050799</td>\n",
       "      <td>train</td>\n",
       "      <td>0.051675</td>\n",
       "    </tr>\n",
       "    <tr>\n",
       "      <td>765</td>\n",
       "      <td>1988-01-01</td>\n",
       "      <td>19880101</td>\n",
       "      <td>Large Magellanic Cloud (LMC)</td>\n",
       "      <td>0.050476</td>\n",
       "      <td>train</td>\n",
       "      <td>0.051334</td>\n",
       "    </tr>\n",
       "    <tr>\n",
       "      <td>...</td>\n",
       "      <td>...</td>\n",
       "      <td>...</td>\n",
       "      <td>...</td>\n",
       "      <td>...</td>\n",
       "      <td>...</td>\n",
       "      <td>...</td>\n",
       "    </tr>\n",
       "    <tr>\n",
       "      <td>3512</td>\n",
       "      <td>2024-01-01</td>\n",
       "      <td>20240101</td>\n",
       "      <td>NGC 5102</td>\n",
       "      <td>0.166088</td>\n",
       "      <td>train</td>\n",
       "      <td>0.176675</td>\n",
       "    </tr>\n",
       "    <tr>\n",
       "      <td>3610</td>\n",
       "      <td>2026-01-01</td>\n",
       "      <td>20260101</td>\n",
       "      <td>NGC 5102</td>\n",
       "      <td>0.176647</td>\n",
       "      <td>train</td>\n",
       "      <td>0.182978</td>\n",
       "    </tr>\n",
       "    <tr>\n",
       "      <td>771</td>\n",
       "      <td>2028-01-01</td>\n",
       "      <td>20280101</td>\n",
       "      <td>NGC 5102</td>\n",
       "      <td>0.182948</td>\n",
       "      <td>test</td>\n",
       "      <td>NaN</td>\n",
       "    </tr>\n",
       "    <tr>\n",
       "      <td>812</td>\n",
       "      <td>2030-01-01</td>\n",
       "      <td>20300101</td>\n",
       "      <td>NGC 5102</td>\n",
       "      <td>0.182919</td>\n",
       "      <td>test</td>\n",
       "      <td>NaN</td>\n",
       "    </tr>\n",
       "    <tr>\n",
       "      <td>616</td>\n",
       "      <td>2032-01-01</td>\n",
       "      <td>20320101</td>\n",
       "      <td>NGC 5102</td>\n",
       "      <td>0.182889</td>\n",
       "      <td>test</td>\n",
       "      <td>NaN</td>\n",
       "    </tr>\n",
       "  </tbody>\n",
       "</table>\n",
       "<p>4754 rows × 6 columns</p>\n",
       "</div>"
      ],
      "text/plain": [
       "           date galactic year 1                        galaxy     preds  \\\n",
       "0    1980-01-01        19800101  Large Magellanic Cloud (LMC)  0.000000   \n",
       "194  1982-01-01        19820101  Large Magellanic Cloud (LMC)  0.051369   \n",
       "410  1984-01-01        19840101  Large Magellanic Cloud (LMC)  0.050905   \n",
       "543  1986-01-01        19860101  Large Magellanic Cloud (LMC)  0.050799   \n",
       "765  1988-01-01        19880101  Large Magellanic Cloud (LMC)  0.050476   \n",
       "...         ...             ...                           ...       ...   \n",
       "3512 2024-01-01        20240101                      NGC 5102  0.166088   \n",
       "3610 2026-01-01        20260101                      NGC 5102  0.176647   \n",
       "771  2028-01-01        20280101                      NGC 5102  0.182948   \n",
       "812  2030-01-01        20300101                      NGC 5102  0.182919   \n",
       "616  2032-01-01        20320101                      NGC 5102  0.182889   \n",
       "\n",
       "     train_test         y  \n",
       "0         train  0.052590  \n",
       "194       train  0.052115  \n",
       "410       train  0.052006  \n",
       "543       train  0.051675  \n",
       "765       train  0.051334  \n",
       "...         ...       ...  \n",
       "3512      train  0.176675  \n",
       "3610      train  0.182978  \n",
       "771        test       NaN  \n",
       "812        test       NaN  \n",
       "616        test       NaN  \n",
       "\n",
       "[4754 rows x 6 columns]"
      ]
     },
     "execution_count": 139,
     "metadata": {},
     "output_type": "execute_result"
    }
   ],
   "source": [
    "results_df"
   ]
  },
  {
   "cell_type": "code",
   "execution_count": 141,
   "metadata": {
    "ExecuteTime": {
     "end_time": "2020-06-19T12:21:51.135563Z",
     "start_time": "2020-06-19T12:21:51.114417Z"
    }
   },
   "outputs": [
    {
     "data": {
      "text/html": [
       "<div>\n",
       "<style scoped>\n",
       "    .dataframe tbody tr th:only-of-type {\n",
       "        vertical-align: middle;\n",
       "    }\n",
       "\n",
       "    .dataframe tbody tr th {\n",
       "        vertical-align: top;\n",
       "    }\n",
       "\n",
       "    .dataframe thead th {\n",
       "        text-align: right;\n",
       "    }\n",
       "</style>\n",
       "<table border=\"1\" class=\"dataframe\">\n",
       "  <thead>\n",
       "    <tr style=\"text-align: right;\">\n",
       "      <th></th>\n",
       "      <th>date</th>\n",
       "      <th>galactic year 1</th>\n",
       "      <th>galaxy</th>\n",
       "      <th>preds</th>\n",
       "      <th>train_test</th>\n",
       "      <th>y</th>\n",
       "    </tr>\n",
       "  </thead>\n",
       "  <tbody>\n",
       "    <tr>\n",
       "      <td>0</td>\n",
       "      <td>2014-01-01</td>\n",
       "      <td>20140101</td>\n",
       "      <td>KK98 77</td>\n",
       "      <td>0.040718</td>\n",
       "      <td>test</td>\n",
       "      <td>NaN</td>\n",
       "    </tr>\n",
       "    <tr>\n",
       "      <td>1</td>\n",
       "      <td>2014-01-01</td>\n",
       "      <td>20140101</td>\n",
       "      <td>Reticulum III</td>\n",
       "      <td>0.038930</td>\n",
       "      <td>test</td>\n",
       "      <td>NaN</td>\n",
       "    </tr>\n",
       "    <tr>\n",
       "      <td>2</td>\n",
       "      <td>2016-01-01</td>\n",
       "      <td>20160101</td>\n",
       "      <td>Reticulum III</td>\n",
       "      <td>0.038879</td>\n",
       "      <td>test</td>\n",
       "      <td>NaN</td>\n",
       "    </tr>\n",
       "    <tr>\n",
       "      <td>3</td>\n",
       "      <td>2014-01-01</td>\n",
       "      <td>20140101</td>\n",
       "      <td>Segue 1</td>\n",
       "      <td>0.038703</td>\n",
       "      <td>test</td>\n",
       "      <td>NaN</td>\n",
       "    </tr>\n",
       "    <tr>\n",
       "      <td>4</td>\n",
       "      <td>2026-01-01</td>\n",
       "      <td>20260101</td>\n",
       "      <td>Virgo I</td>\n",
       "      <td>0.029106</td>\n",
       "      <td>test</td>\n",
       "      <td>NaN</td>\n",
       "    </tr>\n",
       "    <tr>\n",
       "      <td>...</td>\n",
       "      <td>...</td>\n",
       "      <td>...</td>\n",
       "      <td>...</td>\n",
       "      <td>...</td>\n",
       "      <td>...</td>\n",
       "      <td>...</td>\n",
       "    </tr>\n",
       "    <tr>\n",
       "      <td>885</td>\n",
       "      <td>2032-01-01</td>\n",
       "      <td>20320101</td>\n",
       "      <td>ESO 383-087 (ISG 39)</td>\n",
       "      <td>0.024083</td>\n",
       "      <td>test</td>\n",
       "      <td>NaN</td>\n",
       "    </tr>\n",
       "    <tr>\n",
       "      <td>886</td>\n",
       "      <td>2032-01-01</td>\n",
       "      <td>20320101</td>\n",
       "      <td>NGC 247</td>\n",
       "      <td>0.028439</td>\n",
       "      <td>test</td>\n",
       "      <td>NaN</td>\n",
       "    </tr>\n",
       "    <tr>\n",
       "      <td>887</td>\n",
       "      <td>2032-01-01</td>\n",
       "      <td>20320101</td>\n",
       "      <td>ESO 325-11</td>\n",
       "      <td>0.063985</td>\n",
       "      <td>test</td>\n",
       "      <td>NaN</td>\n",
       "    </tr>\n",
       "    <tr>\n",
       "      <td>888</td>\n",
       "      <td>2032-01-01</td>\n",
       "      <td>20320101</td>\n",
       "      <td>ESO 540-032</td>\n",
       "      <td>0.056399</td>\n",
       "      <td>test</td>\n",
       "      <td>NaN</td>\n",
       "    </tr>\n",
       "    <tr>\n",
       "      <td>889</td>\n",
       "      <td>2032-01-01</td>\n",
       "      <td>20320101</td>\n",
       "      <td>KK98 77</td>\n",
       "      <td>0.023769</td>\n",
       "      <td>test</td>\n",
       "      <td>NaN</td>\n",
       "    </tr>\n",
       "  </tbody>\n",
       "</table>\n",
       "<p>890 rows × 6 columns</p>\n",
       "</div>"
      ],
      "text/plain": [
       "          date galactic year 1                galaxy     preds train_test   y\n",
       "0   2014-01-01        20140101               KK98 77  0.040718       test NaN\n",
       "1   2014-01-01        20140101         Reticulum III  0.038930       test NaN\n",
       "2   2016-01-01        20160101         Reticulum III  0.038879       test NaN\n",
       "3   2014-01-01        20140101               Segue 1  0.038703       test NaN\n",
       "4   2026-01-01        20260101               Virgo I  0.029106       test NaN\n",
       "..         ...             ...                   ...       ...        ...  ..\n",
       "885 2032-01-01        20320101  ESO 383-087 (ISG 39)  0.024083       test NaN\n",
       "886 2032-01-01        20320101               NGC 247  0.028439       test NaN\n",
       "887 2032-01-01        20320101            ESO 325-11  0.063985       test NaN\n",
       "888 2032-01-01        20320101           ESO 540-032  0.056399       test NaN\n",
       "889 2032-01-01        20320101               KK98 77  0.023769       test NaN\n",
       "\n",
       "[890 rows x 6 columns]"
      ]
     },
     "execution_count": 141,
     "metadata": {},
     "output_type": "execute_result"
    }
   ],
   "source": [
    "results_df_test = results_df[results_df['train_test']=='test']\n",
    "results_df_test.sort_index()"
   ]
  },
  {
   "cell_type": "code",
   "execution_count": 145,
   "metadata": {
    "ExecuteTime": {
     "end_time": "2020-06-19T12:47:18.983041Z",
     "start_time": "2020-06-19T12:47:18.930543Z"
    }
   },
   "outputs": [],
   "source": [
    "results_df_test_1 = results_df_test.sort_index()\n",
    "#results_df_test_1.to_csv('time_series_y_test_preds.csv', index=False)"
   ]
  },
  {
   "cell_type": "code",
   "execution_count": 144,
   "metadata": {
    "ExecuteTime": {
     "end_time": "2020-06-19T12:25:14.779434Z",
     "start_time": "2020-06-19T12:25:14.707545Z"
    }
   },
   "outputs": [
    {
     "data": {
      "text/html": [
       "<div>\n",
       "<style scoped>\n",
       "    .dataframe tbody tr th:only-of-type {\n",
       "        vertical-align: middle;\n",
       "    }\n",
       "\n",
       "    .dataframe tbody tr th {\n",
       "        vertical-align: top;\n",
       "    }\n",
       "\n",
       "    .dataframe thead th {\n",
       "        text-align: right;\n",
       "    }\n",
       "</style>\n",
       "<table border=\"1\" class=\"dataframe\">\n",
       "  <thead>\n",
       "    <tr style=\"text-align: right;\">\n",
       "      <th></th>\n",
       "      <th>galactic year</th>\n",
       "      <th>galaxy</th>\n",
       "      <th>existence expectancy index</th>\n",
       "      <th>existence expectancy at birth</th>\n",
       "      <th>Gross income per capita</th>\n",
       "      <th>Income Index</th>\n",
       "      <th>Expected years of education (galactic years)</th>\n",
       "      <th>Mean years of education (galactic years)</th>\n",
       "      <th>Intergalactic Development Index (IDI)</th>\n",
       "      <th>Education Index</th>\n",
       "      <th>...</th>\n",
       "      <th>Current health expenditure (% of GGP)</th>\n",
       "      <th>Intergalactic Development Index (IDI), female</th>\n",
       "      <th>Intergalactic Development Index (IDI), male</th>\n",
       "      <th>Gender Development Index (GDI)</th>\n",
       "      <th>Intergalactic Development Index (IDI), female, Rank</th>\n",
       "      <th>Intergalactic Development Index (IDI), male, Rank</th>\n",
       "      <th>Adjusted net savings</th>\n",
       "      <th>Creature Immunodeficiency Disease prevalence, adult (% ages 15-49), total</th>\n",
       "      <th>Private galaxy capital flows (% of GGP)</th>\n",
       "      <th>Gender Inequality Index (GII)</th>\n",
       "    </tr>\n",
       "  </thead>\n",
       "  <tbody>\n",
       "    <tr>\n",
       "      <td>0</td>\n",
       "      <td>1007012</td>\n",
       "      <td>KK98 77</td>\n",
       "      <td>0.456086</td>\n",
       "      <td>51.562543</td>\n",
       "      <td>12236.576447</td>\n",
       "      <td>0.593325</td>\n",
       "      <td>10.414164</td>\n",
       "      <td>10.699072</td>\n",
       "      <td>0.547114</td>\n",
       "      <td>0.556267</td>\n",
       "      <td>...</td>\n",
       "      <td>NaN</td>\n",
       "      <td>NaN</td>\n",
       "      <td>NaN</td>\n",
       "      <td>NaN</td>\n",
       "      <td>NaN</td>\n",
       "      <td>NaN</td>\n",
       "      <td>NaN</td>\n",
       "      <td>NaN</td>\n",
       "      <td>NaN</td>\n",
       "      <td>NaN</td>\n",
       "    </tr>\n",
       "    <tr>\n",
       "      <td>1</td>\n",
       "      <td>1007012</td>\n",
       "      <td>Reticulum III</td>\n",
       "      <td>0.529835</td>\n",
       "      <td>57.228262</td>\n",
       "      <td>3431.883825</td>\n",
       "      <td>0.675407</td>\n",
       "      <td>7.239485</td>\n",
       "      <td>5.311122</td>\n",
       "      <td>0.497688</td>\n",
       "      <td>0.409969</td>\n",
       "      <td>...</td>\n",
       "      <td>NaN</td>\n",
       "      <td>NaN</td>\n",
       "      <td>NaN</td>\n",
       "      <td>NaN</td>\n",
       "      <td>NaN</td>\n",
       "      <td>NaN</td>\n",
       "      <td>NaN</td>\n",
       "      <td>NaN</td>\n",
       "      <td>NaN</td>\n",
       "      <td>NaN</td>\n",
       "    </tr>\n",
       "    <tr>\n",
       "      <td>2</td>\n",
       "      <td>1008016</td>\n",
       "      <td>Reticulum III</td>\n",
       "      <td>0.560976</td>\n",
       "      <td>59.379539</td>\n",
       "      <td>27562.914252</td>\n",
       "      <td>0.594624</td>\n",
       "      <td>11.774890</td>\n",
       "      <td>5.937797</td>\n",
       "      <td>0.544744</td>\n",
       "      <td>0.486167</td>\n",
       "      <td>...</td>\n",
       "      <td>NaN</td>\n",
       "      <td>NaN</td>\n",
       "      <td>NaN</td>\n",
       "      <td>NaN</td>\n",
       "      <td>NaN</td>\n",
       "      <td>NaN</td>\n",
       "      <td>NaN</td>\n",
       "      <td>NaN</td>\n",
       "      <td>NaN</td>\n",
       "      <td>NaN</td>\n",
       "    </tr>\n",
       "    <tr>\n",
       "      <td>3</td>\n",
       "      <td>1007012</td>\n",
       "      <td>Segue 1</td>\n",
       "      <td>0.565910</td>\n",
       "      <td>59.952390</td>\n",
       "      <td>20352.232905</td>\n",
       "      <td>0.837700</td>\n",
       "      <td>11.613621</td>\n",
       "      <td>10.067882</td>\n",
       "      <td>0.691641</td>\n",
       "      <td>0.523441</td>\n",
       "      <td>...</td>\n",
       "      <td>NaN</td>\n",
       "      <td>NaN</td>\n",
       "      <td>NaN</td>\n",
       "      <td>NaN</td>\n",
       "      <td>NaN</td>\n",
       "      <td>NaN</td>\n",
       "      <td>NaN</td>\n",
       "      <td>NaN</td>\n",
       "      <td>NaN</td>\n",
       "      <td>NaN</td>\n",
       "    </tr>\n",
       "    <tr>\n",
       "      <td>4</td>\n",
       "      <td>1013042</td>\n",
       "      <td>Virgo I</td>\n",
       "      <td>0.588274</td>\n",
       "      <td>55.428320</td>\n",
       "      <td>23959.704016</td>\n",
       "      <td>0.520579</td>\n",
       "      <td>10.392416</td>\n",
       "      <td>6.374637</td>\n",
       "      <td>0.530676</td>\n",
       "      <td>0.580418</td>\n",
       "      <td>...</td>\n",
       "      <td>7.357729</td>\n",
       "      <td>0.583373</td>\n",
       "      <td>0.600445</td>\n",
       "      <td>0.856158</td>\n",
       "      <td>206.674424</td>\n",
       "      <td>224.104054</td>\n",
       "      <td>NaN</td>\n",
       "      <td>7.687626</td>\n",
       "      <td>NaN</td>\n",
       "      <td>NaN</td>\n",
       "    </tr>\n",
       "    <tr>\n",
       "      <td>...</td>\n",
       "      <td>...</td>\n",
       "      <td>...</td>\n",
       "      <td>...</td>\n",
       "      <td>...</td>\n",
       "      <td>...</td>\n",
       "      <td>...</td>\n",
       "      <td>...</td>\n",
       "      <td>...</td>\n",
       "      <td>...</td>\n",
       "      <td>...</td>\n",
       "      <td>...</td>\n",
       "      <td>...</td>\n",
       "      <td>...</td>\n",
       "      <td>...</td>\n",
       "      <td>...</td>\n",
       "      <td>...</td>\n",
       "      <td>...</td>\n",
       "      <td>...</td>\n",
       "      <td>...</td>\n",
       "      <td>...</td>\n",
       "      <td>...</td>\n",
       "    </tr>\n",
       "    <tr>\n",
       "      <td>885</td>\n",
       "      <td>1016064</td>\n",
       "      <td>ESO 383-087 (ISG 39)</td>\n",
       "      <td>NaN</td>\n",
       "      <td>NaN</td>\n",
       "      <td>NaN</td>\n",
       "      <td>NaN</td>\n",
       "      <td>NaN</td>\n",
       "      <td>NaN</td>\n",
       "      <td>NaN</td>\n",
       "      <td>NaN</td>\n",
       "      <td>...</td>\n",
       "      <td>NaN</td>\n",
       "      <td>NaN</td>\n",
       "      <td>NaN</td>\n",
       "      <td>NaN</td>\n",
       "      <td>NaN</td>\n",
       "      <td>NaN</td>\n",
       "      <td>NaN</td>\n",
       "      <td>NaN</td>\n",
       "      <td>NaN</td>\n",
       "      <td>NaN</td>\n",
       "    </tr>\n",
       "    <tr>\n",
       "      <td>886</td>\n",
       "      <td>1016064</td>\n",
       "      <td>NGC 247</td>\n",
       "      <td>NaN</td>\n",
       "      <td>NaN</td>\n",
       "      <td>NaN</td>\n",
       "      <td>NaN</td>\n",
       "      <td>NaN</td>\n",
       "      <td>NaN</td>\n",
       "      <td>NaN</td>\n",
       "      <td>NaN</td>\n",
       "      <td>...</td>\n",
       "      <td>NaN</td>\n",
       "      <td>NaN</td>\n",
       "      <td>NaN</td>\n",
       "      <td>NaN</td>\n",
       "      <td>NaN</td>\n",
       "      <td>NaN</td>\n",
       "      <td>NaN</td>\n",
       "      <td>NaN</td>\n",
       "      <td>NaN</td>\n",
       "      <td>NaN</td>\n",
       "    </tr>\n",
       "    <tr>\n",
       "      <td>887</td>\n",
       "      <td>1016064</td>\n",
       "      <td>ESO 325-11</td>\n",
       "      <td>NaN</td>\n",
       "      <td>NaN</td>\n",
       "      <td>NaN</td>\n",
       "      <td>NaN</td>\n",
       "      <td>NaN</td>\n",
       "      <td>NaN</td>\n",
       "      <td>NaN</td>\n",
       "      <td>NaN</td>\n",
       "      <td>...</td>\n",
       "      <td>NaN</td>\n",
       "      <td>NaN</td>\n",
       "      <td>NaN</td>\n",
       "      <td>NaN</td>\n",
       "      <td>NaN</td>\n",
       "      <td>NaN</td>\n",
       "      <td>NaN</td>\n",
       "      <td>NaN</td>\n",
       "      <td>NaN</td>\n",
       "      <td>NaN</td>\n",
       "    </tr>\n",
       "    <tr>\n",
       "      <td>888</td>\n",
       "      <td>1016064</td>\n",
       "      <td>ESO 540-032</td>\n",
       "      <td>NaN</td>\n",
       "      <td>NaN</td>\n",
       "      <td>NaN</td>\n",
       "      <td>NaN</td>\n",
       "      <td>NaN</td>\n",
       "      <td>NaN</td>\n",
       "      <td>NaN</td>\n",
       "      <td>NaN</td>\n",
       "      <td>...</td>\n",
       "      <td>NaN</td>\n",
       "      <td>NaN</td>\n",
       "      <td>NaN</td>\n",
       "      <td>NaN</td>\n",
       "      <td>NaN</td>\n",
       "      <td>NaN</td>\n",
       "      <td>NaN</td>\n",
       "      <td>NaN</td>\n",
       "      <td>NaN</td>\n",
       "      <td>NaN</td>\n",
       "    </tr>\n",
       "    <tr>\n",
       "      <td>889</td>\n",
       "      <td>1016064</td>\n",
       "      <td>KK98 77</td>\n",
       "      <td>NaN</td>\n",
       "      <td>NaN</td>\n",
       "      <td>NaN</td>\n",
       "      <td>NaN</td>\n",
       "      <td>NaN</td>\n",
       "      <td>NaN</td>\n",
       "      <td>NaN</td>\n",
       "      <td>NaN</td>\n",
       "      <td>...</td>\n",
       "      <td>NaN</td>\n",
       "      <td>NaN</td>\n",
       "      <td>NaN</td>\n",
       "      <td>NaN</td>\n",
       "      <td>NaN</td>\n",
       "      <td>NaN</td>\n",
       "      <td>NaN</td>\n",
       "      <td>NaN</td>\n",
       "      <td>NaN</td>\n",
       "      <td>NaN</td>\n",
       "    </tr>\n",
       "  </tbody>\n",
       "</table>\n",
       "<p>890 rows × 79 columns</p>\n",
       "</div>"
      ],
      "text/plain": [
       "     galactic year                galaxy  existence expectancy index  \\\n",
       "0          1007012               KK98 77                    0.456086   \n",
       "1          1007012         Reticulum III                    0.529835   \n",
       "2          1008016         Reticulum III                    0.560976   \n",
       "3          1007012               Segue 1                    0.565910   \n",
       "4          1013042               Virgo I                    0.588274   \n",
       "..             ...                   ...                         ...   \n",
       "885        1016064  ESO 383-087 (ISG 39)                         NaN   \n",
       "886        1016064               NGC 247                         NaN   \n",
       "887        1016064            ESO 325-11                         NaN   \n",
       "888        1016064           ESO 540-032                         NaN   \n",
       "889        1016064               KK98 77                         NaN   \n",
       "\n",
       "     existence expectancy at birth  Gross income per capita  Income Index  \\\n",
       "0                        51.562543             12236.576447      0.593325   \n",
       "1                        57.228262              3431.883825      0.675407   \n",
       "2                        59.379539             27562.914252      0.594624   \n",
       "3                        59.952390             20352.232905      0.837700   \n",
       "4                        55.428320             23959.704016      0.520579   \n",
       "..                             ...                      ...           ...   \n",
       "885                            NaN                      NaN           NaN   \n",
       "886                            NaN                      NaN           NaN   \n",
       "887                            NaN                      NaN           NaN   \n",
       "888                            NaN                      NaN           NaN   \n",
       "889                            NaN                      NaN           NaN   \n",
       "\n",
       "     Expected years of education (galactic years)  \\\n",
       "0                                       10.414164   \n",
       "1                                        7.239485   \n",
       "2                                       11.774890   \n",
       "3                                       11.613621   \n",
       "4                                       10.392416   \n",
       "..                                            ...   \n",
       "885                                           NaN   \n",
       "886                                           NaN   \n",
       "887                                           NaN   \n",
       "888                                           NaN   \n",
       "889                                           NaN   \n",
       "\n",
       "     Mean years of education (galactic years)  \\\n",
       "0                                   10.699072   \n",
       "1                                    5.311122   \n",
       "2                                    5.937797   \n",
       "3                                   10.067882   \n",
       "4                                    6.374637   \n",
       "..                                        ...   \n",
       "885                                       NaN   \n",
       "886                                       NaN   \n",
       "887                                       NaN   \n",
       "888                                       NaN   \n",
       "889                                       NaN   \n",
       "\n",
       "     Intergalactic Development Index (IDI)  Education Index  ...  \\\n",
       "0                                 0.547114         0.556267  ...   \n",
       "1                                 0.497688         0.409969  ...   \n",
       "2                                 0.544744         0.486167  ...   \n",
       "3                                 0.691641         0.523441  ...   \n",
       "4                                 0.530676         0.580418  ...   \n",
       "..                                     ...              ...  ...   \n",
       "885                                    NaN              NaN  ...   \n",
       "886                                    NaN              NaN  ...   \n",
       "887                                    NaN              NaN  ...   \n",
       "888                                    NaN              NaN  ...   \n",
       "889                                    NaN              NaN  ...   \n",
       "\n",
       "     Current health expenditure (% of GGP)  \\\n",
       "0                                      NaN   \n",
       "1                                      NaN   \n",
       "2                                      NaN   \n",
       "3                                      NaN   \n",
       "4                                 7.357729   \n",
       "..                                     ...   \n",
       "885                                    NaN   \n",
       "886                                    NaN   \n",
       "887                                    NaN   \n",
       "888                                    NaN   \n",
       "889                                    NaN   \n",
       "\n",
       "     Intergalactic Development Index (IDI), female  \\\n",
       "0                                              NaN   \n",
       "1                                              NaN   \n",
       "2                                              NaN   \n",
       "3                                              NaN   \n",
       "4                                         0.583373   \n",
       "..                                             ...   \n",
       "885                                            NaN   \n",
       "886                                            NaN   \n",
       "887                                            NaN   \n",
       "888                                            NaN   \n",
       "889                                            NaN   \n",
       "\n",
       "     Intergalactic Development Index (IDI), male  \\\n",
       "0                                            NaN   \n",
       "1                                            NaN   \n",
       "2                                            NaN   \n",
       "3                                            NaN   \n",
       "4                                       0.600445   \n",
       "..                                           ...   \n",
       "885                                          NaN   \n",
       "886                                          NaN   \n",
       "887                                          NaN   \n",
       "888                                          NaN   \n",
       "889                                          NaN   \n",
       "\n",
       "     Gender Development Index (GDI)  \\\n",
       "0                               NaN   \n",
       "1                               NaN   \n",
       "2                               NaN   \n",
       "3                               NaN   \n",
       "4                          0.856158   \n",
       "..                              ...   \n",
       "885                             NaN   \n",
       "886                             NaN   \n",
       "887                             NaN   \n",
       "888                             NaN   \n",
       "889                             NaN   \n",
       "\n",
       "     Intergalactic Development Index (IDI), female, Rank  \\\n",
       "0                                                  NaN     \n",
       "1                                                  NaN     \n",
       "2                                                  NaN     \n",
       "3                                                  NaN     \n",
       "4                                           206.674424     \n",
       "..                                                 ...     \n",
       "885                                                NaN     \n",
       "886                                                NaN     \n",
       "887                                                NaN     \n",
       "888                                                NaN     \n",
       "889                                                NaN     \n",
       "\n",
       "     Intergalactic Development Index (IDI), male, Rank  Adjusted net savings   \\\n",
       "0                                                  NaN                    NaN   \n",
       "1                                                  NaN                    NaN   \n",
       "2                                                  NaN                    NaN   \n",
       "3                                                  NaN                    NaN   \n",
       "4                                           224.104054                    NaN   \n",
       "..                                                 ...                    ...   \n",
       "885                                                NaN                    NaN   \n",
       "886                                                NaN                    NaN   \n",
       "887                                                NaN                    NaN   \n",
       "888                                                NaN                    NaN   \n",
       "889                                                NaN                    NaN   \n",
       "\n",
       "     Creature Immunodeficiency Disease prevalence, adult (% ages 15-49), total  \\\n",
       "0                                                  NaN                           \n",
       "1                                                  NaN                           \n",
       "2                                                  NaN                           \n",
       "3                                                  NaN                           \n",
       "4                                             7.687626                           \n",
       "..                                                 ...                           \n",
       "885                                                NaN                           \n",
       "886                                                NaN                           \n",
       "887                                                NaN                           \n",
       "888                                                NaN                           \n",
       "889                                                NaN                           \n",
       "\n",
       "     Private galaxy capital flows (% of GGP)  Gender Inequality Index (GII)  \n",
       "0                                        NaN                            NaN  \n",
       "1                                        NaN                            NaN  \n",
       "2                                        NaN                            NaN  \n",
       "3                                        NaN                            NaN  \n",
       "4                                        NaN                            NaN  \n",
       "..                                       ...                            ...  \n",
       "885                                      NaN                            NaN  \n",
       "886                                      NaN                            NaN  \n",
       "887                                      NaN                            NaN  \n",
       "888                                      NaN                            NaN  \n",
       "889                                      NaN                            NaN  \n",
       "\n",
       "[890 rows x 79 columns]"
      ]
     },
     "execution_count": 144,
     "metadata": {},
     "output_type": "execute_result"
    }
   ],
   "source": [
    "pd.read_csv('test.csv')"
   ]
  },
  {
   "cell_type": "code",
   "execution_count": 136,
   "metadata": {
    "ExecuteTime": {
     "end_time": "2020-06-19T12:17:41.717268Z",
     "start_time": "2020-06-19T12:17:41.670311Z"
    }
   },
   "outputs": [
    {
     "name": "stdout",
     "output_type": "stream",
     "text": [
      "Large Magellanic Cloud (LMC)\n",
      "27\n",
      "27\n"
     ]
    },
    {
     "name": "stderr",
     "output_type": "stream",
     "text": [
      "/Users/Tiffany/opt/anaconda3/lib/python3.7/site-packages/statsmodels/tsa/base/tsa_model.py:165: ValueWarning: No frequency information was provided, so inferred frequency 2AS-JAN will be used.\n",
      "  % freq, ValueWarning)\n",
      "/Users/Tiffany/opt/anaconda3/lib/python3.7/site-packages/ipykernel_launcher.py:34: SettingWithCopyWarning: \n",
      "A value is trying to be set on a copy of a slice from a DataFrame.\n",
      "Try using .loc[row_indexer,col_indexer] = value instead\n",
      "\n",
      "See the caveats in the documentation: http://pandas.pydata.org/pandas-docs/stable/user_guide/indexing.html#returning-a-view-versus-a-copy\n"
     ]
    }
   ],
   "source": [
    "#Fitting time series on each galaxy - TESTING ON LARGE MAGELLANIC CLOUD\n",
    "\n",
    "\n",
    "#Train and test set\n",
    "\n",
    "\n",
    "\n",
    "\n",
    "results_df = pd.DataFrame(columns=['date','y','preds','galaxy','train_test','galactic year 1'])\n",
    "error_list = []\n",
    "\n",
    "for g in df_combined.galaxy.unique()[:1]:\n",
    "    \n",
    "    print(g)\n",
    "    df_temp = df_combined[df_combined['galaxy']==g].copy()\n",
    "    df = df_combined[~(df_combined['galaxy']==g)]\n",
    "    df_temp.sort_values(\"galactic year 1\",inplace=True)\n",
    "#             df_temp['galactic year'] = df_temp['galactic year'].apply(lambda x:(np.round((x/1000),0))*2)\n",
    "#             df_temp['galactic year'] = df_temp['galactic year'].astype('int64')\n",
    "#             df_temp['galactic year'] = df_temp['galactic year'].astype('str')\n",
    "#             df_temp['galactic year'] = df_temp['galactic year'] + \"0101\"\n",
    "#             df_temp['date'] = pd.to_datetime(df_temp['galactic year'], yearfirst=True\n",
    "#                                              , format='%Y/%m/%d'\n",
    "#                                             )\n",
    "\n",
    "    df_temp_temp = df_temp[['date','y','galaxy','train_test','galactic year 1']]\n",
    "    df_temp_temp_1 = df_temp_temp[['date','y']].copy()\n",
    "    df_temp_temp_1.set_index('date', inplace=True, drop=True)\n",
    "    data = df_temp_temp_1\n",
    "    model = sm.tsa.statespace.SARIMAX(data, order=(1, 0, 0))\n",
    "    results = model.fit(maxiter=5000)\n",
    "\n",
    "    #option 1\n",
    "    df_temp_temp['preds'] = list(results.fittedvalues)\n",
    "\n",
    "    #option 2\n",
    "    print(len(df_temp_temp['date']))\n",
    "    print(len(list(results.predict(start=0, end=len(data)-1, dynamic=False))))\n",
    "#     df_temp_temp['preds'] = list(results.predict(start=0, end=len(data)-1, dynamic=False))\n",
    "    \n",
    "    #option 3\n",
    "#     df_temp_temp['preds'] = list(results.predict(start=data.index[0], end=data.index[-1], dynamic=False))\n",
    "\n",
    "\n",
    "\n",
    "\n",
    "#             print(df_temp_temp.preds)\n",
    "#             print(list(results.fittedvalues))\n",
    "#             print(len(list(results.fittedvalues)))\n",
    "#             print(len(df_temp['y']))\n",
    "\n",
    "\n",
    "#             for n in df_temp_temp.index:\n",
    "#                 if df_temp_temp['preds'].loc[n]==0:\n",
    "#                     df_temp_temp['preds'].loc[n]=np.nan\n",
    "#                 else:\n",
    "#                     df_temp_temp['preds'].loc[n]=df_temp_temp['preds'].loc[n]\n",
    "#             df_temp_temp.preds.fillna(method='bfill',inplace=True)\n",
    "#             df_temp_temp.preds.fillna(method='ffill',inplace=True)\n"
   ]
  },
  {
   "cell_type": "code",
   "execution_count": 107,
   "metadata": {
    "ExecuteTime": {
     "end_time": "2020-06-19T11:57:19.505790Z",
     "start_time": "2020-06-19T11:57:19.499904Z"
    }
   },
   "outputs": [
    {
     "data": {
      "text/plain": [
       "Timestamp('2032-01-01 00:00:00')"
      ]
     },
     "execution_count": 107,
     "metadata": {},
     "output_type": "execute_result"
    }
   ],
   "source": [
    "data.index[-1]"
   ]
  },
  {
   "cell_type": "code",
   "execution_count": 133,
   "metadata": {
    "ExecuteTime": {
     "end_time": "2020-06-19T12:17:12.527269Z",
     "start_time": "2020-06-19T12:17:12.512107Z"
    }
   },
   "outputs": [
    {
     "data": {
      "text/html": [
       "<div>\n",
       "<style scoped>\n",
       "    .dataframe tbody tr th:only-of-type {\n",
       "        vertical-align: middle;\n",
       "    }\n",
       "\n",
       "    .dataframe tbody tr th {\n",
       "        vertical-align: top;\n",
       "    }\n",
       "\n",
       "    .dataframe thead th {\n",
       "        text-align: right;\n",
       "    }\n",
       "</style>\n",
       "<table border=\"1\" class=\"dataframe\">\n",
       "  <thead>\n",
       "    <tr style=\"text-align: right;\">\n",
       "      <th></th>\n",
       "      <th>date</th>\n",
       "      <th>y</th>\n",
       "      <th>galaxy</th>\n",
       "      <th>train_test</th>\n",
       "      <th>galactic year 1</th>\n",
       "      <th>preds</th>\n",
       "    </tr>\n",
       "  </thead>\n",
       "  <tbody>\n",
       "    <tr>\n",
       "      <td>0</td>\n",
       "      <td>1980-01-01</td>\n",
       "      <td>0.052590</td>\n",
       "      <td>Large Magellanic Cloud (LMC)</td>\n",
       "      <td>train</td>\n",
       "      <td>19800101</td>\n",
       "      <td>0.000000</td>\n",
       "    </tr>\n",
       "    <tr>\n",
       "      <td>194</td>\n",
       "      <td>1982-01-01</td>\n",
       "      <td>0.052115</td>\n",
       "      <td>Large Magellanic Cloud (LMC)</td>\n",
       "      <td>train</td>\n",
       "      <td>19820101</td>\n",
       "      <td>0.051369</td>\n",
       "    </tr>\n",
       "    <tr>\n",
       "      <td>410</td>\n",
       "      <td>1984-01-01</td>\n",
       "      <td>0.052006</td>\n",
       "      <td>Large Magellanic Cloud (LMC)</td>\n",
       "      <td>train</td>\n",
       "      <td>19840101</td>\n",
       "      <td>0.050905</td>\n",
       "    </tr>\n",
       "    <tr>\n",
       "      <td>543</td>\n",
       "      <td>1986-01-01</td>\n",
       "      <td>0.051675</td>\n",
       "      <td>Large Magellanic Cloud (LMC)</td>\n",
       "      <td>train</td>\n",
       "      <td>19860101</td>\n",
       "      <td>0.050799</td>\n",
       "    </tr>\n",
       "    <tr>\n",
       "      <td>765</td>\n",
       "      <td>1988-01-01</td>\n",
       "      <td>0.051334</td>\n",
       "      <td>Large Magellanic Cloud (LMC)</td>\n",
       "      <td>train</td>\n",
       "      <td>19880101</td>\n",
       "      <td>0.050476</td>\n",
       "    </tr>\n",
       "    <tr>\n",
       "      <td>1053</td>\n",
       "      <td>1990-01-01</td>\n",
       "      <td>0.051056</td>\n",
       "      <td>Large Magellanic Cloud (LMC)</td>\n",
       "      <td>train</td>\n",
       "      <td>19900101</td>\n",
       "      <td>0.050142</td>\n",
       "    </tr>\n",
       "    <tr>\n",
       "      <td>1244</td>\n",
       "      <td>1992-01-01</td>\n",
       "      <td>0.050473</td>\n",
       "      <td>Large Magellanic Cloud (LMC)</td>\n",
       "      <td>train</td>\n",
       "      <td>19920101</td>\n",
       "      <td>0.049871</td>\n",
       "    </tr>\n",
       "    <tr>\n",
       "      <td>1411</td>\n",
       "      <td>1994-01-01</td>\n",
       "      <td>0.050179</td>\n",
       "      <td>Large Magellanic Cloud (LMC)</td>\n",
       "      <td>train</td>\n",
       "      <td>19940101</td>\n",
       "      <td>0.049301</td>\n",
       "    </tr>\n",
       "    <tr>\n",
       "      <td>1570</td>\n",
       "      <td>1996-01-01</td>\n",
       "      <td>0.049803</td>\n",
       "      <td>Large Magellanic Cloud (LMC)</td>\n",
       "      <td>train</td>\n",
       "      <td>19960101</td>\n",
       "      <td>0.049014</td>\n",
       "    </tr>\n",
       "    <tr>\n",
       "      <td>1758</td>\n",
       "      <td>1998-01-01</td>\n",
       "      <td>0.049484</td>\n",
       "      <td>Large Magellanic Cloud (LMC)</td>\n",
       "      <td>train</td>\n",
       "      <td>19980101</td>\n",
       "      <td>0.048647</td>\n",
       "    </tr>\n",
       "    <tr>\n",
       "      <td>1833</td>\n",
       "      <td>2000-01-01</td>\n",
       "      <td>0.049185</td>\n",
       "      <td>Large Magellanic Cloud (LMC)</td>\n",
       "      <td>train</td>\n",
       "      <td>20000101</td>\n",
       "      <td>0.048336</td>\n",
       "    </tr>\n",
       "    <tr>\n",
       "      <td>2015</td>\n",
       "      <td>2002-01-01</td>\n",
       "      <td>0.048314</td>\n",
       "      <td>Large Magellanic Cloud (LMC)</td>\n",
       "      <td>train</td>\n",
       "      <td>20020101</td>\n",
       "      <td>0.048044</td>\n",
       "    </tr>\n",
       "    <tr>\n",
       "      <td>2274</td>\n",
       "      <td>2004-01-01</td>\n",
       "      <td>0.047988</td>\n",
       "      <td>Large Magellanic Cloud (LMC)</td>\n",
       "      <td>train</td>\n",
       "      <td>20040101</td>\n",
       "      <td>0.047192</td>\n",
       "    </tr>\n",
       "    <tr>\n",
       "      <td>2421</td>\n",
       "      <td>2006-01-01</td>\n",
       "      <td>0.047607</td>\n",
       "      <td>Large Magellanic Cloud (LMC)</td>\n",
       "      <td>train</td>\n",
       "      <td>20060101</td>\n",
       "      <td>0.046874</td>\n",
       "    </tr>\n",
       "    <tr>\n",
       "      <td>2611</td>\n",
       "      <td>2008-01-01</td>\n",
       "      <td>0.047392</td>\n",
       "      <td>Large Magellanic Cloud (LMC)</td>\n",
       "      <td>train</td>\n",
       "      <td>20080101</td>\n",
       "      <td>0.046502</td>\n",
       "    </tr>\n",
       "    <tr>\n",
       "      <td>2846</td>\n",
       "      <td>2010-01-01</td>\n",
       "      <td>0.047043</td>\n",
       "      <td>Large Magellanic Cloud (LMC)</td>\n",
       "      <td>train</td>\n",
       "      <td>20100101</td>\n",
       "      <td>0.046292</td>\n",
       "    </tr>\n",
       "    <tr>\n",
       "      <td>2891</td>\n",
       "      <td>2012-01-01</td>\n",
       "      <td>0.046172</td>\n",
       "      <td>Large Magellanic Cloud (LMC)</td>\n",
       "      <td>train</td>\n",
       "      <td>20120101</td>\n",
       "      <td>0.045951</td>\n",
       "    </tr>\n",
       "    <tr>\n",
       "      <td>309</td>\n",
       "      <td>2014-01-01</td>\n",
       "      <td>NaN</td>\n",
       "      <td>Large Magellanic Cloud (LMC)</td>\n",
       "      <td>test</td>\n",
       "      <td>20140101</td>\n",
       "      <td>0.045100</td>\n",
       "    </tr>\n",
       "    <tr>\n",
       "      <td>144</td>\n",
       "      <td>2016-01-01</td>\n",
       "      <td>NaN</td>\n",
       "      <td>Large Magellanic Cloud (LMC)</td>\n",
       "      <td>test</td>\n",
       "      <td>20160101</td>\n",
       "      <td>0.044053</td>\n",
       "    </tr>\n",
       "    <tr>\n",
       "      <td>238</td>\n",
       "      <td>2018-01-01</td>\n",
       "      <td>NaN</td>\n",
       "      <td>Large Magellanic Cloud (LMC)</td>\n",
       "      <td>test</td>\n",
       "      <td>20180101</td>\n",
       "      <td>0.043031</td>\n",
       "    </tr>\n",
       "    <tr>\n",
       "      <td>375</td>\n",
       "      <td>2020-01-01</td>\n",
       "      <td>NaN</td>\n",
       "      <td>Large Magellanic Cloud (LMC)</td>\n",
       "      <td>test</td>\n",
       "      <td>20200101</td>\n",
       "      <td>0.042032</td>\n",
       "    </tr>\n",
       "    <tr>\n",
       "      <td>422</td>\n",
       "      <td>2022-01-01</td>\n",
       "      <td>NaN</td>\n",
       "      <td>Large Magellanic Cloud (LMC)</td>\n",
       "      <td>test</td>\n",
       "      <td>20220101</td>\n",
       "      <td>0.041056</td>\n",
       "    </tr>\n",
       "    <tr>\n",
       "      <td>256</td>\n",
       "      <td>2024-01-01</td>\n",
       "      <td>NaN</td>\n",
       "      <td>Large Magellanic Cloud (LMC)</td>\n",
       "      <td>test</td>\n",
       "      <td>20240101</td>\n",
       "      <td>0.040103</td>\n",
       "    </tr>\n",
       "    <tr>\n",
       "      <td>3679</td>\n",
       "      <td>2026-01-01</td>\n",
       "      <td>0.031641</td>\n",
       "      <td>Large Magellanic Cloud (LMC)</td>\n",
       "      <td>train</td>\n",
       "      <td>20260101</td>\n",
       "      <td>0.039172</td>\n",
       "    </tr>\n",
       "    <tr>\n",
       "      <td>3770</td>\n",
       "      <td>2028-01-01</td>\n",
       "      <td>0.031360</td>\n",
       "      <td>Large Magellanic Cloud (LMC)</td>\n",
       "      <td>train</td>\n",
       "      <td>20280101</td>\n",
       "      <td>0.030907</td>\n",
       "    </tr>\n",
       "    <tr>\n",
       "      <td>160</td>\n",
       "      <td>2030-01-01</td>\n",
       "      <td>NaN</td>\n",
       "      <td>Large Magellanic Cloud (LMC)</td>\n",
       "      <td>test</td>\n",
       "      <td>20300101</td>\n",
       "      <td>0.030632</td>\n",
       "    </tr>\n",
       "    <tr>\n",
       "      <td>322</td>\n",
       "      <td>2032-01-01</td>\n",
       "      <td>NaN</td>\n",
       "      <td>Large Magellanic Cloud (LMC)</td>\n",
       "      <td>test</td>\n",
       "      <td>20320101</td>\n",
       "      <td>0.029921</td>\n",
       "    </tr>\n",
       "  </tbody>\n",
       "</table>\n",
       "</div>"
      ],
      "text/plain": [
       "           date         y                        galaxy train_test  \\\n",
       "0    1980-01-01  0.052590  Large Magellanic Cloud (LMC)      train   \n",
       "194  1982-01-01  0.052115  Large Magellanic Cloud (LMC)      train   \n",
       "410  1984-01-01  0.052006  Large Magellanic Cloud (LMC)      train   \n",
       "543  1986-01-01  0.051675  Large Magellanic Cloud (LMC)      train   \n",
       "765  1988-01-01  0.051334  Large Magellanic Cloud (LMC)      train   \n",
       "1053 1990-01-01  0.051056  Large Magellanic Cloud (LMC)      train   \n",
       "1244 1992-01-01  0.050473  Large Magellanic Cloud (LMC)      train   \n",
       "1411 1994-01-01  0.050179  Large Magellanic Cloud (LMC)      train   \n",
       "1570 1996-01-01  0.049803  Large Magellanic Cloud (LMC)      train   \n",
       "1758 1998-01-01  0.049484  Large Magellanic Cloud (LMC)      train   \n",
       "1833 2000-01-01  0.049185  Large Magellanic Cloud (LMC)      train   \n",
       "2015 2002-01-01  0.048314  Large Magellanic Cloud (LMC)      train   \n",
       "2274 2004-01-01  0.047988  Large Magellanic Cloud (LMC)      train   \n",
       "2421 2006-01-01  0.047607  Large Magellanic Cloud (LMC)      train   \n",
       "2611 2008-01-01  0.047392  Large Magellanic Cloud (LMC)      train   \n",
       "2846 2010-01-01  0.047043  Large Magellanic Cloud (LMC)      train   \n",
       "2891 2012-01-01  0.046172  Large Magellanic Cloud (LMC)      train   \n",
       "309  2014-01-01       NaN  Large Magellanic Cloud (LMC)       test   \n",
       "144  2016-01-01       NaN  Large Magellanic Cloud (LMC)       test   \n",
       "238  2018-01-01       NaN  Large Magellanic Cloud (LMC)       test   \n",
       "375  2020-01-01       NaN  Large Magellanic Cloud (LMC)       test   \n",
       "422  2022-01-01       NaN  Large Magellanic Cloud (LMC)       test   \n",
       "256  2024-01-01       NaN  Large Magellanic Cloud (LMC)       test   \n",
       "3679 2026-01-01  0.031641  Large Magellanic Cloud (LMC)      train   \n",
       "3770 2028-01-01  0.031360  Large Magellanic Cloud (LMC)      train   \n",
       "160  2030-01-01       NaN  Large Magellanic Cloud (LMC)       test   \n",
       "322  2032-01-01       NaN  Large Magellanic Cloud (LMC)       test   \n",
       "\n",
       "     galactic year 1     preds  \n",
       "0           19800101  0.000000  \n",
       "194         19820101  0.051369  \n",
       "410         19840101  0.050905  \n",
       "543         19860101  0.050799  \n",
       "765         19880101  0.050476  \n",
       "1053        19900101  0.050142  \n",
       "1244        19920101  0.049871  \n",
       "1411        19940101  0.049301  \n",
       "1570        19960101  0.049014  \n",
       "1758        19980101  0.048647  \n",
       "1833        20000101  0.048336  \n",
       "2015        20020101  0.048044  \n",
       "2274        20040101  0.047192  \n",
       "2421        20060101  0.046874  \n",
       "2611        20080101  0.046502  \n",
       "2846        20100101  0.046292  \n",
       "2891        20120101  0.045951  \n",
       "309         20140101  0.045100  \n",
       "144         20160101  0.044053  \n",
       "238         20180101  0.043031  \n",
       "375         20200101  0.042032  \n",
       "422         20220101  0.041056  \n",
       "256         20240101  0.040103  \n",
       "3679        20260101  0.039172  \n",
       "3770        20280101  0.030907  \n",
       "160         20300101  0.030632  \n",
       "322         20320101  0.029921  "
      ]
     },
     "execution_count": 133,
     "metadata": {},
     "output_type": "execute_result"
    }
   ],
   "source": [
    "#Option 3 of predicting\n",
    "\n",
    "df_temp_temp"
   ]
  },
  {
   "cell_type": "code",
   "execution_count": 135,
   "metadata": {
    "ExecuteTime": {
     "end_time": "2020-06-19T12:17:31.635772Z",
     "start_time": "2020-06-19T12:17:31.619358Z"
    }
   },
   "outputs": [
    {
     "data": {
      "text/html": [
       "<div>\n",
       "<style scoped>\n",
       "    .dataframe tbody tr th:only-of-type {\n",
       "        vertical-align: middle;\n",
       "    }\n",
       "\n",
       "    .dataframe tbody tr th {\n",
       "        vertical-align: top;\n",
       "    }\n",
       "\n",
       "    .dataframe thead th {\n",
       "        text-align: right;\n",
       "    }\n",
       "</style>\n",
       "<table border=\"1\" class=\"dataframe\">\n",
       "  <thead>\n",
       "    <tr style=\"text-align: right;\">\n",
       "      <th></th>\n",
       "      <th>date</th>\n",
       "      <th>y</th>\n",
       "      <th>galaxy</th>\n",
       "      <th>train_test</th>\n",
       "      <th>galactic year 1</th>\n",
       "      <th>preds</th>\n",
       "    </tr>\n",
       "  </thead>\n",
       "  <tbody>\n",
       "    <tr>\n",
       "      <td>0</td>\n",
       "      <td>1980-01-01</td>\n",
       "      <td>0.052590</td>\n",
       "      <td>Large Magellanic Cloud (LMC)</td>\n",
       "      <td>train</td>\n",
       "      <td>19800101</td>\n",
       "      <td>0.000000</td>\n",
       "    </tr>\n",
       "    <tr>\n",
       "      <td>194</td>\n",
       "      <td>1982-01-01</td>\n",
       "      <td>0.052115</td>\n",
       "      <td>Large Magellanic Cloud (LMC)</td>\n",
       "      <td>train</td>\n",
       "      <td>19820101</td>\n",
       "      <td>0.051369</td>\n",
       "    </tr>\n",
       "    <tr>\n",
       "      <td>410</td>\n",
       "      <td>1984-01-01</td>\n",
       "      <td>0.052006</td>\n",
       "      <td>Large Magellanic Cloud (LMC)</td>\n",
       "      <td>train</td>\n",
       "      <td>19840101</td>\n",
       "      <td>0.050905</td>\n",
       "    </tr>\n",
       "    <tr>\n",
       "      <td>543</td>\n",
       "      <td>1986-01-01</td>\n",
       "      <td>0.051675</td>\n",
       "      <td>Large Magellanic Cloud (LMC)</td>\n",
       "      <td>train</td>\n",
       "      <td>19860101</td>\n",
       "      <td>0.050799</td>\n",
       "    </tr>\n",
       "    <tr>\n",
       "      <td>765</td>\n",
       "      <td>1988-01-01</td>\n",
       "      <td>0.051334</td>\n",
       "      <td>Large Magellanic Cloud (LMC)</td>\n",
       "      <td>train</td>\n",
       "      <td>19880101</td>\n",
       "      <td>0.050476</td>\n",
       "    </tr>\n",
       "    <tr>\n",
       "      <td>1053</td>\n",
       "      <td>1990-01-01</td>\n",
       "      <td>0.051056</td>\n",
       "      <td>Large Magellanic Cloud (LMC)</td>\n",
       "      <td>train</td>\n",
       "      <td>19900101</td>\n",
       "      <td>0.050142</td>\n",
       "    </tr>\n",
       "    <tr>\n",
       "      <td>1244</td>\n",
       "      <td>1992-01-01</td>\n",
       "      <td>0.050473</td>\n",
       "      <td>Large Magellanic Cloud (LMC)</td>\n",
       "      <td>train</td>\n",
       "      <td>19920101</td>\n",
       "      <td>0.049871</td>\n",
       "    </tr>\n",
       "    <tr>\n",
       "      <td>1411</td>\n",
       "      <td>1994-01-01</td>\n",
       "      <td>0.050179</td>\n",
       "      <td>Large Magellanic Cloud (LMC)</td>\n",
       "      <td>train</td>\n",
       "      <td>19940101</td>\n",
       "      <td>0.049301</td>\n",
       "    </tr>\n",
       "    <tr>\n",
       "      <td>1570</td>\n",
       "      <td>1996-01-01</td>\n",
       "      <td>0.049803</td>\n",
       "      <td>Large Magellanic Cloud (LMC)</td>\n",
       "      <td>train</td>\n",
       "      <td>19960101</td>\n",
       "      <td>0.049014</td>\n",
       "    </tr>\n",
       "    <tr>\n",
       "      <td>1758</td>\n",
       "      <td>1998-01-01</td>\n",
       "      <td>0.049484</td>\n",
       "      <td>Large Magellanic Cloud (LMC)</td>\n",
       "      <td>train</td>\n",
       "      <td>19980101</td>\n",
       "      <td>0.048647</td>\n",
       "    </tr>\n",
       "    <tr>\n",
       "      <td>1833</td>\n",
       "      <td>2000-01-01</td>\n",
       "      <td>0.049185</td>\n",
       "      <td>Large Magellanic Cloud (LMC)</td>\n",
       "      <td>train</td>\n",
       "      <td>20000101</td>\n",
       "      <td>0.048336</td>\n",
       "    </tr>\n",
       "    <tr>\n",
       "      <td>2015</td>\n",
       "      <td>2002-01-01</td>\n",
       "      <td>0.048314</td>\n",
       "      <td>Large Magellanic Cloud (LMC)</td>\n",
       "      <td>train</td>\n",
       "      <td>20020101</td>\n",
       "      <td>0.048044</td>\n",
       "    </tr>\n",
       "    <tr>\n",
       "      <td>2274</td>\n",
       "      <td>2004-01-01</td>\n",
       "      <td>0.047988</td>\n",
       "      <td>Large Magellanic Cloud (LMC)</td>\n",
       "      <td>train</td>\n",
       "      <td>20040101</td>\n",
       "      <td>0.047192</td>\n",
       "    </tr>\n",
       "    <tr>\n",
       "      <td>2421</td>\n",
       "      <td>2006-01-01</td>\n",
       "      <td>0.047607</td>\n",
       "      <td>Large Magellanic Cloud (LMC)</td>\n",
       "      <td>train</td>\n",
       "      <td>20060101</td>\n",
       "      <td>0.046874</td>\n",
       "    </tr>\n",
       "    <tr>\n",
       "      <td>2611</td>\n",
       "      <td>2008-01-01</td>\n",
       "      <td>0.047392</td>\n",
       "      <td>Large Magellanic Cloud (LMC)</td>\n",
       "      <td>train</td>\n",
       "      <td>20080101</td>\n",
       "      <td>0.046502</td>\n",
       "    </tr>\n",
       "    <tr>\n",
       "      <td>2846</td>\n",
       "      <td>2010-01-01</td>\n",
       "      <td>0.047043</td>\n",
       "      <td>Large Magellanic Cloud (LMC)</td>\n",
       "      <td>train</td>\n",
       "      <td>20100101</td>\n",
       "      <td>0.046292</td>\n",
       "    </tr>\n",
       "    <tr>\n",
       "      <td>2891</td>\n",
       "      <td>2012-01-01</td>\n",
       "      <td>0.046172</td>\n",
       "      <td>Large Magellanic Cloud (LMC)</td>\n",
       "      <td>train</td>\n",
       "      <td>20120101</td>\n",
       "      <td>0.045951</td>\n",
       "    </tr>\n",
       "    <tr>\n",
       "      <td>309</td>\n",
       "      <td>2014-01-01</td>\n",
       "      <td>NaN</td>\n",
       "      <td>Large Magellanic Cloud (LMC)</td>\n",
       "      <td>test</td>\n",
       "      <td>20140101</td>\n",
       "      <td>0.045100</td>\n",
       "    </tr>\n",
       "    <tr>\n",
       "      <td>144</td>\n",
       "      <td>2016-01-01</td>\n",
       "      <td>NaN</td>\n",
       "      <td>Large Magellanic Cloud (LMC)</td>\n",
       "      <td>test</td>\n",
       "      <td>20160101</td>\n",
       "      <td>0.044053</td>\n",
       "    </tr>\n",
       "    <tr>\n",
       "      <td>238</td>\n",
       "      <td>2018-01-01</td>\n",
       "      <td>NaN</td>\n",
       "      <td>Large Magellanic Cloud (LMC)</td>\n",
       "      <td>test</td>\n",
       "      <td>20180101</td>\n",
       "      <td>0.043031</td>\n",
       "    </tr>\n",
       "    <tr>\n",
       "      <td>375</td>\n",
       "      <td>2020-01-01</td>\n",
       "      <td>NaN</td>\n",
       "      <td>Large Magellanic Cloud (LMC)</td>\n",
       "      <td>test</td>\n",
       "      <td>20200101</td>\n",
       "      <td>0.042032</td>\n",
       "    </tr>\n",
       "    <tr>\n",
       "      <td>422</td>\n",
       "      <td>2022-01-01</td>\n",
       "      <td>NaN</td>\n",
       "      <td>Large Magellanic Cloud (LMC)</td>\n",
       "      <td>test</td>\n",
       "      <td>20220101</td>\n",
       "      <td>0.041056</td>\n",
       "    </tr>\n",
       "    <tr>\n",
       "      <td>256</td>\n",
       "      <td>2024-01-01</td>\n",
       "      <td>NaN</td>\n",
       "      <td>Large Magellanic Cloud (LMC)</td>\n",
       "      <td>test</td>\n",
       "      <td>20240101</td>\n",
       "      <td>0.040103</td>\n",
       "    </tr>\n",
       "    <tr>\n",
       "      <td>3679</td>\n",
       "      <td>2026-01-01</td>\n",
       "      <td>0.031641</td>\n",
       "      <td>Large Magellanic Cloud (LMC)</td>\n",
       "      <td>train</td>\n",
       "      <td>20260101</td>\n",
       "      <td>0.039172</td>\n",
       "    </tr>\n",
       "    <tr>\n",
       "      <td>3770</td>\n",
       "      <td>2028-01-01</td>\n",
       "      <td>0.031360</td>\n",
       "      <td>Large Magellanic Cloud (LMC)</td>\n",
       "      <td>train</td>\n",
       "      <td>20280101</td>\n",
       "      <td>0.030907</td>\n",
       "    </tr>\n",
       "    <tr>\n",
       "      <td>160</td>\n",
       "      <td>2030-01-01</td>\n",
       "      <td>NaN</td>\n",
       "      <td>Large Magellanic Cloud (LMC)</td>\n",
       "      <td>test</td>\n",
       "      <td>20300101</td>\n",
       "      <td>0.030632</td>\n",
       "    </tr>\n",
       "    <tr>\n",
       "      <td>322</td>\n",
       "      <td>2032-01-01</td>\n",
       "      <td>NaN</td>\n",
       "      <td>Large Magellanic Cloud (LMC)</td>\n",
       "      <td>test</td>\n",
       "      <td>20320101</td>\n",
       "      <td>0.029921</td>\n",
       "    </tr>\n",
       "  </tbody>\n",
       "</table>\n",
       "</div>"
      ],
      "text/plain": [
       "           date         y                        galaxy train_test  \\\n",
       "0    1980-01-01  0.052590  Large Magellanic Cloud (LMC)      train   \n",
       "194  1982-01-01  0.052115  Large Magellanic Cloud (LMC)      train   \n",
       "410  1984-01-01  0.052006  Large Magellanic Cloud (LMC)      train   \n",
       "543  1986-01-01  0.051675  Large Magellanic Cloud (LMC)      train   \n",
       "765  1988-01-01  0.051334  Large Magellanic Cloud (LMC)      train   \n",
       "1053 1990-01-01  0.051056  Large Magellanic Cloud (LMC)      train   \n",
       "1244 1992-01-01  0.050473  Large Magellanic Cloud (LMC)      train   \n",
       "1411 1994-01-01  0.050179  Large Magellanic Cloud (LMC)      train   \n",
       "1570 1996-01-01  0.049803  Large Magellanic Cloud (LMC)      train   \n",
       "1758 1998-01-01  0.049484  Large Magellanic Cloud (LMC)      train   \n",
       "1833 2000-01-01  0.049185  Large Magellanic Cloud (LMC)      train   \n",
       "2015 2002-01-01  0.048314  Large Magellanic Cloud (LMC)      train   \n",
       "2274 2004-01-01  0.047988  Large Magellanic Cloud (LMC)      train   \n",
       "2421 2006-01-01  0.047607  Large Magellanic Cloud (LMC)      train   \n",
       "2611 2008-01-01  0.047392  Large Magellanic Cloud (LMC)      train   \n",
       "2846 2010-01-01  0.047043  Large Magellanic Cloud (LMC)      train   \n",
       "2891 2012-01-01  0.046172  Large Magellanic Cloud (LMC)      train   \n",
       "309  2014-01-01       NaN  Large Magellanic Cloud (LMC)       test   \n",
       "144  2016-01-01       NaN  Large Magellanic Cloud (LMC)       test   \n",
       "238  2018-01-01       NaN  Large Magellanic Cloud (LMC)       test   \n",
       "375  2020-01-01       NaN  Large Magellanic Cloud (LMC)       test   \n",
       "422  2022-01-01       NaN  Large Magellanic Cloud (LMC)       test   \n",
       "256  2024-01-01       NaN  Large Magellanic Cloud (LMC)       test   \n",
       "3679 2026-01-01  0.031641  Large Magellanic Cloud (LMC)      train   \n",
       "3770 2028-01-01  0.031360  Large Magellanic Cloud (LMC)      train   \n",
       "160  2030-01-01       NaN  Large Magellanic Cloud (LMC)       test   \n",
       "322  2032-01-01       NaN  Large Magellanic Cloud (LMC)       test   \n",
       "\n",
       "     galactic year 1     preds  \n",
       "0           19800101  0.000000  \n",
       "194         19820101  0.051369  \n",
       "410         19840101  0.050905  \n",
       "543         19860101  0.050799  \n",
       "765         19880101  0.050476  \n",
       "1053        19900101  0.050142  \n",
       "1244        19920101  0.049871  \n",
       "1411        19940101  0.049301  \n",
       "1570        19960101  0.049014  \n",
       "1758        19980101  0.048647  \n",
       "1833        20000101  0.048336  \n",
       "2015        20020101  0.048044  \n",
       "2274        20040101  0.047192  \n",
       "2421        20060101  0.046874  \n",
       "2611        20080101  0.046502  \n",
       "2846        20100101  0.046292  \n",
       "2891        20120101  0.045951  \n",
       "309         20140101  0.045100  \n",
       "144         20160101  0.044053  \n",
       "238         20180101  0.043031  \n",
       "375         20200101  0.042032  \n",
       "422         20220101  0.041056  \n",
       "256         20240101  0.040103  \n",
       "3679        20260101  0.039172  \n",
       "3770        20280101  0.030907  \n",
       "160         20300101  0.030632  \n",
       "322         20320101  0.029921  "
      ]
     },
     "execution_count": 135,
     "metadata": {},
     "output_type": "execute_result"
    }
   ],
   "source": [
    "#Option 2 of predicting\n",
    "\n",
    "df_temp_temp"
   ]
  },
  {
   "cell_type": "code",
   "execution_count": 137,
   "metadata": {
    "ExecuteTime": {
     "end_time": "2020-06-19T12:17:46.109599Z",
     "start_time": "2020-06-19T12:17:46.094467Z"
    }
   },
   "outputs": [
    {
     "data": {
      "text/html": [
       "<div>\n",
       "<style scoped>\n",
       "    .dataframe tbody tr th:only-of-type {\n",
       "        vertical-align: middle;\n",
       "    }\n",
       "\n",
       "    .dataframe tbody tr th {\n",
       "        vertical-align: top;\n",
       "    }\n",
       "\n",
       "    .dataframe thead th {\n",
       "        text-align: right;\n",
       "    }\n",
       "</style>\n",
       "<table border=\"1\" class=\"dataframe\">\n",
       "  <thead>\n",
       "    <tr style=\"text-align: right;\">\n",
       "      <th></th>\n",
       "      <th>date</th>\n",
       "      <th>y</th>\n",
       "      <th>galaxy</th>\n",
       "      <th>train_test</th>\n",
       "      <th>galactic year 1</th>\n",
       "      <th>preds</th>\n",
       "    </tr>\n",
       "  </thead>\n",
       "  <tbody>\n",
       "    <tr>\n",
       "      <td>0</td>\n",
       "      <td>1980-01-01</td>\n",
       "      <td>0.052590</td>\n",
       "      <td>Large Magellanic Cloud (LMC)</td>\n",
       "      <td>train</td>\n",
       "      <td>19800101</td>\n",
       "      <td>0.000000</td>\n",
       "    </tr>\n",
       "    <tr>\n",
       "      <td>194</td>\n",
       "      <td>1982-01-01</td>\n",
       "      <td>0.052115</td>\n",
       "      <td>Large Magellanic Cloud (LMC)</td>\n",
       "      <td>train</td>\n",
       "      <td>19820101</td>\n",
       "      <td>0.051369</td>\n",
       "    </tr>\n",
       "    <tr>\n",
       "      <td>410</td>\n",
       "      <td>1984-01-01</td>\n",
       "      <td>0.052006</td>\n",
       "      <td>Large Magellanic Cloud (LMC)</td>\n",
       "      <td>train</td>\n",
       "      <td>19840101</td>\n",
       "      <td>0.050905</td>\n",
       "    </tr>\n",
       "    <tr>\n",
       "      <td>543</td>\n",
       "      <td>1986-01-01</td>\n",
       "      <td>0.051675</td>\n",
       "      <td>Large Magellanic Cloud (LMC)</td>\n",
       "      <td>train</td>\n",
       "      <td>19860101</td>\n",
       "      <td>0.050799</td>\n",
       "    </tr>\n",
       "    <tr>\n",
       "      <td>765</td>\n",
       "      <td>1988-01-01</td>\n",
       "      <td>0.051334</td>\n",
       "      <td>Large Magellanic Cloud (LMC)</td>\n",
       "      <td>train</td>\n",
       "      <td>19880101</td>\n",
       "      <td>0.050476</td>\n",
       "    </tr>\n",
       "    <tr>\n",
       "      <td>1053</td>\n",
       "      <td>1990-01-01</td>\n",
       "      <td>0.051056</td>\n",
       "      <td>Large Magellanic Cloud (LMC)</td>\n",
       "      <td>train</td>\n",
       "      <td>19900101</td>\n",
       "      <td>0.050142</td>\n",
       "    </tr>\n",
       "    <tr>\n",
       "      <td>1244</td>\n",
       "      <td>1992-01-01</td>\n",
       "      <td>0.050473</td>\n",
       "      <td>Large Magellanic Cloud (LMC)</td>\n",
       "      <td>train</td>\n",
       "      <td>19920101</td>\n",
       "      <td>0.049871</td>\n",
       "    </tr>\n",
       "    <tr>\n",
       "      <td>1411</td>\n",
       "      <td>1994-01-01</td>\n",
       "      <td>0.050179</td>\n",
       "      <td>Large Magellanic Cloud (LMC)</td>\n",
       "      <td>train</td>\n",
       "      <td>19940101</td>\n",
       "      <td>0.049301</td>\n",
       "    </tr>\n",
       "    <tr>\n",
       "      <td>1570</td>\n",
       "      <td>1996-01-01</td>\n",
       "      <td>0.049803</td>\n",
       "      <td>Large Magellanic Cloud (LMC)</td>\n",
       "      <td>train</td>\n",
       "      <td>19960101</td>\n",
       "      <td>0.049014</td>\n",
       "    </tr>\n",
       "    <tr>\n",
       "      <td>1758</td>\n",
       "      <td>1998-01-01</td>\n",
       "      <td>0.049484</td>\n",
       "      <td>Large Magellanic Cloud (LMC)</td>\n",
       "      <td>train</td>\n",
       "      <td>19980101</td>\n",
       "      <td>0.048647</td>\n",
       "    </tr>\n",
       "    <tr>\n",
       "      <td>1833</td>\n",
       "      <td>2000-01-01</td>\n",
       "      <td>0.049185</td>\n",
       "      <td>Large Magellanic Cloud (LMC)</td>\n",
       "      <td>train</td>\n",
       "      <td>20000101</td>\n",
       "      <td>0.048336</td>\n",
       "    </tr>\n",
       "    <tr>\n",
       "      <td>2015</td>\n",
       "      <td>2002-01-01</td>\n",
       "      <td>0.048314</td>\n",
       "      <td>Large Magellanic Cloud (LMC)</td>\n",
       "      <td>train</td>\n",
       "      <td>20020101</td>\n",
       "      <td>0.048044</td>\n",
       "    </tr>\n",
       "    <tr>\n",
       "      <td>2274</td>\n",
       "      <td>2004-01-01</td>\n",
       "      <td>0.047988</td>\n",
       "      <td>Large Magellanic Cloud (LMC)</td>\n",
       "      <td>train</td>\n",
       "      <td>20040101</td>\n",
       "      <td>0.047192</td>\n",
       "    </tr>\n",
       "    <tr>\n",
       "      <td>2421</td>\n",
       "      <td>2006-01-01</td>\n",
       "      <td>0.047607</td>\n",
       "      <td>Large Magellanic Cloud (LMC)</td>\n",
       "      <td>train</td>\n",
       "      <td>20060101</td>\n",
       "      <td>0.046874</td>\n",
       "    </tr>\n",
       "    <tr>\n",
       "      <td>2611</td>\n",
       "      <td>2008-01-01</td>\n",
       "      <td>0.047392</td>\n",
       "      <td>Large Magellanic Cloud (LMC)</td>\n",
       "      <td>train</td>\n",
       "      <td>20080101</td>\n",
       "      <td>0.046502</td>\n",
       "    </tr>\n",
       "    <tr>\n",
       "      <td>2846</td>\n",
       "      <td>2010-01-01</td>\n",
       "      <td>0.047043</td>\n",
       "      <td>Large Magellanic Cloud (LMC)</td>\n",
       "      <td>train</td>\n",
       "      <td>20100101</td>\n",
       "      <td>0.046292</td>\n",
       "    </tr>\n",
       "    <tr>\n",
       "      <td>2891</td>\n",
       "      <td>2012-01-01</td>\n",
       "      <td>0.046172</td>\n",
       "      <td>Large Magellanic Cloud (LMC)</td>\n",
       "      <td>train</td>\n",
       "      <td>20120101</td>\n",
       "      <td>0.045951</td>\n",
       "    </tr>\n",
       "    <tr>\n",
       "      <td>309</td>\n",
       "      <td>2014-01-01</td>\n",
       "      <td>NaN</td>\n",
       "      <td>Large Magellanic Cloud (LMC)</td>\n",
       "      <td>test</td>\n",
       "      <td>20140101</td>\n",
       "      <td>0.045100</td>\n",
       "    </tr>\n",
       "    <tr>\n",
       "      <td>144</td>\n",
       "      <td>2016-01-01</td>\n",
       "      <td>NaN</td>\n",
       "      <td>Large Magellanic Cloud (LMC)</td>\n",
       "      <td>test</td>\n",
       "      <td>20160101</td>\n",
       "      <td>0.044053</td>\n",
       "    </tr>\n",
       "    <tr>\n",
       "      <td>238</td>\n",
       "      <td>2018-01-01</td>\n",
       "      <td>NaN</td>\n",
       "      <td>Large Magellanic Cloud (LMC)</td>\n",
       "      <td>test</td>\n",
       "      <td>20180101</td>\n",
       "      <td>0.043031</td>\n",
       "    </tr>\n",
       "    <tr>\n",
       "      <td>375</td>\n",
       "      <td>2020-01-01</td>\n",
       "      <td>NaN</td>\n",
       "      <td>Large Magellanic Cloud (LMC)</td>\n",
       "      <td>test</td>\n",
       "      <td>20200101</td>\n",
       "      <td>0.042032</td>\n",
       "    </tr>\n",
       "    <tr>\n",
       "      <td>422</td>\n",
       "      <td>2022-01-01</td>\n",
       "      <td>NaN</td>\n",
       "      <td>Large Magellanic Cloud (LMC)</td>\n",
       "      <td>test</td>\n",
       "      <td>20220101</td>\n",
       "      <td>0.041056</td>\n",
       "    </tr>\n",
       "    <tr>\n",
       "      <td>256</td>\n",
       "      <td>2024-01-01</td>\n",
       "      <td>NaN</td>\n",
       "      <td>Large Magellanic Cloud (LMC)</td>\n",
       "      <td>test</td>\n",
       "      <td>20240101</td>\n",
       "      <td>0.040103</td>\n",
       "    </tr>\n",
       "    <tr>\n",
       "      <td>3679</td>\n",
       "      <td>2026-01-01</td>\n",
       "      <td>0.031641</td>\n",
       "      <td>Large Magellanic Cloud (LMC)</td>\n",
       "      <td>train</td>\n",
       "      <td>20260101</td>\n",
       "      <td>0.039172</td>\n",
       "    </tr>\n",
       "    <tr>\n",
       "      <td>3770</td>\n",
       "      <td>2028-01-01</td>\n",
       "      <td>0.031360</td>\n",
       "      <td>Large Magellanic Cloud (LMC)</td>\n",
       "      <td>train</td>\n",
       "      <td>20280101</td>\n",
       "      <td>0.030907</td>\n",
       "    </tr>\n",
       "    <tr>\n",
       "      <td>160</td>\n",
       "      <td>2030-01-01</td>\n",
       "      <td>NaN</td>\n",
       "      <td>Large Magellanic Cloud (LMC)</td>\n",
       "      <td>test</td>\n",
       "      <td>20300101</td>\n",
       "      <td>0.030632</td>\n",
       "    </tr>\n",
       "    <tr>\n",
       "      <td>322</td>\n",
       "      <td>2032-01-01</td>\n",
       "      <td>NaN</td>\n",
       "      <td>Large Magellanic Cloud (LMC)</td>\n",
       "      <td>test</td>\n",
       "      <td>20320101</td>\n",
       "      <td>0.029921</td>\n",
       "    </tr>\n",
       "  </tbody>\n",
       "</table>\n",
       "</div>"
      ],
      "text/plain": [
       "           date         y                        galaxy train_test  \\\n",
       "0    1980-01-01  0.052590  Large Magellanic Cloud (LMC)      train   \n",
       "194  1982-01-01  0.052115  Large Magellanic Cloud (LMC)      train   \n",
       "410  1984-01-01  0.052006  Large Magellanic Cloud (LMC)      train   \n",
       "543  1986-01-01  0.051675  Large Magellanic Cloud (LMC)      train   \n",
       "765  1988-01-01  0.051334  Large Magellanic Cloud (LMC)      train   \n",
       "1053 1990-01-01  0.051056  Large Magellanic Cloud (LMC)      train   \n",
       "1244 1992-01-01  0.050473  Large Magellanic Cloud (LMC)      train   \n",
       "1411 1994-01-01  0.050179  Large Magellanic Cloud (LMC)      train   \n",
       "1570 1996-01-01  0.049803  Large Magellanic Cloud (LMC)      train   \n",
       "1758 1998-01-01  0.049484  Large Magellanic Cloud (LMC)      train   \n",
       "1833 2000-01-01  0.049185  Large Magellanic Cloud (LMC)      train   \n",
       "2015 2002-01-01  0.048314  Large Magellanic Cloud (LMC)      train   \n",
       "2274 2004-01-01  0.047988  Large Magellanic Cloud (LMC)      train   \n",
       "2421 2006-01-01  0.047607  Large Magellanic Cloud (LMC)      train   \n",
       "2611 2008-01-01  0.047392  Large Magellanic Cloud (LMC)      train   \n",
       "2846 2010-01-01  0.047043  Large Magellanic Cloud (LMC)      train   \n",
       "2891 2012-01-01  0.046172  Large Magellanic Cloud (LMC)      train   \n",
       "309  2014-01-01       NaN  Large Magellanic Cloud (LMC)       test   \n",
       "144  2016-01-01       NaN  Large Magellanic Cloud (LMC)       test   \n",
       "238  2018-01-01       NaN  Large Magellanic Cloud (LMC)       test   \n",
       "375  2020-01-01       NaN  Large Magellanic Cloud (LMC)       test   \n",
       "422  2022-01-01       NaN  Large Magellanic Cloud (LMC)       test   \n",
       "256  2024-01-01       NaN  Large Magellanic Cloud (LMC)       test   \n",
       "3679 2026-01-01  0.031641  Large Magellanic Cloud (LMC)      train   \n",
       "3770 2028-01-01  0.031360  Large Magellanic Cloud (LMC)      train   \n",
       "160  2030-01-01       NaN  Large Magellanic Cloud (LMC)       test   \n",
       "322  2032-01-01       NaN  Large Magellanic Cloud (LMC)       test   \n",
       "\n",
       "     galactic year 1     preds  \n",
       "0           19800101  0.000000  \n",
       "194         19820101  0.051369  \n",
       "410         19840101  0.050905  \n",
       "543         19860101  0.050799  \n",
       "765         19880101  0.050476  \n",
       "1053        19900101  0.050142  \n",
       "1244        19920101  0.049871  \n",
       "1411        19940101  0.049301  \n",
       "1570        19960101  0.049014  \n",
       "1758        19980101  0.048647  \n",
       "1833        20000101  0.048336  \n",
       "2015        20020101  0.048044  \n",
       "2274        20040101  0.047192  \n",
       "2421        20060101  0.046874  \n",
       "2611        20080101  0.046502  \n",
       "2846        20100101  0.046292  \n",
       "2891        20120101  0.045951  \n",
       "309         20140101  0.045100  \n",
       "144         20160101  0.044053  \n",
       "238         20180101  0.043031  \n",
       "375         20200101  0.042032  \n",
       "422         20220101  0.041056  \n",
       "256         20240101  0.040103  \n",
       "3679        20260101  0.039172  \n",
       "3770        20280101  0.030907  \n",
       "160         20300101  0.030632  \n",
       "322         20320101  0.029921  "
      ]
     },
     "execution_count": 137,
     "metadata": {},
     "output_type": "execute_result"
    }
   ],
   "source": [
    "#Option 1 of predicting\n",
    "\n",
    "df_temp_temp"
   ]
  },
  {
   "cell_type": "code",
   "execution_count": null,
   "metadata": {},
   "outputs": [],
   "source": []
  }
 ],
 "metadata": {
  "kernelspec": {
   "display_name": "Python 3",
   "language": "python",
   "name": "python3"
  },
  "language_info": {
   "codemirror_mode": {
    "name": "ipython",
    "version": 3
   },
   "file_extension": ".py",
   "mimetype": "text/x-python",
   "name": "python",
   "nbconvert_exporter": "python",
   "pygments_lexer": "ipython3",
   "version": "3.7.4"
  }
 },
 "nbformat": 4,
 "nbformat_minor": 2
}
