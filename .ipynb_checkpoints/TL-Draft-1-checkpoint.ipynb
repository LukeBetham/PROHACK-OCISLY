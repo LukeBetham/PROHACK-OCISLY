{
 "cells": [
  {
   "cell_type": "markdown",
   "metadata": {},
   "source": [
    "# Time Series modelling - y only - calculating rmse"
   ]
  },
  {
   "cell_type": "code",
   "execution_count": 36,
   "metadata": {
    "ExecuteTime": {
     "end_time": "2020-06-19T10:26:14.361275Z",
     "start_time": "2020-06-19T10:26:14.356882Z"
    }
   },
   "outputs": [],
   "source": [
    "import pandas as pd\n",
    "import numpy as np\n",
    "\n",
    "# ^^^ pyforest auto-imports - don't write above this line\n",
    "\n",
    "\n",
    "from sklearn.model_selection import TimeSeriesSplit\n",
    "from scipy import stats\n",
    "import statsmodels.api as sm\n",
    "from sklearn.metrics import mean_squared_error\n"
   ]
  },
  {
   "cell_type": "code",
   "execution_count": 26,
   "metadata": {
    "ExecuteTime": {
     "end_time": "2020-06-19T10:24:24.334240Z",
     "start_time": "2020-06-19T10:24:24.217159Z"
    }
   },
   "outputs": [
    {
     "name": "stderr",
     "output_type": "stream",
     "text": [
      "/Users/Tiffany/opt/anaconda3/lib/python3.7/site-packages/ipykernel_launcher.py:9: FutureWarning: Sorting because non-concatenation axis is not aligned. A future version\n",
      "of pandas will change to not sort by default.\n",
      "\n",
      "To accept the future behavior, pass 'sort=False'.\n",
      "\n",
      "To retain the current behavior and silence the warning, pass 'sort=True'.\n",
      "\n",
      "  if __name__ == '__main__':\n"
     ]
    }
   ],
   "source": [
    "#Loading in combined train and test set\n",
    "\n",
    "df = pd.read_csv('train.csv')\n",
    "df_test = pd.read_csv('test.csv')\n",
    "\n",
    "df[\"train_test\"] = 'train'\n",
    "df_test[\"train_test\"] = \"test\"\n",
    "\n",
    "df_combined = pd.concat([df,df_test])"
   ]
  },
  {
   "cell_type": "code",
   "execution_count": 27,
   "metadata": {
    "ExecuteTime": {
     "end_time": "2020-06-19T10:24:35.582614Z",
     "start_time": "2020-06-19T10:24:24.618085Z"
    }
   },
   "outputs": [],
   "source": [
    "#Linear interpolation on all features\n",
    "\n",
    "def interpolator(df):\n",
    "    for g in df.galaxy.unique():\n",
    "        #splitting out the individual galaxies\n",
    "        df_temp = df[df['galaxy']==g].copy()\n",
    "        df = df[~(df['galaxy']==g)]\n",
    "        #filling the Nans (first with interpolation and then backfilling if missing for start)\n",
    "        df_temp.sort_values(\"galactic year\",inplace=True)\n",
    "        df_temp.interpolate(method='linear',inplace=True)\n",
    "        df_temp.fillna(method ='bfill',inplace=True)\n",
    "        df_temp.fillna(method ='ffill',inplace=True)\n",
    "        #adding back to dataframe\n",
    "        df = pd.concat([df,df_temp])\n",
    "    #filling the Nans for any which didnt have anything to fill at all\n",
    "    df.fillna(df.mean(),inplace=True)\n",
    "    return df\n",
    "\n",
    "df_combined = interpolator(df_combined)\n",
    "#df_combined = pd.get_dummies(df_combined, columns=['galaxy'])\n",
    "df = df_combined[df_combined[\"train_test\"]=='train'].copy()\n",
    "df_test = df_combined[df_combined[\"train_test\"]=='test'].copy()\n",
    "df.drop('train_test',axis=1,inplace=True)\n",
    "df_test.drop('train_test',axis=1,inplace=True)\n"
   ]
  },
  {
   "cell_type": "code",
   "execution_count": 28,
   "metadata": {
    "ExecuteTime": {
     "end_time": "2020-06-19T10:24:35.673636Z",
     "start_time": "2020-06-19T10:24:35.584710Z"
    }
   },
   "outputs": [
    {
     "data": {
      "text/html": [
       "<div>\n",
       "<style scoped>\n",
       "    .dataframe tbody tr th:only-of-type {\n",
       "        vertical-align: middle;\n",
       "    }\n",
       "\n",
       "    .dataframe tbody tr th {\n",
       "        vertical-align: top;\n",
       "    }\n",
       "\n",
       "    .dataframe thead th {\n",
       "        text-align: right;\n",
       "    }\n",
       "</style>\n",
       "<table border=\"1\" class=\"dataframe\">\n",
       "  <thead>\n",
       "    <tr style=\"text-align: right;\">\n",
       "      <th></th>\n",
       "      <th>Adjusted net savings</th>\n",
       "      <th>Adolescent birth rate (births per 1,000 female creatures ages 15-19)</th>\n",
       "      <th>Creature Immunodeficiency Disease prevalence, adult (% ages 15-49), total</th>\n",
       "      <th>Current health expenditure (% of GGP)</th>\n",
       "      <th>Domestic credit provided by financial sector (% of GGP)</th>\n",
       "      <th>Education Index</th>\n",
       "      <th>Employment in agriculture (% of total employment)</th>\n",
       "      <th>Employment in services (% of total employment)</th>\n",
       "      <th>Employment to population ratio (% ages 15 and older)</th>\n",
       "      <th>Estimated gross galactic income per capita, female</th>\n",
       "      <th>...</th>\n",
       "      <th>Vulnerable employment (% of total employment)</th>\n",
       "      <th>Young age (0-14) dependency ratio (per 100 creatures ages 15-64)</th>\n",
       "      <th>Youth unemployment rate (female to male ratio)</th>\n",
       "      <th>existence expectancy at birth</th>\n",
       "      <th>existence expectancy index</th>\n",
       "      <th>galactic year</th>\n",
       "      <th>galaxy</th>\n",
       "      <th>y</th>\n",
       "      <th>galactic year 1</th>\n",
       "      <th>date</th>\n",
       "    </tr>\n",
       "  </thead>\n",
       "  <tbody>\n",
       "    <tr>\n",
       "      <td>0</td>\n",
       "      <td>43.391708</td>\n",
       "      <td>174.617899</td>\n",
       "      <td>6.313144</td>\n",
       "      <td>6.248891</td>\n",
       "      <td>75.604799</td>\n",
       "      <td>0.526375</td>\n",
       "      <td>96.827657</td>\n",
       "      <td>53.392606</td>\n",
       "      <td>76.506783</td>\n",
       "      <td>16498.415777</td>\n",
       "      <td>...</td>\n",
       "      <td>91.911151</td>\n",
       "      <td>98.216072</td>\n",
       "      <td>2.184798</td>\n",
       "      <td>63.125200</td>\n",
       "      <td>0.628657</td>\n",
       "      <td>990025</td>\n",
       "      <td>Large Magellanic Cloud (LMC)</td>\n",
       "      <td>0.052590</td>\n",
       "      <td>19800101</td>\n",
       "      <td>1980-01-01</td>\n",
       "    </tr>\n",
       "    <tr>\n",
       "      <td>194</td>\n",
       "      <td>43.391708</td>\n",
       "      <td>165.945907</td>\n",
       "      <td>6.313144</td>\n",
       "      <td>6.248891</td>\n",
       "      <td>73.837393</td>\n",
       "      <td>0.526375</td>\n",
       "      <td>96.827657</td>\n",
       "      <td>53.392606</td>\n",
       "      <td>76.506783</td>\n",
       "      <td>16498.415777</td>\n",
       "      <td>...</td>\n",
       "      <td>91.911151</td>\n",
       "      <td>95.964868</td>\n",
       "      <td>2.184798</td>\n",
       "      <td>62.389059</td>\n",
       "      <td>0.627245</td>\n",
       "      <td>991020</td>\n",
       "      <td>Large Magellanic Cloud (LMC)</td>\n",
       "      <td>0.052115</td>\n",
       "      <td>19820101</td>\n",
       "      <td>1982-01-01</td>\n",
       "    </tr>\n",
       "    <tr>\n",
       "      <td>410</td>\n",
       "      <td>43.391708</td>\n",
       "      <td>157.273915</td>\n",
       "      <td>6.313144</td>\n",
       "      <td>6.248891</td>\n",
       "      <td>72.069987</td>\n",
       "      <td>0.526375</td>\n",
       "      <td>95.022335</td>\n",
       "      <td>50.937661</td>\n",
       "      <td>76.302787</td>\n",
       "      <td>16498.415777</td>\n",
       "      <td>...</td>\n",
       "      <td>93.217778</td>\n",
       "      <td>93.713664</td>\n",
       "      <td>2.114685</td>\n",
       "      <td>68.794245</td>\n",
       "      <td>0.662135</td>\n",
       "      <td>992016</td>\n",
       "      <td>Large Magellanic Cloud (LMC)</td>\n",
       "      <td>0.052006</td>\n",
       "      <td>19840101</td>\n",
       "      <td>1984-01-01</td>\n",
       "    </tr>\n",
       "    <tr>\n",
       "      <td>543</td>\n",
       "      <td>43.391708</td>\n",
       "      <td>148.601923</td>\n",
       "      <td>6.313144</td>\n",
       "      <td>6.248891</td>\n",
       "      <td>70.302580</td>\n",
       "      <td>0.526375</td>\n",
       "      <td>93.217014</td>\n",
       "      <td>48.482717</td>\n",
       "      <td>76.098791</td>\n",
       "      <td>16498.415777</td>\n",
       "      <td>...</td>\n",
       "      <td>94.524405</td>\n",
       "      <td>91.462460</td>\n",
       "      <td>2.044571</td>\n",
       "      <td>62.848660</td>\n",
       "      <td>0.687776</td>\n",
       "      <td>993012</td>\n",
       "      <td>Large Magellanic Cloud (LMC)</td>\n",
       "      <td>0.051675</td>\n",
       "      <td>19860101</td>\n",
       "      <td>1986-01-01</td>\n",
       "    </tr>\n",
       "    <tr>\n",
       "      <td>765</td>\n",
       "      <td>43.391708</td>\n",
       "      <td>139.929931</td>\n",
       "      <td>6.313144</td>\n",
       "      <td>6.248891</td>\n",
       "      <td>68.535174</td>\n",
       "      <td>0.526375</td>\n",
       "      <td>91.411692</td>\n",
       "      <td>46.027772</td>\n",
       "      <td>75.894795</td>\n",
       "      <td>16498.415777</td>\n",
       "      <td>...</td>\n",
       "      <td>95.831032</td>\n",
       "      <td>89.211257</td>\n",
       "      <td>1.974458</td>\n",
       "      <td>67.482431</td>\n",
       "      <td>0.727717</td>\n",
       "      <td>994009</td>\n",
       "      <td>Large Magellanic Cloud (LMC)</td>\n",
       "      <td>0.051334</td>\n",
       "      <td>19880101</td>\n",
       "      <td>1988-01-01</td>\n",
       "    </tr>\n",
       "  </tbody>\n",
       "</table>\n",
       "<p>5 rows × 82 columns</p>\n",
       "</div>"
      ],
      "text/plain": [
       "     Adjusted net savings   \\\n",
       "0                43.391708   \n",
       "194              43.391708   \n",
       "410              43.391708   \n",
       "543              43.391708   \n",
       "765              43.391708   \n",
       "\n",
       "     Adolescent birth rate (births per 1,000 female creatures ages 15-19)  \\\n",
       "0                                           174.617899                      \n",
       "194                                         165.945907                      \n",
       "410                                         157.273915                      \n",
       "543                                         148.601923                      \n",
       "765                                         139.929931                      \n",
       "\n",
       "     Creature Immunodeficiency Disease prevalence, adult (% ages 15-49), total  \\\n",
       "0                                             6.313144                           \n",
       "194                                           6.313144                           \n",
       "410                                           6.313144                           \n",
       "543                                           6.313144                           \n",
       "765                                           6.313144                           \n",
       "\n",
       "     Current health expenditure (% of GGP)  \\\n",
       "0                                 6.248891   \n",
       "194                               6.248891   \n",
       "410                               6.248891   \n",
       "543                               6.248891   \n",
       "765                               6.248891   \n",
       "\n",
       "     Domestic credit provided by financial sector (% of GGP)  Education Index  \\\n",
       "0                                            75.604799               0.526375   \n",
       "194                                          73.837393               0.526375   \n",
       "410                                          72.069987               0.526375   \n",
       "543                                          70.302580               0.526375   \n",
       "765                                          68.535174               0.526375   \n",
       "\n",
       "     Employment in agriculture (% of total employment)  \\\n",
       "0                                            96.827657   \n",
       "194                                          96.827657   \n",
       "410                                          95.022335   \n",
       "543                                          93.217014   \n",
       "765                                          91.411692   \n",
       "\n",
       "     Employment in services (% of total employment)  \\\n",
       "0                                         53.392606   \n",
       "194                                       53.392606   \n",
       "410                                       50.937661   \n",
       "543                                       48.482717   \n",
       "765                                       46.027772   \n",
       "\n",
       "     Employment to population ratio (% ages 15 and older)  \\\n",
       "0                                            76.506783      \n",
       "194                                          76.506783      \n",
       "410                                          76.302787      \n",
       "543                                          76.098791      \n",
       "765                                          75.894795      \n",
       "\n",
       "     Estimated gross galactic income per capita, female  ...  \\\n",
       "0                                         16498.415777   ...   \n",
       "194                                       16498.415777   ...   \n",
       "410                                       16498.415777   ...   \n",
       "543                                       16498.415777   ...   \n",
       "765                                       16498.415777   ...   \n",
       "\n",
       "     Vulnerable employment (% of total employment)  \\\n",
       "0                                        91.911151   \n",
       "194                                      91.911151   \n",
       "410                                      93.217778   \n",
       "543                                      94.524405   \n",
       "765                                      95.831032   \n",
       "\n",
       "     Young age (0-14) dependency ratio (per 100 creatures ages 15-64)  \\\n",
       "0                                            98.216072                  \n",
       "194                                          95.964868                  \n",
       "410                                          93.713664                  \n",
       "543                                          91.462460                  \n",
       "765                                          89.211257                  \n",
       "\n",
       "     Youth unemployment rate (female to male ratio)  \\\n",
       "0                                          2.184798   \n",
       "194                                        2.184798   \n",
       "410                                        2.114685   \n",
       "543                                        2.044571   \n",
       "765                                        1.974458   \n",
       "\n",
       "     existence expectancy at birth  existence expectancy index  galactic year  \\\n",
       "0                        63.125200                    0.628657         990025   \n",
       "194                      62.389059                    0.627245         991020   \n",
       "410                      68.794245                    0.662135         992016   \n",
       "543                      62.848660                    0.687776         993012   \n",
       "765                      67.482431                    0.727717         994009   \n",
       "\n",
       "                           galaxy         y  galactic year 1       date  \n",
       "0    Large Magellanic Cloud (LMC)  0.052590         19800101 1980-01-01  \n",
       "194  Large Magellanic Cloud (LMC)  0.052115         19820101 1982-01-01  \n",
       "410  Large Magellanic Cloud (LMC)  0.052006         19840101 1984-01-01  \n",
       "543  Large Magellanic Cloud (LMC)  0.051675         19860101 1986-01-01  \n",
       "765  Large Magellanic Cloud (LMC)  0.051334         19880101 1988-01-01  \n",
       "\n",
       "[5 rows x 82 columns]"
      ]
     },
     "execution_count": 28,
     "metadata": {},
     "output_type": "execute_result"
    }
   ],
   "source": [
    "#Fitting galactic year to date time format\n",
    "\n",
    "df['galactic year 1'] = df['galactic year'].apply(lambda x:(np.round((x/1000),0))*2)\n",
    "df['galactic year 1'] = df['galactic year 1'].astype('int64')\n",
    "df['galactic year 1'] = df['galactic year 1'].astype('str')\n",
    "df['galactic year 1'] = df['galactic year 1'] + \"0101\"\n",
    "df['date'] = pd.to_datetime(df['galactic year 1'], yearfirst=True\n",
    "                                 , format='%Y/%m/%d'\n",
    "                                )\n",
    "df.head()"
   ]
  },
  {
   "cell_type": "code",
   "execution_count": 54,
   "metadata": {
    "ExecuteTime": {
     "end_time": "2020-06-19T10:33:48.332944Z",
     "start_time": "2020-06-19T10:33:48.147217Z"
    }
   },
   "outputs": [
    {
     "name": "stdout",
     "output_type": "stream",
     "text": [
      "Large Magellanic Cloud (LMC)\n",
      "2.250789737638028e-09\n"
     ]
    },
    {
     "name": "stderr",
     "output_type": "stream",
     "text": [
      "/Users/Tiffany/opt/anaconda3/lib/python3.7/site-packages/statsmodels/tsa/base/tsa_model.py:219: ValueWarning: A date index has been provided, but it has no associated frequency information and so will be ignored when e.g. forecasting.\n",
      "  ' ignored when e.g. forecasting.', ValueWarning)\n",
      "/Users/Tiffany/opt/anaconda3/lib/python3.7/site-packages/statsmodels/tsa/base/tsa_model.py:165: ValueWarning: No frequency information was provided, so inferred frequency 2AS-JAN will be used.\n",
      "  % freq, ValueWarning)\n",
      "/Users/Tiffany/opt/anaconda3/lib/python3.7/site-packages/statsmodels/base/model.py:512: ConvergenceWarning: Maximum Likelihood optimization failed to converge. Check mle_retvals\n",
      "  \"Check mle_retvals\", ConvergenceWarning)\n",
      "/Users/Tiffany/opt/anaconda3/lib/python3.7/site-packages/statsmodels/tsa/base/tsa_model.py:165: ValueWarning: No frequency information was provided, so inferred frequency 2AS-JAN will be used.\n",
      "  % freq, ValueWarning)\n",
      "/Users/Tiffany/opt/anaconda3/lib/python3.7/site-packages/statsmodels/tsa/base/tsa_model.py:165: ValueWarning: No frequency information was provided, so inferred frequency 2AS-JAN will be used.\n",
      "  % freq, ValueWarning)\n",
      "/Users/Tiffany/opt/anaconda3/lib/python3.7/site-packages/statsmodels/base/model.py:512: ConvergenceWarning: Maximum Likelihood optimization failed to converge. Check mle_retvals\n",
      "  \"Check mle_retvals\", ConvergenceWarning)\n"
     ]
    }
   ],
   "source": [
    "#Testing on one galaxy\n",
    "\n",
    "split_1_y = []\n",
    "split_2_y = []\n",
    "split_0_y = []\n",
    "split_1_preds = []\n",
    "split_2_preds = []\n",
    "split_0_preds = []\n",
    "\n",
    "\n",
    "for g in df.galaxy.unique()[:1]:\n",
    "    \n",
    "    print(g)\n",
    "    df_temp = df[df['galaxy']==g].copy()\n",
    "    \n",
    "    df_temp.sort_values(\"galactic year 1\",inplace=True)\n",
    "#             df_temp['galactic year'] = df_temp['galactic year'].apply(lambda x:(np.round((x/1000),0))*2)\n",
    "#             df_temp['galactic year'] = df_temp['galactic year'].astype('int64')\n",
    "#             df_temp['galactic year'] = df_temp['galactic year'].astype('str')\n",
    "#             df_temp['galactic year'] = df_temp['galactic year'] + \"0101\"\n",
    "#             df_temp['date'] = pd.to_datetime(df_temp['galactic year'], yearfirst=True\n",
    "#                                              , format='%Y/%m/%d'\n",
    "#                                             )\n",
    "\n",
    "    df_temp_temp = df_temp[['date','y','galaxy','galactic year 1']]\n",
    "    df_temp_temp_1 = df_temp_temp[['date','y']].copy()\n",
    "    df_temp_temp_1.set_index('date', inplace=True, drop=True)\n",
    "    data = df_temp_temp_1\n",
    "    \n",
    "\n",
    "    ts = TimeSeriesSplit(n_splits=3)\n",
    "    splits = [split for split in ts.split(data)]\n",
    "    test_size = splits[0][1].shape[0]\n",
    "\n",
    "    model = sm.tsa.statespace.SARIMAX(data, order=(1, 0, 0))\n",
    "\n",
    "    y_train = data.iloc[splits[0][0]]\n",
    "    y_test = data.iloc[splits[0][1]]\n",
    "    model_cv = sm.tsa.statespace.SARIMAX(y_train, order=(1, 0, 0))\n",
    "    results_cv = model_cv.fit(maxiter=5000)\n",
    "    pred_test = results_cv.predict(start=0, end=len(y_train)+test_size-1, dynamic=False)[-test_size:]\n",
    "    print(mean_squared_error(y_test, pred_test))\n",
    "    split_0_y.append(y_test.y)\n",
    "    split_0_preds.append(pred_test)\n",
    "\n",
    "\n",
    "    y_train = data.iloc[splits[1][0]]\n",
    "    y_test = data.iloc[splits[1][1]]\n",
    "    model_cv = sm.tsa.statespace.SARIMAX(y_train, order=(1, 0, 0))\n",
    "    results_cv = model_cv.fit(maxiter=5000)\n",
    "    pred_test = results_cv.predict(start=0, end=len(y_train)+test_size-1, dynamic=False)[-test_size:]\n",
    "    split_1_y.append(y_test.y)\n",
    "    split_1_preds.append(pred_test)\n",
    "\n",
    "\n",
    "\n",
    "    y_train = data.iloc[splits[2][0]]\n",
    "    y_test = data.iloc[splits[2][1]]\n",
    "    model_cv = sm.tsa.statespace.SARIMAX(y_train, order=(1, 0, 0))\n",
    "    results_cv = model_cv.fit(maxiter=5000)\n",
    "    pred_test = results_cv.predict(start=0, end=len(y_train)+test_size-1, dynamic=False)[-test_size:]\n",
    "    split_2_y.append(y_test.y)\n",
    "    split_2_preds.append(pred_test)"
   ]
  },
  {
   "cell_type": "code",
   "execution_count": 55,
   "metadata": {
    "ExecuteTime": {
     "end_time": "2020-06-19T10:33:50.175943Z",
     "start_time": "2020-06-19T10:33:50.170388Z"
    }
   },
   "outputs": [
    {
     "data": {
      "text/plain": [
       "1"
      ]
     },
     "execution_count": 55,
     "metadata": {},
     "output_type": "execute_result"
    }
   ],
   "source": [
    "len(split_0_y)"
   ]
  },
  {
   "cell_type": "code",
   "execution_count": 56,
   "metadata": {
    "ExecuteTime": {
     "end_time": "2020-06-19T10:33:52.785467Z",
     "start_time": "2020-06-19T10:33:52.779025Z"
    }
   },
   "outputs": [
    {
     "data": {
      "text/plain": [
       "[1994-01-01    0.050130\n",
       " 1996-01-01    0.049789\n",
       " 1998-01-01    0.049450\n",
       " 2000-01-01    0.049113\n",
       " Freq: 2AS-JAN, dtype: float64]"
      ]
     },
     "execution_count": 56,
     "metadata": {},
     "output_type": "execute_result"
    }
   ],
   "source": [
    "split_0_preds"
   ]
  },
  {
   "cell_type": "code",
   "execution_count": 61,
   "metadata": {
    "ExecuteTime": {
     "end_time": "2020-06-19T10:34:32.508783Z",
     "start_time": "2020-06-19T10:34:32.499870Z"
    }
   },
   "outputs": [
    {
     "name": "stdout",
     "output_type": "stream",
     "text": [
      "3.604368608365351e-05\n"
     ]
    }
   ],
   "source": [
    "mses = []\n",
    "\n",
    "mses.append(mean_squared_error(split_0_y, split_0_preds))\n",
    "mses.append(mean_squared_error(split_1_y, split_1_preds))\n",
    "mses.append(mean_squared_error(split_2_y, split_2_preds))\n",
    "\n",
    "mses\n",
    "print(np.mean(mses))"
   ]
  },
  {
   "cell_type": "code",
   "execution_count": 74,
   "metadata": {
    "ExecuteTime": {
     "end_time": "2020-06-19T10:47:21.491276Z",
     "start_time": "2020-06-19T10:46:48.119846Z"
    }
   },
   "outputs": [
    {
     "name": "stdout",
     "output_type": "stream",
     "text": [
      "Large Magellanic Cloud (LMC)\n",
      "2.250789737638028e-09\n",
      "Camelopardalis B\n"
     ]
    },
    {
     "name": "stderr",
     "output_type": "stream",
     "text": [
      "/Users/Tiffany/opt/anaconda3/lib/python3.7/site-packages/statsmodels/tsa/base/tsa_model.py:219: ValueWarning: A date index has been provided, but it has no associated frequency information and so will be ignored when e.g. forecasting.\n",
      "  ' ignored when e.g. forecasting.', ValueWarning)\n",
      "/Users/Tiffany/opt/anaconda3/lib/python3.7/site-packages/statsmodels/tsa/base/tsa_model.py:165: ValueWarning: No frequency information was provided, so inferred frequency 2AS-JAN will be used.\n",
      "  % freq, ValueWarning)\n",
      "/Users/Tiffany/opt/anaconda3/lib/python3.7/site-packages/statsmodels/base/model.py:512: ConvergenceWarning: Maximum Likelihood optimization failed to converge. Check mle_retvals\n",
      "  \"Check mle_retvals\", ConvergenceWarning)\n",
      "/Users/Tiffany/opt/anaconda3/lib/python3.7/site-packages/statsmodels/tsa/base/tsa_model.py:165: ValueWarning: No frequency information was provided, so inferred frequency 2AS-JAN will be used.\n",
      "  % freq, ValueWarning)\n",
      "/Users/Tiffany/opt/anaconda3/lib/python3.7/site-packages/statsmodels/tsa/base/tsa_model.py:165: ValueWarning: No frequency information was provided, so inferred frequency 2AS-JAN will be used.\n",
      "  % freq, ValueWarning)\n",
      "/Users/Tiffany/opt/anaconda3/lib/python3.7/site-packages/statsmodels/base/model.py:512: ConvergenceWarning: Maximum Likelihood optimization failed to converge. Check mle_retvals\n",
      "  \"Check mle_retvals\", ConvergenceWarning)\n",
      "/Users/Tiffany/opt/anaconda3/lib/python3.7/site-packages/statsmodels/tsa/base/tsa_model.py:219: ValueWarning: A date index has been provided, but it has no associated frequency information and so will be ignored when e.g. forecasting.\n",
      "  ' ignored when e.g. forecasting.', ValueWarning)\n",
      "/Users/Tiffany/opt/anaconda3/lib/python3.7/site-packages/statsmodels/tsa/base/tsa_model.py:165: ValueWarning: No frequency information was provided, so inferred frequency 2AS-JAN will be used.\n",
      "  % freq, ValueWarning)\n"
     ]
    },
    {
     "name": "stdout",
     "output_type": "stream",
     "text": [
      "2.76370201301066e-07\n",
      "Virgo I\n",
      "7.251181850358619e-06\n"
     ]
    },
    {
     "name": "stderr",
     "output_type": "stream",
     "text": [
      "/Users/Tiffany/opt/anaconda3/lib/python3.7/site-packages/statsmodels/tsa/base/tsa_model.py:165: ValueWarning: No frequency information was provided, so inferred frequency 2AS-JAN will be used.\n",
      "  % freq, ValueWarning)\n",
      "/Users/Tiffany/opt/anaconda3/lib/python3.7/site-packages/statsmodels/base/model.py:512: ConvergenceWarning: Maximum Likelihood optimization failed to converge. Check mle_retvals\n",
      "  \"Check mle_retvals\", ConvergenceWarning)\n",
      "/Users/Tiffany/opt/anaconda3/lib/python3.7/site-packages/statsmodels/tsa/base/tsa_model.py:165: ValueWarning: No frequency information was provided, so inferred frequency 2AS-JAN will be used.\n",
      "  % freq, ValueWarning)\n",
      "/Users/Tiffany/opt/anaconda3/lib/python3.7/site-packages/statsmodels/tsa/base/tsa_model.py:219: ValueWarning: A date index has been provided, but it has no associated frequency information and so will be ignored when e.g. forecasting.\n",
      "  ' ignored when e.g. forecasting.', ValueWarning)\n",
      "/Users/Tiffany/opt/anaconda3/lib/python3.7/site-packages/statsmodels/tsa/base/tsa_model.py:165: ValueWarning: No frequency information was provided, so inferred frequency 2AS-JAN will be used.\n",
      "  % freq, ValueWarning)\n",
      "/Users/Tiffany/opt/anaconda3/lib/python3.7/site-packages/statsmodels/tsa/base/tsa_model.py:165: ValueWarning: No frequency information was provided, so inferred frequency 2AS-JAN will be used.\n",
      "  % freq, ValueWarning)\n",
      "/Users/Tiffany/opt/anaconda3/lib/python3.7/site-packages/statsmodels/tsa/base/tsa_model.py:165: ValueWarning: No frequency information was provided, so inferred frequency 2AS-JAN will be used.\n",
      "  % freq, ValueWarning)\n",
      "/Users/Tiffany/opt/anaconda3/lib/python3.7/site-packages/statsmodels/tsa/base/tsa_model.py:219: ValueWarning: A date index has been provided, but it has no associated frequency information and so will be ignored when e.g. forecasting.\n",
      "  ' ignored when e.g. forecasting.', ValueWarning)\n",
      "/Users/Tiffany/opt/anaconda3/lib/python3.7/site-packages/statsmodels/tsa/base/tsa_model.py:165: ValueWarning: No frequency information was provided, so inferred frequency 2AS-JAN will be used.\n",
      "  % freq, ValueWarning)\n",
      "/Users/Tiffany/opt/anaconda3/lib/python3.7/site-packages/statsmodels/tsa/base/tsa_model.py:165: ValueWarning: No frequency information was provided, so inferred frequency 2AS-JAN will be used.\n",
      "  % freq, ValueWarning)\n",
      "/Users/Tiffany/opt/anaconda3/lib/python3.7/site-packages/statsmodels/tsa/base/tsa_model.py:165: ValueWarning: No frequency information was provided, so inferred frequency 2AS-JAN will be used.\n",
      "  % freq, ValueWarning)\n"
     ]
    },
    {
     "name": "stdout",
     "output_type": "stream",
     "text": [
      "UGC 8651 (DDO 181)\n",
      "1.2144073004488743e-06\n",
      "Tucana Dwarf\n"
     ]
    },
    {
     "name": "stderr",
     "output_type": "stream",
     "text": [
      "/Users/Tiffany/opt/anaconda3/lib/python3.7/site-packages/statsmodels/tsa/base/tsa_model.py:165: ValueWarning: No frequency information was provided, so inferred frequency 2AS-JAN will be used.\n",
      "  % freq, ValueWarning)\n",
      "/Users/Tiffany/opt/anaconda3/lib/python3.7/site-packages/statsmodels/tsa/base/tsa_model.py:165: ValueWarning: No frequency information was provided, so inferred frequency 2AS-JAN will be used.\n",
      "  % freq, ValueWarning)\n",
      "/Users/Tiffany/opt/anaconda3/lib/python3.7/site-packages/statsmodels/tsa/statespace/sarimax.py:949: UserWarning: Non-stationary starting autoregressive parameters found. Using zeros as starting parameters.\n",
      "  warn('Non-stationary starting autoregressive parameters'\n",
      "/Users/Tiffany/opt/anaconda3/lib/python3.7/site-packages/statsmodels/tsa/base/tsa_model.py:165: ValueWarning: No frequency information was provided, so inferred frequency 2AS-JAN will be used.\n",
      "  % freq, ValueWarning)\n",
      "/Users/Tiffany/opt/anaconda3/lib/python3.7/site-packages/statsmodels/tsa/statespace/sarimax.py:949: UserWarning: Non-stationary starting autoregressive parameters found. Using zeros as starting parameters.\n",
      "  warn('Non-stationary starting autoregressive parameters'\n",
      "/Users/Tiffany/opt/anaconda3/lib/python3.7/site-packages/statsmodels/tsa/base/tsa_model.py:165: ValueWarning: No frequency information was provided, so inferred frequency 2AS-JAN will be used.\n",
      "  % freq, ValueWarning)\n"
     ]
    },
    {
     "name": "stdout",
     "output_type": "stream",
     "text": [
      "0.00010587741205142255\n",
      "KKh 060\n"
     ]
    },
    {
     "name": "stderr",
     "output_type": "stream",
     "text": [
      "/Users/Tiffany/opt/anaconda3/lib/python3.7/site-packages/statsmodels/tsa/base/tsa_model.py:219: ValueWarning: A date index has been provided, but it has no associated frequency information and so will be ignored when e.g. forecasting.\n",
      "  ' ignored when e.g. forecasting.', ValueWarning)\n",
      "/Users/Tiffany/opt/anaconda3/lib/python3.7/site-packages/statsmodels/tsa/base/tsa_model.py:165: ValueWarning: No frequency information was provided, so inferred frequency 2AS-JAN will be used.\n",
      "  % freq, ValueWarning)\n",
      "/Users/Tiffany/opt/anaconda3/lib/python3.7/site-packages/statsmodels/base/model.py:512: ConvergenceWarning: Maximum Likelihood optimization failed to converge. Check mle_retvals\n",
      "  \"Check mle_retvals\", ConvergenceWarning)\n",
      "/Users/Tiffany/opt/anaconda3/lib/python3.7/site-packages/statsmodels/tsa/base/tsa_model.py:165: ValueWarning: No frequency information was provided, so inferred frequency 2AS-JAN will be used.\n",
      "  % freq, ValueWarning)\n",
      "/Users/Tiffany/opt/anaconda3/lib/python3.7/site-packages/statsmodels/tsa/base/tsa_model.py:165: ValueWarning: No frequency information was provided, so inferred frequency 2AS-JAN will be used.\n",
      "  % freq, ValueWarning)\n",
      "/Users/Tiffany/opt/anaconda3/lib/python3.7/site-packages/statsmodels/tsa/base/tsa_model.py:219: ValueWarning: A date index has been provided, but it has no associated frequency information and so will be ignored when e.g. forecasting.\n",
      "  ' ignored when e.g. forecasting.', ValueWarning)\n",
      "/Users/Tiffany/opt/anaconda3/lib/python3.7/site-packages/statsmodels/tsa/base/tsa_model.py:165: ValueWarning: No frequency information was provided, so inferred frequency 2AS-JAN will be used.\n",
      "  % freq, ValueWarning)\n",
      "/Users/Tiffany/opt/anaconda3/lib/python3.7/site-packages/statsmodels/tsa/base/tsa_model.py:165: ValueWarning: No frequency information was provided, so inferred frequency 2AS-JAN will be used.\n",
      "  % freq, ValueWarning)\n"
     ]
    },
    {
     "name": "stdout",
     "output_type": "stream",
     "text": [
      "1.463241624343185e-06\n",
      "Grus II\n",
      "5.436909490167748e-07\n"
     ]
    },
    {
     "name": "stderr",
     "output_type": "stream",
     "text": [
      "/Users/Tiffany/opt/anaconda3/lib/python3.7/site-packages/statsmodels/tsa/base/tsa_model.py:165: ValueWarning: No frequency information was provided, so inferred frequency 2AS-JAN will be used.\n",
      "  % freq, ValueWarning)\n",
      "/Users/Tiffany/opt/anaconda3/lib/python3.7/site-packages/statsmodels/tsa/base/tsa_model.py:219: ValueWarning: A date index has been provided, but it has no associated frequency information and so will be ignored when e.g. forecasting.\n",
      "  ' ignored when e.g. forecasting.', ValueWarning)\n",
      "/Users/Tiffany/opt/anaconda3/lib/python3.7/site-packages/statsmodels/tsa/base/tsa_model.py:165: ValueWarning: No frequency information was provided, so inferred frequency 2AS-JAN will be used.\n",
      "  % freq, ValueWarning)\n"
     ]
    },
    {
     "name": "stdout",
     "output_type": "stream",
     "text": [
      "UGCA 292\n",
      "2.4792189830587776e-06\n"
     ]
    },
    {
     "name": "stderr",
     "output_type": "stream",
     "text": [
      "/Users/Tiffany/opt/anaconda3/lib/python3.7/site-packages/statsmodels/tsa/base/tsa_model.py:165: ValueWarning: No frequency information was provided, so inferred frequency 2AS-JAN will be used.\n",
      "  % freq, ValueWarning)\n",
      "/Users/Tiffany/opt/anaconda3/lib/python3.7/site-packages/statsmodels/tsa/base/tsa_model.py:165: ValueWarning: No frequency information was provided, so inferred frequency 2AS-JAN will be used.\n",
      "  % freq, ValueWarning)\n",
      "/Users/Tiffany/opt/anaconda3/lib/python3.7/site-packages/statsmodels/tsa/base/tsa_model.py:219: ValueWarning: A date index has been provided, but it has no associated frequency information and so will be ignored when e.g. forecasting.\n",
      "  ' ignored when e.g. forecasting.', ValueWarning)\n",
      "/Users/Tiffany/opt/anaconda3/lib/python3.7/site-packages/statsmodels/tsa/base/tsa_model.py:165: ValueWarning: No frequency information was provided, so inferred frequency 2AS-JAN will be used.\n",
      "  % freq, ValueWarning)\n",
      "/Users/Tiffany/opt/anaconda3/lib/python3.7/site-packages/statsmodels/tsa/base/tsa_model.py:165: ValueWarning: No frequency information was provided, so inferred frequency 2AS-JAN will be used.\n",
      "  % freq, ValueWarning)\n"
     ]
    },
    {
     "name": "stdout",
     "output_type": "stream",
     "text": [
      "Aquarius II\n",
      "1.476439159164068e-06\n",
      "Andromeda XI\n"
     ]
    },
    {
     "name": "stderr",
     "output_type": "stream",
     "text": [
      "/Users/Tiffany/opt/anaconda3/lib/python3.7/site-packages/statsmodels/base/model.py:512: ConvergenceWarning: Maximum Likelihood optimization failed to converge. Check mle_retvals\n",
      "  \"Check mle_retvals\", ConvergenceWarning)\n",
      "/Users/Tiffany/opt/anaconda3/lib/python3.7/site-packages/statsmodels/tsa/base/tsa_model.py:165: ValueWarning: No frequency information was provided, so inferred frequency 2AS-JAN will be used.\n",
      "  % freq, ValueWarning)\n",
      "/Users/Tiffany/opt/anaconda3/lib/python3.7/site-packages/statsmodels/base/model.py:512: ConvergenceWarning: Maximum Likelihood optimization failed to converge. Check mle_retvals\n",
      "  \"Check mle_retvals\", ConvergenceWarning)\n",
      "/Users/Tiffany/opt/anaconda3/lib/python3.7/site-packages/statsmodels/tsa/base/tsa_model.py:219: ValueWarning: A date index has been provided, but it has no associated frequency information and so will be ignored when e.g. forecasting.\n",
      "  ' ignored when e.g. forecasting.', ValueWarning)\n",
      "/Users/Tiffany/opt/anaconda3/lib/python3.7/site-packages/statsmodels/tsa/base/tsa_model.py:165: ValueWarning: No frequency information was provided, so inferred frequency 2AS-JAN will be used.\n",
      "  % freq, ValueWarning)\n",
      "/Users/Tiffany/opt/anaconda3/lib/python3.7/site-packages/statsmodels/base/model.py:512: ConvergenceWarning: Maximum Likelihood optimization failed to converge. Check mle_retvals\n",
      "  \"Check mle_retvals\", ConvergenceWarning)\n",
      "/Users/Tiffany/opt/anaconda3/lib/python3.7/site-packages/statsmodels/tsa/base/tsa_model.py:165: ValueWarning: No frequency information was provided, so inferred frequency 2AS-JAN will be used.\n",
      "  % freq, ValueWarning)\n",
      "/Users/Tiffany/opt/anaconda3/lib/python3.7/site-packages/statsmodels/tsa/base/tsa_model.py:165: ValueWarning: No frequency information was provided, so inferred frequency 2AS-JAN will be used.\n",
      "  % freq, ValueWarning)\n"
     ]
    },
    {
     "name": "stdout",
     "output_type": "stream",
     "text": [
      "3.9872273807579753e-07\n",
      "Antlia Dwarf\n",
      "5.424144737830843e-07\n"
     ]
    },
    {
     "name": "stderr",
     "output_type": "stream",
     "text": [
      "/Users/Tiffany/opt/anaconda3/lib/python3.7/site-packages/statsmodels/tsa/base/tsa_model.py:165: ValueWarning: No frequency information was provided, so inferred frequency 2AS-JAN will be used.\n",
      "  % freq, ValueWarning)\n",
      "/Users/Tiffany/opt/anaconda3/lib/python3.7/site-packages/statsmodels/tsa/base/tsa_model.py:165: ValueWarning: No frequency information was provided, so inferred frequency 2AS-JAN will be used.\n",
      "  % freq, ValueWarning)\n",
      "/Users/Tiffany/opt/anaconda3/lib/python3.7/site-packages/statsmodels/tsa/base/tsa_model.py:165: ValueWarning: No frequency information was provided, so inferred frequency 2AS-JAN will be used.\n",
      "  % freq, ValueWarning)\n",
      "/Users/Tiffany/opt/anaconda3/lib/python3.7/site-packages/statsmodels/tsa/base/tsa_model.py:165: ValueWarning: No frequency information was provided, so inferred frequency 2AS-JAN will be used.\n",
      "  % freq, ValueWarning)\n",
      "/Users/Tiffany/opt/anaconda3/lib/python3.7/site-packages/statsmodels/base/model.py:512: ConvergenceWarning: Maximum Likelihood optimization failed to converge. Check mle_retvals\n",
      "  \"Check mle_retvals\", ConvergenceWarning)\n",
      "/Users/Tiffany/opt/anaconda3/lib/python3.7/site-packages/statsmodels/tsa/base/tsa_model.py:165: ValueWarning: No frequency information was provided, so inferred frequency 2AS-JAN will be used.\n",
      "  % freq, ValueWarning)\n",
      "/Users/Tiffany/opt/anaconda3/lib/python3.7/site-packages/statsmodels/tsa/base/tsa_model.py:165: ValueWarning: No frequency information was provided, so inferred frequency 2AS-JAN will be used.\n",
      "  % freq, ValueWarning)\n",
      "/Users/Tiffany/opt/anaconda3/lib/python3.7/site-packages/statsmodels/tsa/base/tsa_model.py:165: ValueWarning: No frequency information was provided, so inferred frequency 2AS-JAN will be used.\n",
      "  % freq, ValueWarning)\n"
     ]
    },
    {
     "name": "stdout",
     "output_type": "stream",
     "text": [
      "IC 1613 (UGC 668)\n",
      "4.424792564362406e-06\n",
      "Leo P\n"
     ]
    },
    {
     "name": "stderr",
     "output_type": "stream",
     "text": [
      "/Users/Tiffany/opt/anaconda3/lib/python3.7/site-packages/statsmodels/base/model.py:512: ConvergenceWarning: Maximum Likelihood optimization failed to converge. Check mle_retvals\n",
      "  \"Check mle_retvals\", ConvergenceWarning)\n",
      "/Users/Tiffany/opt/anaconda3/lib/python3.7/site-packages/statsmodels/tsa/base/tsa_model.py:165: ValueWarning: No frequency information was provided, so inferred frequency 2AS-JAN will be used.\n",
      "  % freq, ValueWarning)\n",
      "/Users/Tiffany/opt/anaconda3/lib/python3.7/site-packages/statsmodels/tsa/base/tsa_model.py:219: ValueWarning: A date index has been provided, but it has no associated frequency information and so will be ignored when e.g. forecasting.\n",
      "  ' ignored when e.g. forecasting.', ValueWarning)\n",
      "/Users/Tiffany/opt/anaconda3/lib/python3.7/site-packages/statsmodels/tsa/base/tsa_model.py:165: ValueWarning: No frequency information was provided, so inferred frequency 2AS-JAN will be used.\n",
      "  % freq, ValueWarning)\n",
      "/Users/Tiffany/opt/anaconda3/lib/python3.7/site-packages/statsmodels/tsa/statespace/sarimax.py:949: UserWarning: Non-stationary starting autoregressive parameters found. Using zeros as starting parameters.\n",
      "  warn('Non-stationary starting autoregressive parameters'\n",
      "/Users/Tiffany/opt/anaconda3/lib/python3.7/site-packages/statsmodels/tsa/base/tsa_model.py:165: ValueWarning: No frequency information was provided, so inferred frequency 2AS-JAN will be used.\n",
      "  % freq, ValueWarning)\n",
      "/Users/Tiffany/opt/anaconda3/lib/python3.7/site-packages/statsmodels/tsa/statespace/sarimax.py:949: UserWarning: Non-stationary starting autoregressive parameters found. Using zeros as starting parameters.\n",
      "  warn('Non-stationary starting autoregressive parameters'\n",
      "/Users/Tiffany/opt/anaconda3/lib/python3.7/site-packages/statsmodels/tsa/base/tsa_model.py:165: ValueWarning: No frequency information was provided, so inferred frequency 2AS-JAN will be used.\n",
      "  % freq, ValueWarning)\n"
     ]
    },
    {
     "name": "stdout",
     "output_type": "stream",
     "text": [
      "1.7113090222062077e-05\n",
      "Cassiopeia Dwarf (Cas dSph, Andromeda VII)\n"
     ]
    },
    {
     "name": "stderr",
     "output_type": "stream",
     "text": [
      "/Users/Tiffany/opt/anaconda3/lib/python3.7/site-packages/statsmodels/tsa/base/tsa_model.py:219: ValueWarning: A date index has been provided, but it has no associated frequency information and so will be ignored when e.g. forecasting.\n",
      "  ' ignored when e.g. forecasting.', ValueWarning)\n",
      "/Users/Tiffany/opt/anaconda3/lib/python3.7/site-packages/statsmodels/tsa/base/tsa_model.py:165: ValueWarning: No frequency information was provided, so inferred frequency 2AS-JAN will be used.\n",
      "  % freq, ValueWarning)\n",
      "/Users/Tiffany/opt/anaconda3/lib/python3.7/site-packages/statsmodels/base/model.py:512: ConvergenceWarning: Maximum Likelihood optimization failed to converge. Check mle_retvals\n",
      "  \"Check mle_retvals\", ConvergenceWarning)\n",
      "/Users/Tiffany/opt/anaconda3/lib/python3.7/site-packages/statsmodels/tsa/base/tsa_model.py:165: ValueWarning: No frequency information was provided, so inferred frequency 2AS-JAN will be used.\n",
      "  % freq, ValueWarning)\n",
      "/Users/Tiffany/opt/anaconda3/lib/python3.7/site-packages/statsmodels/tsa/statespace/sarimax.py:949: UserWarning: Non-stationary starting autoregressive parameters found. Using zeros as starting parameters.\n",
      "  warn('Non-stationary starting autoregressive parameters'\n",
      "/Users/Tiffany/opt/anaconda3/lib/python3.7/site-packages/statsmodels/tsa/base/tsa_model.py:165: ValueWarning: No frequency information was provided, so inferred frequency 2AS-JAN will be used.\n",
      "  % freq, ValueWarning)\n"
     ]
    },
    {
     "name": "stdout",
     "output_type": "stream",
     "text": [
      "0.00010373763700865878\n",
      "Draco II\n",
      "8.365542066253177e-07\n"
     ]
    },
    {
     "name": "stderr",
     "output_type": "stream",
     "text": [
      "/Users/Tiffany/opt/anaconda3/lib/python3.7/site-packages/statsmodels/tsa/base/tsa_model.py:219: ValueWarning: A date index has been provided, but it has no associated frequency information and so will be ignored when e.g. forecasting.\n",
      "  ' ignored when e.g. forecasting.', ValueWarning)\n",
      "/Users/Tiffany/opt/anaconda3/lib/python3.7/site-packages/statsmodels/tsa/base/tsa_model.py:165: ValueWarning: No frequency information was provided, so inferred frequency 2AS-JAN will be used.\n",
      "  % freq, ValueWarning)\n",
      "/Users/Tiffany/opt/anaconda3/lib/python3.7/site-packages/statsmodels/tsa/base/tsa_model.py:165: ValueWarning: No frequency information was provided, so inferred frequency 2AS-JAN will be used.\n",
      "  % freq, ValueWarning)\n",
      "/Users/Tiffany/opt/anaconda3/lib/python3.7/site-packages/statsmodels/tsa/base/tsa_model.py:165: ValueWarning: No frequency information was provided, so inferred frequency 2AS-JAN will be used.\n",
      "  % freq, ValueWarning)\n",
      "/Users/Tiffany/opt/anaconda3/lib/python3.7/site-packages/statsmodels/tsa/base/tsa_model.py:219: ValueWarning: A date index has been provided, but it has no associated frequency information and so will be ignored when e.g. forecasting.\n",
      "  ' ignored when e.g. forecasting.', ValueWarning)\n",
      "/Users/Tiffany/opt/anaconda3/lib/python3.7/site-packages/statsmodels/tsa/base/tsa_model.py:165: ValueWarning: No frequency information was provided, so inferred frequency 2AS-JAN will be used.\n",
      "  % freq, ValueWarning)\n",
      "/Users/Tiffany/opt/anaconda3/lib/python3.7/site-packages/statsmodels/tsa/base/tsa_model.py:165: ValueWarning: No frequency information was provided, so inferred frequency 2AS-JAN will be used.\n",
      "  % freq, ValueWarning)\n"
     ]
    },
    {
     "name": "stdout",
     "output_type": "stream",
     "text": [
      "Sagittarius II\n",
      "1.4790514861064906e-06\n",
      "Carina III\n"
     ]
    },
    {
     "name": "stderr",
     "output_type": "stream",
     "text": [
      "/Users/Tiffany/opt/anaconda3/lib/python3.7/site-packages/statsmodels/tsa/base/tsa_model.py:165: ValueWarning: No frequency information was provided, so inferred frequency 2AS-JAN will be used.\n",
      "  % freq, ValueWarning)\n",
      "/Users/Tiffany/opt/anaconda3/lib/python3.7/site-packages/statsmodels/tsa/base/tsa_model.py:219: ValueWarning: A date index has been provided, but it has no associated frequency information and so will be ignored when e.g. forecasting.\n",
      "  ' ignored when e.g. forecasting.', ValueWarning)\n",
      "/Users/Tiffany/opt/anaconda3/lib/python3.7/site-packages/statsmodels/tsa/base/tsa_model.py:165: ValueWarning: No frequency information was provided, so inferred frequency 2AS-JAN will be used.\n",
      "  % freq, ValueWarning)\n",
      "/Users/Tiffany/opt/anaconda3/lib/python3.7/site-packages/statsmodels/tsa/base/tsa_model.py:165: ValueWarning: No frequency information was provided, so inferred frequency 2AS-JAN will be used.\n",
      "  % freq, ValueWarning)\n",
      "/Users/Tiffany/opt/anaconda3/lib/python3.7/site-packages/statsmodels/tsa/base/tsa_model.py:165: ValueWarning: No frequency information was provided, so inferred frequency 2AS-JAN will be used.\n",
      "  % freq, ValueWarning)\n"
     ]
    },
    {
     "name": "stdout",
     "output_type": "stream",
     "text": [
      "1.8330137828954948e-06\n",
      "UGCA 133 (DDO 44)\n",
      "9.344472024133077e-08\n"
     ]
    },
    {
     "name": "stderr",
     "output_type": "stream",
     "text": [
      "/Users/Tiffany/opt/anaconda3/lib/python3.7/site-packages/statsmodels/tsa/base/tsa_model.py:219: ValueWarning: A date index has been provided, but it has no associated frequency information and so will be ignored when e.g. forecasting.\n",
      "  ' ignored when e.g. forecasting.', ValueWarning)\n",
      "/Users/Tiffany/opt/anaconda3/lib/python3.7/site-packages/statsmodels/tsa/base/tsa_model.py:165: ValueWarning: No frequency information was provided, so inferred frequency 2AS-JAN will be used.\n",
      "  % freq, ValueWarning)\n",
      "/Users/Tiffany/opt/anaconda3/lib/python3.7/site-packages/statsmodels/tsa/base/tsa_model.py:165: ValueWarning: No frequency information was provided, so inferred frequency 2AS-JAN will be used.\n",
      "  % freq, ValueWarning)\n",
      "/Users/Tiffany/opt/anaconda3/lib/python3.7/site-packages/statsmodels/tsa/base/tsa_model.py:165: ValueWarning: No frequency information was provided, so inferred frequency 2AS-JAN will be used.\n",
      "  % freq, ValueWarning)\n",
      "/Users/Tiffany/opt/anaconda3/lib/python3.7/site-packages/statsmodels/tsa/base/tsa_model.py:219: ValueWarning: A date index has been provided, but it has no associated frequency information and so will be ignored when e.g. forecasting.\n",
      "  ' ignored when e.g. forecasting.', ValueWarning)\n",
      "/Users/Tiffany/opt/anaconda3/lib/python3.7/site-packages/statsmodels/tsa/base/tsa_model.py:165: ValueWarning: No frequency information was provided, so inferred frequency 2AS-JAN will be used.\n",
      "  % freq, ValueWarning)\n",
      "/Users/Tiffany/opt/anaconda3/lib/python3.7/site-packages/statsmodels/tsa/base/tsa_model.py:165: ValueWarning: No frequency information was provided, so inferred frequency 2AS-JAN will be used.\n",
      "  % freq, ValueWarning)\n"
     ]
    },
    {
     "name": "stdout",
     "output_type": "stream",
     "text": [
      "Lacerta I (Andromeda XXXI)\n",
      "4.0755161288468445e-07\n",
      "Boötes IV\n",
      "1.5532553266237398e-06\n"
     ]
    },
    {
     "name": "stderr",
     "output_type": "stream",
     "text": [
      "/Users/Tiffany/opt/anaconda3/lib/python3.7/site-packages/statsmodels/tsa/base/tsa_model.py:165: ValueWarning: No frequency information was provided, so inferred frequency 2AS-JAN will be used.\n",
      "  % freq, ValueWarning)\n",
      "/Users/Tiffany/opt/anaconda3/lib/python3.7/site-packages/statsmodels/tsa/base/tsa_model.py:165: ValueWarning: No frequency information was provided, so inferred frequency 2AS-JAN will be used.\n",
      "  % freq, ValueWarning)\n",
      "/Users/Tiffany/opt/anaconda3/lib/python3.7/site-packages/statsmodels/tsa/base/tsa_model.py:165: ValueWarning: No frequency information was provided, so inferred frequency 2AS-JAN will be used.\n",
      "  % freq, ValueWarning)\n",
      "/Users/Tiffany/opt/anaconda3/lib/python3.7/site-packages/statsmodels/tsa/base/tsa_model.py:165: ValueWarning: No frequency information was provided, so inferred frequency 2AS-JAN will be used.\n",
      "  % freq, ValueWarning)\n",
      "/Users/Tiffany/opt/anaconda3/lib/python3.7/site-packages/statsmodels/tsa/base/tsa_model.py:165: ValueWarning: No frequency information was provided, so inferred frequency 2AS-JAN will be used.\n",
      "  % freq, ValueWarning)\n",
      "/Users/Tiffany/opt/anaconda3/lib/python3.7/site-packages/statsmodels/tsa/base/tsa_model.py:219: ValueWarning: A date index has been provided, but it has no associated frequency information and so will be ignored when e.g. forecasting.\n",
      "  ' ignored when e.g. forecasting.', ValueWarning)\n",
      "/Users/Tiffany/opt/anaconda3/lib/python3.7/site-packages/statsmodels/tsa/base/tsa_model.py:165: ValueWarning: No frequency information was provided, so inferred frequency 2AS-JAN will be used.\n",
      "  % freq, ValueWarning)\n"
     ]
    },
    {
     "name": "stdout",
     "output_type": "stream",
     "text": [
      "Maffei 2\n",
      "1.2903494131638284e-06\n",
      "KUG 1210+301B (KK98 127)\n",
      "1.532067501127221e-07\n"
     ]
    },
    {
     "name": "stderr",
     "output_type": "stream",
     "text": [
      "/Users/Tiffany/opt/anaconda3/lib/python3.7/site-packages/statsmodels/tsa/base/tsa_model.py:165: ValueWarning: No frequency information was provided, so inferred frequency 2AS-JAN will be used.\n",
      "  % freq, ValueWarning)\n",
      "/Users/Tiffany/opt/anaconda3/lib/python3.7/site-packages/statsmodels/tsa/base/tsa_model.py:165: ValueWarning: No frequency information was provided, so inferred frequency 2AS-JAN will be used.\n",
      "  % freq, ValueWarning)\n",
      "/Users/Tiffany/opt/anaconda3/lib/python3.7/site-packages/statsmodels/tsa/base/tsa_model.py:165: ValueWarning: No frequency information was provided, so inferred frequency 2AS-JAN will be used.\n",
      "  % freq, ValueWarning)\n",
      "/Users/Tiffany/opt/anaconda3/lib/python3.7/site-packages/statsmodels/tsa/base/tsa_model.py:165: ValueWarning: No frequency information was provided, so inferred frequency 2AS-JAN will be used.\n",
      "  % freq, ValueWarning)\n",
      "/Users/Tiffany/opt/anaconda3/lib/python3.7/site-packages/statsmodels/tsa/base/tsa_model.py:165: ValueWarning: No frequency information was provided, so inferred frequency 2AS-JAN will be used.\n",
      "  % freq, ValueWarning)\n",
      "/Users/Tiffany/opt/anaconda3/lib/python3.7/site-packages/statsmodels/tsa/base/tsa_model.py:165: ValueWarning: No frequency information was provided, so inferred frequency 2AS-JAN will be used.\n",
      "  % freq, ValueWarning)\n"
     ]
    },
    {
     "name": "stdout",
     "output_type": "stream",
     "text": [
      "Andromeda V\n",
      "2.0920659703536497e-06\n"
     ]
    },
    {
     "name": "stderr",
     "output_type": "stream",
     "text": [
      "/Users/Tiffany/opt/anaconda3/lib/python3.7/site-packages/statsmodels/tsa/base/tsa_model.py:219: ValueWarning: A date index has been provided, but it has no associated frequency information and so will be ignored when e.g. forecasting.\n",
      "  ' ignored when e.g. forecasting.', ValueWarning)\n",
      "/Users/Tiffany/opt/anaconda3/lib/python3.7/site-packages/statsmodels/tsa/base/tsa_model.py:165: ValueWarning: No frequency information was provided, so inferred frequency 2AS-JAN will be used.\n",
      "  % freq, ValueWarning)\n",
      "/Users/Tiffany/opt/anaconda3/lib/python3.7/site-packages/statsmodels/tsa/statespace/sarimax.py:949: UserWarning: Non-stationary starting autoregressive parameters found. Using zeros as starting parameters.\n",
      "  warn('Non-stationary starting autoregressive parameters'\n",
      "/Users/Tiffany/opt/anaconda3/lib/python3.7/site-packages/statsmodels/tsa/base/tsa_model.py:165: ValueWarning: No frequency information was provided, so inferred frequency 2AS-JAN will be used.\n",
      "  % freq, ValueWarning)\n",
      "/Users/Tiffany/opt/anaconda3/lib/python3.7/site-packages/statsmodels/tsa/statespace/sarimax.py:949: UserWarning: Non-stationary starting autoregressive parameters found. Using zeros as starting parameters.\n",
      "  warn('Non-stationary starting autoregressive parameters'\n",
      "/Users/Tiffany/opt/anaconda3/lib/python3.7/site-packages/statsmodels/tsa/base/tsa_model.py:165: ValueWarning: No frequency information was provided, so inferred frequency 2AS-JAN will be used.\n",
      "  % freq, ValueWarning)\n"
     ]
    },
    {
     "name": "stdout",
     "output_type": "stream",
     "text": [
      "Sagittarius Dwarf Sphr SagDEG\n",
      "1.8447984396202837e-07\n",
      "UGCA 276 (DDO 113)\n"
     ]
    },
    {
     "name": "stderr",
     "output_type": "stream",
     "text": [
      "/Users/Tiffany/opt/anaconda3/lib/python3.7/site-packages/statsmodels/tsa/base/tsa_model.py:219: ValueWarning: A date index has been provided, but it has no associated frequency information and so will be ignored when e.g. forecasting.\n",
      "  ' ignored when e.g. forecasting.', ValueWarning)\n",
      "/Users/Tiffany/opt/anaconda3/lib/python3.7/site-packages/statsmodels/tsa/base/tsa_model.py:165: ValueWarning: No frequency information was provided, so inferred frequency 2AS-JAN will be used.\n",
      "  % freq, ValueWarning)\n",
      "/Users/Tiffany/opt/anaconda3/lib/python3.7/site-packages/statsmodels/tsa/base/tsa_model.py:165: ValueWarning: No frequency information was provided, so inferred frequency 2AS-JAN will be used.\n",
      "  % freq, ValueWarning)\n",
      "/Users/Tiffany/opt/anaconda3/lib/python3.7/site-packages/statsmodels/tsa/base/tsa_model.py:165: ValueWarning: No frequency information was provided, so inferred frequency 2AS-JAN will be used.\n",
      "  % freq, ValueWarning)\n",
      "/Users/Tiffany/opt/anaconda3/lib/python3.7/site-packages/statsmodels/tsa/base/tsa_model.py:219: ValueWarning: A date index has been provided, but it has no associated frequency information and so will be ignored when e.g. forecasting.\n",
      "  ' ignored when e.g. forecasting.', ValueWarning)\n",
      "/Users/Tiffany/opt/anaconda3/lib/python3.7/site-packages/statsmodels/tsa/base/tsa_model.py:165: ValueWarning: No frequency information was provided, so inferred frequency 2AS-JAN will be used.\n",
      "  % freq, ValueWarning)\n",
      "/Users/Tiffany/opt/anaconda3/lib/python3.7/site-packages/statsmodels/tsa/base/tsa_model.py:165: ValueWarning: No frequency information was provided, so inferred frequency 2AS-JAN will be used.\n",
      "  % freq, ValueWarning)\n",
      "/Users/Tiffany/opt/anaconda3/lib/python3.7/site-packages/statsmodels/tsa/base/tsa_model.py:165: ValueWarning: No frequency information was provided, so inferred frequency 2AS-JAN will be used.\n",
      "  % freq, ValueWarning)\n",
      "/Users/Tiffany/opt/anaconda3/lib/python3.7/site-packages/statsmodels/tsa/base/tsa_model.py:219: ValueWarning: A date index has been provided, but it has no associated frequency information and so will be ignored when e.g. forecasting.\n",
      "  ' ignored when e.g. forecasting.', ValueWarning)\n"
     ]
    },
    {
     "name": "stdout",
     "output_type": "stream",
     "text": [
      "1.0432218786602505e-06\n",
      "Ursa Minor Dwarf\n",
      "1.6281182710241392e-06\n",
      "UGC 9128 (DDO 187)\n"
     ]
    },
    {
     "name": "stderr",
     "output_type": "stream",
     "text": [
      "/Users/Tiffany/opt/anaconda3/lib/python3.7/site-packages/statsmodels/tsa/base/tsa_model.py:165: ValueWarning: No frequency information was provided, so inferred frequency 2AS-JAN will be used.\n",
      "  % freq, ValueWarning)\n",
      "/Users/Tiffany/opt/anaconda3/lib/python3.7/site-packages/statsmodels/base/model.py:512: ConvergenceWarning: Maximum Likelihood optimization failed to converge. Check mle_retvals\n",
      "  \"Check mle_retvals\", ConvergenceWarning)\n",
      "/Users/Tiffany/opt/anaconda3/lib/python3.7/site-packages/statsmodels/tsa/base/tsa_model.py:165: ValueWarning: No frequency information was provided, so inferred frequency 2AS-JAN will be used.\n",
      "  % freq, ValueWarning)\n",
      "/Users/Tiffany/opt/anaconda3/lib/python3.7/site-packages/statsmodels/tsa/base/tsa_model.py:165: ValueWarning: No frequency information was provided, so inferred frequency 2AS-JAN will be used.\n",
      "  % freq, ValueWarning)\n",
      "/Users/Tiffany/opt/anaconda3/lib/python3.7/site-packages/statsmodels/tsa/base/tsa_model.py:165: ValueWarning: No frequency information was provided, so inferred frequency 2AS-JAN will be used.\n",
      "  % freq, ValueWarning)\n",
      "/Users/Tiffany/opt/anaconda3/lib/python3.7/site-packages/statsmodels/tsa/base/tsa_model.py:165: ValueWarning: No frequency information was provided, so inferred frequency 2AS-JAN will be used.\n",
      "  % freq, ValueWarning)\n",
      "/Users/Tiffany/opt/anaconda3/lib/python3.7/site-packages/statsmodels/tsa/base/tsa_model.py:165: ValueWarning: No frequency information was provided, so inferred frequency 2AS-JAN will be used.\n",
      "  % freq, ValueWarning)\n"
     ]
    },
    {
     "name": "stdout",
     "output_type": "stream",
     "text": [
      "3.501080829949266e-07\n",
      "Andromeda XX\n",
      "7.081347707363018e-07\n"
     ]
    },
    {
     "name": "stderr",
     "output_type": "stream",
     "text": [
      "/Users/Tiffany/opt/anaconda3/lib/python3.7/site-packages/statsmodels/tsa/base/tsa_model.py:165: ValueWarning: No frequency information was provided, so inferred frequency 2AS-JAN will be used.\n",
      "  % freq, ValueWarning)\n",
      "/Users/Tiffany/opt/anaconda3/lib/python3.7/site-packages/statsmodels/tsa/base/tsa_model.py:165: ValueWarning: No frequency information was provided, so inferred frequency 2AS-JAN will be used.\n",
      "  % freq, ValueWarning)\n",
      "/Users/Tiffany/opt/anaconda3/lib/python3.7/site-packages/statsmodels/tsa/base/tsa_model.py:165: ValueWarning: No frequency information was provided, so inferred frequency 2AS-JAN will be used.\n",
      "  % freq, ValueWarning)\n",
      "/Users/Tiffany/opt/anaconda3/lib/python3.7/site-packages/statsmodels/tsa/base/tsa_model.py:165: ValueWarning: No frequency information was provided, so inferred frequency 2AS-JAN will be used.\n",
      "  % freq, ValueWarning)\n",
      "/Users/Tiffany/opt/anaconda3/lib/python3.7/site-packages/statsmodels/tsa/base/tsa_model.py:165: ValueWarning: No frequency information was provided, so inferred frequency 2AS-JAN will be used.\n",
      "  % freq, ValueWarning)\n",
      "/Users/Tiffany/opt/anaconda3/lib/python3.7/site-packages/statsmodels/tsa/base/tsa_model.py:219: ValueWarning: A date index has been provided, but it has no associated frequency information and so will be ignored when e.g. forecasting.\n",
      "  ' ignored when e.g. forecasting.', ValueWarning)\n",
      "/Users/Tiffany/opt/anaconda3/lib/python3.7/site-packages/statsmodels/tsa/base/tsa_model.py:165: ValueWarning: No frequency information was provided, so inferred frequency 2AS-JAN will be used.\n",
      "  % freq, ValueWarning)\n"
     ]
    },
    {
     "name": "stdout",
     "output_type": "stream",
     "text": [
      "Segue 2\n",
      "5.0511538835570065e-08\n",
      "Fornax Dwarf (E356-G04)\n",
      "1.044428708213659e-05\n"
     ]
    },
    {
     "name": "stderr",
     "output_type": "stream",
     "text": [
      "/Users/Tiffany/opt/anaconda3/lib/python3.7/site-packages/statsmodels/tsa/base/tsa_model.py:165: ValueWarning: No frequency information was provided, so inferred frequency 2AS-JAN will be used.\n",
      "  % freq, ValueWarning)\n",
      "/Users/Tiffany/opt/anaconda3/lib/python3.7/site-packages/statsmodels/tsa/base/tsa_model.py:165: ValueWarning: No frequency information was provided, so inferred frequency 2AS-JAN will be used.\n",
      "  % freq, ValueWarning)\n",
      "/Users/Tiffany/opt/anaconda3/lib/python3.7/site-packages/statsmodels/tsa/base/tsa_model.py:219: ValueWarning: A date index has been provided, but it has no associated frequency information and so will be ignored when e.g. forecasting.\n",
      "  ' ignored when e.g. forecasting.', ValueWarning)\n",
      "/Users/Tiffany/opt/anaconda3/lib/python3.7/site-packages/statsmodels/tsa/base/tsa_model.py:165: ValueWarning: No frequency information was provided, so inferred frequency 2AS-JAN will be used.\n",
      "  % freq, ValueWarning)\n",
      "/Users/Tiffany/opt/anaconda3/lib/python3.7/site-packages/statsmodels/tsa/statespace/sarimax.py:949: UserWarning: Non-stationary starting autoregressive parameters found. Using zeros as starting parameters.\n",
      "  warn('Non-stationary starting autoregressive parameters'\n",
      "/Users/Tiffany/opt/anaconda3/lib/python3.7/site-packages/statsmodels/base/model.py:512: ConvergenceWarning: Maximum Likelihood optimization failed to converge. Check mle_retvals\n",
      "  \"Check mle_retvals\", ConvergenceWarning)\n",
      "/Users/Tiffany/opt/anaconda3/lib/python3.7/site-packages/statsmodels/tsa/base/tsa_model.py:165: ValueWarning: No frequency information was provided, so inferred frequency 2AS-JAN will be used.\n",
      "  % freq, ValueWarning)\n",
      "/Users/Tiffany/opt/anaconda3/lib/python3.7/site-packages/statsmodels/tsa/statespace/sarimax.py:949: UserWarning: Non-stationary starting autoregressive parameters found. Using zeros as starting parameters.\n",
      "  warn('Non-stationary starting autoregressive parameters'\n",
      "/Users/Tiffany/opt/anaconda3/lib/python3.7/site-packages/statsmodels/tsa/base/tsa_model.py:165: ValueWarning: No frequency information was provided, so inferred frequency 2AS-JAN will be used.\n",
      "  % freq, ValueWarning)\n",
      "/Users/Tiffany/opt/anaconda3/lib/python3.7/site-packages/statsmodels/tsa/base/tsa_model.py:219: ValueWarning: A date index has been provided, but it has no associated frequency information and so will be ignored when e.g. forecasting.\n",
      "  ' ignored when e.g. forecasting.', ValueWarning)\n",
      "/Users/Tiffany/opt/anaconda3/lib/python3.7/site-packages/statsmodels/tsa/base/tsa_model.py:165: ValueWarning: No frequency information was provided, so inferred frequency 2AS-JAN will be used.\n",
      "  % freq, ValueWarning)\n",
      "/Users/Tiffany/opt/anaconda3/lib/python3.7/site-packages/statsmodels/tsa/base/tsa_model.py:165: ValueWarning: No frequency information was provided, so inferred frequency 2AS-JAN will be used.\n",
      "  % freq, ValueWarning)\n",
      "/Users/Tiffany/opt/anaconda3/lib/python3.7/site-packages/statsmodels/base/model.py:512: ConvergenceWarning: Maximum Likelihood optimization failed to converge. Check mle_retvals\n",
      "  \"Check mle_retvals\", ConvergenceWarning)\n",
      "/Users/Tiffany/opt/anaconda3/lib/python3.7/site-packages/statsmodels/tsa/base/tsa_model.py:165: ValueWarning: No frequency information was provided, so inferred frequency 2AS-JAN will be used.\n",
      "  % freq, ValueWarning)\n",
      "/Users/Tiffany/opt/anaconda3/lib/python3.7/site-packages/statsmodels/base/model.py:512: ConvergenceWarning: Maximum Likelihood optimization failed to converge. Check mle_retvals\n",
      "  \"Check mle_retvals\", ConvergenceWarning)\n"
     ]
    },
    {
     "name": "stdout",
     "output_type": "stream",
     "text": [
      "Columba I\n",
      "2.588559067633753e-07\n",
      "KK98 77\n",
      "8.866341748866023e-07\n"
     ]
    },
    {
     "name": "stderr",
     "output_type": "stream",
     "text": [
      "/Users/Tiffany/opt/anaconda3/lib/python3.7/site-packages/statsmodels/tsa/base/tsa_model.py:219: ValueWarning: A date index has been provided, but it has no associated frequency information and so will be ignored when e.g. forecasting.\n",
      "  ' ignored when e.g. forecasting.', ValueWarning)\n",
      "/Users/Tiffany/opt/anaconda3/lib/python3.7/site-packages/statsmodels/tsa/base/tsa_model.py:165: ValueWarning: No frequency information was provided, so inferred frequency 2AS-JAN will be used.\n",
      "  % freq, ValueWarning)\n",
      "/Users/Tiffany/opt/anaconda3/lib/python3.7/site-packages/statsmodels/tsa/base/tsa_model.py:165: ValueWarning: No frequency information was provided, so inferred frequency 2AS-JAN will be used.\n",
      "  % freq, ValueWarning)\n",
      "/Users/Tiffany/opt/anaconda3/lib/python3.7/site-packages/statsmodels/tsa/base/tsa_model.py:165: ValueWarning: No frequency information was provided, so inferred frequency 2AS-JAN will be used.\n",
      "  % freq, ValueWarning)\n",
      "/Users/Tiffany/opt/anaconda3/lib/python3.7/site-packages/statsmodels/tsa/base/tsa_model.py:219: ValueWarning: A date index has been provided, but it has no associated frequency information and so will be ignored when e.g. forecasting.\n",
      "  ' ignored when e.g. forecasting.', ValueWarning)\n",
      "/Users/Tiffany/opt/anaconda3/lib/python3.7/site-packages/statsmodels/tsa/base/tsa_model.py:165: ValueWarning: No frequency information was provided, so inferred frequency 2AS-JAN will be used.\n",
      "  % freq, ValueWarning)\n",
      "/Users/Tiffany/opt/anaconda3/lib/python3.7/site-packages/statsmodels/tsa/base/tsa_model.py:165: ValueWarning: No frequency information was provided, so inferred frequency 2AS-JAN will be used.\n",
      "  % freq, ValueWarning)\n"
     ]
    },
    {
     "name": "stdout",
     "output_type": "stream",
     "text": [
      "Holmberg II (DDO 50, UGC 4305)\n",
      "3.9481630037762334e-07\n",
      "ESO 540-030 (KDG 2)\n",
      "2.0427554945232854e-07\n"
     ]
    },
    {
     "name": "stderr",
     "output_type": "stream",
     "text": [
      "/Users/Tiffany/opt/anaconda3/lib/python3.7/site-packages/statsmodels/tsa/base/tsa_model.py:165: ValueWarning: No frequency information was provided, so inferred frequency 2AS-JAN will be used.\n",
      "  % freq, ValueWarning)\n",
      "/Users/Tiffany/opt/anaconda3/lib/python3.7/site-packages/statsmodels/tsa/base/tsa_model.py:219: ValueWarning: A date index has been provided, but it has no associated frequency information and so will be ignored when e.g. forecasting.\n",
      "  ' ignored when e.g. forecasting.', ValueWarning)\n",
      "/Users/Tiffany/opt/anaconda3/lib/python3.7/site-packages/statsmodels/tsa/base/tsa_model.py:165: ValueWarning: No frequency information was provided, so inferred frequency 2AS-JAN will be used.\n",
      "  % freq, ValueWarning)\n",
      "/Users/Tiffany/opt/anaconda3/lib/python3.7/site-packages/statsmodels/tsa/base/tsa_model.py:165: ValueWarning: No frequency information was provided, so inferred frequency 2AS-JAN will be used.\n",
      "  % freq, ValueWarning)\n",
      "/Users/Tiffany/opt/anaconda3/lib/python3.7/site-packages/statsmodels/tsa/base/tsa_model.py:165: ValueWarning: No frequency information was provided, so inferred frequency 2AS-JAN will be used.\n",
      "  % freq, ValueWarning)\n",
      "/Users/Tiffany/opt/anaconda3/lib/python3.7/site-packages/statsmodels/tsa/base/tsa_model.py:219: ValueWarning: A date index has been provided, but it has no associated frequency information and so will be ignored when e.g. forecasting.\n",
      "  ' ignored when e.g. forecasting.', ValueWarning)\n",
      "/Users/Tiffany/opt/anaconda3/lib/python3.7/site-packages/statsmodels/tsa/base/tsa_model.py:165: ValueWarning: No frequency information was provided, so inferred frequency 2AS-JAN will be used.\n",
      "  % freq, ValueWarning)\n"
     ]
    },
    {
     "name": "stdout",
     "output_type": "stream",
     "text": [
      "NGC 404\n",
      "3.94596996640568e-07\n",
      "UGC 8833\n",
      "2.1731834201088314e-08\n"
     ]
    },
    {
     "name": "stderr",
     "output_type": "stream",
     "text": [
      "/Users/Tiffany/opt/anaconda3/lib/python3.7/site-packages/statsmodels/tsa/base/tsa_model.py:165: ValueWarning: No frequency information was provided, so inferred frequency 2AS-JAN will be used.\n",
      "  % freq, ValueWarning)\n",
      "/Users/Tiffany/opt/anaconda3/lib/python3.7/site-packages/statsmodels/tsa/base/tsa_model.py:165: ValueWarning: No frequency information was provided, so inferred frequency 2AS-JAN will be used.\n",
      "  % freq, ValueWarning)\n",
      "/Users/Tiffany/opt/anaconda3/lib/python3.7/site-packages/statsmodels/tsa/base/tsa_model.py:219: ValueWarning: A date index has been provided, but it has no associated frequency information and so will be ignored when e.g. forecasting.\n",
      "  ' ignored when e.g. forecasting.', ValueWarning)\n",
      "/Users/Tiffany/opt/anaconda3/lib/python3.7/site-packages/statsmodels/tsa/base/tsa_model.py:165: ValueWarning: No frequency information was provided, so inferred frequency 2AS-JAN will be used.\n",
      "  % freq, ValueWarning)\n",
      "/Users/Tiffany/opt/anaconda3/lib/python3.7/site-packages/statsmodels/tsa/base/tsa_model.py:165: ValueWarning: No frequency information was provided, so inferred frequency 2AS-JAN will be used.\n",
      "  % freq, ValueWarning)\n",
      "/Users/Tiffany/opt/anaconda3/lib/python3.7/site-packages/statsmodels/tsa/base/tsa_model.py:165: ValueWarning: No frequency information was provided, so inferred frequency 2AS-JAN will be used.\n",
      "  % freq, ValueWarning)\n"
     ]
    },
    {
     "name": "stdout",
     "output_type": "stream",
     "text": [
      "Perseus I (Andromeda XXXIII)\n",
      "5.33224217542557e-07\n",
      "Horologium II\n",
      "1.5689022822314413e-06\n"
     ]
    },
    {
     "name": "stderr",
     "output_type": "stream",
     "text": [
      "/Users/Tiffany/opt/anaconda3/lib/python3.7/site-packages/statsmodels/tsa/base/tsa_model.py:219: ValueWarning: A date index has been provided, but it has no associated frequency information and so will be ignored when e.g. forecasting.\n",
      "  ' ignored when e.g. forecasting.', ValueWarning)\n",
      "/Users/Tiffany/opt/anaconda3/lib/python3.7/site-packages/statsmodels/tsa/base/tsa_model.py:165: ValueWarning: No frequency information was provided, so inferred frequency 2AS-JAN will be used.\n",
      "  % freq, ValueWarning)\n",
      "/Users/Tiffany/opt/anaconda3/lib/python3.7/site-packages/statsmodels/tsa/base/tsa_model.py:165: ValueWarning: No frequency information was provided, so inferred frequency 2AS-JAN will be used.\n",
      "  % freq, ValueWarning)\n",
      "/Users/Tiffany/opt/anaconda3/lib/python3.7/site-packages/statsmodels/tsa/base/tsa_model.py:165: ValueWarning: No frequency information was provided, so inferred frequency 2AS-JAN will be used.\n",
      "  % freq, ValueWarning)\n",
      "/Users/Tiffany/opt/anaconda3/lib/python3.7/site-packages/statsmodels/tsa/base/tsa_model.py:219: ValueWarning: A date index has been provided, but it has no associated frequency information and so will be ignored when e.g. forecasting.\n",
      "  ' ignored when e.g. forecasting.', ValueWarning)\n",
      "/Users/Tiffany/opt/anaconda3/lib/python3.7/site-packages/statsmodels/tsa/base/tsa_model.py:165: ValueWarning: No frequency information was provided, so inferred frequency 2AS-JAN will be used.\n",
      "  % freq, ValueWarning)\n",
      "/Users/Tiffany/opt/anaconda3/lib/python3.7/site-packages/statsmodels/tsa/base/tsa_model.py:165: ValueWarning: No frequency information was provided, so inferred frequency 2AS-JAN will be used.\n",
      "  % freq, ValueWarning)\n",
      "/Users/Tiffany/opt/anaconda3/lib/python3.7/site-packages/statsmodels/tsa/base/tsa_model.py:165: ValueWarning: No frequency information was provided, so inferred frequency 2AS-JAN will be used.\n",
      "  % freq, ValueWarning)\n",
      "/Users/Tiffany/opt/anaconda3/lib/python3.7/site-packages/statsmodels/tsa/base/tsa_model.py:219: ValueWarning: A date index has been provided, but it has no associated frequency information and so will be ignored when e.g. forecasting.\n",
      "  ' ignored when e.g. forecasting.', ValueWarning)\n",
      "/Users/Tiffany/opt/anaconda3/lib/python3.7/site-packages/statsmodels/tsa/base/tsa_model.py:165: ValueWarning: No frequency information was provided, so inferred frequency 2AS-JAN will be used.\n",
      "  % freq, ValueWarning)\n",
      "/Users/Tiffany/opt/anaconda3/lib/python3.7/site-packages/statsmodels/base/model.py:512: ConvergenceWarning: Maximum Likelihood optimization failed to converge. Check mle_retvals\n",
      "  \"Check mle_retvals\", ConvergenceWarning)\n",
      "/Users/Tiffany/opt/anaconda3/lib/python3.7/site-packages/statsmodels/tsa/base/tsa_model.py:165: ValueWarning: No frequency information was provided, so inferred frequency 2AS-JAN will be used.\n",
      "  % freq, ValueWarning)\n",
      "/Users/Tiffany/opt/anaconda3/lib/python3.7/site-packages/statsmodels/tsa/base/tsa_model.py:165: ValueWarning: No frequency information was provided, so inferred frequency 2AS-JAN will be used.\n",
      "  % freq, ValueWarning)\n",
      "/Users/Tiffany/opt/anaconda3/lib/python3.7/site-packages/statsmodels/tsa/base/tsa_model.py:219: ValueWarning: A date index has been provided, but it has no associated frequency information and so will be ignored when e.g. forecasting.\n",
      "  ' ignored when e.g. forecasting.', ValueWarning)\n"
     ]
    },
    {
     "name": "stdout",
     "output_type": "stream",
     "text": [
      "Andromeda XXVI\n",
      "1.4965462813310505e-08\n",
      "Grus I\n"
     ]
    },
    {
     "name": "stderr",
     "output_type": "stream",
     "text": [
      "/Users/Tiffany/opt/anaconda3/lib/python3.7/site-packages/statsmodels/tsa/base/tsa_model.py:165: ValueWarning: No frequency information was provided, so inferred frequency 2AS-JAN will be used.\n",
      "  % freq, ValueWarning)\n",
      "/Users/Tiffany/opt/anaconda3/lib/python3.7/site-packages/statsmodels/tsa/base/tsa_model.py:165: ValueWarning: No frequency information was provided, so inferred frequency 2AS-JAN will be used.\n",
      "  % freq, ValueWarning)\n",
      "/Users/Tiffany/opt/anaconda3/lib/python3.7/site-packages/statsmodels/tsa/base/tsa_model.py:165: ValueWarning: No frequency information was provided, so inferred frequency 2AS-JAN will be used.\n",
      "  % freq, ValueWarning)\n",
      "/Users/Tiffany/opt/anaconda3/lib/python3.7/site-packages/statsmodels/tsa/base/tsa_model.py:219: ValueWarning: A date index has been provided, but it has no associated frequency information and so will be ignored when e.g. forecasting.\n",
      "  ' ignored when e.g. forecasting.', ValueWarning)\n",
      "/Users/Tiffany/opt/anaconda3/lib/python3.7/site-packages/statsmodels/tsa/base/tsa_model.py:165: ValueWarning: No frequency information was provided, so inferred frequency 2AS-JAN will be used.\n",
      "  % freq, ValueWarning)\n",
      "/Users/Tiffany/opt/anaconda3/lib/python3.7/site-packages/statsmodels/tsa/statespace/sarimax.py:949: UserWarning: Non-stationary starting autoregressive parameters found. Using zeros as starting parameters.\n",
      "  warn('Non-stationary starting autoregressive parameters'\n"
     ]
    },
    {
     "name": "stdout",
     "output_type": "stream",
     "text": [
      "4.582532745825667e-07\n",
      "Andromeda IX\n",
      "1.2179770569580437e-05\n"
     ]
    },
    {
     "name": "stderr",
     "output_type": "stream",
     "text": [
      "/Users/Tiffany/opt/anaconda3/lib/python3.7/site-packages/statsmodels/tsa/base/tsa_model.py:165: ValueWarning: No frequency information was provided, so inferred frequency 2AS-JAN will be used.\n",
      "  % freq, ValueWarning)\n",
      "/Users/Tiffany/opt/anaconda3/lib/python3.7/site-packages/statsmodels/tsa/statespace/sarimax.py:949: UserWarning: Non-stationary starting autoregressive parameters found. Using zeros as starting parameters.\n",
      "  warn('Non-stationary starting autoregressive parameters'\n",
      "/Users/Tiffany/opt/anaconda3/lib/python3.7/site-packages/statsmodels/base/model.py:512: ConvergenceWarning: Maximum Likelihood optimization failed to converge. Check mle_retvals\n",
      "  \"Check mle_retvals\", ConvergenceWarning)\n",
      "/Users/Tiffany/opt/anaconda3/lib/python3.7/site-packages/statsmodels/tsa/base/tsa_model.py:165: ValueWarning: No frequency information was provided, so inferred frequency 2AS-JAN will be used.\n",
      "  % freq, ValueWarning)\n",
      "/Users/Tiffany/opt/anaconda3/lib/python3.7/site-packages/statsmodels/tsa/base/tsa_model.py:165: ValueWarning: No frequency information was provided, so inferred frequency 2AS-JAN will be used.\n",
      "  % freq, ValueWarning)\n",
      "/Users/Tiffany/opt/anaconda3/lib/python3.7/site-packages/statsmodels/tsa/base/tsa_model.py:165: ValueWarning: No frequency information was provided, so inferred frequency 2AS-JAN will be used.\n",
      "  % freq, ValueWarning)\n"
     ]
    },
    {
     "name": "stdout",
     "output_type": "stream",
     "text": [
      "Andromeda XXII[57]\n",
      "5.586632521106753e-08\n",
      "ESO 274-01[70]\n"
     ]
    },
    {
     "name": "stderr",
     "output_type": "stream",
     "text": [
      "/Users/Tiffany/opt/anaconda3/lib/python3.7/site-packages/statsmodels/tsa/base/tsa_model.py:165: ValueWarning: No frequency information was provided, so inferred frequency 2AS-JAN will be used.\n",
      "  % freq, ValueWarning)\n",
      "/Users/Tiffany/opt/anaconda3/lib/python3.7/site-packages/statsmodels/tsa/base/tsa_model.py:165: ValueWarning: No frequency information was provided, so inferred frequency 2AS-JAN will be used.\n",
      "  % freq, ValueWarning)\n",
      "/Users/Tiffany/opt/anaconda3/lib/python3.7/site-packages/statsmodels/base/model.py:512: ConvergenceWarning: Maximum Likelihood optimization failed to converge. Check mle_retvals\n",
      "  \"Check mle_retvals\", ConvergenceWarning)\n",
      "/Users/Tiffany/opt/anaconda3/lib/python3.7/site-packages/statsmodels/tsa/base/tsa_model.py:219: ValueWarning: A date index has been provided, but it has no associated frequency information and so will be ignored when e.g. forecasting.\n",
      "  ' ignored when e.g. forecasting.', ValueWarning)\n",
      "/Users/Tiffany/opt/anaconda3/lib/python3.7/site-packages/statsmodels/tsa/base/tsa_model.py:165: ValueWarning: No frequency information was provided, so inferred frequency 2AS-JAN will be used.\n",
      "  % freq, ValueWarning)\n",
      "/Users/Tiffany/opt/anaconda3/lib/python3.7/site-packages/statsmodels/tsa/base/tsa_model.py:165: ValueWarning: No frequency information was provided, so inferred frequency 2AS-JAN will be used.\n",
      "  % freq, ValueWarning)\n"
     ]
    },
    {
     "name": "stdout",
     "output_type": "stream",
     "text": [
      "1.7085708654331594e-07\n",
      "Leo II Dwarf (Leo B, DDO 93)\n",
      "1.646992371324953e-07\n"
     ]
    },
    {
     "name": "stderr",
     "output_type": "stream",
     "text": [
      "/Users/Tiffany/opt/anaconda3/lib/python3.7/site-packages/statsmodels/tsa/base/tsa_model.py:165: ValueWarning: No frequency information was provided, so inferred frequency 2AS-JAN will be used.\n",
      "  % freq, ValueWarning)\n",
      "/Users/Tiffany/opt/anaconda3/lib/python3.7/site-packages/statsmodels/tsa/base/tsa_model.py:219: ValueWarning: A date index has been provided, but it has no associated frequency information and so will be ignored when e.g. forecasting.\n",
      "  ' ignored when e.g. forecasting.', ValueWarning)\n",
      "/Users/Tiffany/opt/anaconda3/lib/python3.7/site-packages/statsmodels/tsa/base/tsa_model.py:165: ValueWarning: No frequency information was provided, so inferred frequency 2AS-JAN will be used.\n",
      "  % freq, ValueWarning)\n",
      "/Users/Tiffany/opt/anaconda3/lib/python3.7/site-packages/statsmodels/base/model.py:512: ConvergenceWarning: Maximum Likelihood optimization failed to converge. Check mle_retvals\n",
      "  \"Check mle_retvals\", ConvergenceWarning)\n",
      "/Users/Tiffany/opt/anaconda3/lib/python3.7/site-packages/statsmodels/tsa/base/tsa_model.py:165: ValueWarning: No frequency information was provided, so inferred frequency 2AS-JAN will be used.\n",
      "  % freq, ValueWarning)\n",
      "/Users/Tiffany/opt/anaconda3/lib/python3.7/site-packages/statsmodels/tsa/base/tsa_model.py:165: ValueWarning: No frequency information was provided, so inferred frequency 2AS-JAN will be used.\n",
      "  % freq, ValueWarning)\n"
     ]
    },
    {
     "name": "stdout",
     "output_type": "stream",
     "text": [
      "Reticulum II\n",
      "8.460713561214026e-06\n"
     ]
    },
    {
     "name": "stderr",
     "output_type": "stream",
     "text": [
      "/Users/Tiffany/opt/anaconda3/lib/python3.7/site-packages/statsmodels/tsa/base/tsa_model.py:219: ValueWarning: A date index has been provided, but it has no associated frequency information and so will be ignored when e.g. forecasting.\n",
      "  ' ignored when e.g. forecasting.', ValueWarning)\n",
      "/Users/Tiffany/opt/anaconda3/lib/python3.7/site-packages/statsmodels/tsa/base/tsa_model.py:165: ValueWarning: No frequency information was provided, so inferred frequency 2AS-JAN will be used.\n",
      "  % freq, ValueWarning)\n",
      "/Users/Tiffany/opt/anaconda3/lib/python3.7/site-packages/statsmodels/tsa/base/tsa_model.py:165: ValueWarning: No frequency information was provided, so inferred frequency 2AS-JAN will be used.\n",
      "  % freq, ValueWarning)\n",
      "/Users/Tiffany/opt/anaconda3/lib/python3.7/site-packages/statsmodels/tsa/statespace/sarimax.py:949: UserWarning: Non-stationary starting autoregressive parameters found. Using zeros as starting parameters.\n",
      "  warn('Non-stationary starting autoregressive parameters'\n",
      "/Users/Tiffany/opt/anaconda3/lib/python3.7/site-packages/statsmodels/tsa/base/tsa_model.py:165: ValueWarning: No frequency information was provided, so inferred frequency 2AS-JAN will be used.\n",
      "  % freq, ValueWarning)\n"
     ]
    },
    {
     "name": "stdout",
     "output_type": "stream",
     "text": [
      "Andromeda II\n",
      "4.16255410355689e-05\n",
      "Indus II\n"
     ]
    },
    {
     "name": "stderr",
     "output_type": "stream",
     "text": [
      "/Users/Tiffany/opt/anaconda3/lib/python3.7/site-packages/statsmodels/tsa/base/tsa_model.py:165: ValueWarning: No frequency information was provided, so inferred frequency 2AS-JAN will be used.\n",
      "  % freq, ValueWarning)\n",
      "/Users/Tiffany/opt/anaconda3/lib/python3.7/site-packages/statsmodels/tsa/base/tsa_model.py:165: ValueWarning: No frequency information was provided, so inferred frequency 2AS-JAN will be used.\n",
      "  % freq, ValueWarning)\n",
      "/Users/Tiffany/opt/anaconda3/lib/python3.7/site-packages/statsmodels/tsa/base/tsa_model.py:165: ValueWarning: No frequency information was provided, so inferred frequency 2AS-JAN will be used.\n",
      "  % freq, ValueWarning)\n",
      "/Users/Tiffany/opt/anaconda3/lib/python3.7/site-packages/statsmodels/tsa/statespace/sarimax.py:949: UserWarning: Non-stationary starting autoregressive parameters found. Using zeros as starting parameters.\n",
      "  warn('Non-stationary starting autoregressive parameters'\n",
      "/Users/Tiffany/opt/anaconda3/lib/python3.7/site-packages/statsmodels/tsa/base/tsa_model.py:165: ValueWarning: No frequency information was provided, so inferred frequency 2AS-JAN will be used.\n",
      "  % freq, ValueWarning)\n",
      "/Users/Tiffany/opt/anaconda3/lib/python3.7/site-packages/statsmodels/tsa/base/tsa_model.py:219: ValueWarning: A date index has been provided, but it has no associated frequency information and so will be ignored when e.g. forecasting.\n",
      "  ' ignored when e.g. forecasting.', ValueWarning)\n",
      "/Users/Tiffany/opt/anaconda3/lib/python3.7/site-packages/statsmodels/tsa/base/tsa_model.py:165: ValueWarning: No frequency information was provided, so inferred frequency 2AS-JAN will be used.\n",
      "  % freq, ValueWarning)\n"
     ]
    },
    {
     "name": "stdout",
     "output_type": "stream",
     "text": [
      "9.657651358367074e-07\n",
      "MB 1 (KK98 21)\n"
     ]
    },
    {
     "name": "stderr",
     "output_type": "stream",
     "text": [
      "/Users/Tiffany/opt/anaconda3/lib/python3.7/site-packages/statsmodels/tsa/base/tsa_model.py:165: ValueWarning: No frequency information was provided, so inferred frequency 2AS-JAN will be used.\n",
      "  % freq, ValueWarning)\n",
      "/Users/Tiffany/opt/anaconda3/lib/python3.7/site-packages/statsmodels/tsa/statespace/sarimax.py:949: UserWarning: Non-stationary starting autoregressive parameters found. Using zeros as starting parameters.\n",
      "  warn('Non-stationary starting autoregressive parameters'\n",
      "/Users/Tiffany/opt/anaconda3/lib/python3.7/site-packages/statsmodels/tsa/base/tsa_model.py:165: ValueWarning: No frequency information was provided, so inferred frequency 2AS-JAN will be used.\n",
      "  % freq, ValueWarning)\n",
      "/Users/Tiffany/opt/anaconda3/lib/python3.7/site-packages/statsmodels/tsa/base/tsa_model.py:219: ValueWarning: A date index has been provided, but it has no associated frequency information and so will be ignored when e.g. forecasting.\n",
      "  ' ignored when e.g. forecasting.', ValueWarning)\n",
      "/Users/Tiffany/opt/anaconda3/lib/python3.7/site-packages/statsmodels/tsa/base/tsa_model.py:165: ValueWarning: No frequency information was provided, so inferred frequency 2AS-JAN will be used.\n",
      "  % freq, ValueWarning)\n"
     ]
    },
    {
     "name": "stdout",
     "output_type": "stream",
     "text": [
      "2.5113326461437627e-06\n",
      "UGCA 105\n",
      "2.3880948232357988e-09\n"
     ]
    },
    {
     "name": "stderr",
     "output_type": "stream",
     "text": [
      "/Users/Tiffany/opt/anaconda3/lib/python3.7/site-packages/statsmodels/tsa/base/tsa_model.py:165: ValueWarning: No frequency information was provided, so inferred frequency 2AS-JAN will be used.\n",
      "  % freq, ValueWarning)\n",
      "/Users/Tiffany/opt/anaconda3/lib/python3.7/site-packages/statsmodels/tsa/statespace/sarimax.py:949: UserWarning: Non-stationary starting autoregressive parameters found. Using zeros as starting parameters.\n",
      "  warn('Non-stationary starting autoregressive parameters'\n",
      "/Users/Tiffany/opt/anaconda3/lib/python3.7/site-packages/statsmodels/tsa/base/tsa_model.py:165: ValueWarning: No frequency information was provided, so inferred frequency 2AS-JAN will be used.\n",
      "  % freq, ValueWarning)\n",
      "/Users/Tiffany/opt/anaconda3/lib/python3.7/site-packages/statsmodels/tsa/base/tsa_model.py:219: ValueWarning: A date index has been provided, but it has no associated frequency information and so will be ignored when e.g. forecasting.\n",
      "  ' ignored when e.g. forecasting.', ValueWarning)\n",
      "/Users/Tiffany/opt/anaconda3/lib/python3.7/site-packages/statsmodels/tsa/base/tsa_model.py:165: ValueWarning: No frequency information was provided, so inferred frequency 2AS-JAN will be used.\n",
      "  % freq, ValueWarning)\n",
      "/Users/Tiffany/opt/anaconda3/lib/python3.7/site-packages/statsmodels/tsa/base/tsa_model.py:165: ValueWarning: No frequency information was provided, so inferred frequency 2AS-JAN will be used.\n",
      "  % freq, ValueWarning)\n",
      "/Users/Tiffany/opt/anaconda3/lib/python3.7/site-packages/statsmodels/base/model.py:512: ConvergenceWarning: Maximum Likelihood optimization failed to converge. Check mle_retvals\n",
      "  \"Check mle_retvals\", ConvergenceWarning)\n",
      "/Users/Tiffany/opt/anaconda3/lib/python3.7/site-packages/statsmodels/tsa/base/tsa_model.py:165: ValueWarning: No frequency information was provided, so inferred frequency 2AS-JAN will be used.\n",
      "  % freq, ValueWarning)\n",
      "/Users/Tiffany/opt/anaconda3/lib/python3.7/site-packages/statsmodels/tsa/base/tsa_model.py:219: ValueWarning: A date index has been provided, but it has no associated frequency information and so will be ignored when e.g. forecasting.\n",
      "  ' ignored when e.g. forecasting.', ValueWarning)\n",
      "/Users/Tiffany/opt/anaconda3/lib/python3.7/site-packages/statsmodels/tsa/base/tsa_model.py:165: ValueWarning: No frequency information was provided, so inferred frequency 2AS-JAN will be used.\n",
      "  % freq, ValueWarning)\n",
      "/Users/Tiffany/opt/anaconda3/lib/python3.7/site-packages/statsmodels/base/model.py:512: ConvergenceWarning: Maximum Likelihood optimization failed to converge. Check mle_retvals\n",
      "  \"Check mle_retvals\", ConvergenceWarning)\n",
      "/Users/Tiffany/opt/anaconda3/lib/python3.7/site-packages/statsmodels/tsa/base/tsa_model.py:165: ValueWarning: No frequency information was provided, so inferred frequency 2AS-JAN will be used.\n",
      "  % freq, ValueWarning)\n",
      "/Users/Tiffany/opt/anaconda3/lib/python3.7/site-packages/statsmodels/tsa/base/tsa_model.py:165: ValueWarning: No frequency information was provided, so inferred frequency 2AS-JAN will be used.\n",
      "  % freq, ValueWarning)\n"
     ]
    },
    {
     "name": "stdout",
     "output_type": "stream",
     "text": [
      "Crater II\n",
      "8.511536351978697e-07\n",
      "Andromeda XVIII[60]\n"
     ]
    },
    {
     "name": "stderr",
     "output_type": "stream",
     "text": [
      "/Users/Tiffany/opt/anaconda3/lib/python3.7/site-packages/statsmodels/tsa/base/tsa_model.py:165: ValueWarning: No frequency information was provided, so inferred frequency 2AS-JAN will be used.\n",
      "  % freq, ValueWarning)\n",
      "/Users/Tiffany/opt/anaconda3/lib/python3.7/site-packages/statsmodels/tsa/base/tsa_model.py:165: ValueWarning: No frequency information was provided, so inferred frequency 2AS-JAN will be used.\n",
      "  % freq, ValueWarning)\n",
      "/Users/Tiffany/opt/anaconda3/lib/python3.7/site-packages/statsmodels/base/model.py:512: ConvergenceWarning: Maximum Likelihood optimization failed to converge. Check mle_retvals\n",
      "  \"Check mle_retvals\", ConvergenceWarning)\n",
      "/Users/Tiffany/opt/anaconda3/lib/python3.7/site-packages/statsmodels/tsa/base/tsa_model.py:165: ValueWarning: No frequency information was provided, so inferred frequency 2AS-JAN will be used.\n",
      "  % freq, ValueWarning)\n",
      "/Users/Tiffany/opt/anaconda3/lib/python3.7/site-packages/statsmodels/tsa/base/tsa_model.py:165: ValueWarning: No frequency information was provided, so inferred frequency 2AS-JAN will be used.\n",
      "  % freq, ValueWarning)\n",
      "/Users/Tiffany/opt/anaconda3/lib/python3.7/site-packages/statsmodels/tsa/base/tsa_model.py:219: ValueWarning: A date index has been provided, but it has no associated frequency information and so will be ignored when e.g. forecasting.\n",
      "  ' ignored when e.g. forecasting.', ValueWarning)\n",
      "/Users/Tiffany/opt/anaconda3/lib/python3.7/site-packages/statsmodels/tsa/base/tsa_model.py:165: ValueWarning: No frequency information was provided, so inferred frequency 2AS-JAN will be used.\n",
      "  % freq, ValueWarning)\n",
      "/Users/Tiffany/opt/anaconda3/lib/python3.7/site-packages/statsmodels/tsa/statespace/sarimax.py:949: UserWarning: Non-stationary starting autoregressive parameters found. Using zeros as starting parameters.\n",
      "  warn('Non-stationary starting autoregressive parameters'\n"
     ]
    },
    {
     "name": "stdout",
     "output_type": "stream",
     "text": [
      "2.7570120171471584e-07\n",
      "KKH 11 (ZOAG G135.74-04.53)\n",
      "6.716300461608428e-08\n"
     ]
    },
    {
     "name": "stderr",
     "output_type": "stream",
     "text": [
      "/Users/Tiffany/opt/anaconda3/lib/python3.7/site-packages/statsmodels/tsa/base/tsa_model.py:165: ValueWarning: No frequency information was provided, so inferred frequency 2AS-JAN will be used.\n",
      "  % freq, ValueWarning)\n",
      "/Users/Tiffany/opt/anaconda3/lib/python3.7/site-packages/statsmodels/tsa/statespace/sarimax.py:949: UserWarning: Non-stationary starting autoregressive parameters found. Using zeros as starting parameters.\n",
      "  warn('Non-stationary starting autoregressive parameters'\n",
      "/Users/Tiffany/opt/anaconda3/lib/python3.7/site-packages/statsmodels/tsa/base/tsa_model.py:165: ValueWarning: No frequency information was provided, so inferred frequency 2AS-JAN will be used.\n",
      "  % freq, ValueWarning)\n",
      "/Users/Tiffany/opt/anaconda3/lib/python3.7/site-packages/statsmodels/tsa/base/tsa_model.py:165: ValueWarning: No frequency information was provided, so inferred frequency 2AS-JAN will be used.\n",
      "  % freq, ValueWarning)\n",
      "/Users/Tiffany/opt/anaconda3/lib/python3.7/site-packages/statsmodels/tsa/base/tsa_model.py:165: ValueWarning: No frequency information was provided, so inferred frequency 2AS-JAN will be used.\n",
      "  % freq, ValueWarning)\n",
      "/Users/Tiffany/opt/anaconda3/lib/python3.7/site-packages/statsmodels/tsa/base/tsa_model.py:165: ValueWarning: No frequency information was provided, so inferred frequency 2AS-JAN will be used.\n",
      "  % freq, ValueWarning)\n",
      "/Users/Tiffany/opt/anaconda3/lib/python3.7/site-packages/statsmodels/tsa/statespace/sarimax.py:949: UserWarning: Non-stationary starting autoregressive parameters found. Using zeros as starting parameters.\n",
      "  warn('Non-stationary starting autoregressive parameters'\n"
     ]
    },
    {
     "name": "stdout",
     "output_type": "stream",
     "text": [
      "Phoenix Dwarf Galaxy (P 6830)\n",
      "1.1479139073900741e-05\n"
     ]
    },
    {
     "name": "stderr",
     "output_type": "stream",
     "text": [
      "/Users/Tiffany/opt/anaconda3/lib/python3.7/site-packages/statsmodels/tsa/base/tsa_model.py:165: ValueWarning: No frequency information was provided, so inferred frequency 2AS-JAN will be used.\n",
      "  % freq, ValueWarning)\n",
      "/Users/Tiffany/opt/anaconda3/lib/python3.7/site-packages/statsmodels/tsa/base/tsa_model.py:219: ValueWarning: A date index has been provided, but it has no associated frequency information and so will be ignored when e.g. forecasting.\n",
      "  ' ignored when e.g. forecasting.', ValueWarning)\n",
      "/Users/Tiffany/opt/anaconda3/lib/python3.7/site-packages/statsmodels/tsa/base/tsa_model.py:165: ValueWarning: No frequency information was provided, so inferred frequency 2AS-JAN will be used.\n",
      "  % freq, ValueWarning)\n",
      "/Users/Tiffany/opt/anaconda3/lib/python3.7/site-packages/statsmodels/tsa/base/tsa_model.py:165: ValueWarning: No frequency information was provided, so inferred frequency 2AS-JAN will be used.\n",
      "  % freq, ValueWarning)\n",
      "/Users/Tiffany/opt/anaconda3/lib/python3.7/site-packages/statsmodels/base/model.py:512: ConvergenceWarning: Maximum Likelihood optimization failed to converge. Check mle_retvals\n",
      "  \"Check mle_retvals\", ConvergenceWarning)\n",
      "/Users/Tiffany/opt/anaconda3/lib/python3.7/site-packages/statsmodels/tsa/base/tsa_model.py:165: ValueWarning: No frequency information was provided, so inferred frequency 2AS-JAN will be used.\n",
      "  % freq, ValueWarning)\n",
      "/Users/Tiffany/opt/anaconda3/lib/python3.7/site-packages/statsmodels/tsa/statespace/sarimax.py:949: UserWarning: Non-stationary starting autoregressive parameters found. Using zeros as starting parameters.\n",
      "  warn('Non-stationary starting autoregressive parameters'\n"
     ]
    },
    {
     "name": "stdout",
     "output_type": "stream",
     "text": [
      "ESO 321-014[70]\n",
      "5.081281626452351e-09\n",
      "ESO 325-11\n",
      "3.3008160525290863e-07\n",
      "Andromeda XVII\n",
      "1.8278919418396203e-07\n"
     ]
    },
    {
     "name": "stderr",
     "output_type": "stream",
     "text": [
      "/Users/Tiffany/opt/anaconda3/lib/python3.7/site-packages/statsmodels/tsa/base/tsa_model.py:219: ValueWarning: A date index has been provided, but it has no associated frequency information and so will be ignored when e.g. forecasting.\n",
      "  ' ignored when e.g. forecasting.', ValueWarning)\n",
      "/Users/Tiffany/opt/anaconda3/lib/python3.7/site-packages/statsmodels/tsa/base/tsa_model.py:165: ValueWarning: No frequency information was provided, so inferred frequency 2AS-JAN will be used.\n",
      "  % freq, ValueWarning)\n",
      "/Users/Tiffany/opt/anaconda3/lib/python3.7/site-packages/statsmodels/base/model.py:512: ConvergenceWarning: Maximum Likelihood optimization failed to converge. Check mle_retvals\n",
      "  \"Check mle_retvals\", ConvergenceWarning)\n",
      "/Users/Tiffany/opt/anaconda3/lib/python3.7/site-packages/statsmodels/tsa/base/tsa_model.py:165: ValueWarning: No frequency information was provided, so inferred frequency 2AS-JAN will be used.\n",
      "  % freq, ValueWarning)\n",
      "/Users/Tiffany/opt/anaconda3/lib/python3.7/site-packages/statsmodels/tsa/base/tsa_model.py:165: ValueWarning: No frequency information was provided, so inferred frequency 2AS-JAN will be used.\n",
      "  % freq, ValueWarning)\n",
      "/Users/Tiffany/opt/anaconda3/lib/python3.7/site-packages/statsmodels/tsa/base/tsa_model.py:219: ValueWarning: A date index has been provided, but it has no associated frequency information and so will be ignored when e.g. forecasting.\n",
      "  ' ignored when e.g. forecasting.', ValueWarning)\n",
      "/Users/Tiffany/opt/anaconda3/lib/python3.7/site-packages/statsmodels/tsa/base/tsa_model.py:165: ValueWarning: No frequency information was provided, so inferred frequency 2AS-JAN will be used.\n",
      "  % freq, ValueWarning)\n",
      "/Users/Tiffany/opt/anaconda3/lib/python3.7/site-packages/statsmodels/tsa/base/tsa_model.py:165: ValueWarning: No frequency information was provided, so inferred frequency 2AS-JAN will be used.\n",
      "  % freq, ValueWarning)\n",
      "/Users/Tiffany/opt/anaconda3/lib/python3.7/site-packages/statsmodels/tsa/base/tsa_model.py:165: ValueWarning: No frequency information was provided, so inferred frequency 2AS-JAN will be used.\n",
      "  % freq, ValueWarning)\n",
      "/Users/Tiffany/opt/anaconda3/lib/python3.7/site-packages/statsmodels/tsa/base/tsa_model.py:219: ValueWarning: A date index has been provided, but it has no associated frequency information and so will be ignored when e.g. forecasting.\n",
      "  ' ignored when e.g. forecasting.', ValueWarning)\n",
      "/Users/Tiffany/opt/anaconda3/lib/python3.7/site-packages/statsmodels/tsa/base/tsa_model.py:165: ValueWarning: No frequency information was provided, so inferred frequency 2AS-JAN will be used.\n",
      "  % freq, ValueWarning)\n",
      "/Users/Tiffany/opt/anaconda3/lib/python3.7/site-packages/statsmodels/tsa/base/tsa_model.py:165: ValueWarning: No frequency information was provided, so inferred frequency 2AS-JAN will be used.\n",
      "  % freq, ValueWarning)\n",
      "/Users/Tiffany/opt/anaconda3/lib/python3.7/site-packages/statsmodels/tsa/base/tsa_model.py:165: ValueWarning: No frequency information was provided, so inferred frequency 2AS-JAN will be used.\n",
      "  % freq, ValueWarning)\n",
      "/Users/Tiffany/opt/anaconda3/lib/python3.7/site-packages/statsmodels/base/model.py:512: ConvergenceWarning: Maximum Likelihood optimization failed to converge. Check mle_retvals\n",
      "  \"Check mle_retvals\", ConvergenceWarning)\n"
     ]
    },
    {
     "name": "stdout",
     "output_type": "stream",
     "text": [
      "Phoenix II\n",
      "1.224950488387644e-09\n",
      "Pisces IV (Andromeda XIV)\n"
     ]
    },
    {
     "name": "stderr",
     "output_type": "stream",
     "text": [
      "/Users/Tiffany/opt/anaconda3/lib/python3.7/site-packages/statsmodels/tsa/base/tsa_model.py:165: ValueWarning: No frequency information was provided, so inferred frequency 2AS-JAN will be used.\n",
      "  % freq, ValueWarning)\n",
      "/Users/Tiffany/opt/anaconda3/lib/python3.7/site-packages/statsmodels/tsa/base/tsa_model.py:165: ValueWarning: No frequency information was provided, so inferred frequency 2AS-JAN will be used.\n",
      "  % freq, ValueWarning)\n",
      "/Users/Tiffany/opt/anaconda3/lib/python3.7/site-packages/statsmodels/tsa/base/tsa_model.py:165: ValueWarning: No frequency information was provided, so inferred frequency 2AS-JAN will be used.\n",
      "  % freq, ValueWarning)\n",
      "/Users/Tiffany/opt/anaconda3/lib/python3.7/site-packages/statsmodels/base/model.py:512: ConvergenceWarning: Maximum Likelihood optimization failed to converge. Check mle_retvals\n",
      "  \"Check mle_retvals\", ConvergenceWarning)\n",
      "/Users/Tiffany/opt/anaconda3/lib/python3.7/site-packages/statsmodels/tsa/base/tsa_model.py:165: ValueWarning: No frequency information was provided, so inferred frequency 2AS-JAN will be used.\n",
      "  % freq, ValueWarning)\n",
      "/Users/Tiffany/opt/anaconda3/lib/python3.7/site-packages/statsmodels/tsa/base/tsa_model.py:219: ValueWarning: A date index has been provided, but it has no associated frequency information and so will be ignored when e.g. forecasting.\n",
      "  ' ignored when e.g. forecasting.', ValueWarning)\n",
      "/Users/Tiffany/opt/anaconda3/lib/python3.7/site-packages/statsmodels/tsa/base/tsa_model.py:165: ValueWarning: No frequency information was provided, so inferred frequency 2AS-JAN will be used.\n",
      "  % freq, ValueWarning)\n"
     ]
    },
    {
     "name": "stdout",
     "output_type": "stream",
     "text": [
      "1.269907232318068e-06\n",
      "FM2000 1\n",
      "3.1929059991934697e-06\n",
      "UGCA 438 (ESO 407-018)\n",
      "2.0228237005942643e-07\n"
     ]
    },
    {
     "name": "stderr",
     "output_type": "stream",
     "text": [
      "/Users/Tiffany/opt/anaconda3/lib/python3.7/site-packages/statsmodels/tsa/base/tsa_model.py:165: ValueWarning: No frequency information was provided, so inferred frequency 2AS-JAN will be used.\n",
      "  % freq, ValueWarning)\n",
      "/Users/Tiffany/opt/anaconda3/lib/python3.7/site-packages/statsmodels/tsa/base/tsa_model.py:165: ValueWarning: No frequency information was provided, so inferred frequency 2AS-JAN will be used.\n",
      "  % freq, ValueWarning)\n",
      "/Users/Tiffany/opt/anaconda3/lib/python3.7/site-packages/statsmodels/base/model.py:512: ConvergenceWarning: Maximum Likelihood optimization failed to converge. Check mle_retvals\n",
      "  \"Check mle_retvals\", ConvergenceWarning)\n",
      "/Users/Tiffany/opt/anaconda3/lib/python3.7/site-packages/statsmodels/tsa/base/tsa_model.py:219: ValueWarning: A date index has been provided, but it has no associated frequency information and so will be ignored when e.g. forecasting.\n",
      "  ' ignored when e.g. forecasting.', ValueWarning)\n",
      "/Users/Tiffany/opt/anaconda3/lib/python3.7/site-packages/statsmodels/tsa/base/tsa_model.py:165: ValueWarning: No frequency information was provided, so inferred frequency 2AS-JAN will be used.\n",
      "  % freq, ValueWarning)\n",
      "/Users/Tiffany/opt/anaconda3/lib/python3.7/site-packages/statsmodels/tsa/base/tsa_model.py:165: ValueWarning: No frequency information was provided, so inferred frequency 2AS-JAN will be used.\n",
      "  % freq, ValueWarning)\n",
      "/Users/Tiffany/opt/anaconda3/lib/python3.7/site-packages/statsmodels/base/model.py:512: ConvergenceWarning: Maximum Likelihood optimization failed to converge. Check mle_retvals\n",
      "  \"Check mle_retvals\", ConvergenceWarning)\n",
      "/Users/Tiffany/opt/anaconda3/lib/python3.7/site-packages/statsmodels/tsa/base/tsa_model.py:165: ValueWarning: No frequency information was provided, so inferred frequency 2AS-JAN will be used.\n",
      "  % freq, ValueWarning)\n",
      "/Users/Tiffany/opt/anaconda3/lib/python3.7/site-packages/statsmodels/tsa/base/tsa_model.py:219: ValueWarning: A date index has been provided, but it has no associated frequency information and so will be ignored when e.g. forecasting.\n",
      "  ' ignored when e.g. forecasting.', ValueWarning)\n",
      "/Users/Tiffany/opt/anaconda3/lib/python3.7/site-packages/statsmodels/tsa/base/tsa_model.py:165: ValueWarning: No frequency information was provided, so inferred frequency 2AS-JAN will be used.\n",
      "  % freq, ValueWarning)\n",
      "/Users/Tiffany/opt/anaconda3/lib/python3.7/site-packages/statsmodels/tsa/statespace/sarimax.py:949: UserWarning: Non-stationary starting autoregressive parameters found. Using zeros as starting parameters.\n",
      "  warn('Non-stationary starting autoregressive parameters'\n",
      "/Users/Tiffany/opt/anaconda3/lib/python3.7/site-packages/statsmodels/tsa/base/tsa_model.py:165: ValueWarning: No frequency information was provided, so inferred frequency 2AS-JAN will be used.\n",
      "  % freq, ValueWarning)\n",
      "/Users/Tiffany/opt/anaconda3/lib/python3.7/site-packages/statsmodels/tsa/statespace/sarimax.py:949: UserWarning: Non-stationary starting autoregressive parameters found. Using zeros as starting parameters.\n",
      "  warn('Non-stationary starting autoregressive parameters'\n",
      "/Users/Tiffany/opt/anaconda3/lib/python3.7/site-packages/statsmodels/tsa/base/tsa_model.py:165: ValueWarning: No frequency information was provided, so inferred frequency 2AS-JAN will be used.\n",
      "  % freq, ValueWarning)\n"
     ]
    },
    {
     "name": "stdout",
     "output_type": "stream",
     "text": [
      "Triangulum II\n",
      "2.816153954425767e-06\n",
      "Sculptor Dwarf (E351-G30)\n",
      "2.118710747606506e-06\n",
      "Cas 1 (KK98 19)\n"
     ]
    },
    {
     "name": "stderr",
     "output_type": "stream",
     "text": [
      "/Users/Tiffany/opt/anaconda3/lib/python3.7/site-packages/statsmodels/tsa/base/tsa_model.py:219: ValueWarning: A date index has been provided, but it has no associated frequency information and so will be ignored when e.g. forecasting.\n",
      "  ' ignored when e.g. forecasting.', ValueWarning)\n",
      "/Users/Tiffany/opt/anaconda3/lib/python3.7/site-packages/statsmodels/tsa/base/tsa_model.py:165: ValueWarning: No frequency information was provided, so inferred frequency 2AS-JAN will be used.\n",
      "  % freq, ValueWarning)\n",
      "/Users/Tiffany/opt/anaconda3/lib/python3.7/site-packages/statsmodels/tsa/base/tsa_model.py:165: ValueWarning: No frequency information was provided, so inferred frequency 2AS-JAN will be used.\n",
      "  % freq, ValueWarning)\n",
      "/Users/Tiffany/opt/anaconda3/lib/python3.7/site-packages/statsmodels/tsa/statespace/sarimax.py:949: UserWarning: Non-stationary starting autoregressive parameters found. Using zeros as starting parameters.\n",
      "  warn('Non-stationary starting autoregressive parameters'\n",
      "/Users/Tiffany/opt/anaconda3/lib/python3.7/site-packages/statsmodels/tsa/base/tsa_model.py:165: ValueWarning: No frequency information was provided, so inferred frequency 2AS-JAN will be used.\n",
      "  % freq, ValueWarning)\n",
      "/Users/Tiffany/opt/anaconda3/lib/python3.7/site-packages/statsmodels/tsa/base/tsa_model.py:219: ValueWarning: A date index has been provided, but it has no associated frequency information and so will be ignored when e.g. forecasting.\n",
      "  ' ignored when e.g. forecasting.', ValueWarning)\n",
      "/Users/Tiffany/opt/anaconda3/lib/python3.7/site-packages/statsmodels/tsa/base/tsa_model.py:165: ValueWarning: No frequency information was provided, so inferred frequency 2AS-JAN will be used.\n",
      "  % freq, ValueWarning)\n",
      "/Users/Tiffany/opt/anaconda3/lib/python3.7/site-packages/statsmodels/base/model.py:512: ConvergenceWarning: Maximum Likelihood optimization failed to converge. Check mle_retvals\n",
      "  \"Check mle_retvals\", ConvergenceWarning)\n",
      "/Users/Tiffany/opt/anaconda3/lib/python3.7/site-packages/statsmodels/tsa/base/tsa_model.py:165: ValueWarning: No frequency information was provided, so inferred frequency 2AS-JAN will be used.\n",
      "  % freq, ValueWarning)\n",
      "/Users/Tiffany/opt/anaconda3/lib/python3.7/site-packages/statsmodels/tsa/statespace/sarimax.py:949: UserWarning: Non-stationary starting autoregressive parameters found. Using zeros as starting parameters.\n",
      "  warn('Non-stationary starting autoregressive parameters'\n",
      "/Users/Tiffany/opt/anaconda3/lib/python3.7/site-packages/statsmodels/tsa/base/tsa_model.py:165: ValueWarning: No frequency information was provided, so inferred frequency 2AS-JAN will be used.\n",
      "  % freq, ValueWarning)\n",
      "/Users/Tiffany/opt/anaconda3/lib/python3.7/site-packages/statsmodels/tsa/base/tsa_model.py:219: ValueWarning: A date index has been provided, but it has no associated frequency information and so will be ignored when e.g. forecasting.\n",
      "  ' ignored when e.g. forecasting.', ValueWarning)\n",
      "/Users/Tiffany/opt/anaconda3/lib/python3.7/site-packages/statsmodels/tsa/base/tsa_model.py:165: ValueWarning: No frequency information was provided, so inferred frequency 2AS-JAN will be used.\n",
      "  % freq, ValueWarning)\n",
      "/Users/Tiffany/opt/anaconda3/lib/python3.7/site-packages/statsmodels/tsa/base/tsa_model.py:165: ValueWarning: No frequency information was provided, so inferred frequency 2AS-JAN will be used.\n",
      "  % freq, ValueWarning)\n",
      "/Users/Tiffany/opt/anaconda3/lib/python3.7/site-packages/statsmodels/tsa/statespace/sarimax.py:949: UserWarning: Non-stationary starting autoregressive parameters found. Using zeros as starting parameters.\n",
      "  warn('Non-stationary starting autoregressive parameters'\n"
     ]
    },
    {
     "name": "stdout",
     "output_type": "stream",
     "text": [
      "1.2540277736714075e-06\n",
      "NGC 3741\n",
      "0.00010733025279848614\n"
     ]
    },
    {
     "name": "stderr",
     "output_type": "stream",
     "text": [
      "/Users/Tiffany/opt/anaconda3/lib/python3.7/site-packages/statsmodels/tsa/base/tsa_model.py:165: ValueWarning: No frequency information was provided, so inferred frequency 2AS-JAN will be used.\n",
      "  % freq, ValueWarning)\n",
      "/Users/Tiffany/opt/anaconda3/lib/python3.7/site-packages/statsmodels/tsa/base/tsa_model.py:219: ValueWarning: A date index has been provided, but it has no associated frequency information and so will be ignored when e.g. forecasting.\n",
      "  ' ignored when e.g. forecasting.', ValueWarning)\n",
      "/Users/Tiffany/opt/anaconda3/lib/python3.7/site-packages/statsmodels/tsa/base/tsa_model.py:165: ValueWarning: No frequency information was provided, so inferred frequency 2AS-JAN will be used.\n",
      "  % freq, ValueWarning)\n",
      "/Users/Tiffany/opt/anaconda3/lib/python3.7/site-packages/statsmodels/tsa/base/tsa_model.py:165: ValueWarning: No frequency information was provided, so inferred frequency 2AS-JAN will be used.\n",
      "  % freq, ValueWarning)\n",
      "/Users/Tiffany/opt/anaconda3/lib/python3.7/site-packages/statsmodels/tsa/statespace/sarimax.py:949: UserWarning: Non-stationary starting autoregressive parameters found. Using zeros as starting parameters.\n",
      "  warn('Non-stationary starting autoregressive parameters'\n",
      "/Users/Tiffany/opt/anaconda3/lib/python3.7/site-packages/statsmodels/tsa/base/tsa_model.py:165: ValueWarning: No frequency information was provided, so inferred frequency 2AS-JAN will be used.\n",
      "  % freq, ValueWarning)\n"
     ]
    },
    {
     "name": "stdout",
     "output_type": "stream",
     "text": [
      "Andromeda III\n",
      "3.0123978893796446e-07\n",
      "Ursa Major I Dwarf (UMa I dSph)\n",
      "2.752524890642885e-07\n",
      "NGC 185\n",
      "1.1740990354625048e-07\n"
     ]
    },
    {
     "name": "stderr",
     "output_type": "stream",
     "text": [
      "/Users/Tiffany/opt/anaconda3/lib/python3.7/site-packages/statsmodels/tsa/base/tsa_model.py:219: ValueWarning: A date index has been provided, but it has no associated frequency information and so will be ignored when e.g. forecasting.\n",
      "  ' ignored when e.g. forecasting.', ValueWarning)\n",
      "/Users/Tiffany/opt/anaconda3/lib/python3.7/site-packages/statsmodels/tsa/base/tsa_model.py:165: ValueWarning: No frequency information was provided, so inferred frequency 2AS-JAN will be used.\n",
      "  % freq, ValueWarning)\n",
      "/Users/Tiffany/opt/anaconda3/lib/python3.7/site-packages/statsmodels/base/model.py:512: ConvergenceWarning: Maximum Likelihood optimization failed to converge. Check mle_retvals\n",
      "  \"Check mle_retvals\", ConvergenceWarning)\n",
      "/Users/Tiffany/opt/anaconda3/lib/python3.7/site-packages/statsmodels/tsa/base/tsa_model.py:165: ValueWarning: No frequency information was provided, so inferred frequency 2AS-JAN will be used.\n",
      "  % freq, ValueWarning)\n",
      "/Users/Tiffany/opt/anaconda3/lib/python3.7/site-packages/statsmodels/tsa/base/tsa_model.py:165: ValueWarning: No frequency information was provided, so inferred frequency 2AS-JAN will be used.\n",
      "  % freq, ValueWarning)\n",
      "/Users/Tiffany/opt/anaconda3/lib/python3.7/site-packages/statsmodels/tsa/base/tsa_model.py:219: ValueWarning: A date index has been provided, but it has no associated frequency information and so will be ignored when e.g. forecasting.\n",
      "  ' ignored when e.g. forecasting.', ValueWarning)\n",
      "/Users/Tiffany/opt/anaconda3/lib/python3.7/site-packages/statsmodels/tsa/base/tsa_model.py:165: ValueWarning: No frequency information was provided, so inferred frequency 2AS-JAN will be used.\n",
      "  % freq, ValueWarning)\n",
      "/Users/Tiffany/opt/anaconda3/lib/python3.7/site-packages/statsmodels/tsa/base/tsa_model.py:165: ValueWarning: No frequency information was provided, so inferred frequency 2AS-JAN will be used.\n",
      "  % freq, ValueWarning)\n",
      "/Users/Tiffany/opt/anaconda3/lib/python3.7/site-packages/statsmodels/tsa/base/tsa_model.py:165: ValueWarning: No frequency information was provided, so inferred frequency 2AS-JAN will be used.\n",
      "  % freq, ValueWarning)\n",
      "/Users/Tiffany/opt/anaconda3/lib/python3.7/site-packages/statsmodels/tsa/base/tsa_model.py:219: ValueWarning: A date index has been provided, but it has no associated frequency information and so will be ignored when e.g. forecasting.\n",
      "  ' ignored when e.g. forecasting.', ValueWarning)\n",
      "/Users/Tiffany/opt/anaconda3/lib/python3.7/site-packages/statsmodels/tsa/base/tsa_model.py:165: ValueWarning: No frequency information was provided, so inferred frequency 2AS-JAN will be used.\n",
      "  % freq, ValueWarning)\n",
      "/Users/Tiffany/opt/anaconda3/lib/python3.7/site-packages/statsmodels/tsa/base/tsa_model.py:165: ValueWarning: No frequency information was provided, so inferred frequency 2AS-JAN will be used.\n",
      "  % freq, ValueWarning)\n",
      "/Users/Tiffany/opt/anaconda3/lib/python3.7/site-packages/statsmodels/tsa/base/tsa_model.py:165: ValueWarning: No frequency information was provided, so inferred frequency 2AS-JAN will be used.\n",
      "  % freq, ValueWarning)\n"
     ]
    },
    {
     "name": "stdout",
     "output_type": "stream",
     "text": [
      "UGCA 15 (DDO 6)\n",
      "1.0802323238909752e-07\n",
      "Andromeda I\n",
      "2.0572588854190143e-08\n"
     ]
    },
    {
     "name": "stderr",
     "output_type": "stream",
     "text": [
      "/Users/Tiffany/opt/anaconda3/lib/python3.7/site-packages/statsmodels/tsa/base/tsa_model.py:219: ValueWarning: A date index has been provided, but it has no associated frequency information and so will be ignored when e.g. forecasting.\n",
      "  ' ignored when e.g. forecasting.', ValueWarning)\n",
      "/Users/Tiffany/opt/anaconda3/lib/python3.7/site-packages/statsmodels/tsa/base/tsa_model.py:165: ValueWarning: No frequency information was provided, so inferred frequency 2AS-JAN will be used.\n",
      "  % freq, ValueWarning)\n",
      "/Users/Tiffany/opt/anaconda3/lib/python3.7/site-packages/statsmodels/tsa/base/tsa_model.py:165: ValueWarning: No frequency information was provided, so inferred frequency 2AS-JAN will be used.\n",
      "  % freq, ValueWarning)\n",
      "/Users/Tiffany/opt/anaconda3/lib/python3.7/site-packages/statsmodels/tsa/base/tsa_model.py:165: ValueWarning: No frequency information was provided, so inferred frequency 2AS-JAN will be used.\n",
      "  % freq, ValueWarning)\n",
      "/Users/Tiffany/opt/anaconda3/lib/python3.7/site-packages/statsmodels/base/model.py:512: ConvergenceWarning: Maximum Likelihood optimization failed to converge. Check mle_retvals\n",
      "  \"Check mle_retvals\", ConvergenceWarning)\n",
      "/Users/Tiffany/opt/anaconda3/lib/python3.7/site-packages/statsmodels/tsa/base/tsa_model.py:219: ValueWarning: A date index has been provided, but it has no associated frequency information and so will be ignored when e.g. forecasting.\n",
      "  ' ignored when e.g. forecasting.', ValueWarning)\n",
      "/Users/Tiffany/opt/anaconda3/lib/python3.7/site-packages/statsmodels/tsa/base/tsa_model.py:165: ValueWarning: No frequency information was provided, so inferred frequency 2AS-JAN will be used.\n",
      "  % freq, ValueWarning)\n",
      "/Users/Tiffany/opt/anaconda3/lib/python3.7/site-packages/statsmodels/tsa/base/tsa_model.py:165: ValueWarning: No frequency information was provided, so inferred frequency 2AS-JAN will be used.\n",
      "  % freq, ValueWarning)\n"
     ]
    },
    {
     "name": "stdout",
     "output_type": "stream",
     "text": [
      "M110 (NGC 205)\n",
      "3.716528267153627e-08\n",
      "Dwingeloo 1\n",
      "1.4992035827726427e-08\n"
     ]
    },
    {
     "name": "stderr",
     "output_type": "stream",
     "text": [
      "/Users/Tiffany/opt/anaconda3/lib/python3.7/site-packages/statsmodels/tsa/base/tsa_model.py:165: ValueWarning: No frequency information was provided, so inferred frequency 2AS-JAN will be used.\n",
      "  % freq, ValueWarning)\n",
      "/Users/Tiffany/opt/anaconda3/lib/python3.7/site-packages/statsmodels/tsa/base/tsa_model.py:219: ValueWarning: A date index has been provided, but it has no associated frequency information and so will be ignored when e.g. forecasting.\n",
      "  ' ignored when e.g. forecasting.', ValueWarning)\n",
      "/Users/Tiffany/opt/anaconda3/lib/python3.7/site-packages/statsmodels/tsa/base/tsa_model.py:165: ValueWarning: No frequency information was provided, so inferred frequency 2AS-JAN will be used.\n",
      "  % freq, ValueWarning)\n",
      "/Users/Tiffany/opt/anaconda3/lib/python3.7/site-packages/statsmodels/tsa/base/tsa_model.py:165: ValueWarning: No frequency information was provided, so inferred frequency 2AS-JAN will be used.\n",
      "  % freq, ValueWarning)\n",
      "/Users/Tiffany/opt/anaconda3/lib/python3.7/site-packages/statsmodels/tsa/base/tsa_model.py:165: ValueWarning: No frequency information was provided, so inferred frequency 2AS-JAN will be used.\n",
      "  % freq, ValueWarning)\n",
      "/Users/Tiffany/opt/anaconda3/lib/python3.7/site-packages/statsmodels/tsa/base/tsa_model.py:219: ValueWarning: A date index has been provided, but it has no associated frequency information and so will be ignored when e.g. forecasting.\n",
      "  ' ignored when e.g. forecasting.', ValueWarning)\n",
      "/Users/Tiffany/opt/anaconda3/lib/python3.7/site-packages/statsmodels/tsa/base/tsa_model.py:165: ValueWarning: No frequency information was provided, so inferred frequency 2AS-JAN will be used.\n",
      "  % freq, ValueWarning)\n"
     ]
    },
    {
     "name": "stdout",
     "output_type": "stream",
     "text": [
      "Carina II\n",
      "3.0800975374905174e-08\n",
      "IC 4662 (ESO 102-14)\n",
      "6.724847445234783e-08\n"
     ]
    },
    {
     "name": "stderr",
     "output_type": "stream",
     "text": [
      "/Users/Tiffany/opt/anaconda3/lib/python3.7/site-packages/statsmodels/tsa/base/tsa_model.py:165: ValueWarning: No frequency information was provided, so inferred frequency 2AS-JAN will be used.\n",
      "  % freq, ValueWarning)\n",
      "/Users/Tiffany/opt/anaconda3/lib/python3.7/site-packages/statsmodels/tsa/base/tsa_model.py:165: ValueWarning: No frequency information was provided, so inferred frequency 2AS-JAN will be used.\n",
      "  % freq, ValueWarning)\n",
      "/Users/Tiffany/opt/anaconda3/lib/python3.7/site-packages/statsmodels/tsa/base/tsa_model.py:219: ValueWarning: A date index has been provided, but it has no associated frequency information and so will be ignored when e.g. forecasting.\n",
      "  ' ignored when e.g. forecasting.', ValueWarning)\n",
      "/Users/Tiffany/opt/anaconda3/lib/python3.7/site-packages/statsmodels/tsa/base/tsa_model.py:165: ValueWarning: No frequency information was provided, so inferred frequency 2AS-JAN will be used.\n",
      "  % freq, ValueWarning)\n",
      "/Users/Tiffany/opt/anaconda3/lib/python3.7/site-packages/statsmodels/base/model.py:512: ConvergenceWarning: Maximum Likelihood optimization failed to converge. Check mle_retvals\n",
      "  \"Check mle_retvals\", ConvergenceWarning)\n",
      "/Users/Tiffany/opt/anaconda3/lib/python3.7/site-packages/statsmodels/tsa/base/tsa_model.py:165: ValueWarning: No frequency information was provided, so inferred frequency 2AS-JAN will be used.\n",
      "  % freq, ValueWarning)\n",
      "/Users/Tiffany/opt/anaconda3/lib/python3.7/site-packages/statsmodels/tsa/base/tsa_model.py:165: ValueWarning: No frequency information was provided, so inferred frequency 2AS-JAN will be used.\n",
      "  % freq, ValueWarning)\n",
      "/Users/Tiffany/opt/anaconda3/lib/python3.7/site-packages/statsmodels/base/model.py:512: ConvergenceWarning: Maximum Likelihood optimization failed to converge. Check mle_retvals\n",
      "  \"Check mle_retvals\", ConvergenceWarning)\n",
      "/Users/Tiffany/opt/anaconda3/lib/python3.7/site-packages/statsmodels/tsa/base/tsa_model.py:165: ValueWarning: No frequency information was provided, so inferred frequency 2AS-JAN will be used.\n",
      "  % freq, ValueWarning)\n",
      "/Users/Tiffany/opt/anaconda3/lib/python3.7/site-packages/statsmodels/tsa/base/tsa_model.py:165: ValueWarning: No frequency information was provided, so inferred frequency 2AS-JAN will be used.\n",
      "  % freq, ValueWarning)\n",
      "/Users/Tiffany/opt/anaconda3/lib/python3.7/site-packages/statsmodels/tsa/statespace/sarimax.py:949: UserWarning: Non-stationary starting autoregressive parameters found. Using zeros as starting parameters.\n",
      "  warn('Non-stationary starting autoregressive parameters'\n",
      "/Users/Tiffany/opt/anaconda3/lib/python3.7/site-packages/statsmodels/tsa/base/tsa_model.py:165: ValueWarning: No frequency information was provided, so inferred frequency 2AS-JAN will be used.\n",
      "  % freq, ValueWarning)\n",
      "/Users/Tiffany/opt/anaconda3/lib/python3.7/site-packages/statsmodels/tsa/statespace/sarimax.py:949: UserWarning: Non-stationary starting autoregressive parameters found. Using zeros as starting parameters.\n",
      "  warn('Non-stationary starting autoregressive parameters'\n",
      "/Users/Tiffany/opt/anaconda3/lib/python3.7/site-packages/statsmodels/tsa/base/tsa_model.py:165: ValueWarning: No frequency information was provided, so inferred frequency 2AS-JAN will be used.\n",
      "  % freq, ValueWarning)\n"
     ]
    },
    {
     "name": "stdout",
     "output_type": "stream",
     "text": [
      "Andromeda XV\n",
      "1.275127643189611e-05\n"
     ]
    },
    {
     "name": "stderr",
     "output_type": "stream",
     "text": [
      "/Users/Tiffany/opt/anaconda3/lib/python3.7/site-packages/statsmodels/base/model.py:512: ConvergenceWarning: Maximum Likelihood optimization failed to converge. Check mle_retvals\n",
      "  \"Check mle_retvals\", ConvergenceWarning)\n",
      "/Users/Tiffany/opt/anaconda3/lib/python3.7/site-packages/statsmodels/tsa/base/tsa_model.py:219: ValueWarning: A date index has been provided, but it has no associated frequency information and so will be ignored when e.g. forecasting.\n",
      "  ' ignored when e.g. forecasting.', ValueWarning)\n",
      "/Users/Tiffany/opt/anaconda3/lib/python3.7/site-packages/statsmodels/tsa/base/tsa_model.py:165: ValueWarning: No frequency information was provided, so inferred frequency 2AS-JAN will be used.\n",
      "  % freq, ValueWarning)\n",
      "/Users/Tiffany/opt/anaconda3/lib/python3.7/site-packages/statsmodels/tsa/base/tsa_model.py:165: ValueWarning: No frequency information was provided, so inferred frequency 2AS-JAN will be used.\n",
      "  % freq, ValueWarning)\n",
      "/Users/Tiffany/opt/anaconda3/lib/python3.7/site-packages/statsmodels/tsa/base/tsa_model.py:165: ValueWarning: No frequency information was provided, so inferred frequency 2AS-JAN will be used.\n",
      "  % freq, ValueWarning)\n",
      "/Users/Tiffany/opt/anaconda3/lib/python3.7/site-packages/statsmodels/tsa/base/tsa_model.py:165: ValueWarning: No frequency information was provided, so inferred frequency 2AS-JAN will be used.\n",
      "  % freq, ValueWarning)\n",
      "/Users/Tiffany/opt/anaconda3/lib/python3.7/site-packages/statsmodels/tsa/base/tsa_model.py:165: ValueWarning: No frequency information was provided, so inferred frequency 2AS-JAN will be used.\n",
      "  % freq, ValueWarning)\n"
     ]
    },
    {
     "name": "stdout",
     "output_type": "stream",
     "text": [
      "KKh 086\n",
      "3.6353216484355652e-09\n",
      "Andromeda X\n",
      "1.2987831965200797e-06\n",
      "NGC 4163 (NGC 4167)\n",
      "6.8666036951362415e-09\n"
     ]
    },
    {
     "name": "stderr",
     "output_type": "stream",
     "text": [
      "/Users/Tiffany/opt/anaconda3/lib/python3.7/site-packages/statsmodels/tsa/base/tsa_model.py:165: ValueWarning: No frequency information was provided, so inferred frequency 2AS-JAN will be used.\n",
      "  % freq, ValueWarning)\n",
      "/Users/Tiffany/opt/anaconda3/lib/python3.7/site-packages/statsmodels/tsa/base/tsa_model.py:165: ValueWarning: No frequency information was provided, so inferred frequency 2AS-JAN will be used.\n",
      "  % freq, ValueWarning)\n",
      "/Users/Tiffany/opt/anaconda3/lib/python3.7/site-packages/statsmodels/tsa/base/tsa_model.py:219: ValueWarning: A date index has been provided, but it has no associated frequency information and so will be ignored when e.g. forecasting.\n",
      "  ' ignored when e.g. forecasting.', ValueWarning)\n",
      "/Users/Tiffany/opt/anaconda3/lib/python3.7/site-packages/statsmodels/tsa/base/tsa_model.py:165: ValueWarning: No frequency information was provided, so inferred frequency 2AS-JAN will be used.\n",
      "  % freq, ValueWarning)\n",
      "/Users/Tiffany/opt/anaconda3/lib/python3.7/site-packages/statsmodels/tsa/base/tsa_model.py:165: ValueWarning: No frequency information was provided, so inferred frequency 2AS-JAN will be used.\n",
      "  % freq, ValueWarning)\n",
      "/Users/Tiffany/opt/anaconda3/lib/python3.7/site-packages/statsmodels/tsa/base/tsa_model.py:165: ValueWarning: No frequency information was provided, so inferred frequency 2AS-JAN will be used.\n",
      "  % freq, ValueWarning)\n",
      "/Users/Tiffany/opt/anaconda3/lib/python3.7/site-packages/statsmodels/base/model.py:512: ConvergenceWarning: Maximum Likelihood optimization failed to converge. Check mle_retvals\n",
      "  \"Check mle_retvals\", ConvergenceWarning)\n",
      "/Users/Tiffany/opt/anaconda3/lib/python3.7/site-packages/statsmodels/tsa/base/tsa_model.py:219: ValueWarning: A date index has been provided, but it has no associated frequency information and so will be ignored when e.g. forecasting.\n",
      "  ' ignored when e.g. forecasting.', ValueWarning)\n",
      "/Users/Tiffany/opt/anaconda3/lib/python3.7/site-packages/statsmodels/tsa/base/tsa_model.py:165: ValueWarning: No frequency information was provided, so inferred frequency 2AS-JAN will be used.\n",
      "  % freq, ValueWarning)\n",
      "/Users/Tiffany/opt/anaconda3/lib/python3.7/site-packages/statsmodels/tsa/base/tsa_model.py:165: ValueWarning: No frequency information was provided, so inferred frequency 2AS-JAN will be used.\n",
      "  % freq, ValueWarning)\n",
      "/Users/Tiffany/opt/anaconda3/lib/python3.7/site-packages/statsmodels/tsa/base/tsa_model.py:165: ValueWarning: No frequency information was provided, so inferred frequency 2AS-JAN will be used.\n",
      "  % freq, ValueWarning)\n"
     ]
    },
    {
     "name": "stdout",
     "output_type": "stream",
     "text": [
      "Tucana II\n",
      "2.180265662465229e-07\n",
      "Pisces I\n"
     ]
    },
    {
     "name": "stderr",
     "output_type": "stream",
     "text": [
      "/Users/Tiffany/opt/anaconda3/lib/python3.7/site-packages/statsmodels/tsa/base/tsa_model.py:219: ValueWarning: A date index has been provided, but it has no associated frequency information and so will be ignored when e.g. forecasting.\n",
      "  ' ignored when e.g. forecasting.', ValueWarning)\n",
      "/Users/Tiffany/opt/anaconda3/lib/python3.7/site-packages/statsmodels/tsa/base/tsa_model.py:165: ValueWarning: No frequency information was provided, so inferred frequency 2AS-JAN will be used.\n",
      "  % freq, ValueWarning)\n",
      "/Users/Tiffany/opt/anaconda3/lib/python3.7/site-packages/statsmodels/tsa/base/tsa_model.py:165: ValueWarning: No frequency information was provided, so inferred frequency 2AS-JAN will be used.\n",
      "  % freq, ValueWarning)\n",
      "/Users/Tiffany/opt/anaconda3/lib/python3.7/site-packages/statsmodels/tsa/base/tsa_model.py:165: ValueWarning: No frequency information was provided, so inferred frequency 2AS-JAN will be used.\n",
      "  % freq, ValueWarning)\n",
      "/Users/Tiffany/opt/anaconda3/lib/python3.7/site-packages/statsmodels/tsa/base/tsa_model.py:165: ValueWarning: No frequency information was provided, so inferred frequency 2AS-JAN will be used.\n",
      "  % freq, ValueWarning)\n",
      "/Users/Tiffany/opt/anaconda3/lib/python3.7/site-packages/statsmodels/tsa/base/tsa_model.py:165: ValueWarning: No frequency information was provided, so inferred frequency 2AS-JAN will be used.\n",
      "  % freq, ValueWarning)\n",
      "/Users/Tiffany/opt/anaconda3/lib/python3.7/site-packages/statsmodels/tsa/base/tsa_model.py:165: ValueWarning: No frequency information was provided, so inferred frequency 2AS-JAN will be used.\n",
      "  % freq, ValueWarning)\n"
     ]
    },
    {
     "name": "stdout",
     "output_type": "stream",
     "text": [
      "1.177060970495672e-07\n",
      "Cetus III\n",
      "5.948682439547052e-07\n"
     ]
    },
    {
     "name": "stderr",
     "output_type": "stream",
     "text": [
      "/Users/Tiffany/opt/anaconda3/lib/python3.7/site-packages/statsmodels/tsa/base/tsa_model.py:165: ValueWarning: No frequency information was provided, so inferred frequency 2AS-JAN will be used.\n",
      "  % freq, ValueWarning)\n",
      "/Users/Tiffany/opt/anaconda3/lib/python3.7/site-packages/statsmodels/tsa/base/tsa_model.py:219: ValueWarning: A date index has been provided, but it has no associated frequency information and so will be ignored when e.g. forecasting.\n",
      "  ' ignored when e.g. forecasting.', ValueWarning)\n",
      "/Users/Tiffany/opt/anaconda3/lib/python3.7/site-packages/statsmodels/tsa/base/tsa_model.py:165: ValueWarning: No frequency information was provided, so inferred frequency 2AS-JAN will be used.\n",
      "  % freq, ValueWarning)\n",
      "/Users/Tiffany/opt/anaconda3/lib/python3.7/site-packages/statsmodels/tsa/base/tsa_model.py:165: ValueWarning: No frequency information was provided, so inferred frequency 2AS-JAN will be used.\n",
      "  % freq, ValueWarning)\n",
      "/Users/Tiffany/opt/anaconda3/lib/python3.7/site-packages/statsmodels/tsa/base/tsa_model.py:165: ValueWarning: No frequency information was provided, so inferred frequency 2AS-JAN will be used.\n",
      "  % freq, ValueWarning)\n"
     ]
    },
    {
     "name": "stdout",
     "output_type": "stream",
     "text": [
      "UGC 7577 (DDO 125)\n",
      "3.611304132598366e-06\n",
      "HIPASS J1247-77\n"
     ]
    },
    {
     "name": "stderr",
     "output_type": "stream",
     "text": [
      "/Users/Tiffany/opt/anaconda3/lib/python3.7/site-packages/statsmodels/base/model.py:512: ConvergenceWarning: Maximum Likelihood optimization failed to converge. Check mle_retvals\n",
      "  \"Check mle_retvals\", ConvergenceWarning)\n",
      "/Users/Tiffany/opt/anaconda3/lib/python3.7/site-packages/statsmodels/tsa/base/tsa_model.py:219: ValueWarning: A date index has been provided, but it has no associated frequency information and so will be ignored when e.g. forecasting.\n",
      "  ' ignored when e.g. forecasting.', ValueWarning)\n",
      "/Users/Tiffany/opt/anaconda3/lib/python3.7/site-packages/statsmodels/tsa/base/tsa_model.py:165: ValueWarning: No frequency information was provided, so inferred frequency 2AS-JAN will be used.\n",
      "  % freq, ValueWarning)\n",
      "/Users/Tiffany/opt/anaconda3/lib/python3.7/site-packages/statsmodels/tsa/base/tsa_model.py:165: ValueWarning: No frequency information was provided, so inferred frequency 2AS-JAN will be used.\n",
      "  % freq, ValueWarning)\n",
      "/Users/Tiffany/opt/anaconda3/lib/python3.7/site-packages/statsmodels/base/model.py:512: ConvergenceWarning: Maximum Likelihood optimization failed to converge. Check mle_retvals\n",
      "  \"Check mle_retvals\", ConvergenceWarning)\n",
      "/Users/Tiffany/opt/anaconda3/lib/python3.7/site-packages/statsmodels/tsa/base/tsa_model.py:165: ValueWarning: No frequency information was provided, so inferred frequency 2AS-JAN will be used.\n",
      "  % freq, ValueWarning)\n",
      "/Users/Tiffany/opt/anaconda3/lib/python3.7/site-packages/statsmodels/tsa/base/tsa_model.py:165: ValueWarning: No frequency information was provided, so inferred frequency 2AS-JAN will be used.\n",
      "  % freq, ValueWarning)\n"
     ]
    },
    {
     "name": "stdout",
     "output_type": "stream",
     "text": [
      "2.074364341099438e-08\n",
      "Triangulum Galaxy (M33)\n",
      "1.1927681699689412e-06\n"
     ]
    },
    {
     "name": "stderr",
     "output_type": "stream",
     "text": [
      "/Users/Tiffany/opt/anaconda3/lib/python3.7/site-packages/statsmodels/tsa/base/tsa_model.py:165: ValueWarning: No frequency information was provided, so inferred frequency 2AS-JAN will be used.\n",
      "  % freq, ValueWarning)\n",
      "/Users/Tiffany/opt/anaconda3/lib/python3.7/site-packages/statsmodels/tsa/base/tsa_model.py:165: ValueWarning: No frequency information was provided, so inferred frequency 2AS-JAN will be used.\n",
      "  % freq, ValueWarning)\n",
      "/Users/Tiffany/opt/anaconda3/lib/python3.7/site-packages/statsmodels/tsa/base/tsa_model.py:165: ValueWarning: No frequency information was provided, so inferred frequency 2AS-JAN will be used.\n",
      "  % freq, ValueWarning)\n",
      "/Users/Tiffany/opt/anaconda3/lib/python3.7/site-packages/statsmodels/base/model.py:512: ConvergenceWarning: Maximum Likelihood optimization failed to converge. Check mle_retvals\n",
      "  \"Check mle_retvals\", ConvergenceWarning)\n",
      "/Users/Tiffany/opt/anaconda3/lib/python3.7/site-packages/statsmodels/tsa/base/tsa_model.py:219: ValueWarning: A date index has been provided, but it has no associated frequency information and so will be ignored when e.g. forecasting.\n",
      "  ' ignored when e.g. forecasting.', ValueWarning)\n",
      "/Users/Tiffany/opt/anaconda3/lib/python3.7/site-packages/statsmodels/tsa/base/tsa_model.py:165: ValueWarning: No frequency information was provided, so inferred frequency 2AS-JAN will be used.\n",
      "  % freq, ValueWarning)\n",
      "/Users/Tiffany/opt/anaconda3/lib/python3.7/site-packages/statsmodels/tsa/statespace/sarimax.py:949: UserWarning: Non-stationary starting autoregressive parameters found. Using zeros as starting parameters.\n",
      "  warn('Non-stationary starting autoregressive parameters'\n",
      "/Users/Tiffany/opt/anaconda3/lib/python3.7/site-packages/statsmodels/tsa/base/tsa_model.py:165: ValueWarning: No frequency information was provided, so inferred frequency 2AS-JAN will be used.\n",
      "  % freq, ValueWarning)\n"
     ]
    },
    {
     "name": "stdout",
     "output_type": "stream",
     "text": [
      "Small Magellanic Cloud (SMC, NGC 292)\n",
      "1.2577356708594511e-07\n",
      "Canes Venatici I Dwarf\n"
     ]
    },
    {
     "name": "stderr",
     "output_type": "stream",
     "text": [
      "/Users/Tiffany/opt/anaconda3/lib/python3.7/site-packages/statsmodels/tsa/base/tsa_model.py:165: ValueWarning: No frequency information was provided, so inferred frequency 2AS-JAN will be used.\n",
      "  % freq, ValueWarning)\n",
      "/Users/Tiffany/opt/anaconda3/lib/python3.7/site-packages/statsmodels/tsa/base/tsa_model.py:219: ValueWarning: A date index has been provided, but it has no associated frequency information and so will be ignored when e.g. forecasting.\n",
      "  ' ignored when e.g. forecasting.', ValueWarning)\n",
      "/Users/Tiffany/opt/anaconda3/lib/python3.7/site-packages/statsmodels/tsa/base/tsa_model.py:165: ValueWarning: No frequency information was provided, so inferred frequency 2AS-JAN will be used.\n",
      "  % freq, ValueWarning)\n",
      "/Users/Tiffany/opt/anaconda3/lib/python3.7/site-packages/statsmodels/tsa/base/tsa_model.py:165: ValueWarning: No frequency information was provided, so inferred frequency 2AS-JAN will be used.\n",
      "  % freq, ValueWarning)\n",
      "/Users/Tiffany/opt/anaconda3/lib/python3.7/site-packages/statsmodels/tsa/statespace/sarimax.py:949: UserWarning: Non-stationary starting autoregressive parameters found. Using zeros as starting parameters.\n",
      "  warn('Non-stationary starting autoregressive parameters'\n",
      "/Users/Tiffany/opt/anaconda3/lib/python3.7/site-packages/statsmodels/tsa/base/tsa_model.py:165: ValueWarning: No frequency information was provided, so inferred frequency 2AS-JAN will be used.\n",
      "  % freq, ValueWarning)\n"
     ]
    },
    {
     "name": "stdout",
     "output_type": "stream",
     "text": [
      "6.113486509071106e-06\n",
      "UGCA 92\n"
     ]
    },
    {
     "name": "stderr",
     "output_type": "stream",
     "text": [
      "/Users/Tiffany/opt/anaconda3/lib/python3.7/site-packages/statsmodels/tsa/base/tsa_model.py:219: ValueWarning: A date index has been provided, but it has no associated frequency information and so will be ignored when e.g. forecasting.\n",
      "  ' ignored when e.g. forecasting.', ValueWarning)\n",
      "/Users/Tiffany/opt/anaconda3/lib/python3.7/site-packages/statsmodels/tsa/base/tsa_model.py:165: ValueWarning: No frequency information was provided, so inferred frequency 2AS-JAN will be used.\n",
      "  % freq, ValueWarning)\n",
      "/Users/Tiffany/opt/anaconda3/lib/python3.7/site-packages/statsmodels/tsa/base/tsa_model.py:165: ValueWarning: No frequency information was provided, so inferred frequency 2AS-JAN will be used.\n",
      "  % freq, ValueWarning)\n",
      "/Users/Tiffany/opt/anaconda3/lib/python3.7/site-packages/statsmodels/tsa/base/tsa_model.py:165: ValueWarning: No frequency information was provided, so inferred frequency 2AS-JAN will be used.\n",
      "  % freq, ValueWarning)\n",
      "/Users/Tiffany/opt/anaconda3/lib/python3.7/site-packages/statsmodels/tsa/base/tsa_model.py:219: ValueWarning: A date index has been provided, but it has no associated frequency information and so will be ignored when e.g. forecasting.\n",
      "  ' ignored when e.g. forecasting.', ValueWarning)\n",
      "/Users/Tiffany/opt/anaconda3/lib/python3.7/site-packages/statsmodels/tsa/base/tsa_model.py:165: ValueWarning: No frequency information was provided, so inferred frequency 2AS-JAN will be used.\n",
      "  % freq, ValueWarning)\n",
      "/Users/Tiffany/opt/anaconda3/lib/python3.7/site-packages/statsmodels/tsa/base/tsa_model.py:165: ValueWarning: No frequency information was provided, so inferred frequency 2AS-JAN will be used.\n",
      "  % freq, ValueWarning)\n"
     ]
    },
    {
     "name": "stdout",
     "output_type": "stream",
     "text": [
      "3.33027198342785e-08\n",
      "IC 342\n",
      "2.5877611995673086e-07\n"
     ]
    },
    {
     "name": "stderr",
     "output_type": "stream",
     "text": [
      "/Users/Tiffany/opt/anaconda3/lib/python3.7/site-packages/statsmodels/tsa/base/tsa_model.py:165: ValueWarning: No frequency information was provided, so inferred frequency 2AS-JAN will be used.\n",
      "  % freq, ValueWarning)\n",
      "/Users/Tiffany/opt/anaconda3/lib/python3.7/site-packages/statsmodels/tsa/base/tsa_model.py:219: ValueWarning: A date index has been provided, but it has no associated frequency information and so will be ignored when e.g. forecasting.\n",
      "  ' ignored when e.g. forecasting.', ValueWarning)\n",
      "/Users/Tiffany/opt/anaconda3/lib/python3.7/site-packages/statsmodels/tsa/base/tsa_model.py:165: ValueWarning: No frequency information was provided, so inferred frequency 2AS-JAN will be used.\n",
      "  % freq, ValueWarning)\n",
      "/Users/Tiffany/opt/anaconda3/lib/python3.7/site-packages/statsmodels/tsa/base/tsa_model.py:165: ValueWarning: No frequency information was provided, so inferred frequency 2AS-JAN will be used.\n",
      "  % freq, ValueWarning)\n",
      "/Users/Tiffany/opt/anaconda3/lib/python3.7/site-packages/statsmodels/tsa/base/tsa_model.py:165: ValueWarning: No frequency information was provided, so inferred frequency 2AS-JAN will be used.\n",
      "  % freq, ValueWarning)\n",
      "/Users/Tiffany/opt/anaconda3/lib/python3.7/site-packages/statsmodels/tsa/base/tsa_model.py:165: ValueWarning: No frequency information was provided, so inferred frequency 2AS-JAN will be used.\n",
      "  % freq, ValueWarning)\n",
      "/Users/Tiffany/opt/anaconda3/lib/python3.7/site-packages/statsmodels/tsa/base/tsa_model.py:165: ValueWarning: No frequency information was provided, so inferred frequency 2AS-JAN will be used.\n",
      "  % freq, ValueWarning)\n"
     ]
    },
    {
     "name": "stdout",
     "output_type": "stream",
     "text": [
      "UGC 4879 (VV124)[61]\n",
      "1.0503740331484485e-06\n",
      "Pegasus III\n",
      "7.36163150845036e-07\n",
      "Leo A (Leo III, DDO 69)\n",
      "3.494056128195482e-08\n"
     ]
    },
    {
     "name": "stderr",
     "output_type": "stream",
     "text": [
      "/Users/Tiffany/opt/anaconda3/lib/python3.7/site-packages/statsmodels/tsa/base/tsa_model.py:165: ValueWarning: No frequency information was provided, so inferred frequency 2AS-JAN will be used.\n",
      "  % freq, ValueWarning)\n",
      "/Users/Tiffany/opt/anaconda3/lib/python3.7/site-packages/statsmodels/tsa/base/tsa_model.py:165: ValueWarning: No frequency information was provided, so inferred frequency 2AS-JAN will be used.\n",
      "  % freq, ValueWarning)\n",
      "/Users/Tiffany/opt/anaconda3/lib/python3.7/site-packages/statsmodels/tsa/base/tsa_model.py:219: ValueWarning: A date index has been provided, but it has no associated frequency information and so will be ignored when e.g. forecasting.\n",
      "  ' ignored when e.g. forecasting.', ValueWarning)\n",
      "/Users/Tiffany/opt/anaconda3/lib/python3.7/site-packages/statsmodels/tsa/base/tsa_model.py:165: ValueWarning: No frequency information was provided, so inferred frequency 2AS-JAN will be used.\n",
      "  % freq, ValueWarning)\n",
      "/Users/Tiffany/opt/anaconda3/lib/python3.7/site-packages/statsmodels/tsa/base/tsa_model.py:165: ValueWarning: No frequency information was provided, so inferred frequency 2AS-JAN will be used.\n",
      "  % freq, ValueWarning)\n",
      "/Users/Tiffany/opt/anaconda3/lib/python3.7/site-packages/statsmodels/tsa/base/tsa_model.py:165: ValueWarning: No frequency information was provided, so inferred frequency 2AS-JAN will be used.\n",
      "  % freq, ValueWarning)\n",
      "/Users/Tiffany/opt/anaconda3/lib/python3.7/site-packages/statsmodels/base/model.py:512: ConvergenceWarning: Maximum Likelihood optimization failed to converge. Check mle_retvals\n",
      "  \"Check mle_retvals\", ConvergenceWarning)\n",
      "/Users/Tiffany/opt/anaconda3/lib/python3.7/site-packages/statsmodels/tsa/base/tsa_model.py:219: ValueWarning: A date index has been provided, but it has no associated frequency information and so will be ignored when e.g. forecasting.\n",
      "  ' ignored when e.g. forecasting.', ValueWarning)\n",
      "/Users/Tiffany/opt/anaconda3/lib/python3.7/site-packages/statsmodels/tsa/base/tsa_model.py:165: ValueWarning: No frequency information was provided, so inferred frequency 2AS-JAN will be used.\n",
      "  % freq, ValueWarning)\n",
      "/Users/Tiffany/opt/anaconda3/lib/python3.7/site-packages/statsmodels/base/model.py:512: ConvergenceWarning: Maximum Likelihood optimization failed to converge. Check mle_retvals\n",
      "  \"Check mle_retvals\", ConvergenceWarning)\n",
      "/Users/Tiffany/opt/anaconda3/lib/python3.7/site-packages/statsmodels/tsa/base/tsa_model.py:165: ValueWarning: No frequency information was provided, so inferred frequency 2AS-JAN will be used.\n",
      "  % freq, ValueWarning)\n",
      "/Users/Tiffany/opt/anaconda3/lib/python3.7/site-packages/statsmodels/tsa/base/tsa_model.py:165: ValueWarning: No frequency information was provided, so inferred frequency 2AS-JAN will be used.\n",
      "  % freq, ValueWarning)\n",
      "/Users/Tiffany/opt/anaconda3/lib/python3.7/site-packages/statsmodels/tsa/base/tsa_model.py:219: ValueWarning: A date index has been provided, but it has no associated frequency information and so will be ignored when e.g. forecasting.\n",
      "  ' ignored when e.g. forecasting.', ValueWarning)\n",
      "/Users/Tiffany/opt/anaconda3/lib/python3.7/site-packages/statsmodels/tsa/base/tsa_model.py:165: ValueWarning: No frequency information was provided, so inferred frequency 2AS-JAN will be used.\n",
      "  % freq, ValueWarning)\n"
     ]
    },
    {
     "name": "stdout",
     "output_type": "stream",
     "text": [
      "Tucana III\n",
      "6.957699842918415e-08\n",
      "KKH 37 (Mai 16)\n"
     ]
    },
    {
     "name": "stderr",
     "output_type": "stream",
     "text": [
      "/Users/Tiffany/opt/anaconda3/lib/python3.7/site-packages/statsmodels/base/model.py:512: ConvergenceWarning: Maximum Likelihood optimization failed to converge. Check mle_retvals\n",
      "  \"Check mle_retvals\", ConvergenceWarning)\n",
      "/Users/Tiffany/opt/anaconda3/lib/python3.7/site-packages/statsmodels/tsa/base/tsa_model.py:165: ValueWarning: No frequency information was provided, so inferred frequency 2AS-JAN will be used.\n",
      "  % freq, ValueWarning)\n",
      "/Users/Tiffany/opt/anaconda3/lib/python3.7/site-packages/statsmodels/tsa/base/tsa_model.py:165: ValueWarning: No frequency information was provided, so inferred frequency 2AS-JAN will be used.\n",
      "  % freq, ValueWarning)\n",
      "/Users/Tiffany/opt/anaconda3/lib/python3.7/site-packages/statsmodels/tsa/base/tsa_model.py:219: ValueWarning: A date index has been provided, but it has no associated frequency information and so will be ignored when e.g. forecasting.\n",
      "  ' ignored when e.g. forecasting.', ValueWarning)\n",
      "/Users/Tiffany/opt/anaconda3/lib/python3.7/site-packages/statsmodels/tsa/base/tsa_model.py:165: ValueWarning: No frequency information was provided, so inferred frequency 2AS-JAN will be used.\n",
      "  % freq, ValueWarning)\n",
      "/Users/Tiffany/opt/anaconda3/lib/python3.7/site-packages/statsmodels/tsa/base/tsa_model.py:165: ValueWarning: No frequency information was provided, so inferred frequency 2AS-JAN will be used.\n",
      "  % freq, ValueWarning)\n"
     ]
    },
    {
     "name": "stdout",
     "output_type": "stream",
     "text": [
      "1.1812331719888167e-06\n",
      "NGC 4214 (UGC 7278)\n",
      "6.245067171617158e-07\n"
     ]
    },
    {
     "name": "stderr",
     "output_type": "stream",
     "text": [
      "/Users/Tiffany/opt/anaconda3/lib/python3.7/site-packages/statsmodels/tsa/base/tsa_model.py:165: ValueWarning: No frequency information was provided, so inferred frequency 2AS-JAN will be used.\n",
      "  % freq, ValueWarning)\n",
      "/Users/Tiffany/opt/anaconda3/lib/python3.7/site-packages/statsmodels/tsa/base/tsa_model.py:165: ValueWarning: No frequency information was provided, so inferred frequency 2AS-JAN will be used.\n",
      "  % freq, ValueWarning)\n",
      "/Users/Tiffany/opt/anaconda3/lib/python3.7/site-packages/statsmodels/tsa/base/tsa_model.py:165: ValueWarning: No frequency information was provided, so inferred frequency 2AS-JAN will be used.\n",
      "  % freq, ValueWarning)\n",
      "/Users/Tiffany/opt/anaconda3/lib/python3.7/site-packages/statsmodels/base/model.py:512: ConvergenceWarning: Maximum Likelihood optimization failed to converge. Check mle_retvals\n",
      "  \"Check mle_retvals\", ConvergenceWarning)\n",
      "/Users/Tiffany/opt/anaconda3/lib/python3.7/site-packages/statsmodels/tsa/base/tsa_model.py:165: ValueWarning: No frequency information was provided, so inferred frequency 2AS-JAN will be used.\n",
      "  % freq, ValueWarning)\n",
      "/Users/Tiffany/opt/anaconda3/lib/python3.7/site-packages/statsmodels/tsa/base/tsa_model.py:165: ValueWarning: No frequency information was provided, so inferred frequency 2AS-JAN will be used.\n",
      "  % freq, ValueWarning)\n"
     ]
    },
    {
     "name": "stdout",
     "output_type": "stream",
     "text": [
      "Pisces Dwarf\n",
      "1.6093824638126976e-06\n",
      "Leo IV Dwarf\n"
     ]
    },
    {
     "name": "stderr",
     "output_type": "stream",
     "text": [
      "/Users/Tiffany/opt/anaconda3/lib/python3.7/site-packages/statsmodels/tsa/base/tsa_model.py:165: ValueWarning: No frequency information was provided, so inferred frequency 2AS-JAN will be used.\n",
      "  % freq, ValueWarning)\n",
      "/Users/Tiffany/opt/anaconda3/lib/python3.7/site-packages/statsmodels/tsa/base/tsa_model.py:165: ValueWarning: No frequency information was provided, so inferred frequency 2AS-JAN will be used.\n",
      "  % freq, ValueWarning)\n",
      "/Users/Tiffany/opt/anaconda3/lib/python3.7/site-packages/statsmodels/tsa/statespace/sarimax.py:949: UserWarning: Non-stationary starting autoregressive parameters found. Using zeros as starting parameters.\n",
      "  warn('Non-stationary starting autoregressive parameters'\n",
      "/Users/Tiffany/opt/anaconda3/lib/python3.7/site-packages/statsmodels/tsa/base/tsa_model.py:165: ValueWarning: No frequency information was provided, so inferred frequency 2AS-JAN will be used.\n",
      "  % freq, ValueWarning)\n",
      "/Users/Tiffany/opt/anaconda3/lib/python3.7/site-packages/statsmodels/tsa/statespace/sarimax.py:949: UserWarning: Non-stationary starting autoregressive parameters found. Using zeros as starting parameters.\n",
      "  warn('Non-stationary starting autoregressive parameters'\n",
      "/Users/Tiffany/opt/anaconda3/lib/python3.7/site-packages/statsmodels/tsa/base/tsa_model.py:165: ValueWarning: No frequency information was provided, so inferred frequency 2AS-JAN will be used.\n",
      "  % freq, ValueWarning)\n",
      "/Users/Tiffany/opt/anaconda3/lib/python3.7/site-packages/statsmodels/tsa/base/tsa_model.py:165: ValueWarning: No frequency information was provided, so inferred frequency 2AS-JAN will be used.\n",
      "  % freq, ValueWarning)\n",
      "/Users/Tiffany/opt/anaconda3/lib/python3.7/site-packages/statsmodels/tsa/base/tsa_model.py:165: ValueWarning: No frequency information was provided, so inferred frequency 2AS-JAN will be used.\n",
      "  % freq, ValueWarning)\n"
     ]
    },
    {
     "name": "stdout",
     "output_type": "stream",
     "text": [
      "0.0002711802079941346\n",
      "Eridanus II\n",
      "3.564262618104772e-06\n"
     ]
    },
    {
     "name": "stderr",
     "output_type": "stream",
     "text": [
      "/Users/Tiffany/opt/anaconda3/lib/python3.7/site-packages/statsmodels/tsa/base/tsa_model.py:165: ValueWarning: No frequency information was provided, so inferred frequency 2AS-JAN will be used.\n",
      "  % freq, ValueWarning)\n",
      "/Users/Tiffany/opt/anaconda3/lib/python3.7/site-packages/statsmodels/base/model.py:512: ConvergenceWarning: Maximum Likelihood optimization failed to converge. Check mle_retvals\n",
      "  \"Check mle_retvals\", ConvergenceWarning)\n",
      "/Users/Tiffany/opt/anaconda3/lib/python3.7/site-packages/statsmodels/tsa/base/tsa_model.py:165: ValueWarning: No frequency information was provided, so inferred frequency 2AS-JAN will be used.\n",
      "  % freq, ValueWarning)\n",
      "/Users/Tiffany/opt/anaconda3/lib/python3.7/site-packages/statsmodels/base/model.py:512: ConvergenceWarning: Maximum Likelihood optimization failed to converge. Check mle_retvals\n",
      "  \"Check mle_retvals\", ConvergenceWarning)\n",
      "/Users/Tiffany/opt/anaconda3/lib/python3.7/site-packages/statsmodels/tsa/base/tsa_model.py:165: ValueWarning: No frequency information was provided, so inferred frequency 2AS-JAN will be used.\n",
      "  % freq, ValueWarning)\n",
      "/Users/Tiffany/opt/anaconda3/lib/python3.7/site-packages/statsmodels/tsa/base/tsa_model.py:165: ValueWarning: No frequency information was provided, so inferred frequency 2AS-JAN will be used.\n",
      "  % freq, ValueWarning)\n",
      "/Users/Tiffany/opt/anaconda3/lib/python3.7/site-packages/statsmodels/tsa/statespace/sarimax.py:949: UserWarning: Non-stationary starting autoregressive parameters found. Using zeros as starting parameters.\n",
      "  warn('Non-stationary starting autoregressive parameters'\n",
      "/Users/Tiffany/opt/anaconda3/lib/python3.7/site-packages/statsmodels/tsa/base/tsa_model.py:165: ValueWarning: No frequency information was provided, so inferred frequency 2AS-JAN will be used.\n",
      "  % freq, ValueWarning)\n",
      "/Users/Tiffany/opt/anaconda3/lib/python3.7/site-packages/statsmodels/tsa/statespace/sarimax.py:949: UserWarning: Non-stationary starting autoregressive parameters found. Using zeros as starting parameters.\n",
      "  warn('Non-stationary starting autoregressive parameters'\n"
     ]
    },
    {
     "name": "stdout",
     "output_type": "stream",
     "text": [
      "Canes Venatici II Dwarf\n",
      "0.00011382509653248298\n"
     ]
    },
    {
     "name": "stderr",
     "output_type": "stream",
     "text": [
      "/Users/Tiffany/opt/anaconda3/lib/python3.7/site-packages/statsmodels/tsa/base/tsa_model.py:165: ValueWarning: No frequency information was provided, so inferred frequency 2AS-JAN will be used.\n",
      "  % freq, ValueWarning)\n",
      "/Users/Tiffany/opt/anaconda3/lib/python3.7/site-packages/statsmodels/base/model.py:512: ConvergenceWarning: Maximum Likelihood optimization failed to converge. Check mle_retvals\n",
      "  \"Check mle_retvals\", ConvergenceWarning)\n",
      "/Users/Tiffany/opt/anaconda3/lib/python3.7/site-packages/statsmodels/tsa/base/tsa_model.py:165: ValueWarning: No frequency information was provided, so inferred frequency 2AS-JAN will be used.\n",
      "  % freq, ValueWarning)\n",
      "/Users/Tiffany/opt/anaconda3/lib/python3.7/site-packages/statsmodels/tsa/base/tsa_model.py:165: ValueWarning: No frequency information was provided, so inferred frequency 2AS-JAN will be used.\n",
      "  % freq, ValueWarning)\n",
      "/Users/Tiffany/opt/anaconda3/lib/python3.7/site-packages/statsmodels/tsa/base/tsa_model.py:165: ValueWarning: No frequency information was provided, so inferred frequency 2AS-JAN will be used.\n",
      "  % freq, ValueWarning)\n",
      "/Users/Tiffany/opt/anaconda3/lib/python3.7/site-packages/statsmodels/tsa/statespace/sarimax.py:949: UserWarning: Non-stationary starting autoregressive parameters found. Using zeros as starting parameters.\n",
      "  warn('Non-stationary starting autoregressive parameters'\n"
     ]
    },
    {
     "name": "stdout",
     "output_type": "stream",
     "text": [
      "IC 10 (UGC 192)\n",
      "0.00011697437910022103\n"
     ]
    },
    {
     "name": "stderr",
     "output_type": "stream",
     "text": [
      "/Users/Tiffany/opt/anaconda3/lib/python3.7/site-packages/statsmodels/tsa/base/tsa_model.py:165: ValueWarning: No frequency information was provided, so inferred frequency 2AS-JAN will be used.\n",
      "  % freq, ValueWarning)\n",
      "/Users/Tiffany/opt/anaconda3/lib/python3.7/site-packages/statsmodels/tsa/base/tsa_model.py:219: ValueWarning: A date index has been provided, but it has no associated frequency information and so will be ignored when e.g. forecasting.\n",
      "  ' ignored when e.g. forecasting.', ValueWarning)\n",
      "/Users/Tiffany/opt/anaconda3/lib/python3.7/site-packages/statsmodels/tsa/base/tsa_model.py:165: ValueWarning: No frequency information was provided, so inferred frequency 2AS-JAN will be used.\n",
      "  % freq, ValueWarning)\n",
      "/Users/Tiffany/opt/anaconda3/lib/python3.7/site-packages/statsmodels/base/model.py:512: ConvergenceWarning: Maximum Likelihood optimization failed to converge. Check mle_retvals\n",
      "  \"Check mle_retvals\", ConvergenceWarning)\n",
      "/Users/Tiffany/opt/anaconda3/lib/python3.7/site-packages/statsmodels/tsa/base/tsa_model.py:165: ValueWarning: No frequency information was provided, so inferred frequency 2AS-JAN will be used.\n",
      "  % freq, ValueWarning)\n",
      "/Users/Tiffany/opt/anaconda3/lib/python3.7/site-packages/statsmodels/tsa/base/tsa_model.py:165: ValueWarning: No frequency information was provided, so inferred frequency 2AS-JAN will be used.\n",
      "  % freq, ValueWarning)\n"
     ]
    },
    {
     "name": "stdout",
     "output_type": "stream",
     "text": [
      "Willman 1\n",
      "1.2113674957968116e-07\n",
      "ESO 410-G005\n"
     ]
    },
    {
     "name": "stderr",
     "output_type": "stream",
     "text": [
      "/Users/Tiffany/opt/anaconda3/lib/python3.7/site-packages/statsmodels/tsa/base/tsa_model.py:165: ValueWarning: No frequency information was provided, so inferred frequency 2AS-JAN will be used.\n",
      "  % freq, ValueWarning)\n",
      "/Users/Tiffany/opt/anaconda3/lib/python3.7/site-packages/statsmodels/tsa/base/tsa_model.py:165: ValueWarning: No frequency information was provided, so inferred frequency 2AS-JAN will be used.\n",
      "  % freq, ValueWarning)\n",
      "/Users/Tiffany/opt/anaconda3/lib/python3.7/site-packages/statsmodels/tsa/base/tsa_model.py:165: ValueWarning: No frequency information was provided, so inferred frequency 2AS-JAN will be used.\n",
      "  % freq, ValueWarning)\n",
      "/Users/Tiffany/opt/anaconda3/lib/python3.7/site-packages/statsmodels/tsa/base/tsa_model.py:165: ValueWarning: No frequency information was provided, so inferred frequency 2AS-JAN will be used.\n",
      "  % freq, ValueWarning)\n",
      "/Users/Tiffany/opt/anaconda3/lib/python3.7/site-packages/statsmodels/tsa/base/tsa_model.py:165: ValueWarning: No frequency information was provided, so inferred frequency 2AS-JAN will be used.\n",
      "  % freq, ValueWarning)\n",
      "/Users/Tiffany/opt/anaconda3/lib/python3.7/site-packages/statsmodels/tsa/base/tsa_model.py:165: ValueWarning: No frequency information was provided, so inferred frequency 2AS-JAN will be used.\n",
      "  % freq, ValueWarning)\n",
      "/Users/Tiffany/opt/anaconda3/lib/python3.7/site-packages/statsmodels/tsa/base/tsa_model.py:165: ValueWarning: No frequency information was provided, so inferred frequency 2AS-JAN will be used.\n",
      "  % freq, ValueWarning)\n"
     ]
    },
    {
     "name": "stdout",
     "output_type": "stream",
     "text": [
      "1.5561309625107226e-06\n",
      "Wolf-Lundmark-Melotte (WLM, DDO 221)\n",
      "1.4589756765533316e-07\n"
     ]
    },
    {
     "name": "stderr",
     "output_type": "stream",
     "text": [
      "/Users/Tiffany/opt/anaconda3/lib/python3.7/site-packages/statsmodels/tsa/base/tsa_model.py:165: ValueWarning: No frequency information was provided, so inferred frequency 2AS-JAN will be used.\n",
      "  % freq, ValueWarning)\n",
      "/Users/Tiffany/opt/anaconda3/lib/python3.7/site-packages/statsmodels/tsa/base/tsa_model.py:165: ValueWarning: No frequency information was provided, so inferred frequency 2AS-JAN will be used.\n",
      "  % freq, ValueWarning)\n",
      "/Users/Tiffany/opt/anaconda3/lib/python3.7/site-packages/statsmodels/tsa/base/tsa_model.py:165: ValueWarning: No frequency information was provided, so inferred frequency 2AS-JAN will be used.\n",
      "  % freq, ValueWarning)\n",
      "/Users/Tiffany/opt/anaconda3/lib/python3.7/site-packages/statsmodels/tsa/base/tsa_model.py:165: ValueWarning: No frequency information was provided, so inferred frequency 2AS-JAN will be used.\n",
      "  % freq, ValueWarning)\n",
      "/Users/Tiffany/opt/anaconda3/lib/python3.7/site-packages/statsmodels/tsa/statespace/sarimax.py:949: UserWarning: Non-stationary starting autoregressive parameters found. Using zeros as starting parameters.\n",
      "  warn('Non-stationary starting autoregressive parameters'\n",
      "/Users/Tiffany/opt/anaconda3/lib/python3.7/site-packages/statsmodels/tsa/base/tsa_model.py:165: ValueWarning: No frequency information was provided, so inferred frequency 2AS-JAN will be used.\n",
      "  % freq, ValueWarning)\n"
     ]
    },
    {
     "name": "stdout",
     "output_type": "stream",
     "text": [
      "Sagittarius Dwarf Irregular Galaxy (SagDIG)\n",
      "6.750312379614801e-07\n",
      "KKh 98\n"
     ]
    },
    {
     "name": "stderr",
     "output_type": "stream",
     "text": [
      "/Users/Tiffany/opt/anaconda3/lib/python3.7/site-packages/statsmodels/base/model.py:512: ConvergenceWarning: Maximum Likelihood optimization failed to converge. Check mle_retvals\n",
      "  \"Check mle_retvals\", ConvergenceWarning)\n",
      "/Users/Tiffany/opt/anaconda3/lib/python3.7/site-packages/statsmodels/tsa/base/tsa_model.py:165: ValueWarning: No frequency information was provided, so inferred frequency 2AS-JAN will be used.\n",
      "  % freq, ValueWarning)\n",
      "/Users/Tiffany/opt/anaconda3/lib/python3.7/site-packages/statsmodels/tsa/base/tsa_model.py:165: ValueWarning: No frequency information was provided, so inferred frequency 2AS-JAN will be used.\n",
      "  % freq, ValueWarning)\n",
      "/Users/Tiffany/opt/anaconda3/lib/python3.7/site-packages/statsmodels/tsa/base/tsa_model.py:165: ValueWarning: No frequency information was provided, so inferred frequency 2AS-JAN will be used.\n",
      "  % freq, ValueWarning)\n",
      "/Users/Tiffany/opt/anaconda3/lib/python3.7/site-packages/statsmodels/tsa/base/tsa_model.py:165: ValueWarning: No frequency information was provided, so inferred frequency 2AS-JAN will be used.\n",
      "  % freq, ValueWarning)\n",
      "/Users/Tiffany/opt/anaconda3/lib/python3.7/site-packages/statsmodels/base/model.py:512: ConvergenceWarning: Maximum Likelihood optimization failed to converge. Check mle_retvals\n",
      "  \"Check mle_retvals\", ConvergenceWarning)\n",
      "/Users/Tiffany/opt/anaconda3/lib/python3.7/site-packages/statsmodels/tsa/base/tsa_model.py:219: ValueWarning: A date index has been provided, but it has no associated frequency information and so will be ignored when e.g. forecasting.\n",
      "  ' ignored when e.g. forecasting.', ValueWarning)\n",
      "/Users/Tiffany/opt/anaconda3/lib/python3.7/site-packages/statsmodels/tsa/base/tsa_model.py:165: ValueWarning: No frequency information was provided, so inferred frequency 2AS-JAN will be used.\n",
      "  % freq, ValueWarning)\n"
     ]
    },
    {
     "name": "stdout",
     "output_type": "stream",
     "text": [
      "9.989460175021464e-07\n",
      "NGC 1560\n",
      "3.5697633210492503e-07\n"
     ]
    },
    {
     "name": "stderr",
     "output_type": "stream",
     "text": [
      "/Users/Tiffany/opt/anaconda3/lib/python3.7/site-packages/statsmodels/tsa/base/tsa_model.py:165: ValueWarning: No frequency information was provided, so inferred frequency 2AS-JAN will be used.\n",
      "  % freq, ValueWarning)\n",
      "/Users/Tiffany/opt/anaconda3/lib/python3.7/site-packages/statsmodels/base/model.py:512: ConvergenceWarning: Maximum Likelihood optimization failed to converge. Check mle_retvals\n",
      "  \"Check mle_retvals\", ConvergenceWarning)\n",
      "/Users/Tiffany/opt/anaconda3/lib/python3.7/site-packages/statsmodels/tsa/base/tsa_model.py:165: ValueWarning: No frequency information was provided, so inferred frequency 2AS-JAN will be used.\n",
      "  % freq, ValueWarning)\n",
      "/Users/Tiffany/opt/anaconda3/lib/python3.7/site-packages/statsmodels/base/model.py:512: ConvergenceWarning: Maximum Likelihood optimization failed to converge. Check mle_retvals\n",
      "  \"Check mle_retvals\", ConvergenceWarning)\n",
      "/Users/Tiffany/opt/anaconda3/lib/python3.7/site-packages/statsmodels/tsa/base/tsa_model.py:165: ValueWarning: No frequency information was provided, so inferred frequency 2AS-JAN will be used.\n",
      "  % freq, ValueWarning)\n",
      "/Users/Tiffany/opt/anaconda3/lib/python3.7/site-packages/statsmodels/tsa/base/tsa_model.py:165: ValueWarning: No frequency information was provided, so inferred frequency 2AS-JAN will be used.\n",
      "  % freq, ValueWarning)\n",
      "/Users/Tiffany/opt/anaconda3/lib/python3.7/site-packages/statsmodels/tsa/base/tsa_model.py:165: ValueWarning: No frequency information was provided, so inferred frequency 2AS-JAN will be used.\n",
      "  % freq, ValueWarning)\n"
     ]
    },
    {
     "name": "stdout",
     "output_type": "stream",
     "text": [
      "NGC 3109\n",
      "8.675468738506704e-08\n",
      "NGC 247\n"
     ]
    },
    {
     "name": "stderr",
     "output_type": "stream",
     "text": [
      "/Users/Tiffany/opt/anaconda3/lib/python3.7/site-packages/statsmodels/tsa/base/tsa_model.py:165: ValueWarning: No frequency information was provided, so inferred frequency 2AS-JAN will be used.\n",
      "  % freq, ValueWarning)\n",
      "/Users/Tiffany/opt/anaconda3/lib/python3.7/site-packages/statsmodels/base/model.py:512: ConvergenceWarning: Maximum Likelihood optimization failed to converge. Check mle_retvals\n",
      "  \"Check mle_retvals\", ConvergenceWarning)\n",
      "/Users/Tiffany/opt/anaconda3/lib/python3.7/site-packages/statsmodels/tsa/base/tsa_model.py:219: ValueWarning: A date index has been provided, but it has no associated frequency information and so will be ignored when e.g. forecasting.\n",
      "  ' ignored when e.g. forecasting.', ValueWarning)\n",
      "/Users/Tiffany/opt/anaconda3/lib/python3.7/site-packages/statsmodels/tsa/base/tsa_model.py:165: ValueWarning: No frequency information was provided, so inferred frequency 2AS-JAN will be used.\n",
      "  % freq, ValueWarning)\n",
      "/Users/Tiffany/opt/anaconda3/lib/python3.7/site-packages/statsmodels/tsa/base/tsa_model.py:165: ValueWarning: No frequency information was provided, so inferred frequency 2AS-JAN will be used.\n",
      "  % freq, ValueWarning)\n"
     ]
    },
    {
     "name": "stdout",
     "output_type": "stream",
     "text": [
      "8.344575964156179e-07\n",
      "NGC 2403\n",
      "5.150407398763694e-06\n"
     ]
    },
    {
     "name": "stderr",
     "output_type": "stream",
     "text": [
      "/Users/Tiffany/opt/anaconda3/lib/python3.7/site-packages/statsmodels/base/model.py:512: ConvergenceWarning: Maximum Likelihood optimization failed to converge. Check mle_retvals\n",
      "  \"Check mle_retvals\", ConvergenceWarning)\n",
      "/Users/Tiffany/opt/anaconda3/lib/python3.7/site-packages/statsmodels/tsa/base/tsa_model.py:165: ValueWarning: No frequency information was provided, so inferred frequency 2AS-JAN will be used.\n",
      "  % freq, ValueWarning)\n",
      "/Users/Tiffany/opt/anaconda3/lib/python3.7/site-packages/statsmodels/tsa/base/tsa_model.py:219: ValueWarning: A date index has been provided, but it has no associated frequency information and so will be ignored when e.g. forecasting.\n",
      "  ' ignored when e.g. forecasting.', ValueWarning)\n",
      "/Users/Tiffany/opt/anaconda3/lib/python3.7/site-packages/statsmodels/tsa/base/tsa_model.py:165: ValueWarning: No frequency information was provided, so inferred frequency 2AS-JAN will be used.\n",
      "  % freq, ValueWarning)\n",
      "/Users/Tiffany/opt/anaconda3/lib/python3.7/site-packages/statsmodels/tsa/statespace/sarimax.py:949: UserWarning: Non-stationary starting autoregressive parameters found. Using zeros as starting parameters.\n",
      "  warn('Non-stationary starting autoregressive parameters'\n",
      "/Users/Tiffany/opt/anaconda3/lib/python3.7/site-packages/statsmodels/tsa/base/tsa_model.py:165: ValueWarning: No frequency information was provided, so inferred frequency 2AS-JAN will be used.\n",
      "  % freq, ValueWarning)\n",
      "/Users/Tiffany/opt/anaconda3/lib/python3.7/site-packages/statsmodels/tsa/statespace/sarimax.py:949: UserWarning: Non-stationary starting autoregressive parameters found. Using zeros as starting parameters.\n",
      "  warn('Non-stationary starting autoregressive parameters'\n",
      "/Users/Tiffany/opt/anaconda3/lib/python3.7/site-packages/statsmodels/tsa/base/tsa_model.py:165: ValueWarning: No frequency information was provided, so inferred frequency 2AS-JAN will be used.\n",
      "  % freq, ValueWarning)\n"
     ]
    },
    {
     "name": "stdout",
     "output_type": "stream",
     "text": [
      "Andromeda XXI[57]\n",
      "1.5425256900954092e-06\n"
     ]
    },
    {
     "name": "stderr",
     "output_type": "stream",
     "text": [
      "/Users/Tiffany/opt/anaconda3/lib/python3.7/site-packages/statsmodels/tsa/base/tsa_model.py:165: ValueWarning: No frequency information was provided, so inferred frequency 2AS-JAN will be used.\n",
      "  % freq, ValueWarning)\n",
      "/Users/Tiffany/opt/anaconda3/lib/python3.7/site-packages/statsmodels/tsa/base/tsa_model.py:165: ValueWarning: No frequency information was provided, so inferred frequency 2AS-JAN will be used.\n",
      "  % freq, ValueWarning)\n",
      "/Users/Tiffany/opt/anaconda3/lib/python3.7/site-packages/statsmodels/tsa/base/tsa_model.py:165: ValueWarning: No frequency information was provided, so inferred frequency 2AS-JAN will be used.\n",
      "  % freq, ValueWarning)\n",
      "/Users/Tiffany/opt/anaconda3/lib/python3.7/site-packages/statsmodels/tsa/base/tsa_model.py:165: ValueWarning: No frequency information was provided, so inferred frequency 2AS-JAN will be used.\n",
      "  % freq, ValueWarning)\n",
      "/Users/Tiffany/opt/anaconda3/lib/python3.7/site-packages/statsmodels/tsa/statespace/sarimax.py:949: UserWarning: Non-stationary starting autoregressive parameters found. Using zeros as starting parameters.\n",
      "  warn('Non-stationary starting autoregressive parameters'\n",
      "/Users/Tiffany/opt/anaconda3/lib/python3.7/site-packages/statsmodels/base/model.py:512: ConvergenceWarning: Maximum Likelihood optimization failed to converge. Check mle_retvals\n",
      "  \"Check mle_retvals\", ConvergenceWarning)\n"
     ]
    },
    {
     "name": "stdout",
     "output_type": "stream",
     "text": [
      "Donatiello I\n",
      "1.4052038331529893e-06\n"
     ]
    },
    {
     "name": "stderr",
     "output_type": "stream",
     "text": [
      "/Users/Tiffany/opt/anaconda3/lib/python3.7/site-packages/statsmodels/tsa/base/tsa_model.py:219: ValueWarning: A date index has been provided, but it has no associated frequency information and so will be ignored when e.g. forecasting.\n",
      "  ' ignored when e.g. forecasting.', ValueWarning)\n",
      "/Users/Tiffany/opt/anaconda3/lib/python3.7/site-packages/statsmodels/tsa/base/tsa_model.py:165: ValueWarning: No frequency information was provided, so inferred frequency 2AS-JAN will be used.\n",
      "  % freq, ValueWarning)\n",
      "/Users/Tiffany/opt/anaconda3/lib/python3.7/site-packages/statsmodels/tsa/base/tsa_model.py:165: ValueWarning: No frequency information was provided, so inferred frequency 2AS-JAN will be used.\n",
      "  % freq, ValueWarning)\n",
      "/Users/Tiffany/opt/anaconda3/lib/python3.7/site-packages/statsmodels/tsa/statespace/sarimax.py:949: UserWarning: Non-stationary starting autoregressive parameters found. Using zeros as starting parameters.\n",
      "  warn('Non-stationary starting autoregressive parameters'\n",
      "/Users/Tiffany/opt/anaconda3/lib/python3.7/site-packages/statsmodels/tsa/base/tsa_model.py:165: ValueWarning: No frequency information was provided, so inferred frequency 2AS-JAN will be used.\n",
      "  % freq, ValueWarning)\n"
     ]
    },
    {
     "name": "stdout",
     "output_type": "stream",
     "text": [
      "ESO 540-032\n",
      "7.513087528034868e-08\n"
     ]
    },
    {
     "name": "stderr",
     "output_type": "stream",
     "text": [
      "/Users/Tiffany/opt/anaconda3/lib/python3.7/site-packages/statsmodels/tsa/base/tsa_model.py:219: ValueWarning: A date index has been provided, but it has no associated frequency information and so will be ignored when e.g. forecasting.\n",
      "  ' ignored when e.g. forecasting.', ValueWarning)\n",
      "/Users/Tiffany/opt/anaconda3/lib/python3.7/site-packages/statsmodels/tsa/base/tsa_model.py:165: ValueWarning: No frequency information was provided, so inferred frequency 2AS-JAN will be used.\n",
      "  % freq, ValueWarning)\n",
      "/Users/Tiffany/opt/anaconda3/lib/python3.7/site-packages/statsmodels/tsa/base/tsa_model.py:165: ValueWarning: No frequency information was provided, so inferred frequency 2AS-JAN will be used.\n",
      "  % freq, ValueWarning)\n",
      "/Users/Tiffany/opt/anaconda3/lib/python3.7/site-packages/statsmodels/tsa/statespace/sarimax.py:949: UserWarning: Non-stationary starting autoregressive parameters found. Using zeros as starting parameters.\n",
      "  warn('Non-stationary starting autoregressive parameters'\n",
      "/Users/Tiffany/opt/anaconda3/lib/python3.7/site-packages/statsmodels/base/model.py:512: ConvergenceWarning: Maximum Likelihood optimization failed to converge. Check mle_retvals\n",
      "  \"Check mle_retvals\", ConvergenceWarning)\n",
      "/Users/Tiffany/opt/anaconda3/lib/python3.7/site-packages/statsmodels/tsa/base/tsa_model.py:165: ValueWarning: No frequency information was provided, so inferred frequency 2AS-JAN will be used.\n",
      "  % freq, ValueWarning)\n",
      "/Users/Tiffany/opt/anaconda3/lib/python3.7/site-packages/statsmodels/tsa/base/tsa_model.py:219: ValueWarning: A date index has been provided, but it has no associated frequency information and so will be ignored when e.g. forecasting.\n",
      "  ' ignored when e.g. forecasting.', ValueWarning)\n",
      "/Users/Tiffany/opt/anaconda3/lib/python3.7/site-packages/statsmodels/tsa/base/tsa_model.py:165: ValueWarning: No frequency information was provided, so inferred frequency 2AS-JAN will be used.\n",
      "  % freq, ValueWarning)\n",
      "/Users/Tiffany/opt/anaconda3/lib/python3.7/site-packages/statsmodels/base/model.py:512: ConvergenceWarning: Maximum Likelihood optimization failed to converge. Check mle_retvals\n",
      "  \"Check mle_retvals\", ConvergenceWarning)\n",
      "/Users/Tiffany/opt/anaconda3/lib/python3.7/site-packages/statsmodels/tsa/base/tsa_model.py:165: ValueWarning: No frequency information was provided, so inferred frequency 2AS-JAN will be used.\n",
      "  % freq, ValueWarning)\n"
     ]
    },
    {
     "name": "stdout",
     "output_type": "stream",
     "text": [
      "Draco Dwarf (DDO 208)\n",
      "2.413417912151428e-07\n",
      "Cassiopeia II (Andromeda XXX)\n"
     ]
    },
    {
     "name": "stderr",
     "output_type": "stream",
     "text": [
      "/Users/Tiffany/opt/anaconda3/lib/python3.7/site-packages/statsmodels/tsa/base/tsa_model.py:165: ValueWarning: No frequency information was provided, so inferred frequency 2AS-JAN will be used.\n",
      "  % freq, ValueWarning)\n",
      "/Users/Tiffany/opt/anaconda3/lib/python3.7/site-packages/statsmodels/tsa/base/tsa_model.py:219: ValueWarning: A date index has been provided, but it has no associated frequency information and so will be ignored when e.g. forecasting.\n",
      "  ' ignored when e.g. forecasting.', ValueWarning)\n",
      "/Users/Tiffany/opt/anaconda3/lib/python3.7/site-packages/statsmodels/tsa/base/tsa_model.py:165: ValueWarning: No frequency information was provided, so inferred frequency 2AS-JAN will be used.\n",
      "  % freq, ValueWarning)\n",
      "/Users/Tiffany/opt/anaconda3/lib/python3.7/site-packages/statsmodels/tsa/base/tsa_model.py:165: ValueWarning: No frequency information was provided, so inferred frequency 2AS-JAN will be used.\n",
      "  % freq, ValueWarning)\n",
      "/Users/Tiffany/opt/anaconda3/lib/python3.7/site-packages/statsmodels/tsa/base/tsa_model.py:165: ValueWarning: No frequency information was provided, so inferred frequency 2AS-JAN will be used.\n",
      "  % freq, ValueWarning)\n",
      "/Users/Tiffany/opt/anaconda3/lib/python3.7/site-packages/statsmodels/tsa/base/tsa_model.py:219: ValueWarning: A date index has been provided, but it has no associated frequency information and so will be ignored when e.g. forecasting.\n",
      "  ' ignored when e.g. forecasting.', ValueWarning)\n",
      "/Users/Tiffany/opt/anaconda3/lib/python3.7/site-packages/statsmodels/tsa/base/tsa_model.py:165: ValueWarning: No frequency information was provided, so inferred frequency 2AS-JAN will be used.\n",
      "  % freq, ValueWarning)\n"
     ]
    },
    {
     "name": "stdout",
     "output_type": "stream",
     "text": [
      "2.7263150449896067e-07\n",
      "Boötes I\n",
      "8.421057764900618e-07\n"
     ]
    },
    {
     "name": "stderr",
     "output_type": "stream",
     "text": [
      "/Users/Tiffany/opt/anaconda3/lib/python3.7/site-packages/statsmodels/tsa/base/tsa_model.py:165: ValueWarning: No frequency information was provided, so inferred frequency 2AS-JAN will be used.\n",
      "  % freq, ValueWarning)\n",
      "/Users/Tiffany/opt/anaconda3/lib/python3.7/site-packages/statsmodels/tsa/base/tsa_model.py:165: ValueWarning: No frequency information was provided, so inferred frequency 2AS-JAN will be used.\n",
      "  % freq, ValueWarning)\n",
      "/Users/Tiffany/opt/anaconda3/lib/python3.7/site-packages/statsmodels/tsa/base/tsa_model.py:219: ValueWarning: A date index has been provided, but it has no associated frequency information and so will be ignored when e.g. forecasting.\n",
      "  ' ignored when e.g. forecasting.', ValueWarning)\n",
      "/Users/Tiffany/opt/anaconda3/lib/python3.7/site-packages/statsmodels/tsa/base/tsa_model.py:165: ValueWarning: No frequency information was provided, so inferred frequency 2AS-JAN will be used.\n",
      "  % freq, ValueWarning)\n",
      "/Users/Tiffany/opt/anaconda3/lib/python3.7/site-packages/statsmodels/tsa/statespace/sarimax.py:949: UserWarning: Non-stationary starting autoregressive parameters found. Using zeros as starting parameters.\n",
      "  warn('Non-stationary starting autoregressive parameters'\n",
      "/Users/Tiffany/opt/anaconda3/lib/python3.7/site-packages/statsmodels/tsa/base/tsa_model.py:165: ValueWarning: No frequency information was provided, so inferred frequency 2AS-JAN will be used.\n",
      "  % freq, ValueWarning)\n",
      "/Users/Tiffany/opt/anaconda3/lib/python3.7/site-packages/statsmodels/tsa/statespace/sarimax.py:949: UserWarning: Non-stationary starting autoregressive parameters found. Using zeros as starting parameters.\n",
      "  warn('Non-stationary starting autoregressive parameters'\n"
     ]
    },
    {
     "name": "stdout",
     "output_type": "stream",
     "text": [
      "Maffei 1\n",
      "3.8305869031567296e-05\n"
     ]
    },
    {
     "name": "stderr",
     "output_type": "stream",
     "text": [
      "/Users/Tiffany/opt/anaconda3/lib/python3.7/site-packages/statsmodels/tsa/base/tsa_model.py:165: ValueWarning: No frequency information was provided, so inferred frequency 2AS-JAN will be used.\n",
      "  % freq, ValueWarning)\n",
      "/Users/Tiffany/opt/anaconda3/lib/python3.7/site-packages/statsmodels/tsa/base/tsa_model.py:219: ValueWarning: A date index has been provided, but it has no associated frequency information and so will be ignored when e.g. forecasting.\n",
      "  ' ignored when e.g. forecasting.', ValueWarning)\n",
      "/Users/Tiffany/opt/anaconda3/lib/python3.7/site-packages/statsmodels/tsa/base/tsa_model.py:165: ValueWarning: No frequency information was provided, so inferred frequency 2AS-JAN will be used.\n",
      "  % freq, ValueWarning)\n",
      "/Users/Tiffany/opt/anaconda3/lib/python3.7/site-packages/statsmodels/base/model.py:512: ConvergenceWarning: Maximum Likelihood optimization failed to converge. Check mle_retvals\n",
      "  \"Check mle_retvals\", ConvergenceWarning)\n",
      "/Users/Tiffany/opt/anaconda3/lib/python3.7/site-packages/statsmodels/tsa/base/tsa_model.py:165: ValueWarning: No frequency information was provided, so inferred frequency 2AS-JAN will be used.\n",
      "  % freq, ValueWarning)\n",
      "/Users/Tiffany/opt/anaconda3/lib/python3.7/site-packages/statsmodels/tsa/base/tsa_model.py:165: ValueWarning: No frequency information was provided, so inferred frequency 2AS-JAN will be used.\n",
      "  % freq, ValueWarning)\n"
     ]
    },
    {
     "name": "stdout",
     "output_type": "stream",
     "text": [
      "Barnard's Galaxy (NGC 6822)\n",
      "5.247051395689541e-07\n",
      "KKR 03 (KK98 230)\n"
     ]
    },
    {
     "name": "stderr",
     "output_type": "stream",
     "text": [
      "/Users/Tiffany/opt/anaconda3/lib/python3.7/site-packages/statsmodels/tsa/base/tsa_model.py:165: ValueWarning: No frequency information was provided, so inferred frequency 2AS-JAN will be used.\n",
      "  % freq, ValueWarning)\n",
      "/Users/Tiffany/opt/anaconda3/lib/python3.7/site-packages/statsmodels/tsa/base/tsa_model.py:165: ValueWarning: No frequency information was provided, so inferred frequency 2AS-JAN will be used.\n",
      "  % freq, ValueWarning)\n",
      "/Users/Tiffany/opt/anaconda3/lib/python3.7/site-packages/statsmodels/tsa/base/tsa_model.py:165: ValueWarning: No frequency information was provided, so inferred frequency 2AS-JAN will be used.\n",
      "  % freq, ValueWarning)\n",
      "/Users/Tiffany/opt/anaconda3/lib/python3.7/site-packages/statsmodels/tsa/base/tsa_model.py:165: ValueWarning: No frequency information was provided, so inferred frequency 2AS-JAN will be used.\n",
      "  % freq, ValueWarning)\n",
      "/Users/Tiffany/opt/anaconda3/lib/python3.7/site-packages/statsmodels/tsa/base/tsa_model.py:165: ValueWarning: No frequency information was provided, so inferred frequency 2AS-JAN will be used.\n",
      "  % freq, ValueWarning)\n",
      "/Users/Tiffany/opt/anaconda3/lib/python3.7/site-packages/statsmodels/tsa/base/tsa_model.py:165: ValueWarning: No frequency information was provided, so inferred frequency 2AS-JAN will be used.\n",
      "  % freq, ValueWarning)\n"
     ]
    },
    {
     "name": "stdout",
     "output_type": "stream",
     "text": [
      "4.957288609944019e-07\n",
      "M32 (NGC 221)\n",
      "3.3784542672492447e-06\n"
     ]
    },
    {
     "name": "stderr",
     "output_type": "stream",
     "text": [
      "/Users/Tiffany/opt/anaconda3/lib/python3.7/site-packages/statsmodels/tsa/base/tsa_model.py:165: ValueWarning: No frequency information was provided, so inferred frequency 2AS-JAN will be used.\n",
      "  % freq, ValueWarning)\n",
      "/Users/Tiffany/opt/anaconda3/lib/python3.7/site-packages/statsmodels/tsa/base/tsa_model.py:165: ValueWarning: No frequency information was provided, so inferred frequency 2AS-JAN will be used.\n",
      "  % freq, ValueWarning)\n",
      "/Users/Tiffany/opt/anaconda3/lib/python3.7/site-packages/statsmodels/tsa/base/tsa_model.py:219: ValueWarning: A date index has been provided, but it has no associated frequency information and so will be ignored when e.g. forecasting.\n",
      "  ' ignored when e.g. forecasting.', ValueWarning)\n",
      "/Users/Tiffany/opt/anaconda3/lib/python3.7/site-packages/statsmodels/tsa/base/tsa_model.py:165: ValueWarning: No frequency information was provided, so inferred frequency 2AS-JAN will be used.\n",
      "  % freq, ValueWarning)\n",
      "/Users/Tiffany/opt/anaconda3/lib/python3.7/site-packages/statsmodels/base/model.py:512: ConvergenceWarning: Maximum Likelihood optimization failed to converge. Check mle_retvals\n",
      "  \"Check mle_retvals\", ConvergenceWarning)\n",
      "/Users/Tiffany/opt/anaconda3/lib/python3.7/site-packages/statsmodels/tsa/base/tsa_model.py:165: ValueWarning: No frequency information was provided, so inferred frequency 2AS-JAN will be used.\n",
      "  % freq, ValueWarning)\n"
     ]
    },
    {
     "name": "stdout",
     "output_type": "stream",
     "text": [
      "Boötes III\n",
      "3.906405060918728e-08\n",
      "Pegasus Dwarf Sph (And VI)\n"
     ]
    },
    {
     "name": "stderr",
     "output_type": "stream",
     "text": [
      "/Users/Tiffany/opt/anaconda3/lib/python3.7/site-packages/statsmodels/tsa/base/tsa_model.py:165: ValueWarning: No frequency information was provided, so inferred frequency 2AS-JAN will be used.\n",
      "  % freq, ValueWarning)\n",
      "/Users/Tiffany/opt/anaconda3/lib/python3.7/site-packages/statsmodels/tsa/base/tsa_model.py:165: ValueWarning: No frequency information was provided, so inferred frequency 2AS-JAN will be used.\n",
      "  % freq, ValueWarning)\n",
      "/Users/Tiffany/opt/anaconda3/lib/python3.7/site-packages/statsmodels/tsa/base/tsa_model.py:165: ValueWarning: No frequency information was provided, so inferred frequency 2AS-JAN will be used.\n",
      "  % freq, ValueWarning)\n",
      "/Users/Tiffany/opt/anaconda3/lib/python3.7/site-packages/statsmodels/tsa/statespace/sarimax.py:949: UserWarning: Non-stationary starting autoregressive parameters found. Using zeros as starting parameters.\n",
      "  warn('Non-stationary starting autoregressive parameters'\n",
      "/Users/Tiffany/opt/anaconda3/lib/python3.7/site-packages/statsmodels/base/model.py:512: ConvergenceWarning: Maximum Likelihood optimization failed to converge. Check mle_retvals\n",
      "  \"Check mle_retvals\", ConvergenceWarning)\n",
      "/Users/Tiffany/opt/anaconda3/lib/python3.7/site-packages/statsmodels/tsa/base/tsa_model.py:165: ValueWarning: No frequency information was provided, so inferred frequency 2AS-JAN will be used.\n",
      "  % freq, ValueWarning)\n",
      "/Users/Tiffany/opt/anaconda3/lib/python3.7/site-packages/statsmodels/tsa/statespace/sarimax.py:949: UserWarning: Non-stationary starting autoregressive parameters found. Using zeros as starting parameters.\n",
      "  warn('Non-stationary starting autoregressive parameters'\n"
     ]
    },
    {
     "name": "stdout",
     "output_type": "stream",
     "text": [
      "2.0596039339462274e-05\n",
      "Sextans Dwarf Sph\n"
     ]
    },
    {
     "name": "stderr",
     "output_type": "stream",
     "text": [
      "/Users/Tiffany/opt/anaconda3/lib/python3.7/site-packages/statsmodels/tsa/base/tsa_model.py:165: ValueWarning: No frequency information was provided, so inferred frequency 2AS-JAN will be used.\n",
      "  % freq, ValueWarning)\n",
      "/Users/Tiffany/opt/anaconda3/lib/python3.7/site-packages/statsmodels/tsa/base/tsa_model.py:219: ValueWarning: A date index has been provided, but it has no associated frequency information and so will be ignored when e.g. forecasting.\n",
      "  ' ignored when e.g. forecasting.', ValueWarning)\n",
      "/Users/Tiffany/opt/anaconda3/lib/python3.7/site-packages/statsmodels/tsa/base/tsa_model.py:165: ValueWarning: No frequency information was provided, so inferred frequency 2AS-JAN will be used.\n",
      "  % freq, ValueWarning)\n",
      "/Users/Tiffany/opt/anaconda3/lib/python3.7/site-packages/statsmodels/base/model.py:512: ConvergenceWarning: Maximum Likelihood optimization failed to converge. Check mle_retvals\n",
      "  \"Check mle_retvals\", ConvergenceWarning)\n",
      "/Users/Tiffany/opt/anaconda3/lib/python3.7/site-packages/statsmodels/tsa/base/tsa_model.py:165: ValueWarning: No frequency information was provided, so inferred frequency 2AS-JAN will be used.\n",
      "  % freq, ValueWarning)\n"
     ]
    },
    {
     "name": "stdout",
     "output_type": "stream",
     "text": [
      "8.30197894619882e-07\n",
      "Cassiopeia III (Andromeda XXXII)\n"
     ]
    },
    {
     "name": "stderr",
     "output_type": "stream",
     "text": [
      "/Users/Tiffany/opt/anaconda3/lib/python3.7/site-packages/statsmodels/base/model.py:512: ConvergenceWarning: Maximum Likelihood optimization failed to converge. Check mle_retvals\n",
      "  \"Check mle_retvals\", ConvergenceWarning)\n",
      "/Users/Tiffany/opt/anaconda3/lib/python3.7/site-packages/statsmodels/tsa/base/tsa_model.py:165: ValueWarning: No frequency information was provided, so inferred frequency 2AS-JAN will be used.\n",
      "  % freq, ValueWarning)\n",
      "/Users/Tiffany/opt/anaconda3/lib/python3.7/site-packages/statsmodels/tsa/base/tsa_model.py:165: ValueWarning: No frequency information was provided, so inferred frequency 2AS-JAN will be used.\n",
      "  % freq, ValueWarning)\n",
      "/Users/Tiffany/opt/anaconda3/lib/python3.7/site-packages/statsmodels/tsa/base/tsa_model.py:165: ValueWarning: No frequency information was provided, so inferred frequency 2AS-JAN will be used.\n",
      "  % freq, ValueWarning)\n",
      "/Users/Tiffany/opt/anaconda3/lib/python3.7/site-packages/statsmodels/tsa/statespace/sarimax.py:949: UserWarning: Non-stationary starting autoregressive parameters found. Using zeros as starting parameters.\n",
      "  warn('Non-stationary starting autoregressive parameters'\n",
      "/Users/Tiffany/opt/anaconda3/lib/python3.7/site-packages/statsmodels/tsa/base/tsa_model.py:165: ValueWarning: No frequency information was provided, so inferred frequency 2AS-JAN will be used.\n",
      "  % freq, ValueWarning)\n",
      "/Users/Tiffany/opt/anaconda3/lib/python3.7/site-packages/statsmodels/tsa/base/tsa_model.py:165: ValueWarning: No frequency information was provided, so inferred frequency 2AS-JAN will be used.\n",
      "  % freq, ValueWarning)\n"
     ]
    },
    {
     "name": "stdout",
     "output_type": "stream",
     "text": [
      "2.54930239304222e-06\n",
      "Sextans A (92205, DDO 75)\n",
      "7.847533856845667e-07\n"
     ]
    },
    {
     "name": "stderr",
     "output_type": "stream",
     "text": [
      "/Users/Tiffany/opt/anaconda3/lib/python3.7/site-packages/statsmodels/tsa/base/tsa_model.py:219: ValueWarning: A date index has been provided, but it has no associated frequency information and so will be ignored when e.g. forecasting.\n",
      "  ' ignored when e.g. forecasting.', ValueWarning)\n",
      "/Users/Tiffany/opt/anaconda3/lib/python3.7/site-packages/statsmodels/tsa/base/tsa_model.py:165: ValueWarning: No frequency information was provided, so inferred frequency 2AS-JAN will be used.\n",
      "  % freq, ValueWarning)\n",
      "/Users/Tiffany/opt/anaconda3/lib/python3.7/site-packages/statsmodels/base/model.py:512: ConvergenceWarning: Maximum Likelihood optimization failed to converge. Check mle_retvals\n",
      "  \"Check mle_retvals\", ConvergenceWarning)\n",
      "/Users/Tiffany/opt/anaconda3/lib/python3.7/site-packages/statsmodels/tsa/base/tsa_model.py:165: ValueWarning: No frequency information was provided, so inferred frequency 2AS-JAN will be used.\n",
      "  % freq, ValueWarning)\n",
      "/Users/Tiffany/opt/anaconda3/lib/python3.7/site-packages/statsmodels/base/model.py:512: ConvergenceWarning: Maximum Likelihood optimization failed to converge. Check mle_retvals\n",
      "  \"Check mle_retvals\", ConvergenceWarning)\n",
      "/Users/Tiffany/opt/anaconda3/lib/python3.7/site-packages/statsmodels/tsa/base/tsa_model.py:165: ValueWarning: No frequency information was provided, so inferred frequency 2AS-JAN will be used.\n",
      "  % freq, ValueWarning)\n",
      "/Users/Tiffany/opt/anaconda3/lib/python3.7/site-packages/statsmodels/base/model.py:512: ConvergenceWarning: Maximum Likelihood optimization failed to converge. Check mle_retvals\n",
      "  \"Check mle_retvals\", ConvergenceWarning)\n",
      "/Users/Tiffany/opt/anaconda3/lib/python3.7/site-packages/statsmodels/tsa/base/tsa_model.py:165: ValueWarning: No frequency information was provided, so inferred frequency 2AS-JAN will be used.\n",
      "  % freq, ValueWarning)\n",
      "/Users/Tiffany/opt/anaconda3/lib/python3.7/site-packages/statsmodels/tsa/base/tsa_model.py:165: ValueWarning: No frequency information was provided, so inferred frequency 2AS-JAN will be used.\n",
      "  % freq, ValueWarning)\n",
      "/Users/Tiffany/opt/anaconda3/lib/python3.7/site-packages/statsmodels/tsa/base/tsa_model.py:165: ValueWarning: No frequency information was provided, so inferred frequency 2AS-JAN will be used.\n",
      "  % freq, ValueWarning)\n",
      "/Users/Tiffany/opt/anaconda3/lib/python3.7/site-packages/statsmodels/base/model.py:512: ConvergenceWarning: Maximum Likelihood optimization failed to converge. Check mle_retvals\n",
      "  \"Check mle_retvals\", ConvergenceWarning)\n",
      "/Users/Tiffany/opt/anaconda3/lib/python3.7/site-packages/statsmodels/tsa/base/tsa_model.py:165: ValueWarning: No frequency information was provided, so inferred frequency 2AS-JAN will be used.\n",
      "  % freq, ValueWarning)\n",
      "/Users/Tiffany/opt/anaconda3/lib/python3.7/site-packages/statsmodels/tsa/base/tsa_model.py:165: ValueWarning: No frequency information was provided, so inferred frequency 2AS-JAN will be used.\n",
      "  % freq, ValueWarning)\n",
      "/Users/Tiffany/opt/anaconda3/lib/python3.7/site-packages/statsmodels/tsa/base/tsa_model.py:165: ValueWarning: No frequency information was provided, so inferred frequency 2AS-JAN will be used.\n",
      "  % freq, ValueWarning)\n"
     ]
    },
    {
     "name": "stdout",
     "output_type": "stream",
     "text": [
      "NGC 147 (DDO 3)\n",
      "3.2078568416167097e-07\n",
      "Andromeda XXIV\n"
     ]
    },
    {
     "name": "stderr",
     "output_type": "stream",
     "text": [
      "/Users/Tiffany/opt/anaconda3/lib/python3.7/site-packages/statsmodels/base/model.py:512: ConvergenceWarning: Maximum Likelihood optimization failed to converge. Check mle_retvals\n",
      "  \"Check mle_retvals\", ConvergenceWarning)\n",
      "/Users/Tiffany/opt/anaconda3/lib/python3.7/site-packages/statsmodels/tsa/base/tsa_model.py:165: ValueWarning: No frequency information was provided, so inferred frequency 2AS-JAN will be used.\n",
      "  % freq, ValueWarning)\n",
      "/Users/Tiffany/opt/anaconda3/lib/python3.7/site-packages/statsmodels/tsa/base/tsa_model.py:165: ValueWarning: No frequency information was provided, so inferred frequency 2AS-JAN will be used.\n",
      "  % freq, ValueWarning)\n",
      "/Users/Tiffany/opt/anaconda3/lib/python3.7/site-packages/statsmodels/base/model.py:512: ConvergenceWarning: Maximum Likelihood optimization failed to converge. Check mle_retvals\n",
      "  \"Check mle_retvals\", ConvergenceWarning)\n",
      "/Users/Tiffany/opt/anaconda3/lib/python3.7/site-packages/statsmodels/tsa/base/tsa_model.py:165: ValueWarning: No frequency information was provided, so inferred frequency 2AS-JAN will be used.\n",
      "  % freq, ValueWarning)\n",
      "/Users/Tiffany/opt/anaconda3/lib/python3.7/site-packages/statsmodels/tsa/base/tsa_model.py:165: ValueWarning: No frequency information was provided, so inferred frequency 2AS-JAN will be used.\n",
      "  % freq, ValueWarning)\n",
      "/Users/Tiffany/opt/anaconda3/lib/python3.7/site-packages/statsmodels/tsa/base/tsa_model.py:165: ValueWarning: No frequency information was provided, so inferred frequency 2AS-JAN will be used.\n",
      "  % freq, ValueWarning)\n"
     ]
    },
    {
     "name": "stdout",
     "output_type": "stream",
     "text": [
      "1.5954751295901362e-06\n",
      "Aquarius Dwarf Galaxy (DDO 210)\n",
      "2.078431396722072e-07\n"
     ]
    },
    {
     "name": "stderr",
     "output_type": "stream",
     "text": [
      "/Users/Tiffany/opt/anaconda3/lib/python3.7/site-packages/statsmodels/tsa/base/tsa_model.py:165: ValueWarning: No frequency information was provided, so inferred frequency 2AS-JAN will be used.\n",
      "  % freq, ValueWarning)\n",
      "/Users/Tiffany/opt/anaconda3/lib/python3.7/site-packages/statsmodels/tsa/base/tsa_model.py:219: ValueWarning: A date index has been provided, but it has no associated frequency information and so will be ignored when e.g. forecasting.\n",
      "  ' ignored when e.g. forecasting.', ValueWarning)\n",
      "/Users/Tiffany/opt/anaconda3/lib/python3.7/site-packages/statsmodels/tsa/base/tsa_model.py:165: ValueWarning: No frequency information was provided, so inferred frequency 2AS-JAN will be used.\n",
      "  % freq, ValueWarning)\n",
      "/Users/Tiffany/opt/anaconda3/lib/python3.7/site-packages/statsmodels/base/model.py:512: ConvergenceWarning: Maximum Likelihood optimization failed to converge. Check mle_retvals\n",
      "  \"Check mle_retvals\", ConvergenceWarning)\n",
      "/Users/Tiffany/opt/anaconda3/lib/python3.7/site-packages/statsmodels/tsa/base/tsa_model.py:165: ValueWarning: No frequency information was provided, so inferred frequency 2AS-JAN will be used.\n",
      "  % freq, ValueWarning)\n"
     ]
    },
    {
     "name": "stdout",
     "output_type": "stream",
     "text": [
      "Andromeda Galaxy (M31)\n",
      "4.132993867521148e-07\n"
     ]
    },
    {
     "name": "stderr",
     "output_type": "stream",
     "text": [
      "/Users/Tiffany/opt/anaconda3/lib/python3.7/site-packages/statsmodels/tsa/base/tsa_model.py:165: ValueWarning: No frequency information was provided, so inferred frequency 2AS-JAN will be used.\n",
      "  % freq, ValueWarning)\n",
      "/Users/Tiffany/opt/anaconda3/lib/python3.7/site-packages/statsmodels/tsa/base/tsa_model.py:165: ValueWarning: No frequency information was provided, so inferred frequency 2AS-JAN will be used.\n",
      "  % freq, ValueWarning)\n",
      "/Users/Tiffany/opt/anaconda3/lib/python3.7/site-packages/statsmodels/tsa/base/tsa_model.py:165: ValueWarning: No frequency information was provided, so inferred frequency 2AS-JAN will be used.\n",
      "  % freq, ValueWarning)\n",
      "/Users/Tiffany/opt/anaconda3/lib/python3.7/site-packages/statsmodels/tsa/base/tsa_model.py:165: ValueWarning: No frequency information was provided, so inferred frequency 2AS-JAN will be used.\n",
      "  % freq, ValueWarning)\n",
      "/Users/Tiffany/opt/anaconda3/lib/python3.7/site-packages/statsmodels/tsa/base/tsa_model.py:165: ValueWarning: No frequency information was provided, so inferred frequency 2AS-JAN will be used.\n",
      "  % freq, ValueWarning)\n",
      "/Users/Tiffany/opt/anaconda3/lib/python3.7/site-packages/statsmodels/tsa/base/tsa_model.py:219: ValueWarning: A date index has been provided, but it has no associated frequency information and so will be ignored when e.g. forecasting.\n",
      "  ' ignored when e.g. forecasting.', ValueWarning)\n",
      "/Users/Tiffany/opt/anaconda3/lib/python3.7/site-packages/statsmodels/tsa/base/tsa_model.py:165: ValueWarning: No frequency information was provided, so inferred frequency 2AS-JAN will be used.\n",
      "  % freq, ValueWarning)\n"
     ]
    },
    {
     "name": "stdout",
     "output_type": "stream",
     "text": [
      "NGC 300\n",
      "4.320564334923609e-07\n",
      "KKs 3\n",
      "1.8010031232568943e-07\n",
      "Antlia B\n",
      "3.842137708090854e-08\n"
     ]
    },
    {
     "name": "stderr",
     "output_type": "stream",
     "text": [
      "/Users/Tiffany/opt/anaconda3/lib/python3.7/site-packages/statsmodels/tsa/base/tsa_model.py:165: ValueWarning: No frequency information was provided, so inferred frequency 2AS-JAN will be used.\n",
      "  % freq, ValueWarning)\n",
      "/Users/Tiffany/opt/anaconda3/lib/python3.7/site-packages/statsmodels/tsa/base/tsa_model.py:165: ValueWarning: No frequency information was provided, so inferred frequency 2AS-JAN will be used.\n",
      "  % freq, ValueWarning)\n",
      "/Users/Tiffany/opt/anaconda3/lib/python3.7/site-packages/statsmodels/base/model.py:512: ConvergenceWarning: Maximum Likelihood optimization failed to converge. Check mle_retvals\n",
      "  \"Check mle_retvals\", ConvergenceWarning)\n",
      "/Users/Tiffany/opt/anaconda3/lib/python3.7/site-packages/statsmodels/tsa/base/tsa_model.py:219: ValueWarning: A date index has been provided, but it has no associated frequency information and so will be ignored when e.g. forecasting.\n",
      "  ' ignored when e.g. forecasting.', ValueWarning)\n",
      "/Users/Tiffany/opt/anaconda3/lib/python3.7/site-packages/statsmodels/tsa/base/tsa_model.py:165: ValueWarning: No frequency information was provided, so inferred frequency 2AS-JAN will be used.\n",
      "  % freq, ValueWarning)\n",
      "/Users/Tiffany/opt/anaconda3/lib/python3.7/site-packages/statsmodels/base/model.py:512: ConvergenceWarning: Maximum Likelihood optimization failed to converge. Check mle_retvals\n",
      "  \"Check mle_retvals\", ConvergenceWarning)\n",
      "/Users/Tiffany/opt/anaconda3/lib/python3.7/site-packages/statsmodels/tsa/base/tsa_model.py:165: ValueWarning: No frequency information was provided, so inferred frequency 2AS-JAN will be used.\n",
      "  % freq, ValueWarning)\n",
      "/Users/Tiffany/opt/anaconda3/lib/python3.7/site-packages/statsmodels/tsa/base/tsa_model.py:165: ValueWarning: No frequency information was provided, so inferred frequency 2AS-JAN will be used.\n",
      "  % freq, ValueWarning)\n",
      "/Users/Tiffany/opt/anaconda3/lib/python3.7/site-packages/statsmodels/base/model.py:512: ConvergenceWarning: Maximum Likelihood optimization failed to converge. Check mle_retvals\n",
      "  \"Check mle_retvals\", ConvergenceWarning)\n",
      "/Users/Tiffany/opt/anaconda3/lib/python3.7/site-packages/statsmodels/tsa/base/tsa_model.py:165: ValueWarning: No frequency information was provided, so inferred frequency 2AS-JAN will be used.\n",
      "  % freq, ValueWarning)\n",
      "/Users/Tiffany/opt/anaconda3/lib/python3.7/site-packages/statsmodels/tsa/base/tsa_model.py:165: ValueWarning: No frequency information was provided, so inferred frequency 2AS-JAN will be used.\n",
      "  % freq, ValueWarning)\n",
      "/Users/Tiffany/opt/anaconda3/lib/python3.7/site-packages/statsmodels/tsa/base/tsa_model.py:165: ValueWarning: No frequency information was provided, so inferred frequency 2AS-JAN will be used.\n",
      "  % freq, ValueWarning)\n",
      "/Users/Tiffany/opt/anaconda3/lib/python3.7/site-packages/statsmodels/tsa/base/tsa_model.py:165: ValueWarning: No frequency information was provided, so inferred frequency 2AS-JAN will be used.\n",
      "  % freq, ValueWarning)\n"
     ]
    },
    {
     "name": "stdout",
     "output_type": "stream",
     "text": [
      "Pisces II\n",
      "1.8583405625954123e-06\n",
      "GR 8 (DDO 155)\n"
     ]
    },
    {
     "name": "stderr",
     "output_type": "stream",
     "text": [
      "/Users/Tiffany/opt/anaconda3/lib/python3.7/site-packages/statsmodels/tsa/base/tsa_model.py:165: ValueWarning: No frequency information was provided, so inferred frequency 2AS-JAN will be used.\n",
      "  % freq, ValueWarning)\n",
      "/Users/Tiffany/opt/anaconda3/lib/python3.7/site-packages/statsmodels/tsa/base/tsa_model.py:165: ValueWarning: No frequency information was provided, so inferred frequency 2AS-JAN will be used.\n",
      "  % freq, ValueWarning)\n",
      "/Users/Tiffany/opt/anaconda3/lib/python3.7/site-packages/statsmodels/base/model.py:512: ConvergenceWarning: Maximum Likelihood optimization failed to converge. Check mle_retvals\n",
      "  \"Check mle_retvals\", ConvergenceWarning)\n",
      "/Users/Tiffany/opt/anaconda3/lib/python3.7/site-packages/statsmodels/tsa/base/tsa_model.py:165: ValueWarning: No frequency information was provided, so inferred frequency 2AS-JAN will be used.\n",
      "  % freq, ValueWarning)\n",
      "/Users/Tiffany/opt/anaconda3/lib/python3.7/site-packages/statsmodels/tsa/base/tsa_model.py:165: ValueWarning: No frequency information was provided, so inferred frequency 2AS-JAN will be used.\n",
      "  % freq, ValueWarning)\n",
      "/Users/Tiffany/opt/anaconda3/lib/python3.7/site-packages/statsmodels/tsa/base/tsa_model.py:219: ValueWarning: A date index has been provided, but it has no associated frequency information and so will be ignored when e.g. forecasting.\n",
      "  ' ignored when e.g. forecasting.', ValueWarning)\n"
     ]
    },
    {
     "name": "stdout",
     "output_type": "stream",
     "text": [
      "5.177178157770918e-07\n",
      "NGC 1569 (UGC 3056)\n",
      "4.3839962420501455e-07\n"
     ]
    },
    {
     "name": "stderr",
     "output_type": "stream",
     "text": [
      "/Users/Tiffany/opt/anaconda3/lib/python3.7/site-packages/statsmodels/tsa/base/tsa_model.py:165: ValueWarning: No frequency information was provided, so inferred frequency 2AS-JAN will be used.\n",
      "  % freq, ValueWarning)\n",
      "/Users/Tiffany/opt/anaconda3/lib/python3.7/site-packages/statsmodels/tsa/base/tsa_model.py:165: ValueWarning: No frequency information was provided, so inferred frequency 2AS-JAN will be used.\n",
      "  % freq, ValueWarning)\n",
      "/Users/Tiffany/opt/anaconda3/lib/python3.7/site-packages/statsmodels/tsa/base/tsa_model.py:165: ValueWarning: No frequency information was provided, so inferred frequency 2AS-JAN will be used.\n",
      "  % freq, ValueWarning)\n",
      "/Users/Tiffany/opt/anaconda3/lib/python3.7/site-packages/statsmodels/tsa/base/tsa_model.py:219: ValueWarning: A date index has been provided, but it has no associated frequency information and so will be ignored when e.g. forecasting.\n",
      "  ' ignored when e.g. forecasting.', ValueWarning)\n",
      "/Users/Tiffany/opt/anaconda3/lib/python3.7/site-packages/statsmodels/tsa/base/tsa_model.py:165: ValueWarning: No frequency information was provided, so inferred frequency 2AS-JAN will be used.\n",
      "  % freq, ValueWarning)\n",
      "/Users/Tiffany/opt/anaconda3/lib/python3.7/site-packages/statsmodels/tsa/base/tsa_model.py:165: ValueWarning: No frequency information was provided, so inferred frequency 2AS-JAN will be used.\n",
      "  % freq, ValueWarning)\n"
     ]
    },
    {
     "name": "stdout",
     "output_type": "stream",
     "text": [
      "KKR 25\n",
      "4.185623422274801e-07\n",
      "UGCA 86\n"
     ]
    },
    {
     "name": "stderr",
     "output_type": "stream",
     "text": [
      "/Users/Tiffany/opt/anaconda3/lib/python3.7/site-packages/statsmodels/base/model.py:512: ConvergenceWarning: Maximum Likelihood optimization failed to converge. Check mle_retvals\n",
      "  \"Check mle_retvals\", ConvergenceWarning)\n",
      "/Users/Tiffany/opt/anaconda3/lib/python3.7/site-packages/statsmodels/tsa/base/tsa_model.py:165: ValueWarning: No frequency information was provided, so inferred frequency 2AS-JAN will be used.\n",
      "  % freq, ValueWarning)\n",
      "/Users/Tiffany/opt/anaconda3/lib/python3.7/site-packages/statsmodels/tsa/base/tsa_model.py:219: ValueWarning: A date index has been provided, but it has no associated frequency information and so will be ignored when e.g. forecasting.\n",
      "  ' ignored when e.g. forecasting.', ValueWarning)\n",
      "/Users/Tiffany/opt/anaconda3/lib/python3.7/site-packages/statsmodels/tsa/base/tsa_model.py:165: ValueWarning: No frequency information was provided, so inferred frequency 2AS-JAN will be used.\n",
      "  % freq, ValueWarning)\n",
      "/Users/Tiffany/opt/anaconda3/lib/python3.7/site-packages/statsmodels/base/model.py:512: ConvergenceWarning: Maximum Likelihood optimization failed to converge. Check mle_retvals\n",
      "  \"Check mle_retvals\", ConvergenceWarning)\n",
      "/Users/Tiffany/opt/anaconda3/lib/python3.7/site-packages/statsmodels/tsa/base/tsa_model.py:165: ValueWarning: No frequency information was provided, so inferred frequency 2AS-JAN will be used.\n",
      "  % freq, ValueWarning)\n",
      "/Users/Tiffany/opt/anaconda3/lib/python3.7/site-packages/statsmodels/tsa/base/tsa_model.py:165: ValueWarning: No frequency information was provided, so inferred frequency 2AS-JAN will be used.\n",
      "  % freq, ValueWarning)\n"
     ]
    },
    {
     "name": "stdout",
     "output_type": "stream",
     "text": [
      "4.0762309287034423e-07\n",
      "Andromeda XXVIII\n",
      "3.130977349880351e-05\n"
     ]
    },
    {
     "name": "stderr",
     "output_type": "stream",
     "text": [
      "/Users/Tiffany/opt/anaconda3/lib/python3.7/site-packages/statsmodels/tsa/base/tsa_model.py:165: ValueWarning: No frequency information was provided, so inferred frequency 2AS-JAN will be used.\n",
      "  % freq, ValueWarning)\n",
      "/Users/Tiffany/opt/anaconda3/lib/python3.7/site-packages/statsmodels/tsa/base/tsa_model.py:165: ValueWarning: No frequency information was provided, so inferred frequency 2AS-JAN will be used.\n",
      "  % freq, ValueWarning)\n",
      "/Users/Tiffany/opt/anaconda3/lib/python3.7/site-packages/statsmodels/tsa/base/tsa_model.py:165: ValueWarning: No frequency information was provided, so inferred frequency 2AS-JAN will be used.\n",
      "  % freq, ValueWarning)\n",
      "/Users/Tiffany/opt/anaconda3/lib/python3.7/site-packages/statsmodels/tsa/statespace/sarimax.py:949: UserWarning: Non-stationary starting autoregressive parameters found. Using zeros as starting parameters.\n",
      "  warn('Non-stationary starting autoregressive parameters'\n",
      "/Users/Tiffany/opt/anaconda3/lib/python3.7/site-packages/statsmodels/tsa/base/tsa_model.py:165: ValueWarning: No frequency information was provided, so inferred frequency 2AS-JAN will be used.\n",
      "  % freq, ValueWarning)\n"
     ]
    },
    {
     "name": "stdout",
     "output_type": "stream",
     "text": [
      "Leo V Dwarf\n",
      "2.6318690372528685e-06\n",
      "Andromeda XXV\n"
     ]
    },
    {
     "name": "stderr",
     "output_type": "stream",
     "text": [
      "/Users/Tiffany/opt/anaconda3/lib/python3.7/site-packages/statsmodels/tsa/base/tsa_model.py:219: ValueWarning: A date index has been provided, but it has no associated frequency information and so will be ignored when e.g. forecasting.\n",
      "  ' ignored when e.g. forecasting.', ValueWarning)\n",
      "/Users/Tiffany/opt/anaconda3/lib/python3.7/site-packages/statsmodels/tsa/base/tsa_model.py:165: ValueWarning: No frequency information was provided, so inferred frequency 2AS-JAN will be used.\n",
      "  % freq, ValueWarning)\n",
      "/Users/Tiffany/opt/anaconda3/lib/python3.7/site-packages/statsmodels/tsa/base/tsa_model.py:165: ValueWarning: No frequency information was provided, so inferred frequency 2AS-JAN will be used.\n",
      "  % freq, ValueWarning)\n",
      "/Users/Tiffany/opt/anaconda3/lib/python3.7/site-packages/statsmodels/tsa/base/tsa_model.py:165: ValueWarning: No frequency information was provided, so inferred frequency 2AS-JAN will be used.\n",
      "  % freq, ValueWarning)\n",
      "/Users/Tiffany/opt/anaconda3/lib/python3.7/site-packages/statsmodels/tsa/base/tsa_model.py:165: ValueWarning: No frequency information was provided, so inferred frequency 2AS-JAN will be used.\n",
      "  % freq, ValueWarning)\n",
      "/Users/Tiffany/opt/anaconda3/lib/python3.7/site-packages/statsmodels/tsa/base/tsa_model.py:165: ValueWarning: No frequency information was provided, so inferred frequency 2AS-JAN will be used.\n",
      "  % freq, ValueWarning)\n",
      "/Users/Tiffany/opt/anaconda3/lib/python3.7/site-packages/statsmodels/base/model.py:512: ConvergenceWarning: Maximum Likelihood optimization failed to converge. Check mle_retvals\n",
      "  \"Check mle_retvals\", ConvergenceWarning)\n",
      "/Users/Tiffany/opt/anaconda3/lib/python3.7/site-packages/statsmodels/tsa/base/tsa_model.py:165: ValueWarning: No frequency information was provided, so inferred frequency 2AS-JAN will be used.\n",
      "  % freq, ValueWarning)\n",
      "/Users/Tiffany/opt/anaconda3/lib/python3.7/site-packages/statsmodels/base/model.py:512: ConvergenceWarning: Maximum Likelihood optimization failed to converge. Check mle_retvals\n",
      "  \"Check mle_retvals\", ConvergenceWarning)\n",
      "/Users/Tiffany/opt/anaconda3/lib/python3.7/site-packages/statsmodels/tsa/base/tsa_model.py:165: ValueWarning: No frequency information was provided, so inferred frequency 2AS-JAN will be used.\n",
      "  % freq, ValueWarning)\n",
      "/Users/Tiffany/opt/anaconda3/lib/python3.7/site-packages/statsmodels/tsa/base/tsa_model.py:219: ValueWarning: A date index has been provided, but it has no associated frequency information and so will be ignored when e.g. forecasting.\n",
      "  ' ignored when e.g. forecasting.', ValueWarning)\n",
      "/Users/Tiffany/opt/anaconda3/lib/python3.7/site-packages/statsmodels/tsa/base/tsa_model.py:165: ValueWarning: No frequency information was provided, so inferred frequency 2AS-JAN will be used.\n",
      "  % freq, ValueWarning)\n"
     ]
    },
    {
     "name": "stdout",
     "output_type": "stream",
     "text": [
      "5.846325164601614e-07\n",
      "Segue 1\n"
     ]
    },
    {
     "name": "stderr",
     "output_type": "stream",
     "text": [
      "/Users/Tiffany/opt/anaconda3/lib/python3.7/site-packages/statsmodels/tsa/base/tsa_model.py:165: ValueWarning: No frequency information was provided, so inferred frequency 2AS-JAN will be used.\n",
      "  % freq, ValueWarning)\n",
      "/Users/Tiffany/opt/anaconda3/lib/python3.7/site-packages/statsmodels/tsa/base/tsa_model.py:165: ValueWarning: No frequency information was provided, so inferred frequency 2AS-JAN will be used.\n",
      "  % freq, ValueWarning)\n",
      "/Users/Tiffany/opt/anaconda3/lib/python3.7/site-packages/statsmodels/tsa/base/tsa_model.py:219: ValueWarning: A date index has been provided, but it has no associated frequency information and so will be ignored when e.g. forecasting.\n",
      "  ' ignored when e.g. forecasting.', ValueWarning)\n",
      "/Users/Tiffany/opt/anaconda3/lib/python3.7/site-packages/statsmodels/tsa/base/tsa_model.py:165: ValueWarning: No frequency information was provided, so inferred frequency 2AS-JAN will be used.\n",
      "  % freq, ValueWarning)\n",
      "/Users/Tiffany/opt/anaconda3/lib/python3.7/site-packages/statsmodels/tsa/base/tsa_model.py:165: ValueWarning: No frequency information was provided, so inferred frequency 2AS-JAN will be used.\n",
      "  % freq, ValueWarning)\n"
     ]
    },
    {
     "name": "stdout",
     "output_type": "stream",
     "text": [
      "1.746688310616658e-07\n",
      "Pisces III (Andromeda XIII)\n",
      "1.1667757277234169e-07\n",
      "Antlia 2\n"
     ]
    },
    {
     "name": "stderr",
     "output_type": "stream",
     "text": [
      "/Users/Tiffany/opt/anaconda3/lib/python3.7/site-packages/statsmodels/tsa/base/tsa_model.py:165: ValueWarning: No frequency information was provided, so inferred frequency 2AS-JAN will be used.\n",
      "  % freq, ValueWarning)\n",
      "/Users/Tiffany/opt/anaconda3/lib/python3.7/site-packages/statsmodels/tsa/base/tsa_model.py:219: ValueWarning: A date index has been provided, but it has no associated frequency information and so will be ignored when e.g. forecasting.\n",
      "  ' ignored when e.g. forecasting.', ValueWarning)\n",
      "/Users/Tiffany/opt/anaconda3/lib/python3.7/site-packages/statsmodels/tsa/base/tsa_model.py:165: ValueWarning: No frequency information was provided, so inferred frequency 2AS-JAN will be used.\n",
      "  % freq, ValueWarning)\n",
      "/Users/Tiffany/opt/anaconda3/lib/python3.7/site-packages/statsmodels/tsa/statespace/sarimax.py:949: UserWarning: Non-stationary starting autoregressive parameters found. Using zeros as starting parameters.\n",
      "  warn('Non-stationary starting autoregressive parameters'\n",
      "/Users/Tiffany/opt/anaconda3/lib/python3.7/site-packages/statsmodels/tsa/base/tsa_model.py:165: ValueWarning: No frequency information was provided, so inferred frequency 2AS-JAN will be used.\n",
      "  % freq, ValueWarning)\n",
      "/Users/Tiffany/opt/anaconda3/lib/python3.7/site-packages/statsmodels/tsa/statespace/sarimax.py:949: UserWarning: Non-stationary starting autoregressive parameters found. Using zeros as starting parameters.\n",
      "  warn('Non-stationary starting autoregressive parameters'\n"
     ]
    },
    {
     "name": "stdout",
     "output_type": "stream",
     "text": [
      "3.5910450808299043e-06\n",
      "IC 3104\n"
     ]
    },
    {
     "name": "stderr",
     "output_type": "stream",
     "text": [
      "/Users/Tiffany/opt/anaconda3/lib/python3.7/site-packages/statsmodels/tsa/base/tsa_model.py:165: ValueWarning: No frequency information was provided, so inferred frequency 2AS-JAN will be used.\n",
      "  % freq, ValueWarning)\n",
      "/Users/Tiffany/opt/anaconda3/lib/python3.7/site-packages/statsmodels/tsa/base/tsa_model.py:219: ValueWarning: A date index has been provided, but it has no associated frequency information and so will be ignored when e.g. forecasting.\n",
      "  ' ignored when e.g. forecasting.', ValueWarning)\n",
      "/Users/Tiffany/opt/anaconda3/lib/python3.7/site-packages/statsmodels/tsa/base/tsa_model.py:165: ValueWarning: No frequency information was provided, so inferred frequency 2AS-JAN will be used.\n",
      "  % freq, ValueWarning)\n",
      "/Users/Tiffany/opt/anaconda3/lib/python3.7/site-packages/statsmodels/base/model.py:512: ConvergenceWarning: Maximum Likelihood optimization failed to converge. Check mle_retvals\n",
      "  \"Check mle_retvals\", ConvergenceWarning)\n",
      "/Users/Tiffany/opt/anaconda3/lib/python3.7/site-packages/statsmodels/tsa/base/tsa_model.py:165: ValueWarning: No frequency information was provided, so inferred frequency 2AS-JAN will be used.\n",
      "  % freq, ValueWarning)\n"
     ]
    },
    {
     "name": "stdout",
     "output_type": "stream",
     "text": [
      "3.886442470256638e-07\n",
      "Pictor II\n",
      "4.860810071936943e-05\n"
     ]
    },
    {
     "name": "stderr",
     "output_type": "stream",
     "text": [
      "/Users/Tiffany/opt/anaconda3/lib/python3.7/site-packages/statsmodels/tsa/base/tsa_model.py:165: ValueWarning: No frequency information was provided, so inferred frequency 2AS-JAN will be used.\n",
      "  % freq, ValueWarning)\n",
      "/Users/Tiffany/opt/anaconda3/lib/python3.7/site-packages/statsmodels/tsa/base/tsa_model.py:219: ValueWarning: A date index has been provided, but it has no associated frequency information and so will be ignored when e.g. forecasting.\n",
      "  ' ignored when e.g. forecasting.', ValueWarning)\n",
      "/Users/Tiffany/opt/anaconda3/lib/python3.7/site-packages/statsmodels/tsa/base/tsa_model.py:165: ValueWarning: No frequency information was provided, so inferred frequency 2AS-JAN will be used.\n",
      "  % freq, ValueWarning)\n",
      "/Users/Tiffany/opt/anaconda3/lib/python3.7/site-packages/statsmodels/tsa/statespace/sarimax.py:949: UserWarning: Non-stationary starting autoregressive parameters found. Using zeros as starting parameters.\n",
      "  warn('Non-stationary starting autoregressive parameters'\n",
      "/Users/Tiffany/opt/anaconda3/lib/python3.7/site-packages/statsmodels/tsa/base/tsa_model.py:165: ValueWarning: No frequency information was provided, so inferred frequency 2AS-JAN will be used.\n",
      "  % freq, ValueWarning)\n",
      "/Users/Tiffany/opt/anaconda3/lib/python3.7/site-packages/statsmodels/tsa/statespace/sarimax.py:949: UserWarning: Non-stationary starting autoregressive parameters found. Using zeros as starting parameters.\n",
      "  warn('Non-stationary starting autoregressive parameters'\n",
      "/Users/Tiffany/opt/anaconda3/lib/python3.7/site-packages/statsmodels/tsa/base/tsa_model.py:165: ValueWarning: No frequency information was provided, so inferred frequency 2AS-JAN will be used.\n",
      "  % freq, ValueWarning)\n"
     ]
    },
    {
     "name": "stdout",
     "output_type": "stream",
     "text": [
      "UGC 9240 (DDO 190)\n",
      "3.0222640622521864e-06\n"
     ]
    },
    {
     "name": "stderr",
     "output_type": "stream",
     "text": [
      "/Users/Tiffany/opt/anaconda3/lib/python3.7/site-packages/statsmodels/tsa/base/tsa_model.py:219: ValueWarning: A date index has been provided, but it has no associated frequency information and so will be ignored when e.g. forecasting.\n",
      "  ' ignored when e.g. forecasting.', ValueWarning)\n",
      "/Users/Tiffany/opt/anaconda3/lib/python3.7/site-packages/statsmodels/tsa/base/tsa_model.py:165: ValueWarning: No frequency information was provided, so inferred frequency 2AS-JAN will be used.\n",
      "  % freq, ValueWarning)\n",
      "/Users/Tiffany/opt/anaconda3/lib/python3.7/site-packages/statsmodels/base/model.py:512: ConvergenceWarning: Maximum Likelihood optimization failed to converge. Check mle_retvals\n",
      "  \"Check mle_retvals\", ConvergenceWarning)\n",
      "/Users/Tiffany/opt/anaconda3/lib/python3.7/site-packages/statsmodels/tsa/base/tsa_model.py:165: ValueWarning: No frequency information was provided, so inferred frequency 2AS-JAN will be used.\n",
      "  % freq, ValueWarning)\n",
      "/Users/Tiffany/opt/anaconda3/lib/python3.7/site-packages/statsmodels/tsa/base/tsa_model.py:165: ValueWarning: No frequency information was provided, so inferred frequency 2AS-JAN will be used.\n",
      "  % freq, ValueWarning)\n"
     ]
    },
    {
     "name": "stdout",
     "output_type": "stream",
     "text": [
      "Andromeda XII\n",
      "1.0133972476879976e-07\n"
     ]
    },
    {
     "name": "stderr",
     "output_type": "stream",
     "text": [
      "/Users/Tiffany/opt/anaconda3/lib/python3.7/site-packages/statsmodels/tsa/base/tsa_model.py:165: ValueWarning: No frequency information was provided, so inferred frequency 2AS-JAN will be used.\n",
      "  % freq, ValueWarning)\n",
      "/Users/Tiffany/opt/anaconda3/lib/python3.7/site-packages/statsmodels/tsa/base/tsa_model.py:165: ValueWarning: No frequency information was provided, so inferred frequency 2AS-JAN will be used.\n",
      "  % freq, ValueWarning)\n",
      "/Users/Tiffany/opt/anaconda3/lib/python3.7/site-packages/statsmodels/tsa/statespace/sarimax.py:949: UserWarning: Non-stationary starting autoregressive parameters found. Using zeros as starting parameters.\n",
      "  warn('Non-stationary starting autoregressive parameters'\n",
      "/Users/Tiffany/opt/anaconda3/lib/python3.7/site-packages/statsmodels/tsa/base/tsa_model.py:165: ValueWarning: No frequency information was provided, so inferred frequency 2AS-JAN will be used.\n",
      "  % freq, ValueWarning)\n",
      "/Users/Tiffany/opt/anaconda3/lib/python3.7/site-packages/statsmodels/tsa/statespace/sarimax.py:949: UserWarning: Non-stationary starting autoregressive parameters found. Using zeros as starting parameters.\n",
      "  warn('Non-stationary starting autoregressive parameters'\n",
      "/Users/Tiffany/opt/anaconda3/lib/python3.7/site-packages/statsmodels/tsa/base/tsa_model.py:165: ValueWarning: No frequency information was provided, so inferred frequency 2AS-JAN will be used.\n",
      "  % freq, ValueWarning)\n"
     ]
    },
    {
     "name": "stdout",
     "output_type": "stream",
     "text": [
      "NGC 5253\n",
      "ERROR: NGC 5253\n",
      "Horologium I\n",
      "2.9525151614239724e-07\n"
     ]
    },
    {
     "name": "stderr",
     "output_type": "stream",
     "text": [
      "/Users/Tiffany/opt/anaconda3/lib/python3.7/site-packages/statsmodels/tsa/base/tsa_model.py:219: ValueWarning: A date index has been provided, but it has no associated frequency information and so will be ignored when e.g. forecasting.\n",
      "  ' ignored when e.g. forecasting.', ValueWarning)\n",
      "/Users/Tiffany/opt/anaconda3/lib/python3.7/site-packages/statsmodels/tsa/base/tsa_model.py:165: ValueWarning: No frequency information was provided, so inferred frequency 2AS-JAN will be used.\n",
      "  % freq, ValueWarning)\n",
      "/Users/Tiffany/opt/anaconda3/lib/python3.7/site-packages/statsmodels/tsa/base/tsa_model.py:165: ValueWarning: No frequency information was provided, so inferred frequency 2AS-JAN will be used.\n",
      "  % freq, ValueWarning)\n",
      "/Users/Tiffany/opt/anaconda3/lib/python3.7/site-packages/statsmodels/tsa/base/tsa_model.py:165: ValueWarning: No frequency information was provided, so inferred frequency 2AS-JAN will be used.\n",
      "  % freq, ValueWarning)\n"
     ]
    },
    {
     "name": "stdout",
     "output_type": "stream",
     "text": [
      "DDO 99 (UGC 6817)\n",
      "1.2984429611681913e-06\n",
      "Carina Dwarf (E206-G220)\n"
     ]
    },
    {
     "name": "stderr",
     "output_type": "stream",
     "text": [
      "/Users/Tiffany/opt/anaconda3/lib/python3.7/site-packages/statsmodels/base/model.py:512: ConvergenceWarning: Maximum Likelihood optimization failed to converge. Check mle_retvals\n",
      "  \"Check mle_retvals\", ConvergenceWarning)\n",
      "/Users/Tiffany/opt/anaconda3/lib/python3.7/site-packages/statsmodels/tsa/base/tsa_model.py:219: ValueWarning: A date index has been provided, but it has no associated frequency information and so will be ignored when e.g. forecasting.\n",
      "  ' ignored when e.g. forecasting.', ValueWarning)\n",
      "/Users/Tiffany/opt/anaconda3/lib/python3.7/site-packages/statsmodels/tsa/base/tsa_model.py:165: ValueWarning: No frequency information was provided, so inferred frequency 2AS-JAN will be used.\n",
      "  % freq, ValueWarning)\n",
      "/Users/Tiffany/opt/anaconda3/lib/python3.7/site-packages/statsmodels/tsa/base/tsa_model.py:165: ValueWarning: No frequency information was provided, so inferred frequency 2AS-JAN will be used.\n",
      "  % freq, ValueWarning)\n",
      "/Users/Tiffany/opt/anaconda3/lib/python3.7/site-packages/statsmodels/tsa/base/tsa_model.py:165: ValueWarning: No frequency information was provided, so inferred frequency 2AS-JAN will be used.\n",
      "  % freq, ValueWarning)\n",
      "/Users/Tiffany/opt/anaconda3/lib/python3.7/site-packages/statsmodels/tsa/statespace/sarimax.py:949: UserWarning: Non-stationary starting autoregressive parameters found. Using zeros as starting parameters.\n",
      "  warn('Non-stationary starting autoregressive parameters'\n",
      "/Users/Tiffany/opt/anaconda3/lib/python3.7/site-packages/statsmodels/tsa/base/tsa_model.py:219: ValueWarning: A date index has been provided, but it has no associated frequency information and so will be ignored when e.g. forecasting.\n",
      "  ' ignored when e.g. forecasting.', ValueWarning)\n",
      "/Users/Tiffany/opt/anaconda3/lib/python3.7/site-packages/statsmodels/tsa/base/tsa_model.py:165: ValueWarning: No frequency information was provided, so inferred frequency 2AS-JAN will be used.\n",
      "  % freq, ValueWarning)\n"
     ]
    },
    {
     "name": "stdout",
     "output_type": "stream",
     "text": [
      "5.635405675916823e-08\n",
      "Leo T Dwarf\n",
      "5.403834207590904e-05\n"
     ]
    },
    {
     "name": "stderr",
     "output_type": "stream",
     "text": [
      "/Users/Tiffany/opt/anaconda3/lib/python3.7/site-packages/statsmodels/tsa/base/tsa_model.py:165: ValueWarning: No frequency information was provided, so inferred frequency 2AS-JAN will be used.\n",
      "  % freq, ValueWarning)\n",
      "/Users/Tiffany/opt/anaconda3/lib/python3.7/site-packages/statsmodels/tsa/base/tsa_model.py:165: ValueWarning: No frequency information was provided, so inferred frequency 2AS-JAN will be used.\n",
      "  % freq, ValueWarning)\n",
      "/Users/Tiffany/opt/anaconda3/lib/python3.7/site-packages/statsmodels/tsa/base/tsa_model.py:219: ValueWarning: A date index has been provided, but it has no associated frequency information and so will be ignored when e.g. forecasting.\n",
      "  ' ignored when e.g. forecasting.', ValueWarning)\n",
      "/Users/Tiffany/opt/anaconda3/lib/python3.7/site-packages/statsmodels/tsa/base/tsa_model.py:165: ValueWarning: No frequency information was provided, so inferred frequency 2AS-JAN will be used.\n",
      "  % freq, ValueWarning)\n",
      "/Users/Tiffany/opt/anaconda3/lib/python3.7/site-packages/statsmodels/tsa/statespace/sarimax.py:949: UserWarning: Non-stationary starting autoregressive parameters found. Using zeros as starting parameters.\n",
      "  warn('Non-stationary starting autoregressive parameters'\n",
      "/Users/Tiffany/opt/anaconda3/lib/python3.7/site-packages/statsmodels/tsa/base/tsa_model.py:165: ValueWarning: No frequency information was provided, so inferred frequency 2AS-JAN will be used.\n",
      "  % freq, ValueWarning)\n",
      "/Users/Tiffany/opt/anaconda3/lib/python3.7/site-packages/statsmodels/tsa/statespace/sarimax.py:949: UserWarning: Non-stationary starting autoregressive parameters found. Using zeros as starting parameters.\n",
      "  warn('Non-stationary starting autoregressive parameters'\n",
      "/Users/Tiffany/opt/anaconda3/lib/python3.7/site-packages/statsmodels/tsa/base/tsa_model.py:165: ValueWarning: No frequency information was provided, so inferred frequency 2AS-JAN will be used.\n",
      "  % freq, ValueWarning)\n",
      "/Users/Tiffany/opt/anaconda3/lib/python3.7/site-packages/statsmodels/tsa/base/tsa_model.py:219: ValueWarning: A date index has been provided, but it has no associated frequency information and so will be ignored when e.g. forecasting.\n",
      "  ' ignored when e.g. forecasting.', ValueWarning)\n",
      "/Users/Tiffany/opt/anaconda3/lib/python3.7/site-packages/statsmodels/tsa/base/tsa_model.py:165: ValueWarning: No frequency information was provided, so inferred frequency 2AS-JAN will be used.\n",
      "  % freq, ValueWarning)\n",
      "/Users/Tiffany/opt/anaconda3/lib/python3.7/site-packages/statsmodels/tsa/base/tsa_model.py:165: ValueWarning: No frequency information was provided, so inferred frequency 2AS-JAN will be used.\n",
      "  % freq, ValueWarning)\n",
      "/Users/Tiffany/opt/anaconda3/lib/python3.7/site-packages/statsmodels/tsa/base/tsa_model.py:165: ValueWarning: No frequency information was provided, so inferred frequency 2AS-JAN will be used.\n",
      "  % freq, ValueWarning)\n",
      "/Users/Tiffany/opt/anaconda3/lib/python3.7/site-packages/statsmodels/base/model.py:512: ConvergenceWarning: Maximum Likelihood optimization failed to converge. Check mle_retvals\n",
      "  \"Check mle_retvals\", ConvergenceWarning)\n"
     ]
    },
    {
     "name": "stdout",
     "output_type": "stream",
     "text": [
      "Tucana IV\n",
      "1.14429339083729e-06\n",
      "Andromeda XIX[60]\n"
     ]
    },
    {
     "name": "stderr",
     "output_type": "stream",
     "text": [
      "/Users/Tiffany/opt/anaconda3/lib/python3.7/site-packages/statsmodels/tsa/base/tsa_model.py:165: ValueWarning: No frequency information was provided, so inferred frequency 2AS-JAN will be used.\n",
      "  % freq, ValueWarning)\n",
      "/Users/Tiffany/opt/anaconda3/lib/python3.7/site-packages/statsmodels/tsa/base/tsa_model.py:165: ValueWarning: No frequency information was provided, so inferred frequency 2AS-JAN will be used.\n",
      "  % freq, ValueWarning)\n",
      "/Users/Tiffany/opt/anaconda3/lib/python3.7/site-packages/statsmodels/tsa/statespace/sarimax.py:949: UserWarning: Non-stationary starting autoregressive parameters found. Using zeros as starting parameters.\n",
      "  warn('Non-stationary starting autoregressive parameters'\n",
      "/Users/Tiffany/opt/anaconda3/lib/python3.7/site-packages/statsmodels/tsa/base/tsa_model.py:165: ValueWarning: No frequency information was provided, so inferred frequency 2AS-JAN will be used.\n",
      "  % freq, ValueWarning)\n",
      "/Users/Tiffany/opt/anaconda3/lib/python3.7/site-packages/statsmodels/tsa/statespace/sarimax.py:949: UserWarning: Non-stationary starting autoregressive parameters found. Using zeros as starting parameters.\n",
      "  warn('Non-stationary starting autoregressive parameters'\n",
      "/Users/Tiffany/opt/anaconda3/lib/python3.7/site-packages/statsmodels/tsa/base/tsa_model.py:165: ValueWarning: No frequency information was provided, so inferred frequency 2AS-JAN will be used.\n",
      "  % freq, ValueWarning)\n"
     ]
    },
    {
     "name": "stdout",
     "output_type": "stream",
     "text": [
      "7.22135356555758e-05\n",
      "KK98 35\n"
     ]
    },
    {
     "name": "stderr",
     "output_type": "stream",
     "text": [
      "/Users/Tiffany/opt/anaconda3/lib/python3.7/site-packages/statsmodels/tsa/base/tsa_model.py:219: ValueWarning: A date index has been provided, but it has no associated frequency information and so will be ignored when e.g. forecasting.\n",
      "  ' ignored when e.g. forecasting.', ValueWarning)\n",
      "/Users/Tiffany/opt/anaconda3/lib/python3.7/site-packages/statsmodels/tsa/base/tsa_model.py:165: ValueWarning: No frequency information was provided, so inferred frequency 2AS-JAN will be used.\n",
      "  % freq, ValueWarning)\n",
      "/Users/Tiffany/opt/anaconda3/lib/python3.7/site-packages/statsmodels/tsa/base/tsa_model.py:165: ValueWarning: No frequency information was provided, so inferred frequency 2AS-JAN will be used.\n",
      "  % freq, ValueWarning)\n",
      "/Users/Tiffany/opt/anaconda3/lib/python3.7/site-packages/statsmodels/tsa/statespace/sarimax.py:949: UserWarning: Non-stationary starting autoregressive parameters found. Using zeros as starting parameters.\n",
      "  warn('Non-stationary starting autoregressive parameters'\n",
      "/Users/Tiffany/opt/anaconda3/lib/python3.7/site-packages/statsmodels/tsa/base/tsa_model.py:165: ValueWarning: No frequency information was provided, so inferred frequency 2AS-JAN will be used.\n",
      "  % freq, ValueWarning)\n"
     ]
    },
    {
     "name": "stdout",
     "output_type": "stream",
     "text": [
      "0.0001169595146497277\n",
      "UGC 4483\n"
     ]
    },
    {
     "name": "stderr",
     "output_type": "stream",
     "text": [
      "/Users/Tiffany/opt/anaconda3/lib/python3.7/site-packages/statsmodels/tsa/base/tsa_model.py:219: ValueWarning: A date index has been provided, but it has no associated frequency information and so will be ignored when e.g. forecasting.\n",
      "  ' ignored when e.g. forecasting.', ValueWarning)\n",
      "/Users/Tiffany/opt/anaconda3/lib/python3.7/site-packages/statsmodels/tsa/base/tsa_model.py:165: ValueWarning: No frequency information was provided, so inferred frequency 2AS-JAN will be used.\n",
      "  % freq, ValueWarning)\n",
      "/Users/Tiffany/opt/anaconda3/lib/python3.7/site-packages/statsmodels/tsa/base/tsa_model.py:165: ValueWarning: No frequency information was provided, so inferred frequency 2AS-JAN will be used.\n",
      "  % freq, ValueWarning)\n",
      "/Users/Tiffany/opt/anaconda3/lib/python3.7/site-packages/statsmodels/tsa/base/tsa_model.py:165: ValueWarning: No frequency information was provided, so inferred frequency 2AS-JAN will be used.\n",
      "  % freq, ValueWarning)\n",
      "/Users/Tiffany/opt/anaconda3/lib/python3.7/site-packages/statsmodels/tsa/base/tsa_model.py:219: ValueWarning: A date index has been provided, but it has no associated frequency information and so will be ignored when e.g. forecasting.\n",
      "  ' ignored when e.g. forecasting.', ValueWarning)\n",
      "/Users/Tiffany/opt/anaconda3/lib/python3.7/site-packages/statsmodels/tsa/base/tsa_model.py:165: ValueWarning: No frequency information was provided, so inferred frequency 2AS-JAN will be used.\n",
      "  % freq, ValueWarning)\n",
      "/Users/Tiffany/opt/anaconda3/lib/python3.7/site-packages/statsmodels/tsa/base/tsa_model.py:165: ValueWarning: No frequency information was provided, so inferred frequency 2AS-JAN will be used.\n",
      "  % freq, ValueWarning)\n"
     ]
    },
    {
     "name": "stdout",
     "output_type": "stream",
     "text": [
      "8.164927600622178e-07\n",
      "KKH 12\n",
      "1.1999167456570875e-06\n"
     ]
    },
    {
     "name": "stderr",
     "output_type": "stream",
     "text": [
      "/Users/Tiffany/opt/anaconda3/lib/python3.7/site-packages/statsmodels/base/model.py:512: ConvergenceWarning: Maximum Likelihood optimization failed to converge. Check mle_retvals\n",
      "  \"Check mle_retvals\", ConvergenceWarning)\n",
      "/Users/Tiffany/opt/anaconda3/lib/python3.7/site-packages/statsmodels/tsa/base/tsa_model.py:165: ValueWarning: No frequency information was provided, so inferred frequency 2AS-JAN will be used.\n",
      "  % freq, ValueWarning)\n",
      "/Users/Tiffany/opt/anaconda3/lib/python3.7/site-packages/statsmodels/tsa/base/tsa_model.py:219: ValueWarning: A date index has been provided, but it has no associated frequency information and so will be ignored when e.g. forecasting.\n",
      "  ' ignored when e.g. forecasting.', ValueWarning)\n",
      "/Users/Tiffany/opt/anaconda3/lib/python3.7/site-packages/statsmodels/tsa/base/tsa_model.py:165: ValueWarning: No frequency information was provided, so inferred frequency 2AS-JAN will be used.\n",
      "  % freq, ValueWarning)\n",
      "/Users/Tiffany/opt/anaconda3/lib/python3.7/site-packages/statsmodels/tsa/base/tsa_model.py:165: ValueWarning: No frequency information was provided, so inferred frequency 2AS-JAN will be used.\n",
      "  % freq, ValueWarning)\n",
      "/Users/Tiffany/opt/anaconda3/lib/python3.7/site-packages/statsmodels/base/model.py:512: ConvergenceWarning: Maximum Likelihood optimization failed to converge. Check mle_retvals\n",
      "  \"Check mle_retvals\", ConvergenceWarning)\n",
      "/Users/Tiffany/opt/anaconda3/lib/python3.7/site-packages/statsmodels/tsa/base/tsa_model.py:165: ValueWarning: No frequency information was provided, so inferred frequency 2AS-JAN will be used.\n",
      "  % freq, ValueWarning)\n"
     ]
    },
    {
     "name": "stdout",
     "output_type": "stream",
     "text": [
      "Andromeda XXIX\n",
      "5.542214149211076e-09\n",
      "Andromeda VIII\n"
     ]
    },
    {
     "name": "stderr",
     "output_type": "stream",
     "text": [
      "/Users/Tiffany/opt/anaconda3/lib/python3.7/site-packages/statsmodels/tsa/base/tsa_model.py:165: ValueWarning: No frequency information was provided, so inferred frequency 2AS-JAN will be used.\n",
      "  % freq, ValueWarning)\n",
      "/Users/Tiffany/opt/anaconda3/lib/python3.7/site-packages/statsmodels/tsa/base/tsa_model.py:165: ValueWarning: No frequency information was provided, so inferred frequency 2AS-JAN will be used.\n",
      "  % freq, ValueWarning)\n",
      "/Users/Tiffany/opt/anaconda3/lib/python3.7/site-packages/statsmodels/base/model.py:512: ConvergenceWarning: Maximum Likelihood optimization failed to converge. Check mle_retvals\n",
      "  \"Check mle_retvals\", ConvergenceWarning)\n",
      "/Users/Tiffany/opt/anaconda3/lib/python3.7/site-packages/statsmodels/tsa/base/tsa_model.py:165: ValueWarning: No frequency information was provided, so inferred frequency 2AS-JAN will be used.\n",
      "  % freq, ValueWarning)\n",
      "/Users/Tiffany/opt/anaconda3/lib/python3.7/site-packages/statsmodels/tsa/base/tsa_model.py:165: ValueWarning: No frequency information was provided, so inferred frequency 2AS-JAN will be used.\n",
      "  % freq, ValueWarning)\n"
     ]
    },
    {
     "name": "stdout",
     "output_type": "stream",
     "text": [
      "7.411020332559973e-06\n",
      "Ursa Major II Dwarf\n"
     ]
    },
    {
     "name": "stderr",
     "output_type": "stream",
     "text": [
      "/Users/Tiffany/opt/anaconda3/lib/python3.7/site-packages/statsmodels/tsa/base/tsa_model.py:219: ValueWarning: A date index has been provided, but it has no associated frequency information and so will be ignored when e.g. forecasting.\n",
      "  ' ignored when e.g. forecasting.', ValueWarning)\n",
      "/Users/Tiffany/opt/anaconda3/lib/python3.7/site-packages/statsmodels/tsa/base/tsa_model.py:165: ValueWarning: No frequency information was provided, so inferred frequency 2AS-JAN will be used.\n",
      "  % freq, ValueWarning)\n",
      "/Users/Tiffany/opt/anaconda3/lib/python3.7/site-packages/statsmodels/tsa/statespace/sarimax.py:949: UserWarning: Non-stationary starting autoregressive parameters found. Using zeros as starting parameters.\n",
      "  warn('Non-stationary starting autoregressive parameters'\n",
      "/Users/Tiffany/opt/anaconda3/lib/python3.7/site-packages/statsmodels/tsa/base/tsa_model.py:165: ValueWarning: No frequency information was provided, so inferred frequency 2AS-JAN will be used.\n",
      "  % freq, ValueWarning)\n",
      "/Users/Tiffany/opt/anaconda3/lib/python3.7/site-packages/statsmodels/tsa/statespace/sarimax.py:949: UserWarning: Non-stationary starting autoregressive parameters found. Using zeros as starting parameters.\n",
      "  warn('Non-stationary starting autoregressive parameters'\n",
      "/Users/Tiffany/opt/anaconda3/lib/python3.7/site-packages/statsmodels/tsa/base/tsa_model.py:165: ValueWarning: No frequency information was provided, so inferred frequency 2AS-JAN will be used.\n",
      "  % freq, ValueWarning)\n"
     ]
    },
    {
     "name": "stdout",
     "output_type": "stream",
     "text": [
      "9.414362607107131e-06\n",
      "Hydrus I\n"
     ]
    },
    {
     "name": "stderr",
     "output_type": "stream",
     "text": [
      "/Users/Tiffany/opt/anaconda3/lib/python3.7/site-packages/statsmodels/tsa/base/tsa_model.py:219: ValueWarning: A date index has been provided, but it has no associated frequency information and so will be ignored when e.g. forecasting.\n",
      "  ' ignored when e.g. forecasting.', ValueWarning)\n",
      "/Users/Tiffany/opt/anaconda3/lib/python3.7/site-packages/statsmodels/tsa/base/tsa_model.py:165: ValueWarning: No frequency information was provided, so inferred frequency 2AS-JAN will be used.\n",
      "  % freq, ValueWarning)\n",
      "/Users/Tiffany/opt/anaconda3/lib/python3.7/site-packages/statsmodels/tsa/base/tsa_model.py:165: ValueWarning: No frequency information was provided, so inferred frequency 2AS-JAN will be used.\n",
      "  % freq, ValueWarning)\n",
      "/Users/Tiffany/opt/anaconda3/lib/python3.7/site-packages/statsmodels/base/model.py:512: ConvergenceWarning: Maximum Likelihood optimization failed to converge. Check mle_retvals\n",
      "  \"Check mle_retvals\", ConvergenceWarning)\n",
      "/Users/Tiffany/opt/anaconda3/lib/python3.7/site-packages/statsmodels/tsa/base/tsa_model.py:165: ValueWarning: No frequency information was provided, so inferred frequency 2AS-JAN will be used.\n",
      "  % freq, ValueWarning)\n"
     ]
    },
    {
     "name": "stdout",
     "output_type": "stream",
     "text": [
      "4.8224560840686436e-09\n",
      "MB 3\n"
     ]
    },
    {
     "name": "stderr",
     "output_type": "stream",
     "text": [
      "/Users/Tiffany/opt/anaconda3/lib/python3.7/site-packages/statsmodels/base/model.py:512: ConvergenceWarning: Maximum Likelihood optimization failed to converge. Check mle_retvals\n",
      "  \"Check mle_retvals\", ConvergenceWarning)\n",
      "/Users/Tiffany/opt/anaconda3/lib/python3.7/site-packages/statsmodels/tsa/base/tsa_model.py:219: ValueWarning: A date index has been provided, but it has no associated frequency information and so will be ignored when e.g. forecasting.\n",
      "  ' ignored when e.g. forecasting.', ValueWarning)\n",
      "/Users/Tiffany/opt/anaconda3/lib/python3.7/site-packages/statsmodels/tsa/base/tsa_model.py:165: ValueWarning: No frequency information was provided, so inferred frequency 2AS-JAN will be used.\n",
      "  % freq, ValueWarning)\n",
      "/Users/Tiffany/opt/anaconda3/lib/python3.7/site-packages/statsmodels/tsa/statespace/sarimax.py:949: UserWarning: Non-stationary starting autoregressive parameters found. Using zeros as starting parameters.\n",
      "  warn('Non-stationary starting autoregressive parameters'\n",
      "/Users/Tiffany/opt/anaconda3/lib/python3.7/site-packages/statsmodels/tsa/base/tsa_model.py:165: ValueWarning: No frequency information was provided, so inferred frequency 2AS-JAN will be used.\n",
      "  % freq, ValueWarning)\n",
      "/Users/Tiffany/opt/anaconda3/lib/python3.7/site-packages/statsmodels/tsa/statespace/sarimax.py:949: UserWarning: Non-stationary starting autoregressive parameters found. Using zeros as starting parameters.\n",
      "  warn('Non-stationary starting autoregressive parameters'\n",
      "/Users/Tiffany/opt/anaconda3/lib/python3.7/site-packages/statsmodels/tsa/base/tsa_model.py:165: ValueWarning: No frequency information was provided, so inferred frequency 2AS-JAN will be used.\n",
      "  % freq, ValueWarning)\n"
     ]
    },
    {
     "name": "stdout",
     "output_type": "stream",
     "text": [
      "1.662525611499525e-05\n",
      "HIZSS 003\n"
     ]
    },
    {
     "name": "stderr",
     "output_type": "stream",
     "text": [
      "/Users/Tiffany/opt/anaconda3/lib/python3.7/site-packages/statsmodels/tsa/base/tsa_model.py:165: ValueWarning: No frequency information was provided, so inferred frequency 2AS-JAN will be used.\n",
      "  % freq, ValueWarning)\n",
      "/Users/Tiffany/opt/anaconda3/lib/python3.7/site-packages/statsmodels/tsa/base/tsa_model.py:165: ValueWarning: No frequency information was provided, so inferred frequency 2AS-JAN will be used.\n",
      "  % freq, ValueWarning)\n",
      "/Users/Tiffany/opt/anaconda3/lib/python3.7/site-packages/statsmodels/tsa/base/tsa_model.py:165: ValueWarning: No frequency information was provided, so inferred frequency 2AS-JAN will be used.\n",
      "  % freq, ValueWarning)\n",
      "/Users/Tiffany/opt/anaconda3/lib/python3.7/site-packages/statsmodels/tsa/statespace/sarimax.py:949: UserWarning: Non-stationary starting autoregressive parameters found. Using zeros as starting parameters.\n",
      "  warn('Non-stationary starting autoregressive parameters'\n",
      "/Users/Tiffany/opt/anaconda3/lib/python3.7/site-packages/statsmodels/base/model.py:512: ConvergenceWarning: Maximum Likelihood optimization failed to converge. Check mle_retvals\n",
      "  \"Check mle_retvals\", ConvergenceWarning)\n",
      "/Users/Tiffany/opt/anaconda3/lib/python3.7/site-packages/statsmodels/tsa/base/tsa_model.py:165: ValueWarning: No frequency information was provided, so inferred frequency 2AS-JAN will be used.\n",
      "  % freq, ValueWarning)\n"
     ]
    },
    {
     "name": "stdout",
     "output_type": "stream",
     "text": [
      "9.4445220108689e-06\n",
      "Andromeda XXIII\n"
     ]
    },
    {
     "name": "stderr",
     "output_type": "stream",
     "text": [
      "/Users/Tiffany/opt/anaconda3/lib/python3.7/site-packages/statsmodels/tsa/base/tsa_model.py:165: ValueWarning: No frequency information was provided, so inferred frequency 2AS-JAN will be used.\n",
      "  % freq, ValueWarning)\n",
      "/Users/Tiffany/opt/anaconda3/lib/python3.7/site-packages/statsmodels/tsa/base/tsa_model.py:165: ValueWarning: No frequency information was provided, so inferred frequency 2AS-JAN will be used.\n",
      "  % freq, ValueWarning)\n",
      "/Users/Tiffany/opt/anaconda3/lib/python3.7/site-packages/statsmodels/tsa/base/tsa_model.py:165: ValueWarning: No frequency information was provided, so inferred frequency 2AS-JAN will be used.\n",
      "  % freq, ValueWarning)\n",
      "/Users/Tiffany/opt/anaconda3/lib/python3.7/site-packages/statsmodels/base/model.py:512: ConvergenceWarning: Maximum Likelihood optimization failed to converge. Check mle_retvals\n",
      "  \"Check mle_retvals\", ConvergenceWarning)\n",
      "/Users/Tiffany/opt/anaconda3/lib/python3.7/site-packages/statsmodels/tsa/base/tsa_model.py:165: ValueWarning: No frequency information was provided, so inferred frequency 2AS-JAN will be used.\n",
      "  % freq, ValueWarning)\n",
      "/Users/Tiffany/opt/anaconda3/lib/python3.7/site-packages/statsmodels/base/model.py:512: ConvergenceWarning: Maximum Likelihood optimization failed to converge. Check mle_retvals\n",
      "  \"Check mle_retvals\", ConvergenceWarning)\n",
      "/Users/Tiffany/opt/anaconda3/lib/python3.7/site-packages/statsmodels/tsa/base/tsa_model.py:165: ValueWarning: No frequency information was provided, so inferred frequency 2AS-JAN will be used.\n",
      "  % freq, ValueWarning)\n"
     ]
    },
    {
     "name": "stdout",
     "output_type": "stream",
     "text": [
      "1.2914555951750627e-06\n",
      "Cetus Dwarf\n",
      "0.0004648997486195442\n"
     ]
    },
    {
     "name": "stderr",
     "output_type": "stream",
     "text": [
      "/Users/Tiffany/opt/anaconda3/lib/python3.7/site-packages/statsmodels/tsa/base/tsa_model.py:165: ValueWarning: No frequency information was provided, so inferred frequency 2AS-JAN will be used.\n",
      "  % freq, ValueWarning)\n",
      "/Users/Tiffany/opt/anaconda3/lib/python3.7/site-packages/statsmodels/tsa/statespace/sarimax.py:949: UserWarning: Non-stationary starting autoregressive parameters found. Using zeros as starting parameters.\n",
      "  warn('Non-stationary starting autoregressive parameters'\n",
      "/Users/Tiffany/opt/anaconda3/lib/python3.7/site-packages/statsmodels/tsa/base/tsa_model.py:165: ValueWarning: No frequency information was provided, so inferred frequency 2AS-JAN will be used.\n",
      "  % freq, ValueWarning)\n",
      "/Users/Tiffany/opt/anaconda3/lib/python3.7/site-packages/statsmodels/tsa/statespace/sarimax.py:949: UserWarning: Non-stationary starting autoregressive parameters found. Using zeros as starting parameters.\n",
      "  warn('Non-stationary starting autoregressive parameters'\n",
      "/Users/Tiffany/opt/anaconda3/lib/python3.7/site-packages/statsmodels/tsa/base/tsa_model.py:165: ValueWarning: No frequency information was provided, so inferred frequency 2AS-JAN will be used.\n",
      "  % freq, ValueWarning)\n",
      "/Users/Tiffany/opt/anaconda3/lib/python3.7/site-packages/statsmodels/tsa/base/tsa_model.py:219: ValueWarning: A date index has been provided, but it has no associated frequency information and so will be ignored when e.g. forecasting.\n",
      "  ' ignored when e.g. forecasting.', ValueWarning)\n",
      "/Users/Tiffany/opt/anaconda3/lib/python3.7/site-packages/statsmodels/tsa/base/tsa_model.py:165: ValueWarning: No frequency information was provided, so inferred frequency 2AS-JAN will be used.\n",
      "  % freq, ValueWarning)\n"
     ]
    },
    {
     "name": "stdout",
     "output_type": "stream",
     "text": [
      "Dwingeloo 2\n",
      "5.007810223192118e-07\n",
      "ESO 294-010\n"
     ]
    },
    {
     "name": "stderr",
     "output_type": "stream",
     "text": [
      "/Users/Tiffany/opt/anaconda3/lib/python3.7/site-packages/statsmodels/tsa/base/tsa_model.py:165: ValueWarning: No frequency information was provided, so inferred frequency 2AS-JAN will be used.\n",
      "  % freq, ValueWarning)\n",
      "/Users/Tiffany/opt/anaconda3/lib/python3.7/site-packages/statsmodels/tsa/base/tsa_model.py:165: ValueWarning: No frequency information was provided, so inferred frequency 2AS-JAN will be used.\n",
      "  % freq, ValueWarning)\n",
      "/Users/Tiffany/opt/anaconda3/lib/python3.7/site-packages/statsmodels/tsa/base/tsa_model.py:219: ValueWarning: A date index has been provided, but it has no associated frequency information and so will be ignored when e.g. forecasting.\n",
      "  ' ignored when e.g. forecasting.', ValueWarning)\n",
      "/Users/Tiffany/opt/anaconda3/lib/python3.7/site-packages/statsmodels/tsa/base/tsa_model.py:165: ValueWarning: No frequency information was provided, so inferred frequency 2AS-JAN will be used.\n",
      "  % freq, ValueWarning)\n",
      "/Users/Tiffany/opt/anaconda3/lib/python3.7/site-packages/statsmodels/tsa/statespace/sarimax.py:949: UserWarning: Non-stationary starting autoregressive parameters found. Using zeros as starting parameters.\n",
      "  warn('Non-stationary starting autoregressive parameters'\n"
     ]
    },
    {
     "name": "stdout",
     "output_type": "stream",
     "text": [
      "0.000140649210917579\n",
      "Boötes II\n"
     ]
    },
    {
     "name": "stderr",
     "output_type": "stream",
     "text": [
      "/Users/Tiffany/opt/anaconda3/lib/python3.7/site-packages/statsmodels/tsa/base/tsa_model.py:165: ValueWarning: No frequency information was provided, so inferred frequency 2AS-JAN will be used.\n",
      "  % freq, ValueWarning)\n",
      "/Users/Tiffany/opt/anaconda3/lib/python3.7/site-packages/statsmodels/tsa/statespace/sarimax.py:949: UserWarning: Non-stationary starting autoregressive parameters found. Using zeros as starting parameters.\n",
      "  warn('Non-stationary starting autoregressive parameters'\n",
      "/Users/Tiffany/opt/anaconda3/lib/python3.7/site-packages/statsmodels/tsa/base/tsa_model.py:165: ValueWarning: No frequency information was provided, so inferred frequency 2AS-JAN will be used.\n",
      "  % freq, ValueWarning)\n",
      "/Users/Tiffany/opt/anaconda3/lib/python3.7/site-packages/statsmodels/tsa/base/tsa_model.py:219: ValueWarning: A date index has been provided, but it has no associated frequency information and so will be ignored when e.g. forecasting.\n",
      "  ' ignored when e.g. forecasting.', ValueWarning)\n",
      "/Users/Tiffany/opt/anaconda3/lib/python3.7/site-packages/statsmodels/tsa/base/tsa_model.py:165: ValueWarning: No frequency information was provided, so inferred frequency 2AS-JAN will be used.\n",
      "  % freq, ValueWarning)\n",
      "/Users/Tiffany/opt/anaconda3/lib/python3.7/site-packages/statsmodels/base/model.py:512: ConvergenceWarning: Maximum Likelihood optimization failed to converge. Check mle_retvals\n",
      "  \"Check mle_retvals\", ConvergenceWarning)\n",
      "/Users/Tiffany/opt/anaconda3/lib/python3.7/site-packages/statsmodels/tsa/base/tsa_model.py:165: ValueWarning: No frequency information was provided, so inferred frequency 2AS-JAN will be used.\n",
      "  % freq, ValueWarning)\n",
      "/Users/Tiffany/opt/anaconda3/lib/python3.7/site-packages/statsmodels/tsa/statespace/sarimax.py:949: UserWarning: Non-stationary starting autoregressive parameters found. Using zeros as starting parameters.\n",
      "  warn('Non-stationary starting autoregressive parameters'\n",
      "/Users/Tiffany/opt/anaconda3/lib/python3.7/site-packages/statsmodels/tsa/base/tsa_model.py:165: ValueWarning: No frequency information was provided, so inferred frequency 2AS-JAN will be used.\n",
      "  % freq, ValueWarning)\n",
      "/Users/Tiffany/opt/anaconda3/lib/python3.7/site-packages/statsmodels/tsa/base/tsa_model.py:219: ValueWarning: A date index has been provided, but it has no associated frequency information and so will be ignored when e.g. forecasting.\n",
      "  ' ignored when e.g. forecasting.', ValueWarning)\n",
      "/Users/Tiffany/opt/anaconda3/lib/python3.7/site-packages/statsmodels/tsa/base/tsa_model.py:165: ValueWarning: No frequency information was provided, so inferred frequency 2AS-JAN will be used.\n",
      "  % freq, ValueWarning)\n"
     ]
    },
    {
     "name": "stdout",
     "output_type": "stream",
     "text": [
      "1.204010281396254e-06\n",
      "ESO 383-087 (ISG 39)\n",
      "6.914603936012961e-07\n",
      "Pisces V (Andromeda XVI)\n",
      "9.299610750506105e-07\n"
     ]
    },
    {
     "name": "stderr",
     "output_type": "stream",
     "text": [
      "/Users/Tiffany/opt/anaconda3/lib/python3.7/site-packages/statsmodels/tsa/base/tsa_model.py:165: ValueWarning: No frequency information was provided, so inferred frequency 2AS-JAN will be used.\n",
      "  % freq, ValueWarning)\n",
      "/Users/Tiffany/opt/anaconda3/lib/python3.7/site-packages/statsmodels/tsa/base/tsa_model.py:165: ValueWarning: No frequency information was provided, so inferred frequency 2AS-JAN will be used.\n",
      "  % freq, ValueWarning)\n",
      "/Users/Tiffany/opt/anaconda3/lib/python3.7/site-packages/statsmodels/base/model.py:512: ConvergenceWarning: Maximum Likelihood optimization failed to converge. Check mle_retvals\n",
      "  \"Check mle_retvals\", ConvergenceWarning)\n",
      "/Users/Tiffany/opt/anaconda3/lib/python3.7/site-packages/statsmodels/tsa/base/tsa_model.py:165: ValueWarning: No frequency information was provided, so inferred frequency 2AS-JAN will be used.\n",
      "  % freq, ValueWarning)\n",
      "/Users/Tiffany/opt/anaconda3/lib/python3.7/site-packages/statsmodels/tsa/base/tsa_model.py:165: ValueWarning: No frequency information was provided, so inferred frequency 2AS-JAN will be used.\n",
      "  % freq, ValueWarning)\n",
      "/Users/Tiffany/opt/anaconda3/lib/python3.7/site-packages/statsmodels/tsa/base/tsa_model.py:165: ValueWarning: No frequency information was provided, so inferred frequency 2AS-JAN will be used.\n",
      "  % freq, ValueWarning)\n",
      "/Users/Tiffany/opt/anaconda3/lib/python3.7/site-packages/statsmodels/tsa/base/tsa_model.py:165: ValueWarning: No frequency information was provided, so inferred frequency 2AS-JAN will be used.\n",
      "  % freq, ValueWarning)\n",
      "/Users/Tiffany/opt/anaconda3/lib/python3.7/site-packages/statsmodels/tsa/base/tsa_model.py:165: ValueWarning: No frequency information was provided, so inferred frequency 2AS-JAN will be used.\n",
      "  % freq, ValueWarning)\n",
      "/Users/Tiffany/opt/anaconda3/lib/python3.7/site-packages/statsmodels/tsa/base/tsa_model.py:165: ValueWarning: No frequency information was provided, so inferred frequency 2AS-JAN will be used.\n",
      "  % freq, ValueWarning)\n",
      "/Users/Tiffany/opt/anaconda3/lib/python3.7/site-packages/statsmodels/base/model.py:512: ConvergenceWarning: Maximum Likelihood optimization failed to converge. Check mle_retvals\n",
      "  \"Check mle_retvals\", ConvergenceWarning)\n",
      "/Users/Tiffany/opt/anaconda3/lib/python3.7/site-packages/statsmodels/tsa/base/tsa_model.py:165: ValueWarning: No frequency information was provided, so inferred frequency 2AS-JAN will be used.\n",
      "  % freq, ValueWarning)\n",
      "/Users/Tiffany/opt/anaconda3/lib/python3.7/site-packages/statsmodels/tsa/base/tsa_model.py:165: ValueWarning: No frequency information was provided, so inferred frequency 2AS-JAN will be used.\n",
      "  % freq, ValueWarning)\n"
     ]
    },
    {
     "name": "stdout",
     "output_type": "stream",
     "text": [
      "Hercules Dwarf\n",
      "3.097574115126279e-06\n",
      "Hydra II\n"
     ]
    },
    {
     "name": "stderr",
     "output_type": "stream",
     "text": [
      "/Users/Tiffany/opt/anaconda3/lib/python3.7/site-packages/statsmodels/tsa/base/tsa_model.py:219: ValueWarning: A date index has been provided, but it has no associated frequency information and so will be ignored when e.g. forecasting.\n",
      "  ' ignored when e.g. forecasting.', ValueWarning)\n",
      "/Users/Tiffany/opt/anaconda3/lib/python3.7/site-packages/statsmodels/tsa/base/tsa_model.py:165: ValueWarning: No frequency information was provided, so inferred frequency 2AS-JAN will be used.\n",
      "  % freq, ValueWarning)\n",
      "/Users/Tiffany/opt/anaconda3/lib/python3.7/site-packages/statsmodels/tsa/base/tsa_model.py:165: ValueWarning: No frequency information was provided, so inferred frequency 2AS-JAN will be used.\n",
      "  % freq, ValueWarning)\n",
      "/Users/Tiffany/opt/anaconda3/lib/python3.7/site-packages/statsmodels/tsa/base/tsa_model.py:165: ValueWarning: No frequency information was provided, so inferred frequency 2AS-JAN will be used.\n",
      "  % freq, ValueWarning)\n",
      "/Users/Tiffany/opt/anaconda3/lib/python3.7/site-packages/statsmodels/tsa/base/tsa_model.py:219: ValueWarning: A date index has been provided, but it has no associated frequency information and so will be ignored when e.g. forecasting.\n",
      "  ' ignored when e.g. forecasting.', ValueWarning)\n",
      "/Users/Tiffany/opt/anaconda3/lib/python3.7/site-packages/statsmodels/tsa/base/tsa_model.py:165: ValueWarning: No frequency information was provided, so inferred frequency 2AS-JAN will be used.\n",
      "  % freq, ValueWarning)\n"
     ]
    },
    {
     "name": "stdout",
     "output_type": "stream",
     "text": [
      "4.08486608111998e-07\n",
      "IC 5152\n",
      "3.4701260327663715e-08\n"
     ]
    },
    {
     "name": "stderr",
     "output_type": "stream",
     "text": [
      "/Users/Tiffany/opt/anaconda3/lib/python3.7/site-packages/statsmodels/tsa/base/tsa_model.py:165: ValueWarning: No frequency information was provided, so inferred frequency 2AS-JAN will be used.\n",
      "  % freq, ValueWarning)\n",
      "/Users/Tiffany/opt/anaconda3/lib/python3.7/site-packages/statsmodels/base/model.py:512: ConvergenceWarning: Maximum Likelihood optimization failed to converge. Check mle_retvals\n",
      "  \"Check mle_retvals\", ConvergenceWarning)\n",
      "/Users/Tiffany/opt/anaconda3/lib/python3.7/site-packages/statsmodels/tsa/base/tsa_model.py:165: ValueWarning: No frequency information was provided, so inferred frequency 2AS-JAN will be used.\n",
      "  % freq, ValueWarning)\n",
      "/Users/Tiffany/opt/anaconda3/lib/python3.7/site-packages/statsmodels/tsa/base/tsa_model.py:219: ValueWarning: A date index has been provided, but it has no associated frequency information and so will be ignored when e.g. forecasting.\n",
      "  ' ignored when e.g. forecasting.', ValueWarning)\n",
      "/Users/Tiffany/opt/anaconda3/lib/python3.7/site-packages/statsmodels/tsa/base/tsa_model.py:165: ValueWarning: No frequency information was provided, so inferred frequency 2AS-JAN will be used.\n",
      "  % freq, ValueWarning)\n",
      "/Users/Tiffany/opt/anaconda3/lib/python3.7/site-packages/statsmodels/tsa/base/tsa_model.py:165: ValueWarning: No frequency information was provided, so inferred frequency 2AS-JAN will be used.\n",
      "  % freq, ValueWarning)\n"
     ]
    },
    {
     "name": "stdout",
     "output_type": "stream",
     "text": [
      "NGC 2366\n",
      "6.848337222394163e-07\n",
      "Pegasus Dwarf Irregular (DDO 216)\n"
     ]
    },
    {
     "name": "stderr",
     "output_type": "stream",
     "text": [
      "/Users/Tiffany/opt/anaconda3/lib/python3.7/site-packages/statsmodels/base/model.py:512: ConvergenceWarning: Maximum Likelihood optimization failed to converge. Check mle_retvals\n",
      "  \"Check mle_retvals\", ConvergenceWarning)\n",
      "/Users/Tiffany/opt/anaconda3/lib/python3.7/site-packages/statsmodels/tsa/base/tsa_model.py:165: ValueWarning: No frequency information was provided, so inferred frequency 2AS-JAN will be used.\n",
      "  % freq, ValueWarning)\n",
      "/Users/Tiffany/opt/anaconda3/lib/python3.7/site-packages/statsmodels/tsa/base/tsa_model.py:165: ValueWarning: No frequency information was provided, so inferred frequency 2AS-JAN will be used.\n",
      "  % freq, ValueWarning)\n",
      "/Users/Tiffany/opt/anaconda3/lib/python3.7/site-packages/statsmodels/tsa/base/tsa_model.py:165: ValueWarning: No frequency information was provided, so inferred frequency 2AS-JAN will be used.\n",
      "  % freq, ValueWarning)\n",
      "/Users/Tiffany/opt/anaconda3/lib/python3.7/site-packages/statsmodels/tsa/base/tsa_model.py:165: ValueWarning: No frequency information was provided, so inferred frequency 2AS-JAN will be used.\n",
      "  % freq, ValueWarning)\n",
      "/Users/Tiffany/opt/anaconda3/lib/python3.7/site-packages/statsmodels/tsa/base/tsa_model.py:165: ValueWarning: No frequency information was provided, so inferred frequency 2AS-JAN will be used.\n",
      "  % freq, ValueWarning)\n"
     ]
    },
    {
     "name": "stdout",
     "output_type": "stream",
     "text": [
      "1.670072275373336e-08\n",
      "Reticulum III\n",
      "9.678282700291698e-07\n"
     ]
    },
    {
     "name": "stderr",
     "output_type": "stream",
     "text": [
      "/Users/Tiffany/opt/anaconda3/lib/python3.7/site-packages/statsmodels/tsa/base/tsa_model.py:219: ValueWarning: A date index has been provided, but it has no associated frequency information and so will be ignored when e.g. forecasting.\n",
      "  ' ignored when e.g. forecasting.', ValueWarning)\n",
      "/Users/Tiffany/opt/anaconda3/lib/python3.7/site-packages/statsmodels/tsa/base/tsa_model.py:165: ValueWarning: No frequency information was provided, so inferred frequency 2AS-JAN will be used.\n",
      "  % freq, ValueWarning)\n",
      "/Users/Tiffany/opt/anaconda3/lib/python3.7/site-packages/statsmodels/tsa/base/tsa_model.py:165: ValueWarning: No frequency information was provided, so inferred frequency 2AS-JAN will be used.\n",
      "  % freq, ValueWarning)\n",
      "/Users/Tiffany/opt/anaconda3/lib/python3.7/site-packages/statsmodels/tsa/base/tsa_model.py:165: ValueWarning: No frequency information was provided, so inferred frequency 2AS-JAN will be used.\n",
      "  % freq, ValueWarning)\n",
      "/Users/Tiffany/opt/anaconda3/lib/python3.7/site-packages/statsmodels/tsa/base/tsa_model.py:219: ValueWarning: A date index has been provided, but it has no associated frequency information and so will be ignored when e.g. forecasting.\n",
      "  ' ignored when e.g. forecasting.', ValueWarning)\n",
      "/Users/Tiffany/opt/anaconda3/lib/python3.7/site-packages/statsmodels/tsa/base/tsa_model.py:165: ValueWarning: No frequency information was provided, so inferred frequency 2AS-JAN will be used.\n",
      "  % freq, ValueWarning)\n"
     ]
    },
    {
     "name": "stdout",
     "output_type": "stream",
     "text": [
      "Coma Berenices Dwarf\n",
      "1.8879945775243973e-07\n"
     ]
    },
    {
     "name": "stderr",
     "output_type": "stream",
     "text": [
      "/Users/Tiffany/opt/anaconda3/lib/python3.7/site-packages/statsmodels/tsa/base/tsa_model.py:165: ValueWarning: No frequency information was provided, so inferred frequency 2AS-JAN will be used.\n",
      "  % freq, ValueWarning)\n",
      "/Users/Tiffany/opt/anaconda3/lib/python3.7/site-packages/statsmodels/tsa/base/tsa_model.py:165: ValueWarning: No frequency information was provided, so inferred frequency 2AS-JAN will be used.\n",
      "  % freq, ValueWarning)\n",
      "/Users/Tiffany/opt/anaconda3/lib/python3.7/site-packages/statsmodels/tsa/base/tsa_model.py:165: ValueWarning: No frequency information was provided, so inferred frequency 2AS-JAN will be used.\n",
      "  % freq, ValueWarning)\n",
      "/Users/Tiffany/opt/anaconda3/lib/python3.7/site-packages/statsmodels/tsa/base/tsa_model.py:165: ValueWarning: No frequency information was provided, so inferred frequency 2AS-JAN will be used.\n",
      "  % freq, ValueWarning)\n",
      "/Users/Tiffany/opt/anaconda3/lib/python3.7/site-packages/statsmodels/tsa/base/tsa_model.py:165: ValueWarning: No frequency information was provided, so inferred frequency 2AS-JAN will be used.\n",
      "  % freq, ValueWarning)\n"
     ]
    },
    {
     "name": "stdout",
     "output_type": "stream",
     "text": [
      "Sextans B (UGC 5373)\n",
      "1.060367769277335e-06\n",
      "NGC 55\n"
     ]
    },
    {
     "name": "stderr",
     "output_type": "stream",
     "text": [
      "/Users/Tiffany/opt/anaconda3/lib/python3.7/site-packages/statsmodels/tsa/base/tsa_model.py:165: ValueWarning: No frequency information was provided, so inferred frequency 2AS-JAN will be used.\n",
      "  % freq, ValueWarning)\n",
      "/Users/Tiffany/opt/anaconda3/lib/python3.7/site-packages/statsmodels/tsa/base/tsa_model.py:165: ValueWarning: No frequency information was provided, so inferred frequency 2AS-JAN will be used.\n",
      "  % freq, ValueWarning)\n",
      "/Users/Tiffany/opt/anaconda3/lib/python3.7/site-packages/statsmodels/tsa/base/tsa_model.py:165: ValueWarning: No frequency information was provided, so inferred frequency 2AS-JAN will be used.\n",
      "  % freq, ValueWarning)\n",
      "/Users/Tiffany/opt/anaconda3/lib/python3.7/site-packages/statsmodels/tsa/statespace/sarimax.py:949: UserWarning: Non-stationary starting autoregressive parameters found. Using zeros as starting parameters.\n",
      "  warn('Non-stationary starting autoregressive parameters'\n",
      "/Users/Tiffany/opt/anaconda3/lib/python3.7/site-packages/statsmodels/tsa/base/tsa_model.py:165: ValueWarning: No frequency information was provided, so inferred frequency 2AS-JAN will be used.\n",
      "  % freq, ValueWarning)\n",
      "/Users/Tiffany/opt/anaconda3/lib/python3.7/site-packages/statsmodels/tsa/statespace/sarimax.py:949: UserWarning: Non-stationary starting autoregressive parameters found. Using zeros as starting parameters.\n",
      "  warn('Non-stationary starting autoregressive parameters'\n",
      "/Users/Tiffany/opt/anaconda3/lib/python3.7/site-packages/statsmodels/tsa/base/tsa_model.py:165: ValueWarning: No frequency information was provided, so inferred frequency 2AS-JAN will be used.\n",
      "  % freq, ValueWarning)\n"
     ]
    },
    {
     "name": "stdout",
     "output_type": "stream",
     "text": [
      "3.3073208957763434e-07\n",
      "Leo I Dwarf (DDO 74, UGC 5470)\n"
     ]
    },
    {
     "name": "stderr",
     "output_type": "stream",
     "text": [
      "/Users/Tiffany/opt/anaconda3/lib/python3.7/site-packages/statsmodels/tsa/base/tsa_model.py:219: ValueWarning: A date index has been provided, but it has no associated frequency information and so will be ignored when e.g. forecasting.\n",
      "  ' ignored when e.g. forecasting.', ValueWarning)\n",
      "/Users/Tiffany/opt/anaconda3/lib/python3.7/site-packages/statsmodels/tsa/base/tsa_model.py:165: ValueWarning: No frequency information was provided, so inferred frequency 2AS-JAN will be used.\n",
      "  % freq, ValueWarning)\n",
      "/Users/Tiffany/opt/anaconda3/lib/python3.7/site-packages/statsmodels/base/model.py:512: ConvergenceWarning: Maximum Likelihood optimization failed to converge. Check mle_retvals\n",
      "  \"Check mle_retvals\", ConvergenceWarning)\n",
      "/Users/Tiffany/opt/anaconda3/lib/python3.7/site-packages/statsmodels/tsa/base/tsa_model.py:165: ValueWarning: No frequency information was provided, so inferred frequency 2AS-JAN will be used.\n",
      "  % freq, ValueWarning)\n",
      "/Users/Tiffany/opt/anaconda3/lib/python3.7/site-packages/statsmodels/tsa/base/tsa_model.py:165: ValueWarning: No frequency information was provided, so inferred frequency 2AS-JAN will be used.\n",
      "  % freq, ValueWarning)\n",
      "/Users/Tiffany/opt/anaconda3/lib/python3.7/site-packages/statsmodels/base/model.py:512: ConvergenceWarning: Maximum Likelihood optimization failed to converge. Check mle_retvals\n",
      "  \"Check mle_retvals\", ConvergenceWarning)\n",
      "/Users/Tiffany/opt/anaconda3/lib/python3.7/site-packages/statsmodels/tsa/base/tsa_model.py:165: ValueWarning: No frequency information was provided, so inferred frequency 2AS-JAN will be used.\n",
      "  % freq, ValueWarning)\n",
      "/Users/Tiffany/opt/anaconda3/lib/python3.7/site-packages/statsmodels/tsa/base/tsa_model.py:165: ValueWarning: No frequency information was provided, so inferred frequency 2AS-JAN will be used.\n",
      "  % freq, ValueWarning)\n",
      "/Users/Tiffany/opt/anaconda3/lib/python3.7/site-packages/statsmodels/tsa/statespace/sarimax.py:949: UserWarning: Non-stationary starting autoregressive parameters found. Using zeros as starting parameters.\n",
      "  warn('Non-stationary starting autoregressive parameters'\n"
     ]
    },
    {
     "name": "stdout",
     "output_type": "stream",
     "text": [
      "2.7005971183906547e-07\n",
      "UGC 8508 (I Zw 060)\n",
      "3.5440916019906025e-06\n"
     ]
    },
    {
     "name": "stderr",
     "output_type": "stream",
     "text": [
      "/Users/Tiffany/opt/anaconda3/lib/python3.7/site-packages/statsmodels/tsa/base/tsa_model.py:165: ValueWarning: No frequency information was provided, so inferred frequency 2AS-JAN will be used.\n",
      "  % freq, ValueWarning)\n",
      "/Users/Tiffany/opt/anaconda3/lib/python3.7/site-packages/statsmodels/tsa/statespace/sarimax.py:949: UserWarning: Non-stationary starting autoregressive parameters found. Using zeros as starting parameters.\n",
      "  warn('Non-stationary starting autoregressive parameters'\n",
      "/Users/Tiffany/opt/anaconda3/lib/python3.7/site-packages/statsmodels/tsa/base/tsa_model.py:165: ValueWarning: No frequency information was provided, so inferred frequency 2AS-JAN will be used.\n",
      "  % freq, ValueWarning)\n",
      "/Users/Tiffany/opt/anaconda3/lib/python3.7/site-packages/statsmodels/tsa/base/tsa_model.py:219: ValueWarning: A date index has been provided, but it has no associated frequency information and so will be ignored when e.g. forecasting.\n",
      "  ' ignored when e.g. forecasting.', ValueWarning)\n",
      "/Users/Tiffany/opt/anaconda3/lib/python3.7/site-packages/statsmodels/tsa/base/tsa_model.py:165: ValueWarning: No frequency information was provided, so inferred frequency 2AS-JAN will be used.\n",
      "  % freq, ValueWarning)\n"
     ]
    },
    {
     "name": "stdout",
     "output_type": "stream",
     "text": [
      "NGC 5237\n",
      "1.8154882926719403e-06\n"
     ]
    },
    {
     "name": "stderr",
     "output_type": "stream",
     "text": [
      "/Users/Tiffany/opt/anaconda3/lib/python3.7/site-packages/statsmodels/tsa/base/tsa_model.py:165: ValueWarning: No frequency information was provided, so inferred frequency 2AS-JAN will be used.\n",
      "  % freq, ValueWarning)\n",
      "/Users/Tiffany/opt/anaconda3/lib/python3.7/site-packages/statsmodels/tsa/statespace/sarimax.py:949: UserWarning: Non-stationary starting autoregressive parameters found. Using zeros as starting parameters.\n",
      "  warn('Non-stationary starting autoregressive parameters'\n",
      "/Users/Tiffany/opt/anaconda3/lib/python3.7/site-packages/statsmodels/tsa/base/tsa_model.py:165: ValueWarning: No frequency information was provided, so inferred frequency 2AS-JAN will be used.\n",
      "  % freq, ValueWarning)\n",
      "/Users/Tiffany/opt/anaconda3/lib/python3.7/site-packages/statsmodels/tsa/base/tsa_model.py:219: ValueWarning: A date index has been provided, but it has no associated frequency information and so will be ignored when e.g. forecasting.\n",
      "  ' ignored when e.g. forecasting.', ValueWarning)\n",
      "/Users/Tiffany/opt/anaconda3/lib/python3.7/site-packages/statsmodels/tsa/base/tsa_model.py:165: ValueWarning: No frequency information was provided, so inferred frequency 2AS-JAN will be used.\n",
      "  % freq, ValueWarning)\n"
     ]
    },
    {
     "name": "stdout",
     "output_type": "stream",
     "text": [
      "NGC 5206\n",
      "1.2219910965329034e-06\n",
      "NGC 5102\n"
     ]
    },
    {
     "name": "stderr",
     "output_type": "stream",
     "text": [
      "/Users/Tiffany/opt/anaconda3/lib/python3.7/site-packages/statsmodels/tsa/base/tsa_model.py:165: ValueWarning: No frequency information was provided, so inferred frequency 2AS-JAN will be used.\n",
      "  % freq, ValueWarning)\n",
      "/Users/Tiffany/opt/anaconda3/lib/python3.7/site-packages/statsmodels/tsa/base/tsa_model.py:165: ValueWarning: No frequency information was provided, so inferred frequency 2AS-JAN will be used.\n",
      "  % freq, ValueWarning)\n",
      "/Users/Tiffany/opt/anaconda3/lib/python3.7/site-packages/statsmodels/tsa/base/tsa_model.py:219: ValueWarning: A date index has been provided, but it has no associated frequency information and so will be ignored when e.g. forecasting.\n",
      "  ' ignored when e.g. forecasting.', ValueWarning)\n",
      "/Users/Tiffany/opt/anaconda3/lib/python3.7/site-packages/statsmodels/tsa/base/tsa_model.py:165: ValueWarning: No frequency information was provided, so inferred frequency 2AS-JAN will be used.\n",
      "  % freq, ValueWarning)\n",
      "/Users/Tiffany/opt/anaconda3/lib/python3.7/site-packages/statsmodels/tsa/statespace/sarimax.py:949: UserWarning: Non-stationary starting autoregressive parameters found. Using zeros as starting parameters.\n",
      "  warn('Non-stationary starting autoregressive parameters'\n"
     ]
    },
    {
     "name": "stdout",
     "output_type": "stream",
     "text": [
      "3.485837925174698e-06\n",
      "['NGC 5253']\n"
     ]
    },
    {
     "name": "stderr",
     "output_type": "stream",
     "text": [
      "/Users/Tiffany/opt/anaconda3/lib/python3.7/site-packages/statsmodels/tsa/base/tsa_model.py:165: ValueWarning: No frequency information was provided, so inferred frequency 2AS-JAN will be used.\n",
      "  % freq, ValueWarning)\n",
      "/Users/Tiffany/opt/anaconda3/lib/python3.7/site-packages/statsmodels/tsa/statespace/sarimax.py:949: UserWarning: Non-stationary starting autoregressive parameters found. Using zeros as starting parameters.\n",
      "  warn('Non-stationary starting autoregressive parameters'\n",
      "/Users/Tiffany/opt/anaconda3/lib/python3.7/site-packages/statsmodels/tsa/base/tsa_model.py:165: ValueWarning: No frequency information was provided, so inferred frequency 2AS-JAN will be used.\n",
      "  % freq, ValueWarning)\n"
     ]
    }
   ],
   "source": [
    "#Fitting time series on each galaxy\n",
    "\n",
    "\n",
    "#Train and test set\n",
    "\n",
    "#df_combined['preds'] = df_combined['y'].apply(lambda x:0)\n",
    "\n",
    "pd.reset_option('display.max_rows')\n",
    "\n",
    "\n",
    "\n",
    "\n",
    "results_df = pd.DataFrame(columns=['date','y','preds','galaxy','galactic year 1'])\n",
    "error_list = []\n",
    "split_1_y = []\n",
    "split_2_y = []\n",
    "split_0_y = []\n",
    "split_1_preds = []\n",
    "split_2_preds = []\n",
    "split_0_preds = []\n",
    "\n",
    "for g in df.galaxy.unique():\n",
    "    try:\n",
    "        print(g)\n",
    "        df_temp = df[df['galaxy']==g].copy()\n",
    "        df_temp.sort_values(\"galactic year 1\",inplace=True)\n",
    "#             df_temp['galactic year'] = df_temp['galactic year'].apply(lambda x:(np.round((x/1000),0))*2)\n",
    "#             df_temp['galactic year'] = df_temp['galactic year'].astype('int64')\n",
    "#             df_temp['galactic year'] = df_temp['galactic year'].astype('str')\n",
    "#             df_temp['galactic year'] = df_temp['galactic year'] + \"0101\"\n",
    "#             df_temp['date'] = pd.to_datetime(df_temp['galactic year'], yearfirst=True\n",
    "#                                              , format='%Y/%m/%d'\n",
    "#                                             )\n",
    "\n",
    "        df_temp_temp = df_temp[['date','y','galaxy','galactic year 1']]\n",
    "        df_temp_temp_1 = df_temp_temp[['date','y']].copy()\n",
    "        df_temp_temp_1.set_index('date', inplace=True, drop=True)\n",
    "        data = df_temp_temp_1\n",
    "\n",
    "        ts = TimeSeriesSplit(n_splits=3)\n",
    "        splits = [split for split in ts.split(data)]\n",
    "        test_size = splits[0][1].shape[0]\n",
    "\n",
    "        model = sm.tsa.statespace.SARIMAX(data, order=(1, 0, 0))\n",
    "\n",
    "        y_train = data.iloc[splits[0][0]]\n",
    "        y_test = data.iloc[splits[0][1]]\n",
    "        model_cv = sm.tsa.statespace.SARIMAX(y_train, order=(1, 0, 0))\n",
    "        results_cv = model_cv.fit(maxiter=5000)\n",
    "        pred_test = results_cv.predict(start=0, end=len(y_train)+test_size-1, dynamic=False)[-test_size:]\n",
    "        print(mean_squared_error(y_test, pred_test))\n",
    "        for x in y_test.y:\n",
    "            split_0_y.append(x)\n",
    "        for x in pred_test:\n",
    "            split_0_preds.append(x)\n",
    "\n",
    "\n",
    "        y_train = data.iloc[splits[1][0]]\n",
    "        y_test = data.iloc[splits[1][1]]\n",
    "        model_cv = sm.tsa.statespace.SARIMAX(y_train, order=(1, 0, 0))\n",
    "        results_cv = model_cv.fit(maxiter=5000)\n",
    "        pred_test = results_cv.predict(start=0, end=len(y_train)+test_size-1, dynamic=False)[-test_size:]\n",
    "        for z in y_test.y:\n",
    "            split_1_y.append(z)\n",
    "        for z in pred_test:\n",
    "            split_1_preds.append(z)\n",
    "\n",
    "\n",
    "\n",
    "        y_train = data.iloc[splits[2][0]]\n",
    "        y_test = data.iloc[splits[2][1]]\n",
    "        model_cv = sm.tsa.statespace.SARIMAX(y_train, order=(1, 0, 0))\n",
    "        results_cv = model_cv.fit(maxiter=5000)\n",
    "        pred_test = results_cv.predict(start=0, end=len(y_train)+test_size-1, dynamic=False)[-test_size:]\n",
    "        for a in y_test.y:\n",
    "            split_2_y.append(a)\n",
    "        for a in pred_test:\n",
    "            split_2_preds.append(a)\n",
    "\n",
    "\n",
    "    except:\n",
    "        None\n",
    "        print('ERROR:',g)\n",
    "        error_list.append(g)\n",
    "#             df_temp = df[df['galaxy']==g].copy()\n",
    "#             df = df[~(df['galaxy']==g)]\n",
    "#             df_temp.sort_values(\"galactic year\",inplace=True)\n",
    "#             df_temp['preds'] = df_temp['y']\n",
    "#             df = pd.concat([df,df_temp])\n",
    "print(error_list)\n",
    "\n",
    "    \n",
    "    \n"
   ]
  },
  {
   "cell_type": "code",
   "execution_count": 70,
   "metadata": {
    "ExecuteTime": {
     "end_time": "2020-06-19T10:43:39.431551Z",
     "start_time": "2020-06-19T10:43:39.200569Z"
    }
   },
   "outputs": [
    {
     "data": {
      "text/plain": [
       "[                   y\n",
       " date                \n",
       " 2002-01-01  0.048314\n",
       " 2004-01-01  0.047988\n",
       " 2006-01-01  0.047607\n",
       " 2008-01-01  0.047392,                    y\n",
       " date                \n",
       " 2006-01-01  0.057700\n",
       " 2008-01-01  0.057908\n",
       " 2010-01-01  0.057663\n",
       " 2012-01-01  0.056803\n",
       " 2014-01-01  0.056656,                    y\n",
       " date                \n",
       " 2004-01-01  0.042873\n",
       " 2006-01-01  0.042461\n",
       " 2008-01-01  0.042236\n",
       " 2010-01-01  0.041875\n",
       " 2012-01-01  0.040427\n",
       " 2014-01-01  0.040060,                    y\n",
       " date                \n",
       " 2004-01-01  0.042353\n",
       " 2006-01-01  0.041920\n",
       " 2008-01-01  0.041655\n",
       " 2010-01-01  0.041258\n",
       " 2012-01-01  0.039067\n",
       " 2014-01-01  0.038659,                    y\n",
       " date                \n",
       " 2008-01-01  0.176438\n",
       " 2010-01-01  0.177138\n",
       " 2012-01-01  0.186606\n",
       " 2014-01-01  0.187557\n",
       " 2016-01-01  0.187805\n",
       " 2018-01-01  0.188126,                    y\n",
       " date                \n",
       " 2002-01-01  0.045243\n",
       " 2004-01-01  0.044807\n",
       " 2006-01-01  0.044381\n",
       " 2008-01-01  0.044107\n",
       " 2010-01-01  0.043713,                    y\n",
       " date                \n",
       " 2004-01-01  0.048955\n",
       " 2006-01-01  0.048591\n",
       " 2008-01-01  0.048248\n",
       " 2010-01-01  0.047835\n",
       " 2012-01-01  0.047618\n",
       " 2014-01-01  0.047134,                    y\n",
       " date                \n",
       " 2004-01-01  0.056578\n",
       " 2006-01-01  0.056166\n",
       " 2008-01-01  0.055934\n",
       " 2010-01-01  0.055630\n",
       " 2012-01-01  0.053795\n",
       " 2014-01-01  0.053511,                    y\n",
       " date                \n",
       " 2004-01-01  0.046041\n",
       " 2006-01-01  0.045607\n",
       " 2008-01-01  0.045427\n",
       " 2010-01-01  0.045097\n",
       " 2012-01-01  0.045115\n",
       " 2014-01-01  0.044888,                    y\n",
       " date                \n",
       " 2000-01-01  0.046707\n",
       " 2002-01-01  0.044177\n",
       " 2004-01-01  0.043839\n",
       " 2006-01-01  0.043451,                    y\n",
       " date                \n",
       " 2004-01-01  0.058126\n",
       " 2006-01-01  0.058112\n",
       " 2008-01-01  0.058245\n",
       " 2010-01-01  0.058349\n",
       " 2012-01-01  0.056666,                    y\n",
       " date                \n",
       " 2006-01-01  0.041997\n",
       " 2008-01-01  0.041956\n",
       " 2010-01-01  0.041650\n",
       " 2012-01-01  0.039643\n",
       " 2014-01-01  0.039301\n",
       " 2016-01-01  0.038966,                    y\n",
       " date                \n",
       " 2002-01-01  0.199294\n",
       " 2004-01-01  0.198891\n",
       " 2006-01-01  0.199919\n",
       " 2008-01-01  0.199898\n",
       " 2010-01-01  0.201153,                    y\n",
       " date                \n",
       " 2000-01-01  0.175030\n",
       " 2002-01-01  0.182158\n",
       " 2004-01-01  0.183849\n",
       " 2006-01-01  0.185420,                    y\n",
       " date                \n",
       " 2004-01-01  0.045011\n",
       " 2006-01-01  0.044675\n",
       " 2008-01-01  0.044616\n",
       " 2010-01-01  0.044320\n",
       " 2012-01-01  0.043122\n",
       " 2014-01-01  0.042845,                    y\n",
       " date                \n",
       " 2002-01-01  0.087510\n",
       " 2004-01-01  0.087389\n",
       " 2006-01-01  0.087565\n",
       " 2008-01-01  0.087357,                    y\n",
       " date                \n",
       " 2002-01-01  0.080716\n",
       " 2004-01-01  0.080569\n",
       " 2006-01-01  0.080414\n",
       " 2008-01-01  0.080443,                    y\n",
       " date                \n",
       " 2002-01-01  0.046289\n",
       " 2004-01-01  0.046008\n",
       " 2006-01-01  0.045695\n",
       " 2008-01-01  0.045553,                    y\n",
       " date                \n",
       " 2000-01-01  0.068226\n",
       " 2002-01-01  0.067945\n",
       " 2004-01-01  0.068158\n",
       " 2006-01-01  0.068318,                    y\n",
       " date                \n",
       " 2006-01-01  0.055910\n",
       " 2008-01-01  0.055816\n",
       " 2010-01-01  0.055596\n",
       " 2012-01-01  0.054472\n",
       " 2014-01-01  0.054281\n",
       " 2016-01-01  0.054100,                    y\n",
       " date                \n",
       " 2004-01-01  0.046306\n",
       " 2006-01-01  0.045955\n",
       " 2008-01-01  0.045769\n",
       " 2010-01-01  0.045450\n",
       " 2012-01-01  0.044021\n",
       " 2014-01-01  0.043692,                    y\n",
       " date                \n",
       " 2004-01-01  0.048889\n",
       " 2006-01-01  0.048552\n",
       " 2008-01-01  0.048404\n",
       " 2010-01-01  0.048112\n",
       " 2012-01-01  0.047569,                    y\n",
       " date                \n",
       " 2000-01-01  0.218287\n",
       " 2002-01-01  0.225240\n",
       " 2004-01-01  0.226058\n",
       " 2006-01-01  0.226721,                    y\n",
       " date                \n",
       " 2004-01-01  0.073596\n",
       " 2006-01-01  0.073298\n",
       " 2008-01-01  0.073047\n",
       " 2010-01-01  0.072509\n",
       " 2012-01-01  0.074267\n",
       " 2014-01-01  0.074026,                    y\n",
       " date                \n",
       " 2004-01-01  0.043709\n",
       " 2006-01-01  0.043373\n",
       " 2008-01-01  0.043147\n",
       " 2010-01-01  0.042817\n",
       " 2012-01-01  0.041045\n",
       " 2014-01-01  0.040659,                    y\n",
       " date                \n",
       " 2004-01-01  0.052207\n",
       " 2006-01-01  0.051937\n",
       " 2008-01-01  0.051811\n",
       " 2010-01-01  0.051539\n",
       " 2012-01-01  0.050483\n",
       " 2014-01-01  0.050084,                    y\n",
       " date                \n",
       " 2004-01-01  0.059746\n",
       " 2006-01-01  0.059441\n",
       " 2008-01-01  0.059318\n",
       " 2010-01-01  0.059040\n",
       " 2012-01-01  0.059456,                    y\n",
       " date                \n",
       " 2006-01-01  0.050790\n",
       " 2008-01-01  0.050651\n",
       " 2010-01-01  0.050387\n",
       " 2012-01-01  0.049700\n",
       " 2014-01-01  0.049452\n",
       " 2016-01-01  0.048961,                    y\n",
       " date                \n",
       " 2002-01-01  0.070999\n",
       " 2004-01-01  0.070675\n",
       " 2006-01-01  0.070265\n",
       " 2008-01-01  0.070037,                    y\n",
       " date                \n",
       " 2000-01-01  0.163360\n",
       " 2002-01-01  0.167738\n",
       " 2004-01-01  0.169149\n",
       " 2006-01-01  0.170427,                    y\n",
       " date                \n",
       " 2000-01-01  0.065511\n",
       " 2002-01-01  0.064856\n",
       " 2004-01-01  0.064647\n",
       " 2006-01-01  0.064368,                    y\n",
       " date                \n",
       " 2002-01-01  0.045180\n",
       " 2004-01-01  0.044711\n",
       " 2006-01-01  0.044151\n",
       " 2008-01-01  0.043978,                    y\n",
       " date                \n",
       " 2006-01-01  0.052602\n",
       " 2008-01-01  0.052502\n",
       " 2010-01-01  0.052332\n",
       " 2012-01-01  0.051717\n",
       " 2014-01-01  0.051490,                    y\n",
       " date                \n",
       " 2004-01-01  0.059734\n",
       " 2006-01-01  0.059483\n",
       " 2008-01-01  0.059691\n",
       " 2010-01-01  0.059487\n",
       " 2012-01-01  0.058864\n",
       " 2014-01-01  0.058735,                    y\n",
       " date                \n",
       " 2004-01-01  0.068627\n",
       " 2006-01-01  0.068598\n",
       " 2008-01-01  0.068677\n",
       " 2010-01-01  0.068577\n",
       " 2012-01-01  0.067723\n",
       " 2014-01-01  0.067546,                    y\n",
       " date                \n",
       " 2002-01-01  0.047257\n",
       " 2004-01-01  0.046998\n",
       " 2006-01-01  0.046708\n",
       " 2008-01-01  0.048051,                    y\n",
       " date                \n",
       " 2000-01-01  0.053973\n",
       " 2002-01-01  0.051916\n",
       " 2004-01-01  0.051608\n",
       " 2006-01-01  0.051248,                    y\n",
       " date                \n",
       " 2004-01-01  0.043581\n",
       " 2006-01-01  0.043188\n",
       " 2008-01-01  0.042994\n",
       " 2010-01-01  0.042674\n",
       " 2012-01-01  0.039812\n",
       " 2014-01-01  0.039495,                    y\n",
       " date                \n",
       " 2000-01-01  0.052989\n",
       " 2002-01-01  0.051570\n",
       " 2004-01-01  0.051309\n",
       " 2006-01-01  0.051115,                    y\n",
       " date                \n",
       " 2004-01-01  0.077149\n",
       " 2006-01-01  0.076878\n",
       " 2008-01-01  0.076779\n",
       " 2010-01-01  0.076544\n",
       " 2012-01-01  0.075230\n",
       " 2014-01-01  0.075206,                    y\n",
       " date                \n",
       " 2000-01-01  0.160027\n",
       " 2002-01-01  0.164947\n",
       " 2004-01-01  0.165866\n",
       " 2006-01-01  0.166774,                    y\n",
       " date                \n",
       " 2008-01-01  0.073730\n",
       " 2010-01-01  0.073864\n",
       " 2012-01-01  0.073252\n",
       " 2014-01-01  0.073220\n",
       " 2016-01-01  0.073191\n",
       " 2018-01-01  0.073374,                    y\n",
       " date                \n",
       " 2002-01-01  0.043023\n",
       " 2004-01-01  0.042690\n",
       " 2006-01-01  0.042311\n",
       " 2008-01-01  0.041637,                    y\n",
       " date                \n",
       " 2000-01-01  0.056532\n",
       " 2002-01-01  0.055099\n",
       " 2004-01-01  0.054921\n",
       " 2006-01-01  0.054710,                    y\n",
       " date                \n",
       " 2004-01-01  0.109932\n",
       " 2006-01-01  0.110113\n",
       " 2008-01-01  0.110442\n",
       " 2010-01-01  0.109949\n",
       " 2012-01-01  0.117860\n",
       " 2014-01-01  0.116931,                    y\n",
       " date                \n",
       " 2006-01-01  0.185990\n",
       " 2008-01-01  0.186593\n",
       " 2010-01-01  0.189293\n",
       " 2012-01-01  0.189964\n",
       " 2014-01-01  0.188876\n",
       " 2016-01-01  0.191036,                    y\n",
       " date                \n",
       " 2004-01-01  0.085246\n",
       " 2006-01-01  0.085407\n",
       " 2008-01-01  0.085875\n",
       " 2010-01-01  0.085863\n",
       " 2012-01-01  0.087325\n",
       " 2014-01-01  0.088167,                    y\n",
       " date                \n",
       " 2004-01-01  0.133672\n",
       " 2006-01-01  0.134164\n",
       " 2008-01-01  0.134942\n",
       " 2010-01-01  0.135766\n",
       " 2012-01-01  0.139793\n",
       " 2014-01-01  0.140876,                    y\n",
       " date                \n",
       " 2002-01-01  0.049360\n",
       " 2004-01-01  0.049067\n",
       " 2006-01-01  0.048907\n",
       " 2008-01-01  0.048317,                    y\n",
       " date                \n",
       " 2002-01-01  0.044457\n",
       " 2004-01-01  0.044159\n",
       " 2006-01-01  0.043814\n",
       " 2008-01-01  0.043638,                    y\n",
       " date                \n",
       " 2004-01-01  0.042157\n",
       " 2006-01-01  0.041828\n",
       " 2008-01-01  0.041666\n",
       " 2010-01-01  0.041379\n",
       " 2012-01-01  0.039425,                    y\n",
       " date                \n",
       " 2002-01-01  0.096865\n",
       " 2004-01-01  0.096665\n",
       " 2006-01-01  0.096740\n",
       " 2008-01-01  0.096601,                    y\n",
       " date                \n",
       " 2006-01-01  0.188848\n",
       " 2008-01-01  0.189513\n",
       " 2010-01-01  0.191519\n",
       " 2012-01-01  0.197480\n",
       " 2014-01-01  0.197716\n",
       " 2016-01-01  0.198001,                    y\n",
       " date                \n",
       " 2004-01-01  0.068005\n",
       " 2006-01-01  0.067918\n",
       " 2008-01-01  0.068060\n",
       " 2010-01-01  0.068138\n",
       " 2012-01-01  0.068205\n",
       " 2014-01-01  0.068741,                    y\n",
       " date                \n",
       " 2002-01-01  0.075821\n",
       " 2004-01-01  0.075737\n",
       " 2006-01-01  0.075653\n",
       " 2008-01-01  0.075572,                    y\n",
       " date                \n",
       " 2000-01-01  0.062733\n",
       " 2002-01-01  0.060826\n",
       " 2004-01-01  0.060456\n",
       " 2006-01-01  0.060029,                    y\n",
       " date                \n",
       " 2002-01-01  0.059570\n",
       " 2004-01-01  0.059464\n",
       " 2006-01-01  0.059345\n",
       " 2008-01-01  0.059315,                    y\n",
       " date                \n",
       " 2006-01-01  0.066235\n",
       " 2008-01-01  0.066103\n",
       " 2010-01-01  0.065807\n",
       " 2012-01-01  0.065659\n",
       " 2014-01-01  0.065403\n",
       " 2016-01-01  0.065040,                    y\n",
       " date                \n",
       " 2004-01-01  0.063025\n",
       " 2006-01-01  0.062724\n",
       " 2008-01-01  0.062802\n",
       " 2010-01-01  0.062889\n",
       " 2012-01-01  0.062668\n",
       " 2014-01-01  0.063015,                    y\n",
       " date                \n",
       " 2002-01-01  0.068154\n",
       " 2004-01-01  0.067810\n",
       " 2006-01-01  0.067411\n",
       " 2008-01-01  0.066511\n",
       " 2010-01-01  0.066316,                    y\n",
       " date                \n",
       " 2002-01-01  0.195440\n",
       " 2004-01-01  0.192362\n",
       " 2006-01-01  0.193155\n",
       " 2008-01-01  0.194751,                    y\n",
       " date                \n",
       " 2002-01-01  0.167624\n",
       " 2004-01-01  0.168522\n",
       " 2006-01-01  0.169350\n",
       " 2008-01-01  0.170400,                    y\n",
       " date                \n",
       " 2000-01-01  0.061411\n",
       " 2002-01-01  0.061465\n",
       " 2004-01-01  0.061308\n",
       " 2006-01-01  0.061100\n",
       " 2008-01-01  0.061173,                    y\n",
       " date                \n",
       " 2002-01-01  0.317103\n",
       " 2004-01-01  0.318033\n",
       " 2006-01-01  0.320272\n",
       " 2008-01-01  0.310805,                    y\n",
       " date                \n",
       " 2000-01-01  0.115824\n",
       " 2002-01-01  0.119439\n",
       " 2004-01-01  0.119840\n",
       " 2006-01-01  0.120574,                    y\n",
       " date                \n",
       " 2004-01-01  0.058338\n",
       " 2006-01-01  0.057861\n",
       " 2008-01-01  0.058013\n",
       " 2010-01-01  0.058056\n",
       " 2012-01-01  0.057062\n",
       " 2014-01-01  0.057196,                    y\n",
       " date                \n",
       " 2000-01-01  0.064965\n",
       " 2002-01-01  0.063641\n",
       " 2004-01-01  0.063392\n",
       " 2006-01-01  0.063189,                    y\n",
       " date                \n",
       " 2000-01-01  0.049540\n",
       " 2002-01-01  0.047517\n",
       " 2004-01-01  0.047143\n",
       " 2006-01-01  0.046717\n",
       " 2008-01-01  0.046515,                    y\n",
       " date                \n",
       " 2000-01-01  0.050451\n",
       " 2002-01-01  0.048929\n",
       " 2004-01-01  0.048672\n",
       " 2006-01-01  0.048375,                    y\n",
       " date                \n",
       " 2000-01-01  0.065139\n",
       " 2002-01-01  0.063433\n",
       " 2004-01-01  0.063154\n",
       " 2006-01-01  0.062831,                    y\n",
       " date                \n",
       " 2002-01-01  0.071512\n",
       " 2004-01-01  0.071183\n",
       " 2006-01-01  0.070813\n",
       " 2008-01-01  0.070430,                    y\n",
       " date                \n",
       " 2002-01-01  0.049436\n",
       " 2004-01-01  0.049165\n",
       " 2006-01-01  0.048842\n",
       " 2008-01-01  0.048689,                    y\n",
       " date                \n",
       " 2002-01-01  0.055524\n",
       " 2004-01-01  0.055111\n",
       " 2006-01-01  0.054623\n",
       " 2008-01-01  0.054428\n",
       " 2010-01-01  0.054199,                    y\n",
       " date                \n",
       " 2006-01-01  0.147305\n",
       " 2008-01-01  0.146595\n",
       " 2010-01-01  0.146705\n",
       " 2012-01-01  0.151891\n",
       " 2014-01-01  0.153612\n",
       " 2016-01-01  0.153168,                    y\n",
       " date                \n",
       " 2002-01-01  0.055114\n",
       " 2004-01-01  0.054899\n",
       " 2006-01-01  0.054740\n",
       " 2008-01-01  0.055345,                    y\n",
       " date                \n",
       " 1998-01-01  0.049473\n",
       " 2000-01-01  0.049156\n",
       " 2002-01-01  0.047441\n",
       " 2004-01-01  0.047112,                    y\n",
       " date                \n",
       " 2002-01-01  0.049019\n",
       " 2004-01-01  0.048735\n",
       " 2006-01-01  0.048431\n",
       " 2008-01-01  0.048366,                    y\n",
       " date                \n",
       " 2002-01-01  0.071448\n",
       " 2004-01-01  0.071328\n",
       " 2006-01-01  0.071142\n",
       " 2008-01-01  0.071136,                    y\n",
       " date                \n",
       " 2002-01-01  0.047484\n",
       " 2004-01-01  0.047414\n",
       " 2006-01-01  0.047171\n",
       " 2008-01-01  0.047077,                    y\n",
       " date                \n",
       " 2006-01-01  0.041516\n",
       " 2008-01-01  0.041438\n",
       " 2010-01-01  0.041194\n",
       " 2012-01-01  0.039846\n",
       " 2014-01-01  0.039539\n",
       " 2016-01-01  0.039239,                    y\n",
       " date                \n",
       " 2002-01-01  0.086675\n",
       " 2004-01-01  0.086689\n",
       " 2006-01-01  0.086730\n",
       " 2008-01-01  0.086731,                    y\n",
       " date                \n",
       " 2002-01-01  0.063658\n",
       " 2004-01-01  0.063331\n",
       " 2006-01-01  0.063360\n",
       " 2008-01-01  0.060723,                    y\n",
       " date                \n",
       " 2006-01-01  0.046806\n",
       " 2008-01-01  0.046558\n",
       " 2010-01-01  0.046197\n",
       " 2012-01-01  0.044445\n",
       " 2014-01-01  0.044042\n",
       " 2016-01-01  0.043659,                    y\n",
       " date                \n",
       " 2002-01-01  0.058727\n",
       " 2004-01-01  0.058638\n",
       " 2006-01-01  0.058090\n",
       " 2008-01-01  0.057673,                    y\n",
       " date                \n",
       " 2000-01-01  0.103239\n",
       " 2002-01-01  0.108851\n",
       " 2004-01-01  0.109274\n",
       " 2006-01-01  0.109508,                    y\n",
       " date                \n",
       " 2002-01-01  0.047628\n",
       " 2004-01-01  0.047574\n",
       " 2006-01-01  0.047182\n",
       " 2008-01-01  0.046958,                    y\n",
       " date                \n",
       " 2006-01-01  0.063999\n",
       " 2008-01-01  0.064059\n",
       " 2010-01-01  0.063528\n",
       " 2012-01-01  0.064205\n",
       " 2014-01-01  0.064358,                    y\n",
       " date                \n",
       " 2002-01-01  0.069124\n",
       " 2004-01-01  0.069175\n",
       " 2006-01-01  0.069201\n",
       " 2008-01-01  0.069361\n",
       " 2010-01-01  0.069308,                    y\n",
       " date                \n",
       " 2006-01-01  0.038087\n",
       " 2008-01-01  0.037856\n",
       " 2010-01-01  0.037542\n",
       " 2012-01-01  0.035229\n",
       " 2014-01-01  0.034831\n",
       " 2016-01-01  0.034429,                    y\n",
       " date                \n",
       " 2000-01-01  0.051903\n",
       " 2002-01-01  0.050473\n",
       " 2004-01-01  0.050236\n",
       " 2006-01-01  0.049866,                    y\n",
       " date                \n",
       " 2004-01-01  0.061293\n",
       " 2006-01-01  0.061217\n",
       " 2008-01-01  0.061235\n",
       " 2010-01-01  0.061179\n",
       " 2012-01-01  0.060514\n",
       " 2014-01-01  0.060451,                    y\n",
       " date                \n",
       " 2000-01-01  0.094208\n",
       " 2002-01-01  0.094373\n",
       " 2004-01-01  0.094606\n",
       " 2006-01-01  0.094753\n",
       " 2008-01-01  0.094825,                    y\n",
       " date                \n",
       " 2002-01-01  0.043607\n",
       " 2004-01-01  0.043313\n",
       " 2006-01-01  0.042954\n",
       " 2008-01-01  0.042818,                    y\n",
       " date                \n",
       " 2006-01-01  0.062510\n",
       " 2008-01-01  0.062986\n",
       " 2010-01-01  0.062724\n",
       " 2012-01-01  0.062025\n",
       " 2014-01-01  0.062013\n",
       " 2016-01-01  0.062646,                    y\n",
       " date                \n",
       " 2006-01-01  0.243241\n",
       " 2008-01-01  0.242223\n",
       " 2010-01-01  0.243409\n",
       " 2012-01-01  0.246008\n",
       " 2014-01-01  0.245106\n",
       " 2016-01-01  0.247726,                    y\n",
       " date                \n",
       " 2006-01-01  0.063637\n",
       " 2008-01-01  0.063602\n",
       " 2010-01-01  0.063244\n",
       " 2012-01-01  0.054376\n",
       " 2014-01-01  0.054139\n",
       " 2016-01-01  0.053752,                    y\n",
       " date                \n",
       " 2006-01-01  0.215983\n",
       " 2008-01-01  0.216246\n",
       " 2010-01-01  0.218544\n",
       " 2012-01-01  0.228610\n",
       " 2014-01-01  0.230131\n",
       " 2016-01-01  0.231257,                    y\n",
       " date                \n",
       " 2006-01-01  0.202782\n",
       " 2008-01-01  0.206397\n",
       " 2010-01-01  0.206243\n",
       " 2012-01-01  0.216510\n",
       " 2014-01-01  0.217232\n",
       " 2016-01-01  0.217826,                    y\n",
       " date                \n",
       " 2004-01-01  0.056990\n",
       " 2006-01-01  0.056598\n",
       " 2008-01-01  0.056187\n",
       " 2010-01-01  0.055753\n",
       " 2012-01-01  0.055386\n",
       " 2014-01-01  0.055063,                    y\n",
       " date                \n",
       " 2004-01-01  0.068987\n",
       " 2006-01-01  0.068902\n",
       " 2008-01-01  0.068445\n",
       " 2010-01-01  0.068472\n",
       " 2012-01-01  0.068644,                    y\n",
       " date                \n",
       " 1998-01-01  0.044987\n",
       " 2000-01-01  0.044695\n",
       " 2002-01-01  0.042352\n",
       " 2004-01-01  0.042042,                    y\n",
       " date                \n",
       " 1998-01-01  0.065850\n",
       " 2000-01-01  0.065792\n",
       " 2002-01-01  0.065031\n",
       " 2004-01-01  0.064961,                    y\n",
       " date                \n",
       " 2004-01-01  0.059421\n",
       " 2006-01-01  0.059102\n",
       " 2008-01-01  0.059267\n",
       " 2010-01-01  0.058915\n",
       " 2012-01-01  0.057820,                    y\n",
       " date                \n",
       " 2004-01-01  0.052728\n",
       " 2006-01-01  0.052577\n",
       " 2008-01-01  0.052571\n",
       " 2010-01-01  0.052507\n",
       " 2012-01-01  0.050515\n",
       " 2014-01-01  0.050493,                    y\n",
       " date                \n",
       " 2004-01-01  0.050380\n",
       " 2006-01-01  0.050166\n",
       " 2008-01-01  0.050162\n",
       " 2010-01-01  0.049941\n",
       " 2012-01-01  0.050234,                    y\n",
       " date                \n",
       " 2002-01-01  0.053605\n",
       " 2004-01-01  0.053242\n",
       " 2006-01-01  0.052824\n",
       " 2008-01-01  0.051715,                    y\n",
       " date                \n",
       " 2002-01-01  0.113081\n",
       " 2004-01-01  0.113977\n",
       " 2006-01-01  0.114205\n",
       " 2008-01-01  0.113252\n",
       " 2010-01-01  0.113558,                    y\n",
       " date                \n",
       " 1998-01-01  0.090204\n",
       " 2000-01-01  0.090707\n",
       " 2002-01-01  0.092990\n",
       " 2004-01-01  0.093590,                    y\n",
       " date                \n",
       " 2002-01-01  0.170957\n",
       " 2004-01-01  0.171038\n",
       " 2006-01-01  0.171296\n",
       " 2008-01-01  0.171567,                    y\n",
       " date                \n",
       " 2002-01-01  0.067284\n",
       " 2004-01-01  0.067214\n",
       " 2006-01-01  0.067100\n",
       " 2008-01-01  0.067169,                    y\n",
       " date                \n",
       " 2002-01-01  0.042401\n",
       " 2004-01-01  0.042106\n",
       " 2006-01-01  0.041757\n",
       " 2008-01-01  0.041709,                    y\n",
       " date                \n",
       " 2000-01-01  0.049527\n",
       " 2002-01-01  0.047787\n",
       " 2004-01-01  0.047492\n",
       " 2006-01-01  0.047053,                    y\n",
       " date                \n",
       " 2004-01-01  0.045921\n",
       " 2006-01-01  0.045577\n",
       " 2008-01-01  0.045303\n",
       " 2010-01-01  0.045029\n",
       " 2012-01-01  0.043445\n",
       " 2014-01-01  0.043221,                    y\n",
       " date                \n",
       " 2002-01-01  0.237224\n",
       " 2004-01-01  0.239367\n",
       " 2006-01-01  0.241481\n",
       " 2008-01-01  0.242578,                    y\n",
       " date                \n",
       " 2000-01-01  0.050662\n",
       " 2002-01-01  0.048877\n",
       " 2004-01-01  0.048542\n",
       " 2006-01-01  0.048160,                    y\n",
       " date                \n",
       " 2004-01-01  0.048283\n",
       " 2006-01-01  0.047910\n",
       " 2008-01-01  0.047727\n",
       " 2010-01-01  0.047417\n",
       " 2012-01-01  0.045390,                    y\n",
       " date                \n",
       " 2006-01-01  0.053950\n",
       " 2008-01-01  0.053981\n",
       " 2010-01-01  0.053659\n",
       " 2012-01-01  0.051821\n",
       " 2014-01-01  0.051471\n",
       " 2016-01-01  0.051176,                    y\n",
       " date                \n",
       " 2002-01-01  0.058586\n",
       " 2004-01-01  0.058454\n",
       " 2006-01-01  0.058285\n",
       " 2008-01-01  0.058177,                    y\n",
       " date                \n",
       " 2006-01-01  0.140974\n",
       " 2008-01-01  0.143537\n",
       " 2010-01-01  0.144600\n",
       " 2012-01-01  0.149261\n",
       " 2014-01-01  0.150251\n",
       " 2016-01-01  0.150871,                    y\n",
       " date                \n",
       " 2004-01-01  0.044337\n",
       " 2006-01-01  0.043948\n",
       " 2008-01-01  0.043660\n",
       " 2010-01-01  0.043265\n",
       " 2012-01-01  0.040992\n",
       " 2014-01-01  0.040740,                    y\n",
       " date                \n",
       " 2006-01-01  0.065613\n",
       " 2008-01-01  0.065557\n",
       " 2010-01-01  0.065699\n",
       " 2012-01-01  0.064513\n",
       " 2014-01-01  0.064170\n",
       " 2016-01-01  0.063806,                    y\n",
       " date                \n",
       " 2002-01-01  0.105831\n",
       " 2004-01-01  0.105469\n",
       " 2006-01-01  0.105072\n",
       " 2008-01-01  0.104985\n",
       " 2010-01-01  0.105273,                    y\n",
       " date                \n",
       " 2006-01-01  0.044238\n",
       " 2008-01-01  0.044145\n",
       " 2010-01-01  0.043853\n",
       " 2012-01-01  0.042232\n",
       " 2014-01-01  0.041914\n",
       " 2016-01-01  0.041665,                    y\n",
       " date                \n",
       " 2008-01-01  0.043698\n",
       " 2010-01-01  0.043330\n",
       " 2012-01-01  0.041529\n",
       " 2014-01-01  0.041218\n",
       " 2016-01-01  0.041049\n",
       " 2018-01-01  0.040945,                    y\n",
       " date                \n",
       " 1998-01-01  0.046988\n",
       " 2000-01-01  0.046680\n",
       " 2002-01-01  0.044311\n",
       " 2004-01-01  0.043965,                    y\n",
       " date                \n",
       " 2000-01-01  0.045130\n",
       " 2002-01-01  0.042593\n",
       " 2004-01-01  0.042216\n",
       " 2006-01-01  0.041944,                    y\n",
       " date                \n",
       " 2004-01-01  0.041947\n",
       " 2006-01-01  0.041536\n",
       " 2008-01-01  0.041329\n",
       " 2010-01-01  0.040978\n",
       " 2012-01-01  0.038359,                    y\n",
       " date                \n",
       " 2002-01-01  0.048200\n",
       " 2004-01-01  0.047933\n",
       " 2006-01-01  0.047615\n",
       " 2008-01-01  0.047550\n",
       " 2010-01-01  0.047345,                    y\n",
       " date                \n",
       " 2002-01-01  0.041711\n",
       " 2004-01-01  0.041404\n",
       " 2006-01-01  0.041058\n",
       " 2008-01-01  0.040877\n",
       " 2010-01-01  0.040586,                    y\n",
       " date                \n",
       " 2006-01-01  0.054674\n",
       " 2008-01-01  0.054836\n",
       " 2010-01-01  0.054613\n",
       " 2012-01-01  0.053760\n",
       " 2014-01-01  0.053495\n",
       " 2016-01-01  0.053184,                    y\n",
       " date                \n",
       " 2004-01-01  0.056979\n",
       " 2006-01-01  0.056636\n",
       " 2008-01-01  0.056572\n",
       " 2010-01-01  0.056274\n",
       " 2012-01-01  0.055075,                    y\n",
       " date                \n",
       " 2006-01-01  0.044176\n",
       " 2008-01-01  0.043829\n",
       " 2010-01-01  0.043495\n",
       " 2012-01-01  0.041183\n",
       " 2014-01-01  0.040900,                    y\n",
       " date                \n",
       " 2002-01-01  0.044839\n",
       " 2004-01-01  0.044457\n",
       " 2006-01-01  0.044021\n",
       " 2008-01-01  0.043852\n",
       " 2010-01-01  0.043482,                    y\n",
       " date                \n",
       " 2004-01-01  0.045155\n",
       " 2006-01-01  0.044817\n",
       " 2008-01-01  0.044655\n",
       " 2010-01-01  0.044362\n",
       " 2012-01-01  0.042726\n",
       " 2014-01-01  0.042398,                    y\n",
       " date                \n",
       " 2006-01-01  0.093383\n",
       " 2008-01-01  0.094602\n",
       " 2010-01-01  0.095347\n",
       " 2012-01-01  0.096469\n",
       " 2014-01-01  0.096613\n",
       " 2016-01-01  0.096686,                    y\n",
       " date                \n",
       " 2000-01-01  0.044038\n",
       " 2002-01-01  0.041416\n",
       " 2004-01-01  0.041076\n",
       " 2006-01-01  0.040705,                    y\n",
       " date                \n",
       " 2006-01-01  0.054926\n",
       " 2008-01-01  0.054804\n",
       " 2010-01-01  0.054555\n",
       " 2012-01-01  0.052522\n",
       " 2014-01-01  0.052127\n",
       " 2016-01-01  0.051815,                    y\n",
       " date                \n",
       " 2002-01-01  0.042765\n",
       " 2004-01-01  0.042479\n",
       " 2006-01-01  0.042124\n",
       " 2008-01-01  0.041504,                    y\n",
       " date                \n",
       " 2000-01-01  0.054829\n",
       " 2002-01-01  0.053763\n",
       " 2004-01-01  0.053494\n",
       " 2006-01-01  0.053210,                    y\n",
       " date                \n",
       " 2002-01-01  0.107359\n",
       " 2004-01-01  0.107449\n",
       " 2006-01-01  0.107498\n",
       " 2008-01-01  0.106344,                    y\n",
       " date                \n",
       " 2002-01-01  0.038866\n",
       " 2004-01-01  0.038526\n",
       " 2006-01-01  0.038129\n",
       " 2008-01-01  0.037923\n",
       " 2010-01-01  0.037578,                    y\n",
       " date                \n",
       " 2004-01-01  0.190312\n",
       " 2006-01-01  0.190728\n",
       " 2008-01-01  0.191398\n",
       " 2010-01-01  0.192255\n",
       " 2012-01-01  0.199061\n",
       " 2014-01-01  0.199395,                    y\n",
       " date                \n",
       " 2004-01-01  0.042494\n",
       " 2006-01-01  0.042208\n",
       " 2008-01-01  0.042113\n",
       " 2010-01-01  0.041882\n",
       " 2012-01-01  0.040794\n",
       " 2014-01-01  0.040599,                    y\n",
       " date                \n",
       " 2008-01-01  0.061549\n",
       " 2010-01-01  0.061228\n",
       " 2012-01-01  0.063607\n",
       " 2014-01-01  0.063375\n",
       " 2016-01-01  0.063400\n",
       " 2018-01-01  0.063358,                    y\n",
       " date                \n",
       " 2004-01-01  0.053734\n",
       " 2006-01-01  0.053422\n",
       " 2008-01-01  0.053260\n",
       " 2010-01-01  0.053008\n",
       " 2012-01-01  0.052860\n",
       " 2014-01-01  0.052576,                    y\n",
       " date                \n",
       " 2004-01-01  0.084430\n",
       " 2006-01-01  0.084662\n",
       " 2008-01-01  0.085552\n",
       " 2010-01-01  0.085848\n",
       " 2012-01-01  0.088922\n",
       " 2014-01-01  0.089728,                    y\n",
       " date                \n",
       " 2002-01-01  0.045658\n",
       " 2004-01-01  0.045347\n",
       " 2006-01-01  0.045004\n",
       " 2008-01-01  0.044757,                    y\n",
       " date                \n",
       " 2000-01-01  0.238292\n",
       " 2002-01-01  0.252456\n",
       " 2004-01-01  0.253279\n",
       " 2006-01-01  0.254002,                    y\n",
       " date                \n",
       " 2004-01-01  0.043729\n",
       " 2006-01-01  0.043371\n",
       " 2008-01-01  0.043182\n",
       " 2010-01-01  0.042859\n",
       " 2012-01-01  0.040750\n",
       " 2014-01-01  0.040422,                    y\n",
       " date                \n",
       " 2008-01-01  0.157677\n",
       " 2010-01-01  0.161126\n",
       " 2012-01-01  0.153126\n",
       " 2014-01-01  0.153450\n",
       " 2016-01-01  0.153376\n",
       " 2018-01-01  0.154130,                    y\n",
       " date                \n",
       " 2004-01-01  0.225729\n",
       " 2006-01-01  0.227042\n",
       " 2008-01-01  0.225966\n",
       " 2010-01-01  0.226882\n",
       " 2012-01-01  0.239007\n",
       " 2014-01-01  0.240741,                    y\n",
       " date                \n",
       " 2004-01-01  0.045406\n",
       " 2006-01-01  0.045020\n",
       " 2008-01-01  0.044688\n",
       " 2010-01-01  0.044324\n",
       " 2012-01-01  0.042062\n",
       " 2014-01-01  0.041574,                    y\n",
       " date                \n",
       " 2004-01-01  0.042941\n",
       " 2006-01-01  0.042573\n",
       " 2008-01-01  0.042369\n",
       " 2010-01-01  0.042034\n",
       " 2012-01-01  0.039525\n",
       " 2014-01-01  0.039193,                    y\n",
       " date                \n",
       " 2000-01-01  0.046587\n",
       " 2002-01-01  0.044727\n",
       " 2004-01-01  0.044359\n",
       " 2006-01-01  0.043858,                    y\n",
       " date                \n",
       " 2006-01-01  0.042758\n",
       " 2008-01-01  0.042469\n",
       " 2010-01-01  0.042061\n",
       " 2012-01-01  0.040081\n",
       " 2014-01-01  0.039743\n",
       " 2016-01-01  0.039350,                    y\n",
       " date                \n",
       " 2004-01-01  0.193277\n",
       " 2006-01-01  0.193185\n",
       " 2008-01-01  0.192353\n",
       " 2010-01-01  0.189895\n",
       " 2012-01-01  0.193875\n",
       " 2014-01-01  0.194263,                    y\n",
       " date                \n",
       " 2002-01-01  0.079868\n",
       " 2004-01-01  0.079907\n",
       " 2006-01-01  0.079828\n",
       " 2008-01-01  0.079650,                    y\n",
       " date                \n",
       " 2002-01-01  0.178507\n",
       " 2004-01-01  0.180272\n",
       " 2006-01-01  0.181879\n",
       " 2008-01-01  0.184045,                    y\n",
       " date                \n",
       " 2004-01-01  0.176438\n",
       " 2006-01-01  0.176544\n",
       " 2008-01-01  0.176767\n",
       " 2010-01-01  0.176833\n",
       " 2012-01-01  0.179859,                    y\n",
       " date                \n",
       " 2006-01-01  0.062964\n",
       " 2008-01-01  0.062305\n",
       " 2010-01-01  0.062034\n",
       " 2012-01-01  0.062368\n",
       " 2014-01-01  0.061795\n",
       " 2016-01-01  0.061518,                    y\n",
       " date                \n",
       " 2006-01-01  0.379398\n",
       " 2008-01-01  0.377597\n",
       " 2010-01-01  0.379857\n",
       " 2012-01-01  0.366483\n",
       " 2014-01-01  0.368172\n",
       " 2016-01-01  0.367996,                    y\n",
       " date                \n",
       " 2004-01-01  0.042691\n",
       " 2006-01-01  0.042320\n",
       " 2008-01-01  0.042120\n",
       " 2010-01-01  0.041790\n",
       " 2012-01-01  0.040295\n",
       " 2014-01-01  0.039985,                    y\n",
       " date                \n",
       " 2002-01-01  0.290796\n",
       " 2004-01-01  0.291572\n",
       " 2006-01-01  0.294162\n",
       " 2008-01-01  0.296728\n",
       " 2010-01-01  0.294654,                    y\n",
       " date                \n",
       " 2004-01-01  0.100518\n",
       " 2006-01-01  0.100489\n",
       " 2008-01-01  0.100635\n",
       " 2010-01-01  0.100636\n",
       " 2012-01-01  0.102595\n",
       " 2014-01-01  0.102609,                    y\n",
       " date                \n",
       " 2002-01-01  0.044475\n",
       " 2004-01-01  0.044186\n",
       " 2006-01-01  0.043849\n",
       " 2008-01-01  0.045722,                    y\n",
       " date                \n",
       " 2006-01-01  0.042193\n",
       " 2008-01-01  0.041997\n",
       " 2010-01-01  0.041653\n",
       " 2012-01-01  0.039898\n",
       " 2014-01-01  0.039558\n",
       " 2016-01-01  0.039219,                    y\n",
       " date                \n",
       " 2006-01-01  0.050405\n",
       " 2008-01-01  0.050526\n",
       " 2010-01-01  0.050385\n",
       " 2012-01-01  0.049279\n",
       " 2014-01-01  0.049437,                    y\n",
       " date                \n",
       " 2000-01-01  0.047315\n",
       " 2002-01-01  0.045220\n",
       " 2004-01-01  0.044879\n",
       " 2006-01-01  0.044486,                    y\n",
       " date                \n",
       " 2002-01-01  0.055560\n",
       " 2004-01-01  0.055374\n",
       " 2006-01-01  0.055037\n",
       " 2008-01-01  0.054874\n",
       " 2010-01-01  0.054571,                    y\n",
       " date                \n",
       " 2004-01-01  0.055803\n",
       " 2006-01-01  0.055647\n",
       " 2008-01-01  0.055780\n",
       " 2010-01-01  0.055550\n",
       " 2012-01-01  0.053887\n",
       " 2014-01-01  0.053554,                    y\n",
       " date                \n",
       " 1998-01-01  0.057991\n",
       " 2000-01-01  0.057933\n",
       " 2002-01-01  0.056418\n",
       " 2004-01-01  0.056030,                    y\n",
       " date                \n",
       " 2002-01-01  0.042948\n",
       " 2004-01-01  0.042604\n",
       " 2006-01-01  0.042176\n",
       " 2008-01-01  0.041960,                    y\n",
       " date                \n",
       " 2002-01-01  0.100019\n",
       " 2004-01-01  0.100174\n",
       " 2006-01-01  0.100333\n",
       " 2008-01-01  0.100873,                    y\n",
       " date                \n",
       " 2004-01-01  0.063013\n",
       " 2006-01-01  0.062745\n",
       " 2008-01-01  0.062644\n",
       " 2010-01-01  0.062414\n",
       " 2012-01-01  0.060724,                    y\n",
       " date                \n",
       " 2004-01-01  0.093732\n",
       " 2006-01-01  0.094291\n",
       " 2008-01-01  0.094714\n",
       " 2010-01-01  0.094945\n",
       " 2012-01-01  0.099139,                    y\n",
       " date                \n",
       " 2000-01-01  0.044732\n",
       " 2002-01-01  0.042755\n",
       " 2004-01-01  0.042456\n",
       " 2006-01-01  0.042079,                    y\n",
       " date                \n",
       " 2004-01-01  0.137366\n",
       " 2006-01-01  0.137851\n",
       " 2008-01-01  0.138205\n",
       " 2010-01-01  0.138468\n",
       " 2012-01-01  0.139956,                    y\n",
       " date                \n",
       " 2004-01-01  0.125783\n",
       " 2006-01-01  0.125816\n",
       " 2008-01-01  0.125858\n",
       " 2010-01-01  0.125922\n",
       " 2012-01-01  0.125887\n",
       " 2014-01-01  0.125961,                    y\n",
       " date                \n",
       " 2004-01-01  0.044967\n",
       " 2006-01-01  0.044645\n",
       " 2008-01-01  0.044471\n",
       " 2010-01-01  0.044197\n",
       " 2012-01-01  0.042252\n",
       " 2014-01-01  0.041849,                    y\n",
       " date                \n",
       " 2002-01-01  0.163162\n",
       " 2004-01-01  0.163501\n",
       " 2006-01-01  0.163764\n",
       " 2008-01-01  0.165448]"
      ]
     },
     "execution_count": 70,
     "metadata": {},
     "output_type": "execute_result"
    }
   ],
   "source": [
    "split_1_y"
   ]
  },
  {
   "cell_type": "code",
   "execution_count": 75,
   "metadata": {
    "ExecuteTime": {
     "end_time": "2020-06-19T10:47:50.640782Z",
     "start_time": "2020-06-19T10:47:50.629983Z"
    }
   },
   "outputs": [
    {
     "name": "stdout",
     "output_type": "stream",
     "text": [
      "0.0003476252901659671\n"
     ]
    }
   ],
   "source": [
    "mses = []\n",
    "\n",
    "mses.append(mean_squared_error(split_0_y, split_0_preds))\n",
    "mses.append(mean_squared_error(split_1_y, split_1_preds))\n",
    "mses.append(mean_squared_error(split_2_y, split_2_preds))\n",
    "\n",
    "mses\n",
    "print(np.mean(mses))"
   ]
  },
  {
   "cell_type": "code",
   "execution_count": 76,
   "metadata": {
    "ExecuteTime": {
     "end_time": "2020-06-19T10:50:20.866298Z",
     "start_time": "2020-06-19T10:50:20.860242Z"
    }
   },
   "outputs": [
    {
     "data": {
      "text/plain": [
       "897"
      ]
     },
     "execution_count": 76,
     "metadata": {},
     "output_type": "execute_result"
    }
   ],
   "source": [
    "len(split_2_y)\n",
    "len(split_2_preds)"
   ]
  },
  {
   "cell_type": "code",
   "execution_count": 78,
   "metadata": {
    "ExecuteTime": {
     "end_time": "2020-06-19T10:50:45.888370Z",
     "start_time": "2020-06-19T10:50:45.857208Z"
    }
   },
   "outputs": [
    {
     "data": {
      "text/html": [
       "<div>\n",
       "<style scoped>\n",
       "    .dataframe tbody tr th:only-of-type {\n",
       "        vertical-align: middle;\n",
       "    }\n",
       "\n",
       "    .dataframe tbody tr th {\n",
       "        vertical-align: top;\n",
       "    }\n",
       "\n",
       "    .dataframe thead th {\n",
       "        text-align: right;\n",
       "    }\n",
       "</style>\n",
       "<table border=\"1\" class=\"dataframe\">\n",
       "  <thead>\n",
       "    <tr style=\"text-align: right;\">\n",
       "      <th></th>\n",
       "      <th>Adjusted net savings</th>\n",
       "      <th>Adolescent birth rate (births per 1,000 female creatures ages 15-19)</th>\n",
       "      <th>Creature Immunodeficiency Disease prevalence, adult (% ages 15-49), total</th>\n",
       "      <th>Current health expenditure (% of GGP)</th>\n",
       "      <th>Domestic credit provided by financial sector (% of GGP)</th>\n",
       "      <th>Education Index</th>\n",
       "      <th>Employment in agriculture (% of total employment)</th>\n",
       "      <th>Employment in services (% of total employment)</th>\n",
       "      <th>Employment to population ratio (% ages 15 and older)</th>\n",
       "      <th>Estimated gross galactic income per capita, female</th>\n",
       "      <th>...</th>\n",
       "      <th>Vulnerable employment (% of total employment)</th>\n",
       "      <th>Young age (0-14) dependency ratio (per 100 creatures ages 15-64)</th>\n",
       "      <th>Youth unemployment rate (female to male ratio)</th>\n",
       "      <th>existence expectancy at birth</th>\n",
       "      <th>existence expectancy index</th>\n",
       "      <th>galactic year</th>\n",
       "      <th>galaxy</th>\n",
       "      <th>y</th>\n",
       "      <th>galactic year 1</th>\n",
       "      <th>date</th>\n",
       "    </tr>\n",
       "  </thead>\n",
       "  <tbody>\n",
       "    <tr>\n",
       "      <td>144</td>\n",
       "      <td>20.751377</td>\n",
       "      <td>114.074664</td>\n",
       "      <td>6.313144</td>\n",
       "      <td>8.536079</td>\n",
       "      <td>119.963809</td>\n",
       "      <td>0.750846</td>\n",
       "      <td>55.203046</td>\n",
       "      <td>67.082939</td>\n",
       "      <td>69.150998</td>\n",
       "      <td>22013.091432</td>\n",
       "      <td>...</td>\n",
       "      <td>69.460892</td>\n",
       "      <td>79.295416</td>\n",
       "      <td>2.257781</td>\n",
       "      <td>77.382893</td>\n",
       "      <td>0.882087</td>\n",
       "      <td>990025</td>\n",
       "      <td>NGC 5253</td>\n",
       "      <td>0.045115</td>\n",
       "      <td>19800101</td>\n",
       "      <td>1980-01-01</td>\n",
       "    </tr>\n",
       "  </tbody>\n",
       "</table>\n",
       "<p>1 rows × 82 columns</p>\n",
       "</div>"
      ],
      "text/plain": [
       "     Adjusted net savings   \\\n",
       "144              20.751377   \n",
       "\n",
       "     Adolescent birth rate (births per 1,000 female creatures ages 15-19)  \\\n",
       "144                                         114.074664                      \n",
       "\n",
       "     Creature Immunodeficiency Disease prevalence, adult (% ages 15-49), total  \\\n",
       "144                                           6.313144                           \n",
       "\n",
       "     Current health expenditure (% of GGP)  \\\n",
       "144                               8.536079   \n",
       "\n",
       "     Domestic credit provided by financial sector (% of GGP)  Education Index  \\\n",
       "144                                         119.963809               0.750846   \n",
       "\n",
       "     Employment in agriculture (% of total employment)  \\\n",
       "144                                          55.203046   \n",
       "\n",
       "     Employment in services (% of total employment)  \\\n",
       "144                                       67.082939   \n",
       "\n",
       "     Employment to population ratio (% ages 15 and older)  \\\n",
       "144                                          69.150998      \n",
       "\n",
       "     Estimated gross galactic income per capita, female  ...  \\\n",
       "144                                       22013.091432   ...   \n",
       "\n",
       "     Vulnerable employment (% of total employment)  \\\n",
       "144                                      69.460892   \n",
       "\n",
       "     Young age (0-14) dependency ratio (per 100 creatures ages 15-64)  \\\n",
       "144                                          79.295416                  \n",
       "\n",
       "     Youth unemployment rate (female to male ratio)  \\\n",
       "144                                        2.257781   \n",
       "\n",
       "     existence expectancy at birth  existence expectancy index  galactic year  \\\n",
       "144                      77.382893                    0.882087         990025   \n",
       "\n",
       "       galaxy         y  galactic year 1       date  \n",
       "144  NGC 5253  0.045115         19800101 1980-01-01  \n",
       "\n",
       "[1 rows x 82 columns]"
      ]
     },
     "execution_count": 78,
     "metadata": {},
     "output_type": "execute_result"
    }
   ],
   "source": [
    "df[df['galaxy']=='NGC 5253']"
   ]
  },
  {
   "cell_type": "code",
   "execution_count": null,
   "metadata": {},
   "outputs": [],
   "source": []
  }
 ],
 "metadata": {
  "kernelspec": {
   "display_name": "Python 3",
   "language": "python",
   "name": "python3"
  },
  "language_info": {
   "codemirror_mode": {
    "name": "ipython",
    "version": 3
   },
   "file_extension": ".py",
   "mimetype": "text/x-python",
   "name": "python",
   "nbconvert_exporter": "python",
   "pygments_lexer": "ipython3",
   "version": "3.7.4"
  }
 },
 "nbformat": 4,
 "nbformat_minor": 2
}
