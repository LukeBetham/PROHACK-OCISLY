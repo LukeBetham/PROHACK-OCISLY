{
 "cells": [
  {
   "cell_type": "code",
   "execution_count": 1,
   "metadata": {
    "ExecuteTime": {
     "end_time": "2020-06-08T21:11:55.203542Z",
     "start_time": "2020-06-08T21:11:53.649626Z"
    }
   },
   "outputs": [],
   "source": [
    "import pandas as pd\n",
    "import matplotlib.pyplot as plt\n",
    "import seaborn as sns"
   ]
  },
  {
   "cell_type": "code",
   "execution_count": 2,
   "metadata": {
    "ExecuteTime": {
     "end_time": "2020-06-08T21:11:55.265270Z",
     "start_time": "2020-06-08T21:11:55.205636Z"
    }
   },
   "outputs": [],
   "source": [
    "submission_df = pd.read_csv(\"y_preds.csv\")\n",
    "df_test = pd.read_csv('test_amended.csv')"
   ]
  },
  {
   "cell_type": "code",
   "execution_count": 3,
   "metadata": {
    "ExecuteTime": {
     "end_time": "2020-06-08T21:11:55.384837Z",
     "start_time": "2020-06-08T21:11:55.355594Z"
    }
   },
   "outputs": [],
   "source": [
    "df_test_non = pd.read_csv('test.csv')"
   ]
  },
  {
   "cell_type": "code",
   "execution_count": 4,
   "metadata": {
    "ExecuteTime": {
     "end_time": "2020-06-08T21:11:55.438675Z",
     "start_time": "2020-06-08T21:11:55.431701Z"
    }
   },
   "outputs": [],
   "source": [
    "# one of the interpolations was placed below 0.7 which makes the upload break\n",
    "df_test.iloc[889,1] = 0.75"
   ]
  },
  {
   "cell_type": "code",
   "execution_count": 5,
   "metadata": {
    "ExecuteTime": {
     "end_time": "2020-06-08T21:11:55.566958Z",
     "start_time": "2020-06-08T21:11:55.539623Z"
    }
   },
   "outputs": [
    {
     "data": {
      "text/html": [
       "<div>\n",
       "<style scoped>\n",
       "    .dataframe tbody tr th:only-of-type {\n",
       "        vertical-align: middle;\n",
       "    }\n",
       "\n",
       "    .dataframe tbody tr th {\n",
       "        vertical-align: top;\n",
       "    }\n",
       "\n",
       "    .dataframe thead th {\n",
       "        text-align: right;\n",
       "    }\n",
       "</style>\n",
       "<table border=\"1\" class=\"dataframe\">\n",
       "  <thead>\n",
       "    <tr style=\"text-align: right;\">\n",
       "      <th></th>\n",
       "      <th>galactic year</th>\n",
       "      <th>existence expectancy index</th>\n",
       "      <th>existence expectancy at birth</th>\n",
       "      <th>Gross income per capita</th>\n",
       "      <th>Income Index</th>\n",
       "      <th>Expected years of education (galactic years)</th>\n",
       "      <th>Mean years of education (galactic years)</th>\n",
       "      <th>Intergalactic Development Index (IDI)</th>\n",
       "      <th>Education Index</th>\n",
       "      <th>Intergalactic Development Index (IDI), Rank</th>\n",
       "      <th>...</th>\n",
       "      <th>galaxy_UGCA 292</th>\n",
       "      <th>galaxy_UGCA 438 (ESO 407-018)</th>\n",
       "      <th>galaxy_UGCA 86</th>\n",
       "      <th>galaxy_UGCA 92</th>\n",
       "      <th>galaxy_Ursa Major I Dwarf (UMa I dSph)</th>\n",
       "      <th>galaxy_Ursa Major II Dwarf</th>\n",
       "      <th>galaxy_Ursa Minor Dwarf</th>\n",
       "      <th>galaxy_Virgo I</th>\n",
       "      <th>galaxy_Willman 1</th>\n",
       "      <th>galaxy_Wolf-Lundmark-Melotte (WLM, DDO 221)</th>\n",
       "    </tr>\n",
       "  </thead>\n",
       "  <tbody>\n",
       "    <tr>\n",
       "      <th>0</th>\n",
       "      <td>1007012</td>\n",
       "      <td>0.456086</td>\n",
       "      <td>51.562543</td>\n",
       "      <td>12236.576447</td>\n",
       "      <td>0.593325</td>\n",
       "      <td>10.414164</td>\n",
       "      <td>10.699072</td>\n",
       "      <td>0.547114</td>\n",
       "      <td>0.556267</td>\n",
       "      <td>232.621842</td>\n",
       "      <td>...</td>\n",
       "      <td>0</td>\n",
       "      <td>0</td>\n",
       "      <td>0</td>\n",
       "      <td>0</td>\n",
       "      <td>0</td>\n",
       "      <td>0</td>\n",
       "      <td>0</td>\n",
       "      <td>0</td>\n",
       "      <td>0</td>\n",
       "      <td>0</td>\n",
       "    </tr>\n",
       "    <tr>\n",
       "      <th>1</th>\n",
       "      <td>1007012</td>\n",
       "      <td>0.529835</td>\n",
       "      <td>57.228262</td>\n",
       "      <td>3431.883825</td>\n",
       "      <td>0.675407</td>\n",
       "      <td>7.239485</td>\n",
       "      <td>5.311122</td>\n",
       "      <td>0.497688</td>\n",
       "      <td>0.409969</td>\n",
       "      <td>247.580771</td>\n",
       "      <td>...</td>\n",
       "      <td>0</td>\n",
       "      <td>0</td>\n",
       "      <td>0</td>\n",
       "      <td>0</td>\n",
       "      <td>0</td>\n",
       "      <td>0</td>\n",
       "      <td>0</td>\n",
       "      <td>0</td>\n",
       "      <td>0</td>\n",
       "      <td>0</td>\n",
       "    </tr>\n",
       "    <tr>\n",
       "      <th>2</th>\n",
       "      <td>1008016</td>\n",
       "      <td>0.560976</td>\n",
       "      <td>59.379539</td>\n",
       "      <td>27562.914252</td>\n",
       "      <td>0.594624</td>\n",
       "      <td>11.774890</td>\n",
       "      <td>5.937797</td>\n",
       "      <td>0.544744</td>\n",
       "      <td>0.486167</td>\n",
       "      <td>249.798771</td>\n",
       "      <td>...</td>\n",
       "      <td>0</td>\n",
       "      <td>0</td>\n",
       "      <td>0</td>\n",
       "      <td>0</td>\n",
       "      <td>0</td>\n",
       "      <td>0</td>\n",
       "      <td>0</td>\n",
       "      <td>0</td>\n",
       "      <td>0</td>\n",
       "      <td>0</td>\n",
       "    </tr>\n",
       "    <tr>\n",
       "      <th>3</th>\n",
       "      <td>1007012</td>\n",
       "      <td>0.565910</td>\n",
       "      <td>59.952390</td>\n",
       "      <td>20352.232905</td>\n",
       "      <td>0.837700</td>\n",
       "      <td>11.613621</td>\n",
       "      <td>10.067882</td>\n",
       "      <td>0.691641</td>\n",
       "      <td>0.523441</td>\n",
       "      <td>211.505060</td>\n",
       "      <td>...</td>\n",
       "      <td>0</td>\n",
       "      <td>0</td>\n",
       "      <td>0</td>\n",
       "      <td>0</td>\n",
       "      <td>0</td>\n",
       "      <td>0</td>\n",
       "      <td>0</td>\n",
       "      <td>0</td>\n",
       "      <td>0</td>\n",
       "      <td>0</td>\n",
       "    </tr>\n",
       "    <tr>\n",
       "      <th>4</th>\n",
       "      <td>1013042</td>\n",
       "      <td>0.588274</td>\n",
       "      <td>55.428320</td>\n",
       "      <td>23959.704016</td>\n",
       "      <td>0.520579</td>\n",
       "      <td>10.392416</td>\n",
       "      <td>6.374637</td>\n",
       "      <td>0.530676</td>\n",
       "      <td>0.580418</td>\n",
       "      <td>234.721069</td>\n",
       "      <td>...</td>\n",
       "      <td>0</td>\n",
       "      <td>0</td>\n",
       "      <td>0</td>\n",
       "      <td>0</td>\n",
       "      <td>0</td>\n",
       "      <td>0</td>\n",
       "      <td>0</td>\n",
       "      <td>1</td>\n",
       "      <td>0</td>\n",
       "      <td>0</td>\n",
       "    </tr>\n",
       "    <tr>\n",
       "      <th>...</th>\n",
       "      <td>...</td>\n",
       "      <td>...</td>\n",
       "      <td>...</td>\n",
       "      <td>...</td>\n",
       "      <td>...</td>\n",
       "      <td>...</td>\n",
       "      <td>...</td>\n",
       "      <td>...</td>\n",
       "      <td>...</td>\n",
       "      <td>...</td>\n",
       "      <td>...</td>\n",
       "      <td>...</td>\n",
       "      <td>...</td>\n",
       "      <td>...</td>\n",
       "      <td>...</td>\n",
       "      <td>...</td>\n",
       "      <td>...</td>\n",
       "      <td>...</td>\n",
       "      <td>...</td>\n",
       "      <td>...</td>\n",
       "      <td>...</td>\n",
       "    </tr>\n",
       "    <tr>\n",
       "      <th>885</th>\n",
       "      <td>1016064</td>\n",
       "      <td>0.859797</td>\n",
       "      <td>75.291914</td>\n",
       "      <td>18170.157548</td>\n",
       "      <td>0.707996</td>\n",
       "      <td>11.154777</td>\n",
       "      <td>4.190958</td>\n",
       "      <td>0.701760</td>\n",
       "      <td>0.540954</td>\n",
       "      <td>212.874869</td>\n",
       "      <td>...</td>\n",
       "      <td>0</td>\n",
       "      <td>0</td>\n",
       "      <td>0</td>\n",
       "      <td>0</td>\n",
       "      <td>0</td>\n",
       "      <td>0</td>\n",
       "      <td>0</td>\n",
       "      <td>0</td>\n",
       "      <td>0</td>\n",
       "      <td>0</td>\n",
       "    </tr>\n",
       "    <tr>\n",
       "      <th>886</th>\n",
       "      <td>1016064</td>\n",
       "      <td>0.912304</td>\n",
       "      <td>72.601017</td>\n",
       "      <td>19767.681597</td>\n",
       "      <td>0.715522</td>\n",
       "      <td>13.126625</td>\n",
       "      <td>10.552630</td>\n",
       "      <td>0.732641</td>\n",
       "      <td>0.622619</td>\n",
       "      <td>190.209811</td>\n",
       "      <td>...</td>\n",
       "      <td>0</td>\n",
       "      <td>0</td>\n",
       "      <td>0</td>\n",
       "      <td>0</td>\n",
       "      <td>0</td>\n",
       "      <td>0</td>\n",
       "      <td>0</td>\n",
       "      <td>0</td>\n",
       "      <td>0</td>\n",
       "      <td>0</td>\n",
       "    </tr>\n",
       "    <tr>\n",
       "      <th>887</th>\n",
       "      <td>1016064</td>\n",
       "      <td>1.090993</td>\n",
       "      <td>88.276857</td>\n",
       "      <td>31700.561656</td>\n",
       "      <td>0.957858</td>\n",
       "      <td>19.425120</td>\n",
       "      <td>11.120741</td>\n",
       "      <td>1.092724</td>\n",
       "      <td>0.974172</td>\n",
       "      <td>128.115014</td>\n",
       "      <td>...</td>\n",
       "      <td>0</td>\n",
       "      <td>0</td>\n",
       "      <td>0</td>\n",
       "      <td>0</td>\n",
       "      <td>0</td>\n",
       "      <td>0</td>\n",
       "      <td>0</td>\n",
       "      <td>0</td>\n",
       "      <td>0</td>\n",
       "      <td>0</td>\n",
       "    </tr>\n",
       "    <tr>\n",
       "      <th>888</th>\n",
       "      <td>1016064</td>\n",
       "      <td>1.005144</td>\n",
       "      <td>82.100572</td>\n",
       "      <td>25561.963151</td>\n",
       "      <td>0.751660</td>\n",
       "      <td>16.198364</td>\n",
       "      <td>13.756741</td>\n",
       "      <td>0.819249</td>\n",
       "      <td>0.884783</td>\n",
       "      <td>156.160418</td>\n",
       "      <td>...</td>\n",
       "      <td>0</td>\n",
       "      <td>0</td>\n",
       "      <td>0</td>\n",
       "      <td>0</td>\n",
       "      <td>0</td>\n",
       "      <td>0</td>\n",
       "      <td>0</td>\n",
       "      <td>0</td>\n",
       "      <td>0</td>\n",
       "      <td>0</td>\n",
       "    </tr>\n",
       "    <tr>\n",
       "      <th>889</th>\n",
       "      <td>1016064</td>\n",
       "      <td>0.750000</td>\n",
       "      <td>66.645130</td>\n",
       "      <td>13093.418336</td>\n",
       "      <td>0.510261</td>\n",
       "      <td>14.718036</td>\n",
       "      <td>10.995976</td>\n",
       "      <td>0.716301</td>\n",
       "      <td>0.711468</td>\n",
       "      <td>205.213294</td>\n",
       "      <td>...</td>\n",
       "      <td>0</td>\n",
       "      <td>0</td>\n",
       "      <td>0</td>\n",
       "      <td>0</td>\n",
       "      <td>0</td>\n",
       "      <td>0</td>\n",
       "      <td>0</td>\n",
       "      <td>0</td>\n",
       "      <td>0</td>\n",
       "      <td>0</td>\n",
       "    </tr>\n",
       "  </tbody>\n",
       "</table>\n",
       "<p>890 rows × 260 columns</p>\n",
       "</div>"
      ],
      "text/plain": [
       "     galactic year  existence expectancy index  existence expectancy at birth  \\\n",
       "0          1007012                    0.456086                      51.562543   \n",
       "1          1007012                    0.529835                      57.228262   \n",
       "2          1008016                    0.560976                      59.379539   \n",
       "3          1007012                    0.565910                      59.952390   \n",
       "4          1013042                    0.588274                      55.428320   \n",
       "..             ...                         ...                            ...   \n",
       "885        1016064                    0.859797                      75.291914   \n",
       "886        1016064                    0.912304                      72.601017   \n",
       "887        1016064                    1.090993                      88.276857   \n",
       "888        1016064                    1.005144                      82.100572   \n",
       "889        1016064                    0.750000                      66.645130   \n",
       "\n",
       "     Gross income per capita  Income Index  \\\n",
       "0               12236.576447      0.593325   \n",
       "1                3431.883825      0.675407   \n",
       "2               27562.914252      0.594624   \n",
       "3               20352.232905      0.837700   \n",
       "4               23959.704016      0.520579   \n",
       "..                       ...           ...   \n",
       "885             18170.157548      0.707996   \n",
       "886             19767.681597      0.715522   \n",
       "887             31700.561656      0.957858   \n",
       "888             25561.963151      0.751660   \n",
       "889             13093.418336      0.510261   \n",
       "\n",
       "     Expected years of education (galactic years)  \\\n",
       "0                                       10.414164   \n",
       "1                                        7.239485   \n",
       "2                                       11.774890   \n",
       "3                                       11.613621   \n",
       "4                                       10.392416   \n",
       "..                                            ...   \n",
       "885                                     11.154777   \n",
       "886                                     13.126625   \n",
       "887                                     19.425120   \n",
       "888                                     16.198364   \n",
       "889                                     14.718036   \n",
       "\n",
       "     Mean years of education (galactic years)  \\\n",
       "0                                   10.699072   \n",
       "1                                    5.311122   \n",
       "2                                    5.937797   \n",
       "3                                   10.067882   \n",
       "4                                    6.374637   \n",
       "..                                        ...   \n",
       "885                                  4.190958   \n",
       "886                                 10.552630   \n",
       "887                                 11.120741   \n",
       "888                                 13.756741   \n",
       "889                                 10.995976   \n",
       "\n",
       "     Intergalactic Development Index (IDI)  Education Index  \\\n",
       "0                                 0.547114         0.556267   \n",
       "1                                 0.497688         0.409969   \n",
       "2                                 0.544744         0.486167   \n",
       "3                                 0.691641         0.523441   \n",
       "4                                 0.530676         0.580418   \n",
       "..                                     ...              ...   \n",
       "885                               0.701760         0.540954   \n",
       "886                               0.732641         0.622619   \n",
       "887                               1.092724         0.974172   \n",
       "888                               0.819249         0.884783   \n",
       "889                               0.716301         0.711468   \n",
       "\n",
       "     Intergalactic Development Index (IDI), Rank  ...  galaxy_UGCA 292  \\\n",
       "0                                     232.621842  ...                0   \n",
       "1                                     247.580771  ...                0   \n",
       "2                                     249.798771  ...                0   \n",
       "3                                     211.505060  ...                0   \n",
       "4                                     234.721069  ...                0   \n",
       "..                                           ...  ...              ...   \n",
       "885                                   212.874869  ...                0   \n",
       "886                                   190.209811  ...                0   \n",
       "887                                   128.115014  ...                0   \n",
       "888                                   156.160418  ...                0   \n",
       "889                                   205.213294  ...                0   \n",
       "\n",
       "     galaxy_UGCA 438 (ESO 407-018)  galaxy_UGCA 86  galaxy_UGCA 92  \\\n",
       "0                                0               0               0   \n",
       "1                                0               0               0   \n",
       "2                                0               0               0   \n",
       "3                                0               0               0   \n",
       "4                                0               0               0   \n",
       "..                             ...             ...             ...   \n",
       "885                              0               0               0   \n",
       "886                              0               0               0   \n",
       "887                              0               0               0   \n",
       "888                              0               0               0   \n",
       "889                              0               0               0   \n",
       "\n",
       "     galaxy_Ursa Major I Dwarf (UMa I dSph)  galaxy_Ursa Major II Dwarf  \\\n",
       "0                                         0                           0   \n",
       "1                                         0                           0   \n",
       "2                                         0                           0   \n",
       "3                                         0                           0   \n",
       "4                                         0                           0   \n",
       "..                                      ...                         ...   \n",
       "885                                       0                           0   \n",
       "886                                       0                           0   \n",
       "887                                       0                           0   \n",
       "888                                       0                           0   \n",
       "889                                       0                           0   \n",
       "\n",
       "     galaxy_Ursa Minor Dwarf  galaxy_Virgo I  galaxy_Willman 1  \\\n",
       "0                          0               0                 0   \n",
       "1                          0               0                 0   \n",
       "2                          0               0                 0   \n",
       "3                          0               0                 0   \n",
       "4                          0               1                 0   \n",
       "..                       ...             ...               ...   \n",
       "885                        0               0                 0   \n",
       "886                        0               0                 0   \n",
       "887                        0               0                 0   \n",
       "888                        0               0                 0   \n",
       "889                        0               0                 0   \n",
       "\n",
       "     galaxy_Wolf-Lundmark-Melotte (WLM, DDO 221)  \n",
       "0                                              0  \n",
       "1                                              0  \n",
       "2                                              0  \n",
       "3                                              0  \n",
       "4                                              0  \n",
       "..                                           ...  \n",
       "885                                            0  \n",
       "886                                            0  \n",
       "887                                            0  \n",
       "888                                            0  \n",
       "889                                            0  \n",
       "\n",
       "[890 rows x 260 columns]"
      ]
     },
     "execution_count": 5,
     "metadata": {},
     "output_type": "execute_result"
    }
   ],
   "source": [
    "df_test"
   ]
  },
  {
   "cell_type": "code",
   "execution_count": 6,
   "metadata": {
    "ExecuteTime": {
     "end_time": "2020-06-08T21:11:56.165126Z",
     "start_time": "2020-06-08T21:11:56.156871Z"
    }
   },
   "outputs": [
    {
     "name": "stdout",
     "output_type": "stream",
     "text": [
      "75.75757575757575 54.61165048543689\n"
     ]
    }
   ],
   "source": [
    "# creating the energy allocation - mean allocation\n",
    "\n",
    "# amount for galaxies with amount below 0.7\n",
    "bottom10 = 50000*0.1/len(df_test[df_test['existence expectancy index']<0.7])\n",
    "topenergy = 50000*0.9/len(df_test[~(df_test['existence expectancy index']<0.7)])\n",
    "print(bottom10,topenergy)"
   ]
  },
  {
   "cell_type": "code",
   "execution_count": 7,
   "metadata": {
    "ExecuteTime": {
     "end_time": "2020-06-08T21:11:56.482873Z",
     "start_time": "2020-06-08T21:11:56.478582Z"
    }
   },
   "outputs": [],
   "source": [
    "energy_allocation = df_test['existence expectancy index'].apply(lambda x: bottom10 if x<0.7 else topenergy)"
   ]
  },
  {
   "cell_type": "code",
   "execution_count": 8,
   "metadata": {
    "ExecuteTime": {
     "end_time": "2020-06-08T21:11:56.765729Z",
     "start_time": "2020-06-08T21:11:56.762012Z"
    }
   },
   "outputs": [],
   "source": [
    "submission_df['opt_pred'] = energy_allocation"
   ]
  },
  {
   "cell_type": "code",
   "execution_count": 9,
   "metadata": {
    "ExecuteTime": {
     "end_time": "2020-06-08T21:11:57.077817Z",
     "start_time": "2020-06-08T21:11:57.057433Z"
    }
   },
   "outputs": [],
   "source": [
    "submission_df.reset_index(inplace=True)\n",
    "submission_df.to_csv('submission1.csv',index=False)"
   ]
  },
  {
   "cell_type": "code",
   "execution_count": 10,
   "metadata": {
    "ExecuteTime": {
     "end_time": "2020-06-08T21:11:57.479108Z",
     "start_time": "2020-06-08T21:11:57.457957Z"
    }
   },
   "outputs": [
    {
     "data": {
      "text/html": [
       "<div>\n",
       "<style scoped>\n",
       "    .dataframe tbody tr th:only-of-type {\n",
       "        vertical-align: middle;\n",
       "    }\n",
       "\n",
       "    .dataframe tbody tr th {\n",
       "        vertical-align: top;\n",
       "    }\n",
       "\n",
       "    .dataframe thead th {\n",
       "        text-align: right;\n",
       "    }\n",
       "</style>\n",
       "<table border=\"1\" class=\"dataframe\">\n",
       "  <thead>\n",
       "    <tr style=\"text-align: right;\">\n",
       "      <th></th>\n",
       "      <th>index</th>\n",
       "      <th>pred</th>\n",
       "      <th>opt_pred</th>\n",
       "    </tr>\n",
       "  </thead>\n",
       "  <tbody>\n",
       "    <tr>\n",
       "      <th>0</th>\n",
       "      <td>0</td>\n",
       "      <td>0.042958</td>\n",
       "      <td>75.757576</td>\n",
       "    </tr>\n",
       "    <tr>\n",
       "      <th>1</th>\n",
       "      <td>1</td>\n",
       "      <td>0.040278</td>\n",
       "      <td>75.757576</td>\n",
       "    </tr>\n",
       "    <tr>\n",
       "      <th>2</th>\n",
       "      <td>2</td>\n",
       "      <td>0.040578</td>\n",
       "      <td>75.757576</td>\n",
       "    </tr>\n",
       "    <tr>\n",
       "      <th>3</th>\n",
       "      <td>3</td>\n",
       "      <td>0.039974</td>\n",
       "      <td>75.757576</td>\n",
       "    </tr>\n",
       "    <tr>\n",
       "      <th>4</th>\n",
       "      <td>4</td>\n",
       "      <td>0.034631</td>\n",
       "      <td>75.757576</td>\n",
       "    </tr>\n",
       "    <tr>\n",
       "      <th>...</th>\n",
       "      <td>...</td>\n",
       "      <td>...</td>\n",
       "      <td>...</td>\n",
       "    </tr>\n",
       "    <tr>\n",
       "      <th>885</th>\n",
       "      <td>885</td>\n",
       "      <td>0.028160</td>\n",
       "      <td>54.611650</td>\n",
       "    </tr>\n",
       "    <tr>\n",
       "      <th>886</th>\n",
       "      <td>886</td>\n",
       "      <td>0.034358</td>\n",
       "      <td>54.611650</td>\n",
       "    </tr>\n",
       "    <tr>\n",
       "      <th>887</th>\n",
       "      <td>887</td>\n",
       "      <td>0.068576</td>\n",
       "      <td>54.611650</td>\n",
       "    </tr>\n",
       "    <tr>\n",
       "      <th>888</th>\n",
       "      <td>888</td>\n",
       "      <td>0.063241</td>\n",
       "      <td>54.611650</td>\n",
       "    </tr>\n",
       "    <tr>\n",
       "      <th>889</th>\n",
       "      <td>889</td>\n",
       "      <td>0.029399</td>\n",
       "      <td>54.611650</td>\n",
       "    </tr>\n",
       "  </tbody>\n",
       "</table>\n",
       "<p>890 rows × 3 columns</p>\n",
       "</div>"
      ],
      "text/plain": [
       "     index      pred   opt_pred\n",
       "0        0  0.042958  75.757576\n",
       "1        1  0.040278  75.757576\n",
       "2        2  0.040578  75.757576\n",
       "3        3  0.039974  75.757576\n",
       "4        4  0.034631  75.757576\n",
       "..     ...       ...        ...\n",
       "885    885  0.028160  54.611650\n",
       "886    886  0.034358  54.611650\n",
       "887    887  0.068576  54.611650\n",
       "888    888  0.063241  54.611650\n",
       "889    889  0.029399  54.611650\n",
       "\n",
       "[890 rows x 3 columns]"
      ]
     },
     "execution_count": 10,
     "metadata": {},
     "output_type": "execute_result"
    }
   ],
   "source": [
    "submission_df"
   ]
  },
  {
   "cell_type": "markdown",
   "metadata": {},
   "source": [
    "## Playing around with optimisation"
   ]
  },
  {
   "cell_type": "code",
   "execution_count": 11,
   "metadata": {
    "ExecuteTime": {
     "end_time": "2020-06-08T21:16:11.015747Z",
     "start_time": "2020-06-08T21:16:10.999777Z"
    }
   },
   "outputs": [],
   "source": [
    "submission_df['index_increase'] = submission_df.opt_pred*(-np.log(submission_df.pred+0.01)+3)**2/1000"
   ]
  },
  {
   "cell_type": "code",
   "execution_count": 13,
   "metadata": {
    "ExecuteTime": {
     "end_time": "2020-06-08T21:21:47.151351Z",
     "start_time": "2020-06-08T21:21:47.138820Z"
    }
   },
   "outputs": [
    {
     "data": {
      "text/plain": [
       "1597.651362778016"
      ]
     },
     "execution_count": 13,
     "metadata": {},
     "output_type": "execute_result"
    }
   ],
   "source": [
    "submission_df.index_increase.sum()"
   ]
  },
  {
   "cell_type": "code",
   "execution_count": 16,
   "metadata": {
    "ExecuteTime": {
     "end_time": "2020-06-08T21:25:58.733539Z",
     "start_time": "2020-06-08T21:25:58.719536Z"
    }
   },
   "outputs": [],
   "source": [
    "test1 = submission_df.sort_values(\"pred\")"
   ]
  },
  {
   "cell_type": "code",
   "execution_count": 15,
   "metadata": {
    "ExecuteTime": {
     "end_time": "2020-06-08T21:24:38.856230Z",
     "start_time": "2020-06-08T21:24:38.831835Z"
    }
   },
   "outputs": [
    {
     "data": {
      "text/plain": [
       "Int64Index([ 0,  1,  2,  3,  4,  5,  6,  7,  8,  9, 10, 11, 12, 13, 14, 15, 16,\n",
       "            17, 18, 19, 20, 21, 22, 23, 24, 25, 26, 27, 28, 29, 30, 31, 32, 33,\n",
       "            34, 35, 36, 37, 38, 39, 40, 41, 42, 43, 44, 45, 46, 47, 48, 49, 50,\n",
       "            51, 52, 53, 54, 55, 56, 57, 58, 59, 60, 61, 62, 63, 64, 65],\n",
       "           dtype='int64')"
      ]
     },
     "execution_count": 15,
     "metadata": {},
     "output_type": "execute_result"
    }
   ],
   "source": [
    "df_test[df_test['existence expectancy index']<0.7].index"
   ]
  },
  {
   "cell_type": "code",
   "execution_count": 22,
   "metadata": {
    "ExecuteTime": {
     "end_time": "2020-06-08T21:45:08.166399Z",
     "start_time": "2020-06-08T21:45:08.141267Z"
    }
   },
   "outputs": [
    {
     "name": "stderr",
     "output_type": "stream",
     "text": [
      "/Users/lukebetham/anaconda3/envs/main_env/lib/python3.8/site-packages/pandas/core/indexing.py:671: SettingWithCopyWarning: \n",
      "A value is trying to be set on a copy of a slice from a DataFrame\n",
      "\n",
      "See the caveats in the documentation: https://pandas.pydata.org/pandas-docs/stable/user_guide/indexing.html#returning-a-view-versus-a-copy\n",
      "  self._setitem_with_indexer(indexer, value)\n"
     ]
    },
    {
     "data": {
      "text/plain": [
       "1811.8798144030254"
      ]
     },
     "execution_count": 22,
     "metadata": {},
     "output_type": "execute_result"
    }
   ],
   "source": [
    "test1.opt_pred.iloc[:500] = 100\n",
    "test1.opt_pred.iloc[500:] = 0\n",
    "test1['index_increase'] = test1.opt_pred*(-np.log(submission_df.pred+0.01)+3)**2/1000\n",
    "test1.index_increase.sum()"
   ]
  },
  {
   "cell_type": "code",
   "execution_count": null,
   "metadata": {},
   "outputs": [],
   "source": [
    "test1."
   ]
  }
 ],
 "metadata": {
  "kernelspec": {
   "display_name": "main_python_env",
   "language": "python",
   "name": "main_env"
  },
  "language_info": {
   "codemirror_mode": {
    "name": "ipython",
    "version": 3
   },
   "file_extension": ".py",
   "mimetype": "text/x-python",
   "name": "python",
   "nbconvert_exporter": "python",
   "pygments_lexer": "ipython3",
   "version": "3.8.2"
  },
  "toc": {
   "base_numbering": 1,
   "nav_menu": {},
   "number_sections": true,
   "sideBar": true,
   "skip_h1_title": false,
   "title_cell": "Table of Contents",
   "title_sidebar": "Contents",
   "toc_cell": false,
   "toc_position": {},
   "toc_section_display": true,
   "toc_window_display": false
  },
  "varInspector": {
   "cols": {
    "lenName": 16,
    "lenType": 16,
    "lenVar": 40
   },
   "kernels_config": {
    "python": {
     "delete_cmd_postfix": "",
     "delete_cmd_prefix": "del ",
     "library": "var_list.py",
     "varRefreshCmd": "print(var_dic_list())"
    },
    "r": {
     "delete_cmd_postfix": ") ",
     "delete_cmd_prefix": "rm(",
     "library": "var_list.r",
     "varRefreshCmd": "cat(var_dic_list()) "
    }
   },
   "types_to_exclude": [
    "module",
    "function",
    "builtin_function_or_method",
    "instance",
    "_Feature"
   ],
   "window_display": false
  }
 },
 "nbformat": 4,
 "nbformat_minor": 4
}
